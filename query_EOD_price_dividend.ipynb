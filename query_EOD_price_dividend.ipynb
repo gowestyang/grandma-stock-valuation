{
 "cells": [
  {
   "cell_type": "code",
   "execution_count": 1,
   "metadata": {},
   "outputs": [],
   "source": [
    "import numpy as np\n",
    "import pandas as pd\n",
    "import time\n",
    "from utilities_logging import StandardLogger\n",
    "from utilities_yahoo_query import QueryYahooEOD, QueryYahooDividend\n",
    "\n",
    "objLogger = StandardLogger('log/watchlist_EOD_trade_adj_dividend_yahoo')\n",
    "def logMessage(msg, level=20, end='\\n'):\n",
    "    objLogger.logPrint(msg, level=level, end=end)\n"
   ]
  },
  {
   "cell_type": "code",
   "execution_count": 2,
   "metadata": {},
   "outputs": [],
   "source": [
    "lTickerSpdrSector = ['XLY','XLP','XLE','XLF','XLV','XLI','XLB','XLK','XLU','XLRE','XLC','XLSR']\n",
    "lTickerSp500 = ['IVV']\n",
    "\n",
    "lTicker = lTickerSp500 + lTickerSpdrSector\n"
   ]
  },
  {
   "cell_type": "code",
   "execution_count": 3,
   "metadata": {},
   "outputs": [
    {
     "output_type": "stream",
     "name": "stdout",
     "text": [
      "IVV: To query EOD data from 1999-01-01 00:00:00(915148800) to 2021-08-01 00:00:00(1627776000).\n",
      "IVV: Queried EOD data contains 5333 rows over 5333 dates from 2000-05-19 to 2021-07-30.\n",
      "IVV: To query dividend data from 1999-01-01 00:00:00(915148800) to 2021-08-01 00:00:00(1627776000).\n",
      "IVV: Queried dividend data contains 87 rows over 87 dates from 2000-06-21 to 2021-06-10.\n",
      "XLY: To query EOD data from 1999-01-01 00:00:00(915148800) to 2021-08-01 00:00:00(1627776000).\n",
      "XLY: Queried EOD data contains 5681 rows over 5681 dates from 1999-01-04 to 2021-07-30.\n",
      "XLY: To query dividend data from 1999-01-01 00:00:00(915148800) to 2021-08-01 00:00:00(1627776000).\n",
      "XLY: Queried dividend data contains 90 rows over 90 dates from 1999-03-19 to 2021-06-21.\n",
      "XLP: To query EOD data from 1999-01-01 00:00:00(915148800) to 2021-08-01 00:00:00(1627776000).\n",
      "XLP: Queried EOD data contains 5681 rows over 5681 dates from 1999-01-04 to 2021-07-30.\n",
      "XLP: To query dividend data from 1999-01-01 00:00:00(915148800) to 2021-08-01 00:00:00(1627776000).\n",
      "XLP: Queried dividend data contains 90 rows over 90 dates from 1999-03-19 to 2021-06-21.\n",
      "XLE: To query EOD data from 1999-01-01 00:00:00(915148800) to 2021-08-01 00:00:00(1627776000).\n",
      "XLE: Queried EOD data contains 5681 rows over 5681 dates from 1999-01-04 to 2021-07-30.\n",
      "XLE: To query dividend data from 1999-01-01 00:00:00(915148800) to 2021-08-01 00:00:00(1627776000).\n",
      "XLE: Queried dividend data contains 91 rows over 91 dates from 1999-03-19 to 2021-06-21.\n",
      "XLF: To query EOD data from 1999-01-01 00:00:00(915148800) to 2021-08-01 00:00:00(1627776000).\n",
      "XLF: Queried EOD data contains 5681 rows over 5681 dates from 1999-01-04 to 2021-07-30.\n",
      "XLF: To query dividend data from 1999-01-01 00:00:00(915148800) to 2021-08-01 00:00:00(1627776000).\n",
      "XLF: Queried dividend data contains 90 rows over 90 dates from 1999-03-19 to 2021-06-21.\n",
      "XLV: To query EOD data from 1999-01-01 00:00:00(915148800) to 2021-08-01 00:00:00(1627776000).\n",
      "XLV: Queried EOD data contains 5681 rows over 5681 dates from 1999-01-04 to 2021-07-30.\n",
      "XLV: To query dividend data from 1999-01-01 00:00:00(915148800) to 2021-08-01 00:00:00(1627776000).\n",
      "XLV: Queried dividend data contains 85 rows over 85 dates from 1999-12-20 to 2021-06-21.\n",
      "XLI: To query EOD data from 1999-01-01 00:00:00(915148800) to 2021-08-01 00:00:00(1627776000).\n",
      "XLI: Queried EOD data contains 5681 rows over 5681 dates from 1999-01-04 to 2021-07-30.\n",
      "XLI: To query dividend data from 1999-01-01 00:00:00(915148800) to 2021-08-01 00:00:00(1627776000).\n",
      "XLI: Queried dividend data contains 89 rows over 89 dates from 1999-03-19 to 2021-06-21.\n",
      "XLB: To query EOD data from 1999-01-01 00:00:00(915148800) to 2021-08-01 00:00:00(1627776000).\n",
      "XLB: Queried EOD data contains 5681 rows over 5681 dates from 1999-01-04 to 2021-07-30.\n",
      "XLB: To query dividend data from 1999-01-01 00:00:00(915148800) to 2021-08-01 00:00:00(1627776000).\n",
      "XLB: Queried dividend data contains 90 rows over 90 dates from 1999-03-19 to 2021-06-21.\n",
      "XLK: To query EOD data from 1999-01-01 00:00:00(915148800) to 2021-08-01 00:00:00(1627776000).\n",
      "XLK: Queried EOD data contains 5681 rows over 5681 dates from 1999-01-04 to 2021-07-30.\n",
      "XLK: To query dividend data from 1999-01-01 00:00:00(915148800) to 2021-08-01 00:00:00(1627776000).\n",
      "XLK: Queried dividend data contains 64 rows over 64 dates from 1999-12-17 to 2021-06-21.\n",
      "XLU: To query EOD data from 1999-01-01 00:00:00(915148800) to 2021-08-01 00:00:00(1627776000).\n",
      "XLU: Queried EOD data contains 5681 rows over 5681 dates from 1999-01-04 to 2021-07-30.\n",
      "XLU: To query dividend data from 1999-01-01 00:00:00(915148800) to 2021-08-01 00:00:00(1627776000).\n",
      "XLU: Queried dividend data contains 91 rows over 91 dates from 1999-03-19 to 2021-06-21.\n",
      "XLRE: To query EOD data from 1999-01-01 00:00:00(915148800) to 2021-08-01 00:00:00(1627776000).\n",
      "XLRE: Queried EOD data contains 1463 rows over 1463 dates from 2015-10-08 to 2021-07-30.\n",
      "XLRE: To query dividend data from 1999-01-01 00:00:00(915148800) to 2021-08-01 00:00:00(1627776000).\n",
      "XLRE: Queried dividend data contains 23 rows over 23 dates from 2015-12-18 to 2021-06-21.\n",
      "XLC: To query EOD data from 1999-01-01 00:00:00(915148800) to 2021-08-01 00:00:00(1627776000).\n",
      "XLC: Queried EOD data contains 785 rows over 785 dates from 2018-06-19 to 2021-07-30.\n",
      "XLC: To query dividend data from 1999-01-01 00:00:00(915148800) to 2021-08-01 00:00:00(1627776000).\n",
      "XLC: Queried dividend data contains 12 rows over 12 dates from 2018-09-21 to 2021-06-21.\n",
      "XLSR: To query EOD data from 1999-01-01 00:00:00(915148800) to 2021-08-01 00:00:00(1627776000).\n",
      "XLSR: Queried EOD data contains 587 rows over 587 dates from 2019-04-03 to 2021-07-30.\n",
      "XLSR: To query dividend data from 1999-01-01 00:00:00(915148800) to 2021-08-01 00:00:00(1627776000).\n",
      "XLSR: Queried dividend data contains 9 rows over 9 dates from 2019-06-25 to 2021-06-22.\n",
      "Queried EOD data contains 59297 rows over 13 tickers, 5681 dates from 1999-01-04 to 2021-07-30.\n",
      "Queried dividend data contains 911 rows over 13 tickers, 189 dates from 1999-03-19 to 2021-06-22.\n"
     ]
    }
   ],
   "source": [
    "lEOD = []\n",
    "lDiv = []\n",
    "for ticker in lTicker:\n",
    "    dfEOD = QueryYahooEOD(ticker, '1999-01-01', '2021-08-01', printfunc=logMessage)\n",
    "    time.sleep(5)\n",
    "    dfDiv = QueryYahooDividend(ticker, '1999-01-01', '2021-08-01', printfunc=logMessage)\n",
    "    time.sleep(5)\n",
    "\n",
    "    dfEOD['ticker'] = ticker\n",
    "    dfDiv['ticker'] = ticker\n",
    "\n",
    "    colsFirst = ['date', 'ticker']\n",
    "    dfEOD = dfEOD[colsFirst+list(dfEOD.columns.drop(colsFirst))]\n",
    "    dfDiv = dfDiv[colsFirst+list(dfDiv.columns.drop(colsFirst))]\n",
    "\n",
    "    lEOD.append(dfEOD)\n",
    "    lDiv.append(dfDiv)\n",
    "\n",
    "dfEOD0 = pd.concat(lEOD).reset_index(drop=True)\n",
    "print(f\"Queried EOD data contains {len(dfEOD0)} rows over {dfEOD0['ticker'].nunique()} tickers, {dfEOD0['date'].nunique()} dates from {dfEOD0['date'].min().date()} to {dfEOD0['date'].max().date()}.\")\n",
    "dfEOD0.to_pickle('queried/EOD_SpdrSectorIVV_199901-202107_v20210731.pickle')\n",
    "\n",
    "dfDiv0 = pd.concat(lDiv).reset_index(drop=True)\n",
    "print(f\"Queried dividend data contains {len(dfDiv0)} rows over {dfDiv0['ticker'].nunique()} tickers, {dfDiv0['date'].nunique()} dates from {dfDiv0['date'].min().date()} to {dfDiv0['date'].max().date()}.\")\n",
    "dfDiv0.to_pickle('queried/Dividend_SpdrSectorIVV_199901-202107_v20210731.pickle')\n"
   ]
  },
  {
   "cell_type": "code",
   "execution_count": null,
   "metadata": {},
   "outputs": [],
   "source": [
    "\n"
   ]
  },
  {
   "cell_type": "code",
   "execution_count": null,
   "metadata": {},
   "outputs": [],
   "source": []
  },
  {
   "cell_type": "code",
   "execution_count": null,
   "metadata": {},
   "outputs": [],
   "source": []
  },
  {
   "cell_type": "code",
   "execution_count": null,
   "metadata": {},
   "outputs": [],
   "source": []
  },
  {
   "cell_type": "code",
   "execution_count": null,
   "metadata": {},
   "outputs": [],
   "source": []
  }
 ],
 "metadata": {
  "kernelspec": {
   "name": "python3",
   "display_name": "Python 3.8.5 64-bit ('base': conda)"
  },
  "language_info": {
   "codemirror_mode": {
    "name": "ipython",
    "version": 3
   },
   "file_extension": ".py",
   "mimetype": "text/x-python",
   "name": "python",
   "nbconvert_exporter": "python",
   "pygments_lexer": "ipython3",
   "version": "3.8.5"
  },
  "interpreter": {
   "hash": "1f2b3eeb8c8c57cc9fbb2de5c20e128904099953a55cc5a227bd47864e28a4ba"
  }
 },
 "nbformat": 4,
 "nbformat_minor": 2
}