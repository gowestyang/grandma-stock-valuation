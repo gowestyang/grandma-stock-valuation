{
 "cells": [
  {
   "cell_type": "markdown",
   "metadata": {},
   "source": [
    "# Example 2: Grandma Valuation\n",
    "\n",
    "This example demostrates how to use the Grandma Stock Valuation model to valuate a stock (instrument).\n",
    "* Load Data\n",
    "* Grandma Stock Valuation - the Basic Idea\n",
    "* Valuate IVV (SP500) ETF\n",
    "    * Over-Valued Years\n",
    "* Visualize the Valuation\n",
    "* Effect of the `recent_months` Argument\n",
    "* Valuate a Group of Instruments and Save Outputs\n",
    "* Limitations"
   ]
  },
  {
   "cell_type": "code",
   "execution_count": 1,
   "metadata": {},
   "outputs": [],
   "source": [
    "from grandma_stock_valuation import FileLogger, loadPacakgeData, GrandmaStockValuation, batchValuation\n",
    "\n",
    "# Refer to example_0_FileLogger.ipynb for details of the FileLogger.\n",
    "logger = FileLogger()\n",
    "logPrint = logger.logPandas"
   ]
  },
  {
   "cell_type": "markdown",
   "metadata": {},
   "source": [
    "### Load Data\n",
    "\n",
    "For this example, I will use the stored package data.\n",
    "\n",
    "To query data from Yahoo, please refer to *example_1_yahoo_data_loader.ipynb*."
   ]
  },
  {
   "cell_type": "code",
   "execution_count": 2,
   "metadata": {},
   "outputs": [
    {
     "name": "stdout",
     "output_type": "stream",
     "text": [
      "VPL data contains 4273 rows, 4273 dates from 2005-03-10 to 2022-02-28.\n",
      "IVV data contains 5479 rows, 5479 dates from 2000-05-19 to 2022-02-28.\n",
      "EEMA data contains 2530 rows, 2530 dates from 2012-02-09 to 2022-02-28.\n",
      "IEV data contains 5431 rows, 5431 dates from 2000-07-28 to 2022-02-28.\n"
     ]
    },
    {
     "data": {
      "text/plain": [
       "{'IVV': 'SP500',\n",
       " 'VPL': 'Developed Asia-Pacific',\n",
       " 'IEV': 'Europe',\n",
       " 'EEMA': 'Emerging Asia'}"
      ]
     },
     "execution_count": 2,
     "metadata": {},
     "output_type": "execute_result"
    }
   ],
   "source": [
    "d_instrument_data, d_instrument = loadPacakgeData(verbose=2)\n",
    "\n",
    "d_instrument"
   ]
  },
  {
   "cell_type": "code",
   "execution_count": 3,
   "metadata": {},
   "outputs": [
    {
     "name": "stderr",
     "output_type": "stream",
     "text": [
      "2022-03-02 09:05:40,326 INFO Keys of d_instrument_data: dict_keys(['VPL', 'IVV', 'EEMA', 'IEV'])\n",
      "2022-03-02 09:05:40,339 INFO IVV (SP500 ETF): \n",
      "        date       open       high        low      close  close_adj   volume\n",
      "0 2000-05-19  142.65625  142.65625  140.25000  140.68750  94.121216   775500\n",
      "1 2000-05-22  140.59375  140.59375  136.81250  139.81250  93.535789  1850600\n",
      "2 2000-05-23  140.21875  140.21875  137.68750  137.68750  92.114151   373900\n",
      "3 2000-05-24  137.75000  140.06250  136.65625  139.75000  93.494003   400300\n",
      "4 2000-05-25  140.03125  140.93750  137.87500  138.46875  92.636810    69600\n",
      "\n"
     ]
    }
   ],
   "source": [
    "logPrint(\"Keys of d_instrument_data:\", str(d_instrument_data.keys()))\n",
    "\n",
    "logPrint(\"IVV (SP500 ETF):\", d_instrument_data['IVV'].head())"
   ]
  },
  {
   "cell_type": "markdown",
   "metadata": {},
   "source": [
    "### Grandma Stock Valuation - the Basic Idea\n",
    "\n",
    "The Grandma Stock Valuation model is designed on a simple but powerful idea: valuate an instrument by comparing its current price against its historical trend.\n",
    "\n",
    "The model consists of the following steps:\n",
    "1. Fit a trend line on historical daily prices.\n",
    "2. Identify extreme prices as outliers.\n",
    "3. Remove the outliers and re-fit the trend line.\n",
    "4. Estimate the \"fair price\" based on the trend line.\n",
    "5. Valuation based on the actual price, fair price, and historical growth rate.\n",
    "\n",
    "All these steps have been implemented in the `GrandmaStockValuation` class.\n",
    "\n"
   ]
  },
  {
   "cell_type": "markdown",
   "metadata": {},
   "source": [
    "### Valuate IVV (SP500) ETF\n",
    "\n",
    "Let's start with SP500 as an example.\n",
    "\n",
    "At initialization, the `GrandmaStockValuation` class took the following arguments:\n",
    "* `recent_months` (int): Number of recent months, before `date_end`, to exclude from model fitting.<br>You may use it, if you think the recent market is so specail that you want to exclude the recent period from model fitting.<br>I will illustrate its effect in later sections.\n",
    "* `train_years` (int): Years of historical data, after excluding `recent_months`, for model fitting.<br>10-year is used as default to represent an economic cycle.\n",
    "* `date_end` (date): Data after this date will not be used.<br>This is for special use-case if you want to re-run the model asof a past date.<br>If None, the model will use the latest date in the input daily price data.\n",
    "* `verbose` (int): 2 to print detailed information; 1 to print high-level information; 0 to suppress print.\n",
    "* `printfunc` (function): default to `print`, and I will use `logPandas` here.\n",
    "\n",
    "The model will first set the last date as specified by `date_end`.<br>\n",
    "Then from the last date, move backward `recent_months` to exclude from model fitting.<br>\n",
    "Then move backward `train_years` as the period to fit the model."
   ]
  },
  {
   "cell_type": "code",
   "execution_count": 4,
   "metadata": {},
   "outputs": [],
   "source": [
    "grandma = GrandmaStockValuation(recent_months=0, train_years=10, date_end=None, verbose=2, printfunc=logPrint)"
   ]
  },
  {
   "cell_type": "markdown",
   "metadata": {},
   "source": [
    "Now let's provide the daily price of an ST500 ETF to the `fitTransform()` method, to fit the model and estimate trend.\n",
    "\n",
    "The `fitTransform()` method takes the following arguments:\n",
    "* `input_data` (pandas.DataFrame): Daily price data of the insturment.<br>It should contain a `date` column and a price column named by `price_col`.\n",
    "* `price_col` (str): The column name in `input_data` to indicate daily price.<br>I suggest to use the adjusted price.\n",
    "* `log` (bool): If True, fit log-linear regression. If False, fit linear regression.\n",
    "* `n_std` (float): Outliers are identified by as data points with residual outside `mean ± n_std * std`.\n",
    "\n",
    "Selection of arguments:\n",
    "* `log=True` fits log-linear regression, which aligns with common industry practice of \"% growth over a fixed period of time\".<br>On the other hand, there is no strong mathematical basis, and linear regression can sometimes fit better. Feel free to try it out by yourself.\n",
    "* `n_std=1.5`: lower `n_std` value will consider more prices as extreme values, which are excluded from model fitting.<br>The default value, 1.5, is a common practice without strong mathematical basis. Feel free to try other values.\n",
    "\n",
    "`fitTransform()` method will update the `_df_train` and `_df_recent` attributes, and return the class object with updated attributes."
   ]
  },
  {
   "cell_type": "code",
   "execution_count": 5,
   "metadata": {},
   "outputs": [
    {
     "name": "stderr",
     "output_type": "stream",
     "text": [
      "2022-03-02 09:05:40,492 INFO Train data contains 2516 rows over 2516 dates from 2012-03-01 to 2022-02-28.\n",
      "2022-03-02 09:05:40,495 INFO No recent data specified.\n",
      "2022-03-02 09:05:40,496 INFO Fit regression...\n",
      "2022-03-02 09:05:40,510 INFO 245 out of 2516 dates are outliers.\n",
      "2022-03-02 09:05:40,511 INFO Re-fit wihtout outliers...\n",
      "2022-03-02 09:05:40,520 INFO No recent data to estimate.\n",
      "2022-03-02 09:05:40,521 INFO done!\n"
     ]
    },
    {
     "data": {
      "text/html": [
       "<div>\n",
       "<style scoped>\n",
       "    .dataframe tbody tr th:only-of-type {\n",
       "        vertical-align: middle;\n",
       "    }\n",
       "\n",
       "    .dataframe tbody tr th {\n",
       "        vertical-align: top;\n",
       "    }\n",
       "\n",
       "    .dataframe thead th {\n",
       "        text-align: right;\n",
       "    }\n",
       "</style>\n",
       "<table border=\"1\" class=\"dataframe\">\n",
       "  <thead>\n",
       "    <tr style=\"text-align: right;\">\n",
       "      <th></th>\n",
       "      <th>date</th>\n",
       "      <th>price</th>\n",
       "      <th>x</th>\n",
       "      <th>trend</th>\n",
       "      <th>is_outlier</th>\n",
       "      <th>is_recent</th>\n",
       "    </tr>\n",
       "  </thead>\n",
       "  <tbody>\n",
       "    <tr>\n",
       "      <th>0</th>\n",
       "      <td>2012-03-01</td>\n",
       "      <td>114.176628</td>\n",
       "      <td>0</td>\n",
       "      <td>116.765871</td>\n",
       "      <td>False</td>\n",
       "      <td>False</td>\n",
       "    </tr>\n",
       "    <tr>\n",
       "      <th>1</th>\n",
       "      <td>2012-03-02</td>\n",
       "      <td>113.879234</td>\n",
       "      <td>1</td>\n",
       "      <td>116.824413</td>\n",
       "      <td>False</td>\n",
       "      <td>False</td>\n",
       "    </tr>\n",
       "    <tr>\n",
       "      <th>2</th>\n",
       "      <td>2012-03-05</td>\n",
       "      <td>113.408363</td>\n",
       "      <td>2</td>\n",
       "      <td>116.882986</td>\n",
       "      <td>False</td>\n",
       "      <td>False</td>\n",
       "    </tr>\n",
       "    <tr>\n",
       "      <th>3</th>\n",
       "      <td>2012-03-06</td>\n",
       "      <td>111.657005</td>\n",
       "      <td>3</td>\n",
       "      <td>116.941587</td>\n",
       "      <td>False</td>\n",
       "      <td>False</td>\n",
       "    </tr>\n",
       "    <tr>\n",
       "      <th>4</th>\n",
       "      <td>2012-03-07</td>\n",
       "      <td>112.491371</td>\n",
       "      <td>4</td>\n",
       "      <td>117.000218</td>\n",
       "      <td>False</td>\n",
       "      <td>False</td>\n",
       "    </tr>\n",
       "  </tbody>\n",
       "</table>\n",
       "</div>"
      ],
      "text/plain": [
       "        date       price  x       trend  is_outlier  is_recent\n",
       "0 2012-03-01  114.176628  0  116.765871       False      False\n",
       "1 2012-03-02  113.879234  1  116.824413       False      False\n",
       "2 2012-03-05  113.408363  2  116.882986       False      False\n",
       "3 2012-03-06  111.657005  3  116.941587       False      False\n",
       "4 2012-03-07  112.491371  4  117.000218       False      False"
      ]
     },
     "execution_count": 5,
     "metadata": {},
     "output_type": "execute_result"
    }
   ],
   "source": [
    "grandma.fitTransform(d_instrument_data['IVV'], price_col='close_adj', log=True, n_std=1.5)\n",
    "\n",
    "# let's take a look at _df_train, though it is designed for internal usage only - not to be exposed to users.\n",
    "grandma._df_train.head()"
   ]
  },
  {
   "cell_type": "markdown",
   "metadata": {},
   "source": [
    "Let's valuate SP500!\n",
    "\n",
    "The `evaluateValuation()` method takes only one argument:\n",
    "* `min_annual_return` (float): Minimum annual return required to calculate over-valued years. I will explain this below.\n",
    "\n",
    "`evaluateValuation()` returns a dictionary with the following keys:\n",
    "* `r2_train`: R2 of the fitted model - the higher, the better.<br>You may want to manually remove instruments with low R2 (i.e., less than 0.5), since the model cannot \"fit well\" on their price data. This is up to your decision.\n",
    "* `train_years`: number of years actually used to fit the model.<br>Althrough you have specified `train_years=10` at initialization, but the instrument may not have 10-year data, especailly for newly listed instruments.\n",
    "* `annualized_return`: this annualized return is derived from the fitted trend line (linear or log-linear), not the acutal price data.<br>As a result, recent fluctuations in price won't have big effect on this result.\n",
    "* `current_price`: the latest actual price in the input data.\n",
    "* `fair_price`: the latest estimated price, based on the fitted trend line.\n",
    "* `over_value_range`: `(current_price / fair_price) - 1`\n",
    "* `over_value_years`: see explaination below."
   ]
  },
  {
   "cell_type": "markdown",
   "metadata": {},
   "source": [
    "#### Over-Valued Years\n",
    "\n",
    "\"Over-valued years\" is an important mechanism to **consider growth in valuation**.\n",
    "* For example, if we have two instruments X and Y, both over-valued at 10%\n",
    "* X had annualized growth of 10%, while Y had annualized growth of only 1%.\n",
    "    * If the price does not change, it will take X 1-year to become not-over-valued, but it will take Y 10-year.\n",
    "* As a result, X is over-valued by 1-year, while Y is over-valued by 10-year.\n",
    "\n",
    "\n",
    "For over-valued instruments (`over_value_range>0`), `over_value_years = over_value_range / annualized_return`.\n",
    "\n",
    "For under-valued instruments (`over_value_range<0`), `over_value_years = over_value_range * annualized_return * 100`.<br>This fomulation has the following considerations:\n",
    "* Firstly, \"division\" changes to \"multiplication\" to handle the sign reversion of `over_value_range`.\n",
    "* \"multiplication\" also makes instruements with higher annualized return more under-valued.\n",
    "* Let's see several examples:\n",
    "\n",
    "```\n",
    "    over_value_range = 5%,  annualized_return = 10% ==> over_value_years = 0.5\n",
    "    over_value_range = -5%, annualized_return = 10% ==> over_value_years = -0.5\n",
    "    over_value_range = -5%, annualized_return = 20% ==> over_value_years = -1.0\n",
    "```\n",
    "\n",
    "Note that the math behind `over_value_years` leads to several **limitations**:\n",
    "* It cannot handle instruments with negative annualized growth.\n",
    "* It can only handle instruments with sufficent positive annualized growth, as specified by `min_annual_return` (default to 1%)\n",
    "\n",
    "For instruments which cannot be handled, the valuation will still be estimated, with `over_value_years` as `nan`."
   ]
  },
  {
   "cell_type": "code",
   "execution_count": 6,
   "metadata": {},
   "outputs": [
    {
     "name": "stderr",
     "output_type": "stream",
     "text": [
      "2022-03-02 09:05:40,622 INFO R2 train = 0.971, train years = 10.0, annualize return = 0.134.\n",
      "2022-03-02 09:05:40,623 INFO current price = 4.39e+02, fair price = 4.12e+02, over-value range = 0.0651, over-value years = 0.485.\n"
     ]
    },
    {
     "data": {
      "text/plain": [
       "{'r2_train': 0.9710536943366812,\n",
       " 'train_years': 10.002739726027396,\n",
       " 'annualized_return': 0.1343143168141876,\n",
       " 'current_price': 438.720001,\n",
       " 'fair_price': 411.90779633312866,\n",
       " 'over_value_range': 0.06509273411563954,\n",
       " 'over_value_years': 0.4846299014102107}"
      ]
     },
     "execution_count": 6,
     "metadata": {},
     "output_type": "execute_result"
    }
   ],
   "source": [
    "d_metrics = grandma.evaluateValuation(min_annual_return=0.01)\n",
    "\n",
    "d_metrics"
   ]
  },
  {
   "cell_type": "markdown",
   "metadata": {},
   "source": [
    "Let's take a closer look at the result:\n",
    "* `R2` is 0.97, which is very good.\n",
    "* `train_years` is 10: the model was fitted with 10 years' data.\n",
    "* `annualized_return` of SP500 was estimated as 13.4%\n",
    "    * By using adjusted price, this result also takes dividend into consideration.\n",
    "* As of 2022-02-28, SP500 was **over-valued by 6.5%, or 0.48 years**."
   ]
  },
  {
   "cell_type": "markdown",
   "metadata": {},
   "source": [
    "### Visualize the Valuation\n",
    "\n",
    "Of course we want visualization! The `plotTrendline()` method makes it handly for you.\n",
    "* It takes a `title` argument, which is the text to display as title in your chart.\n",
    "* Additional key-word arguments will be passed to plotly's `update_layout` function.\n",
    "\n",
    "The chart is very straight-forward:\n",
    "* One line of the actual daily prices.\n",
    "* The outliers are highlighted in red, which are extreme values not fitted by the model.\n",
    "* One fitted trend line."
   ]
  },
  {
   "cell_type": "code",
   "execution_count": null,
   "metadata": {},
   "outputs": [],
   "source": [
    "fig = grandma.plotTrendline(title=\"Grandma's View of SP500\", width=900, height=300)\n",
    "\n",
    "# You may need to run the following to display the chart in notebook.\n",
    "import plotly.io as pio\n",
    "pio.renderers.default = \"notebook_connected\"\n",
    "\n",
    "fig.show()"
   ]
  },
  {
   "cell_type": "markdown",
   "metadata": {},
   "source": [
    "![](./images/example_2_SP500.png)"
   ]
  },
  {
   "cell_type": "markdown",
   "metadata": {},
   "source": [
    "### Effect of the `recent_months` Argument\n",
    "\n",
    "Here I want to illustrate how the `recent_months` argument works.\n",
    "\n",
    "In the following example, I will set `recent_months=24`, to exclude the past 2-year from model fitting. You may want to do so, because in this case, the past 2-year was the Covid-19 period.\n",
    "\n",
    "On the other hand, I do not recommand this practice - it is better to rely on the model's outlier identification capability to handle extreme prices."
   ]
  },
  {
   "cell_type": "code",
   "execution_count": 8,
   "metadata": {},
   "outputs": [
    {
     "name": "stderr",
     "output_type": "stream",
     "text": [
      "2022-03-02 09:05:58,634 INFO Train data contains 2518 rows over 2518 dates from 2010-03-01 to 2020-02-28.\n",
      "2022-03-02 09:05:58,639 INFO Recent data contains 504 rows over 504 dates from 2020-03-02 to 2022-02-28.\n",
      "2022-03-02 09:05:58,640 INFO Fit regression...\n",
      "2022-03-02 09:05:58,648 INFO 361 out of 2518 dates are outliers.\n",
      "2022-03-02 09:05:58,649 INFO Re-fit wihtout outliers...\n",
      "2022-03-02 09:05:58,656 INFO Extend trend to recent data.\n",
      "2022-03-02 09:05:58,660 INFO done!\n",
      "2022-03-02 09:05:58,670 INFO R2 train = 0.986, train years = 10.0, annualize return = 0.133.\n",
      "2022-03-02 09:05:58,672 INFO current price = 4.39e+02, fair price = 4.02e+02, over-value range = 0.0903, over-value years = 0.68.\n"
     ]
    },
    {
     "data": {
      "text/plain": [
       "{'r2_train': 0.9860325013120617,\n",
       " 'train_years': 10.002739726027396,\n",
       " 'annualized_return': 0.13290449074031763,\n",
       " 'current_price': 438.720001,\n",
       " 'fair_price': 402.377694833628,\n",
       " 'over_value_range': 0.09031888852934178,\n",
       " 'over_value_years': 0.6795774019842268}"
      ]
     },
     "execution_count": 8,
     "metadata": {},
     "output_type": "execute_result"
    }
   ],
   "source": [
    "grandma = GrandmaStockValuation(recent_months=24, train_years=10, date_end=None, verbose=2, printfunc=logPrint)\n",
    "grandma.fitTransform(d_instrument_data['IVV'], price_col='close_adj', log=True, n_std=1.5)\n",
    "d_metrics = grandma.evaluateValuation(min_annual_return=0.01)\n",
    "\n",
    "d_metrics"
   ]
  },
  {
   "cell_type": "code",
   "execution_count": null,
   "metadata": {},
   "outputs": [],
   "source": [
    "fig = grandma.plotTrendline(title=\"Grandma's View of SP500\", width=900, height=300)\n",
    "\n",
    "fig.show()"
   ]
  },
  {
   "cell_type": "markdown",
   "metadata": {},
   "source": [
    "![](./images/example_2_SP500_24m_recent.png)\n",
    "\n",
    "As you see, the visualization displays the recent period specified in a dedicated color.\n",
    "\n",
    "You can compare the valuation to the previous results, and see how they differentiate."
   ]
  },
  {
   "cell_type": "markdown",
   "metadata": {},
   "source": [
    "### Valuate a Group of Instruments and Save Outputs\n",
    "\n",
    "Now you know how to valuate one instrument - it is time to scale up.\n",
    "\n",
    "The `batchValuation()` function has been provided to you, so you don't need to write for-loop by yourself.\n",
    "\n",
    "`batchValuation()` takes the following arguments:\n",
    "* `d_instrument_data` (dict): a dictionary containing the daily price of a group of instruments. You can refer to the loaded package data at the beginning of this notebook.\n",
    "* `init_parameters` (dict): parameters passed to initiate `GrandmaStockValuation` class.\n",
    "* `fit_parameters` (dict): parameters passed to `GrandmaStockValuation.fitTransform()`\n",
    "* `valuate_parameters` (dict): parameters passed to `GrandmaStockValuation.evaluateValuation()`.\n",
    "* `save_result` (bool): if True, save the valuation metrics and figures to files.\n",
    "* `metric_file` (str): file to store the valuation metrics.<br>If None, save to the default location \"_output/valuation_metrics_<today>.csv\".\n",
    "* `figure_folder` (str): folder to store the price charts of each instruments.<br>If `None`, save to the default folder \"_output/images/\"\n",
    "* `verbose` (int): 2 to print detailed information; 1 to print high-level information; 0 to suppress print.\n",
    "* `printfunc` (function): function to output messages.\n",
    "* Additional key-word arguments will be passed to `GrandmaStockValuation.plotTrendline()`.\n",
    "\n",
    "With `save_result=True`, the function will create the default folders if they do not exist, \n",
    "\n",
    "`batchValuation()` will return a dataframe with the valuations, and a dictionary of the visualizations (price charts with fitted trend line).\n"
   ]
  },
  {
   "cell_type": "code",
   "execution_count": 10,
   "metadata": {},
   "outputs": [
    {
     "data": {
      "text/html": [
       "<div>\n",
       "<style scoped>\n",
       "    .dataframe tbody tr th:only-of-type {\n",
       "        vertical-align: middle;\n",
       "    }\n",
       "\n",
       "    .dataframe tbody tr th {\n",
       "        vertical-align: top;\n",
       "    }\n",
       "\n",
       "    .dataframe thead th {\n",
       "        text-align: right;\n",
       "    }\n",
       "</style>\n",
       "<table border=\"1\" class=\"dataframe\">\n",
       "  <thead>\n",
       "    <tr style=\"text-align: right;\">\n",
       "      <th></th>\n",
       "      <th>ticker</th>\n",
       "      <th>r2_train</th>\n",
       "      <th>train_years</th>\n",
       "      <th>annualized_return</th>\n",
       "      <th>current_price</th>\n",
       "      <th>fair_price</th>\n",
       "      <th>over_value_range</th>\n",
       "      <th>over_value_years</th>\n",
       "    </tr>\n",
       "  </thead>\n",
       "  <tbody>\n",
       "    <tr>\n",
       "      <th>0</th>\n",
       "      <td>VPL</td>\n",
       "      <td>0.890218</td>\n",
       "      <td>10.00274</td>\n",
       "      <td>0.067348</td>\n",
       "      <td>74.18</td>\n",
       "      <td>77.196246</td>\n",
       "      <td>-0.039072</td>\n",
       "      <td>-0.263147</td>\n",
       "    </tr>\n",
       "    <tr>\n",
       "      <th>1</th>\n",
       "      <td>IVV</td>\n",
       "      <td>0.971054</td>\n",
       "      <td>10.00274</td>\n",
       "      <td>0.134314</td>\n",
       "      <td>438.720001</td>\n",
       "      <td>411.907796</td>\n",
       "      <td>0.065093</td>\n",
       "      <td>0.48463</td>\n",
       "    </tr>\n",
       "    <tr>\n",
       "      <th>2</th>\n",
       "      <td>EEMA</td>\n",
       "      <td>0.847897</td>\n",
       "      <td>10.00274</td>\n",
       "      <td>0.065518</td>\n",
       "      <td>77.550003</td>\n",
       "      <td>79.470586</td>\n",
       "      <td>-0.024167</td>\n",
       "      <td>-0.158339</td>\n",
       "    </tr>\n",
       "    <tr>\n",
       "      <th>3</th>\n",
       "      <td>IEV</td>\n",
       "      <td>0.780975</td>\n",
       "      <td>10.00274</td>\n",
       "      <td>0.052644</td>\n",
       "      <td>50.130001</td>\n",
       "      <td>49.242054</td>\n",
       "      <td>0.018032</td>\n",
       "      <td>0.34253</td>\n",
       "    </tr>\n",
       "  </tbody>\n",
       "</table>\n",
       "</div>"
      ],
      "text/plain": [
       "  ticker  r2_train train_years annualized_return current_price  fair_price  \\\n",
       "0    VPL  0.890218    10.00274          0.067348         74.18   77.196246   \n",
       "1    IVV  0.971054    10.00274          0.134314    438.720001  411.907796   \n",
       "2   EEMA  0.847897    10.00274          0.065518     77.550003   79.470586   \n",
       "3    IEV  0.780975    10.00274          0.052644     50.130001   49.242054   \n",
       "\n",
       "  over_value_range over_value_years  \n",
       "0        -0.039072        -0.263147  \n",
       "1         0.065093          0.48463  \n",
       "2        -0.024167        -0.158339  \n",
       "3         0.018032          0.34253  "
      ]
     },
     "execution_count": 10,
     "metadata": {},
     "output_type": "execute_result"
    }
   ],
   "source": [
    "df_metrics, d_fig = batchValuation(\n",
    "    d_instrument_data,\n",
    "    init_parameters={'recent_months':0, 'train_years':10, 'date_end':None},\n",
    "    fit_parameters={'price_col':'close_adj', 'log':True, 'n_std':1.5},\n",
    "    valuate_parameters={'min_annual_return':0.01},\n",
    "    save_result=True,\n",
    "    metric_file = None,\n",
    "    figure_folder = None,\n",
    "    verbose=0,\n",
    "    printfunc=logPrint,\n",
    "    width=900, height=300\n",
    ")\n",
    "\n",
    "df_metrics"
   ]
  },
  {
   "cell_type": "code",
   "execution_count": 11,
   "metadata": {},
   "outputs": [
    {
     "data": {
      "text/plain": [
       "{'IVV': 'SP500',\n",
       " 'VPL': 'Developed Asia-Pacific',\n",
       " 'IEV': 'Europe',\n",
       " 'EEMA': 'Emerging Asia'}"
      ]
     },
     "execution_count": 11,
     "metadata": {},
     "output_type": "execute_result"
    }
   ],
   "source": [
    "# Recall what are the ETF tickers\n",
    "d_instrument"
   ]
  },
  {
   "cell_type": "markdown",
   "metadata": {},
   "source": [
    "What an interesting table!\n",
    "* Let's look at `annualized_return`: SP500 (IVV) had highlight 13.4% annualized growth, followed by asia-pacific (VPL and EEMA), which were both around 6.6%, then Europe (IEV) around 5.3%.\n",
    "* The `over_value_range` and `over_value_years` columns tell us, as of 2022-02-28\n",
    "    * Asia-pacific region (VPL and EEMA) were under-valued.\n",
    "    * SP500 (IVV) was more over-valued then Europe (IEV) by range (6.5% vs. 1.8%), but given the strong historical growth of SP500, it was over-valued at about the same level by years (0.48 vs. 0.34).\n",
    "\n",
    "<br>\n",
    "\n",
    "Let's exam one of the price chart:\n"
   ]
  },
  {
   "cell_type": "code",
   "execution_count": null,
   "metadata": {},
   "outputs": [],
   "source": [
    "d_fig['EEMA']"
   ]
  },
  {
   "cell_type": "markdown",
   "metadata": {},
   "source": [
    "![](./images/example_2_EEMA.png)\n",
    "\n",
    "Now go to check out the valuation metrics and price charts save in the \"_output/\" folder."
   ]
  },
  {
   "cell_type": "markdown",
   "metadata": {},
   "source": [
    "### Limitations\n",
    "\n",
    "Firstly, the Grandma Stock Valuation model is most suitable to **broad ETF** (national / region ETF).\n",
    "* You may also try it on major industry sector ETF.\n",
    "* It is not recommanded for sub-sector ETF, individual stock, or any product involving derivatives.\n",
    "\n",
    "In addition, formulation of `over_value_years` leas to the following limitations:\n",
    "* It cannot handle instruments with negative annualized growth.\n",
    "* It can only handle instruments with sufficent positive annualized growth, as specified by `min_annual_return` (default to 1%)\n",
    "\n",
    "<br>\n",
    "\n",
    "\n",
    "**WELL DONE!**\n",
    "\n",
    "Now you can valuate a group of instruments in a quatitative manner. The next example will show you how to build a **managable investment portfolio**, based on the valuations!"
   ]
  },
  {
   "cell_type": "code",
   "execution_count": null,
   "metadata": {},
   "outputs": [],
   "source": []
  }
 ],
 "metadata": {
  "interpreter": {
   "hash": "1c1a885b6a591ec15507fc84277222a3df93b2df7bfbab7d41ee02a4dac7a176"
  },
  "kernelspec": {
   "display_name": "Python 3 (ipykernel)",
   "language": "python",
   "name": "python3"
  },
  "language_info": {
   "codemirror_mode": {
    "name": "ipython",
    "version": 3
   },
   "file_extension": ".py",
   "mimetype": "text/x-python",
   "name": "python",
   "nbconvert_exporter": "python",
   "pygments_lexer": "ipython3",
   "version": "3.9.7"
  }
 },
 "nbformat": 4,
 "nbformat_minor": 2
}
