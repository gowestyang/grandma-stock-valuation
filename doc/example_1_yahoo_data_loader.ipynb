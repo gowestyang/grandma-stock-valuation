{
 "cells": [
  {
   "cell_type": "markdown",
   "metadata": {},
   "source": [
    "# Example 1: Yahoo Data Loader\n",
    "\n",
    "This example demostrates how to use `YahooDataLoader` to query daily price data from Yahoo Finance."
   ]
  },
  {
   "cell_type": "code",
   "execution_count": 1,
   "metadata": {},
   "outputs": [],
   "source": [
    "from grandma_stock_valuation import YahooDataLoader"
   ]
  },
  {
   "cell_type": "markdown",
   "metadata": {},
   "source": [
    "The `YahooDataLoader` class is initiated with the following parameters:\n",
    "* `ticker` (str): the ticker to be queired. I will use \"IVV\" (iShares Core S&P 500 ETF) as an example.\n",
    "* `date_start` (date): the start date to query. If None, there must be an exsiting data file for the loader to derive the starting date. I will demonstrate this in later sections.\n",
    "* `date_end_ex` (date): the end date (exclusive) to query. Exclusive means that, for example, if you want to query to end of 2021, you should use \"2022-01-01\".<br>If None, the loader will use tomorrow's date, which means to query to end of today.\n",
    "* `verbose` (int):  2 to print detailed information; 1 to print high-level information; 0 to suppress print.\n",
    "* `printfunc` (function): function to print messages. Default to `print`."
   ]
  },
  {
   "cell_type": "code",
   "execution_count": 2,
   "metadata": {},
   "outputs": [],
   "source": [
    "ticker = 'IVV'\n",
    "\n",
    "yahoo = YahooDataLoader(ticker, date_start='2022-01-01', date_end_ex='2022-02-01', verbose=2)"
   ]
  },
  {
   "cell_type": "markdown",
   "metadata": {},
   "source": [
    "The `YahooDataLoader` class comes with the `queryEOD()` method. \n",
    "\n",
    "<br>\n",
    "\n",
    "`queryEOD()` queries and refreshed daily prices and volume data of the ticker. It takes the following parameters:\n",
    "* `save` (bool): if True, save the queried data to a csv specified by `file_name`.<br>If the csv file already exists, amend the existing file with the queried data.\n",
    "* `file_name` (str): the csv file to save the queried data.\n",
    "\n",
    "If `save=False`, `queryEOD()` will return the queried data.\n",
    "\n",
    "With `save=True`:\n",
    "* If `file_name=None`, `queryEOD()` will save the quereid data to \"_data/<ticker>_EOD.csv.gz\".\n",
    "    * If \"_data/\" does not exist, it will be created.\n",
    "* If the file already exist, `queryEOD()` will remove duplicated periods and append new data to the file, then return the entire refreshed data (existing + new).\n",
    "* If the file does not exist, `queryEOD()` will save to the file and return the queried data.\n",
    "\n",
    "<br>\n",
    "Say, we will query this data for the first time, so before running the example below, please remove \"IVV_EOD.csv.gz\", if it is already in your \"_data\" folder.\n"
   ]
  },
  {
   "cell_type": "code",
   "execution_count": 3,
   "metadata": {},
   "outputs": [
    {
     "name": "stdout",
     "output_type": "stream",
     "text": [
      "IVV: Queried EOD data contains 20 rows over 20 dates from 2022-01-03 to 2022-01-31.\n",
      "IVV: Save queried data to _data\\IVV_EOD.csv.gz.\n"
     ]
    },
    {
     "data": {
      "text/html": [
       "<div>\n",
       "<style scoped>\n",
       "    .dataframe tbody tr th:only-of-type {\n",
       "        vertical-align: middle;\n",
       "    }\n",
       "\n",
       "    .dataframe tbody tr th {\n",
       "        vertical-align: top;\n",
       "    }\n",
       "\n",
       "    .dataframe thead th {\n",
       "        text-align: right;\n",
       "    }\n",
       "</style>\n",
       "<table border=\"1\" class=\"dataframe\">\n",
       "  <thead>\n",
       "    <tr style=\"text-align: right;\">\n",
       "      <th></th>\n",
       "      <th>date</th>\n",
       "      <th>open</th>\n",
       "      <th>high</th>\n",
       "      <th>low</th>\n",
       "      <th>close</th>\n",
       "      <th>close_adj</th>\n",
       "      <th>volume</th>\n",
       "    </tr>\n",
       "  </thead>\n",
       "  <tbody>\n",
       "    <tr>\n",
       "      <th>0</th>\n",
       "      <td>2022-01-03</td>\n",
       "      <td>478.380005</td>\n",
       "      <td>479.899994</td>\n",
       "      <td>475.910004</td>\n",
       "      <td>479.839996</td>\n",
       "      <td>479.839996</td>\n",
       "      <td>5560300</td>\n",
       "    </tr>\n",
       "    <tr>\n",
       "      <th>1</th>\n",
       "      <td>2022-01-04</td>\n",
       "      <td>481.369995</td>\n",
       "      <td>482.070007</td>\n",
       "      <td>477.660004</td>\n",
       "      <td>479.679993</td>\n",
       "      <td>479.679993</td>\n",
       "      <td>5452000</td>\n",
       "    </tr>\n",
       "    <tr>\n",
       "      <th>2</th>\n",
       "      <td>2022-01-05</td>\n",
       "      <td>479.269989</td>\n",
       "      <td>480.029999</td>\n",
       "      <td>470.290009</td>\n",
       "      <td>470.329987</td>\n",
       "      <td>470.329987</td>\n",
       "      <td>7211400</td>\n",
       "    </tr>\n",
       "    <tr>\n",
       "      <th>3</th>\n",
       "      <td>2022-01-06</td>\n",
       "      <td>469.950012</td>\n",
       "      <td>472.850006</td>\n",
       "      <td>467.480011</td>\n",
       "      <td>469.980011</td>\n",
       "      <td>469.980011</td>\n",
       "      <td>5959100</td>\n",
       "    </tr>\n",
       "    <tr>\n",
       "      <th>4</th>\n",
       "      <td>2022-01-07</td>\n",
       "      <td>470.019989</td>\n",
       "      <td>471.250000</td>\n",
       "      <td>466.670013</td>\n",
       "      <td>468.100006</td>\n",
       "      <td>468.100006</td>\n",
       "      <td>7673400</td>\n",
       "    </tr>\n",
       "  </tbody>\n",
       "</table>\n",
       "</div>"
      ],
      "text/plain": [
       "        date        open        high         low       close   close_adj  \\\n",
       "0 2022-01-03  478.380005  479.899994  475.910004  479.839996  479.839996   \n",
       "1 2022-01-04  481.369995  482.070007  477.660004  479.679993  479.679993   \n",
       "2 2022-01-05  479.269989  480.029999  470.290009  470.329987  470.329987   \n",
       "3 2022-01-06  469.950012  472.850006  467.480011  469.980011  469.980011   \n",
       "4 2022-01-07  470.019989  471.250000  466.670013  468.100006  468.100006   \n",
       "\n",
       "    volume  \n",
       "0  5560300  \n",
       "1  5452000  \n",
       "2  7211400  \n",
       "3  5959100  \n",
       "4  7673400  "
      ]
     },
     "execution_count": 3,
     "metadata": {},
     "output_type": "execute_result"
    }
   ],
   "source": [
    "df = yahoo.queryEOD(save=True, file_name=None)\n",
    "\n",
    "df.head()"
   ]
  },
  {
   "cell_type": "markdown",
   "metadata": {},
   "source": [
    "Now let's refresh this existing data to the most recent date.\n",
    "\n",
    "Note that:\n",
    "* In code below, I will set `date_start=None`: `queryEOD()` will search for the existing \"_data/IVV_EOD.csv.gz\" and use the latest date as the start date.\n",
    "* The returned dataframe will contain both the existing data (saved in the previous step) and the newly queried data."
   ]
  },
  {
   "cell_type": "code",
   "execution_count": 4,
   "metadata": {},
   "outputs": [
    {
     "name": "stdout",
     "output_type": "stream",
     "text": [
      "IVV: Existing EOD data file found at _data\\IVV_EOD.csv.gz.\n",
      "IVV: Existing EOD data file contains 20 rows over 20 dates from 2022-01-03 to 2022-01-31.\n",
      "IVV: Queried EOD data contains 19 rows over 19 dates from 2022-02-01 to 2022-02-28.\n",
      "IVV: Amended data file contains 39 rows over 39 dates from 2022-01-03 to 2022-02-28.\n"
     ]
    },
    {
     "data": {
      "text/html": [
       "<div>\n",
       "<style scoped>\n",
       "    .dataframe tbody tr th:only-of-type {\n",
       "        vertical-align: middle;\n",
       "    }\n",
       "\n",
       "    .dataframe tbody tr th {\n",
       "        vertical-align: top;\n",
       "    }\n",
       "\n",
       "    .dataframe thead th {\n",
       "        text-align: right;\n",
       "    }\n",
       "</style>\n",
       "<table border=\"1\" class=\"dataframe\">\n",
       "  <thead>\n",
       "    <tr style=\"text-align: right;\">\n",
       "      <th></th>\n",
       "      <th>date</th>\n",
       "      <th>open</th>\n",
       "      <th>high</th>\n",
       "      <th>low</th>\n",
       "      <th>close</th>\n",
       "      <th>close_adj</th>\n",
       "      <th>volume</th>\n",
       "    </tr>\n",
       "  </thead>\n",
       "  <tbody>\n",
       "    <tr>\n",
       "      <th>0</th>\n",
       "      <td>2022-01-03</td>\n",
       "      <td>478.380005</td>\n",
       "      <td>479.899994</td>\n",
       "      <td>475.910004</td>\n",
       "      <td>479.839996</td>\n",
       "      <td>479.839996</td>\n",
       "      <td>5560300</td>\n",
       "    </tr>\n",
       "    <tr>\n",
       "      <th>1</th>\n",
       "      <td>2022-01-04</td>\n",
       "      <td>481.369995</td>\n",
       "      <td>482.070007</td>\n",
       "      <td>477.660004</td>\n",
       "      <td>479.679993</td>\n",
       "      <td>479.679993</td>\n",
       "      <td>5452000</td>\n",
       "    </tr>\n",
       "    <tr>\n",
       "      <th>2</th>\n",
       "      <td>2022-01-05</td>\n",
       "      <td>479.269989</td>\n",
       "      <td>480.029999</td>\n",
       "      <td>470.290009</td>\n",
       "      <td>470.329987</td>\n",
       "      <td>470.329987</td>\n",
       "      <td>7211400</td>\n",
       "    </tr>\n",
       "    <tr>\n",
       "      <th>3</th>\n",
       "      <td>2022-01-06</td>\n",
       "      <td>469.950012</td>\n",
       "      <td>472.850006</td>\n",
       "      <td>467.480011</td>\n",
       "      <td>469.980011</td>\n",
       "      <td>469.980011</td>\n",
       "      <td>5959100</td>\n",
       "    </tr>\n",
       "    <tr>\n",
       "      <th>4</th>\n",
       "      <td>2022-01-07</td>\n",
       "      <td>470.019989</td>\n",
       "      <td>471.250000</td>\n",
       "      <td>466.670013</td>\n",
       "      <td>468.100006</td>\n",
       "      <td>468.100006</td>\n",
       "      <td>7673400</td>\n",
       "    </tr>\n",
       "  </tbody>\n",
       "</table>\n",
       "</div>"
      ],
      "text/plain": [
       "        date        open        high         low       close   close_adj  \\\n",
       "0 2022-01-03  478.380005  479.899994  475.910004  479.839996  479.839996   \n",
       "1 2022-01-04  481.369995  482.070007  477.660004  479.679993  479.679993   \n",
       "2 2022-01-05  479.269989  480.029999  470.290009  470.329987  470.329987   \n",
       "3 2022-01-06  469.950012  472.850006  467.480011  469.980011  469.980011   \n",
       "4 2022-01-07  470.019989  471.250000  466.670013  468.100006  468.100006   \n",
       "\n",
       "    volume  \n",
       "0  5560300  \n",
       "1  5452000  \n",
       "2  7211400  \n",
       "3  5959100  \n",
       "4  7673400  "
      ]
     },
     "execution_count": 4,
     "metadata": {},
     "output_type": "execute_result"
    }
   ],
   "source": [
    "yahoo = YahooDataLoader(ticker, date_start=None, date_end_ex=None, verbose=2)\n",
    "\n",
    "df = yahoo.queryEOD(save=True, file_name=None)\n",
    "\n",
    "df.tail()"
   ]
  },
  {
   "cell_type": "code",
   "execution_count": null,
   "metadata": {},
   "outputs": [],
   "source": []
  }
 ],
 "metadata": {
  "interpreter": {
   "hash": "1c1a885b6a591ec15507fc84277222a3df93b2df7bfbab7d41ee02a4dac7a176"
  },
  "kernelspec": {
   "display_name": "Python 3 (ipykernel)",
   "language": "python",
   "name": "python3"
  },
  "language_info": {
   "codemirror_mode": {
    "name": "ipython",
    "version": 3
   },
   "file_extension": ".py",
   "mimetype": "text/x-python",
   "name": "python",
   "nbconvert_exporter": "python",
   "pygments_lexer": "ipython3",
   "version": "3.8.8"
  }
 },
 "nbformat": 4,
 "nbformat_minor": 2
}
