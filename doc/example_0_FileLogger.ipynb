{
 "cells": [
  {
   "cell_type": "markdown",
   "metadata": {},
   "source": [
    "# Example 0: Logging Utility\n",
    "\n",
    "This example demostrates how to use the `FileLogger` class to record log messages."
   ]
  },
  {
   "cell_type": "code",
   "execution_count": 1,
   "metadata": {},
   "outputs": [],
   "source": [
    "from grandma_stock_valuation import FileLogger\n",
    "import pandas as pd\n",
    "import logging"
   ]
  },
  {
   "cell_type": "markdown",
   "metadata": {},
   "source": [
    "The `FileLogger` class is build on top of the `logging` module to display messages on screen and to record messages in a log file simutanously. It also applied additional formating to `pandas.Series` and `pandas.DataFrame`.\n",
    "\n",
    "It is optional for you to use it. You can find how it works with other components of the package in other examples.\n",
    "\n",
    "<br>\n",
    "\n",
    "The `FileLogger` class takes the following arguments at initialization:\n",
    "* `formatter`: default to  `logging.Formatter('%(asctime)s %(levelname)s %(message)s')`\n",
    "* `log_file` (str): path to the log file. If None, a log file will be created under the `default_folder`.\n",
    "* `default_folder` (str): default to `_log`. If `log_file=None`, the logger will create this folder if not exist.\n",
    "* `append` (bool): If True, append to the existing log file. If False, start from an empty log file.\n",
    "\n",
    "By default, `FileLogger` will output messages to two places:\n",
    "* The log file, by default, \"_log/yyyymmdd.log\", where \"yyyymmdd\" is the current date.\n",
    "* `logging.StreamHandler`, by default, it outputs to `std.err`."
   ]
  },
  {
   "cell_type": "code",
   "execution_count": 2,
   "metadata": {},
   "outputs": [],
   "source": [
    "logger = FileLogger(log_file=None, default_folder='_log', append=False)"
   ]
  },
  {
   "cell_type": "markdown",
   "metadata": {},
   "source": [
    "`FileLogger` has a `logPandas()` method:\n",
    "* It applies additional formatting to `pandas.Series` and `pandas.DataFrame`.\n",
    "* It also accepts the `level` argument as in `logging`."
   ]
  },
  {
   "cell_type": "code",
   "execution_count": 3,
   "metadata": {},
   "outputs": [
    {
     "name": "stderr",
     "output_type": "stream",
     "text": [
      "2022-03-05 18:11:01,516 INFO Hello World Grandma!\n",
      "2022-03-05 18:11:01,517 INFO Hello World Grandma!\n",
      "2022-03-05 18:11:01,517 WARNING Hello World Grandma!\n",
      "2022-03-05 18:11:01,518 ERROR Hello World Grandma!\n"
     ]
    }
   ],
   "source": [
    "logPrint = logger.logPandas\n",
    "\n",
    "logPrint('Hello World Grandma!')\n",
    "\n",
    "logPrint('Hello World', 'Grandma!')\n",
    "\n",
    "logPrint('Hello World', 'Grandma!', level=logging.WARNING)\n",
    "\n",
    "logPrint('Hello World', 'Grandma!', level=logging.ERROR)"
   ]
  },
  {
   "cell_type": "code",
   "execution_count": 4,
   "metadata": {},
   "outputs": [
    {
     "name": "stderr",
     "output_type": "stream",
     "text": [
      "2022-03-05 18:11:04,211 INFO Hello World Grandma! \n",
      "x    2\n",
      "y    3\n",
      "\n"
     ]
    }
   ],
   "source": [
    "se = pd.Series({'x':2, 'y':3})\n",
    "\n",
    "logPrint('Hello World Grandma!', se)"
   ]
  },
  {
   "cell_type": "code",
   "execution_count": 5,
   "metadata": {},
   "outputs": [
    {
     "name": "stderr",
     "output_type": "stream",
     "text": [
      "2022-03-05 18:11:06,218 INFO Hello World \n",
      "   x  y\n",
      "0  1  3\n",
      "1  2  4\n",
      " Grandma!\n"
     ]
    }
   ],
   "source": [
    "df = pd.DataFrame({'x':[1,2], 'y':[3,4]})\n",
    "\n",
    "logPrint('Hello World', df, 'Grandma!')"
   ]
  },
  {
   "cell_type": "code",
   "execution_count": null,
   "metadata": {},
   "outputs": [],
   "source": []
  }
 ],
 "metadata": {
  "interpreter": {
   "hash": "1c1a885b6a591ec15507fc84277222a3df93b2df7bfbab7d41ee02a4dac7a176"
  },
  "kernelspec": {
   "display_name": "Python 3 (ipykernel)",
   "language": "python",
   "name": "python3"
  },
  "language_info": {
   "codemirror_mode": {
    "name": "ipython",
    "version": 3
   },
   "file_extension": ".py",
   "mimetype": "text/x-python",
   "name": "python",
   "nbconvert_exporter": "python",
   "pygments_lexer": "ipython3",
   "version": "3.7.11"
  }
 },
 "nbformat": 4,
 "nbformat_minor": 2
}
