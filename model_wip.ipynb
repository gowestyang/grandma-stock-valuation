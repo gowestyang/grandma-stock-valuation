{
 "cells": [
  {
   "cell_type": "code",
   "execution_count": 1,
   "metadata": {},
   "outputs": [],
   "source": [
    "import numpy as np\n",
    "import pandas as pd\n",
    "from sklearn.linear_model import LinearRegression\n"
   ]
  },
  {
   "cell_type": "code",
   "execution_count": 3,
   "metadata": {},
   "outputs": [],
   "source": [
    "pred_months = 12\n",
    "train_years = 10\n",
    "date_end = pd.to_datetime('2022-02-03')\n",
    "col_price = 'close'\n",
    "n_std = 2"
   ]
  },
  {
   "cell_type": "code",
   "execution_count": 10,
   "metadata": {},
   "outputs": [
    {
     "name": "stdout",
     "output_type": "stream",
     "text": [
      "Loaded data contains 5463 rows over 5463 dates from 2000-05-19 to 2022-02-03\n",
      "Train data contains 2516 rows over 2516 dates from 2011-02-04 to 2021-02-03\n",
      "Recent data contains 253 rows over 253 dates from 2021-02-04 to 2022-02-03\n"
     ]
    }
   ],
   "source": [
    "df0 = pd.read_csv('data/IVV_EOD.csv.gz')\n",
    "df0['date'] = pd.to_datetime(df0['date'])\n",
    "date_min = df0['date'].min()\n",
    "date_max = df0['date'].max()\n",
    "print(f\"Loaded data contains {len(df0)} rows over {df0['date'].nunique()} dates from {date_min.date()} to {date_max.date()}\")\n",
    "\n",
    "date_recent_end = min(date_end, date_max)\n",
    "date_recent_start = date_end - pd.DateOffset(months=pred_months) + pd.DateOffset(days=1)\n",
    "date_train_end = date_recent_start - pd.DateOffset(days=1)\n",
    "date_train_start = date_train_end - pd.DateOffset(years=train_years) + pd.DateOffset(days=1)\n",
    "date_train_start = max(date_train_start, date_min)\n",
    "\n",
    "cols_select = ['date', col_price]\n",
    "cols_map = {col_price:'price'}\n",
    "\n",
    "df_train0 = df0[(df0['date']>=date_train_start) & (df0['date']<=date_train_end)][cols_select].reset_index(drop=True).rename(columns=cols_map)\n",
    "print(f\"Train data contains {len(df_train0)} rows over {df_train0['date'].nunique()} dates from {df_train0['date'].min().date()} to {df_train0['date'].max().date()}\")\n",
    "\n",
    "df_recent0 = df0[(df0['date']>=date_recent_start) & (df0['date']<=date_recent_end)][cols_select].reset_index(drop=True).rename(columns=cols_map)\n",
    "print(f\"Recent data contains {len(df_recent0)} rows over {df_recent0['date'].nunique()} dates from {df_recent0['date'].min().date()} to {df_recent0['date'].max().date()}\")\n",
    "\n"
   ]
  },
  {
   "cell_type": "code",
   "execution_count": 46,
   "metadata": {},
   "outputs": [
    {
     "name": "stdout",
     "output_type": "stream",
     "text": [
      "130 out of 2516 dates are identified as outliers.\n"
     ]
    },
    {
     "data": {
      "text/html": [
       "<div>\n",
       "<style scoped>\n",
       "    .dataframe tbody tr th:only-of-type {\n",
       "        vertical-align: middle;\n",
       "    }\n",
       "\n",
       "    .dataframe tbody tr th {\n",
       "        vertical-align: top;\n",
       "    }\n",
       "\n",
       "    .dataframe thead th {\n",
       "        text-align: right;\n",
       "    }\n",
       "</style>\n",
       "<table border=\"1\" class=\"dataframe\">\n",
       "  <thead>\n",
       "    <tr style=\"text-align: right;\">\n",
       "      <th></th>\n",
       "      <th>date</th>\n",
       "      <th>price</th>\n",
       "      <th>x</th>\n",
       "      <th>trend</th>\n",
       "      <th>is_outlier</th>\n",
       "      <th>is_recent</th>\n",
       "    </tr>\n",
       "  </thead>\n",
       "  <tbody>\n",
       "    <tr>\n",
       "      <th>2513</th>\n",
       "      <td>2021-02-01</td>\n",
       "      <td>377.600006</td>\n",
       "      <td>2513</td>\n",
       "      <td>327.708579</td>\n",
       "      <td>True</td>\n",
       "      <td>False</td>\n",
       "    </tr>\n",
       "    <tr>\n",
       "      <th>2514</th>\n",
       "      <td>2021-02-02</td>\n",
       "      <td>382.959991</td>\n",
       "      <td>2514</td>\n",
       "      <td>327.794178</td>\n",
       "      <td>True</td>\n",
       "      <td>False</td>\n",
       "    </tr>\n",
       "    <tr>\n",
       "      <th>2515</th>\n",
       "      <td>2021-02-03</td>\n",
       "      <td>383.260010</td>\n",
       "      <td>2515</td>\n",
       "      <td>327.879776</td>\n",
       "      <td>True</td>\n",
       "      <td>False</td>\n",
       "    </tr>\n",
       "  </tbody>\n",
       "</table>\n",
       "</div>"
      ],
      "text/plain": [
       "           date       price     x       trend  is_outlier  is_recent\n",
       "2513 2021-02-01  377.600006  2513  327.708579        True      False\n",
       "2514 2021-02-02  382.959991  2514  327.794178        True      False\n",
       "2515 2021-02-03  383.260010  2515  327.879776        True      False"
      ]
     },
     "execution_count": 46,
     "metadata": {},
     "output_type": "execute_result"
    }
   ],
   "source": [
    "### log transform ###\n",
    "\n",
    "df_train = df_train0.copy()\n",
    "\n",
    "df_train['x'] = range(len(df_train))\n",
    "x_train_max = df_train['x'].max()\n",
    "x_train = np.array(df_train['x']).reshape(-1, 1)\n",
    "\n",
    "lm = LinearRegression().fit(x_train, df_train['price'])\n",
    "df_train['trend'] = lm.predict(x_train)\n",
    "df_train['residual'] = df_train['trend'] - df_train['price']\n",
    "\n",
    "residual_std = df_train['residual'].std()\n",
    "residual_mean = df_train['residual'].mean()\n",
    "upper_bond = residual_mean + n_std * residual_std\n",
    "lower_bond = residual_mean - n_std * residual_std \n",
    "\n",
    "df_train['is_outlier'] = (df_train['residual'] > upper_bond) | (df_train['residual'] < lower_bond)\n",
    "print(f\"{df_train['is_outlier'].sum()} out of {len(df_train)} dates are identified as outliers.\")\n",
    "\n",
    "# re-train with outliers removed\n",
    "index_select = ~df_train['is_outlier']\n",
    "x_train_filter = np.array(df_train[index_select]['x']).reshape(-1, 1)\n",
    "lm = LinearRegression().fit(x_train_filter, df_train[index_select]['price'])\n",
    "df_train['trend'] = lm.predict(x_train)\n",
    "\n",
    "df_train['is_recent'] = False\n",
    "df_train.drop(columns=['residual'], inplace=True)\n",
    "\n",
    "df_train.tail(3)\n"
   ]
  },
  {
   "cell_type": "code",
   "execution_count": 47,
   "metadata": {},
   "outputs": [
    {
     "data": {
      "text/html": [
       "<div>\n",
       "<style scoped>\n",
       "    .dataframe tbody tr th:only-of-type {\n",
       "        vertical-align: middle;\n",
       "    }\n",
       "\n",
       "    .dataframe tbody tr th {\n",
       "        vertical-align: top;\n",
       "    }\n",
       "\n",
       "    .dataframe thead th {\n",
       "        text-align: right;\n",
       "    }\n",
       "</style>\n",
       "<table border=\"1\" class=\"dataframe\">\n",
       "  <thead>\n",
       "    <tr style=\"text-align: right;\">\n",
       "      <th></th>\n",
       "      <th>date</th>\n",
       "      <th>price</th>\n",
       "      <th>x</th>\n",
       "      <th>trend</th>\n",
       "      <th>is_outlier</th>\n",
       "      <th>is_recent</th>\n",
       "    </tr>\n",
       "  </thead>\n",
       "  <tbody>\n",
       "    <tr>\n",
       "      <th>0</th>\n",
       "      <td>2021-02-04</td>\n",
       "      <td>387.600006</td>\n",
       "      <td>2516</td>\n",
       "      <td>327.965375</td>\n",
       "      <td>False</td>\n",
       "      <td>True</td>\n",
       "    </tr>\n",
       "    <tr>\n",
       "      <th>1</th>\n",
       "      <td>2021-02-05</td>\n",
       "      <td>389.119995</td>\n",
       "      <td>2517</td>\n",
       "      <td>328.050973</td>\n",
       "      <td>False</td>\n",
       "      <td>True</td>\n",
       "    </tr>\n",
       "    <tr>\n",
       "      <th>2</th>\n",
       "      <td>2021-02-08</td>\n",
       "      <td>392.049988</td>\n",
       "      <td>2518</td>\n",
       "      <td>328.136572</td>\n",
       "      <td>False</td>\n",
       "      <td>True</td>\n",
       "    </tr>\n",
       "  </tbody>\n",
       "</table>\n",
       "</div>"
      ],
      "text/plain": [
       "        date       price     x       trend  is_outlier  is_recent\n",
       "0 2021-02-04  387.600006  2516  327.965375       False       True\n",
       "1 2021-02-05  389.119995  2517  328.050973       False       True\n",
       "2 2021-02-08  392.049988  2518  328.136572       False       True"
      ]
     },
     "execution_count": 47,
     "metadata": {},
     "output_type": "execute_result"
    }
   ],
   "source": [
    "df_recent = df_recent0.copy()\n",
    "\n",
    "df_recent['x'] = np.arange(0, len(df_recent)) + x_train_max + 1\n",
    "x_recent = np.array(df_recent['x']).reshape(-1, 1)\n",
    "df_recent['trend'] = lm.predict(x_recent)\n",
    "\n",
    "df_recent['is_outlier'] = False\n",
    "df_recent['is_recent'] = True\n",
    "\n",
    "df_recent.head(3)"
   ]
  },
  {
   "cell_type": "code",
   "execution_count": 49,
   "metadata": {},
   "outputs": [],
   "source": [
    "df_model = pd.concat([df_train, df_recent]).reset_index(drop=True)"
   ]
  },
  {
   "cell_type": "code",
   "execution_count": null,
   "metadata": {},
   "outputs": [],
   "source": []
  },
  {
   "cell_type": "code",
   "execution_count": null,
   "metadata": {},
   "outputs": [],
   "source": []
  },
  {
   "cell_type": "code",
   "execution_count": null,
   "metadata": {},
   "outputs": [],
   "source": []
  },
  {
   "cell_type": "code",
   "execution_count": null,
   "metadata": {},
   "outputs": [],
   "source": []
  },
  {
   "cell_type": "code",
   "execution_count": null,
   "metadata": {},
   "outputs": [],
   "source": []
  }
 ],
 "metadata": {
  "interpreter": {
   "hash": "1c1a885b6a591ec15507fc84277222a3df93b2df7bfbab7d41ee02a4dac7a176"
  },
  "kernelspec": {
   "display_name": "Python 3.9.7 64-bit ('base': conda)",
   "language": "python",
   "name": "python3"
  },
  "language_info": {
   "codemirror_mode": {
    "name": "ipython",
    "version": 3
   },
   "file_extension": ".py",
   "mimetype": "text/x-python",
   "name": "python",
   "nbconvert_exporter": "python",
   "pygments_lexer": "ipython3",
   "version": "3.9.7"
  },
  "orig_nbformat": 4
 },
 "nbformat": 4,
 "nbformat_minor": 2
}
