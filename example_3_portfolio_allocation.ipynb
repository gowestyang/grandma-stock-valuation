{
 "cells": [
  {
   "cell_type": "markdown",
   "metadata": {},
   "source": [
    "# Example 3: Grandma Portfolio Allocation\n",
    "\n",
    "This example demostrates how to build a easily managable portfolio using the Grandma Stock Valuation model.\n",
    "* Load Data\n",
    "* Portfolio Allocation - the Basic Idea\n",
    "* Build a Portfolio with SP500 ETF and Cash\n"
   ]
  },
  {
   "cell_type": "code",
   "execution_count": 1,
   "metadata": {},
   "outputs": [],
   "source": [
    "from grandma_stock_valuation import FileLogger, loadPacakgeData\n",
    "from grandma_stock_valuation import batchValuation, addCashPortfolio, getCorrelationWeight, allocatePortfolio\n",
    "\n",
    "# Refer to example_0_FileLogger.ipynb for details of the FileLogger.\n",
    "logger = FileLogger()\n",
    "logPrint = logger.logPandas"
   ]
  },
  {
   "cell_type": "markdown",
   "metadata": {},
   "source": [
    "### Load Data\n",
    "\n",
    "For this example, I will use the stored package data.\n",
    "\n",
    "To query data from Yahoo, please refer to *example_1_yahoo_data_loader.ipynb*."
   ]
  },
  {
   "cell_type": "code",
   "execution_count": 2,
   "metadata": {},
   "outputs": [
    {
     "name": "stdout",
     "output_type": "stream",
     "text": [
      "EEMA data contains 2530 rows, 2530 dates from 2012-02-09 to 2022-02-28.\n",
      "IEV data contains 5431 rows, 5431 dates from 2000-07-28 to 2022-02-28.\n",
      "IVV data contains 5479 rows, 5479 dates from 2000-05-19 to 2022-02-28.\n",
      "VPL data contains 4273 rows, 4273 dates from 2005-03-10 to 2022-02-28.\n"
     ]
    },
    {
     "data": {
      "text/plain": [
       "{'IVV': 'SP500',\n",
       " 'VPL': 'Developed Asia-Pacific',\n",
       " 'IEV': 'Europe',\n",
       " 'EEMA': 'Emerging Asia'}"
      ]
     },
     "execution_count": 2,
     "metadata": {},
     "output_type": "execute_result"
    }
   ],
   "source": [
    "d_instrument_data, d_instrument = loadPacakgeData(verbose=2)\n",
    "\n",
    "d_instrument"
   ]
  },
  {
   "cell_type": "code",
   "execution_count": 3,
   "metadata": {},
   "outputs": [
    {
     "name": "stderr",
     "output_type": "stream",
     "text": [
      "2022-03-02 21:14:50,638 INFO Keys of d_instrument_data: dict_keys(['EEMA', 'IEV', 'IVV', 'VPL'])\n",
      "2022-03-02 21:14:50,736 INFO IVV (SP500 ETF): \n",
      "        date       open       high        low      close  close_adj   volume\n",
      "0 2000-05-19  142.65625  142.65625  140.25000  140.68750  94.121216   775500\n",
      "1 2000-05-22  140.59375  140.59375  136.81250  139.81250  93.535789  1850600\n",
      "2 2000-05-23  140.21875  140.21875  137.68750  137.68750  92.114151   373900\n",
      "3 2000-05-24  137.75000  140.06250  136.65625  139.75000  93.494003   400300\n",
      "4 2000-05-25  140.03125  140.93750  137.87500  138.46875  92.636810    69600\n",
      "\n"
     ]
    }
   ],
   "source": [
    "logPrint(\"Keys of d_instrument_data:\", str(d_instrument_data.keys()))\n",
    "\n",
    "logPrint(\"IVV (SP500 ETF):\", d_instrument_data['IVV'].head())"
   ]
  },
  {
   "cell_type": "markdown",
   "metadata": {},
   "source": [
    "### Portfolio Allocation - the Basic Idea\n",
    "\n",
    "*Should I buy or sell?*\n",
    "\n",
    "Is this question daunting you all the time? Well, how about thinking about investment from a **portfolio management** perspective?\n",
    "\n",
    "*What is it about?*\n",
    "\n",
    "**Portfolio management** is both old and new to most retail investors.\n",
    "* On one hand, most people have heard about it, and some may even have mathematical knowledge about the techniques.\n",
    "* On the other hand, most people don't know how to put it into action, and some may even have little clue about what investment instruments they are holding!\n",
    "\n",
    "Let's go straight into the points:\n",
    "* How much CASH shall I invest into stocks? - `Grandma` will answer it.\n",
    "* How many instruments should I hold? - `Grandma` will help you with it.\n",
    "* How frequency do I need to adjust my portfolio? - monthly or longer.\n",
    "* How Grandma Profolio Allocation works? - allocate more to more under-valued instruments.\n"
   ]
  },
  {
   "cell_type": "markdown",
   "metadata": {},
   "source": [
    "### Build a Portfolio with SP500 ETF and Cash\n",
    "\n",
    "Let's start with a simple portfolio consists of the SP500 ETF (IVV) and cash.\n",
    "\n",
    "*What? Can I call this a portfolio?* - Of course it is!\n",
    "\n",
    "Cell below get valuation of the SP500 ETF using Grandma Stock Valuation model - refer to *example_2_grandma_valuation.ipynb* for the details."
   ]
  },
  {
   "cell_type": "code",
   "execution_count": 5,
   "metadata": {},
   "outputs": [
    {
     "data": {
      "text/html": [
       "<div>\n",
       "<style scoped>\n",
       "    .dataframe tbody tr th:only-of-type {\n",
       "        vertical-align: middle;\n",
       "    }\n",
       "\n",
       "    .dataframe tbody tr th {\n",
       "        vertical-align: top;\n",
       "    }\n",
       "\n",
       "    .dataframe thead th {\n",
       "        text-align: right;\n",
       "    }\n",
       "</style>\n",
       "<table border=\"1\" class=\"dataframe\">\n",
       "  <thead>\n",
       "    <tr style=\"text-align: right;\">\n",
       "      <th></th>\n",
       "      <th>ticker</th>\n",
       "      <th>r2_train</th>\n",
       "      <th>train_years</th>\n",
       "      <th>annualized_return</th>\n",
       "      <th>current_price</th>\n",
       "      <th>fair_price</th>\n",
       "      <th>over_value_range</th>\n",
       "      <th>over_value_years</th>\n",
       "    </tr>\n",
       "  </thead>\n",
       "  <tbody>\n",
       "    <tr>\n",
       "      <th>0</th>\n",
       "      <td>IVV</td>\n",
       "      <td>0.971054</td>\n",
       "      <td>10.00274</td>\n",
       "      <td>0.134314</td>\n",
       "      <td>438.720001</td>\n",
       "      <td>411.907796</td>\n",
       "      <td>0.065093</td>\n",
       "      <td>0.48463</td>\n",
       "    </tr>\n",
       "  </tbody>\n",
       "</table>\n",
       "</div>"
      ],
      "text/plain": [
       "  ticker  r2_train train_years annualized_return current_price  fair_price  \\\n",
       "0    IVV  0.971054    10.00274          0.134314    438.720001  411.907796   \n",
       "\n",
       "  over_value_range over_value_years  \n",
       "0         0.065093          0.48463  "
      ]
     },
     "execution_count": 5,
     "metadata": {},
     "output_type": "execute_result"
    }
   ],
   "source": [
    "d_SP500 = {ticker:daily_price for ticker, daily_price in d_instrument_data.items() if ticker=='IVV'}\n",
    "\n",
    "df_SP500_valuation, _ = batchValuation(d_SP500, save_result=False)\n",
    "\n",
    "df_SP500_valuation"
   ]
  },
  {
   "cell_type": "markdown",
   "metadata": {},
   "source": [
    "We can use the `addCashPortfolio()` function to add cash into the about valuation table. This function takes the following arguments:\n",
    "* `df_valuation_metrics` (pandas.DataFrame): a dataframe with the valuation metrics of an existing portfolio.<br>It is usually the output of `batchValuation()` function.\n",
    "* `id_col` (str): column in `df_valuation_metrics` as the identifier of the instruments in the portfolio.<br>Default to \"ticker\".\n",
    "* `cash_name` (str): a name, default to \"cash\", to be appended under the `id_col`.\n",
    "* `value_col` (str): column in `df_valuation_metrics` with the valuations of each instruments in the portfolio.<br>Default to `over_value_years`.\n",
    "* `cash_value` (float): Valuation of cash. I will just use 0 (neither over-valued nor under-valued).<br>You may want to take inflation or other factor into consideration - up to your decision.\n",
    "\n"
   ]
  },
  {
   "cell_type": "code",
   "execution_count": 9,
   "metadata": {},
   "outputs": [
    {
     "data": {
      "text/html": [
       "<div>\n",
       "<style scoped>\n",
       "    .dataframe tbody tr th:only-of-type {\n",
       "        vertical-align: middle;\n",
       "    }\n",
       "\n",
       "    .dataframe tbody tr th {\n",
       "        vertical-align: top;\n",
       "    }\n",
       "\n",
       "    .dataframe thead th {\n",
       "        text-align: right;\n",
       "    }\n",
       "</style>\n",
       "<table border=\"1\" class=\"dataframe\">\n",
       "  <thead>\n",
       "    <tr style=\"text-align: right;\">\n",
       "      <th></th>\n",
       "      <th>ticker</th>\n",
       "      <th>r2_train</th>\n",
       "      <th>train_years</th>\n",
       "      <th>annualized_return</th>\n",
       "      <th>current_price</th>\n",
       "      <th>fair_price</th>\n",
       "      <th>over_value_range</th>\n",
       "      <th>over_value_years</th>\n",
       "    </tr>\n",
       "  </thead>\n",
       "  <tbody>\n",
       "    <tr>\n",
       "      <th>0</th>\n",
       "      <td>IVV</td>\n",
       "      <td>0.971054</td>\n",
       "      <td>10.00274</td>\n",
       "      <td>0.134314</td>\n",
       "      <td>438.720001</td>\n",
       "      <td>411.907796</td>\n",
       "      <td>0.065093</td>\n",
       "      <td>0.48463</td>\n",
       "    </tr>\n",
       "    <tr>\n",
       "      <th>1</th>\n",
       "      <td>cash</td>\n",
       "      <td>NaN</td>\n",
       "      <td>NaN</td>\n",
       "      <td>NaN</td>\n",
       "      <td>NaN</td>\n",
       "      <td>NaN</td>\n",
       "      <td>NaN</td>\n",
       "      <td>0.00000</td>\n",
       "    </tr>\n",
       "  </tbody>\n",
       "</table>\n",
       "</div>"
      ],
      "text/plain": [
       "  ticker  r2_train train_years annualized_return current_price  fair_price  \\\n",
       "0    IVV  0.971054    10.00274          0.134314    438.720001  411.907796   \n",
       "1   cash       NaN         NaN               NaN           NaN         NaN   \n",
       "\n",
       "  over_value_range  over_value_years  \n",
       "0         0.065093           0.48463  \n",
       "1              NaN           0.00000  "
      ]
     },
     "execution_count": 9,
     "metadata": {},
     "output_type": "execute_result"
    }
   ],
   "source": [
    "df_SP500_and_cash = addCashPortfolio(df_SP500_valuation, cash_value=0.0)\n",
    "\n",
    "df_SP500_and_cash"
   ]
  },
  {
   "cell_type": "markdown",
   "metadata": {},
   "source": [
    "WIP"
   ]
  },
  {
   "cell_type": "code",
   "execution_count": 10,
   "metadata": {},
   "outputs": [
    {
     "data": {
      "text/html": [
       "<div>\n",
       "<style scoped>\n",
       "    .dataframe tbody tr th:only-of-type {\n",
       "        vertical-align: middle;\n",
       "    }\n",
       "\n",
       "    .dataframe tbody tr th {\n",
       "        vertical-align: top;\n",
       "    }\n",
       "\n",
       "    .dataframe thead th {\n",
       "        text-align: right;\n",
       "    }\n",
       "</style>\n",
       "<table border=\"1\" class=\"dataframe\">\n",
       "  <thead>\n",
       "    <tr style=\"text-align: right;\">\n",
       "      <th></th>\n",
       "      <th>ticker</th>\n",
       "      <th>r2_train</th>\n",
       "      <th>train_years</th>\n",
       "      <th>annualized_return</th>\n",
       "      <th>current_price</th>\n",
       "      <th>fair_price</th>\n",
       "      <th>over_value_range</th>\n",
       "      <th>over_value_years</th>\n",
       "      <th>allocation</th>\n",
       "    </tr>\n",
       "  </thead>\n",
       "  <tbody>\n",
       "    <tr>\n",
       "      <th>0</th>\n",
       "      <td>IVV</td>\n",
       "      <td>0.971054</td>\n",
       "      <td>10.00274</td>\n",
       "      <td>0.134314</td>\n",
       "      <td>438.720001</td>\n",
       "      <td>411.907796</td>\n",
       "      <td>0.065093</td>\n",
       "      <td>0.48463</td>\n",
       "      <td>0.381159</td>\n",
       "    </tr>\n",
       "    <tr>\n",
       "      <th>1</th>\n",
       "      <td>cash</td>\n",
       "      <td>NaN</td>\n",
       "      <td>NaN</td>\n",
       "      <td>NaN</td>\n",
       "      <td>NaN</td>\n",
       "      <td>NaN</td>\n",
       "      <td>NaN</td>\n",
       "      <td>0.00000</td>\n",
       "      <td>0.618841</td>\n",
       "    </tr>\n",
       "  </tbody>\n",
       "</table>\n",
       "</div>"
      ],
      "text/plain": [
       "  ticker  r2_train train_years annualized_return current_price  fair_price  \\\n",
       "0    IVV  0.971054    10.00274          0.134314    438.720001  411.907796   \n",
       "1   cash       NaN         NaN               NaN           NaN         NaN   \n",
       "\n",
       "  over_value_range  over_value_years  allocation  \n",
       "0         0.065093           0.48463    0.381159  \n",
       "1              NaN           0.00000    0.618841  "
      ]
     },
     "execution_count": 10,
     "metadata": {},
     "output_type": "execute_result"
    }
   ],
   "source": [
    "df_SP500_and_cash['allocation'] = allocatePortfolio(df_SP500_and_cash['over_value_years'], with_cash=True)\n",
    "\n",
    "df_SP500_and_cash"
   ]
  },
  {
   "cell_type": "code",
   "execution_count": null,
   "metadata": {},
   "outputs": [],
   "source": []
  }
 ],
 "metadata": {
  "interpreter": {
   "hash": "1c1a885b6a591ec15507fc84277222a3df93b2df7bfbab7d41ee02a4dac7a176"
  },
  "kernelspec": {
   "display_name": "Python 3 (ipykernel)",
   "language": "python",
   "name": "python3"
  },
  "language_info": {
   "codemirror_mode": {
    "name": "ipython",
    "version": 3
   },
   "file_extension": ".py",
   "mimetype": "text/x-python",
   "name": "python",
   "nbconvert_exporter": "python",
   "pygments_lexer": "ipython3",
   "version": "3.8.8"
  }
 },
 "nbformat": 4,
 "nbformat_minor": 2
}
