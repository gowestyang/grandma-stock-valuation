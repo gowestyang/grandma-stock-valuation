{
 "cells": [
  {
   "cell_type": "markdown",
   "metadata": {},
   "source": [
    "# Example 3: Grandma Portfolio Allocation\n",
    "\n",
    "This example demostrates how to build a managable portfolio using the Grandma Portfolio Allocation.\n",
    "\n",
    "This notebook contains a a lot of content. You may want to run through the codes first, before reading the mathematical details.\n",
    "\n",
    "* Load Data\n",
    "* Portfolio Allocation - the Basic Idea\n",
    "* Build a Portfolio with SP500 ETF and Cash\n",
    "    * Significance of Cash as Part of Portfolio\n",
    "* Grandma Portfolio Allocation - Multiple Instruments\n",
    "    * Correlation Weight\n",
    "    * Portfolio Allocation - the Details\n"
   ]
  },
  {
   "cell_type": "code",
   "execution_count": 1,
   "metadata": {},
   "outputs": [],
   "source": [
    "from grandma_stock_valuation import FileLogger, loadPacakgeData\n",
    "from grandma_stock_valuation import batchValuation, addCashPortfolio, getCorrelationWeight, allocatePortfolio\n",
    "\n",
    "# Refer to example_0_FileLogger.ipynb for details of the FileLogger.\n",
    "logger = FileLogger()\n",
    "logPrint = logger.logPandas"
   ]
  },
  {
   "cell_type": "markdown",
   "metadata": {},
   "source": [
    "### Load Data\n",
    "\n",
    "For this example, I will use the stored package data.\n",
    "\n",
    "To query data from Yahoo, please refer to *example_1_yahoo_data_loader.ipynb*."
   ]
  },
  {
   "cell_type": "code",
   "execution_count": 2,
   "metadata": {},
   "outputs": [
    {
     "name": "stdout",
     "output_type": "stream",
     "text": [
      "VPL data contains 4273 rows, 4273 dates from 2005-03-10 to 2022-02-28.\n",
      "IVV data contains 5479 rows, 5479 dates from 2000-05-19 to 2022-02-28.\n",
      "EEMA data contains 2530 rows, 2530 dates from 2012-02-09 to 2022-02-28.\n",
      "IEV data contains 5431 rows, 5431 dates from 2000-07-28 to 2022-02-28.\n"
     ]
    },
    {
     "data": {
      "text/plain": [
       "{'IVV': 'SP500',\n",
       " 'VPL': 'Developed Asia-Pacific',\n",
       " 'IEV': 'Europe',\n",
       " 'EEMA': 'Emerging Asia'}"
      ]
     },
     "execution_count": 2,
     "metadata": {},
     "output_type": "execute_result"
    }
   ],
   "source": [
    "d_instrument_data, d_instrument = loadPacakgeData(verbose=2)\n",
    "\n",
    "d_instrument"
   ]
  },
  {
   "cell_type": "code",
   "execution_count": 3,
   "metadata": {},
   "outputs": [
    {
     "name": "stderr",
     "output_type": "stream",
     "text": [
      "2022-03-03 21:48:05,223 INFO Keys of d_instrument_data: dict_keys(['VPL', 'IVV', 'EEMA', 'IEV'])\n",
      "2022-03-03 21:48:05,250 INFO IVV (SP500 ETF): \n",
      "        date       open       high        low      close  close_adj   volume\n",
      "0 2000-05-19  142.65625  142.65625  140.25000  140.68750  94.121216   775500\n",
      "1 2000-05-22  140.59375  140.59375  136.81250  139.81250  93.535789  1850600\n",
      "2 2000-05-23  140.21875  140.21875  137.68750  137.68750  92.114151   373900\n",
      "3 2000-05-24  137.75000  140.06250  136.65625  139.75000  93.494003   400300\n",
      "4 2000-05-25  140.03125  140.93750  137.87500  138.46875  92.636810    69600\n",
      "\n"
     ]
    }
   ],
   "source": [
    "logPrint(\"Keys of d_instrument_data:\", str(d_instrument_data.keys()))\n",
    "\n",
    "logPrint(\"IVV (SP500 ETF):\", d_instrument_data['IVV'].head())"
   ]
  },
  {
   "cell_type": "markdown",
   "metadata": {},
   "source": [
    "### Portfolio Allocation - the Basic Idea\n",
    "\n",
    "*Should I buy or sell?*\n",
    "\n",
    "Is this question daunting you all the time?\n",
    "\n",
    "Well, this is an important question. But let's take a step back - how about thinking investment as **portfolio management**?\n",
    "\n",
    "*What is it about?*\n",
    "\n",
    "**Portfolio management** is both familiar and new to retail investors.\n",
    "* On one hand, many people have heard about it, and some even have knowledge about certain techniques.\n",
    "* On the other hand, most people don't know how to put it into practice.\n",
    "\n",
    "Let's go straight into the points:\n",
    "* Is portfolio management about **decipline**? - not really - rather a way of thinking.\n",
    "* **How frequent** do I need to adjust my portfolio? - about monthly - not too frequent, but don't leave your investment unattended.\n",
    "* **What instruments** shall I put in my portfolio? - `Grandma` suggests broad ETF.\n",
    "* **How many instruments** shall I hold? - I suggest fewer than 10 - `Grandma` will help you with it.\n",
    "* **How much money** shall I allocate to each instrument? - higher % to under-valued instruments - `Grandma` will give you the number.\n",
    "* **How much CASH** shall I place aside? - `Grandma` will answer it."
   ]
  },
  {
   "cell_type": "markdown",
   "metadata": {},
   "source": [
    "### Build a Portfolio with SP500 ETF and Cash\n",
    "\n",
    "Let's start with a simple portfolio consists of the **SP500 ETF (IVV)** and **cash**.\n",
    "\n",
    "*What? Can I call this a portfolio?* - Of course!\n",
    "\n",
    "Cell below get valuation of the SP500 ETF using Grandma Stock Valuation model - refer to *example_2_grandma_valuation.ipynb* if you are not familiar with it yet."
   ]
  },
  {
   "cell_type": "code",
   "execution_count": 4,
   "metadata": {},
   "outputs": [
    {
     "data": {
      "text/html": [
       "<div>\n",
       "<style scoped>\n",
       "    .dataframe tbody tr th:only-of-type {\n",
       "        vertical-align: middle;\n",
       "    }\n",
       "\n",
       "    .dataframe tbody tr th {\n",
       "        vertical-align: top;\n",
       "    }\n",
       "\n",
       "    .dataframe thead th {\n",
       "        text-align: right;\n",
       "    }\n",
       "</style>\n",
       "<table border=\"1\" class=\"dataframe\">\n",
       "  <thead>\n",
       "    <tr style=\"text-align: right;\">\n",
       "      <th></th>\n",
       "      <th>ticker</th>\n",
       "      <th>r2_train</th>\n",
       "      <th>train_years</th>\n",
       "      <th>annualized_return</th>\n",
       "      <th>current_price</th>\n",
       "      <th>fair_price</th>\n",
       "      <th>over_value_range</th>\n",
       "      <th>over_value_years</th>\n",
       "    </tr>\n",
       "  </thead>\n",
       "  <tbody>\n",
       "    <tr>\n",
       "      <th>0</th>\n",
       "      <td>IVV</td>\n",
       "      <td>0.971054</td>\n",
       "      <td>10.00274</td>\n",
       "      <td>0.134314</td>\n",
       "      <td>438.720001</td>\n",
       "      <td>411.907796</td>\n",
       "      <td>0.065093</td>\n",
       "      <td>0.48463</td>\n",
       "    </tr>\n",
       "  </tbody>\n",
       "</table>\n",
       "</div>"
      ],
      "text/plain": [
       "  ticker  r2_train train_years annualized_return current_price  fair_price  \\\n",
       "0    IVV  0.971054    10.00274          0.134314    438.720001  411.907796   \n",
       "\n",
       "  over_value_range over_value_years  \n",
       "0         0.065093          0.48463  "
      ]
     },
     "execution_count": 4,
     "metadata": {},
     "output_type": "execute_result"
    }
   ],
   "source": [
    "d_SP500 = {ticker:daily_price for ticker, daily_price in d_instrument_data.items() if ticker=='IVV'}\n",
    "\n",
    "df_SP500_valuation, _ = batchValuation(d_SP500, save_result=False)\n",
    "\n",
    "df_SP500_valuation"
   ]
  },
  {
   "cell_type": "markdown",
   "metadata": {},
   "source": [
    "We can use the `addCashPortfolio()` function to add cash into this valuation table. `addCashPortfolio()` takes the following arguments:\n",
    "* `df_valuation_metrics` (pandas.DataFrame): a dataframe with the valuation metrics of an existing portfolio.<br>It is usually the output of `batchValuation()` function.\n",
    "* `id_col` (str): column in `df_valuation_metrics` as the identifier of the instruments in the portfolio.<br>Default to \"ticker\".\n",
    "* `cash_name` (str): a name, default to \"cash\", to be appended under the `id_col`.\n",
    "* `value_col` (str): column in `df_valuation_metrics` with the valuations of each instruments in the portfolio.<br>Default to `over_value_years`.\n",
    "* `cash_value` (float): Valuation of cash. I will just use 0 (neither over-valued nor under-valued).<br>You may want to take inflation or other factor into consideration - up to your decision.\n",
    "\n"
   ]
  },
  {
   "cell_type": "code",
   "execution_count": 5,
   "metadata": {},
   "outputs": [
    {
     "data": {
      "text/html": [
       "<div>\n",
       "<style scoped>\n",
       "    .dataframe tbody tr th:only-of-type {\n",
       "        vertical-align: middle;\n",
       "    }\n",
       "\n",
       "    .dataframe tbody tr th {\n",
       "        vertical-align: top;\n",
       "    }\n",
       "\n",
       "    .dataframe thead th {\n",
       "        text-align: right;\n",
       "    }\n",
       "</style>\n",
       "<table border=\"1\" class=\"dataframe\">\n",
       "  <thead>\n",
       "    <tr style=\"text-align: right;\">\n",
       "      <th></th>\n",
       "      <th>ticker</th>\n",
       "      <th>r2_train</th>\n",
       "      <th>train_years</th>\n",
       "      <th>annualized_return</th>\n",
       "      <th>current_price</th>\n",
       "      <th>fair_price</th>\n",
       "      <th>over_value_range</th>\n",
       "      <th>over_value_years</th>\n",
       "    </tr>\n",
       "  </thead>\n",
       "  <tbody>\n",
       "    <tr>\n",
       "      <th>0</th>\n",
       "      <td>IVV</td>\n",
       "      <td>0.971054</td>\n",
       "      <td>10.00274</td>\n",
       "      <td>0.134314</td>\n",
       "      <td>438.720001</td>\n",
       "      <td>411.907796</td>\n",
       "      <td>0.065093</td>\n",
       "      <td>0.48463</td>\n",
       "    </tr>\n",
       "    <tr>\n",
       "      <th>1</th>\n",
       "      <td>cash</td>\n",
       "      <td>NaN</td>\n",
       "      <td>NaN</td>\n",
       "      <td>NaN</td>\n",
       "      <td>NaN</td>\n",
       "      <td>NaN</td>\n",
       "      <td>NaN</td>\n",
       "      <td>0.00000</td>\n",
       "    </tr>\n",
       "  </tbody>\n",
       "</table>\n",
       "</div>"
      ],
      "text/plain": [
       "  ticker  r2_train train_years annualized_return current_price  fair_price  \\\n",
       "0    IVV  0.971054    10.00274          0.134314    438.720001  411.907796   \n",
       "1   cash       NaN         NaN               NaN           NaN         NaN   \n",
       "\n",
       "  over_value_range  over_value_years  \n",
       "0         0.065093           0.48463  \n",
       "1              NaN           0.00000  "
      ]
     },
     "execution_count": 5,
     "metadata": {},
     "output_type": "execute_result"
    }
   ],
   "source": [
    "df_SP500_and_cash = addCashPortfolio(df_SP500_valuation, cash_value=0.0)\n",
    "\n",
    "df_SP500_and_cash"
   ]
  },
  {
   "cell_type": "markdown",
   "metadata": {},
   "source": [
    "`allocatePortfolio()` will tell you how much % to allocate to each instrument:"
   ]
  },
  {
   "cell_type": "code",
   "execution_count": 6,
   "metadata": {},
   "outputs": [
    {
     "data": {
      "text/html": [
       "<div>\n",
       "<style scoped>\n",
       "    .dataframe tbody tr th:only-of-type {\n",
       "        vertical-align: middle;\n",
       "    }\n",
       "\n",
       "    .dataframe tbody tr th {\n",
       "        vertical-align: top;\n",
       "    }\n",
       "\n",
       "    .dataframe thead th {\n",
       "        text-align: right;\n",
       "    }\n",
       "</style>\n",
       "<table border=\"1\" class=\"dataframe\">\n",
       "  <thead>\n",
       "    <tr style=\"text-align: right;\">\n",
       "      <th></th>\n",
       "      <th>ticker</th>\n",
       "      <th>r2_train</th>\n",
       "      <th>train_years</th>\n",
       "      <th>annualized_return</th>\n",
       "      <th>current_price</th>\n",
       "      <th>fair_price</th>\n",
       "      <th>over_value_range</th>\n",
       "      <th>over_value_years</th>\n",
       "      <th>allocation</th>\n",
       "    </tr>\n",
       "  </thead>\n",
       "  <tbody>\n",
       "    <tr>\n",
       "      <th>0</th>\n",
       "      <td>IVV</td>\n",
       "      <td>0.971054</td>\n",
       "      <td>10.00274</td>\n",
       "      <td>0.134314</td>\n",
       "      <td>438.720001</td>\n",
       "      <td>411.907796</td>\n",
       "      <td>0.065093</td>\n",
       "      <td>0.48463</td>\n",
       "      <td>0.381159</td>\n",
       "    </tr>\n",
       "    <tr>\n",
       "      <th>1</th>\n",
       "      <td>cash</td>\n",
       "      <td>NaN</td>\n",
       "      <td>NaN</td>\n",
       "      <td>NaN</td>\n",
       "      <td>NaN</td>\n",
       "      <td>NaN</td>\n",
       "      <td>NaN</td>\n",
       "      <td>0.00000</td>\n",
       "      <td>0.618841</td>\n",
       "    </tr>\n",
       "  </tbody>\n",
       "</table>\n",
       "</div>"
      ],
      "text/plain": [
       "  ticker  r2_train train_years annualized_return current_price  fair_price  \\\n",
       "0    IVV  0.971054    10.00274          0.134314    438.720001  411.907796   \n",
       "1   cash       NaN         NaN               NaN           NaN         NaN   \n",
       "\n",
       "  over_value_range  over_value_years  allocation  \n",
       "0         0.065093           0.48463    0.381159  \n",
       "1              NaN           0.00000    0.618841  "
      ]
     },
     "execution_count": 6,
     "metadata": {},
     "output_type": "execute_result"
    }
   ],
   "source": [
    "df_SP500_and_cash['allocation'] = allocatePortfolio(df_SP500_and_cash['over_value_years'], with_cash=True)\n",
    "\n",
    "df_SP500_and_cash"
   ]
  },
  {
   "cell_type": "markdown",
   "metadata": {},
   "source": [
    "**OK!** - before going into how `allocatePortfolio()` works in detail, let's take a look at this result.\n",
    "* Because SP500 was over-valued (by 0.48 years), it was allocated with 38% of your total portfolio (or budget).\n",
    "* Cash got higher allocation than SP500, because cash was less over-valued than SP500.\n",
    "\n",
    "If SP500 further grows, the model will suggest less allocation to SP500 and more to cash - \"sell\" in practice.\n",
    "\n",
    "If SP500 drops and even becomes under-valued, the model will suggest more allocation to SP500 and less to cash - \"buy\" in practice.\n",
    "\n",
    "See, you can **\"Shall I buy or sell?\"** now! Simple isn't it?\n",
    "\n",
    "<br>\n",
    "\n",
    "#### Significance of Cash as Part of Portfolio\n",
    "\n",
    "I want to explain this important point first, before we move further.\n",
    "\n",
    "It is optional to have cash as part of a portfolio - you can put 100% of your budget into some stocks - and this is how most mutual funds work.\n",
    "* But you are not a mutual fund - you don't earn management fee!\n",
    "* Please remeber, **stocks are stocks, not cash**. Stocks can be useless when you urgently need money to support your business amid the Covid-19 situation. You only earn money when you sell the stocks and put cash into your pocket.\n",
    "* A complete investment strategy needs to include a **harvest mechanism** for you to secure your earning in cash.\n",
    "\n",
    "The Grandma Portfolio Allocation provides you the option to include cash as part of your portfolio. As you can see from the previous SP500 example, this mechanism actual buys stocks when the valuation(s) is low, and sells - **harvests your earnings** - when the valuation(s) is high.\n",
    "\n",
    "As a result, I encourage you to always include cash as part of your portfolio, and let it managed by the `Grandma`."
   ]
  },
  {
   "cell_type": "markdown",
   "metadata": {},
   "source": [
    "### Grandma Portfolio Allocation - Multiple Instruments\n",
    "\n",
    "Now let's built a portfolio with a close-to-global coverage:\n",
    "* IVV: SP500 ETF\n",
    "* IEV: Europe ETF\n",
    "* VPL: Developed Asia-Pacific ETF\n",
    "* EEMA: Emerging Asia ETF\n",
    "\n",
    "The valuation (as of 2022-02-28) can be computated as below:"
   ]
  },
  {
   "cell_type": "code",
   "execution_count": 7,
   "metadata": {},
   "outputs": [
    {
     "data": {
      "text/html": [
       "<div>\n",
       "<style scoped>\n",
       "    .dataframe tbody tr th:only-of-type {\n",
       "        vertical-align: middle;\n",
       "    }\n",
       "\n",
       "    .dataframe tbody tr th {\n",
       "        vertical-align: top;\n",
       "    }\n",
       "\n",
       "    .dataframe thead th {\n",
       "        text-align: right;\n",
       "    }\n",
       "</style>\n",
       "<table border=\"1\" class=\"dataframe\">\n",
       "  <thead>\n",
       "    <tr style=\"text-align: right;\">\n",
       "      <th></th>\n",
       "      <th>ticker</th>\n",
       "      <th>r2_train</th>\n",
       "      <th>train_years</th>\n",
       "      <th>annualized_return</th>\n",
       "      <th>current_price</th>\n",
       "      <th>fair_price</th>\n",
       "      <th>over_value_range</th>\n",
       "      <th>over_value_years</th>\n",
       "    </tr>\n",
       "  </thead>\n",
       "  <tbody>\n",
       "    <tr>\n",
       "      <th>0</th>\n",
       "      <td>VPL</td>\n",
       "      <td>0.890218</td>\n",
       "      <td>10.00274</td>\n",
       "      <td>0.067348</td>\n",
       "      <td>74.18</td>\n",
       "      <td>77.196246</td>\n",
       "      <td>-0.039072</td>\n",
       "      <td>-0.263147</td>\n",
       "    </tr>\n",
       "    <tr>\n",
       "      <th>1</th>\n",
       "      <td>IVV</td>\n",
       "      <td>0.971054</td>\n",
       "      <td>10.00274</td>\n",
       "      <td>0.134314</td>\n",
       "      <td>438.720001</td>\n",
       "      <td>411.907796</td>\n",
       "      <td>0.065093</td>\n",
       "      <td>0.484630</td>\n",
       "    </tr>\n",
       "    <tr>\n",
       "      <th>2</th>\n",
       "      <td>EEMA</td>\n",
       "      <td>0.847897</td>\n",
       "      <td>10.00274</td>\n",
       "      <td>0.065518</td>\n",
       "      <td>77.550003</td>\n",
       "      <td>79.470586</td>\n",
       "      <td>-0.024167</td>\n",
       "      <td>-0.158339</td>\n",
       "    </tr>\n",
       "    <tr>\n",
       "      <th>3</th>\n",
       "      <td>IEV</td>\n",
       "      <td>0.780975</td>\n",
       "      <td>10.00274</td>\n",
       "      <td>0.052644</td>\n",
       "      <td>50.130001</td>\n",
       "      <td>49.242054</td>\n",
       "      <td>0.018032</td>\n",
       "      <td>0.342530</td>\n",
       "    </tr>\n",
       "    <tr>\n",
       "      <th>4</th>\n",
       "      <td>cash</td>\n",
       "      <td>NaN</td>\n",
       "      <td>NaN</td>\n",
       "      <td>NaN</td>\n",
       "      <td>NaN</td>\n",
       "      <td>NaN</td>\n",
       "      <td>NaN</td>\n",
       "      <td>0.000000</td>\n",
       "    </tr>\n",
       "  </tbody>\n",
       "</table>\n",
       "</div>"
      ],
      "text/plain": [
       "  ticker  r2_train train_years annualized_return current_price  fair_price  \\\n",
       "0    VPL  0.890218    10.00274          0.067348         74.18   77.196246   \n",
       "1    IVV  0.971054    10.00274          0.134314    438.720001  411.907796   \n",
       "2   EEMA  0.847897    10.00274          0.065518     77.550003   79.470586   \n",
       "3    IEV  0.780975    10.00274          0.052644     50.130001   49.242054   \n",
       "4   cash       NaN         NaN               NaN           NaN         NaN   \n",
       "\n",
       "  over_value_range  over_value_years  \n",
       "0        -0.039072         -0.263147  \n",
       "1         0.065093          0.484630  \n",
       "2        -0.024167         -0.158339  \n",
       "3         0.018032          0.342530  \n",
       "4              NaN          0.000000  "
      ]
     },
     "execution_count": 7,
     "metadata": {},
     "output_type": "execute_result"
    }
   ],
   "source": [
    "df_valuation, _ = batchValuation(d_instrument_data, save_result=False)\n",
    "df_valuation = addCashPortfolio(df_valuation, cash_value=0.0)\n",
    "\n",
    "df_valuation"
   ]
  },
  {
   "cell_type": "markdown",
   "metadata": {},
   "source": [
    "#### Correlation Weight\n",
    "\n",
    "The final portfolio allocation is determined by two factors - a \"weight\" and the valuations.\n",
    "\n",
    "* The \"weight\" can be selected arbitrarily by your preference - for example, you may have a strong personal interest to invest more in SP500.\n",
    "* Or, there can no weight - allocation purely based on valuations.\n",
    "* Or, a common quantitative practice - the **correlation weight**.\n",
    "\n",
    "Probably you are already quite familar with correlation - yes, it is about **diversification**:\n",
    "* Highly correlated instruments won't reduce the overall risk, because their price trend to go up and down together.\n",
    "* In general you want to build a portfolio with instruments not so correlated with each other.\n",
    "\n",
    "But how to **implement this concept in a quantitative manner**? Let me give you an example:\n",
    "\n",
    "* Say, we have two instruments, `A` and `B`, and they are not so correlated:\n",
    "    * `cor(A, B) = cor(B, A) = 0.4`\n",
    "* Without additional information, let's equally divide our portfolio as `A = 50%, B = 50%`.\n",
    "* Now, there is a new instrument `C` which is totally correlated to `B`\n",
    "    * `cor(B, C) = cor(C, B) = 1`\n",
    "    * `cor(A, C) = cor(C, A) = 0.4`\n",
    "* Without additional information, the portfolio should become `A = 50%, B = 25%, C = 25%`\n",
    "    * Please think about this logic carefully, because the math is build on top of this.\n",
    "\n",
    "Below is the math to make it happen:\n",
    "* For instrument `A`:\n",
    "    * `cor(A, B) = 0.4, cor(A, C) = 0.4`\n",
    "    * `Score(A) = 1 - cor(A, B) + 1 - cor(A, C) = 1.2`\n",
    "* For instrument `B`:\n",
    "    * `cor(B, A) = 0.4, cor(B, C) = 1`\n",
    "    * `Score(B) = 1 - cor(B, A) + 1 - cor(B, A) = 0.6`\n",
    "* For instrument `C`:\n",
    "    * `cor(C, A) = 0.4, cor(C, B) = 1`\n",
    "    * `Score(C) = 1 - cor(C, A) + 1 - cor(C, B) = 0.6`\n",
    "* Now for the correlation weights:\n",
    "    * `A = Score(A) / SUM(Score A, B, C) = 1.2 / (1.2 + 0.6 + 0.6) = 50%`\n",
    "    * `B = Score(B) / SUM(Score A, B, C) = 0.6 / (1.2 + 0.6 + 0.6) = 25%`\n",
    "    * `C = Score(C) / SUM(Score A, B, C) = 0.6 / (1.2 + 0.6 + 0.6) = 25%`\n",
    "\n",
    "This math can be easily scaled up to more than 3 instruments. The `getCorrelationWeight()` function is provided to you, which takes the following arguments:\n",
    "* `d_instrument_prices` (dict): Dictionary with the daily price data of each instrument. Refer to `d_instrument_data` loaded at the beginning of the notebook.\n",
    "* `price_col` (str): The column name to in the data to indicate daily price. Default to `close_adj`.\n",
    "* `recent_months` (str): Number of recent months, before `date_end`, to exclude from correlation computation. Default to 0.\n",
    "* `train_years` (str): Years of historical data, after excluding `recent_months`, for correlation computation. Default to 10 years.\n",
    "* `date_end` (date): Data after this date will not be used. Default to None.\n",
    "* `with_cash` (bool): If True, a fixed weight will be allocate to cash before computing the correlation. I will expalin this later.\n",
    "* `cash_name` (str): Name of cash to be presented as key in the output dictionary. Default to `cash`.\n",
    "* `verbose` (int): 2 to print detailed information; 1 to print high-level information; 0 to suppress print.\n",
    "* `printfunc` (function): function to output messages. Default to `print`.\n",
    "\n",
    "Let's first see the result of `with_cash=False`:"
   ]
  },
  {
   "cell_type": "code",
   "execution_count": 8,
   "metadata": {},
   "outputs": [
    {
     "name": "stderr",
     "output_type": "stream",
     "text": [
      "2022-03-03 22:01:30,721 INFO VPL: Selected 2516 rows over 2516 dates from 2012-03-01 to 2022-02-28.\n",
      "2022-03-03 22:01:30,732 INFO IVV: Selected 2516 rows over 2516 dates from 2012-03-01 to 2022-02-28.\n",
      "2022-03-03 22:01:30,742 INFO EEMA: Selected 2516 rows over 2516 dates from 2012-03-01 to 2022-02-28.\n",
      "2022-03-03 22:01:30,753 INFO IEV: Selected 2516 rows over 2516 dates from 2012-03-01 to 2022-02-28.\n"
     ]
    },
    {
     "data": {
      "text/plain": [
       "{'VPL': 0.1666199308736074,\n",
       " 'IVV': 0.2752411752938485,\n",
       " 'EEMA': 0.2481453204446346,\n",
       " 'IEV': 0.30999357338790945}"
      ]
     },
     "execution_count": 8,
     "metadata": {},
     "output_type": "execute_result"
    }
   ],
   "source": [
    "getCorrelationWeight(d_instrument_data, with_cash=False, verbose=2, printfunc=logPrint)"
   ]
  },
  {
   "cell_type": "markdown",
   "metadata": {},
   "source": [
    "The total weight sums up to 100%:\n",
    "* IEV (Europe) gets the highest weight, because it is least correlated with other ETFs (SP500 / Asia).\n",
    "* VPL (Developed Asia-Pacific) gets the lowest weight, because it is more correlated with other ETFs.\n",
    "\n",
    "Now let's see the result of `with_cash=True`:"
   ]
  },
  {
   "cell_type": "code",
   "execution_count": 9,
   "metadata": {},
   "outputs": [
    {
     "data": {
      "text/plain": [
       "{'VPL': 0.13329594469888595,\n",
       " 'IVV': 0.22019294023507885,\n",
       " 'EEMA': 0.19851625635570772,\n",
       " 'IEV': 0.2479948587103276,\n",
       " 'cash': 0.2}"
      ]
     },
     "execution_count": 9,
     "metadata": {},
     "output_type": "execute_result"
    }
   ],
   "source": [
    "getCorrelationWeight(d_instrument_data, with_cash=True, verbose=0, printfunc=logPrint)"
   ]
  },
  {
   "cell_type": "markdown",
   "metadata": {},
   "source": [
    "Let me explain the result above:\n",
    "* Cash always has little correlation with stocks.\n",
    "* If using the same formulation as stocks, cash will get a huge correlation weight.\n",
    "* To cope with this, we need to handle cash separately.\n",
    "\n",
    "In this case, because there are totally 5 instruments (including cash):\n",
    "* Firstly, cash was allocated with fixed 100% / 5 = 20%\n",
    "* Then the remaining 80% was allocated to the four ETFs based on correlation.\n",
    "\n",
    "\n"
   ]
  },
  {
   "cell_type": "markdown",
   "metadata": {},
   "source": [
    "#### Portfolio Allocation - the Details\n",
    "\n",
    "We have talked about the first factor of portfolio allocation - correlation weight. Now we will deep dive into the valuation part.\n",
    "\n"
   ]
  },
  {
   "cell_type": "code",
   "execution_count": null,
   "metadata": {},
   "outputs": [],
   "source": []
  },
  {
   "cell_type": "code",
   "execution_count": null,
   "metadata": {},
   "outputs": [],
   "source": []
  },
  {
   "cell_type": "code",
   "execution_count": null,
   "metadata": {},
   "outputs": [],
   "source": []
  },
  {
   "cell_type": "code",
   "execution_count": null,
   "metadata": {},
   "outputs": [],
   "source": []
  }
 ],
 "metadata": {
  "interpreter": {
   "hash": "1c1a885b6a591ec15507fc84277222a3df93b2df7bfbab7d41ee02a4dac7a176"
  },
  "kernelspec": {
   "display_name": "Python 3 (ipykernel)",
   "language": "python",
   "name": "python3"
  },
  "language_info": {
   "codemirror_mode": {
    "name": "ipython",
    "version": 3
   },
   "file_extension": ".py",
   "mimetype": "text/x-python",
   "name": "python",
   "nbconvert_exporter": "python",
   "pygments_lexer": "ipython3",
   "version": "3.9.7"
  }
 },
 "nbformat": 4,
 "nbformat_minor": 4
}
