{
 "cells": [
  {
   "cell_type": "code",
   "execution_count": 1,
   "metadata": {},
   "outputs": [],
   "source": [
    "from grandma_stock_valuation import FileLogger,loadPacakgeData\n",
    "from grandma_stock_valuation import batchValuation, caliValueWithGrowth, addCashPortfolio\n",
    "from grandma_stock_valuation import getCorrelationWeight, allocatePortfolio\n",
    "\n",
    "logger = FileLogger()\n",
    "logPrint = logger.logPandas\n"
   ]
  },
  {
   "cell_type": "markdown",
   "metadata": {},
   "source": [
    "### Load Data"
   ]
  },
  {
   "cell_type": "code",
   "execution_count": 2,
   "metadata": {},
   "outputs": [
    {
     "name": "stdout",
     "output_type": "stream",
     "text": [
      "VPL data contains 4273 rows, 4273 dates from 2005-03-10 to 2022-02-28.\n",
      "IVV data contains 5479 rows, 5479 dates from 2000-05-19 to 2022-02-28.\n",
      "EEMA data contains 2530 rows, 2530 dates from 2012-02-09 to 2022-02-28.\n",
      "IEV data contains 5431 rows, 5431 dates from 2000-07-28 to 2022-02-28.\n"
     ]
    },
    {
     "data": {
      "text/plain": [
       "{'IVV': 'SP500',\n",
       " 'VPL': 'Developed Asia-Pacific',\n",
       " 'IEV': 'Europe',\n",
       " 'EEMA': 'Emerging Asia'}"
      ]
     },
     "execution_count": 2,
     "metadata": {},
     "output_type": "execute_result"
    }
   ],
   "source": [
    "d_instrument_data, d_instrument = loadPacakgeData(verbose=2)\n",
    "\n",
    "d_instrument"
   ]
  },
  {
   "cell_type": "markdown",
   "metadata": {},
   "source": [
    "### Grandma Valuation"
   ]
  },
  {
   "cell_type": "code",
   "execution_count": 3,
   "metadata": {},
   "outputs": [
    {
     "data": {
      "text/html": [
       "<div>\n",
       "<style scoped>\n",
       "    .dataframe tbody tr th:only-of-type {\n",
       "        vertical-align: middle;\n",
       "    }\n",
       "\n",
       "    .dataframe tbody tr th {\n",
       "        vertical-align: top;\n",
       "    }\n",
       "\n",
       "    .dataframe thead th {\n",
       "        text-align: right;\n",
       "    }\n",
       "</style>\n",
       "<table border=\"1\" class=\"dataframe\">\n",
       "  <thead>\n",
       "    <tr style=\"text-align: right;\">\n",
       "      <th></th>\n",
       "      <th>ticker</th>\n",
       "      <th>r2_train</th>\n",
       "      <th>train_years</th>\n",
       "      <th>annualized_return</th>\n",
       "      <th>current_price</th>\n",
       "      <th>fair_price</th>\n",
       "      <th>over_value_range</th>\n",
       "      <th>over_value_score</th>\n",
       "      <th>name</th>\n",
       "    </tr>\n",
       "  </thead>\n",
       "  <tbody>\n",
       "    <tr>\n",
       "      <th>0</th>\n",
       "      <td>VPL</td>\n",
       "      <td>0.890218</td>\n",
       "      <td>10.00274</td>\n",
       "      <td>0.067348</td>\n",
       "      <td>74.18</td>\n",
       "      <td>77.196246</td>\n",
       "      <td>-0.039072</td>\n",
       "      <td>-0.026315</td>\n",
       "      <td>Developed Asia-Pacific</td>\n",
       "    </tr>\n",
       "    <tr>\n",
       "      <th>1</th>\n",
       "      <td>IVV</td>\n",
       "      <td>0.971054</td>\n",
       "      <td>10.00274</td>\n",
       "      <td>0.134314</td>\n",
       "      <td>438.720001</td>\n",
       "      <td>411.907796</td>\n",
       "      <td>0.065093</td>\n",
       "      <td>0.048463</td>\n",
       "      <td>SP500</td>\n",
       "    </tr>\n",
       "    <tr>\n",
       "      <th>2</th>\n",
       "      <td>EEMA</td>\n",
       "      <td>0.847897</td>\n",
       "      <td>10.00274</td>\n",
       "      <td>0.065518</td>\n",
       "      <td>77.550003</td>\n",
       "      <td>79.470586</td>\n",
       "      <td>-0.024167</td>\n",
       "      <td>-0.015834</td>\n",
       "      <td>Emerging Asia</td>\n",
       "    </tr>\n",
       "    <tr>\n",
       "      <th>3</th>\n",
       "      <td>IEV</td>\n",
       "      <td>0.780975</td>\n",
       "      <td>10.00274</td>\n",
       "      <td>0.052644</td>\n",
       "      <td>50.130001</td>\n",
       "      <td>49.242054</td>\n",
       "      <td>0.018032</td>\n",
       "      <td>0.034253</td>\n",
       "      <td>Europe</td>\n",
       "    </tr>\n",
       "  </tbody>\n",
       "</table>\n",
       "</div>"
      ],
      "text/plain": [
       "  ticker  r2_train train_years annualized_return current_price  fair_price  \\\n",
       "0    VPL  0.890218    10.00274          0.067348         74.18   77.196246   \n",
       "1    IVV  0.971054    10.00274          0.134314    438.720001  411.907796   \n",
       "2   EEMA  0.847897    10.00274          0.065518     77.550003   79.470586   \n",
       "3    IEV  0.780975    10.00274          0.052644     50.130001   49.242054   \n",
       "\n",
       "  over_value_range  over_value_score                    name  \n",
       "0        -0.039072         -0.026315  Developed Asia-Pacific  \n",
       "1         0.065093          0.048463                   SP500  \n",
       "2        -0.024167         -0.015834           Emerging Asia  \n",
       "3         0.018032          0.034253                  Europe  "
      ]
     },
     "execution_count": 3,
     "metadata": {},
     "output_type": "execute_result"
    }
   ],
   "source": [
    "df_valuation_metrics, d_fig = batchValuation(d_instrument_data, draw_figure=False, verbose=0, printfunc=logPrint)\n",
    "df_valuation_metrics['over_value_score'] = caliValueWithGrowth(\n",
    "    df_valuation_metrics['over_value_range'],\n",
    "    df_valuation_metrics['annualized_return'],\n",
    "    method='years', # 'subtract'\n",
    "    growth_scale=0.2\n",
    "    )\n",
    "df_valuation_metrics['name'] = df_valuation_metrics['ticker'].apply(lambda s: d_instrument[s])\n",
    "\n",
    "df_valuation_metrics"
   ]
  },
  {
   "cell_type": "markdown",
   "metadata": {},
   "source": [
    "### Grandma Portfolio Allocation"
   ]
  },
  {
   "cell_type": "code",
   "execution_count": 22,
   "metadata": {},
   "outputs": [
    {
     "data": {
      "text/html": [
       "<div>\n",
       "<style scoped>\n",
       "    .dataframe tbody tr th:only-of-type {\n",
       "        vertical-align: middle;\n",
       "    }\n",
       "\n",
       "    .dataframe tbody tr th {\n",
       "        vertical-align: top;\n",
       "    }\n",
       "\n",
       "    .dataframe thead th {\n",
       "        text-align: right;\n",
       "    }\n",
       "</style>\n",
       "<table border=\"1\" class=\"dataframe\">\n",
       "  <thead>\n",
       "    <tr style=\"text-align: right;\">\n",
       "      <th></th>\n",
       "      <th>ticker</th>\n",
       "      <th>r2_train</th>\n",
       "      <th>train_years</th>\n",
       "      <th>annualized_return</th>\n",
       "      <th>current_price</th>\n",
       "      <th>fair_price</th>\n",
       "      <th>over_value_range</th>\n",
       "      <th>over_value_score</th>\n",
       "      <th>name</th>\n",
       "      <th>cor_weight</th>\n",
       "      <th>portfolio</th>\n",
       "    </tr>\n",
       "  </thead>\n",
       "  <tbody>\n",
       "    <tr>\n",
       "      <th>0</th>\n",
       "      <td>VPL</td>\n",
       "      <td>0.890218</td>\n",
       "      <td>10.00274</td>\n",
       "      <td>0.067348</td>\n",
       "      <td>74.18</td>\n",
       "      <td>77.196246</td>\n",
       "      <td>-0.039072</td>\n",
       "      <td>-0.052542</td>\n",
       "      <td>Developed Asia-Pacific</td>\n",
       "      <td>0.133296</td>\n",
       "      <td>0.190646</td>\n",
       "    </tr>\n",
       "    <tr>\n",
       "      <th>1</th>\n",
       "      <td>IVV</td>\n",
       "      <td>0.971054</td>\n",
       "      <td>10.00274</td>\n",
       "      <td>0.134314</td>\n",
       "      <td>438.720001</td>\n",
       "      <td>411.907796</td>\n",
       "      <td>0.065093</td>\n",
       "      <td>0.038230</td>\n",
       "      <td>SP500</td>\n",
       "      <td>0.220193</td>\n",
       "      <td>0.135015</td>\n",
       "    </tr>\n",
       "    <tr>\n",
       "      <th>2</th>\n",
       "      <td>EEMA</td>\n",
       "      <td>0.847897</td>\n",
       "      <td>10.00274</td>\n",
       "      <td>0.065518</td>\n",
       "      <td>77.550003</td>\n",
       "      <td>79.470586</td>\n",
       "      <td>-0.024167</td>\n",
       "      <td>-0.037271</td>\n",
       "      <td>Emerging Asia</td>\n",
       "      <td>0.198516</td>\n",
       "      <td>0.259878</td>\n",
       "    </tr>\n",
       "    <tr>\n",
       "      <th>3</th>\n",
       "      <td>IEV</td>\n",
       "      <td>0.780975</td>\n",
       "      <td>10.00274</td>\n",
       "      <td>0.052644</td>\n",
       "      <td>50.130001</td>\n",
       "      <td>49.242054</td>\n",
       "      <td>0.018032</td>\n",
       "      <td>0.007503</td>\n",
       "      <td>Europe</td>\n",
       "      <td>0.247995</td>\n",
       "      <td>0.221429</td>\n",
       "    </tr>\n",
       "    <tr>\n",
       "      <th>4</th>\n",
       "      <td>cash</td>\n",
       "      <td>NaN</td>\n",
       "      <td>NaN</td>\n",
       "      <td>0.000000</td>\n",
       "      <td>NaN</td>\n",
       "      <td>NaN</td>\n",
       "      <td>NaN</td>\n",
       "      <td>0.000000</td>\n",
       "      <td>NaN</td>\n",
       "      <td>0.200000</td>\n",
       "      <td>0.193032</td>\n",
       "    </tr>\n",
       "  </tbody>\n",
       "</table>\n",
       "</div>"
      ],
      "text/plain": [
       "  ticker  r2_train train_years  annualized_return current_price  fair_price  \\\n",
       "0    VPL  0.890218    10.00274           0.067348         74.18   77.196246   \n",
       "1    IVV  0.971054    10.00274           0.134314    438.720001  411.907796   \n",
       "2   EEMA  0.847897    10.00274           0.065518     77.550003   79.470586   \n",
       "3    IEV  0.780975    10.00274           0.052644     50.130001   49.242054   \n",
       "4   cash       NaN         NaN           0.000000           NaN         NaN   \n",
       "\n",
       "  over_value_range  over_value_score                    name  cor_weight  \\\n",
       "0        -0.039072         -0.052542  Developed Asia-Pacific    0.133296   \n",
       "1         0.065093          0.038230                   SP500    0.220193   \n",
       "2        -0.024167         -0.037271           Emerging Asia    0.198516   \n",
       "3         0.018032          0.007503                  Europe    0.247995   \n",
       "4              NaN          0.000000                     NaN    0.200000   \n",
       "\n",
       "   portfolio  \n",
       "0   0.190646  \n",
       "1   0.135015  \n",
       "2   0.259878  \n",
       "3   0.221429  \n",
       "4   0.193032  "
      ]
     },
     "execution_count": 22,
     "metadata": {},
     "output_type": "execute_result"
    }
   ],
   "source": [
    "instruments_select = ['IVV', 'EEMA', 'VPL', 'IEV']\n",
    "df_portfolio = df_valuation_metrics[df_valuation_metrics['ticker'].isin(instruments_select)].copy()\n",
    "\n",
    "df_portfolio = addCashPortfolio(df_portfolio, value_col='over_value_score')\n",
    "\n",
    "d_instrument_prices = {ticker:data for ticker, data in d_instrument_data.items() if ticker in instruments_select}\n",
    "d_cor_weights = getCorrelationWeight(d_instrument_prices, with_cash=True, cash_name='cash', verbose=0)\n",
    "\n",
    "df_portfolio['cor_weight'] = df_portfolio['ticker'].apply(lambda t: d_cor_weights[t])\n",
    "\n",
    "weights = df_portfolio['cor_weight']\n",
    "df_portfolio['portfolio'] = allocatePortfolio(df_portfolio['over_value_score'], scale=20, transformation='sigmoid', weights=weights)\n",
    "\n",
    "df_portfolio"
   ]
  },
  {
   "cell_type": "code",
   "execution_count": null,
   "metadata": {},
   "outputs": [],
   "source": []
  }
 ],
 "metadata": {
  "interpreter": {
   "hash": "1c1a885b6a591ec15507fc84277222a3df93b2df7bfbab7d41ee02a4dac7a176"
  },
  "kernelspec": {
   "display_name": "Python 3.9.7 64-bit ('base': conda)",
   "language": "python",
   "name": "python3"
  },
  "language_info": {
   "codemirror_mode": {
    "name": "ipython",
    "version": 3
   },
   "file_extension": ".py",
   "mimetype": "text/x-python",
   "name": "python",
   "nbconvert_exporter": "python",
   "pygments_lexer": "ipython3",
   "version": "3.9.7"
  },
  "orig_nbformat": 4
 },
 "nbformat": 4,
 "nbformat_minor": 2
}
