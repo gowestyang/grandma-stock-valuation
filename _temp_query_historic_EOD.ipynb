{
 "cells": [
  {
   "cell_type": "code",
   "execution_count": 1,
   "metadata": {},
   "outputs": [],
   "source": [
    "from utilities.logger import FileLogger\n",
    "from utilities.yahoo_data import YahooDataLoader\n",
    "\n",
    "logger = FileLogger()\n",
    "logPrint = logger.log_pandas\n"
   ]
  },
  {
   "cell_type": "code",
   "execution_count": 2,
   "metadata": {},
   "outputs": [
    {
     "name": "stdout",
     "output_type": "stream",
     "text": [
      "AAXJ: Queried EOD data contains 3397 rows over 3397 dates from 2008-08-15 to 2022-02-10.\n",
      "AAXJ: Save queried data to data/AAXJ_EOD.csv.gz.\n"
     ]
    },
    {
     "data": {
      "text/html": [
       "<div>\n",
       "<style scoped>\n",
       "    .dataframe tbody tr th:only-of-type {\n",
       "        vertical-align: middle;\n",
       "    }\n",
       "\n",
       "    .dataframe tbody tr th {\n",
       "        vertical-align: top;\n",
       "    }\n",
       "\n",
       "    .dataframe thead th {\n",
       "        text-align: right;\n",
       "    }\n",
       "</style>\n",
       "<table border=\"1\" class=\"dataframe\">\n",
       "  <thead>\n",
       "    <tr style=\"text-align: right;\">\n",
       "      <th></th>\n",
       "      <th>date</th>\n",
       "      <th>open</th>\n",
       "      <th>high</th>\n",
       "      <th>low</th>\n",
       "      <th>close</th>\n",
       "      <th>close_adj</th>\n",
       "      <th>volume</th>\n",
       "    </tr>\n",
       "  </thead>\n",
       "  <tbody>\n",
       "    <tr>\n",
       "      <th>3392</th>\n",
       "      <td>2022-02-04</td>\n",
       "      <td>80.930000</td>\n",
       "      <td>81.800003</td>\n",
       "      <td>80.779999</td>\n",
       "      <td>81.519997</td>\n",
       "      <td>81.519997</td>\n",
       "      <td>643700</td>\n",
       "    </tr>\n",
       "    <tr>\n",
       "      <th>3393</th>\n",
       "      <td>2022-02-07</td>\n",
       "      <td>81.290001</td>\n",
       "      <td>81.660004</td>\n",
       "      <td>81.040001</td>\n",
       "      <td>81.300003</td>\n",
       "      <td>81.300003</td>\n",
       "      <td>1251600</td>\n",
       "    </tr>\n",
       "    <tr>\n",
       "      <th>3394</th>\n",
       "      <td>2022-02-08</td>\n",
       "      <td>81.080002</td>\n",
       "      <td>81.989998</td>\n",
       "      <td>81.080002</td>\n",
       "      <td>81.919998</td>\n",
       "      <td>81.919998</td>\n",
       "      <td>709700</td>\n",
       "    </tr>\n",
       "    <tr>\n",
       "      <th>3395</th>\n",
       "      <td>2022-02-09</td>\n",
       "      <td>82.669998</td>\n",
       "      <td>83.330002</td>\n",
       "      <td>82.639999</td>\n",
       "      <td>83.320000</td>\n",
       "      <td>83.320000</td>\n",
       "      <td>917900</td>\n",
       "    </tr>\n",
       "    <tr>\n",
       "      <th>3396</th>\n",
       "      <td>2022-02-10</td>\n",
       "      <td>82.470001</td>\n",
       "      <td>83.690002</td>\n",
       "      <td>82.470001</td>\n",
       "      <td>82.690002</td>\n",
       "      <td>82.690002</td>\n",
       "      <td>1180900</td>\n",
       "    </tr>\n",
       "  </tbody>\n",
       "</table>\n",
       "</div>"
      ],
      "text/plain": [
       "           date       open       high        low      close  close_adj  \\\n",
       "3392 2022-02-04  80.930000  81.800003  80.779999  81.519997  81.519997   \n",
       "3393 2022-02-07  81.290001  81.660004  81.040001  81.300003  81.300003   \n",
       "3394 2022-02-08  81.080002  81.989998  81.080002  81.919998  81.919998   \n",
       "3395 2022-02-09  82.669998  83.330002  82.639999  83.320000  83.320000   \n",
       "3396 2022-02-10  82.470001  83.690002  82.470001  82.690002  82.690002   \n",
       "\n",
       "       volume  \n",
       "3392   643700  \n",
       "3393  1251600  \n",
       "3394   709700  \n",
       "3395   917900  \n",
       "3396  1180900  "
      ]
     },
     "execution_count": 2,
     "metadata": {},
     "output_type": "execute_result"
    }
   ],
   "source": [
    "ticker = 'AAXJ'\n",
    "\n",
    "yahoo = YahooDataLoader(ticker, date_start='2000-01-01', printfunc=logPrint)\n",
    "df = yahoo.queryEOD(save=True)\n",
    "\n",
    "df.tail(5)"
   ]
  },
  {
   "cell_type": "code",
   "execution_count": null,
   "metadata": {},
   "outputs": [],
   "source": []
  }
 ],
 "metadata": {
  "interpreter": {
   "hash": "1f2b3eeb8c8c57cc9fbb2de5c20e128904099953a55cc5a227bd47864e28a4ba"
  },
  "kernelspec": {
   "display_name": "Python 3.8.5 64-bit ('base': conda)",
   "name": "python3"
  },
  "language_info": {
   "codemirror_mode": {
    "name": "ipython",
    "version": 3
   },
   "file_extension": ".py",
   "mimetype": "text/x-python",
   "name": "python",
   "nbconvert_exporter": "python",
   "pygments_lexer": "ipython3",
   "version": "3.8.8"
  }
 },
 "nbformat": 4,
 "nbformat_minor": 2
}
