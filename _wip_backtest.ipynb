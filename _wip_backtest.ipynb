{
 "cells": [
  {
   "cell_type": "markdown",
   "metadata": {},
   "source": [
    "# WIP: Back-test\n",
    "\n",
    "This example is still WIP.\n",
    "* Load Data\n",
    "* Back Test - the Basic Idea"
   ]
  },
  {
   "cell_type": "code",
   "execution_count": 1,
   "metadata": {},
   "outputs": [],
   "source": [
    "from grandma_stock_valuation import FileLogger, loadPacakgeData\n",
    "from grandma_stock_valuation import batchValuation, addCashPortfolio, getCorrelationWeight, allocatePortfolio\n",
    "\n",
    "# Refer to example_0_FileLogger.ipynb for details of the FileLogger.\n",
    "logger = FileLogger()\n",
    "logPrint = logger.logPandas"
   ]
  },
  {
   "cell_type": "markdown",
   "metadata": {},
   "source": [
    "### Load Data\n",
    "\n",
    "For this example, I will use the stored package data.\n",
    "\n",
    "To query data from Yahoo, please refer to *example_1_yahoo_data_loader.ipynb*."
   ]
  },
  {
   "cell_type": "code",
   "execution_count": 2,
   "metadata": {},
   "outputs": [
    {
     "name": "stdout",
     "output_type": "stream",
     "text": [
      "EEMA data contains 2530 rows, 2530 dates from 2012-02-09 to 2022-02-28.\n",
      "IEV data contains 5431 rows, 5431 dates from 2000-07-28 to 2022-02-28.\n",
      "IVV data contains 5479 rows, 5479 dates from 2000-05-19 to 2022-02-28.\n",
      "VPL data contains 4273 rows, 4273 dates from 2005-03-10 to 2022-02-28.\n"
     ]
    },
    {
     "data": {
      "text/plain": [
       "{'IVV': 'SP500',\n",
       " 'VPL': 'Developed Asia-Pacific',\n",
       " 'IEV': 'Europe',\n",
       " 'EEMA': 'Emerging Asia'}"
      ]
     },
     "execution_count": 2,
     "metadata": {},
     "output_type": "execute_result"
    }
   ],
   "source": [
    "d_instrument_data, d_instrument = loadPacakgeData(verbose=2)\n",
    "\n",
    "d_instrument"
   ]
  },
  {
   "cell_type": "code",
   "execution_count": 3,
   "metadata": {},
   "outputs": [
    {
     "name": "stderr",
     "output_type": "stream",
     "text": [
      "2022-03-06 07:25:00,109 INFO Keys of d_instrument_data: dict_keys(['EEMA', 'IEV', 'IVV', 'VPL'])\n",
      "2022-03-06 07:25:00,114 INFO IVV (SP500 ETF): \n",
      "        date       open       high        low      close  close_adj   volume\n",
      "0 2000-05-19  142.65625  142.65625  140.25000  140.68750  94.121216   775500\n",
      "1 2000-05-22  140.59375  140.59375  136.81250  139.81250  93.535789  1850600\n",
      "2 2000-05-23  140.21875  140.21875  137.68750  137.68750  92.114151   373900\n",
      "3 2000-05-24  137.75000  140.06250  136.65625  139.75000  93.494003   400300\n",
      "4 2000-05-25  140.03125  140.93750  137.87500  138.46875  92.636810    69600\n",
      "\n"
     ]
    }
   ],
   "source": [
    "logPrint(\"Keys of d_instrument_data:\", str(d_instrument_data.keys()))\n",
    "\n",
    "logPrint(\"IVV (SP500 ETF):\", d_instrument_data['IVV'].head())"
   ]
  },
  {
   "cell_type": "markdown",
   "metadata": {},
   "source": [
    "### Back Test - the Basic Idea\n",
    "\n",
    "WIP\n",
    "* back test is to understand how your strategy behaves under various scenanios, not to prove your strategy can beat xxx.\n",
    "* most investment products are not built to beat xxx.\n",
    "* historical performance cannot represent future performance.\n"
   ]
  },
  {
   "cell_type": "markdown",
   "metadata": {},
   "source": [
    "### Back Test - WIP"
   ]
  },
  {
   "cell_type": "code",
   "execution_count": 53,
   "metadata": {},
   "outputs": [],
   "source": [
    "price_col = 'close_adj'\n",
    "end_date = None # '2022-01-31'\n",
    "backtest_years = 10\n",
    "minimum_training_years = 5\n",
    "maximum_training_years = 10\n",
    "adjust_months = 1\n",
    "\n",
    "with_cash = True\n",
    "with_correlation_weights = True\n",
    "verbose = 2\n",
    "printfunc = print\n",
    "\n",
    "import pandas as pd\n"
   ]
  },
  {
   "cell_type": "code",
   "execution_count": 38,
   "metadata": {},
   "outputs": [
    {
     "name": "stdout",
     "output_type": "stream",
     "text": [
      "To backtest 10 years, from 2012-02-28 to 2022-02-28\n",
      "EEMA's start date 2012-02-09 is beyond 2007-02-28 for full back-test.\n"
     ]
    },
    {
     "data": {
      "text/html": [
       "<div>\n",
       "<style scoped>\n",
       "    .dataframe tbody tr th:only-of-type {\n",
       "        vertical-align: middle;\n",
       "    }\n",
       "\n",
       "    .dataframe tbody tr th {\n",
       "        vertical-align: top;\n",
       "    }\n",
       "\n",
       "    .dataframe thead th {\n",
       "        text-align: right;\n",
       "    }\n",
       "</style>\n",
       "<table border=\"1\" class=\"dataframe\">\n",
       "  <thead>\n",
       "    <tr style=\"text-align: right;\">\n",
       "      <th></th>\n",
       "      <th>price_EEMA</th>\n",
       "      <th>price_IEV</th>\n",
       "      <th>price_IVV</th>\n",
       "      <th>price_VPL</th>\n",
       "    </tr>\n",
       "    <tr>\n",
       "      <th>date</th>\n",
       "      <th></th>\n",
       "      <th></th>\n",
       "      <th></th>\n",
       "      <th></th>\n",
       "    </tr>\n",
       "  </thead>\n",
       "  <tbody>\n",
       "    <tr>\n",
       "      <th>2002-02-28</th>\n",
       "      <td>NaN</td>\n",
       "      <td>16.412029</td>\n",
       "      <td>75.591682</td>\n",
       "      <td>NaN</td>\n",
       "    </tr>\n",
       "    <tr>\n",
       "      <th>2002-03-01</th>\n",
       "      <td>NaN</td>\n",
       "      <td>16.572498</td>\n",
       "      <td>77.443367</td>\n",
       "      <td>NaN</td>\n",
       "    </tr>\n",
       "    <tr>\n",
       "      <th>2002-03-04</th>\n",
       "      <td>NaN</td>\n",
       "      <td>17.118109</td>\n",
       "      <td>78.743614</td>\n",
       "      <td>NaN</td>\n",
       "    </tr>\n",
       "    <tr>\n",
       "      <th>2002-03-05</th>\n",
       "      <td>NaN</td>\n",
       "      <td>16.992653</td>\n",
       "      <td>78.559822</td>\n",
       "      <td>NaN</td>\n",
       "    </tr>\n",
       "    <tr>\n",
       "      <th>2002-03-06</th>\n",
       "      <td>NaN</td>\n",
       "      <td>17.223148</td>\n",
       "      <td>79.465218</td>\n",
       "      <td>NaN</td>\n",
       "    </tr>\n",
       "  </tbody>\n",
       "</table>\n",
       "</div>"
      ],
      "text/plain": [
       "            price_EEMA  price_IEV  price_IVV  price_VPL\n",
       "date                                                   \n",
       "2002-02-28         NaN  16.412029  75.591682        NaN\n",
       "2002-03-01         NaN  16.572498  77.443367        NaN\n",
       "2002-03-04         NaN  17.118109  78.743614        NaN\n",
       "2002-03-05         NaN  16.992653  78.559822        NaN\n",
       "2002-03-06         NaN  17.223148  79.465218        NaN"
      ]
     },
     "execution_count": 38,
     "metadata": {},
     "output_type": "execute_result"
    }
   ],
   "source": [
    "# clean price data, get start and end date of each ticker\n",
    "d_instrument_prices = {}\n",
    "d_instrument_start_dates = {}\n",
    "d_instrument_end_dates = {}\n",
    "for ticker, df_price in d_instrument_data.items():\n",
    "    df_price = df_price[df_price[price_col] > 0][['date', price_col]].reset_index(drop=True)\n",
    "    df_price['date'] = pd.to_datetime(df_price['date'])\n",
    "    d_instrument_prices[ticker] = df_price\n",
    "    d_instrument_start_dates[ticker] = df_price['date'].min()\n",
    "    d_instrument_end_dates[ticker] = df_price['date'].max()\n",
    "\n",
    "# dates of back-test periods\n",
    "if end_date is None:\n",
    "    backtest_end_date = max(d_instrument_end_dates.values())\n",
    "else:\n",
    "    backtest_end_date = pd.to_datetime(end_date)\n",
    "\n",
    "backtest_start_date = backtest_end_date - pd.DateOffset(years=backtest_years)\n",
    "if verbose > 0: printfunc(f\"To backtest {backtest_years} years, from {backtest_start_date.date()} to {backtest_end_date.date()}\")\n",
    "\n",
    "at_least_start_date = backtest_start_date - pd.DateOffset(years=minimum_training_years)\n",
    "at_most_start_date = backtest_start_date - pd.DateOffset(years=maximum_training_years)\n",
    "\n",
    "for ticker, d in d_instrument_start_dates.items():\n",
    "    if d > at_least_start_date:\n",
    "        printfunc(f\"{ticker}'s start date {d.date()} is beyond {at_least_start_date.date()} for full back-test.\")\n",
    "\n",
    "# combine cleaned price data into one dateframe\n",
    "df_instrument_prices = pd.DataFrame()\n",
    "for ticker, df_price in d_instrument_prices.items():\n",
    "    df = df_price[df_price['date']>=at_most_start_date].copy()\n",
    "    df.rename(columns={price_col:'price_'+ticker}, inplace=True)\n",
    "\n",
    "    if len(df_instrument_prices)==0:\n",
    "        df_instrument_prices = df.copy()\n",
    "        continue\n",
    "    else:\n",
    "        df_instrument_prices = df_instrument_prices.merge(df, 'outer', 'date')\n",
    "\n",
    "df_instrument_prices = df_instrument_prices.sort_values('date').reset_index(drop=True)\n",
    "df_instrument_prices.fillna(method='pad', inplace=True)\n",
    "\n",
    "df_instrument_prices.index = df_instrument_prices['date']\n",
    "df_instrument_prices.drop(columns='date', inplace=True)\n",
    "\n",
    "del d_instrument_prices\n",
    "\n",
    "df_instrument_prices.head()\n"
   ]
  },
  {
   "cell_type": "code",
   "execution_count": 39,
   "metadata": {},
   "outputs": [
    {
     "data": {
      "text/html": [
       "<div>\n",
       "<style scoped>\n",
       "    .dataframe tbody tr th:only-of-type {\n",
       "        vertical-align: middle;\n",
       "    }\n",
       "\n",
       "    .dataframe tbody tr th {\n",
       "        vertical-align: top;\n",
       "    }\n",
       "\n",
       "    .dataframe thead th {\n",
       "        text-align: right;\n",
       "    }\n",
       "</style>\n",
       "<table border=\"1\" class=\"dataframe\">\n",
       "  <thead>\n",
       "    <tr style=\"text-align: right;\">\n",
       "      <th></th>\n",
       "      <th>price_EEMA</th>\n",
       "      <th>price_IEV</th>\n",
       "      <th>price_IVV</th>\n",
       "      <th>price_VPL</th>\n",
       "    </tr>\n",
       "    <tr>\n",
       "      <th>date</th>\n",
       "      <th></th>\n",
       "      <th></th>\n",
       "      <th></th>\n",
       "      <th></th>\n",
       "    </tr>\n",
       "  </thead>\n",
       "  <tbody>\n",
       "    <tr>\n",
       "      <th>2012-02-22</th>\n",
       "      <td>45.725971</td>\n",
       "      <td>27.821569</td>\n",
       "      <td>112.755722</td>\n",
       "      <td>40.177986</td>\n",
       "    </tr>\n",
       "    <tr>\n",
       "      <th>2012-02-23</th>\n",
       "      <td>45.825390</td>\n",
       "      <td>28.091753</td>\n",
       "      <td>113.292702</td>\n",
       "      <td>40.376316</td>\n",
       "    </tr>\n",
       "    <tr>\n",
       "      <th>2012-02-24</th>\n",
       "      <td>45.667973</td>\n",
       "      <td>28.331923</td>\n",
       "      <td>113.482681</td>\n",
       "      <td>40.460224</td>\n",
       "    </tr>\n",
       "    <tr>\n",
       "      <th>2012-02-27</th>\n",
       "      <td>45.146011</td>\n",
       "      <td>28.121778</td>\n",
       "      <td>113.730515</td>\n",
       "      <td>40.361053</td>\n",
       "    </tr>\n",
       "    <tr>\n",
       "      <th>2012-02-28</th>\n",
       "      <td>45.518845</td>\n",
       "      <td>28.361938</td>\n",
       "      <td>114.044487</td>\n",
       "      <td>40.750103</td>\n",
       "    </tr>\n",
       "  </tbody>\n",
       "</table>\n",
       "</div>"
      ],
      "text/plain": [
       "            price_EEMA  price_IEV   price_IVV  price_VPL\n",
       "date                                                    \n",
       "2012-02-22   45.725971  27.821569  112.755722  40.177986\n",
       "2012-02-23   45.825390  28.091753  113.292702  40.376316\n",
       "2012-02-24   45.667973  28.331923  113.482681  40.460224\n",
       "2012-02-27   45.146011  28.121778  113.730515  40.361053\n",
       "2012-02-28   45.518845  28.361938  114.044487  40.750103"
      ]
     },
     "execution_count": 39,
     "metadata": {},
     "output_type": "execute_result"
    }
   ],
   "source": [
    "df_prices_i = df_instrument_prices.loc[:backtest_start_date]\n",
    "\n",
    "df_prices_i.tail()"
   ]
  },
  {
   "cell_type": "code",
   "execution_count": 46,
   "metadata": {},
   "outputs": [
    {
     "data": {
      "text/plain": [
       "dict_keys(['EEMA', 'IEV', 'IVV', 'VPL'])"
      ]
     },
     "execution_count": 46,
     "metadata": {},
     "output_type": "execute_result"
    }
   ],
   "source": [
    "d_instrument_data_i = {}\n",
    "for col in df_prices_i.columns:\n",
    "    ticker = col.replace('price_','')\n",
    "    d_instrument_data_i[ticker] = df_prices_i[col].reset_index().rename(columns={col:'price'})\n",
    "\n",
    "d_instrument_data_i.keys()"
   ]
  },
  {
   "cell_type": "code",
   "execution_count": 59,
   "metadata": {},
   "outputs": [
    {
     "data": {
      "text/html": [
       "<div>\n",
       "<style scoped>\n",
       "    .dataframe tbody tr th:only-of-type {\n",
       "        vertical-align: middle;\n",
       "    }\n",
       "\n",
       "    .dataframe tbody tr th {\n",
       "        vertical-align: top;\n",
       "    }\n",
       "\n",
       "    .dataframe thead th {\n",
       "        text-align: right;\n",
       "    }\n",
       "</style>\n",
       "<table border=\"1\" class=\"dataframe\">\n",
       "  <thead>\n",
       "    <tr style=\"text-align: right;\">\n",
       "      <th></th>\n",
       "      <th>ticker</th>\n",
       "      <th>r2_train</th>\n",
       "      <th>train_years</th>\n",
       "      <th>annualized_return</th>\n",
       "      <th>current_price</th>\n",
       "      <th>fair_price</th>\n",
       "      <th>over_value_range</th>\n",
       "      <th>over_value_years</th>\n",
       "      <th>weight</th>\n",
       "      <th>portfolio_allocation</th>\n",
       "      <th>dollar</th>\n",
       "    </tr>\n",
       "  </thead>\n",
       "  <tbody>\n",
       "    <tr>\n",
       "      <th>0</th>\n",
       "      <td>EEMA</td>\n",
       "      <td>0.337642</td>\n",
       "      <td>0.052055</td>\n",
       "      <td>0.471226</td>\n",
       "      <td>45.518845</td>\n",
       "      <td>45.576127</td>\n",
       "      <td>-0.001257</td>\n",
       "      <td>-0.059226</td>\n",
       "      <td>0.351880</td>\n",
       "      <td>NaN</td>\n",
       "      <td>NaN</td>\n",
       "    </tr>\n",
       "    <tr>\n",
       "      <th>1</th>\n",
       "      <td>IEV</td>\n",
       "      <td>0.417333</td>\n",
       "      <td>10.005479</td>\n",
       "      <td>0.059537</td>\n",
       "      <td>28.361938</td>\n",
       "      <td>31.373958</td>\n",
       "      <td>-0.096004</td>\n",
       "      <td>-0.571574</td>\n",
       "      <td>0.141872</td>\n",
       "      <td>NaN</td>\n",
       "      <td>NaN</td>\n",
       "    </tr>\n",
       "    <tr>\n",
       "      <th>2</th>\n",
       "      <td>IVV</td>\n",
       "      <td>0.505924</td>\n",
       "      <td>10.005479</td>\n",
       "      <td>0.040049</td>\n",
       "      <td>114.044487</td>\n",
       "      <td>107.405568</td>\n",
       "      <td>0.061812</td>\n",
       "      <td>1.543402</td>\n",
       "      <td>0.146987</td>\n",
       "      <td>NaN</td>\n",
       "      <td>NaN</td>\n",
       "    </tr>\n",
       "    <tr>\n",
       "      <th>3</th>\n",
       "      <td>VPL</td>\n",
       "      <td>-0.001439</td>\n",
       "      <td>6.975342</td>\n",
       "      <td>-0.001291</td>\n",
       "      <td>40.750103</td>\n",
       "      <td>38.901705</td>\n",
       "      <td>0.047515</td>\n",
       "      <td>NaN</td>\n",
       "      <td>0.159261</td>\n",
       "      <td>NaN</td>\n",
       "      <td>NaN</td>\n",
       "    </tr>\n",
       "    <tr>\n",
       "      <th>4</th>\n",
       "      <td>cash</td>\n",
       "      <td>NaN</td>\n",
       "      <td>NaN</td>\n",
       "      <td>NaN</td>\n",
       "      <td>NaN</td>\n",
       "      <td>NaN</td>\n",
       "      <td>NaN</td>\n",
       "      <td>0.000000</td>\n",
       "      <td>0.200000</td>\n",
       "      <td>NaN</td>\n",
       "      <td>NaN</td>\n",
       "    </tr>\n",
       "  </tbody>\n",
       "</table>\n",
       "</div>"
      ],
      "text/plain": [
       "  ticker  r2_train train_years annualized_return current_price  fair_price  \\\n",
       "0   EEMA  0.337642    0.052055          0.471226     45.518845   45.576127   \n",
       "1    IEV  0.417333   10.005479          0.059537     28.361938   31.373958   \n",
       "2    IVV  0.505924   10.005479          0.040049    114.044487  107.405568   \n",
       "3    VPL -0.001439    6.975342         -0.001291     40.750103   38.901705   \n",
       "4   cash       NaN         NaN               NaN           NaN         NaN   \n",
       "\n",
       "  over_value_range  over_value_years    weight  portfolio_allocation  dollar  \n",
       "0        -0.001257         -0.059226  0.351880                   NaN     NaN  \n",
       "1        -0.096004         -0.571574  0.141872                   NaN     NaN  \n",
       "2         0.061812          1.543402  0.146987                   NaN     NaN  \n",
       "3         0.047515               NaN  0.159261                   NaN     NaN  \n",
       "4              NaN          0.000000  0.200000                   NaN     NaN  "
      ]
     },
     "execution_count": 59,
     "metadata": {},
     "output_type": "execute_result"
    }
   ],
   "source": [
    "total_dollar = 100\n",
    "\n",
    "df_metrics_i, _ = batchValuation(\n",
    "    d_instrument_data_i,\n",
    "    init_parameters={'recent_months':0, 'train_years':10, 'date_end':None}, # min_train_years\n",
    "    fit_parameters={'price_col':'price', 'log':True, 'n_std':1.5},\n",
    "    valuate_parameters={'min_annual_return':0.01},\n",
    "    save_result=False,\n",
    "    metric_file = None,\n",
    "    figure_folder = None,\n",
    "    verbose=0,\n",
    "    printfunc=logPrint\n",
    ")\n",
    "\n",
    "if with_cash:\n",
    "    df_metrics_i = addCashPortfolio(df_metrics_i)\n",
    "\n",
    "if with_correlation_weights:\n",
    "    cor_weights = getCorrelationWeight(d_instrument_data_i, price_col='price', with_cash=with_cash, verbose=0, printfunc=printfunc)\n",
    "\n",
    "df_metrics_i['weight'] = df_metrics_i['ticker'].apply(lambda t: cor_weights[t])\n",
    "\n",
    "df_metrics_i['portfolio_allocation'] = allocatePortfolio(\n",
    "    df_metrics_i['over_value_years'],\n",
    "    transformation='exponential',\n",
    "    scale=1,\n",
    "    with_cash=True,\n",
    "    weights=df_metrics_i['weight']\n",
    ")\n",
    "\n",
    "df_metrics_i['dollar'] = total_dollar * df_metrics_i['portfolio_allocation']\n",
    "\n",
    "df_metrics_i\n"
   ]
  },
  {
   "cell_type": "code",
   "execution_count": null,
   "metadata": {},
   "outputs": [],
   "source": []
  },
  {
   "cell_type": "code",
   "execution_count": null,
   "metadata": {},
   "outputs": [],
   "source": []
  },
  {
   "cell_type": "code",
   "execution_count": null,
   "metadata": {},
   "outputs": [],
   "source": []
  },
  {
   "cell_type": "code",
   "execution_count": null,
   "metadata": {},
   "outputs": [],
   "source": []
  },
  {
   "cell_type": "code",
   "execution_count": null,
   "metadata": {},
   "outputs": [],
   "source": []
  },
  {
   "cell_type": "code",
   "execution_count": null,
   "metadata": {},
   "outputs": [],
   "source": [
    "def updatePrice(df_portfolio, d, d_data=d_data, price_col=price_col):\n",
    "    l_current_price = []\n",
    "    for name, data in d_data.items():\n",
    "        df = data[data['date']<=d].copy()\n",
    "        l_current_price.append(pd.DataFrame({'name':[name], 'price':df[price_col].iloc[-1]}))\n",
    "    df_current_price = pd.concat(l_current_price).reset_index(drop=True)\n",
    "\n",
    "    df_portfolio = df_portfolio.merge(df_current_price, 'left', 'name')\n",
    "    df_portfolio['dollar'] = df_portfolio['dollar'] * df_portfolio['price'] / df_portfolio['currenct_price']\n",
    "    df_portfolio['portfolio_allocation'] = df_portfolio['dollar'] / df_portfolio['dollar'].sum()\n",
    "    df_portfolio['currenct_price'] = df_portfolio['price']\n",
    "    df_portfolio.drop(columns=['price'], inplace=True)\n",
    "\n",
    "    return df_portfolio\n",
    "\n",
    "\n",
    "d_portfolio = {}\n",
    "d_total_dollar = {}\n",
    "rebalance_date = backtest_start_date + pd.DateOffset(months=1)\n",
    "\n",
    "for d in pd.date_range(backtest_start_date, backtest_end_date):\n",
    "    df_portfolio = updatePrice(df_portfolio, d)\n",
    "    total_dollar = df_portfolio['dollar'].sum()\n",
    "\n",
    "    if d == rebalance_date:\n",
    "        total_dollar = df_portfolio['dollar'].sum()\n",
    "        df_portfolio = getAllocation(total_dollar=total_dollar, d_end_date=d)\n",
    "        rebalance_date = rebalance_date + pd.DateOffset(months=1)\n",
    "        print(f\"Rebalance on {d.date()}, total dollar = {total_dollar}\")\n",
    "\n",
    "    d_portfolio[d] = df_portfolio\n",
    "    d_total_dollar[d] = total_dollar\n",
    "\n",
    "print(f\"final portfolio increased by {total_dollar/100-1:.3f} over {backtest_years} years, which is {(total_dollar/100)**(1/backtest_years)-1:.4f} annualized growth.\")"
   ]
  },
  {
   "cell_type": "code",
   "execution_count": null,
   "metadata": {},
   "outputs": [],
   "source": []
  },
  {
   "cell_type": "code",
   "execution_count": null,
   "metadata": {},
   "outputs": [],
   "source": []
  }
 ],
 "metadata": {
  "interpreter": {
   "hash": "1c1a885b6a591ec15507fc84277222a3df93b2df7bfbab7d41ee02a4dac7a176"
  },
  "kernelspec": {
   "display_name": "Python 3 (ipykernel)",
   "language": "python",
   "name": "python3"
  },
  "language_info": {
   "codemirror_mode": {
    "name": "ipython",
    "version": 3
   },
   "file_extension": ".py",
   "mimetype": "text/x-python",
   "name": "python",
   "nbconvert_exporter": "python",
   "pygments_lexer": "ipython3",
   "version": "3.8.8"
  }
 },
 "nbformat": 4,
 "nbformat_minor": 2
}
