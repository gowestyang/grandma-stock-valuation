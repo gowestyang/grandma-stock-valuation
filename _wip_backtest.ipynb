{
 "cells": [
  {
   "cell_type": "markdown",
   "metadata": {},
   "source": [
    "# WIP: Back-test\n",
    "\n",
    "This example is still WIP.\n",
    "* Load Data\n",
    "* Back Test - the Basic Idea"
   ]
  },
  {
   "cell_type": "code",
   "execution_count": 1,
   "metadata": {},
   "outputs": [],
   "source": [
    "from grandma_stock_valuation import FileLogger, loadPacakgeData\n",
    "from grandma_stock_valuation import batchValuation, addCashPortfolio, getCorrelationWeight, allocatePortfolio\n",
    "\n",
    "# Refer to example_0_FileLogger.ipynb for details of the FileLogger.\n",
    "logger = FileLogger()\n",
    "logPrint = logger.logPandas"
   ]
  },
  {
   "cell_type": "markdown",
   "metadata": {},
   "source": [
    "### Load Data\n",
    "\n",
    "For this example, I will use the stored package data.\n",
    "\n",
    "To query data from Yahoo, please refer to *example_1_yahoo_data_loader.ipynb*."
   ]
  },
  {
   "cell_type": "code",
   "execution_count": 2,
   "metadata": {},
   "outputs": [
    {
     "name": "stdout",
     "output_type": "stream",
     "text": [
      "EEMA data contains 2530 rows, 2530 dates from 2012-02-09 to 2022-02-28.\n",
      "IEV data contains 5431 rows, 5431 dates from 2000-07-28 to 2022-02-28.\n",
      "IVV data contains 5479 rows, 5479 dates from 2000-05-19 to 2022-02-28.\n",
      "VPL data contains 4273 rows, 4273 dates from 2005-03-10 to 2022-02-28.\n"
     ]
    },
    {
     "data": {
      "text/plain": [
       "{'IVV': 'SP500',\n",
       " 'VPL': 'Developed Asia-Pacific',\n",
       " 'IEV': 'Europe',\n",
       " 'EEMA': 'Emerging Asia'}"
      ]
     },
     "execution_count": 2,
     "metadata": {},
     "output_type": "execute_result"
    }
   ],
   "source": [
    "d_instrument_data, d_instrument = loadPacakgeData(verbose=2)\n",
    "\n",
    "d_instrument"
   ]
  },
  {
   "cell_type": "code",
   "execution_count": 3,
   "metadata": {},
   "outputs": [
    {
     "name": "stderr",
     "output_type": "stream",
     "text": [
      "2022-03-10 08:09:47,225 INFO Keys of d_instrument_data: dict_keys(['EEMA', 'IEV', 'IVV', 'VPL'])\n",
      "2022-03-10 08:09:47,231 INFO IVV (SP500 ETF): \n",
      "        date       open       high        low      close  close_adj   volume\n",
      "0 2000-05-19  142.65625  142.65625  140.25000  140.68750  94.121216   775500\n",
      "1 2000-05-22  140.59375  140.59375  136.81250  139.81250  93.535789  1850600\n",
      "2 2000-05-23  140.21875  140.21875  137.68750  137.68750  92.114151   373900\n",
      "3 2000-05-24  137.75000  140.06250  136.65625  139.75000  93.494003   400300\n",
      "4 2000-05-25  140.03125  140.93750  137.87500  138.46875  92.636810    69600\n",
      "\n"
     ]
    }
   ],
   "source": [
    "logPrint(\"Keys of d_instrument_data:\", str(d_instrument_data.keys()))\n",
    "\n",
    "logPrint(\"IVV (SP500 ETF):\", d_instrument_data['IVV'].head())"
   ]
  },
  {
   "cell_type": "markdown",
   "metadata": {},
   "source": [
    "### Back Test - the Basic Idea\n",
    "\n",
    "WIP\n",
    "* back test is to understand how your strategy behaves under various scenanios, not to prove your strategy can beat xxx.\n",
    "* most investment products are not built to beat xxx.\n",
    "* historical performance cannot represent future performance.\n"
   ]
  },
  {
   "cell_type": "markdown",
   "metadata": {},
   "source": [
    "### Back Test - WIP"
   ]
  },
  {
   "cell_type": "code",
   "execution_count": 4,
   "metadata": {},
   "outputs": [
    {
     "name": "stderr",
     "output_type": "stream",
     "text": [
      "2022-03-10 08:09:47,301 INFO To backtest 10 years, from 2012-03-01 to 2022-02-28\n",
      "2022-03-10 08:09:47,302 INFO EEMA's start date 2012-02-09 is beyond 2007-03-01 for full back-test.\n",
      "2022-03-10 08:09:47,611 INFO Adjust portfolio on 2012-04-02, total value = 1.002926\n",
      "2022-03-10 08:09:47,797 INFO Adjust portfolio on 2012-05-01, total value = 0.983438\n",
      "2022-03-10 08:09:47,991 INFO Adjust portfolio on 2012-06-01, total value = 0.890604\n",
      "2022-03-10 08:09:48,202 INFO Adjust portfolio on 2012-07-02, total value = 0.966311\n",
      "2022-03-10 08:09:48,397 INFO Adjust portfolio on 2012-08-01, total value = 0.966199\n",
      "2022-03-10 08:09:48,597 INFO Adjust portfolio on 2012-09-04, total value = 0.993001\n",
      "2022-03-10 08:09:48,797 INFO Adjust portfolio on 2012-10-01, total value = 1.018636\n",
      "2022-03-10 08:09:49,013 INFO Adjust portfolio on 2012-11-01, total value = 1.028629\n",
      "2022-03-10 08:09:49,298 INFO Adjust portfolio on 2012-12-03, total value = 1.035743\n",
      "2022-03-10 08:09:49,522 INFO Adjust portfolio on 2013-01-02, total value = 1.064484\n",
      "2022-03-10 08:09:49,736 INFO Adjust portfolio on 2013-02-01, total value = 1.077470\n",
      "2022-03-10 08:09:49,946 INFO Adjust portfolio on 2013-03-01, total value = 1.071689\n",
      "2022-03-10 08:09:50,147 INFO Adjust portfolio on 2013-04-01, total value = 1.072209\n",
      "2022-03-10 08:09:50,353 INFO Adjust portfolio on 2013-05-01, total value = 1.087845\n",
      "2022-03-10 08:09:50,566 INFO Adjust portfolio on 2013-06-03, total value = 1.090132\n",
      "2022-03-10 08:09:50,775 INFO Adjust portfolio on 2013-07-01, total value = 1.087208\n",
      "2022-03-10 08:09:50,990 INFO Adjust portfolio on 2013-08-01, total value = 1.106801\n",
      "2022-03-10 08:09:51,217 INFO Adjust portfolio on 2013-09-03, total value = 1.106424\n",
      "2022-03-10 08:09:51,418 INFO Adjust portfolio on 2013-10-01, total value = 1.109674\n",
      "2022-03-10 08:09:51,644 INFO Adjust portfolio on 2013-11-01, total value = 1.109925\n",
      "2022-03-10 08:09:51,862 INFO Adjust portfolio on 2013-12-02, total value = 1.109980\n",
      "2022-03-10 08:09:52,165 INFO Adjust portfolio on 2014-01-02, total value = 1.110041\n",
      "2022-03-10 08:09:52,379 INFO Adjust portfolio on 2014-02-03, total value = 1.109910\n",
      "2022-03-10 08:09:52,582 INFO Adjust portfolio on 2014-03-03, total value = 1.111417\n",
      "2022-03-10 08:09:52,799 INFO Adjust portfolio on 2014-04-01, total value = 1.111488\n",
      "2022-03-10 08:09:53,016 INFO Adjust portfolio on 2014-05-01, total value = 1.111505\n",
      "2022-03-10 08:09:53,221 INFO Adjust portfolio on 2014-06-02, total value = 1.111548\n",
      "2022-03-10 08:09:53,430 INFO Adjust portfolio on 2014-07-01, total value = 1.111576\n",
      "2022-03-10 08:09:53,641 INFO Adjust portfolio on 2014-08-01, total value = 1.111533\n",
      "2022-03-10 08:09:53,847 INFO Adjust portfolio on 2014-09-02, total value = 1.111713\n",
      "2022-03-10 08:09:54,062 INFO Adjust portfolio on 2014-10-01, total value = 1.111542\n",
      "2022-03-10 08:09:54,291 INFO Adjust portfolio on 2014-11-03, total value = 1.111974\n",
      "2022-03-10 08:09:54,500 INFO Adjust portfolio on 2014-12-01, total value = 1.113425\n",
      "2022-03-10 08:09:54,735 INFO Adjust portfolio on 2015-01-02, total value = 1.112169\n",
      "2022-03-10 08:09:55,017 INFO Adjust portfolio on 2015-02-02, total value = 1.116830\n",
      "2022-03-10 08:09:55,221 INFO Adjust portfolio on 2015-03-02, total value = 1.121742\n",
      "2022-03-10 08:09:55,434 INFO Adjust portfolio on 2015-04-01, total value = 1.121409\n",
      "2022-03-10 08:09:55,655 INFO Adjust portfolio on 2015-05-01, total value = 1.122823\n",
      "2022-03-10 08:09:55,861 INFO Adjust portfolio on 2015-06-01, total value = 1.122857\n",
      "2022-03-10 08:09:56,070 INFO Adjust portfolio on 2015-07-01, total value = 1.122333\n",
      "2022-03-10 08:09:56,277 INFO Adjust portfolio on 2015-08-03, total value = 1.123145\n",
      "2022-03-10 08:09:56,487 INFO Adjust portfolio on 2015-09-01, total value = 1.116986\n",
      "2022-03-10 08:09:56,702 INFO Adjust portfolio on 2015-10-01, total value = 1.114873\n",
      "2022-03-10 08:09:56,922 INFO Adjust portfolio on 2015-11-02, total value = 1.172971\n",
      "2022-03-10 08:09:57,120 INFO Adjust portfolio on 2015-12-01, total value = 1.172219\n",
      "2022-03-10 08:09:57,341 INFO Adjust portfolio on 2016-01-04, total value = 1.160028\n",
      "2022-03-10 08:09:57,549 INFO Adjust portfolio on 2016-02-01, total value = 1.131251\n",
      "2022-03-10 08:09:57,847 INFO Adjust portfolio on 2016-03-01, total value = 1.133611\n",
      "2022-03-10 08:09:58,061 INFO Adjust portfolio on 2016-04-01, total value = 1.159251\n",
      "2022-03-10 08:09:58,250 INFO Adjust portfolio on 2016-05-02, total value = 1.188086\n",
      "2022-03-10 08:09:58,451 INFO Adjust portfolio on 2016-06-01, total value = 1.185664\n",
      "2022-03-10 08:09:58,656 INFO Adjust portfolio on 2016-07-01, total value = 1.173980\n",
      "2022-03-10 08:09:58,847 INFO Adjust portfolio on 2016-08-01, total value = 1.197928\n",
      "2022-03-10 08:09:59,086 INFO Adjust portfolio on 2016-09-01, total value = 1.209070\n",
      "2022-03-10 08:09:59,300 INFO Adjust portfolio on 2016-10-03, total value = 1.208106\n",
      "2022-03-10 08:09:59,485 INFO Adjust portfolio on 2016-11-01, total value = 1.185184\n",
      "2022-03-10 08:09:59,692 INFO Adjust portfolio on 2016-12-01, total value = 1.198057\n",
      "2022-03-10 08:09:59,984 INFO Adjust portfolio on 2017-01-03, total value = 1.233791\n",
      "2022-03-10 08:10:00,187 INFO Adjust portfolio on 2017-02-01, total value = 1.253525\n",
      "2022-03-10 08:10:00,426 INFO Adjust portfolio on 2017-03-01, total value = 1.283320\n",
      "2022-03-10 08:10:00,681 INFO Adjust portfolio on 2017-04-03, total value = 1.292091\n",
      "2022-03-10 08:10:00,912 INFO Adjust portfolio on 2017-05-01, total value = 1.314696\n",
      "2022-03-10 08:10:01,149 INFO Adjust portfolio on 2017-06-01, total value = 1.335888\n",
      "2022-03-10 08:10:01,371 INFO Adjust portfolio on 2017-07-03, total value = 1.335693\n",
      "2022-03-10 08:10:01,602 INFO Adjust portfolio on 2017-08-01, total value = 1.355635\n",
      "2022-03-10 08:10:01,854 INFO Adjust portfolio on 2017-09-01, total value = 1.356566\n",
      "2022-03-10 08:10:02,086 INFO Adjust portfolio on 2017-10-02, total value = 1.375822\n",
      "2022-03-10 08:10:02,331 INFO Adjust portfolio on 2017-11-01, total value = 1.393093\n",
      "2022-03-10 08:10:02,645 INFO Adjust portfolio on 2017-12-01, total value = 1.409914\n",
      "2022-03-10 08:10:02,870 INFO Adjust portfolio on 2018-01-02, total value = 1.428708\n",
      "2022-03-10 08:10:03,125 INFO Adjust portfolio on 2018-02-01, total value = 1.467456\n",
      "2022-03-10 08:10:03,357 INFO Adjust portfolio on 2018-03-01, total value = 1.429508\n",
      "2022-03-10 08:10:03,587 INFO Adjust portfolio on 2018-04-02, total value = 1.408004\n",
      "2022-03-10 08:10:03,832 INFO Adjust portfolio on 2018-05-01, total value = 1.439246\n",
      "2022-03-10 08:10:04,061 INFO Adjust portfolio on 2018-06-01, total value = 1.458141\n",
      "2022-03-10 08:10:04,293 INFO Adjust portfolio on 2018-07-02, total value = 1.437707\n",
      "2022-03-10 08:10:04,536 INFO Adjust portfolio on 2018-08-01, total value = 1.473254\n",
      "2022-03-10 08:10:04,766 INFO Adjust portfolio on 2018-09-04, total value = 1.465983\n",
      "2022-03-10 08:10:05,070 INFO Adjust portfolio on 2018-10-01, total value = 1.477317\n",
      "2022-03-10 08:10:05,316 INFO Adjust portfolio on 2018-11-01, total value = 1.395563\n",
      "2022-03-10 08:10:05,541 INFO Adjust portfolio on 2018-12-03, total value = 1.421803\n",
      "2022-03-10 08:10:05,778 INFO Adjust portfolio on 2019-01-02, total value = 1.328507\n",
      "2022-03-10 08:10:06,026 INFO Adjust portfolio on 2019-02-01, total value = 1.425355\n",
      "2022-03-10 08:10:06,243 INFO Adjust portfolio on 2019-03-01, total value = 1.463682\n",
      "2022-03-10 08:10:06,473 INFO Adjust portfolio on 2019-04-01, total value = 1.492034\n",
      "2022-03-10 08:10:06,717 INFO Adjust portfolio on 2019-05-01, total value = 1.506039\n",
      "2022-03-10 08:10:07,052 INFO Adjust portfolio on 2019-06-03, total value = 1.438712\n",
      "2022-03-10 08:10:07,301 INFO Adjust portfolio on 2019-07-01, total value = 1.528333\n",
      "2022-03-10 08:10:07,564 INFO Adjust portfolio on 2019-08-01, total value = 1.489035\n",
      "2022-03-10 08:10:07,823 INFO Adjust portfolio on 2019-09-03, total value = 1.468072\n",
      "2022-03-10 08:10:08,085 INFO Adjust portfolio on 2019-10-01, total value = 1.495072\n",
      "2022-03-10 08:10:08,346 INFO Adjust portfolio on 2019-11-01, total value = 1.562335\n",
      "2022-03-10 08:10:08,592 INFO Adjust portfolio on 2019-12-02, total value = 1.564835\n",
      "2022-03-10 08:10:08,846 INFO Adjust portfolio on 2020-01-02, total value = 1.647204\n",
      "2022-03-10 08:10:09,115 INFO Adjust portfolio on 2020-02-03, total value = 1.618722\n",
      "2022-03-10 08:10:09,444 INFO Adjust portfolio on 2020-03-02, total value = 1.560802\n",
      "2022-03-10 08:10:09,678 INFO Adjust portfolio on 2020-04-01, total value = 1.308288\n",
      "2022-03-10 08:10:09,915 INFO Adjust portfolio on 2020-05-01, total value = 1.476151\n",
      "2022-03-10 08:10:10,167 INFO Adjust portfolio on 2020-06-01, total value = 1.598621\n",
      "2022-03-10 08:10:10,429 INFO Adjust portfolio on 2020-07-01, total value = 1.638869\n",
      "2022-03-10 08:10:10,684 INFO Adjust portfolio on 2020-08-03, total value = 1.715182\n",
      "2022-03-10 08:10:10,920 INFO Adjust portfolio on 2020-09-01, total value = 1.777186\n",
      "2022-03-10 08:10:11,156 INFO Adjust portfolio on 2020-10-01, total value = 1.747278\n",
      "2022-03-10 08:10:11,491 INFO Adjust portfolio on 2020-11-02, total value = 1.710532\n",
      "2022-03-10 08:10:11,717 INFO Adjust portfolio on 2020-12-01, total value = 1.905994\n",
      "2022-03-10 08:10:11,997 INFO Adjust portfolio on 2021-01-04, total value = 1.930970\n",
      "2022-03-10 08:10:12,277 INFO Adjust portfolio on 2021-02-01, total value = 1.943291\n",
      "2022-03-10 08:10:12,560 INFO Adjust portfolio on 2021-03-01, total value = 1.977544\n",
      "2022-03-10 08:10:12,833 INFO Adjust portfolio on 2021-04-01, total value = 2.003515\n",
      "2022-03-10 08:10:13,077 INFO Adjust portfolio on 2021-05-03, total value = 2.035339\n",
      "2022-03-10 08:10:13,327 INFO Adjust portfolio on 2021-06-01, total value = 2.042317\n",
      "2022-03-10 08:10:13,590 INFO Adjust portfolio on 2021-07-01, total value = 2.056309\n",
      "2022-03-10 08:10:13,854 INFO Adjust portfolio on 2021-08-02, total value = 2.063439\n",
      "2022-03-10 08:10:14,221 INFO Adjust portfolio on 2021-09-01, total value = 2.084639\n",
      "2022-03-10 08:10:14,485 INFO Adjust portfolio on 2021-10-01, total value = 2.056637\n",
      "2022-03-10 08:10:14,720 INFO Adjust portfolio on 2021-11-01, total value = 2.100504\n",
      "2022-03-10 08:10:14,970 INFO Adjust portfolio on 2021-12-01, total value = 2.061387\n",
      "2022-03-10 08:10:15,232 INFO Adjust portfolio on 2022-01-03, total value = 2.116638\n",
      "2022-03-10 08:10:15,568 INFO Adjust portfolio on 2022-02-01, total value = 2.074947\n",
      "2022-03-10 08:10:15,661 INFO final portfolio increased by 1.034 over 10 years, which is 0.0736 annualized growth.\n"
     ]
    }
   ],
   "source": [
    "from grandma_stock_valuation.back_test import GrandmaBackTester\n",
    "\n",
    "backtester = GrandmaBackTester(\n",
    "    backtest_years=10,\n",
    "    adjust_freq_months=1,\n",
    "    init_parameters={'recent_months':0, 'train_years':10, 'min_train_years':5, 'date_end':None},\n",
    "    fit_parameters={'price_col':'close_adj', 'log':True, 'n_std':1.5},\n",
    "    valuate_parameters={'min_annual_return':0.01},\n",
    "    allocation_parameters={'transformation':'exponential', 'scale':1},\n",
    "    with_cash=True,\n",
    "    with_correlation_weights=True,\n",
    "    verbose=1,\n",
    "    printfunc=logPrint\n",
    ")\n",
    "\n",
    "backtester.runBackTest(d_instrument_data)\n"
   ]
  },
  {
   "cell_type": "code",
   "execution_count": 10,
   "metadata": {},
   "outputs": [
    {
     "data": {
      "text/html": [
       "<div>\n",
       "<style scoped>\n",
       "    .dataframe tbody tr th:only-of-type {\n",
       "        vertical-align: middle;\n",
       "    }\n",
       "\n",
       "    .dataframe tbody tr th {\n",
       "        vertical-align: top;\n",
       "    }\n",
       "\n",
       "    .dataframe thead th {\n",
       "        text-align: right;\n",
       "    }\n",
       "</style>\n",
       "<table border=\"1\" class=\"dataframe\">\n",
       "  <thead>\n",
       "    <tr style=\"text-align: right;\">\n",
       "      <th></th>\n",
       "      <th>price_EEMA</th>\n",
       "      <th>price_IEV</th>\n",
       "      <th>price_IVV</th>\n",
       "      <th>price_VPL</th>\n",
       "    </tr>\n",
       "    <tr>\n",
       "      <th>date</th>\n",
       "      <th></th>\n",
       "      <th></th>\n",
       "      <th></th>\n",
       "      <th></th>\n",
       "    </tr>\n",
       "  </thead>\n",
       "  <tbody>\n",
       "    <tr>\n",
       "      <th>2012-03-01</th>\n",
       "      <td>45.518845</td>\n",
       "      <td>28.437004</td>\n",
       "      <td>114.176628</td>\n",
       "      <td>40.559399</td>\n",
       "    </tr>\n",
       "    <tr>\n",
       "      <th>2012-03-02</th>\n",
       "      <td>46.165085</td>\n",
       "      <td>28.114273</td>\n",
       "      <td>113.879234</td>\n",
       "      <td>40.223755</td>\n",
       "    </tr>\n",
       "    <tr>\n",
       "      <th>2012-03-05</th>\n",
       "      <td>45.576843</td>\n",
       "      <td>28.001698</td>\n",
       "      <td>113.408363</td>\n",
       "      <td>39.964397</td>\n",
       "    </tr>\n",
       "    <tr>\n",
       "      <th>2012-03-06</th>\n",
       "      <td>45.576843</td>\n",
       "      <td>26.883429</td>\n",
       "      <td>111.657005</td>\n",
       "      <td>39.209198</td>\n",
       "    </tr>\n",
       "    <tr>\n",
       "      <th>2012-03-07</th>\n",
       "      <td>44.193214</td>\n",
       "      <td>27.266191</td>\n",
       "      <td>112.491371</td>\n",
       "      <td>39.514324</td>\n",
       "    </tr>\n",
       "  </tbody>\n",
       "</table>\n",
       "</div>"
      ],
      "text/plain": [
       "            price_EEMA  price_IEV   price_IVV  price_VPL\n",
       "date                                                    \n",
       "2012-03-01   45.518845  28.437004  114.176628  40.559399\n",
       "2012-03-02   46.165085  28.114273  113.879234  40.223755\n",
       "2012-03-05   45.576843  28.001698  113.408363  39.964397\n",
       "2012-03-06   45.576843  26.883429  111.657005  39.209198\n",
       "2012-03-07   44.193214  27.266191  112.491371  39.514324"
      ]
     },
     "execution_count": 10,
     "metadata": {},
     "output_type": "execute_result"
    }
   ],
   "source": [
    "df_instrument_growth = backtester._df_instrument_prices.iloc[backtester._index_start:].copy()\n",
    "d_first_prices = df_instrument_growth.apply(lambda se: se.dropna().iloc[0])\n",
    "df_instrument_growth.apply(lambda se: se/d_first_prices[se.name])\n",
    "\n",
    "df_instrument_growth.head()"
   ]
  },
  {
   "cell_type": "code",
   "execution_count": 9,
   "metadata": {},
   "outputs": [
    {
     "data": {
      "text/html": [
       "<div>\n",
       "<style scoped>\n",
       "    .dataframe tbody tr th:only-of-type {\n",
       "        vertical-align: middle;\n",
       "    }\n",
       "\n",
       "    .dataframe tbody tr th {\n",
       "        vertical-align: top;\n",
       "    }\n",
       "\n",
       "    .dataframe thead th {\n",
       "        text-align: right;\n",
       "    }\n",
       "</style>\n",
       "<table border=\"1\" class=\"dataframe\">\n",
       "  <thead>\n",
       "    <tr style=\"text-align: right;\">\n",
       "      <th></th>\n",
       "      <th>price_EEMA</th>\n",
       "      <th>price_IEV</th>\n",
       "      <th>price_IVV</th>\n",
       "      <th>price_VPL</th>\n",
       "    </tr>\n",
       "    <tr>\n",
       "      <th>date</th>\n",
       "      <th></th>\n",
       "      <th></th>\n",
       "      <th></th>\n",
       "      <th></th>\n",
       "    </tr>\n",
       "  </thead>\n",
       "  <tbody>\n",
       "    <tr>\n",
       "      <th>2012-03-01</th>\n",
       "      <td>1.000000</td>\n",
       "      <td>1.000000</td>\n",
       "      <td>1.000000</td>\n",
       "      <td>1.000000</td>\n",
       "    </tr>\n",
       "    <tr>\n",
       "      <th>2012-03-02</th>\n",
       "      <td>1.014197</td>\n",
       "      <td>0.988651</td>\n",
       "      <td>0.997395</td>\n",
       "      <td>0.991725</td>\n",
       "    </tr>\n",
       "    <tr>\n",
       "      <th>2012-03-05</th>\n",
       "      <td>1.001274</td>\n",
       "      <td>0.984692</td>\n",
       "      <td>0.993271</td>\n",
       "      <td>0.985330</td>\n",
       "    </tr>\n",
       "    <tr>\n",
       "      <th>2012-03-06</th>\n",
       "      <td>1.001274</td>\n",
       "      <td>0.945368</td>\n",
       "      <td>0.977932</td>\n",
       "      <td>0.966711</td>\n",
       "    </tr>\n",
       "    <tr>\n",
       "      <th>2012-03-07</th>\n",
       "      <td>0.970877</td>\n",
       "      <td>0.958828</td>\n",
       "      <td>0.985240</td>\n",
       "      <td>0.974233</td>\n",
       "    </tr>\n",
       "  </tbody>\n",
       "</table>\n",
       "</div>"
      ],
      "text/plain": [
       "            price_EEMA  price_IEV  price_IVV  price_VPL\n",
       "date                                                   \n",
       "2012-03-01    1.000000   1.000000   1.000000   1.000000\n",
       "2012-03-02    1.014197   0.988651   0.997395   0.991725\n",
       "2012-03-05    1.001274   0.984692   0.993271   0.985330\n",
       "2012-03-06    1.001274   0.945368   0.977932   0.966711\n",
       "2012-03-07    0.970877   0.958828   0.985240   0.974233"
      ]
     },
     "execution_count": 9,
     "metadata": {},
     "output_type": "execute_result"
    }
   ],
   "source": [
    "\n"
   ]
  },
  {
   "cell_type": "code",
   "execution_count": null,
   "metadata": {},
   "outputs": [],
   "source": []
  },
  {
   "cell_type": "code",
   "execution_count": null,
   "metadata": {},
   "outputs": [],
   "source": []
  },
  {
   "cell_type": "code",
   "execution_count": null,
   "metadata": {},
   "outputs": [],
   "source": []
  }
 ],
 "metadata": {
  "interpreter": {
   "hash": "1c1a885b6a591ec15507fc84277222a3df93b2df7bfbab7d41ee02a4dac7a176"
  },
  "kernelspec": {
   "display_name": "Python 3 (ipykernel)",
   "language": "python",
   "name": "python3"
  },
  "language_info": {
   "codemirror_mode": {
    "name": "ipython",
    "version": 3
   },
   "file_extension": ".py",
   "mimetype": "text/x-python",
   "name": "python",
   "nbconvert_exporter": "python",
   "pygments_lexer": "ipython3",
   "version": "3.8.8"
  }
 },
 "nbformat": 4,
 "nbformat_minor": 2
}
