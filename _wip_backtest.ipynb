{
 "cells": [
  {
   "cell_type": "markdown",
   "metadata": {},
   "source": [
    "# WIP: Back-test\n",
    "\n",
    "This example is still WIP.\n",
    "* Load Data\n",
    "* Back Test - the Basic Idea"
   ]
  },
  {
   "cell_type": "code",
   "execution_count": 1,
   "metadata": {},
   "outputs": [],
   "source": [
    "from grandma_stock_valuation import FileLogger, loadPacakgeData\n",
    "from grandma_stock_valuation.back_test import GrandmaBackTester\n",
    "\n",
    "# Refer to example_0_FileLogger.ipynb for details of the FileLogger.\n",
    "logger = FileLogger()\n",
    "logPrint = logger.logPandas"
   ]
  },
  {
   "cell_type": "markdown",
   "metadata": {},
   "source": [
    "### Load Data\n",
    "\n",
    "For this example, I will use the stored package data.\n",
    "\n",
    "To query data from Yahoo, please refer to *example_1_yahoo_data_loader.ipynb*."
   ]
  },
  {
   "cell_type": "code",
   "execution_count": 2,
   "metadata": {},
   "outputs": [
    {
     "name": "stdout",
     "output_type": "stream",
     "text": [
      "EEMA data contains 2530 rows, 2530 dates from 2012-02-09 to 2022-02-28.\n",
      "IEV data contains 5431 rows, 5431 dates from 2000-07-28 to 2022-02-28.\n",
      "IVV data contains 5479 rows, 5479 dates from 2000-05-19 to 2022-02-28.\n",
      "VPL data contains 4273 rows, 4273 dates from 2005-03-10 to 2022-02-28.\n"
     ]
    },
    {
     "data": {
      "text/plain": [
       "{'IVV': 'SP500',\n",
       " 'VPL': 'Developed Asia-Pacific',\n",
       " 'IEV': 'Europe',\n",
       " 'EEMA': 'Emerging Asia'}"
      ]
     },
     "execution_count": 2,
     "metadata": {},
     "output_type": "execute_result"
    }
   ],
   "source": [
    "d_instrument_data, d_instrument = loadPacakgeData(verbose=2)\n",
    "\n",
    "d_instrument"
   ]
  },
  {
   "cell_type": "code",
   "execution_count": 3,
   "metadata": {},
   "outputs": [],
   "source": [
    "#### TEMP ####\n",
    "#l_select_inst = ['EEMA', 'VPL'] # , 'IVV', \n",
    "#d_instrument_data = {k:v for k,v in d_instrument_data.items() if k in l_select_inst}"
   ]
  },
  {
   "cell_type": "code",
   "execution_count": 4,
   "metadata": {},
   "outputs": [
    {
     "name": "stderr",
     "output_type": "stream",
     "text": [
      "2022-03-14 07:15:59,663 INFO Keys of d_instrument_data: dict_keys(['EEMA', 'IEV', 'IVV', 'VPL'])\n",
      "2022-03-14 07:15:59,668 INFO IVV (SP500 ETF): \n",
      "        date       open       high        low      close  close_adj   volume\n",
      "0 2000-05-19  142.65625  142.65625  140.25000  140.68750  94.121216   775500\n",
      "1 2000-05-22  140.59375  140.59375  136.81250  139.81250  93.535789  1850600\n",
      "2 2000-05-23  140.21875  140.21875  137.68750  137.68750  92.114151   373900\n",
      "3 2000-05-24  137.75000  140.06250  136.65625  139.75000  93.494003   400300\n",
      "4 2000-05-25  140.03125  140.93750  137.87500  138.46875  92.636810    69600\n",
      "\n"
     ]
    }
   ],
   "source": [
    "logPrint(\"Keys of d_instrument_data:\", str(d_instrument_data.keys()))\n",
    "\n",
    "logPrint(\"IVV (SP500 ETF):\", d_instrument_data['IVV'].head())"
   ]
  },
  {
   "cell_type": "markdown",
   "metadata": {},
   "source": [
    "### Back Test - the Basic Idea\n",
    "\n",
    "WIP\n",
    "* back test is to understand how your strategy behaves under various scenanios, not to prove your strategy can beat xxx.\n",
    "* most investment products are not built to beat xxx.\n",
    "* historical performance cannot represent future performance.\n"
   ]
  },
  {
   "cell_type": "markdown",
   "metadata": {},
   "source": [
    "### Back Test - WIP"
   ]
  },
  {
   "cell_type": "code",
   "execution_count": 10,
   "metadata": {},
   "outputs": [],
   "source": [
    "%load_ext line_profiler\n",
    "\n",
    "import numpy as np\n",
    "import pandas as pd\n",
    "\n",
    "#backtester = GrandmaBackTester(\n",
    "backtest_years=10\n",
    "adjust_freq_months=3\n",
    "init_parameters={'recent_months':0, 'train_years':10, 'min_train_years':5, 'date_end':None}\n",
    "fit_parameters={'price_col':'close_adj', 'log':True, 'n_std':1.5}\n",
    "valuate_parameters={'min_annual_return':0.01}\n",
    "allocation_parameters={'transformation':'sigmoid', 'scale':1}\n",
    "with_cash=False\n",
    "with_correlation_weights=True\n",
    "verbose=1\n",
    "printfunc=logPrint\n",
    "#)\n",
    "\n",
    "_minimum_training_years = init_parameters['min_train_years']\n",
    "_maximum_training_years = init_parameters['train_years']\n",
    "_date_end = init_parameters['date_end']\n",
    "_price_col = fit_parameters['price_col']"
   ]
  },
  {
   "cell_type": "code",
   "execution_count": 73,
   "metadata": {},
   "outputs": [
    {
     "name": "stderr",
     "output_type": "stream",
     "text": [
      "2022-03-14 08:14:41,049 INFO To backtest 10 years, from 2012-03-01 to 2022-02-28\n",
      "2022-03-14 08:14:41,050 INFO EEMA's start date 2012-02-09 is beyond 2007-03-01 for full back-test.\n"
     ]
    }
   ],
   "source": [
    "# clean price data, get start and end date of each ticker\n",
    "d_instrument_prices = {}\n",
    "d_instrument_start_dates = {}\n",
    "d_instrument_end_dates = {}\n",
    "for ticker, df_prices in d_instrument_data.items():\n",
    "    df_prices = df_prices[df_prices[_price_col]>0][['date', _price_col]].reset_index(drop=True)\n",
    "    df_prices['date'] = pd.to_datetime(df_prices['date'])\n",
    "    d_instrument_prices[ticker] = df_prices\n",
    "    d_instrument_start_dates[ticker] = df_prices['date'].min()\n",
    "    d_instrument_end_dates[ticker] = df_prices['date'].max()\n",
    "\n",
    "# dates of back-test periods\n",
    "if _date_end is None:\n",
    "    backtest_end_date = max(d_instrument_end_dates.values())\n",
    "else:\n",
    "    backtest_end_date = pd.to_datetime(_date_end)\n",
    "backtest_end_date_ex = backtest_end_date.floor('D') + pd.DateOffset(days=1)\n",
    "\n",
    "backtest_start_date = backtest_end_date_ex - pd.DateOffset(years=backtest_years)\n",
    "if verbose > 0: printfunc(f\"To backtest {backtest_years} years, from {backtest_start_date.date()} to {backtest_end_date.date()}\")\n",
    "\n",
    "at_least_start_date = backtest_start_date - pd.DateOffset(years=_minimum_training_years)\n",
    "at_most_start_date = backtest_start_date - pd.DateOffset(years=_maximum_training_years)\n",
    "\n",
    "for ticker, d in d_instrument_start_dates.items():\n",
    "    if d > at_least_start_date:\n",
    "        printfunc(f\"{ticker}'s start date {d.date()} is beyond {at_least_start_date.date()} for full back-test.\")\n",
    "\n",
    "# combine cleaned price data of all instruments into one dateframe\n",
    "def _selectPeriod(t_ticker_df):\n",
    "    ticker, df_prices = t_ticker_df\n",
    "    index_select = (df_prices['date']>=at_most_start_date) & (df_prices['date']<backtest_end_date_ex)\n",
    "    df_prices = df_prices[index_select].set_index('date')\n",
    "    df_prices.rename(columns={_price_col:'price_'+ticker}, inplace=True)\n",
    "    return df_prices\n",
    "\n",
    "df_instrument_prices = pd.concat(map(_selectPeriod, d_instrument_prices.items()), \n",
    "                                axis=1, join='outer', ignore_index=False, sort=False, copy=False)\n",
    "\n",
    "df_instrument_prices.sort_index(ascending=True, inplace=True)\n",
    "df_instrument_prices.fillna(method='pad', inplace=True)\n",
    "\n",
    "index_start = df_instrument_prices.index.get_loc(backtest_start_date)\n",
    "\n",
    "_d_instrument_start_dates = d_instrument_start_dates\n",
    "_d_instrument_end_dates = d_instrument_end_dates\n",
    "_backtest_start_date = backtest_start_date\n",
    "_backtest_end_date_ex = backtest_end_date_ex\n",
    "_index_start = index_start\n",
    "_l_tickers = [s.replace('price_', '') for s in df_instrument_prices.columns]\n",
    "_ar_dates = np.array(df_instrument_prices.index)\n",
    "_ar_instrument_prices = df_instrument_prices.to_numpy()\n"
   ]
  },
  {
   "cell_type": "code",
   "execution_count": null,
   "metadata": {},
   "outputs": [],
   "source": []
  }
 ],
 "metadata": {
  "interpreter": {
   "hash": "1c1a885b6a591ec15507fc84277222a3df93b2df7bfbab7d41ee02a4dac7a176"
  },
  "kernelspec": {
   "display_name": "Python 3 (ipykernel)",
   "language": "python",
   "name": "python3"
  },
  "language_info": {
   "codemirror_mode": {
    "name": "ipython",
    "version": 3
   },
   "file_extension": ".py",
   "mimetype": "text/x-python",
   "name": "python",
   "nbconvert_exporter": "python",
   "pygments_lexer": "ipython3",
   "version": "3.8.8"
  }
 },
 "nbformat": 4,
 "nbformat_minor": 2
}
