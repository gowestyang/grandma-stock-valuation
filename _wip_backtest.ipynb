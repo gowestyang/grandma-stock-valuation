{
 "cells": [
  {
   "cell_type": "markdown",
   "metadata": {},
   "source": [
    "# WIP: Back-test\n",
    "\n",
    "This example is still WIP.\n",
    "* Load Data\n",
    "* Back Test - the Basic Idea"
   ]
  },
  {
   "cell_type": "code",
   "execution_count": 1,
   "metadata": {},
   "outputs": [],
   "source": [
    "from grandma_stock_valuation import FileLogger, loadPacakgeData\n",
    "from grandma_stock_valuation import batchValuation, addCashPortfolio, getCorrelationWeight, allocatePortfolio\n",
    "\n",
    "# Refer to example_0_FileLogger.ipynb for details of the FileLogger.\n",
    "logger = FileLogger()\n",
    "logPrint = logger.logPandas"
   ]
  },
  {
   "cell_type": "markdown",
   "metadata": {},
   "source": [
    "### Load Data\n",
    "\n",
    "For this example, I will use the stored package data.\n",
    "\n",
    "To query data from Yahoo, please refer to *example_1_yahoo_data_loader.ipynb*."
   ]
  },
  {
   "cell_type": "code",
   "execution_count": 2,
   "metadata": {},
   "outputs": [
    {
     "name": "stdout",
     "output_type": "stream",
     "text": [
      "EEMA data contains 2530 rows, 2530 dates from 2012-02-09 to 2022-02-28.\n",
      "IEV data contains 5431 rows, 5431 dates from 2000-07-28 to 2022-02-28.\n",
      "IVV data contains 5479 rows, 5479 dates from 2000-05-19 to 2022-02-28.\n",
      "VPL data contains 4273 rows, 4273 dates from 2005-03-10 to 2022-02-28.\n"
     ]
    },
    {
     "data": {
      "text/plain": [
       "{'IVV': 'SP500',\n",
       " 'VPL': 'Developed Asia-Pacific',\n",
       " 'IEV': 'Europe',\n",
       " 'EEMA': 'Emerging Asia'}"
      ]
     },
     "execution_count": 2,
     "metadata": {},
     "output_type": "execute_result"
    }
   ],
   "source": [
    "d_instrument_data, d_instrument = loadPacakgeData(verbose=2)\n",
    "\n",
    "d_instrument"
   ]
  },
  {
   "cell_type": "code",
   "execution_count": 3,
   "metadata": {},
   "outputs": [],
   "source": [
    "#### TEMP ####\n",
    "l_select_inst = ['EEMA', 'VPL'] # , 'IVV', \n",
    "\n",
    "d_instrument_data = {k:v for k,v in d_instrument_data.items() if k in l_select_inst}"
   ]
  },
  {
   "cell_type": "code",
   "execution_count": 4,
   "metadata": {},
   "outputs": [
    {
     "name": "stderr",
     "output_type": "stream",
     "text": [
      "2022-03-12 02:34:28,666 INFO Keys of d_instrument_data: dict_keys(['EEMA', 'VPL'])\n"
     ]
    }
   ],
   "source": [
    "logPrint(\"Keys of d_instrument_data:\", str(d_instrument_data.keys()))\n",
    "\n",
    "#logPrint(\"IVV (SP500 ETF):\", d_instrument_data['IVV'].head())"
   ]
  },
  {
   "cell_type": "markdown",
   "metadata": {},
   "source": [
    "### Back Test - the Basic Idea\n",
    "\n",
    "WIP\n",
    "* back test is to understand how your strategy behaves under various scenanios, not to prove your strategy can beat xxx.\n",
    "* most investment products are not built to beat xxx.\n",
    "* historical performance cannot represent future performance.\n"
   ]
  },
  {
   "cell_type": "markdown",
   "metadata": {},
   "source": [
    "### Back Test - WIP"
   ]
  },
  {
   "cell_type": "code",
   "execution_count": 5,
   "metadata": {},
   "outputs": [
    {
     "name": "stderr",
     "output_type": "stream",
     "text": [
      "2022-03-12 02:34:28,743 INFO To backtest 10 years, from 2012-03-01 to 2022-02-28\n",
      "2022-03-12 02:34:28,745 INFO EEMA's start date 2012-02-09 is beyond 2007-03-01 for full back-test.\n",
      "2022-03-12 02:34:29,194 INFO Adjust portfolio on 2012-06-01, total value = 0.000000\n",
      "2022-03-12 02:34:29,605 INFO Adjust portfolio on 2012-09-04, total value = 0.000000\n",
      "2022-03-12 02:34:29,990 INFO Adjust portfolio on 2012-12-03, total value = 0.000000\n",
      "2022-03-12 02:34:30,378 INFO Adjust portfolio on 2013-03-01, total value = 0.000000\n",
      "2022-03-12 02:34:30,789 INFO Adjust portfolio on 2013-06-03, total value = 0.000000\n",
      "2022-03-12 02:34:31,183 INFO Adjust portfolio on 2013-09-03, total value = 0.000000\n",
      "2022-03-12 02:34:31,586 INFO Adjust portfolio on 2013-12-02, total value = 0.000000\n",
      "2022-03-12 02:34:31,967 INFO Adjust portfolio on 2014-03-03, total value = 0.000000\n",
      "2022-03-12 02:34:32,375 INFO Adjust portfolio on 2014-06-02, total value = 0.000000\n",
      "2022-03-12 02:34:32,760 INFO Adjust portfolio on 2014-09-02, total value = 0.000000\n",
      "2022-03-12 02:34:33,164 INFO Adjust portfolio on 2014-12-01, total value = 0.000000\n",
      "2022-03-12 02:34:33,608 INFO Adjust portfolio on 2015-03-02, total value = 0.000000\n",
      "2022-03-12 02:34:33,990 INFO Adjust portfolio on 2015-06-01, total value = 0.000000\n",
      "2022-03-12 02:34:34,386 INFO Adjust portfolio on 2015-09-01, total value = 0.000000\n",
      "2022-03-12 02:34:34,763 INFO Adjust portfolio on 2015-12-01, total value = 0.000000\n",
      "2022-03-12 02:34:35,173 INFO Adjust portfolio on 2016-03-01, total value = 0.000000\n",
      "2022-03-12 02:34:35,556 INFO Adjust portfolio on 2016-06-01, total value = 0.000000\n",
      "2022-03-12 02:34:35,941 INFO Adjust portfolio on 2016-09-01, total value = 0.000000\n",
      "2022-03-12 02:34:36,322 INFO Adjust portfolio on 2016-12-01, total value = 0.000000\n",
      "2022-03-12 02:34:36,718 INFO Adjust portfolio on 2017-03-01, total value = 0.000000\n",
      "2022-03-12 02:34:37,128 INFO Adjust portfolio on 2017-06-01, total value = 0.000000\n",
      "2022-03-12 02:34:37,540 INFO Adjust portfolio on 2017-09-01, total value = 0.000000\n",
      "2022-03-12 02:34:37,940 INFO Adjust portfolio on 2017-12-01, total value = 0.000000\n",
      "2022-03-12 02:34:38,327 INFO Adjust portfolio on 2018-03-01, total value = 0.000000\n",
      "2022-03-12 02:34:38,742 INFO Adjust portfolio on 2018-06-01, total value = 0.000000\n",
      "2022-03-12 02:34:39,241 INFO Adjust portfolio on 2018-09-04, total value = 0.000000\n",
      "2022-03-12 02:34:39,635 INFO Adjust portfolio on 2018-12-03, total value = 0.000000\n",
      "2022-03-12 02:34:40,011 INFO Adjust portfolio on 2019-03-01, total value = 0.000000\n",
      "2022-03-12 02:34:40,415 INFO Adjust portfolio on 2019-06-03, total value = 0.000000\n",
      "2022-03-12 02:34:40,823 INFO Adjust portfolio on 2019-09-03, total value = 0.000000\n",
      "2022-03-12 02:34:41,225 INFO Adjust portfolio on 2019-12-02, total value = 0.000000\n",
      "2022-03-12 02:34:41,615 INFO Adjust portfolio on 2020-03-02, total value = 0.000000\n",
      "2022-03-12 02:34:42,019 INFO Adjust portfolio on 2020-06-01, total value = 0.000000\n",
      "2022-03-12 02:34:42,431 INFO Adjust portfolio on 2020-09-01, total value = 0.000000\n",
      "2022-03-12 02:34:42,840 INFO Adjust portfolio on 2020-12-01, total value = 0.000000\n",
      "2022-03-12 02:34:43,229 INFO Adjust portfolio on 2021-03-01, total value = 0.000000\n",
      "2022-03-12 02:34:43,644 INFO Adjust portfolio on 2021-06-01, total value = 0.000000\n",
      "2022-03-12 02:34:44,067 INFO Adjust portfolio on 2021-09-01, total value = 0.000000\n",
      "2022-03-12 02:34:44,477 INFO Adjust portfolio on 2021-12-01, total value = 0.000000\n",
      "2022-03-12 02:34:44,811 INFO final portfolio increased by -1.000 over 10 years, which is -1.0000 annualized growth.\n"
     ]
    },
    {
     "data": {
      "text/html": [
       "<div>\n",
       "<style scoped>\n",
       "    .dataframe tbody tr th:only-of-type {\n",
       "        vertical-align: middle;\n",
       "    }\n",
       "\n",
       "    .dataframe tbody tr th {\n",
       "        vertical-align: top;\n",
       "    }\n",
       "\n",
       "    .dataframe thead th {\n",
       "        text-align: right;\n",
       "    }\n",
       "</style>\n",
       "<table border=\"1\" class=\"dataframe\">\n",
       "  <thead>\n",
       "    <tr style=\"text-align: right;\">\n",
       "      <th></th>\n",
       "      <th>ticker</th>\n",
       "      <th>avg_pct_allocation</th>\n",
       "    </tr>\n",
       "  </thead>\n",
       "  <tbody>\n",
       "    <tr>\n",
       "      <th>0</th>\n",
       "      <td>EEMA</td>\n",
       "      <td>NaN</td>\n",
       "    </tr>\n",
       "    <tr>\n",
       "      <th>1</th>\n",
       "      <td>VPL</td>\n",
       "      <td>NaN</td>\n",
       "    </tr>\n",
       "  </tbody>\n",
       "</table>\n",
       "</div>"
      ],
      "text/plain": [
       "  ticker  avg_pct_allocation\n",
       "0   EEMA                 NaN\n",
       "1    VPL                 NaN"
      ]
     },
     "execution_count": 5,
     "metadata": {},
     "output_type": "execute_result"
    }
   ],
   "source": [
    "from grandma_stock_valuation.back_test import GrandmaBackTester\n",
    "\n",
    "backtester = GrandmaBackTester(\n",
    "    backtest_years=10,\n",
    "    adjust_freq_months=3,\n",
    "    init_parameters={'recent_months':0, 'train_years':10, 'min_train_years':5, 'date_end':None},\n",
    "    fit_parameters={'price_col':'close_adj', 'log':True, 'n_std':1.5},\n",
    "    valuate_parameters={'min_annual_return':0.01},\n",
    "    allocation_parameters={'transformation':'sigmoid', 'scale':1},\n",
    "    with_cash=False,\n",
    "    with_correlation_weights=True,\n",
    "    verbose=1,\n",
    "    printfunc=logPrint\n",
    ")\n",
    "\n",
    "backtester.runBackTest(d_instrument_data)\n",
    "\n",
    "backtester.df_average_value\n"
   ]
  },
  {
   "cell_type": "code",
   "execution_count": 6,
   "metadata": {},
   "outputs": [],
   "source": [
    "import pandas as pd\n",
    "\n",
    "import plotly.express as px\n",
    "import plotly.graph_objects as go\n",
    "\n",
    "#import plotly.io as pio\n",
    "#pio.renderers.default = \"notebook_connected\""
   ]
  },
  {
   "cell_type": "code",
   "execution_count": 7,
   "metadata": {},
   "outputs": [
    {
     "data": {
      "text/html": [
       "<div>\n",
       "<style scoped>\n",
       "    .dataframe tbody tr th:only-of-type {\n",
       "        vertical-align: middle;\n",
       "    }\n",
       "\n",
       "    .dataframe tbody tr th {\n",
       "        vertical-align: top;\n",
       "    }\n",
       "\n",
       "    .dataframe thead th {\n",
       "        text-align: right;\n",
       "    }\n",
       "</style>\n",
       "<table border=\"1\" class=\"dataframe\">\n",
       "  <thead>\n",
       "    <tr style=\"text-align: right;\">\n",
       "      <th></th>\n",
       "      <th>date</th>\n",
       "      <th>ticker</th>\n",
       "      <th>adj_hover_text</th>\n",
       "    </tr>\n",
       "  </thead>\n",
       "  <tbody>\n",
       "    <tr>\n",
       "      <th>0</th>\n",
       "      <td>2012-03-01</td>\n",
       "      <td>EEMA</td>\n",
       "      <td>0.0% Portfolio</td>\n",
       "    </tr>\n",
       "    <tr>\n",
       "      <th>1</th>\n",
       "      <td>2012-03-01</td>\n",
       "      <td>VPL</td>\n",
       "      <td>-0.1% ann. growth in 7.0yrs&lt;br&gt;valuation = 4.2...</td>\n",
       "    </tr>\n",
       "    <tr>\n",
       "      <th>2</th>\n",
       "      <td>2012-06-01</td>\n",
       "      <td>EEMA</td>\n",
       "      <td>0.0% Portfolio</td>\n",
       "    </tr>\n",
       "    <tr>\n",
       "      <th>3</th>\n",
       "      <td>2012-06-01</td>\n",
       "      <td>VPL</td>\n",
       "      <td>-0.2% ann. growth in 7.2yrs&lt;br&gt;valuation = -10...</td>\n",
       "    </tr>\n",
       "    <tr>\n",
       "      <th>4</th>\n",
       "      <td>2012-09-04</td>\n",
       "      <td>EEMA</td>\n",
       "      <td>0.0% Portfolio</td>\n",
       "    </tr>\n",
       "  </tbody>\n",
       "</table>\n",
       "</div>"
      ],
      "text/plain": [
       "        date ticker                                     adj_hover_text\n",
       "0 2012-03-01   EEMA                                     0.0% Portfolio\n",
       "1 2012-03-01    VPL  -0.1% ann. growth in 7.0yrs<br>valuation = 4.2...\n",
       "2 2012-06-01   EEMA                                     0.0% Portfolio\n",
       "3 2012-06-01    VPL  -0.2% ann. growth in 7.2yrs<br>valuation = -10...\n",
       "4 2012-09-04   EEMA                                     0.0% Portfolio"
      ]
     },
     "execution_count": 7,
     "metadata": {},
     "output_type": "execute_result"
    }
   ],
   "source": [
    "# prepare hover text of portfolio adjustments\n",
    "df_adjs = backtester.df_adjustments[['date', 'ticker', 'train_years', 'annualized_return', 'over_value_range', 'over_value_years', 'weight', 'portfolio_allocation']].copy()\n",
    "\n",
    "df_adjs['train_years'] = df_adjs['train_years'].astype(float).round(1).astype(str)\n",
    "df_adjs['annualized_return'] = (100*df_adjs['annualized_return'].astype(float)).round(1).astype(str)\n",
    "df_adjs['over_value_range'] = (100*df_adjs['over_value_range'].astype(float)).round(1).astype(str)\n",
    "df_adjs['over_value_years'] = df_adjs['over_value_years'].astype(float).round(2).astype(str)\n",
    "df_adjs['weight'] = df_adjs['weight'].astype(float).round(2).astype(str)\n",
    "df_adjs['portfolio_allocation'] = (100*df_adjs['portfolio_allocation'].astype(float)).round(1).astype(str)\n",
    "\n",
    "df_adjs['adj_hover_text'] = ''\n",
    "\n",
    "index_train = df_adjs['train_years']!='nan'\n",
    "df_adjs['train_text'] = df_adjs['annualized_return'] + '% ann. growth in ' + df_adjs['train_years'] + 'yrs'\n",
    "df_adjs['train_text'] = df_adjs['train_text'] + '<br>valuation = ' + df_adjs['over_value_range'] + '%'\n",
    "df_adjs.loc[index_train, 'adj_hover_text'] = df_adjs['train_text'][index_train] + '<br>'\n",
    "\n",
    "index_value = df_adjs['over_value_years']!='nan'\n",
    "df_adjs['value_text'] = 'weight = ' + df_adjs['weight'] + '; valuation = ' + df_adjs['over_value_years'] + ' yrs'\n",
    "df_adjs.loc[index_value, 'adj_hover_text'] = (df_adjs['adj_hover_text'] + df_adjs['value_text'])[index_value] + '<br>'\n",
    "\n",
    "df_adjs['adj_hover_text'] = df_adjs['adj_hover_text'] + df_adjs['portfolio_allocation']  + '% Portfolio'\n",
    "\n",
    "\n",
    "index_cash = df_adjs['ticker']=='cash'\n",
    "df_adjs.loc[index_cash, 'adj_hover_text'] = df_adjs['adj_hover_text'][index_cash].str.replace('Portfolio', 'Cash')\n",
    "df_adjs = df_adjs[['date','ticker','adj_hover_text']]\n",
    "\n",
    "df_adjs.head()"
   ]
  },
  {
   "cell_type": "code",
   "execution_count": 8,
   "metadata": {},
   "outputs": [
    {
     "data": {
      "text/html": [
       "<div>\n",
       "<style scoped>\n",
       "    .dataframe tbody tr th:only-of-type {\n",
       "        vertical-align: middle;\n",
       "    }\n",
       "\n",
       "    .dataframe tbody tr th {\n",
       "        vertical-align: top;\n",
       "    }\n",
       "\n",
       "    .dataframe thead th {\n",
       "        text-align: right;\n",
       "    }\n",
       "</style>\n",
       "<table border=\"1\" class=\"dataframe\">\n",
       "  <thead>\n",
       "    <tr style=\"text-align: right;\">\n",
       "      <th></th>\n",
       "      <th>date</th>\n",
       "      <th>ticker</th>\n",
       "      <th>growth</th>\n",
       "      <th>hover_text</th>\n",
       "    </tr>\n",
       "  </thead>\n",
       "  <tbody>\n",
       "    <tr>\n",
       "      <th>0</th>\n",
       "      <td>2012-03-01</td>\n",
       "      <td>Grandma</td>\n",
       "      <td>1.0</td>\n",
       "      <td>0.0% Cash</td>\n",
       "    </tr>\n",
       "    <tr>\n",
       "      <th>1</th>\n",
       "      <td>2012-03-02</td>\n",
       "      <td>Grandma</td>\n",
       "      <td>0.0</td>\n",
       "      <td>0.0% Cash</td>\n",
       "    </tr>\n",
       "    <tr>\n",
       "      <th>2</th>\n",
       "      <td>2012-03-05</td>\n",
       "      <td>Grandma</td>\n",
       "      <td>0.0</td>\n",
       "      <td>0.0% Cash</td>\n",
       "    </tr>\n",
       "  </tbody>\n",
       "</table>\n",
       "</div>"
      ],
      "text/plain": [
       "        date   ticker  growth hover_text\n",
       "0 2012-03-01  Grandma     1.0  0.0% Cash\n",
       "1 2012-03-02  Grandma     0.0  0.0% Cash\n",
       "2 2012-03-05  Grandma     0.0  0.0% Cash"
      ]
     },
     "execution_count": 8,
     "metadata": {},
     "output_type": "execute_result"
    }
   ],
   "source": [
    "df_daily_portfolio_pct = backtester.df_portfolio[['date','ticker','current_portfolio_pct']]\n",
    "\n",
    "# growth of Grandma\n",
    "df_grandma_growth = backtester.df_total_value.melt(id_vars='date', var_name='ticker', value_name='growth')\n",
    "df_grandma_growth['ticker'] = 'cash' # to merge with cash % for hover text display\n",
    "df_grandma_growth = df_grandma_growth.merge(df_daily_portfolio_pct, 'left', ['date','ticker']).fillna(0)\n",
    "df_grandma_growth.rename(columns={'current_portfolio_pct':'hover_text'}, inplace=True)\n",
    "df_grandma_growth['hover_text'] = (100*df_grandma_growth['hover_text'].astype(float)).round(1).astype(str) + '% Cash'\n",
    "\n",
    "# growth of each instrument\n",
    "df_instrument_growth = backtester._df_instrument_prices.iloc[backtester._index_start:].copy()\n",
    "d_first_prices = df_instrument_growth.apply(lambda se: se.dropna().iloc[0])\n",
    "\n",
    "df_instrument_growth = df_instrument_growth.apply(lambda se: se/d_first_prices[se.name])\n",
    "df_instrument_growth.columns = [c.replace('price_', '') for c in df_instrument_growth.columns]\n",
    "df_instrument_growth = df_instrument_growth.reset_index()\n",
    "df_instrument_growth = df_instrument_growth.melt(id_vars='date', var_name='ticker', value_name='growth')\n",
    "\n",
    "df_instrument_growth = df_instrument_growth.merge(df_daily_portfolio_pct, 'left', ['date','ticker']).fillna(0)\n",
    "df_instrument_growth.rename(columns={'current_portfolio_pct':'hover_text'}, inplace=True)\n",
    "df_instrument_growth['hover_text'] = (100*df_instrument_growth['hover_text'].astype(float)).round(1).astype(str) + '% Portfolio'\n",
    "\n",
    "# combine together for plotting\n",
    "df_instrument_growth = pd.concat([df_grandma_growth, df_instrument_growth], ignore_index=True) # NOTE: sequence matters here\n",
    "\n",
    "# change hover text of portfolio adjustment dates\n",
    "df_instrument_growth = df_instrument_growth.merge(df_adjs, 'left', ['date', 'ticker'])\n",
    "index_adj = df_instrument_growth['adj_hover_text'].notnull()\n",
    "df_instrument_growth.loc[index_adj, 'hover_text'] = df_instrument_growth['adj_hover_text'][index_adj]\n",
    "df_instrument_growth.drop(columns='adj_hover_text', inplace=True)\n",
    "\n",
    "index_grandma = df_instrument_growth['ticker'] == 'cash'\n",
    "df_instrument_growth.loc[index_grandma, 'ticker'] = 'Grandma'\n",
    "\n",
    "df_instrument_growth.head(3)"
   ]
  },
  {
   "cell_type": "code",
   "execution_count": 9,
   "metadata": {},
   "outputs": [
    {
     "data": {
      "application/vnd.plotly.v1+json": {
       "config": {
        "plotlyServerURL": "https://plot.ly"
       },
       "data": [
        {
         "customdata": [
          [
           "0.0% Cash"
          ],
          [
           "0.0% Cash"
          ],
          [
           "0.0% Cash"
          ],
          [
           "0.0% Cash"
          ],
          [
           "0.0% Cash"
          ],
          [
           "0.0% Cash"
          ],
          [
           "0.0% Cash"
          ],
          [
           "0.0% Cash"
          ],
          [
           "0.0% Cash"
          ],
          [
           "0.0% Cash"
          ],
          [
           "0.0% Cash"
          ],
          [
           "0.0% Cash"
          ],
          [
           "0.0% Cash"
          ],
          [
           "0.0% Cash"
          ],
          [
           "0.0% Cash"
          ],
          [
           "0.0% Cash"
          ],
          [
           "0.0% Cash"
          ],
          [
           "0.0% Cash"
          ],
          [
           "0.0% Cash"
          ],
          [
           "0.0% Cash"
          ],
          [
           "0.0% Cash"
          ],
          [
           "0.0% Cash"
          ],
          [
           "0.0% Cash"
          ],
          [
           "0.0% Cash"
          ],
          [
           "0.0% Cash"
          ],
          [
           "0.0% Cash"
          ],
          [
           "0.0% Cash"
          ],
          [
           "0.0% Cash"
          ],
          [
           "0.0% Cash"
          ],
          [
           "0.0% Cash"
          ],
          [
           "0.0% Cash"
          ],
          [
           "0.0% Cash"
          ],
          [
           "0.0% Cash"
          ],
          [
           "0.0% Cash"
          ],
          [
           "0.0% Cash"
          ],
          [
           "0.0% Cash"
          ],
          [
           "0.0% Cash"
          ],
          [
           "0.0% Cash"
          ],
          [
           "0.0% Cash"
          ],
          [
           "0.0% Cash"
          ],
          [
           "0.0% Cash"
          ],
          [
           "0.0% Cash"
          ],
          [
           "0.0% Cash"
          ],
          [
           "0.0% Cash"
          ],
          [
           "0.0% Cash"
          ],
          [
           "0.0% Cash"
          ],
          [
           "0.0% Cash"
          ],
          [
           "0.0% Cash"
          ],
          [
           "0.0% Cash"
          ],
          [
           "0.0% Cash"
          ],
          [
           "0.0% Cash"
          ],
          [
           "0.0% Cash"
          ],
          [
           "0.0% Cash"
          ],
          [
           "0.0% Cash"
          ],
          [
           "0.0% Cash"
          ],
          [
           "0.0% Cash"
          ],
          [
           "0.0% Cash"
          ],
          [
           "0.0% Cash"
          ],
          [
           "0.0% Cash"
          ],
          [
           "0.0% Cash"
          ],
          [
           "0.0% Cash"
          ],
          [
           "0.0% Cash"
          ],
          [
           "0.0% Cash"
          ],
          [
           "0.0% Cash"
          ],
          [
           "0.0% Cash"
          ],
          [
           "0.0% Cash"
          ],
          [
           "0.0% Cash"
          ],
          [
           "0.0% Cash"
          ],
          [
           "0.0% Cash"
          ],
          [
           "0.0% Cash"
          ],
          [
           "0.0% Cash"
          ],
          [
           "0.0% Cash"
          ],
          [
           "0.0% Cash"
          ],
          [
           "0.0% Cash"
          ],
          [
           "0.0% Cash"
          ],
          [
           "0.0% Cash"
          ],
          [
           "0.0% Cash"
          ],
          [
           "0.0% Cash"
          ],
          [
           "0.0% Cash"
          ],
          [
           "0.0% Cash"
          ],
          [
           "0.0% Cash"
          ],
          [
           "0.0% Cash"
          ],
          [
           "0.0% Cash"
          ],
          [
           "0.0% Cash"
          ],
          [
           "0.0% Cash"
          ],
          [
           "0.0% Cash"
          ],
          [
           "0.0% Cash"
          ],
          [
           "0.0% Cash"
          ],
          [
           "0.0% Cash"
          ],
          [
           "0.0% Cash"
          ],
          [
           "0.0% Cash"
          ],
          [
           "0.0% Cash"
          ],
          [
           "0.0% Cash"
          ],
          [
           "0.0% Cash"
          ],
          [
           "0.0% Cash"
          ],
          [
           "0.0% Cash"
          ],
          [
           "0.0% Cash"
          ],
          [
           "0.0% Cash"
          ],
          [
           "0.0% Cash"
          ],
          [
           "0.0% Cash"
          ],
          [
           "0.0% Cash"
          ],
          [
           "0.0% Cash"
          ],
          [
           "0.0% Cash"
          ],
          [
           "0.0% Cash"
          ],
          [
           "0.0% Cash"
          ],
          [
           "0.0% Cash"
          ],
          [
           "0.0% Cash"
          ],
          [
           "0.0% Cash"
          ],
          [
           "0.0% Cash"
          ],
          [
           "0.0% Cash"
          ],
          [
           "0.0% Cash"
          ],
          [
           "0.0% Cash"
          ],
          [
           "0.0% Cash"
          ],
          [
           "0.0% Cash"
          ],
          [
           "0.0% Cash"
          ],
          [
           "0.0% Cash"
          ],
          [
           "0.0% Cash"
          ],
          [
           "0.0% Cash"
          ],
          [
           "0.0% Cash"
          ],
          [
           "0.0% Cash"
          ],
          [
           "0.0% Cash"
          ],
          [
           "0.0% Cash"
          ],
          [
           "0.0% Cash"
          ],
          [
           "0.0% Cash"
          ],
          [
           "0.0% Cash"
          ],
          [
           "0.0% Cash"
          ],
          [
           "0.0% Cash"
          ],
          [
           "0.0% Cash"
          ],
          [
           "0.0% Cash"
          ],
          [
           "0.0% Cash"
          ],
          [
           "0.0% Cash"
          ],
          [
           "0.0% Cash"
          ],
          [
           "0.0% Cash"
          ],
          [
           "0.0% Cash"
          ],
          [
           "0.0% Cash"
          ],
          [
           "0.0% Cash"
          ],
          [
           "0.0% Cash"
          ],
          [
           "0.0% Cash"
          ],
          [
           "0.0% Cash"
          ],
          [
           "0.0% Cash"
          ],
          [
           "0.0% Cash"
          ],
          [
           "0.0% Cash"
          ],
          [
           "0.0% Cash"
          ],
          [
           "0.0% Cash"
          ],
          [
           "0.0% Cash"
          ],
          [
           "0.0% Cash"
          ],
          [
           "0.0% Cash"
          ],
          [
           "0.0% Cash"
          ],
          [
           "0.0% Cash"
          ],
          [
           "0.0% Cash"
          ],
          [
           "0.0% Cash"
          ],
          [
           "0.0% Cash"
          ],
          [
           "0.0% Cash"
          ],
          [
           "0.0% Cash"
          ],
          [
           "0.0% Cash"
          ],
          [
           "0.0% Cash"
          ],
          [
           "0.0% Cash"
          ],
          [
           "0.0% Cash"
          ],
          [
           "0.0% Cash"
          ],
          [
           "0.0% Cash"
          ],
          [
           "0.0% Cash"
          ],
          [
           "0.0% Cash"
          ],
          [
           "0.0% Cash"
          ],
          [
           "0.0% Cash"
          ],
          [
           "0.0% Cash"
          ],
          [
           "0.0% Cash"
          ],
          [
           "0.0% Cash"
          ],
          [
           "0.0% Cash"
          ],
          [
           "0.0% Cash"
          ],
          [
           "0.0% Cash"
          ],
          [
           "0.0% Cash"
          ],
          [
           "0.0% Cash"
          ],
          [
           "0.0% Cash"
          ],
          [
           "0.0% Cash"
          ],
          [
           "0.0% Cash"
          ],
          [
           "0.0% Cash"
          ],
          [
           "0.0% Cash"
          ],
          [
           "0.0% Cash"
          ],
          [
           "0.0% Cash"
          ],
          [
           "0.0% Cash"
          ],
          [
           "0.0% Cash"
          ],
          [
           "0.0% Cash"
          ],
          [
           "0.0% Cash"
          ],
          [
           "0.0% Cash"
          ],
          [
           "0.0% Cash"
          ],
          [
           "0.0% Cash"
          ],
          [
           "0.0% Cash"
          ],
          [
           "0.0% Cash"
          ],
          [
           "0.0% Cash"
          ],
          [
           "0.0% Cash"
          ],
          [
           "0.0% Cash"
          ],
          [
           "0.0% Cash"
          ],
          [
           "0.0% Cash"
          ],
          [
           "0.0% Cash"
          ],
          [
           "0.0% Cash"
          ],
          [
           "0.0% Cash"
          ],
          [
           "0.0% Cash"
          ],
          [
           "0.0% Cash"
          ],
          [
           "0.0% Cash"
          ],
          [
           "0.0% Cash"
          ],
          [
           "0.0% Cash"
          ],
          [
           "0.0% Cash"
          ],
          [
           "0.0% Cash"
          ],
          [
           "0.0% Cash"
          ],
          [
           "0.0% Cash"
          ],
          [
           "0.0% Cash"
          ],
          [
           "0.0% Cash"
          ],
          [
           "0.0% Cash"
          ],
          [
           "0.0% Cash"
          ],
          [
           "0.0% Cash"
          ],
          [
           "0.0% Cash"
          ],
          [
           "0.0% Cash"
          ],
          [
           "0.0% Cash"
          ],
          [
           "0.0% Cash"
          ],
          [
           "0.0% Cash"
          ],
          [
           "0.0% Cash"
          ],
          [
           "0.0% Cash"
          ],
          [
           "0.0% Cash"
          ],
          [
           "0.0% Cash"
          ],
          [
           "0.0% Cash"
          ],
          [
           "0.0% Cash"
          ],
          [
           "0.0% Cash"
          ],
          [
           "0.0% Cash"
          ],
          [
           "0.0% Cash"
          ],
          [
           "0.0% Cash"
          ],
          [
           "0.0% Cash"
          ],
          [
           "0.0% Cash"
          ],
          [
           "0.0% Cash"
          ],
          [
           "0.0% Cash"
          ],
          [
           "0.0% Cash"
          ],
          [
           "0.0% Cash"
          ],
          [
           "0.0% Cash"
          ],
          [
           "0.0% Cash"
          ],
          [
           "0.0% Cash"
          ],
          [
           "0.0% Cash"
          ],
          [
           "0.0% Cash"
          ],
          [
           "0.0% Cash"
          ],
          [
           "0.0% Cash"
          ],
          [
           "0.0% Cash"
          ],
          [
           "0.0% Cash"
          ],
          [
           "0.0% Cash"
          ],
          [
           "0.0% Cash"
          ],
          [
           "0.0% Cash"
          ],
          [
           "0.0% Cash"
          ],
          [
           "0.0% Cash"
          ],
          [
           "0.0% Cash"
          ],
          [
           "0.0% Cash"
          ],
          [
           "0.0% Cash"
          ],
          [
           "0.0% Cash"
          ],
          [
           "0.0% Cash"
          ],
          [
           "0.0% Cash"
          ],
          [
           "0.0% Cash"
          ],
          [
           "0.0% Cash"
          ],
          [
           "0.0% Cash"
          ],
          [
           "0.0% Cash"
          ],
          [
           "0.0% Cash"
          ],
          [
           "0.0% Cash"
          ],
          [
           "0.0% Cash"
          ],
          [
           "0.0% Cash"
          ],
          [
           "0.0% Cash"
          ],
          [
           "0.0% Cash"
          ],
          [
           "0.0% Cash"
          ],
          [
           "0.0% Cash"
          ],
          [
           "0.0% Cash"
          ],
          [
           "0.0% Cash"
          ],
          [
           "0.0% Cash"
          ],
          [
           "0.0% Cash"
          ],
          [
           "0.0% Cash"
          ],
          [
           "0.0% Cash"
          ],
          [
           "0.0% Cash"
          ],
          [
           "0.0% Cash"
          ],
          [
           "0.0% Cash"
          ],
          [
           "0.0% Cash"
          ],
          [
           "0.0% Cash"
          ],
          [
           "0.0% Cash"
          ],
          [
           "0.0% Cash"
          ],
          [
           "0.0% Cash"
          ],
          [
           "0.0% Cash"
          ],
          [
           "0.0% Cash"
          ],
          [
           "0.0% Cash"
          ],
          [
           "0.0% Cash"
          ],
          [
           "0.0% Cash"
          ],
          [
           "0.0% Cash"
          ],
          [
           "0.0% Cash"
          ],
          [
           "0.0% Cash"
          ],
          [
           "0.0% Cash"
          ],
          [
           "0.0% Cash"
          ],
          [
           "0.0% Cash"
          ],
          [
           "0.0% Cash"
          ],
          [
           "0.0% Cash"
          ],
          [
           "0.0% Cash"
          ],
          [
           "0.0% Cash"
          ],
          [
           "0.0% Cash"
          ],
          [
           "0.0% Cash"
          ],
          [
           "0.0% Cash"
          ],
          [
           "0.0% Cash"
          ],
          [
           "0.0% Cash"
          ],
          [
           "0.0% Cash"
          ],
          [
           "0.0% Cash"
          ],
          [
           "0.0% Cash"
          ],
          [
           "0.0% Cash"
          ],
          [
           "0.0% Cash"
          ],
          [
           "0.0% Cash"
          ],
          [
           "0.0% Cash"
          ],
          [
           "0.0% Cash"
          ],
          [
           "0.0% Cash"
          ],
          [
           "0.0% Cash"
          ],
          [
           "0.0% Cash"
          ],
          [
           "0.0% Cash"
          ],
          [
           "0.0% Cash"
          ],
          [
           "0.0% Cash"
          ],
          [
           "0.0% Cash"
          ],
          [
           "0.0% Cash"
          ],
          [
           "0.0% Cash"
          ],
          [
           "0.0% Cash"
          ],
          [
           "0.0% Cash"
          ],
          [
           "0.0% Cash"
          ],
          [
           "0.0% Cash"
          ],
          [
           "0.0% Cash"
          ],
          [
           "0.0% Cash"
          ],
          [
           "0.0% Cash"
          ],
          [
           "0.0% Cash"
          ],
          [
           "0.0% Cash"
          ],
          [
           "0.0% Cash"
          ],
          [
           "0.0% Cash"
          ],
          [
           "0.0% Cash"
          ],
          [
           "0.0% Cash"
          ],
          [
           "0.0% Cash"
          ],
          [
           "0.0% Cash"
          ],
          [
           "0.0% Cash"
          ],
          [
           "0.0% Cash"
          ],
          [
           "0.0% Cash"
          ],
          [
           "0.0% Cash"
          ],
          [
           "0.0% Cash"
          ],
          [
           "0.0% Cash"
          ],
          [
           "0.0% Cash"
          ],
          [
           "0.0% Cash"
          ],
          [
           "0.0% Cash"
          ],
          [
           "0.0% Cash"
          ],
          [
           "0.0% Cash"
          ],
          [
           "0.0% Cash"
          ],
          [
           "0.0% Cash"
          ],
          [
           "0.0% Cash"
          ],
          [
           "0.0% Cash"
          ],
          [
           "0.0% Cash"
          ],
          [
           "0.0% Cash"
          ],
          [
           "0.0% Cash"
          ],
          [
           "0.0% Cash"
          ],
          [
           "0.0% Cash"
          ],
          [
           "0.0% Cash"
          ],
          [
           "0.0% Cash"
          ],
          [
           "0.0% Cash"
          ],
          [
           "0.0% Cash"
          ],
          [
           "0.0% Cash"
          ],
          [
           "0.0% Cash"
          ],
          [
           "0.0% Cash"
          ],
          [
           "0.0% Cash"
          ],
          [
           "0.0% Cash"
          ],
          [
           "0.0% Cash"
          ],
          [
           "0.0% Cash"
          ],
          [
           "0.0% Cash"
          ],
          [
           "0.0% Cash"
          ],
          [
           "0.0% Cash"
          ],
          [
           "0.0% Cash"
          ],
          [
           "0.0% Cash"
          ],
          [
           "0.0% Cash"
          ],
          [
           "0.0% Cash"
          ],
          [
           "0.0% Cash"
          ],
          [
           "0.0% Cash"
          ],
          [
           "0.0% Cash"
          ],
          [
           "0.0% Cash"
          ],
          [
           "0.0% Cash"
          ],
          [
           "0.0% Cash"
          ],
          [
           "0.0% Cash"
          ],
          [
           "0.0% Cash"
          ],
          [
           "0.0% Cash"
          ],
          [
           "0.0% Cash"
          ],
          [
           "0.0% Cash"
          ],
          [
           "0.0% Cash"
          ],
          [
           "0.0% Cash"
          ],
          [
           "0.0% Cash"
          ],
          [
           "0.0% Cash"
          ],
          [
           "0.0% Cash"
          ],
          [
           "0.0% Cash"
          ],
          [
           "0.0% Cash"
          ],
          [
           "0.0% Cash"
          ],
          [
           "0.0% Cash"
          ],
          [
           "0.0% Cash"
          ],
          [
           "0.0% Cash"
          ],
          [
           "0.0% Cash"
          ],
          [
           "0.0% Cash"
          ],
          [
           "0.0% Cash"
          ],
          [
           "0.0% Cash"
          ],
          [
           "0.0% Cash"
          ],
          [
           "0.0% Cash"
          ],
          [
           "0.0% Cash"
          ],
          [
           "0.0% Cash"
          ],
          [
           "0.0% Cash"
          ],
          [
           "0.0% Cash"
          ],
          [
           "0.0% Cash"
          ],
          [
           "0.0% Cash"
          ],
          [
           "0.0% Cash"
          ],
          [
           "0.0% Cash"
          ],
          [
           "0.0% Cash"
          ],
          [
           "0.0% Cash"
          ],
          [
           "0.0% Cash"
          ],
          [
           "0.0% Cash"
          ],
          [
           "0.0% Cash"
          ],
          [
           "0.0% Cash"
          ],
          [
           "0.0% Cash"
          ],
          [
           "0.0% Cash"
          ],
          [
           "0.0% Cash"
          ],
          [
           "0.0% Cash"
          ],
          [
           "0.0% Cash"
          ],
          [
           "0.0% Cash"
          ],
          [
           "0.0% Cash"
          ],
          [
           "0.0% Cash"
          ],
          [
           "0.0% Cash"
          ],
          [
           "0.0% Cash"
          ],
          [
           "0.0% Cash"
          ],
          [
           "0.0% Cash"
          ],
          [
           "0.0% Cash"
          ],
          [
           "0.0% Cash"
          ],
          [
           "0.0% Cash"
          ],
          [
           "0.0% Cash"
          ],
          [
           "0.0% Cash"
          ],
          [
           "0.0% Cash"
          ],
          [
           "0.0% Cash"
          ],
          [
           "0.0% Cash"
          ],
          [
           "0.0% Cash"
          ],
          [
           "0.0% Cash"
          ],
          [
           "0.0% Cash"
          ],
          [
           "0.0% Cash"
          ],
          [
           "0.0% Cash"
          ],
          [
           "0.0% Cash"
          ],
          [
           "0.0% Cash"
          ],
          [
           "0.0% Cash"
          ],
          [
           "0.0% Cash"
          ],
          [
           "0.0% Cash"
          ],
          [
           "0.0% Cash"
          ],
          [
           "0.0% Cash"
          ],
          [
           "0.0% Cash"
          ],
          [
           "0.0% Cash"
          ],
          [
           "0.0% Cash"
          ],
          [
           "0.0% Cash"
          ],
          [
           "0.0% Cash"
          ],
          [
           "0.0% Cash"
          ],
          [
           "0.0% Cash"
          ],
          [
           "0.0% Cash"
          ],
          [
           "0.0% Cash"
          ],
          [
           "0.0% Cash"
          ],
          [
           "0.0% Cash"
          ],
          [
           "0.0% Cash"
          ],
          [
           "0.0% Cash"
          ],
          [
           "0.0% Cash"
          ],
          [
           "0.0% Cash"
          ],
          [
           "0.0% Cash"
          ],
          [
           "0.0% Cash"
          ],
          [
           "0.0% Cash"
          ],
          [
           "0.0% Cash"
          ],
          [
           "0.0% Cash"
          ],
          [
           "0.0% Cash"
          ],
          [
           "0.0% Cash"
          ],
          [
           "0.0% Cash"
          ],
          [
           "0.0% Cash"
          ],
          [
           "0.0% Cash"
          ],
          [
           "0.0% Cash"
          ],
          [
           "0.0% Cash"
          ],
          [
           "0.0% Cash"
          ],
          [
           "0.0% Cash"
          ],
          [
           "0.0% Cash"
          ],
          [
           "0.0% Cash"
          ],
          [
           "0.0% Cash"
          ],
          [
           "0.0% Cash"
          ],
          [
           "0.0% Cash"
          ],
          [
           "0.0% Cash"
          ],
          [
           "0.0% Cash"
          ],
          [
           "0.0% Cash"
          ],
          [
           "0.0% Cash"
          ],
          [
           "0.0% Cash"
          ],
          [
           "0.0% Cash"
          ],
          [
           "0.0% Cash"
          ],
          [
           "0.0% Cash"
          ],
          [
           "0.0% Cash"
          ],
          [
           "0.0% Cash"
          ],
          [
           "0.0% Cash"
          ],
          [
           "0.0% Cash"
          ],
          [
           "0.0% Cash"
          ],
          [
           "0.0% Cash"
          ],
          [
           "0.0% Cash"
          ],
          [
           "0.0% Cash"
          ],
          [
           "0.0% Cash"
          ],
          [
           "0.0% Cash"
          ],
          [
           "0.0% Cash"
          ],
          [
           "0.0% Cash"
          ],
          [
           "0.0% Cash"
          ],
          [
           "0.0% Cash"
          ],
          [
           "0.0% Cash"
          ],
          [
           "0.0% Cash"
          ],
          [
           "0.0% Cash"
          ],
          [
           "0.0% Cash"
          ],
          [
           "0.0% Cash"
          ],
          [
           "0.0% Cash"
          ],
          [
           "0.0% Cash"
          ],
          [
           "0.0% Cash"
          ],
          [
           "0.0% Cash"
          ],
          [
           "0.0% Cash"
          ],
          [
           "0.0% Cash"
          ],
          [
           "0.0% Cash"
          ],
          [
           "0.0% Cash"
          ],
          [
           "0.0% Cash"
          ],
          [
           "0.0% Cash"
          ],
          [
           "0.0% Cash"
          ],
          [
           "0.0% Cash"
          ],
          [
           "0.0% Cash"
          ],
          [
           "0.0% Cash"
          ],
          [
           "0.0% Cash"
          ],
          [
           "0.0% Cash"
          ],
          [
           "0.0% Cash"
          ],
          [
           "0.0% Cash"
          ],
          [
           "0.0% Cash"
          ],
          [
           "0.0% Cash"
          ],
          [
           "0.0% Cash"
          ],
          [
           "0.0% Cash"
          ],
          [
           "0.0% Cash"
          ],
          [
           "0.0% Cash"
          ],
          [
           "0.0% Cash"
          ],
          [
           "0.0% Cash"
          ],
          [
           "0.0% Cash"
          ],
          [
           "0.0% Cash"
          ],
          [
           "0.0% Cash"
          ],
          [
           "0.0% Cash"
          ],
          [
           "0.0% Cash"
          ],
          [
           "0.0% Cash"
          ],
          [
           "0.0% Cash"
          ],
          [
           "0.0% Cash"
          ],
          [
           "0.0% Cash"
          ],
          [
           "0.0% Cash"
          ],
          [
           "0.0% Cash"
          ],
          [
           "0.0% Cash"
          ],
          [
           "0.0% Cash"
          ],
          [
           "0.0% Cash"
          ],
          [
           "0.0% Cash"
          ],
          [
           "0.0% Cash"
          ],
          [
           "0.0% Cash"
          ],
          [
           "0.0% Cash"
          ],
          [
           "0.0% Cash"
          ],
          [
           "0.0% Cash"
          ],
          [
           "0.0% Cash"
          ],
          [
           "0.0% Cash"
          ],
          [
           "0.0% Cash"
          ],
          [
           "0.0% Cash"
          ],
          [
           "0.0% Cash"
          ],
          [
           "0.0% Cash"
          ],
          [
           "0.0% Cash"
          ],
          [
           "0.0% Cash"
          ],
          [
           "0.0% Cash"
          ],
          [
           "0.0% Cash"
          ],
          [
           "0.0% Cash"
          ],
          [
           "0.0% Cash"
          ],
          [
           "0.0% Cash"
          ],
          [
           "0.0% Cash"
          ],
          [
           "0.0% Cash"
          ],
          [
           "0.0% Cash"
          ],
          [
           "0.0% Cash"
          ],
          [
           "0.0% Cash"
          ],
          [
           "0.0% Cash"
          ],
          [
           "0.0% Cash"
          ],
          [
           "0.0% Cash"
          ],
          [
           "0.0% Cash"
          ],
          [
           "0.0% Cash"
          ],
          [
           "0.0% Cash"
          ],
          [
           "0.0% Cash"
          ],
          [
           "0.0% Cash"
          ],
          [
           "0.0% Cash"
          ],
          [
           "0.0% Cash"
          ],
          [
           "0.0% Cash"
          ],
          [
           "0.0% Cash"
          ],
          [
           "0.0% Cash"
          ],
          [
           "0.0% Cash"
          ],
          [
           "0.0% Cash"
          ],
          [
           "0.0% Cash"
          ],
          [
           "0.0% Cash"
          ],
          [
           "0.0% Cash"
          ],
          [
           "0.0% Cash"
          ],
          [
           "0.0% Cash"
          ],
          [
           "0.0% Cash"
          ],
          [
           "0.0% Cash"
          ],
          [
           "0.0% Cash"
          ],
          [
           "0.0% Cash"
          ],
          [
           "0.0% Cash"
          ],
          [
           "0.0% Cash"
          ],
          [
           "0.0% Cash"
          ],
          [
           "0.0% Cash"
          ],
          [
           "0.0% Cash"
          ],
          [
           "0.0% Cash"
          ],
          [
           "0.0% Cash"
          ],
          [
           "0.0% Cash"
          ],
          [
           "0.0% Cash"
          ],
          [
           "0.0% Cash"
          ],
          [
           "0.0% Cash"
          ],
          [
           "0.0% Cash"
          ],
          [
           "0.0% Cash"
          ],
          [
           "0.0% Cash"
          ],
          [
           "0.0% Cash"
          ],
          [
           "0.0% Cash"
          ],
          [
           "0.0% Cash"
          ],
          [
           "0.0% Cash"
          ],
          [
           "0.0% Cash"
          ],
          [
           "0.0% Cash"
          ],
          [
           "0.0% Cash"
          ],
          [
           "0.0% Cash"
          ],
          [
           "0.0% Cash"
          ],
          [
           "0.0% Cash"
          ],
          [
           "0.0% Cash"
          ],
          [
           "0.0% Cash"
          ],
          [
           "0.0% Cash"
          ],
          [
           "0.0% Cash"
          ],
          [
           "0.0% Cash"
          ],
          [
           "0.0% Cash"
          ],
          [
           "0.0% Cash"
          ],
          [
           "0.0% Cash"
          ],
          [
           "0.0% Cash"
          ],
          [
           "0.0% Cash"
          ],
          [
           "0.0% Cash"
          ],
          [
           "0.0% Cash"
          ],
          [
           "0.0% Cash"
          ],
          [
           "0.0% Cash"
          ],
          [
           "0.0% Cash"
          ],
          [
           "0.0% Cash"
          ],
          [
           "0.0% Cash"
          ],
          [
           "0.0% Cash"
          ],
          [
           "0.0% Cash"
          ],
          [
           "0.0% Cash"
          ],
          [
           "0.0% Cash"
          ],
          [
           "0.0% Cash"
          ],
          [
           "0.0% Cash"
          ],
          [
           "0.0% Cash"
          ],
          [
           "0.0% Cash"
          ],
          [
           "0.0% Cash"
          ],
          [
           "0.0% Cash"
          ],
          [
           "0.0% Cash"
          ],
          [
           "0.0% Cash"
          ],
          [
           "0.0% Cash"
          ],
          [
           "0.0% Cash"
          ],
          [
           "0.0% Cash"
          ],
          [
           "0.0% Cash"
          ],
          [
           "0.0% Cash"
          ],
          [
           "0.0% Cash"
          ],
          [
           "0.0% Cash"
          ],
          [
           "0.0% Cash"
          ],
          [
           "0.0% Cash"
          ],
          [
           "0.0% Cash"
          ],
          [
           "0.0% Cash"
          ],
          [
           "0.0% Cash"
          ],
          [
           "0.0% Cash"
          ],
          [
           "0.0% Cash"
          ],
          [
           "0.0% Cash"
          ],
          [
           "0.0% Cash"
          ],
          [
           "0.0% Cash"
          ],
          [
           "0.0% Cash"
          ],
          [
           "0.0% Cash"
          ],
          [
           "0.0% Cash"
          ],
          [
           "0.0% Cash"
          ],
          [
           "0.0% Cash"
          ],
          [
           "0.0% Cash"
          ],
          [
           "0.0% Cash"
          ],
          [
           "0.0% Cash"
          ],
          [
           "0.0% Cash"
          ],
          [
           "0.0% Cash"
          ],
          [
           "0.0% Cash"
          ],
          [
           "0.0% Cash"
          ],
          [
           "0.0% Cash"
          ],
          [
           "0.0% Cash"
          ],
          [
           "0.0% Cash"
          ],
          [
           "0.0% Cash"
          ],
          [
           "0.0% Cash"
          ],
          [
           "0.0% Cash"
          ],
          [
           "0.0% Cash"
          ],
          [
           "0.0% Cash"
          ],
          [
           "0.0% Cash"
          ],
          [
           "0.0% Cash"
          ],
          [
           "0.0% Cash"
          ],
          [
           "0.0% Cash"
          ],
          [
           "0.0% Cash"
          ],
          [
           "0.0% Cash"
          ],
          [
           "0.0% Cash"
          ],
          [
           "0.0% Cash"
          ],
          [
           "0.0% Cash"
          ],
          [
           "0.0% Cash"
          ],
          [
           "0.0% Cash"
          ],
          [
           "0.0% Cash"
          ],
          [
           "0.0% Cash"
          ],
          [
           "0.0% Cash"
          ],
          [
           "0.0% Cash"
          ],
          [
           "0.0% Cash"
          ],
          [
           "0.0% Cash"
          ],
          [
           "0.0% Cash"
          ],
          [
           "0.0% Cash"
          ],
          [
           "0.0% Cash"
          ],
          [
           "0.0% Cash"
          ],
          [
           "0.0% Cash"
          ],
          [
           "0.0% Cash"
          ],
          [
           "0.0% Cash"
          ],
          [
           "0.0% Cash"
          ],
          [
           "0.0% Cash"
          ],
          [
           "0.0% Cash"
          ],
          [
           "0.0% Cash"
          ],
          [
           "0.0% Cash"
          ],
          [
           "0.0% Cash"
          ],
          [
           "0.0% Cash"
          ],
          [
           "0.0% Cash"
          ],
          [
           "0.0% Cash"
          ],
          [
           "0.0% Cash"
          ],
          [
           "0.0% Cash"
          ],
          [
           "0.0% Cash"
          ],
          [
           "0.0% Cash"
          ],
          [
           "0.0% Cash"
          ],
          [
           "0.0% Cash"
          ],
          [
           "0.0% Cash"
          ],
          [
           "0.0% Cash"
          ],
          [
           "0.0% Cash"
          ],
          [
           "0.0% Cash"
          ],
          [
           "0.0% Cash"
          ],
          [
           "0.0% Cash"
          ],
          [
           "0.0% Cash"
          ],
          [
           "0.0% Cash"
          ],
          [
           "0.0% Cash"
          ],
          [
           "0.0% Cash"
          ],
          [
           "0.0% Cash"
          ],
          [
           "0.0% Cash"
          ],
          [
           "0.0% Cash"
          ],
          [
           "0.0% Cash"
          ],
          [
           "0.0% Cash"
          ],
          [
           "0.0% Cash"
          ],
          [
           "0.0% Cash"
          ],
          [
           "0.0% Cash"
          ],
          [
           "0.0% Cash"
          ],
          [
           "0.0% Cash"
          ],
          [
           "0.0% Cash"
          ],
          [
           "0.0% Cash"
          ],
          [
           "0.0% Cash"
          ],
          [
           "0.0% Cash"
          ],
          [
           "0.0% Cash"
          ],
          [
           "0.0% Cash"
          ],
          [
           "0.0% Cash"
          ],
          [
           "0.0% Cash"
          ],
          [
           "0.0% Cash"
          ],
          [
           "0.0% Cash"
          ],
          [
           "0.0% Cash"
          ],
          [
           "0.0% Cash"
          ],
          [
           "0.0% Cash"
          ],
          [
           "0.0% Cash"
          ],
          [
           "0.0% Cash"
          ],
          [
           "0.0% Cash"
          ],
          [
           "0.0% Cash"
          ],
          [
           "0.0% Cash"
          ],
          [
           "0.0% Cash"
          ],
          [
           "0.0% Cash"
          ],
          [
           "0.0% Cash"
          ],
          [
           "0.0% Cash"
          ],
          [
           "0.0% Cash"
          ],
          [
           "0.0% Cash"
          ],
          [
           "0.0% Cash"
          ],
          [
           "0.0% Cash"
          ],
          [
           "0.0% Cash"
          ],
          [
           "0.0% Cash"
          ],
          [
           "0.0% Cash"
          ],
          [
           "0.0% Cash"
          ],
          [
           "0.0% Cash"
          ],
          [
           "0.0% Cash"
          ],
          [
           "0.0% Cash"
          ],
          [
           "0.0% Cash"
          ],
          [
           "0.0% Cash"
          ],
          [
           "0.0% Cash"
          ],
          [
           "0.0% Cash"
          ],
          [
           "0.0% Cash"
          ],
          [
           "0.0% Cash"
          ],
          [
           "0.0% Cash"
          ],
          [
           "0.0% Cash"
          ],
          [
           "0.0% Cash"
          ],
          [
           "0.0% Cash"
          ],
          [
           "0.0% Cash"
          ],
          [
           "0.0% Cash"
          ],
          [
           "0.0% Cash"
          ],
          [
           "0.0% Cash"
          ],
          [
           "0.0% Cash"
          ],
          [
           "0.0% Cash"
          ],
          [
           "0.0% Cash"
          ],
          [
           "0.0% Cash"
          ],
          [
           "0.0% Cash"
          ],
          [
           "0.0% Cash"
          ],
          [
           "0.0% Cash"
          ],
          [
           "0.0% Cash"
          ],
          [
           "0.0% Cash"
          ],
          [
           "0.0% Cash"
          ],
          [
           "0.0% Cash"
          ],
          [
           "0.0% Cash"
          ],
          [
           "0.0% Cash"
          ],
          [
           "0.0% Cash"
          ],
          [
           "0.0% Cash"
          ],
          [
           "0.0% Cash"
          ],
          [
           "0.0% Cash"
          ],
          [
           "0.0% Cash"
          ],
          [
           "0.0% Cash"
          ],
          [
           "0.0% Cash"
          ],
          [
           "0.0% Cash"
          ],
          [
           "0.0% Cash"
          ],
          [
           "0.0% Cash"
          ],
          [
           "0.0% Cash"
          ],
          [
           "0.0% Cash"
          ],
          [
           "0.0% Cash"
          ],
          [
           "0.0% Cash"
          ],
          [
           "0.0% Cash"
          ],
          [
           "0.0% Cash"
          ],
          [
           "0.0% Cash"
          ],
          [
           "0.0% Cash"
          ],
          [
           "0.0% Cash"
          ],
          [
           "0.0% Cash"
          ],
          [
           "0.0% Cash"
          ],
          [
           "0.0% Cash"
          ],
          [
           "0.0% Cash"
          ],
          [
           "0.0% Cash"
          ],
          [
           "0.0% Cash"
          ],
          [
           "0.0% Cash"
          ],
          [
           "0.0% Cash"
          ],
          [
           "0.0% Cash"
          ],
          [
           "0.0% Cash"
          ],
          [
           "0.0% Cash"
          ],
          [
           "0.0% Cash"
          ],
          [
           "0.0% Cash"
          ],
          [
           "0.0% Cash"
          ],
          [
           "0.0% Cash"
          ],
          [
           "0.0% Cash"
          ],
          [
           "0.0% Cash"
          ],
          [
           "0.0% Cash"
          ],
          [
           "0.0% Cash"
          ],
          [
           "0.0% Cash"
          ],
          [
           "0.0% Cash"
          ],
          [
           "0.0% Cash"
          ],
          [
           "0.0% Cash"
          ],
          [
           "0.0% Cash"
          ],
          [
           "0.0% Cash"
          ],
          [
           "0.0% Cash"
          ],
          [
           "0.0% Cash"
          ],
          [
           "0.0% Cash"
          ],
          [
           "0.0% Cash"
          ],
          [
           "0.0% Cash"
          ],
          [
           "0.0% Cash"
          ],
          [
           "0.0% Cash"
          ],
          [
           "0.0% Cash"
          ],
          [
           "0.0% Cash"
          ],
          [
           "0.0% Cash"
          ],
          [
           "0.0% Cash"
          ],
          [
           "0.0% Cash"
          ],
          [
           "0.0% Cash"
          ],
          [
           "0.0% Cash"
          ],
          [
           "0.0% Cash"
          ],
          [
           "0.0% Cash"
          ],
          [
           "0.0% Cash"
          ],
          [
           "0.0% Cash"
          ],
          [
           "0.0% Cash"
          ],
          [
           "0.0% Cash"
          ],
          [
           "0.0% Cash"
          ],
          [
           "0.0% Cash"
          ],
          [
           "0.0% Cash"
          ],
          [
           "0.0% Cash"
          ],
          [
           "0.0% Cash"
          ],
          [
           "0.0% Cash"
          ],
          [
           "0.0% Cash"
          ],
          [
           "0.0% Cash"
          ],
          [
           "0.0% Cash"
          ],
          [
           "0.0% Cash"
          ],
          [
           "0.0% Cash"
          ],
          [
           "0.0% Cash"
          ],
          [
           "0.0% Cash"
          ],
          [
           "0.0% Cash"
          ],
          [
           "0.0% Cash"
          ],
          [
           "0.0% Cash"
          ],
          [
           "0.0% Cash"
          ],
          [
           "0.0% Cash"
          ],
          [
           "0.0% Cash"
          ],
          [
           "0.0% Cash"
          ],
          [
           "0.0% Cash"
          ],
          [
           "0.0% Cash"
          ],
          [
           "0.0% Cash"
          ],
          [
           "0.0% Cash"
          ],
          [
           "0.0% Cash"
          ],
          [
           "0.0% Cash"
          ],
          [
           "0.0% Cash"
          ],
          [
           "0.0% Cash"
          ],
          [
           "0.0% Cash"
          ],
          [
           "0.0% Cash"
          ],
          [
           "0.0% Cash"
          ],
          [
           "0.0% Cash"
          ],
          [
           "0.0% Cash"
          ],
          [
           "0.0% Cash"
          ],
          [
           "0.0% Cash"
          ],
          [
           "0.0% Cash"
          ],
          [
           "0.0% Cash"
          ],
          [
           "0.0% Cash"
          ],
          [
           "0.0% Cash"
          ],
          [
           "0.0% Cash"
          ],
          [
           "0.0% Cash"
          ],
          [
           "0.0% Cash"
          ],
          [
           "0.0% Cash"
          ],
          [
           "0.0% Cash"
          ],
          [
           "0.0% Cash"
          ],
          [
           "0.0% Cash"
          ],
          [
           "0.0% Cash"
          ],
          [
           "0.0% Cash"
          ],
          [
           "0.0% Cash"
          ],
          [
           "0.0% Cash"
          ],
          [
           "0.0% Cash"
          ],
          [
           "0.0% Cash"
          ],
          [
           "0.0% Cash"
          ],
          [
           "0.0% Cash"
          ],
          [
           "0.0% Cash"
          ],
          [
           "0.0% Cash"
          ],
          [
           "0.0% Cash"
          ],
          [
           "0.0% Cash"
          ],
          [
           "0.0% Cash"
          ],
          [
           "0.0% Cash"
          ],
          [
           "0.0% Cash"
          ],
          [
           "0.0% Cash"
          ],
          [
           "0.0% Cash"
          ],
          [
           "0.0% Cash"
          ],
          [
           "0.0% Cash"
          ],
          [
           "0.0% Cash"
          ],
          [
           "0.0% Cash"
          ],
          [
           "0.0% Cash"
          ],
          [
           "0.0% Cash"
          ],
          [
           "0.0% Cash"
          ],
          [
           "0.0% Cash"
          ],
          [
           "0.0% Cash"
          ],
          [
           "0.0% Cash"
          ],
          [
           "0.0% Cash"
          ],
          [
           "0.0% Cash"
          ],
          [
           "0.0% Cash"
          ],
          [
           "0.0% Cash"
          ],
          [
           "0.0% Cash"
          ],
          [
           "0.0% Cash"
          ],
          [
           "0.0% Cash"
          ],
          [
           "0.0% Cash"
          ],
          [
           "0.0% Cash"
          ],
          [
           "0.0% Cash"
          ],
          [
           "0.0% Cash"
          ],
          [
           "0.0% Cash"
          ],
          [
           "0.0% Cash"
          ],
          [
           "0.0% Cash"
          ],
          [
           "0.0% Cash"
          ],
          [
           "0.0% Cash"
          ],
          [
           "0.0% Cash"
          ],
          [
           "0.0% Cash"
          ],
          [
           "0.0% Cash"
          ],
          [
           "0.0% Cash"
          ],
          [
           "0.0% Cash"
          ],
          [
           "0.0% Cash"
          ],
          [
           "0.0% Cash"
          ],
          [
           "0.0% Cash"
          ],
          [
           "0.0% Cash"
          ],
          [
           "0.0% Cash"
          ],
          [
           "0.0% Cash"
          ],
          [
           "0.0% Cash"
          ],
          [
           "0.0% Cash"
          ],
          [
           "0.0% Cash"
          ],
          [
           "0.0% Cash"
          ],
          [
           "0.0% Cash"
          ],
          [
           "0.0% Cash"
          ],
          [
           "0.0% Cash"
          ],
          [
           "0.0% Cash"
          ],
          [
           "0.0% Cash"
          ],
          [
           "0.0% Cash"
          ],
          [
           "0.0% Cash"
          ],
          [
           "0.0% Cash"
          ],
          [
           "0.0% Cash"
          ],
          [
           "0.0% Cash"
          ],
          [
           "0.0% Cash"
          ],
          [
           "0.0% Cash"
          ],
          [
           "0.0% Cash"
          ],
          [
           "0.0% Cash"
          ],
          [
           "0.0% Cash"
          ],
          [
           "0.0% Cash"
          ],
          [
           "0.0% Cash"
          ],
          [
           "0.0% Cash"
          ],
          [
           "0.0% Cash"
          ],
          [
           "0.0% Cash"
          ],
          [
           "0.0% Cash"
          ],
          [
           "0.0% Cash"
          ],
          [
           "0.0% Cash"
          ],
          [
           "0.0% Cash"
          ],
          [
           "0.0% Cash"
          ],
          [
           "0.0% Cash"
          ],
          [
           "0.0% Cash"
          ],
          [
           "0.0% Cash"
          ],
          [
           "0.0% Cash"
          ],
          [
           "0.0% Cash"
          ],
          [
           "0.0% Cash"
          ],
          [
           "0.0% Cash"
          ],
          [
           "0.0% Cash"
          ],
          [
           "0.0% Cash"
          ],
          [
           "0.0% Cash"
          ],
          [
           "0.0% Cash"
          ],
          [
           "0.0% Cash"
          ],
          [
           "0.0% Cash"
          ],
          [
           "0.0% Cash"
          ],
          [
           "0.0% Cash"
          ],
          [
           "0.0% Cash"
          ],
          [
           "0.0% Cash"
          ],
          [
           "0.0% Cash"
          ],
          [
           "0.0% Cash"
          ],
          [
           "0.0% Cash"
          ],
          [
           "0.0% Cash"
          ],
          [
           "0.0% Cash"
          ],
          [
           "0.0% Cash"
          ],
          [
           "0.0% Cash"
          ],
          [
           "0.0% Cash"
          ],
          [
           "0.0% Cash"
          ],
          [
           "0.0% Cash"
          ],
          [
           "0.0% Cash"
          ],
          [
           "0.0% Cash"
          ],
          [
           "0.0% Cash"
          ],
          [
           "0.0% Cash"
          ],
          [
           "0.0% Cash"
          ],
          [
           "0.0% Cash"
          ],
          [
           "0.0% Cash"
          ],
          [
           "0.0% Cash"
          ],
          [
           "0.0% Cash"
          ],
          [
           "0.0% Cash"
          ],
          [
           "0.0% Cash"
          ],
          [
           "0.0% Cash"
          ],
          [
           "0.0% Cash"
          ],
          [
           "0.0% Cash"
          ],
          [
           "0.0% Cash"
          ],
          [
           "0.0% Cash"
          ],
          [
           "0.0% Cash"
          ],
          [
           "0.0% Cash"
          ],
          [
           "0.0% Cash"
          ],
          [
           "0.0% Cash"
          ],
          [
           "0.0% Cash"
          ],
          [
           "0.0% Cash"
          ],
          [
           "0.0% Cash"
          ],
          [
           "0.0% Cash"
          ],
          [
           "0.0% Cash"
          ],
          [
           "0.0% Cash"
          ],
          [
           "0.0% Cash"
          ],
          [
           "0.0% Cash"
          ],
          [
           "0.0% Cash"
          ],
          [
           "0.0% Cash"
          ],
          [
           "0.0% Cash"
          ],
          [
           "0.0% Cash"
          ],
          [
           "0.0% Cash"
          ],
          [
           "0.0% Cash"
          ],
          [
           "0.0% Cash"
          ],
          [
           "0.0% Cash"
          ],
          [
           "0.0% Cash"
          ],
          [
           "0.0% Cash"
          ],
          [
           "0.0% Cash"
          ],
          [
           "0.0% Cash"
          ],
          [
           "0.0% Cash"
          ],
          [
           "0.0% Cash"
          ],
          [
           "0.0% Cash"
          ],
          [
           "0.0% Cash"
          ],
          [
           "0.0% Cash"
          ],
          [
           "0.0% Cash"
          ],
          [
           "0.0% Cash"
          ],
          [
           "0.0% Cash"
          ],
          [
           "0.0% Cash"
          ],
          [
           "0.0% Cash"
          ],
          [
           "0.0% Cash"
          ],
          [
           "0.0% Cash"
          ],
          [
           "0.0% Cash"
          ],
          [
           "0.0% Cash"
          ],
          [
           "0.0% Cash"
          ],
          [
           "0.0% Cash"
          ],
          [
           "0.0% Cash"
          ],
          [
           "0.0% Cash"
          ],
          [
           "0.0% Cash"
          ],
          [
           "0.0% Cash"
          ],
          [
           "0.0% Cash"
          ],
          [
           "0.0% Cash"
          ],
          [
           "0.0% Cash"
          ],
          [
           "0.0% Cash"
          ],
          [
           "0.0% Cash"
          ],
          [
           "0.0% Cash"
          ],
          [
           "0.0% Cash"
          ],
          [
           "0.0% Cash"
          ],
          [
           "0.0% Cash"
          ],
          [
           "0.0% Cash"
          ],
          [
           "0.0% Cash"
          ],
          [
           "0.0% Cash"
          ],
          [
           "0.0% Cash"
          ],
          [
           "0.0% Cash"
          ],
          [
           "0.0% Cash"
          ],
          [
           "0.0% Cash"
          ],
          [
           "0.0% Cash"
          ],
          [
           "0.0% Cash"
          ],
          [
           "0.0% Cash"
          ],
          [
           "0.0% Cash"
          ],
          [
           "0.0% Cash"
          ],
          [
           "0.0% Cash"
          ],
          [
           "0.0% Cash"
          ],
          [
           "0.0% Cash"
          ],
          [
           "0.0% Cash"
          ],
          [
           "0.0% Cash"
          ],
          [
           "0.0% Cash"
          ],
          [
           "0.0% Cash"
          ],
          [
           "0.0% Cash"
          ],
          [
           "0.0% Cash"
          ],
          [
           "0.0% Cash"
          ],
          [
           "0.0% Cash"
          ],
          [
           "0.0% Cash"
          ],
          [
           "0.0% Cash"
          ],
          [
           "0.0% Cash"
          ],
          [
           "0.0% Cash"
          ],
          [
           "0.0% Cash"
          ],
          [
           "0.0% Cash"
          ],
          [
           "0.0% Cash"
          ],
          [
           "0.0% Cash"
          ],
          [
           "0.0% Cash"
          ],
          [
           "0.0% Cash"
          ],
          [
           "0.0% Cash"
          ],
          [
           "0.0% Cash"
          ],
          [
           "0.0% Cash"
          ],
          [
           "0.0% Cash"
          ],
          [
           "0.0% Cash"
          ],
          [
           "0.0% Cash"
          ],
          [
           "0.0% Cash"
          ],
          [
           "0.0% Cash"
          ],
          [
           "0.0% Cash"
          ],
          [
           "0.0% Cash"
          ],
          [
           "0.0% Cash"
          ],
          [
           "0.0% Cash"
          ],
          [
           "0.0% Cash"
          ],
          [
           "0.0% Cash"
          ],
          [
           "0.0% Cash"
          ],
          [
           "0.0% Cash"
          ],
          [
           "0.0% Cash"
          ],
          [
           "0.0% Cash"
          ],
          [
           "0.0% Cash"
          ],
          [
           "0.0% Cash"
          ],
          [
           "0.0% Cash"
          ],
          [
           "0.0% Cash"
          ],
          [
           "0.0% Cash"
          ],
          [
           "0.0% Cash"
          ],
          [
           "0.0% Cash"
          ],
          [
           "0.0% Cash"
          ],
          [
           "0.0% Cash"
          ],
          [
           "0.0% Cash"
          ],
          [
           "0.0% Cash"
          ],
          [
           "0.0% Cash"
          ],
          [
           "0.0% Cash"
          ],
          [
           "0.0% Cash"
          ],
          [
           "0.0% Cash"
          ],
          [
           "0.0% Cash"
          ],
          [
           "0.0% Cash"
          ],
          [
           "0.0% Cash"
          ],
          [
           "0.0% Cash"
          ],
          [
           "0.0% Cash"
          ],
          [
           "0.0% Cash"
          ],
          [
           "0.0% Cash"
          ],
          [
           "0.0% Cash"
          ],
          [
           "0.0% Cash"
          ],
          [
           "0.0% Cash"
          ],
          [
           "0.0% Cash"
          ],
          [
           "0.0% Cash"
          ],
          [
           "0.0% Cash"
          ],
          [
           "0.0% Cash"
          ],
          [
           "0.0% Cash"
          ],
          [
           "0.0% Cash"
          ],
          [
           "0.0% Cash"
          ],
          [
           "0.0% Cash"
          ],
          [
           "0.0% Cash"
          ],
          [
           "0.0% Cash"
          ],
          [
           "0.0% Cash"
          ],
          [
           "0.0% Cash"
          ],
          [
           "0.0% Cash"
          ],
          [
           "0.0% Cash"
          ],
          [
           "0.0% Cash"
          ],
          [
           "0.0% Cash"
          ],
          [
           "0.0% Cash"
          ],
          [
           "0.0% Cash"
          ],
          [
           "0.0% Cash"
          ],
          [
           "0.0% Cash"
          ],
          [
           "0.0% Cash"
          ],
          [
           "0.0% Cash"
          ],
          [
           "0.0% Cash"
          ],
          [
           "0.0% Cash"
          ],
          [
           "0.0% Cash"
          ],
          [
           "0.0% Cash"
          ],
          [
           "0.0% Cash"
          ],
          [
           "0.0% Cash"
          ],
          [
           "0.0% Cash"
          ],
          [
           "0.0% Cash"
          ],
          [
           "0.0% Cash"
          ],
          [
           "0.0% Cash"
          ],
          [
           "0.0% Cash"
          ],
          [
           "0.0% Cash"
          ],
          [
           "0.0% Cash"
          ],
          [
           "0.0% Cash"
          ],
          [
           "0.0% Cash"
          ],
          [
           "0.0% Cash"
          ],
          [
           "0.0% Cash"
          ],
          [
           "0.0% Cash"
          ],
          [
           "0.0% Cash"
          ],
          [
           "0.0% Cash"
          ],
          [
           "0.0% Cash"
          ],
          [
           "0.0% Cash"
          ],
          [
           "0.0% Cash"
          ],
          [
           "0.0% Cash"
          ],
          [
           "0.0% Cash"
          ],
          [
           "0.0% Cash"
          ],
          [
           "0.0% Cash"
          ],
          [
           "0.0% Cash"
          ],
          [
           "0.0% Cash"
          ],
          [
           "0.0% Cash"
          ],
          [
           "0.0% Cash"
          ],
          [
           "0.0% Cash"
          ],
          [
           "0.0% Cash"
          ],
          [
           "0.0% Cash"
          ],
          [
           "0.0% Cash"
          ],
          [
           "0.0% Cash"
          ],
          [
           "0.0% Cash"
          ],
          [
           "0.0% Cash"
          ],
          [
           "0.0% Cash"
          ],
          [
           "0.0% Cash"
          ],
          [
           "0.0% Cash"
          ],
          [
           "0.0% Cash"
          ],
          [
           "0.0% Cash"
          ],
          [
           "0.0% Cash"
          ],
          [
           "0.0% Cash"
          ],
          [
           "0.0% Cash"
          ],
          [
           "0.0% Cash"
          ],
          [
           "0.0% Cash"
          ],
          [
           "0.0% Cash"
          ],
          [
           "0.0% Cash"
          ],
          [
           "0.0% Cash"
          ],
          [
           "0.0% Cash"
          ],
          [
           "0.0% Cash"
          ],
          [
           "0.0% Cash"
          ],
          [
           "0.0% Cash"
          ],
          [
           "0.0% Cash"
          ],
          [
           "0.0% Cash"
          ],
          [
           "0.0% Cash"
          ],
          [
           "0.0% Cash"
          ],
          [
           "0.0% Cash"
          ],
          [
           "0.0% Cash"
          ],
          [
           "0.0% Cash"
          ],
          [
           "0.0% Cash"
          ],
          [
           "0.0% Cash"
          ],
          [
           "0.0% Cash"
          ],
          [
           "0.0% Cash"
          ],
          [
           "0.0% Cash"
          ],
          [
           "0.0% Cash"
          ],
          [
           "0.0% Cash"
          ],
          [
           "0.0% Cash"
          ],
          [
           "0.0% Cash"
          ],
          [
           "0.0% Cash"
          ],
          [
           "0.0% Cash"
          ],
          [
           "0.0% Cash"
          ],
          [
           "0.0% Cash"
          ],
          [
           "0.0% Cash"
          ],
          [
           "0.0% Cash"
          ],
          [
           "0.0% Cash"
          ],
          [
           "0.0% Cash"
          ],
          [
           "0.0% Cash"
          ],
          [
           "0.0% Cash"
          ],
          [
           "0.0% Cash"
          ],
          [
           "0.0% Cash"
          ],
          [
           "0.0% Cash"
          ],
          [
           "0.0% Cash"
          ],
          [
           "0.0% Cash"
          ],
          [
           "0.0% Cash"
          ],
          [
           "0.0% Cash"
          ],
          [
           "0.0% Cash"
          ],
          [
           "0.0% Cash"
          ],
          [
           "0.0% Cash"
          ],
          [
           "0.0% Cash"
          ],
          [
           "0.0% Cash"
          ],
          [
           "0.0% Cash"
          ],
          [
           "0.0% Cash"
          ],
          [
           "0.0% Cash"
          ],
          [
           "0.0% Cash"
          ],
          [
           "0.0% Cash"
          ],
          [
           "0.0% Cash"
          ],
          [
           "0.0% Cash"
          ],
          [
           "0.0% Cash"
          ],
          [
           "0.0% Cash"
          ],
          [
           "0.0% Cash"
          ],
          [
           "0.0% Cash"
          ],
          [
           "0.0% Cash"
          ],
          [
           "0.0% Cash"
          ],
          [
           "0.0% Cash"
          ],
          [
           "0.0% Cash"
          ],
          [
           "0.0% Cash"
          ],
          [
           "0.0% Cash"
          ],
          [
           "0.0% Cash"
          ],
          [
           "0.0% Cash"
          ],
          [
           "0.0% Cash"
          ],
          [
           "0.0% Cash"
          ],
          [
           "0.0% Cash"
          ],
          [
           "0.0% Cash"
          ],
          [
           "0.0% Cash"
          ],
          [
           "0.0% Cash"
          ],
          [
           "0.0% Cash"
          ],
          [
           "0.0% Cash"
          ],
          [
           "0.0% Cash"
          ],
          [
           "0.0% Cash"
          ],
          [
           "0.0% Cash"
          ],
          [
           "0.0% Cash"
          ],
          [
           "0.0% Cash"
          ],
          [
           "0.0% Cash"
          ],
          [
           "0.0% Cash"
          ],
          [
           "0.0% Cash"
          ],
          [
           "0.0% Cash"
          ],
          [
           "0.0% Cash"
          ],
          [
           "0.0% Cash"
          ],
          [
           "0.0% Cash"
          ],
          [
           "0.0% Cash"
          ],
          [
           "0.0% Cash"
          ],
          [
           "0.0% Cash"
          ],
          [
           "0.0% Cash"
          ],
          [
           "0.0% Cash"
          ],
          [
           "0.0% Cash"
          ],
          [
           "0.0% Cash"
          ],
          [
           "0.0% Cash"
          ],
          [
           "0.0% Cash"
          ],
          [
           "0.0% Cash"
          ],
          [
           "0.0% Cash"
          ],
          [
           "0.0% Cash"
          ],
          [
           "0.0% Cash"
          ],
          [
           "0.0% Cash"
          ],
          [
           "0.0% Cash"
          ],
          [
           "0.0% Cash"
          ],
          [
           "0.0% Cash"
          ],
          [
           "0.0% Cash"
          ],
          [
           "0.0% Cash"
          ],
          [
           "0.0% Cash"
          ],
          [
           "0.0% Cash"
          ],
          [
           "0.0% Cash"
          ],
          [
           "0.0% Cash"
          ],
          [
           "0.0% Cash"
          ],
          [
           "0.0% Cash"
          ],
          [
           "0.0% Cash"
          ],
          [
           "0.0% Cash"
          ],
          [
           "0.0% Cash"
          ],
          [
           "0.0% Cash"
          ],
          [
           "0.0% Cash"
          ],
          [
           "0.0% Cash"
          ],
          [
           "0.0% Cash"
          ],
          [
           "0.0% Cash"
          ],
          [
           "0.0% Cash"
          ],
          [
           "0.0% Cash"
          ],
          [
           "0.0% Cash"
          ],
          [
           "0.0% Cash"
          ],
          [
           "0.0% Cash"
          ],
          [
           "0.0% Cash"
          ],
          [
           "0.0% Cash"
          ],
          [
           "0.0% Cash"
          ],
          [
           "0.0% Cash"
          ],
          [
           "0.0% Cash"
          ],
          [
           "0.0% Cash"
          ],
          [
           "0.0% Cash"
          ],
          [
           "0.0% Cash"
          ],
          [
           "0.0% Cash"
          ],
          [
           "0.0% Cash"
          ],
          [
           "0.0% Cash"
          ],
          [
           "0.0% Cash"
          ],
          [
           "0.0% Cash"
          ],
          [
           "0.0% Cash"
          ],
          [
           "0.0% Cash"
          ],
          [
           "0.0% Cash"
          ],
          [
           "0.0% Cash"
          ],
          [
           "0.0% Cash"
          ],
          [
           "0.0% Cash"
          ],
          [
           "0.0% Cash"
          ],
          [
           "0.0% Cash"
          ],
          [
           "0.0% Cash"
          ],
          [
           "0.0% Cash"
          ],
          [
           "0.0% Cash"
          ],
          [
           "0.0% Cash"
          ],
          [
           "0.0% Cash"
          ],
          [
           "0.0% Cash"
          ],
          [
           "0.0% Cash"
          ],
          [
           "0.0% Cash"
          ],
          [
           "0.0% Cash"
          ],
          [
           "0.0% Cash"
          ],
          [
           "0.0% Cash"
          ],
          [
           "0.0% Cash"
          ],
          [
           "0.0% Cash"
          ],
          [
           "0.0% Cash"
          ],
          [
           "0.0% Cash"
          ],
          [
           "0.0% Cash"
          ],
          [
           "0.0% Cash"
          ],
          [
           "0.0% Cash"
          ],
          [
           "0.0% Cash"
          ],
          [
           "0.0% Cash"
          ],
          [
           "0.0% Cash"
          ],
          [
           "0.0% Cash"
          ],
          [
           "0.0% Cash"
          ],
          [
           "0.0% Cash"
          ],
          [
           "0.0% Cash"
          ],
          [
           "0.0% Cash"
          ],
          [
           "0.0% Cash"
          ],
          [
           "0.0% Cash"
          ],
          [
           "0.0% Cash"
          ],
          [
           "0.0% Cash"
          ],
          [
           "0.0% Cash"
          ],
          [
           "0.0% Cash"
          ],
          [
           "0.0% Cash"
          ],
          [
           "0.0% Cash"
          ],
          [
           "0.0% Cash"
          ],
          [
           "0.0% Cash"
          ],
          [
           "0.0% Cash"
          ],
          [
           "0.0% Cash"
          ],
          [
           "0.0% Cash"
          ],
          [
           "0.0% Cash"
          ],
          [
           "0.0% Cash"
          ],
          [
           "0.0% Cash"
          ],
          [
           "0.0% Cash"
          ],
          [
           "0.0% Cash"
          ],
          [
           "0.0% Cash"
          ],
          [
           "0.0% Cash"
          ],
          [
           "0.0% Cash"
          ],
          [
           "0.0% Cash"
          ],
          [
           "0.0% Cash"
          ],
          [
           "0.0% Cash"
          ],
          [
           "0.0% Cash"
          ],
          [
           "0.0% Cash"
          ],
          [
           "0.0% Cash"
          ],
          [
           "0.0% Cash"
          ],
          [
           "0.0% Cash"
          ],
          [
           "0.0% Cash"
          ],
          [
           "0.0% Cash"
          ],
          [
           "0.0% Cash"
          ],
          [
           "0.0% Cash"
          ],
          [
           "0.0% Cash"
          ],
          [
           "0.0% Cash"
          ],
          [
           "0.0% Cash"
          ],
          [
           "0.0% Cash"
          ],
          [
           "0.0% Cash"
          ],
          [
           "0.0% Cash"
          ],
          [
           "0.0% Cash"
          ],
          [
           "0.0% Cash"
          ],
          [
           "0.0% Cash"
          ],
          [
           "0.0% Cash"
          ],
          [
           "0.0% Cash"
          ],
          [
           "0.0% Cash"
          ],
          [
           "0.0% Cash"
          ],
          [
           "0.0% Cash"
          ],
          [
           "0.0% Cash"
          ],
          [
           "0.0% Cash"
          ],
          [
           "0.0% Cash"
          ],
          [
           "0.0% Cash"
          ],
          [
           "0.0% Cash"
          ],
          [
           "0.0% Cash"
          ],
          [
           "0.0% Cash"
          ],
          [
           "0.0% Cash"
          ],
          [
           "0.0% Cash"
          ],
          [
           "0.0% Cash"
          ],
          [
           "0.0% Cash"
          ],
          [
           "0.0% Cash"
          ],
          [
           "0.0% Cash"
          ],
          [
           "0.0% Cash"
          ],
          [
           "0.0% Cash"
          ],
          [
           "0.0% Cash"
          ],
          [
           "0.0% Cash"
          ],
          [
           "0.0% Cash"
          ],
          [
           "0.0% Cash"
          ],
          [
           "0.0% Cash"
          ],
          [
           "0.0% Cash"
          ],
          [
           "0.0% Cash"
          ],
          [
           "0.0% Cash"
          ],
          [
           "0.0% Cash"
          ],
          [
           "0.0% Cash"
          ],
          [
           "0.0% Cash"
          ],
          [
           "0.0% Cash"
          ],
          [
           "0.0% Cash"
          ],
          [
           "0.0% Cash"
          ],
          [
           "0.0% Cash"
          ],
          [
           "0.0% Cash"
          ],
          [
           "0.0% Cash"
          ],
          [
           "0.0% Cash"
          ],
          [
           "0.0% Cash"
          ],
          [
           "0.0% Cash"
          ],
          [
           "0.0% Cash"
          ],
          [
           "0.0% Cash"
          ],
          [
           "0.0% Cash"
          ],
          [
           "0.0% Cash"
          ],
          [
           "0.0% Cash"
          ],
          [
           "0.0% Cash"
          ],
          [
           "0.0% Cash"
          ],
          [
           "0.0% Cash"
          ],
          [
           "0.0% Cash"
          ],
          [
           "0.0% Cash"
          ],
          [
           "0.0% Cash"
          ],
          [
           "0.0% Cash"
          ],
          [
           "0.0% Cash"
          ],
          [
           "0.0% Cash"
          ],
          [
           "0.0% Cash"
          ],
          [
           "0.0% Cash"
          ],
          [
           "0.0% Cash"
          ],
          [
           "0.0% Cash"
          ],
          [
           "0.0% Cash"
          ],
          [
           "0.0% Cash"
          ],
          [
           "0.0% Cash"
          ],
          [
           "0.0% Cash"
          ],
          [
           "0.0% Cash"
          ],
          [
           "0.0% Cash"
          ],
          [
           "0.0% Cash"
          ],
          [
           "0.0% Cash"
          ],
          [
           "0.0% Cash"
          ],
          [
           "0.0% Cash"
          ],
          [
           "0.0% Cash"
          ],
          [
           "0.0% Cash"
          ],
          [
           "0.0% Cash"
          ],
          [
           "0.0% Cash"
          ],
          [
           "0.0% Cash"
          ],
          [
           "0.0% Cash"
          ],
          [
           "0.0% Cash"
          ],
          [
           "0.0% Cash"
          ],
          [
           "0.0% Cash"
          ],
          [
           "0.0% Cash"
          ],
          [
           "0.0% Cash"
          ],
          [
           "0.0% Cash"
          ],
          [
           "0.0% Cash"
          ],
          [
           "0.0% Cash"
          ],
          [
           "0.0% Cash"
          ],
          [
           "0.0% Cash"
          ],
          [
           "0.0% Cash"
          ],
          [
           "0.0% Cash"
          ],
          [
           "0.0% Cash"
          ],
          [
           "0.0% Cash"
          ],
          [
           "0.0% Cash"
          ],
          [
           "0.0% Cash"
          ],
          [
           "0.0% Cash"
          ],
          [
           "0.0% Cash"
          ],
          [
           "0.0% Cash"
          ],
          [
           "0.0% Cash"
          ],
          [
           "0.0% Cash"
          ],
          [
           "0.0% Cash"
          ],
          [
           "0.0% Cash"
          ],
          [
           "0.0% Cash"
          ],
          [
           "0.0% Cash"
          ],
          [
           "0.0% Cash"
          ],
          [
           "0.0% Cash"
          ],
          [
           "0.0% Cash"
          ],
          [
           "0.0% Cash"
          ],
          [
           "0.0% Cash"
          ],
          [
           "0.0% Cash"
          ],
          [
           "0.0% Cash"
          ],
          [
           "0.0% Cash"
          ],
          [
           "0.0% Cash"
          ],
          [
           "0.0% Cash"
          ],
          [
           "0.0% Cash"
          ],
          [
           "0.0% Cash"
          ],
          [
           "0.0% Cash"
          ],
          [
           "0.0% Cash"
          ],
          [
           "0.0% Cash"
          ],
          [
           "0.0% Cash"
          ],
          [
           "0.0% Cash"
          ],
          [
           "0.0% Cash"
          ],
          [
           "0.0% Cash"
          ],
          [
           "0.0% Cash"
          ],
          [
           "0.0% Cash"
          ],
          [
           "0.0% Cash"
          ],
          [
           "0.0% Cash"
          ],
          [
           "0.0% Cash"
          ],
          [
           "0.0% Cash"
          ],
          [
           "0.0% Cash"
          ],
          [
           "0.0% Cash"
          ],
          [
           "0.0% Cash"
          ],
          [
           "0.0% Cash"
          ],
          [
           "0.0% Cash"
          ],
          [
           "0.0% Cash"
          ],
          [
           "0.0% Cash"
          ],
          [
           "0.0% Cash"
          ],
          [
           "0.0% Cash"
          ],
          [
           "0.0% Cash"
          ],
          [
           "0.0% Cash"
          ],
          [
           "0.0% Cash"
          ],
          [
           "0.0% Cash"
          ],
          [
           "0.0% Cash"
          ],
          [
           "0.0% Cash"
          ],
          [
           "0.0% Cash"
          ],
          [
           "0.0% Cash"
          ],
          [
           "0.0% Cash"
          ],
          [
           "0.0% Cash"
          ],
          [
           "0.0% Cash"
          ],
          [
           "0.0% Cash"
          ],
          [
           "0.0% Cash"
          ],
          [
           "0.0% Cash"
          ],
          [
           "0.0% Cash"
          ],
          [
           "0.0% Cash"
          ],
          [
           "0.0% Cash"
          ],
          [
           "0.0% Cash"
          ],
          [
           "0.0% Cash"
          ],
          [
           "0.0% Cash"
          ],
          [
           "0.0% Cash"
          ],
          [
           "0.0% Cash"
          ],
          [
           "0.0% Cash"
          ],
          [
           "0.0% Cash"
          ],
          [
           "0.0% Cash"
          ],
          [
           "0.0% Cash"
          ],
          [
           "0.0% Cash"
          ],
          [
           "0.0% Cash"
          ],
          [
           "0.0% Cash"
          ],
          [
           "0.0% Cash"
          ],
          [
           "0.0% Cash"
          ],
          [
           "0.0% Cash"
          ],
          [
           "0.0% Cash"
          ],
          [
           "0.0% Cash"
          ],
          [
           "0.0% Cash"
          ],
          [
           "0.0% Cash"
          ],
          [
           "0.0% Cash"
          ],
          [
           "0.0% Cash"
          ],
          [
           "0.0% Cash"
          ],
          [
           "0.0% Cash"
          ],
          [
           "0.0% Cash"
          ],
          [
           "0.0% Cash"
          ],
          [
           "0.0% Cash"
          ],
          [
           "0.0% Cash"
          ],
          [
           "0.0% Cash"
          ],
          [
           "0.0% Cash"
          ],
          [
           "0.0% Cash"
          ],
          [
           "0.0% Cash"
          ],
          [
           "0.0% Cash"
          ],
          [
           "0.0% Cash"
          ],
          [
           "0.0% Cash"
          ],
          [
           "0.0% Cash"
          ],
          [
           "0.0% Cash"
          ],
          [
           "0.0% Cash"
          ],
          [
           "0.0% Cash"
          ],
          [
           "0.0% Cash"
          ],
          [
           "0.0% Cash"
          ],
          [
           "0.0% Cash"
          ],
          [
           "0.0% Cash"
          ],
          [
           "0.0% Cash"
          ],
          [
           "0.0% Cash"
          ],
          [
           "0.0% Cash"
          ],
          [
           "0.0% Cash"
          ],
          [
           "0.0% Cash"
          ],
          [
           "0.0% Cash"
          ],
          [
           "0.0% Cash"
          ],
          [
           "0.0% Cash"
          ],
          [
           "0.0% Cash"
          ],
          [
           "0.0% Cash"
          ],
          [
           "0.0% Cash"
          ],
          [
           "0.0% Cash"
          ],
          [
           "0.0% Cash"
          ],
          [
           "0.0% Cash"
          ],
          [
           "0.0% Cash"
          ],
          [
           "0.0% Cash"
          ],
          [
           "0.0% Cash"
          ],
          [
           "0.0% Cash"
          ],
          [
           "0.0% Cash"
          ],
          [
           "0.0% Cash"
          ],
          [
           "0.0% Cash"
          ],
          [
           "0.0% Cash"
          ],
          [
           "0.0% Cash"
          ],
          [
           "0.0% Cash"
          ],
          [
           "0.0% Cash"
          ],
          [
           "0.0% Cash"
          ],
          [
           "0.0% Cash"
          ],
          [
           "0.0% Cash"
          ],
          [
           "0.0% Cash"
          ],
          [
           "0.0% Cash"
          ],
          [
           "0.0% Cash"
          ],
          [
           "0.0% Cash"
          ],
          [
           "0.0% Cash"
          ],
          [
           "0.0% Cash"
          ],
          [
           "0.0% Cash"
          ],
          [
           "0.0% Cash"
          ],
          [
           "0.0% Cash"
          ],
          [
           "0.0% Cash"
          ],
          [
           "0.0% Cash"
          ],
          [
           "0.0% Cash"
          ],
          [
           "0.0% Cash"
          ],
          [
           "0.0% Cash"
          ],
          [
           "0.0% Cash"
          ],
          [
           "0.0% Cash"
          ],
          [
           "0.0% Cash"
          ],
          [
           "0.0% Cash"
          ],
          [
           "0.0% Cash"
          ],
          [
           "0.0% Cash"
          ],
          [
           "0.0% Cash"
          ],
          [
           "0.0% Cash"
          ],
          [
           "0.0% Cash"
          ],
          [
           "0.0% Cash"
          ],
          [
           "0.0% Cash"
          ],
          [
           "0.0% Cash"
          ],
          [
           "0.0% Cash"
          ],
          [
           "0.0% Cash"
          ],
          [
           "0.0% Cash"
          ],
          [
           "0.0% Cash"
          ],
          [
           "0.0% Cash"
          ],
          [
           "0.0% Cash"
          ],
          [
           "0.0% Cash"
          ],
          [
           "0.0% Cash"
          ],
          [
           "0.0% Cash"
          ],
          [
           "0.0% Cash"
          ],
          [
           "0.0% Cash"
          ],
          [
           "0.0% Cash"
          ],
          [
           "0.0% Cash"
          ],
          [
           "0.0% Cash"
          ],
          [
           "0.0% Cash"
          ],
          [
           "0.0% Cash"
          ],
          [
           "0.0% Cash"
          ],
          [
           "0.0% Cash"
          ],
          [
           "0.0% Cash"
          ],
          [
           "0.0% Cash"
          ],
          [
           "0.0% Cash"
          ],
          [
           "0.0% Cash"
          ],
          [
           "0.0% Cash"
          ],
          [
           "0.0% Cash"
          ],
          [
           "0.0% Cash"
          ],
          [
           "0.0% Cash"
          ],
          [
           "0.0% Cash"
          ],
          [
           "0.0% Cash"
          ],
          [
           "0.0% Cash"
          ],
          [
           "0.0% Cash"
          ],
          [
           "0.0% Cash"
          ],
          [
           "0.0% Cash"
          ],
          [
           "0.0% Cash"
          ],
          [
           "0.0% Cash"
          ],
          [
           "0.0% Cash"
          ],
          [
           "0.0% Cash"
          ],
          [
           "0.0% Cash"
          ],
          [
           "0.0% Cash"
          ],
          [
           "0.0% Cash"
          ],
          [
           "0.0% Cash"
          ],
          [
           "0.0% Cash"
          ],
          [
           "0.0% Cash"
          ],
          [
           "0.0% Cash"
          ],
          [
           "0.0% Cash"
          ],
          [
           "0.0% Cash"
          ],
          [
           "0.0% Cash"
          ],
          [
           "0.0% Cash"
          ],
          [
           "0.0% Cash"
          ],
          [
           "0.0% Cash"
          ],
          [
           "0.0% Cash"
          ],
          [
           "0.0% Cash"
          ],
          [
           "0.0% Cash"
          ],
          [
           "0.0% Cash"
          ],
          [
           "0.0% Cash"
          ],
          [
           "0.0% Cash"
          ],
          [
           "0.0% Cash"
          ],
          [
           "0.0% Cash"
          ],
          [
           "0.0% Cash"
          ],
          [
           "0.0% Cash"
          ],
          [
           "0.0% Cash"
          ],
          [
           "0.0% Cash"
          ],
          [
           "0.0% Cash"
          ],
          [
           "0.0% Cash"
          ],
          [
           "0.0% Cash"
          ],
          [
           "0.0% Cash"
          ],
          [
           "0.0% Cash"
          ],
          [
           "0.0% Cash"
          ],
          [
           "0.0% Cash"
          ],
          [
           "0.0% Cash"
          ],
          [
           "0.0% Cash"
          ],
          [
           "0.0% Cash"
          ],
          [
           "0.0% Cash"
          ],
          [
           "0.0% Cash"
          ],
          [
           "0.0% Cash"
          ],
          [
           "0.0% Cash"
          ],
          [
           "0.0% Cash"
          ],
          [
           "0.0% Cash"
          ],
          [
           "0.0% Cash"
          ],
          [
           "0.0% Cash"
          ],
          [
           "0.0% Cash"
          ],
          [
           "0.0% Cash"
          ],
          [
           "0.0% Cash"
          ],
          [
           "0.0% Cash"
          ],
          [
           "0.0% Cash"
          ],
          [
           "0.0% Cash"
          ],
          [
           "0.0% Cash"
          ],
          [
           "0.0% Cash"
          ],
          [
           "0.0% Cash"
          ],
          [
           "0.0% Cash"
          ],
          [
           "0.0% Cash"
          ],
          [
           "0.0% Cash"
          ],
          [
           "0.0% Cash"
          ],
          [
           "0.0% Cash"
          ],
          [
           "0.0% Cash"
          ],
          [
           "0.0% Cash"
          ],
          [
           "0.0% Cash"
          ],
          [
           "0.0% Cash"
          ],
          [
           "0.0% Cash"
          ],
          [
           "0.0% Cash"
          ],
          [
           "0.0% Cash"
          ],
          [
           "0.0% Cash"
          ],
          [
           "0.0% Cash"
          ],
          [
           "0.0% Cash"
          ],
          [
           "0.0% Cash"
          ],
          [
           "0.0% Cash"
          ],
          [
           "0.0% Cash"
          ],
          [
           "0.0% Cash"
          ],
          [
           "0.0% Cash"
          ],
          [
           "0.0% Cash"
          ],
          [
           "0.0% Cash"
          ],
          [
           "0.0% Cash"
          ],
          [
           "0.0% Cash"
          ],
          [
           "0.0% Cash"
          ],
          [
           "0.0% Cash"
          ],
          [
           "0.0% Cash"
          ],
          [
           "0.0% Cash"
          ],
          [
           "0.0% Cash"
          ],
          [
           "0.0% Cash"
          ],
          [
           "0.0% Cash"
          ],
          [
           "0.0% Cash"
          ],
          [
           "0.0% Cash"
          ],
          [
           "0.0% Cash"
          ],
          [
           "0.0% Cash"
          ],
          [
           "0.0% Cash"
          ],
          [
           "0.0% Cash"
          ],
          [
           "0.0% Cash"
          ],
          [
           "0.0% Cash"
          ],
          [
           "0.0% Cash"
          ],
          [
           "0.0% Cash"
          ],
          [
           "0.0% Cash"
          ],
          [
           "0.0% Cash"
          ],
          [
           "0.0% Cash"
          ],
          [
           "0.0% Cash"
          ],
          [
           "0.0% Cash"
          ],
          [
           "0.0% Cash"
          ],
          [
           "0.0% Cash"
          ],
          [
           "0.0% Cash"
          ],
          [
           "0.0% Cash"
          ],
          [
           "0.0% Cash"
          ],
          [
           "0.0% Cash"
          ],
          [
           "0.0% Cash"
          ],
          [
           "0.0% Cash"
          ],
          [
           "0.0% Cash"
          ],
          [
           "0.0% Cash"
          ],
          [
           "0.0% Cash"
          ],
          [
           "0.0% Cash"
          ],
          [
           "0.0% Cash"
          ],
          [
           "0.0% Cash"
          ],
          [
           "0.0% Cash"
          ],
          [
           "0.0% Cash"
          ],
          [
           "0.0% Cash"
          ],
          [
           "0.0% Cash"
          ],
          [
           "0.0% Cash"
          ],
          [
           "0.0% Cash"
          ],
          [
           "0.0% Cash"
          ],
          [
           "0.0% Cash"
          ],
          [
           "0.0% Cash"
          ],
          [
           "0.0% Cash"
          ],
          [
           "0.0% Cash"
          ],
          [
           "0.0% Cash"
          ],
          [
           "0.0% Cash"
          ],
          [
           "0.0% Cash"
          ],
          [
           "0.0% Cash"
          ],
          [
           "0.0% Cash"
          ],
          [
           "0.0% Cash"
          ],
          [
           "0.0% Cash"
          ],
          [
           "0.0% Cash"
          ],
          [
           "0.0% Cash"
          ],
          [
           "0.0% Cash"
          ],
          [
           "0.0% Cash"
          ],
          [
           "0.0% Cash"
          ],
          [
           "0.0% Cash"
          ],
          [
           "0.0% Cash"
          ],
          [
           "0.0% Cash"
          ],
          [
           "0.0% Cash"
          ],
          [
           "0.0% Cash"
          ],
          [
           "0.0% Cash"
          ],
          [
           "0.0% Cash"
          ],
          [
           "0.0% Cash"
          ],
          [
           "0.0% Cash"
          ],
          [
           "0.0% Cash"
          ],
          [
           "0.0% Cash"
          ],
          [
           "0.0% Cash"
          ],
          [
           "0.0% Cash"
          ],
          [
           "0.0% Cash"
          ],
          [
           "0.0% Cash"
          ],
          [
           "0.0% Cash"
          ],
          [
           "0.0% Cash"
          ],
          [
           "0.0% Cash"
          ],
          [
           "0.0% Cash"
          ],
          [
           "0.0% Cash"
          ],
          [
           "0.0% Cash"
          ],
          [
           "0.0% Cash"
          ],
          [
           "0.0% Cash"
          ],
          [
           "0.0% Cash"
          ],
          [
           "0.0% Cash"
          ],
          [
           "0.0% Cash"
          ],
          [
           "0.0% Cash"
          ],
          [
           "0.0% Cash"
          ],
          [
           "0.0% Cash"
          ],
          [
           "0.0% Cash"
          ],
          [
           "0.0% Cash"
          ],
          [
           "0.0% Cash"
          ],
          [
           "0.0% Cash"
          ],
          [
           "0.0% Cash"
          ],
          [
           "0.0% Cash"
          ],
          [
           "0.0% Cash"
          ],
          [
           "0.0% Cash"
          ],
          [
           "0.0% Cash"
          ],
          [
           "0.0% Cash"
          ],
          [
           "0.0% Cash"
          ],
          [
           "0.0% Cash"
          ],
          [
           "0.0% Cash"
          ],
          [
           "0.0% Cash"
          ],
          [
           "0.0% Cash"
          ],
          [
           "0.0% Cash"
          ],
          [
           "0.0% Cash"
          ],
          [
           "0.0% Cash"
          ],
          [
           "0.0% Cash"
          ],
          [
           "0.0% Cash"
          ],
          [
           "0.0% Cash"
          ],
          [
           "0.0% Cash"
          ],
          [
           "0.0% Cash"
          ],
          [
           "0.0% Cash"
          ],
          [
           "0.0% Cash"
          ],
          [
           "0.0% Cash"
          ],
          [
           "0.0% Cash"
          ],
          [
           "0.0% Cash"
          ],
          [
           "0.0% Cash"
          ],
          [
           "0.0% Cash"
          ],
          [
           "0.0% Cash"
          ],
          [
           "0.0% Cash"
          ],
          [
           "0.0% Cash"
          ],
          [
           "0.0% Cash"
          ],
          [
           "0.0% Cash"
          ],
          [
           "0.0% Cash"
          ],
          [
           "0.0% Cash"
          ],
          [
           "0.0% Cash"
          ],
          [
           "0.0% Cash"
          ],
          [
           "0.0% Cash"
          ],
          [
           "0.0% Cash"
          ],
          [
           "0.0% Cash"
          ],
          [
           "0.0% Cash"
          ],
          [
           "0.0% Cash"
          ],
          [
           "0.0% Cash"
          ],
          [
           "0.0% Cash"
          ],
          [
           "0.0% Cash"
          ],
          [
           "0.0% Cash"
          ],
          [
           "0.0% Cash"
          ],
          [
           "0.0% Cash"
          ],
          [
           "0.0% Cash"
          ],
          [
           "0.0% Cash"
          ],
          [
           "0.0% Cash"
          ],
          [
           "0.0% Cash"
          ],
          [
           "0.0% Cash"
          ],
          [
           "0.0% Cash"
          ],
          [
           "0.0% Cash"
          ],
          [
           "0.0% Cash"
          ],
          [
           "0.0% Cash"
          ],
          [
           "0.0% Cash"
          ],
          [
           "0.0% Cash"
          ],
          [
           "0.0% Cash"
          ],
          [
           "0.0% Cash"
          ],
          [
           "0.0% Cash"
          ],
          [
           "0.0% Cash"
          ],
          [
           "0.0% Cash"
          ],
          [
           "0.0% Cash"
          ],
          [
           "0.0% Cash"
          ],
          [
           "0.0% Cash"
          ],
          [
           "0.0% Cash"
          ],
          [
           "0.0% Cash"
          ],
          [
           "0.0% Cash"
          ],
          [
           "0.0% Cash"
          ],
          [
           "0.0% Cash"
          ],
          [
           "0.0% Cash"
          ],
          [
           "0.0% Cash"
          ],
          [
           "0.0% Cash"
          ],
          [
           "0.0% Cash"
          ],
          [
           "0.0% Cash"
          ],
          [
           "0.0% Cash"
          ],
          [
           "0.0% Cash"
          ],
          [
           "0.0% Cash"
          ],
          [
           "0.0% Cash"
          ],
          [
           "0.0% Cash"
          ],
          [
           "0.0% Cash"
          ],
          [
           "0.0% Cash"
          ],
          [
           "0.0% Cash"
          ],
          [
           "0.0% Cash"
          ],
          [
           "0.0% Cash"
          ],
          [
           "0.0% Cash"
          ],
          [
           "0.0% Cash"
          ],
          [
           "0.0% Cash"
          ],
          [
           "0.0% Cash"
          ],
          [
           "0.0% Cash"
          ],
          [
           "0.0% Cash"
          ],
          [
           "0.0% Cash"
          ],
          [
           "0.0% Cash"
          ],
          [
           "0.0% Cash"
          ],
          [
           "0.0% Cash"
          ],
          [
           "0.0% Cash"
          ],
          [
           "0.0% Cash"
          ],
          [
           "0.0% Cash"
          ],
          [
           "0.0% Cash"
          ],
          [
           "0.0% Cash"
          ],
          [
           "0.0% Cash"
          ],
          [
           "0.0% Cash"
          ],
          [
           "0.0% Cash"
          ],
          [
           "0.0% Cash"
          ],
          [
           "0.0% Cash"
          ],
          [
           "0.0% Cash"
          ],
          [
           "0.0% Cash"
          ],
          [
           "0.0% Cash"
          ],
          [
           "0.0% Cash"
          ],
          [
           "0.0% Cash"
          ],
          [
           "0.0% Cash"
          ],
          [
           "0.0% Cash"
          ],
          [
           "0.0% Cash"
          ],
          [
           "0.0% Cash"
          ],
          [
           "0.0% Cash"
          ],
          [
           "0.0% Cash"
          ],
          [
           "0.0% Cash"
          ],
          [
           "0.0% Cash"
          ],
          [
           "0.0% Cash"
          ],
          [
           "0.0% Cash"
          ],
          [
           "0.0% Cash"
          ],
          [
           "0.0% Cash"
          ],
          [
           "0.0% Cash"
          ],
          [
           "0.0% Cash"
          ],
          [
           "0.0% Cash"
          ],
          [
           "0.0% Cash"
          ],
          [
           "0.0% Cash"
          ],
          [
           "0.0% Cash"
          ],
          [
           "0.0% Cash"
          ],
          [
           "0.0% Cash"
          ],
          [
           "0.0% Cash"
          ],
          [
           "0.0% Cash"
          ],
          [
           "0.0% Cash"
          ],
          [
           "0.0% Cash"
          ],
          [
           "0.0% Cash"
          ],
          [
           "0.0% Cash"
          ],
          [
           "0.0% Cash"
          ],
          [
           "0.0% Cash"
          ],
          [
           "0.0% Cash"
          ],
          [
           "0.0% Cash"
          ],
          [
           "0.0% Cash"
          ],
          [
           "0.0% Cash"
          ],
          [
           "0.0% Cash"
          ],
          [
           "0.0% Cash"
          ],
          [
           "0.0% Cash"
          ],
          [
           "0.0% Cash"
          ],
          [
           "0.0% Cash"
          ],
          [
           "0.0% Cash"
          ],
          [
           "0.0% Cash"
          ],
          [
           "0.0% Cash"
          ],
          [
           "0.0% Cash"
          ],
          [
           "0.0% Cash"
          ],
          [
           "0.0% Cash"
          ],
          [
           "0.0% Cash"
          ],
          [
           "0.0% Cash"
          ],
          [
           "0.0% Cash"
          ],
          [
           "0.0% Cash"
          ],
          [
           "0.0% Cash"
          ],
          [
           "0.0% Cash"
          ],
          [
           "0.0% Cash"
          ],
          [
           "0.0% Cash"
          ],
          [
           "0.0% Cash"
          ],
          [
           "0.0% Cash"
          ],
          [
           "0.0% Cash"
          ],
          [
           "0.0% Cash"
          ],
          [
           "0.0% Cash"
          ],
          [
           "0.0% Cash"
          ],
          [
           "0.0% Cash"
          ],
          [
           "0.0% Cash"
          ],
          [
           "0.0% Cash"
          ],
          [
           "0.0% Cash"
          ],
          [
           "0.0% Cash"
          ],
          [
           "0.0% Cash"
          ],
          [
           "0.0% Cash"
          ],
          [
           "0.0% Cash"
          ],
          [
           "0.0% Cash"
          ],
          [
           "0.0% Cash"
          ],
          [
           "0.0% Cash"
          ],
          [
           "0.0% Cash"
          ],
          [
           "0.0% Cash"
          ],
          [
           "0.0% Cash"
          ],
          [
           "0.0% Cash"
          ],
          [
           "0.0% Cash"
          ],
          [
           "0.0% Cash"
          ],
          [
           "0.0% Cash"
          ],
          [
           "0.0% Cash"
          ],
          [
           "0.0% Cash"
          ],
          [
           "0.0% Cash"
          ],
          [
           "0.0% Cash"
          ],
          [
           "0.0% Cash"
          ],
          [
           "0.0% Cash"
          ],
          [
           "0.0% Cash"
          ],
          [
           "0.0% Cash"
          ],
          [
           "0.0% Cash"
          ],
          [
           "0.0% Cash"
          ],
          [
           "0.0% Cash"
          ],
          [
           "0.0% Cash"
          ],
          [
           "0.0% Cash"
          ],
          [
           "0.0% Cash"
          ],
          [
           "0.0% Cash"
          ],
          [
           "0.0% Cash"
          ],
          [
           "0.0% Cash"
          ],
          [
           "0.0% Cash"
          ],
          [
           "0.0% Cash"
          ],
          [
           "0.0% Cash"
          ],
          [
           "0.0% Cash"
          ],
          [
           "0.0% Cash"
          ],
          [
           "0.0% Cash"
          ],
          [
           "0.0% Cash"
          ],
          [
           "0.0% Cash"
          ],
          [
           "0.0% Cash"
          ],
          [
           "0.0% Cash"
          ],
          [
           "0.0% Cash"
          ],
          [
           "0.0% Cash"
          ],
          [
           "0.0% Cash"
          ],
          [
           "0.0% Cash"
          ],
          [
           "0.0% Cash"
          ],
          [
           "0.0% Cash"
          ],
          [
           "0.0% Cash"
          ],
          [
           "0.0% Cash"
          ],
          [
           "0.0% Cash"
          ],
          [
           "0.0% Cash"
          ],
          [
           "0.0% Cash"
          ],
          [
           "0.0% Cash"
          ],
          [
           "0.0% Cash"
          ],
          [
           "0.0% Cash"
          ],
          [
           "0.0% Cash"
          ],
          [
           "0.0% Cash"
          ],
          [
           "0.0% Cash"
          ],
          [
           "0.0% Cash"
          ],
          [
           "0.0% Cash"
          ],
          [
           "0.0% Cash"
          ],
          [
           "0.0% Cash"
          ],
          [
           "0.0% Cash"
          ],
          [
           "0.0% Cash"
          ],
          [
           "0.0% Cash"
          ],
          [
           "0.0% Cash"
          ],
          [
           "0.0% Cash"
          ],
          [
           "0.0% Cash"
          ],
          [
           "0.0% Cash"
          ],
          [
           "0.0% Cash"
          ],
          [
           "0.0% Cash"
          ],
          [
           "0.0% Cash"
          ],
          [
           "0.0% Cash"
          ],
          [
           "0.0% Cash"
          ],
          [
           "0.0% Cash"
          ],
          [
           "0.0% Cash"
          ],
          [
           "0.0% Cash"
          ],
          [
           "0.0% Cash"
          ],
          [
           "0.0% Cash"
          ],
          [
           "0.0% Cash"
          ],
          [
           "0.0% Cash"
          ],
          [
           "0.0% Cash"
          ],
          [
           "0.0% Cash"
          ],
          [
           "0.0% Cash"
          ],
          [
           "0.0% Cash"
          ],
          [
           "0.0% Cash"
          ],
          [
           "0.0% Cash"
          ],
          [
           "0.0% Cash"
          ],
          [
           "0.0% Cash"
          ],
          [
           "0.0% Cash"
          ],
          [
           "0.0% Cash"
          ],
          [
           "0.0% Cash"
          ],
          [
           "0.0% Cash"
          ],
          [
           "0.0% Cash"
          ],
          [
           "0.0% Cash"
          ],
          [
           "0.0% Cash"
          ],
          [
           "0.0% Cash"
          ],
          [
           "0.0% Cash"
          ],
          [
           "0.0% Cash"
          ],
          [
           "0.0% Cash"
          ],
          [
           "0.0% Cash"
          ],
          [
           "0.0% Cash"
          ],
          [
           "0.0% Cash"
          ],
          [
           "0.0% Cash"
          ],
          [
           "0.0% Cash"
          ],
          [
           "0.0% Cash"
          ],
          [
           "0.0% Cash"
          ],
          [
           "0.0% Cash"
          ],
          [
           "0.0% Cash"
          ],
          [
           "0.0% Cash"
          ],
          [
           "0.0% Cash"
          ],
          [
           "0.0% Cash"
          ],
          [
           "0.0% Cash"
          ],
          [
           "0.0% Cash"
          ],
          [
           "0.0% Cash"
          ],
          [
           "0.0% Cash"
          ],
          [
           "0.0% Cash"
          ],
          [
           "0.0% Cash"
          ],
          [
           "0.0% Cash"
          ],
          [
           "0.0% Cash"
          ],
          [
           "0.0% Cash"
          ],
          [
           "0.0% Cash"
          ],
          [
           "0.0% Cash"
          ],
          [
           "0.0% Cash"
          ],
          [
           "0.0% Cash"
          ],
          [
           "0.0% Cash"
          ],
          [
           "0.0% Cash"
          ],
          [
           "0.0% Cash"
          ],
          [
           "0.0% Cash"
          ],
          [
           "0.0% Cash"
          ],
          [
           "0.0% Cash"
          ],
          [
           "0.0% Cash"
          ],
          [
           "0.0% Cash"
          ],
          [
           "0.0% Cash"
          ],
          [
           "0.0% Cash"
          ],
          [
           "0.0% Cash"
          ],
          [
           "0.0% Cash"
          ],
          [
           "0.0% Cash"
          ],
          [
           "0.0% Cash"
          ],
          [
           "0.0% Cash"
          ],
          [
           "0.0% Cash"
          ],
          [
           "0.0% Cash"
          ],
          [
           "0.0% Cash"
          ],
          [
           "0.0% Cash"
          ],
          [
           "0.0% Cash"
          ],
          [
           "0.0% Cash"
          ],
          [
           "0.0% Cash"
          ],
          [
           "0.0% Cash"
          ],
          [
           "0.0% Cash"
          ],
          [
           "0.0% Cash"
          ],
          [
           "0.0% Cash"
          ],
          [
           "0.0% Cash"
          ],
          [
           "0.0% Cash"
          ],
          [
           "0.0% Cash"
          ],
          [
           "0.0% Cash"
          ],
          [
           "0.0% Cash"
          ],
          [
           "0.0% Cash"
          ],
          [
           "0.0% Cash"
          ],
          [
           "0.0% Cash"
          ],
          [
           "0.0% Cash"
          ],
          [
           "0.0% Cash"
          ],
          [
           "0.0% Cash"
          ],
          [
           "0.0% Cash"
          ],
          [
           "0.0% Cash"
          ],
          [
           "0.0% Cash"
          ],
          [
           "0.0% Cash"
          ],
          [
           "0.0% Cash"
          ],
          [
           "0.0% Cash"
          ],
          [
           "0.0% Cash"
          ],
          [
           "0.0% Cash"
          ],
          [
           "0.0% Cash"
          ],
          [
           "0.0% Cash"
          ],
          [
           "0.0% Cash"
          ],
          [
           "0.0% Cash"
          ],
          [
           "0.0% Cash"
          ],
          [
           "0.0% Cash"
          ],
          [
           "0.0% Cash"
          ],
          [
           "0.0% Cash"
          ],
          [
           "0.0% Cash"
          ],
          [
           "0.0% Cash"
          ],
          [
           "0.0% Cash"
          ],
          [
           "0.0% Cash"
          ],
          [
           "0.0% Cash"
          ],
          [
           "0.0% Cash"
          ],
          [
           "0.0% Cash"
          ],
          [
           "0.0% Cash"
          ],
          [
           "0.0% Cash"
          ],
          [
           "0.0% Cash"
          ],
          [
           "0.0% Cash"
          ],
          [
           "0.0% Cash"
          ],
          [
           "0.0% Cash"
          ],
          [
           "0.0% Cash"
          ],
          [
           "0.0% Cash"
          ],
          [
           "0.0% Cash"
          ],
          [
           "0.0% Cash"
          ],
          [
           "0.0% Cash"
          ],
          [
           "0.0% Cash"
          ],
          [
           "0.0% Cash"
          ],
          [
           "0.0% Cash"
          ],
          [
           "0.0% Cash"
          ],
          [
           "0.0% Cash"
          ],
          [
           "0.0% Cash"
          ],
          [
           "0.0% Cash"
          ],
          [
           "0.0% Cash"
          ],
          [
           "0.0% Cash"
          ],
          [
           "0.0% Cash"
          ],
          [
           "0.0% Cash"
          ],
          [
           "0.0% Cash"
          ],
          [
           "0.0% Cash"
          ],
          [
           "0.0% Cash"
          ],
          [
           "0.0% Cash"
          ],
          [
           "0.0% Cash"
          ],
          [
           "0.0% Cash"
          ],
          [
           "0.0% Cash"
          ],
          [
           "0.0% Cash"
          ],
          [
           "0.0% Cash"
          ],
          [
           "0.0% Cash"
          ],
          [
           "0.0% Cash"
          ],
          [
           "0.0% Cash"
          ],
          [
           "0.0% Cash"
          ],
          [
           "0.0% Cash"
          ],
          [
           "0.0% Cash"
          ],
          [
           "0.0% Cash"
          ],
          [
           "0.0% Cash"
          ],
          [
           "0.0% Cash"
          ],
          [
           "0.0% Cash"
          ],
          [
           "0.0% Cash"
          ],
          [
           "0.0% Cash"
          ],
          [
           "0.0% Cash"
          ],
          [
           "0.0% Cash"
          ],
          [
           "0.0% Cash"
          ],
          [
           "0.0% Cash"
          ],
          [
           "0.0% Cash"
          ],
          [
           "0.0% Cash"
          ],
          [
           "0.0% Cash"
          ],
          [
           "0.0% Cash"
          ],
          [
           "0.0% Cash"
          ],
          [
           "0.0% Cash"
          ],
          [
           "0.0% Cash"
          ],
          [
           "0.0% Cash"
          ],
          [
           "0.0% Cash"
          ],
          [
           "0.0% Cash"
          ],
          [
           "0.0% Cash"
          ],
          [
           "0.0% Cash"
          ],
          [
           "0.0% Cash"
          ],
          [
           "0.0% Cash"
          ],
          [
           "0.0% Cash"
          ],
          [
           "0.0% Cash"
          ],
          [
           "0.0% Cash"
          ],
          [
           "0.0% Cash"
          ],
          [
           "0.0% Cash"
          ],
          [
           "0.0% Cash"
          ],
          [
           "0.0% Cash"
          ],
          [
           "0.0% Cash"
          ],
          [
           "0.0% Cash"
          ],
          [
           "0.0% Cash"
          ],
          [
           "0.0% Cash"
          ],
          [
           "0.0% Cash"
          ],
          [
           "0.0% Cash"
          ],
          [
           "0.0% Cash"
          ],
          [
           "0.0% Cash"
          ],
          [
           "0.0% Cash"
          ],
          [
           "0.0% Cash"
          ],
          [
           "0.0% Cash"
          ],
          [
           "0.0% Cash"
          ],
          [
           "0.0% Cash"
          ],
          [
           "0.0% Cash"
          ],
          [
           "0.0% Cash"
          ],
          [
           "0.0% Cash"
          ],
          [
           "0.0% Cash"
          ],
          [
           "0.0% Cash"
          ],
          [
           "0.0% Cash"
          ],
          [
           "0.0% Cash"
          ],
          [
           "0.0% Cash"
          ],
          [
           "0.0% Cash"
          ],
          [
           "0.0% Cash"
          ],
          [
           "0.0% Cash"
          ],
          [
           "0.0% Cash"
          ],
          [
           "0.0% Cash"
          ],
          [
           "0.0% Cash"
          ],
          [
           "0.0% Cash"
          ],
          [
           "0.0% Cash"
          ],
          [
           "0.0% Cash"
          ],
          [
           "0.0% Cash"
          ],
          [
           "0.0% Cash"
          ],
          [
           "0.0% Cash"
          ],
          [
           "0.0% Cash"
          ],
          [
           "0.0% Cash"
          ],
          [
           "0.0% Cash"
          ],
          [
           "0.0% Cash"
          ],
          [
           "0.0% Cash"
          ],
          [
           "0.0% Cash"
          ],
          [
           "0.0% Cash"
          ],
          [
           "0.0% Cash"
          ],
          [
           "0.0% Cash"
          ],
          [
           "0.0% Cash"
          ],
          [
           "0.0% Cash"
          ],
          [
           "0.0% Cash"
          ],
          [
           "0.0% Cash"
          ],
          [
           "0.0% Cash"
          ],
          [
           "0.0% Cash"
          ],
          [
           "0.0% Cash"
          ],
          [
           "0.0% Cash"
          ],
          [
           "0.0% Cash"
          ],
          [
           "0.0% Cash"
          ],
          [
           "0.0% Cash"
          ],
          [
           "0.0% Cash"
          ],
          [
           "0.0% Cash"
          ],
          [
           "0.0% Cash"
          ],
          [
           "0.0% Cash"
          ],
          [
           "0.0% Cash"
          ],
          [
           "0.0% Cash"
          ],
          [
           "0.0% Cash"
          ],
          [
           "0.0% Cash"
          ],
          [
           "0.0% Cash"
          ],
          [
           "0.0% Cash"
          ],
          [
           "0.0% Cash"
          ],
          [
           "0.0% Cash"
          ],
          [
           "0.0% Cash"
          ],
          [
           "0.0% Cash"
          ],
          [
           "0.0% Cash"
          ],
          [
           "0.0% Cash"
          ],
          [
           "0.0% Cash"
          ],
          [
           "0.0% Cash"
          ],
          [
           "0.0% Cash"
          ],
          [
           "0.0% Cash"
          ],
          [
           "0.0% Cash"
          ],
          [
           "0.0% Cash"
          ],
          [
           "0.0% Cash"
          ],
          [
           "0.0% Cash"
          ],
          [
           "0.0% Cash"
          ],
          [
           "0.0% Cash"
          ],
          [
           "0.0% Cash"
          ],
          [
           "0.0% Cash"
          ],
          [
           "0.0% Cash"
          ],
          [
           "0.0% Cash"
          ],
          [
           "0.0% Cash"
          ],
          [
           "0.0% Cash"
          ],
          [
           "0.0% Cash"
          ],
          [
           "0.0% Cash"
          ],
          [
           "0.0% Cash"
          ],
          [
           "0.0% Cash"
          ],
          [
           "0.0% Cash"
          ],
          [
           "0.0% Cash"
          ],
          [
           "0.0% Cash"
          ],
          [
           "0.0% Cash"
          ],
          [
           "0.0% Cash"
          ],
          [
           "0.0% Cash"
          ],
          [
           "0.0% Cash"
          ],
          [
           "0.0% Cash"
          ],
          [
           "0.0% Cash"
          ],
          [
           "0.0% Cash"
          ],
          [
           "0.0% Cash"
          ],
          [
           "0.0% Cash"
          ],
          [
           "0.0% Cash"
          ],
          [
           "0.0% Cash"
          ],
          [
           "0.0% Cash"
          ],
          [
           "0.0% Cash"
          ],
          [
           "0.0% Cash"
          ],
          [
           "0.0% Cash"
          ],
          [
           "0.0% Cash"
          ],
          [
           "0.0% Cash"
          ],
          [
           "0.0% Cash"
          ],
          [
           "0.0% Cash"
          ],
          [
           "0.0% Cash"
          ],
          [
           "0.0% Cash"
          ],
          [
           "0.0% Cash"
          ],
          [
           "0.0% Cash"
          ],
          [
           "0.0% Cash"
          ],
          [
           "0.0% Cash"
          ],
          [
           "0.0% Cash"
          ],
          [
           "0.0% Cash"
          ],
          [
           "0.0% Cash"
          ],
          [
           "0.0% Cash"
          ],
          [
           "0.0% Cash"
          ],
          [
           "0.0% Cash"
          ],
          [
           "0.0% Cash"
          ],
          [
           "0.0% Cash"
          ],
          [
           "0.0% Cash"
          ],
          [
           "0.0% Cash"
          ],
          [
           "0.0% Cash"
          ],
          [
           "0.0% Cash"
          ],
          [
           "0.0% Cash"
          ],
          [
           "0.0% Cash"
          ],
          [
           "0.0% Cash"
          ],
          [
           "0.0% Cash"
          ],
          [
           "0.0% Cash"
          ],
          [
           "0.0% Cash"
          ],
          [
           "0.0% Cash"
          ],
          [
           "0.0% Cash"
          ],
          [
           "0.0% Cash"
          ],
          [
           "0.0% Cash"
          ],
          [
           "0.0% Cash"
          ],
          [
           "0.0% Cash"
          ],
          [
           "0.0% Cash"
          ],
          [
           "0.0% Cash"
          ],
          [
           "0.0% Cash"
          ],
          [
           "0.0% Cash"
          ],
          [
           "0.0% Cash"
          ],
          [
           "0.0% Cash"
          ],
          [
           "0.0% Cash"
          ],
          [
           "0.0% Cash"
          ],
          [
           "0.0% Cash"
          ],
          [
           "0.0% Cash"
          ],
          [
           "0.0% Cash"
          ],
          [
           "0.0% Cash"
          ],
          [
           "0.0% Cash"
          ],
          [
           "0.0% Cash"
          ],
          [
           "0.0% Cash"
          ],
          [
           "0.0% Cash"
          ],
          [
           "0.0% Cash"
          ],
          [
           "0.0% Cash"
          ],
          [
           "0.0% Cash"
          ],
          [
           "0.0% Cash"
          ],
          [
           "0.0% Cash"
          ],
          [
           "0.0% Cash"
          ],
          [
           "0.0% Cash"
          ],
          [
           "0.0% Cash"
          ],
          [
           "0.0% Cash"
          ],
          [
           "0.0% Cash"
          ],
          [
           "0.0% Cash"
          ],
          [
           "0.0% Cash"
          ],
          [
           "0.0% Cash"
          ],
          [
           "0.0% Cash"
          ],
          [
           "0.0% Cash"
          ],
          [
           "0.0% Cash"
          ],
          [
           "0.0% Cash"
          ],
          [
           "0.0% Cash"
          ],
          [
           "0.0% Cash"
          ],
          [
           "0.0% Cash"
          ],
          [
           "0.0% Cash"
          ],
          [
           "0.0% Cash"
          ],
          [
           "0.0% Cash"
          ],
          [
           "0.0% Cash"
          ],
          [
           "0.0% Cash"
          ],
          [
           "0.0% Cash"
          ],
          [
           "0.0% Cash"
          ],
          [
           "0.0% Cash"
          ],
          [
           "0.0% Cash"
          ],
          [
           "0.0% Cash"
          ],
          [
           "0.0% Cash"
          ],
          [
           "0.0% Cash"
          ],
          [
           "0.0% Cash"
          ],
          [
           "0.0% Cash"
          ],
          [
           "0.0% Cash"
          ],
          [
           "0.0% Cash"
          ],
          [
           "0.0% Cash"
          ],
          [
           "0.0% Cash"
          ],
          [
           "0.0% Cash"
          ],
          [
           "0.0% Cash"
          ]
         ],
         "hovertemplate": "%{y:.2f}<br>%{customdata}",
         "legendgroup": "Grandma",
         "line": {
          "color": "white",
          "dash": "solid",
          "width": 1.5
         },
         "mode": "lines",
         "name": "Grandma",
         "showlegend": true,
         "type": "scattergl",
         "x": [
          "2012-03-01T00:00:00",
          "2012-03-02T00:00:00",
          "2012-03-05T00:00:00",
          "2012-03-06T00:00:00",
          "2012-03-07T00:00:00",
          "2012-03-08T00:00:00",
          "2012-03-09T00:00:00",
          "2012-03-12T00:00:00",
          "2012-03-13T00:00:00",
          "2012-03-14T00:00:00",
          "2012-03-15T00:00:00",
          "2012-03-16T00:00:00",
          "2012-03-19T00:00:00",
          "2012-03-20T00:00:00",
          "2012-03-21T00:00:00",
          "2012-03-22T00:00:00",
          "2012-03-23T00:00:00",
          "2012-03-26T00:00:00",
          "2012-03-27T00:00:00",
          "2012-03-28T00:00:00",
          "2012-03-29T00:00:00",
          "2012-03-30T00:00:00",
          "2012-04-02T00:00:00",
          "2012-04-03T00:00:00",
          "2012-04-04T00:00:00",
          "2012-04-05T00:00:00",
          "2012-04-09T00:00:00",
          "2012-04-10T00:00:00",
          "2012-04-11T00:00:00",
          "2012-04-12T00:00:00",
          "2012-04-13T00:00:00",
          "2012-04-16T00:00:00",
          "2012-04-17T00:00:00",
          "2012-04-18T00:00:00",
          "2012-04-19T00:00:00",
          "2012-04-20T00:00:00",
          "2012-04-23T00:00:00",
          "2012-04-24T00:00:00",
          "2012-04-25T00:00:00",
          "2012-04-26T00:00:00",
          "2012-04-27T00:00:00",
          "2012-04-30T00:00:00",
          "2012-05-01T00:00:00",
          "2012-05-02T00:00:00",
          "2012-05-03T00:00:00",
          "2012-05-04T00:00:00",
          "2012-05-07T00:00:00",
          "2012-05-08T00:00:00",
          "2012-05-09T00:00:00",
          "2012-05-10T00:00:00",
          "2012-05-11T00:00:00",
          "2012-05-14T00:00:00",
          "2012-05-15T00:00:00",
          "2012-05-16T00:00:00",
          "2012-05-17T00:00:00",
          "2012-05-18T00:00:00",
          "2012-05-21T00:00:00",
          "2012-05-22T00:00:00",
          "2012-05-23T00:00:00",
          "2012-05-24T00:00:00",
          "2012-05-25T00:00:00",
          "2012-05-29T00:00:00",
          "2012-05-30T00:00:00",
          "2012-05-31T00:00:00",
          "2012-06-01T00:00:00",
          "2012-06-04T00:00:00",
          "2012-06-05T00:00:00",
          "2012-06-06T00:00:00",
          "2012-06-07T00:00:00",
          "2012-06-08T00:00:00",
          "2012-06-11T00:00:00",
          "2012-06-12T00:00:00",
          "2012-06-13T00:00:00",
          "2012-06-14T00:00:00",
          "2012-06-15T00:00:00",
          "2012-06-18T00:00:00",
          "2012-06-19T00:00:00",
          "2012-06-20T00:00:00",
          "2012-06-21T00:00:00",
          "2012-06-22T00:00:00",
          "2012-06-25T00:00:00",
          "2012-06-26T00:00:00",
          "2012-06-27T00:00:00",
          "2012-06-28T00:00:00",
          "2012-06-29T00:00:00",
          "2012-07-02T00:00:00",
          "2012-07-03T00:00:00",
          "2012-07-05T00:00:00",
          "2012-07-06T00:00:00",
          "2012-07-09T00:00:00",
          "2012-07-10T00:00:00",
          "2012-07-11T00:00:00",
          "2012-07-12T00:00:00",
          "2012-07-13T00:00:00",
          "2012-07-16T00:00:00",
          "2012-07-17T00:00:00",
          "2012-07-18T00:00:00",
          "2012-07-19T00:00:00",
          "2012-07-20T00:00:00",
          "2012-07-23T00:00:00",
          "2012-07-24T00:00:00",
          "2012-07-25T00:00:00",
          "2012-07-26T00:00:00",
          "2012-07-27T00:00:00",
          "2012-07-30T00:00:00",
          "2012-07-31T00:00:00",
          "2012-08-01T00:00:00",
          "2012-08-02T00:00:00",
          "2012-08-03T00:00:00",
          "2012-08-06T00:00:00",
          "2012-08-07T00:00:00",
          "2012-08-08T00:00:00",
          "2012-08-09T00:00:00",
          "2012-08-10T00:00:00",
          "2012-08-13T00:00:00",
          "2012-08-14T00:00:00",
          "2012-08-15T00:00:00",
          "2012-08-16T00:00:00",
          "2012-08-17T00:00:00",
          "2012-08-20T00:00:00",
          "2012-08-21T00:00:00",
          "2012-08-22T00:00:00",
          "2012-08-23T00:00:00",
          "2012-08-24T00:00:00",
          "2012-08-27T00:00:00",
          "2012-08-28T00:00:00",
          "2012-08-29T00:00:00",
          "2012-08-30T00:00:00",
          "2012-08-31T00:00:00",
          "2012-09-04T00:00:00",
          "2012-09-05T00:00:00",
          "2012-09-06T00:00:00",
          "2012-09-07T00:00:00",
          "2012-09-10T00:00:00",
          "2012-09-11T00:00:00",
          "2012-09-12T00:00:00",
          "2012-09-13T00:00:00",
          "2012-09-14T00:00:00",
          "2012-09-17T00:00:00",
          "2012-09-18T00:00:00",
          "2012-09-19T00:00:00",
          "2012-09-20T00:00:00",
          "2012-09-21T00:00:00",
          "2012-09-24T00:00:00",
          "2012-09-25T00:00:00",
          "2012-09-26T00:00:00",
          "2012-09-27T00:00:00",
          "2012-09-28T00:00:00",
          "2012-10-01T00:00:00",
          "2012-10-02T00:00:00",
          "2012-10-03T00:00:00",
          "2012-10-04T00:00:00",
          "2012-10-05T00:00:00",
          "2012-10-08T00:00:00",
          "2012-10-09T00:00:00",
          "2012-10-10T00:00:00",
          "2012-10-11T00:00:00",
          "2012-10-12T00:00:00",
          "2012-10-15T00:00:00",
          "2012-10-16T00:00:00",
          "2012-10-17T00:00:00",
          "2012-10-18T00:00:00",
          "2012-10-19T00:00:00",
          "2012-10-22T00:00:00",
          "2012-10-23T00:00:00",
          "2012-10-24T00:00:00",
          "2012-10-25T00:00:00",
          "2012-10-26T00:00:00",
          "2012-10-31T00:00:00",
          "2012-11-01T00:00:00",
          "2012-11-02T00:00:00",
          "2012-11-05T00:00:00",
          "2012-11-06T00:00:00",
          "2012-11-07T00:00:00",
          "2012-11-08T00:00:00",
          "2012-11-09T00:00:00",
          "2012-11-12T00:00:00",
          "2012-11-13T00:00:00",
          "2012-11-14T00:00:00",
          "2012-11-15T00:00:00",
          "2012-11-16T00:00:00",
          "2012-11-19T00:00:00",
          "2012-11-20T00:00:00",
          "2012-11-21T00:00:00",
          "2012-11-23T00:00:00",
          "2012-11-26T00:00:00",
          "2012-11-27T00:00:00",
          "2012-11-28T00:00:00",
          "2012-11-29T00:00:00",
          "2012-11-30T00:00:00",
          "2012-12-03T00:00:00",
          "2012-12-04T00:00:00",
          "2012-12-05T00:00:00",
          "2012-12-06T00:00:00",
          "2012-12-07T00:00:00",
          "2012-12-10T00:00:00",
          "2012-12-11T00:00:00",
          "2012-12-12T00:00:00",
          "2012-12-13T00:00:00",
          "2012-12-14T00:00:00",
          "2012-12-17T00:00:00",
          "2012-12-18T00:00:00",
          "2012-12-19T00:00:00",
          "2012-12-20T00:00:00",
          "2012-12-21T00:00:00",
          "2012-12-24T00:00:00",
          "2012-12-26T00:00:00",
          "2012-12-27T00:00:00",
          "2012-12-28T00:00:00",
          "2012-12-31T00:00:00",
          "2013-01-02T00:00:00",
          "2013-01-03T00:00:00",
          "2013-01-04T00:00:00",
          "2013-01-07T00:00:00",
          "2013-01-08T00:00:00",
          "2013-01-09T00:00:00",
          "2013-01-10T00:00:00",
          "2013-01-11T00:00:00",
          "2013-01-14T00:00:00",
          "2013-01-15T00:00:00",
          "2013-01-16T00:00:00",
          "2013-01-17T00:00:00",
          "2013-01-18T00:00:00",
          "2013-01-22T00:00:00",
          "2013-01-23T00:00:00",
          "2013-01-24T00:00:00",
          "2013-01-25T00:00:00",
          "2013-01-28T00:00:00",
          "2013-01-29T00:00:00",
          "2013-01-30T00:00:00",
          "2013-01-31T00:00:00",
          "2013-02-01T00:00:00",
          "2013-02-04T00:00:00",
          "2013-02-05T00:00:00",
          "2013-02-06T00:00:00",
          "2013-02-07T00:00:00",
          "2013-02-08T00:00:00",
          "2013-02-11T00:00:00",
          "2013-02-12T00:00:00",
          "2013-02-13T00:00:00",
          "2013-02-14T00:00:00",
          "2013-02-15T00:00:00",
          "2013-02-19T00:00:00",
          "2013-02-20T00:00:00",
          "2013-02-21T00:00:00",
          "2013-02-22T00:00:00",
          "2013-02-25T00:00:00",
          "2013-02-26T00:00:00",
          "2013-02-27T00:00:00",
          "2013-02-28T00:00:00",
          "2013-03-01T00:00:00",
          "2013-03-04T00:00:00",
          "2013-03-05T00:00:00",
          "2013-03-06T00:00:00",
          "2013-03-07T00:00:00",
          "2013-03-08T00:00:00",
          "2013-03-11T00:00:00",
          "2013-03-12T00:00:00",
          "2013-03-13T00:00:00",
          "2013-03-14T00:00:00",
          "2013-03-15T00:00:00",
          "2013-03-18T00:00:00",
          "2013-03-19T00:00:00",
          "2013-03-20T00:00:00",
          "2013-03-21T00:00:00",
          "2013-03-22T00:00:00",
          "2013-03-25T00:00:00",
          "2013-03-26T00:00:00",
          "2013-03-27T00:00:00",
          "2013-03-28T00:00:00",
          "2013-04-01T00:00:00",
          "2013-04-02T00:00:00",
          "2013-04-03T00:00:00",
          "2013-04-04T00:00:00",
          "2013-04-05T00:00:00",
          "2013-04-08T00:00:00",
          "2013-04-09T00:00:00",
          "2013-04-10T00:00:00",
          "2013-04-11T00:00:00",
          "2013-04-12T00:00:00",
          "2013-04-15T00:00:00",
          "2013-04-16T00:00:00",
          "2013-04-17T00:00:00",
          "2013-04-18T00:00:00",
          "2013-04-19T00:00:00",
          "2013-04-22T00:00:00",
          "2013-04-23T00:00:00",
          "2013-04-24T00:00:00",
          "2013-04-25T00:00:00",
          "2013-04-26T00:00:00",
          "2013-04-29T00:00:00",
          "2013-04-30T00:00:00",
          "2013-05-01T00:00:00",
          "2013-05-02T00:00:00",
          "2013-05-03T00:00:00",
          "2013-05-06T00:00:00",
          "2013-05-07T00:00:00",
          "2013-05-08T00:00:00",
          "2013-05-09T00:00:00",
          "2013-05-10T00:00:00",
          "2013-05-13T00:00:00",
          "2013-05-14T00:00:00",
          "2013-05-15T00:00:00",
          "2013-05-16T00:00:00",
          "2013-05-17T00:00:00",
          "2013-05-20T00:00:00",
          "2013-05-21T00:00:00",
          "2013-05-22T00:00:00",
          "2013-05-23T00:00:00",
          "2013-05-24T00:00:00",
          "2013-05-28T00:00:00",
          "2013-05-29T00:00:00",
          "2013-05-30T00:00:00",
          "2013-05-31T00:00:00",
          "2013-06-03T00:00:00",
          "2013-06-04T00:00:00",
          "2013-06-05T00:00:00",
          "2013-06-06T00:00:00",
          "2013-06-07T00:00:00",
          "2013-06-10T00:00:00",
          "2013-06-11T00:00:00",
          "2013-06-12T00:00:00",
          "2013-06-13T00:00:00",
          "2013-06-14T00:00:00",
          "2013-06-17T00:00:00",
          "2013-06-18T00:00:00",
          "2013-06-19T00:00:00",
          "2013-06-20T00:00:00",
          "2013-06-21T00:00:00",
          "2013-06-24T00:00:00",
          "2013-06-25T00:00:00",
          "2013-06-26T00:00:00",
          "2013-06-27T00:00:00",
          "2013-06-28T00:00:00",
          "2013-07-01T00:00:00",
          "2013-07-02T00:00:00",
          "2013-07-03T00:00:00",
          "2013-07-05T00:00:00",
          "2013-07-08T00:00:00",
          "2013-07-09T00:00:00",
          "2013-07-10T00:00:00",
          "2013-07-11T00:00:00",
          "2013-07-12T00:00:00",
          "2013-07-15T00:00:00",
          "2013-07-16T00:00:00",
          "2013-07-17T00:00:00",
          "2013-07-18T00:00:00",
          "2013-07-19T00:00:00",
          "2013-07-22T00:00:00",
          "2013-07-23T00:00:00",
          "2013-07-24T00:00:00",
          "2013-07-25T00:00:00",
          "2013-07-26T00:00:00",
          "2013-07-29T00:00:00",
          "2013-07-30T00:00:00",
          "2013-07-31T00:00:00",
          "2013-08-01T00:00:00",
          "2013-08-02T00:00:00",
          "2013-08-05T00:00:00",
          "2013-08-06T00:00:00",
          "2013-08-07T00:00:00",
          "2013-08-08T00:00:00",
          "2013-08-09T00:00:00",
          "2013-08-12T00:00:00",
          "2013-08-13T00:00:00",
          "2013-08-14T00:00:00",
          "2013-08-15T00:00:00",
          "2013-08-16T00:00:00",
          "2013-08-19T00:00:00",
          "2013-08-20T00:00:00",
          "2013-08-21T00:00:00",
          "2013-08-22T00:00:00",
          "2013-08-23T00:00:00",
          "2013-08-26T00:00:00",
          "2013-08-27T00:00:00",
          "2013-08-28T00:00:00",
          "2013-08-29T00:00:00",
          "2013-08-30T00:00:00",
          "2013-09-03T00:00:00",
          "2013-09-04T00:00:00",
          "2013-09-05T00:00:00",
          "2013-09-06T00:00:00",
          "2013-09-09T00:00:00",
          "2013-09-10T00:00:00",
          "2013-09-11T00:00:00",
          "2013-09-12T00:00:00",
          "2013-09-13T00:00:00",
          "2013-09-16T00:00:00",
          "2013-09-17T00:00:00",
          "2013-09-18T00:00:00",
          "2013-09-19T00:00:00",
          "2013-09-20T00:00:00",
          "2013-09-23T00:00:00",
          "2013-09-24T00:00:00",
          "2013-09-25T00:00:00",
          "2013-09-26T00:00:00",
          "2013-09-27T00:00:00",
          "2013-09-30T00:00:00",
          "2013-10-01T00:00:00",
          "2013-10-02T00:00:00",
          "2013-10-03T00:00:00",
          "2013-10-04T00:00:00",
          "2013-10-07T00:00:00",
          "2013-10-08T00:00:00",
          "2013-10-09T00:00:00",
          "2013-10-10T00:00:00",
          "2013-10-11T00:00:00",
          "2013-10-14T00:00:00",
          "2013-10-15T00:00:00",
          "2013-10-16T00:00:00",
          "2013-10-17T00:00:00",
          "2013-10-18T00:00:00",
          "2013-10-21T00:00:00",
          "2013-10-22T00:00:00",
          "2013-10-23T00:00:00",
          "2013-10-24T00:00:00",
          "2013-10-25T00:00:00",
          "2013-10-28T00:00:00",
          "2013-10-29T00:00:00",
          "2013-10-30T00:00:00",
          "2013-10-31T00:00:00",
          "2013-11-01T00:00:00",
          "2013-11-04T00:00:00",
          "2013-11-05T00:00:00",
          "2013-11-06T00:00:00",
          "2013-11-07T00:00:00",
          "2013-11-08T00:00:00",
          "2013-11-11T00:00:00",
          "2013-11-12T00:00:00",
          "2013-11-13T00:00:00",
          "2013-11-14T00:00:00",
          "2013-11-15T00:00:00",
          "2013-11-18T00:00:00",
          "2013-11-19T00:00:00",
          "2013-11-20T00:00:00",
          "2013-11-21T00:00:00",
          "2013-11-22T00:00:00",
          "2013-11-25T00:00:00",
          "2013-11-26T00:00:00",
          "2013-11-27T00:00:00",
          "2013-11-29T00:00:00",
          "2013-12-02T00:00:00",
          "2013-12-03T00:00:00",
          "2013-12-04T00:00:00",
          "2013-12-05T00:00:00",
          "2013-12-06T00:00:00",
          "2013-12-09T00:00:00",
          "2013-12-10T00:00:00",
          "2013-12-11T00:00:00",
          "2013-12-12T00:00:00",
          "2013-12-13T00:00:00",
          "2013-12-16T00:00:00",
          "2013-12-17T00:00:00",
          "2013-12-18T00:00:00",
          "2013-12-19T00:00:00",
          "2013-12-20T00:00:00",
          "2013-12-23T00:00:00",
          "2013-12-24T00:00:00",
          "2013-12-26T00:00:00",
          "2013-12-27T00:00:00",
          "2013-12-30T00:00:00",
          "2013-12-31T00:00:00",
          "2014-01-02T00:00:00",
          "2014-01-03T00:00:00",
          "2014-01-06T00:00:00",
          "2014-01-07T00:00:00",
          "2014-01-08T00:00:00",
          "2014-01-09T00:00:00",
          "2014-01-10T00:00:00",
          "2014-01-13T00:00:00",
          "2014-01-14T00:00:00",
          "2014-01-15T00:00:00",
          "2014-01-16T00:00:00",
          "2014-01-17T00:00:00",
          "2014-01-21T00:00:00",
          "2014-01-22T00:00:00",
          "2014-01-23T00:00:00",
          "2014-01-24T00:00:00",
          "2014-01-27T00:00:00",
          "2014-01-28T00:00:00",
          "2014-01-29T00:00:00",
          "2014-01-30T00:00:00",
          "2014-01-31T00:00:00",
          "2014-02-03T00:00:00",
          "2014-02-04T00:00:00",
          "2014-02-05T00:00:00",
          "2014-02-06T00:00:00",
          "2014-02-07T00:00:00",
          "2014-02-10T00:00:00",
          "2014-02-11T00:00:00",
          "2014-02-12T00:00:00",
          "2014-02-13T00:00:00",
          "2014-02-14T00:00:00",
          "2014-02-18T00:00:00",
          "2014-02-19T00:00:00",
          "2014-02-20T00:00:00",
          "2014-02-21T00:00:00",
          "2014-02-24T00:00:00",
          "2014-02-25T00:00:00",
          "2014-02-26T00:00:00",
          "2014-02-27T00:00:00",
          "2014-02-28T00:00:00",
          "2014-03-03T00:00:00",
          "2014-03-04T00:00:00",
          "2014-03-05T00:00:00",
          "2014-03-06T00:00:00",
          "2014-03-07T00:00:00",
          "2014-03-10T00:00:00",
          "2014-03-11T00:00:00",
          "2014-03-12T00:00:00",
          "2014-03-13T00:00:00",
          "2014-03-14T00:00:00",
          "2014-03-17T00:00:00",
          "2014-03-18T00:00:00",
          "2014-03-19T00:00:00",
          "2014-03-20T00:00:00",
          "2014-03-21T00:00:00",
          "2014-03-24T00:00:00",
          "2014-03-25T00:00:00",
          "2014-03-26T00:00:00",
          "2014-03-27T00:00:00",
          "2014-03-28T00:00:00",
          "2014-03-31T00:00:00",
          "2014-04-01T00:00:00",
          "2014-04-02T00:00:00",
          "2014-04-03T00:00:00",
          "2014-04-04T00:00:00",
          "2014-04-07T00:00:00",
          "2014-04-08T00:00:00",
          "2014-04-09T00:00:00",
          "2014-04-10T00:00:00",
          "2014-04-11T00:00:00",
          "2014-04-14T00:00:00",
          "2014-04-15T00:00:00",
          "2014-04-16T00:00:00",
          "2014-04-17T00:00:00",
          "2014-04-21T00:00:00",
          "2014-04-22T00:00:00",
          "2014-04-23T00:00:00",
          "2014-04-24T00:00:00",
          "2014-04-25T00:00:00",
          "2014-04-28T00:00:00",
          "2014-04-29T00:00:00",
          "2014-04-30T00:00:00",
          "2014-05-01T00:00:00",
          "2014-05-02T00:00:00",
          "2014-05-05T00:00:00",
          "2014-05-06T00:00:00",
          "2014-05-07T00:00:00",
          "2014-05-08T00:00:00",
          "2014-05-09T00:00:00",
          "2014-05-12T00:00:00",
          "2014-05-13T00:00:00",
          "2014-05-14T00:00:00",
          "2014-05-15T00:00:00",
          "2014-05-16T00:00:00",
          "2014-05-19T00:00:00",
          "2014-05-20T00:00:00",
          "2014-05-21T00:00:00",
          "2014-05-22T00:00:00",
          "2014-05-23T00:00:00",
          "2014-05-27T00:00:00",
          "2014-05-28T00:00:00",
          "2014-05-29T00:00:00",
          "2014-05-30T00:00:00",
          "2014-06-02T00:00:00",
          "2014-06-03T00:00:00",
          "2014-06-04T00:00:00",
          "2014-06-05T00:00:00",
          "2014-06-06T00:00:00",
          "2014-06-09T00:00:00",
          "2014-06-10T00:00:00",
          "2014-06-11T00:00:00",
          "2014-06-12T00:00:00",
          "2014-06-13T00:00:00",
          "2014-06-16T00:00:00",
          "2014-06-17T00:00:00",
          "2014-06-18T00:00:00",
          "2014-06-19T00:00:00",
          "2014-06-20T00:00:00",
          "2014-06-23T00:00:00",
          "2014-06-24T00:00:00",
          "2014-06-25T00:00:00",
          "2014-06-26T00:00:00",
          "2014-06-27T00:00:00",
          "2014-06-30T00:00:00",
          "2014-07-01T00:00:00",
          "2014-07-02T00:00:00",
          "2014-07-03T00:00:00",
          "2014-07-07T00:00:00",
          "2014-07-08T00:00:00",
          "2014-07-09T00:00:00",
          "2014-07-10T00:00:00",
          "2014-07-11T00:00:00",
          "2014-07-14T00:00:00",
          "2014-07-15T00:00:00",
          "2014-07-16T00:00:00",
          "2014-07-17T00:00:00",
          "2014-07-18T00:00:00",
          "2014-07-21T00:00:00",
          "2014-07-22T00:00:00",
          "2014-07-23T00:00:00",
          "2014-07-24T00:00:00",
          "2014-07-25T00:00:00",
          "2014-07-28T00:00:00",
          "2014-07-29T00:00:00",
          "2014-07-30T00:00:00",
          "2014-07-31T00:00:00",
          "2014-08-01T00:00:00",
          "2014-08-04T00:00:00",
          "2014-08-05T00:00:00",
          "2014-08-06T00:00:00",
          "2014-08-07T00:00:00",
          "2014-08-08T00:00:00",
          "2014-08-11T00:00:00",
          "2014-08-12T00:00:00",
          "2014-08-13T00:00:00",
          "2014-08-14T00:00:00",
          "2014-08-15T00:00:00",
          "2014-08-18T00:00:00",
          "2014-08-19T00:00:00",
          "2014-08-20T00:00:00",
          "2014-08-21T00:00:00",
          "2014-08-22T00:00:00",
          "2014-08-25T00:00:00",
          "2014-08-26T00:00:00",
          "2014-08-27T00:00:00",
          "2014-08-28T00:00:00",
          "2014-08-29T00:00:00",
          "2014-09-02T00:00:00",
          "2014-09-03T00:00:00",
          "2014-09-04T00:00:00",
          "2014-09-05T00:00:00",
          "2014-09-08T00:00:00",
          "2014-09-09T00:00:00",
          "2014-09-10T00:00:00",
          "2014-09-11T00:00:00",
          "2014-09-12T00:00:00",
          "2014-09-15T00:00:00",
          "2014-09-16T00:00:00",
          "2014-09-17T00:00:00",
          "2014-09-18T00:00:00",
          "2014-09-19T00:00:00",
          "2014-09-22T00:00:00",
          "2014-09-23T00:00:00",
          "2014-09-24T00:00:00",
          "2014-09-25T00:00:00",
          "2014-09-26T00:00:00",
          "2014-09-29T00:00:00",
          "2014-09-30T00:00:00",
          "2014-10-01T00:00:00",
          "2014-10-02T00:00:00",
          "2014-10-03T00:00:00",
          "2014-10-06T00:00:00",
          "2014-10-07T00:00:00",
          "2014-10-08T00:00:00",
          "2014-10-09T00:00:00",
          "2014-10-10T00:00:00",
          "2014-10-13T00:00:00",
          "2014-10-14T00:00:00",
          "2014-10-15T00:00:00",
          "2014-10-16T00:00:00",
          "2014-10-17T00:00:00",
          "2014-10-20T00:00:00",
          "2014-10-21T00:00:00",
          "2014-10-22T00:00:00",
          "2014-10-23T00:00:00",
          "2014-10-24T00:00:00",
          "2014-10-27T00:00:00",
          "2014-10-28T00:00:00",
          "2014-10-29T00:00:00",
          "2014-10-30T00:00:00",
          "2014-10-31T00:00:00",
          "2014-11-03T00:00:00",
          "2014-11-04T00:00:00",
          "2014-11-05T00:00:00",
          "2014-11-06T00:00:00",
          "2014-11-07T00:00:00",
          "2014-11-10T00:00:00",
          "2014-11-11T00:00:00",
          "2014-11-12T00:00:00",
          "2014-11-13T00:00:00",
          "2014-11-14T00:00:00",
          "2014-11-17T00:00:00",
          "2014-11-18T00:00:00",
          "2014-11-19T00:00:00",
          "2014-11-20T00:00:00",
          "2014-11-21T00:00:00",
          "2014-11-24T00:00:00",
          "2014-11-25T00:00:00",
          "2014-11-26T00:00:00",
          "2014-11-28T00:00:00",
          "2014-12-01T00:00:00",
          "2014-12-02T00:00:00",
          "2014-12-03T00:00:00",
          "2014-12-04T00:00:00",
          "2014-12-05T00:00:00",
          "2014-12-08T00:00:00",
          "2014-12-09T00:00:00",
          "2014-12-10T00:00:00",
          "2014-12-11T00:00:00",
          "2014-12-12T00:00:00",
          "2014-12-15T00:00:00",
          "2014-12-16T00:00:00",
          "2014-12-17T00:00:00",
          "2014-12-18T00:00:00",
          "2014-12-19T00:00:00",
          "2014-12-22T00:00:00",
          "2014-12-23T00:00:00",
          "2014-12-24T00:00:00",
          "2014-12-26T00:00:00",
          "2014-12-29T00:00:00",
          "2014-12-30T00:00:00",
          "2014-12-31T00:00:00",
          "2015-01-02T00:00:00",
          "2015-01-05T00:00:00",
          "2015-01-06T00:00:00",
          "2015-01-07T00:00:00",
          "2015-01-08T00:00:00",
          "2015-01-09T00:00:00",
          "2015-01-12T00:00:00",
          "2015-01-13T00:00:00",
          "2015-01-14T00:00:00",
          "2015-01-15T00:00:00",
          "2015-01-16T00:00:00",
          "2015-01-20T00:00:00",
          "2015-01-21T00:00:00",
          "2015-01-22T00:00:00",
          "2015-01-23T00:00:00",
          "2015-01-26T00:00:00",
          "2015-01-27T00:00:00",
          "2015-01-28T00:00:00",
          "2015-01-29T00:00:00",
          "2015-01-30T00:00:00",
          "2015-02-02T00:00:00",
          "2015-02-03T00:00:00",
          "2015-02-04T00:00:00",
          "2015-02-05T00:00:00",
          "2015-02-06T00:00:00",
          "2015-02-09T00:00:00",
          "2015-02-10T00:00:00",
          "2015-02-11T00:00:00",
          "2015-02-12T00:00:00",
          "2015-02-13T00:00:00",
          "2015-02-17T00:00:00",
          "2015-02-18T00:00:00",
          "2015-02-19T00:00:00",
          "2015-02-20T00:00:00",
          "2015-02-23T00:00:00",
          "2015-02-24T00:00:00",
          "2015-02-25T00:00:00",
          "2015-02-26T00:00:00",
          "2015-02-27T00:00:00",
          "2015-03-02T00:00:00",
          "2015-03-03T00:00:00",
          "2015-03-04T00:00:00",
          "2015-03-05T00:00:00",
          "2015-03-06T00:00:00",
          "2015-03-09T00:00:00",
          "2015-03-10T00:00:00",
          "2015-03-11T00:00:00",
          "2015-03-12T00:00:00",
          "2015-03-13T00:00:00",
          "2015-03-16T00:00:00",
          "2015-03-17T00:00:00",
          "2015-03-18T00:00:00",
          "2015-03-19T00:00:00",
          "2015-03-20T00:00:00",
          "2015-03-23T00:00:00",
          "2015-03-24T00:00:00",
          "2015-03-25T00:00:00",
          "2015-03-26T00:00:00",
          "2015-03-27T00:00:00",
          "2015-03-30T00:00:00",
          "2015-03-31T00:00:00",
          "2015-04-01T00:00:00",
          "2015-04-02T00:00:00",
          "2015-04-06T00:00:00",
          "2015-04-07T00:00:00",
          "2015-04-08T00:00:00",
          "2015-04-09T00:00:00",
          "2015-04-10T00:00:00",
          "2015-04-13T00:00:00",
          "2015-04-14T00:00:00",
          "2015-04-15T00:00:00",
          "2015-04-16T00:00:00",
          "2015-04-17T00:00:00",
          "2015-04-20T00:00:00",
          "2015-04-21T00:00:00",
          "2015-04-22T00:00:00",
          "2015-04-23T00:00:00",
          "2015-04-24T00:00:00",
          "2015-04-27T00:00:00",
          "2015-04-28T00:00:00",
          "2015-04-29T00:00:00",
          "2015-04-30T00:00:00",
          "2015-05-01T00:00:00",
          "2015-05-04T00:00:00",
          "2015-05-05T00:00:00",
          "2015-05-06T00:00:00",
          "2015-05-07T00:00:00",
          "2015-05-08T00:00:00",
          "2015-05-11T00:00:00",
          "2015-05-12T00:00:00",
          "2015-05-13T00:00:00",
          "2015-05-14T00:00:00",
          "2015-05-15T00:00:00",
          "2015-05-18T00:00:00",
          "2015-05-19T00:00:00",
          "2015-05-20T00:00:00",
          "2015-05-21T00:00:00",
          "2015-05-22T00:00:00",
          "2015-05-26T00:00:00",
          "2015-05-27T00:00:00",
          "2015-05-28T00:00:00",
          "2015-05-29T00:00:00",
          "2015-06-01T00:00:00",
          "2015-06-02T00:00:00",
          "2015-06-03T00:00:00",
          "2015-06-04T00:00:00",
          "2015-06-05T00:00:00",
          "2015-06-08T00:00:00",
          "2015-06-09T00:00:00",
          "2015-06-10T00:00:00",
          "2015-06-11T00:00:00",
          "2015-06-12T00:00:00",
          "2015-06-15T00:00:00",
          "2015-06-16T00:00:00",
          "2015-06-17T00:00:00",
          "2015-06-18T00:00:00",
          "2015-06-19T00:00:00",
          "2015-06-22T00:00:00",
          "2015-06-23T00:00:00",
          "2015-06-24T00:00:00",
          "2015-06-25T00:00:00",
          "2015-06-26T00:00:00",
          "2015-06-29T00:00:00",
          "2015-06-30T00:00:00",
          "2015-07-01T00:00:00",
          "2015-07-02T00:00:00",
          "2015-07-06T00:00:00",
          "2015-07-07T00:00:00",
          "2015-07-08T00:00:00",
          "2015-07-09T00:00:00",
          "2015-07-10T00:00:00",
          "2015-07-13T00:00:00",
          "2015-07-14T00:00:00",
          "2015-07-15T00:00:00",
          "2015-07-16T00:00:00",
          "2015-07-17T00:00:00",
          "2015-07-20T00:00:00",
          "2015-07-21T00:00:00",
          "2015-07-22T00:00:00",
          "2015-07-23T00:00:00",
          "2015-07-24T00:00:00",
          "2015-07-27T00:00:00",
          "2015-07-28T00:00:00",
          "2015-07-29T00:00:00",
          "2015-07-30T00:00:00",
          "2015-07-31T00:00:00",
          "2015-08-03T00:00:00",
          "2015-08-04T00:00:00",
          "2015-08-05T00:00:00",
          "2015-08-06T00:00:00",
          "2015-08-07T00:00:00",
          "2015-08-10T00:00:00",
          "2015-08-11T00:00:00",
          "2015-08-12T00:00:00",
          "2015-08-13T00:00:00",
          "2015-08-14T00:00:00",
          "2015-08-17T00:00:00",
          "2015-08-18T00:00:00",
          "2015-08-19T00:00:00",
          "2015-08-20T00:00:00",
          "2015-08-21T00:00:00",
          "2015-08-24T00:00:00",
          "2015-08-25T00:00:00",
          "2015-08-26T00:00:00",
          "2015-08-27T00:00:00",
          "2015-08-28T00:00:00",
          "2015-08-31T00:00:00",
          "2015-09-01T00:00:00",
          "2015-09-02T00:00:00",
          "2015-09-03T00:00:00",
          "2015-09-04T00:00:00",
          "2015-09-08T00:00:00",
          "2015-09-09T00:00:00",
          "2015-09-10T00:00:00",
          "2015-09-11T00:00:00",
          "2015-09-14T00:00:00",
          "2015-09-15T00:00:00",
          "2015-09-16T00:00:00",
          "2015-09-17T00:00:00",
          "2015-09-18T00:00:00",
          "2015-09-21T00:00:00",
          "2015-09-22T00:00:00",
          "2015-09-23T00:00:00",
          "2015-09-24T00:00:00",
          "2015-09-25T00:00:00",
          "2015-09-28T00:00:00",
          "2015-09-29T00:00:00",
          "2015-09-30T00:00:00",
          "2015-10-01T00:00:00",
          "2015-10-02T00:00:00",
          "2015-10-05T00:00:00",
          "2015-10-06T00:00:00",
          "2015-10-07T00:00:00",
          "2015-10-08T00:00:00",
          "2015-10-09T00:00:00",
          "2015-10-12T00:00:00",
          "2015-10-13T00:00:00",
          "2015-10-14T00:00:00",
          "2015-10-15T00:00:00",
          "2015-10-16T00:00:00",
          "2015-10-19T00:00:00",
          "2015-10-20T00:00:00",
          "2015-10-21T00:00:00",
          "2015-10-22T00:00:00",
          "2015-10-23T00:00:00",
          "2015-10-26T00:00:00",
          "2015-10-27T00:00:00",
          "2015-10-28T00:00:00",
          "2015-10-29T00:00:00",
          "2015-10-30T00:00:00",
          "2015-11-02T00:00:00",
          "2015-11-03T00:00:00",
          "2015-11-04T00:00:00",
          "2015-11-05T00:00:00",
          "2015-11-06T00:00:00",
          "2015-11-09T00:00:00",
          "2015-11-10T00:00:00",
          "2015-11-11T00:00:00",
          "2015-11-12T00:00:00",
          "2015-11-13T00:00:00",
          "2015-11-16T00:00:00",
          "2015-11-17T00:00:00",
          "2015-11-18T00:00:00",
          "2015-11-19T00:00:00",
          "2015-11-20T00:00:00",
          "2015-11-23T00:00:00",
          "2015-11-24T00:00:00",
          "2015-11-25T00:00:00",
          "2015-11-27T00:00:00",
          "2015-11-30T00:00:00",
          "2015-12-01T00:00:00",
          "2015-12-02T00:00:00",
          "2015-12-03T00:00:00",
          "2015-12-04T00:00:00",
          "2015-12-07T00:00:00",
          "2015-12-08T00:00:00",
          "2015-12-09T00:00:00",
          "2015-12-10T00:00:00",
          "2015-12-11T00:00:00",
          "2015-12-14T00:00:00",
          "2015-12-15T00:00:00",
          "2015-12-16T00:00:00",
          "2015-12-17T00:00:00",
          "2015-12-18T00:00:00",
          "2015-12-21T00:00:00",
          "2015-12-22T00:00:00",
          "2015-12-23T00:00:00",
          "2015-12-24T00:00:00",
          "2015-12-28T00:00:00",
          "2015-12-29T00:00:00",
          "2015-12-30T00:00:00",
          "2015-12-31T00:00:00",
          "2016-01-04T00:00:00",
          "2016-01-05T00:00:00",
          "2016-01-06T00:00:00",
          "2016-01-07T00:00:00",
          "2016-01-08T00:00:00",
          "2016-01-11T00:00:00",
          "2016-01-12T00:00:00",
          "2016-01-13T00:00:00",
          "2016-01-14T00:00:00",
          "2016-01-15T00:00:00",
          "2016-01-19T00:00:00",
          "2016-01-20T00:00:00",
          "2016-01-21T00:00:00",
          "2016-01-22T00:00:00",
          "2016-01-25T00:00:00",
          "2016-01-26T00:00:00",
          "2016-01-27T00:00:00",
          "2016-01-28T00:00:00",
          "2016-01-29T00:00:00",
          "2016-02-01T00:00:00",
          "2016-02-02T00:00:00",
          "2016-02-03T00:00:00",
          "2016-02-04T00:00:00",
          "2016-02-05T00:00:00",
          "2016-02-08T00:00:00",
          "2016-02-09T00:00:00",
          "2016-02-10T00:00:00",
          "2016-02-11T00:00:00",
          "2016-02-12T00:00:00",
          "2016-02-16T00:00:00",
          "2016-02-17T00:00:00",
          "2016-02-18T00:00:00",
          "2016-02-19T00:00:00",
          "2016-02-22T00:00:00",
          "2016-02-23T00:00:00",
          "2016-02-24T00:00:00",
          "2016-02-25T00:00:00",
          "2016-02-26T00:00:00",
          "2016-02-29T00:00:00",
          "2016-03-01T00:00:00",
          "2016-03-02T00:00:00",
          "2016-03-03T00:00:00",
          "2016-03-04T00:00:00",
          "2016-03-07T00:00:00",
          "2016-03-08T00:00:00",
          "2016-03-09T00:00:00",
          "2016-03-10T00:00:00",
          "2016-03-11T00:00:00",
          "2016-03-14T00:00:00",
          "2016-03-15T00:00:00",
          "2016-03-16T00:00:00",
          "2016-03-17T00:00:00",
          "2016-03-18T00:00:00",
          "2016-03-21T00:00:00",
          "2016-03-22T00:00:00",
          "2016-03-23T00:00:00",
          "2016-03-24T00:00:00",
          "2016-03-28T00:00:00",
          "2016-03-29T00:00:00",
          "2016-03-30T00:00:00",
          "2016-03-31T00:00:00",
          "2016-04-01T00:00:00",
          "2016-04-04T00:00:00",
          "2016-04-05T00:00:00",
          "2016-04-06T00:00:00",
          "2016-04-07T00:00:00",
          "2016-04-08T00:00:00",
          "2016-04-11T00:00:00",
          "2016-04-12T00:00:00",
          "2016-04-13T00:00:00",
          "2016-04-14T00:00:00",
          "2016-04-15T00:00:00",
          "2016-04-18T00:00:00",
          "2016-04-19T00:00:00",
          "2016-04-20T00:00:00",
          "2016-04-21T00:00:00",
          "2016-04-22T00:00:00",
          "2016-04-25T00:00:00",
          "2016-04-26T00:00:00",
          "2016-04-27T00:00:00",
          "2016-04-28T00:00:00",
          "2016-04-29T00:00:00",
          "2016-05-02T00:00:00",
          "2016-05-03T00:00:00",
          "2016-05-04T00:00:00",
          "2016-05-05T00:00:00",
          "2016-05-06T00:00:00",
          "2016-05-09T00:00:00",
          "2016-05-10T00:00:00",
          "2016-05-11T00:00:00",
          "2016-05-12T00:00:00",
          "2016-05-13T00:00:00",
          "2016-05-16T00:00:00",
          "2016-05-17T00:00:00",
          "2016-05-18T00:00:00",
          "2016-05-19T00:00:00",
          "2016-05-20T00:00:00",
          "2016-05-23T00:00:00",
          "2016-05-24T00:00:00",
          "2016-05-25T00:00:00",
          "2016-05-26T00:00:00",
          "2016-05-27T00:00:00",
          "2016-05-31T00:00:00",
          "2016-06-01T00:00:00",
          "2016-06-02T00:00:00",
          "2016-06-03T00:00:00",
          "2016-06-06T00:00:00",
          "2016-06-07T00:00:00",
          "2016-06-08T00:00:00",
          "2016-06-09T00:00:00",
          "2016-06-10T00:00:00",
          "2016-06-13T00:00:00",
          "2016-06-14T00:00:00",
          "2016-06-15T00:00:00",
          "2016-06-16T00:00:00",
          "2016-06-17T00:00:00",
          "2016-06-20T00:00:00",
          "2016-06-21T00:00:00",
          "2016-06-22T00:00:00",
          "2016-06-23T00:00:00",
          "2016-06-24T00:00:00",
          "2016-06-27T00:00:00",
          "2016-06-28T00:00:00",
          "2016-06-29T00:00:00",
          "2016-06-30T00:00:00",
          "2016-07-01T00:00:00",
          "2016-07-05T00:00:00",
          "2016-07-06T00:00:00",
          "2016-07-07T00:00:00",
          "2016-07-08T00:00:00",
          "2016-07-11T00:00:00",
          "2016-07-12T00:00:00",
          "2016-07-13T00:00:00",
          "2016-07-14T00:00:00",
          "2016-07-15T00:00:00",
          "2016-07-18T00:00:00",
          "2016-07-19T00:00:00",
          "2016-07-20T00:00:00",
          "2016-07-21T00:00:00",
          "2016-07-22T00:00:00",
          "2016-07-25T00:00:00",
          "2016-07-26T00:00:00",
          "2016-07-27T00:00:00",
          "2016-07-28T00:00:00",
          "2016-07-29T00:00:00",
          "2016-08-01T00:00:00",
          "2016-08-02T00:00:00",
          "2016-08-03T00:00:00",
          "2016-08-04T00:00:00",
          "2016-08-05T00:00:00",
          "2016-08-08T00:00:00",
          "2016-08-09T00:00:00",
          "2016-08-10T00:00:00",
          "2016-08-11T00:00:00",
          "2016-08-12T00:00:00",
          "2016-08-15T00:00:00",
          "2016-08-16T00:00:00",
          "2016-08-17T00:00:00",
          "2016-08-18T00:00:00",
          "2016-08-19T00:00:00",
          "2016-08-22T00:00:00",
          "2016-08-23T00:00:00",
          "2016-08-24T00:00:00",
          "2016-08-25T00:00:00",
          "2016-08-26T00:00:00",
          "2016-08-29T00:00:00",
          "2016-08-30T00:00:00",
          "2016-08-31T00:00:00",
          "2016-09-01T00:00:00",
          "2016-09-02T00:00:00",
          "2016-09-06T00:00:00",
          "2016-09-07T00:00:00",
          "2016-09-08T00:00:00",
          "2016-09-09T00:00:00",
          "2016-09-12T00:00:00",
          "2016-09-13T00:00:00",
          "2016-09-14T00:00:00",
          "2016-09-15T00:00:00",
          "2016-09-16T00:00:00",
          "2016-09-19T00:00:00",
          "2016-09-20T00:00:00",
          "2016-09-21T00:00:00",
          "2016-09-22T00:00:00",
          "2016-09-23T00:00:00",
          "2016-09-26T00:00:00",
          "2016-09-27T00:00:00",
          "2016-09-28T00:00:00",
          "2016-09-29T00:00:00",
          "2016-09-30T00:00:00",
          "2016-10-03T00:00:00",
          "2016-10-04T00:00:00",
          "2016-10-05T00:00:00",
          "2016-10-06T00:00:00",
          "2016-10-07T00:00:00",
          "2016-10-10T00:00:00",
          "2016-10-11T00:00:00",
          "2016-10-12T00:00:00",
          "2016-10-13T00:00:00",
          "2016-10-14T00:00:00",
          "2016-10-17T00:00:00",
          "2016-10-18T00:00:00",
          "2016-10-19T00:00:00",
          "2016-10-20T00:00:00",
          "2016-10-21T00:00:00",
          "2016-10-24T00:00:00",
          "2016-10-25T00:00:00",
          "2016-10-26T00:00:00",
          "2016-10-27T00:00:00",
          "2016-10-28T00:00:00",
          "2016-10-31T00:00:00",
          "2016-11-01T00:00:00",
          "2016-11-02T00:00:00",
          "2016-11-03T00:00:00",
          "2016-11-04T00:00:00",
          "2016-11-07T00:00:00",
          "2016-11-08T00:00:00",
          "2016-11-09T00:00:00",
          "2016-11-10T00:00:00",
          "2016-11-11T00:00:00",
          "2016-11-14T00:00:00",
          "2016-11-15T00:00:00",
          "2016-11-16T00:00:00",
          "2016-11-17T00:00:00",
          "2016-11-18T00:00:00",
          "2016-11-21T00:00:00",
          "2016-11-22T00:00:00",
          "2016-11-23T00:00:00",
          "2016-11-25T00:00:00",
          "2016-11-28T00:00:00",
          "2016-11-29T00:00:00",
          "2016-11-30T00:00:00",
          "2016-12-01T00:00:00",
          "2016-12-02T00:00:00",
          "2016-12-05T00:00:00",
          "2016-12-06T00:00:00",
          "2016-12-07T00:00:00",
          "2016-12-08T00:00:00",
          "2016-12-09T00:00:00",
          "2016-12-12T00:00:00",
          "2016-12-13T00:00:00",
          "2016-12-14T00:00:00",
          "2016-12-15T00:00:00",
          "2016-12-16T00:00:00",
          "2016-12-19T00:00:00",
          "2016-12-20T00:00:00",
          "2016-12-21T00:00:00",
          "2016-12-22T00:00:00",
          "2016-12-23T00:00:00",
          "2016-12-27T00:00:00",
          "2016-12-28T00:00:00",
          "2016-12-29T00:00:00",
          "2016-12-30T00:00:00",
          "2017-01-03T00:00:00",
          "2017-01-04T00:00:00",
          "2017-01-05T00:00:00",
          "2017-01-06T00:00:00",
          "2017-01-09T00:00:00",
          "2017-01-10T00:00:00",
          "2017-01-11T00:00:00",
          "2017-01-12T00:00:00",
          "2017-01-13T00:00:00",
          "2017-01-17T00:00:00",
          "2017-01-18T00:00:00",
          "2017-01-19T00:00:00",
          "2017-01-20T00:00:00",
          "2017-01-23T00:00:00",
          "2017-01-24T00:00:00",
          "2017-01-25T00:00:00",
          "2017-01-26T00:00:00",
          "2017-01-27T00:00:00",
          "2017-01-30T00:00:00",
          "2017-01-31T00:00:00",
          "2017-02-01T00:00:00",
          "2017-02-02T00:00:00",
          "2017-02-03T00:00:00",
          "2017-02-06T00:00:00",
          "2017-02-07T00:00:00",
          "2017-02-08T00:00:00",
          "2017-02-09T00:00:00",
          "2017-02-10T00:00:00",
          "2017-02-13T00:00:00",
          "2017-02-14T00:00:00",
          "2017-02-15T00:00:00",
          "2017-02-16T00:00:00",
          "2017-02-17T00:00:00",
          "2017-02-21T00:00:00",
          "2017-02-22T00:00:00",
          "2017-02-23T00:00:00",
          "2017-02-24T00:00:00",
          "2017-02-27T00:00:00",
          "2017-02-28T00:00:00",
          "2017-03-01T00:00:00",
          "2017-03-02T00:00:00",
          "2017-03-03T00:00:00",
          "2017-03-06T00:00:00",
          "2017-03-07T00:00:00",
          "2017-03-08T00:00:00",
          "2017-03-09T00:00:00",
          "2017-03-10T00:00:00",
          "2017-03-13T00:00:00",
          "2017-03-14T00:00:00",
          "2017-03-15T00:00:00",
          "2017-03-16T00:00:00",
          "2017-03-17T00:00:00",
          "2017-03-20T00:00:00",
          "2017-03-21T00:00:00",
          "2017-03-22T00:00:00",
          "2017-03-23T00:00:00",
          "2017-03-24T00:00:00",
          "2017-03-27T00:00:00",
          "2017-03-28T00:00:00",
          "2017-03-29T00:00:00",
          "2017-03-30T00:00:00",
          "2017-03-31T00:00:00",
          "2017-04-03T00:00:00",
          "2017-04-04T00:00:00",
          "2017-04-05T00:00:00",
          "2017-04-06T00:00:00",
          "2017-04-07T00:00:00",
          "2017-04-10T00:00:00",
          "2017-04-11T00:00:00",
          "2017-04-12T00:00:00",
          "2017-04-13T00:00:00",
          "2017-04-17T00:00:00",
          "2017-04-18T00:00:00",
          "2017-04-19T00:00:00",
          "2017-04-20T00:00:00",
          "2017-04-21T00:00:00",
          "2017-04-24T00:00:00",
          "2017-04-25T00:00:00",
          "2017-04-26T00:00:00",
          "2017-04-27T00:00:00",
          "2017-04-28T00:00:00",
          "2017-05-01T00:00:00",
          "2017-05-02T00:00:00",
          "2017-05-03T00:00:00",
          "2017-05-04T00:00:00",
          "2017-05-05T00:00:00",
          "2017-05-08T00:00:00",
          "2017-05-09T00:00:00",
          "2017-05-10T00:00:00",
          "2017-05-11T00:00:00",
          "2017-05-12T00:00:00",
          "2017-05-15T00:00:00",
          "2017-05-16T00:00:00",
          "2017-05-17T00:00:00",
          "2017-05-18T00:00:00",
          "2017-05-19T00:00:00",
          "2017-05-22T00:00:00",
          "2017-05-23T00:00:00",
          "2017-05-24T00:00:00",
          "2017-05-25T00:00:00",
          "2017-05-26T00:00:00",
          "2017-05-30T00:00:00",
          "2017-05-31T00:00:00",
          "2017-06-01T00:00:00",
          "2017-06-02T00:00:00",
          "2017-06-05T00:00:00",
          "2017-06-06T00:00:00",
          "2017-06-07T00:00:00",
          "2017-06-08T00:00:00",
          "2017-06-09T00:00:00",
          "2017-06-12T00:00:00",
          "2017-06-13T00:00:00",
          "2017-06-14T00:00:00",
          "2017-06-15T00:00:00",
          "2017-06-16T00:00:00",
          "2017-06-19T00:00:00",
          "2017-06-20T00:00:00",
          "2017-06-21T00:00:00",
          "2017-06-22T00:00:00",
          "2017-06-23T00:00:00",
          "2017-06-26T00:00:00",
          "2017-06-27T00:00:00",
          "2017-06-28T00:00:00",
          "2017-06-29T00:00:00",
          "2017-06-30T00:00:00",
          "2017-07-03T00:00:00",
          "2017-07-05T00:00:00",
          "2017-07-06T00:00:00",
          "2017-07-07T00:00:00",
          "2017-07-10T00:00:00",
          "2017-07-11T00:00:00",
          "2017-07-12T00:00:00",
          "2017-07-13T00:00:00",
          "2017-07-14T00:00:00",
          "2017-07-17T00:00:00",
          "2017-07-18T00:00:00",
          "2017-07-19T00:00:00",
          "2017-07-20T00:00:00",
          "2017-07-21T00:00:00",
          "2017-07-24T00:00:00",
          "2017-07-25T00:00:00",
          "2017-07-26T00:00:00",
          "2017-07-27T00:00:00",
          "2017-07-28T00:00:00",
          "2017-07-31T00:00:00",
          "2017-08-01T00:00:00",
          "2017-08-02T00:00:00",
          "2017-08-03T00:00:00",
          "2017-08-04T00:00:00",
          "2017-08-07T00:00:00",
          "2017-08-08T00:00:00",
          "2017-08-09T00:00:00",
          "2017-08-10T00:00:00",
          "2017-08-11T00:00:00",
          "2017-08-14T00:00:00",
          "2017-08-15T00:00:00",
          "2017-08-16T00:00:00",
          "2017-08-17T00:00:00",
          "2017-08-18T00:00:00",
          "2017-08-21T00:00:00",
          "2017-08-22T00:00:00",
          "2017-08-23T00:00:00",
          "2017-08-24T00:00:00",
          "2017-08-25T00:00:00",
          "2017-08-28T00:00:00",
          "2017-08-29T00:00:00",
          "2017-08-30T00:00:00",
          "2017-08-31T00:00:00",
          "2017-09-01T00:00:00",
          "2017-09-05T00:00:00",
          "2017-09-06T00:00:00",
          "2017-09-07T00:00:00",
          "2017-09-08T00:00:00",
          "2017-09-11T00:00:00",
          "2017-09-12T00:00:00",
          "2017-09-13T00:00:00",
          "2017-09-14T00:00:00",
          "2017-09-15T00:00:00",
          "2017-09-18T00:00:00",
          "2017-09-19T00:00:00",
          "2017-09-20T00:00:00",
          "2017-09-21T00:00:00",
          "2017-09-22T00:00:00",
          "2017-09-25T00:00:00",
          "2017-09-26T00:00:00",
          "2017-09-27T00:00:00",
          "2017-09-28T00:00:00",
          "2017-09-29T00:00:00",
          "2017-10-02T00:00:00",
          "2017-10-03T00:00:00",
          "2017-10-04T00:00:00",
          "2017-10-05T00:00:00",
          "2017-10-06T00:00:00",
          "2017-10-09T00:00:00",
          "2017-10-10T00:00:00",
          "2017-10-11T00:00:00",
          "2017-10-12T00:00:00",
          "2017-10-13T00:00:00",
          "2017-10-16T00:00:00",
          "2017-10-17T00:00:00",
          "2017-10-18T00:00:00",
          "2017-10-19T00:00:00",
          "2017-10-20T00:00:00",
          "2017-10-23T00:00:00",
          "2017-10-24T00:00:00",
          "2017-10-25T00:00:00",
          "2017-10-26T00:00:00",
          "2017-10-27T00:00:00",
          "2017-10-30T00:00:00",
          "2017-10-31T00:00:00",
          "2017-11-01T00:00:00",
          "2017-11-02T00:00:00",
          "2017-11-03T00:00:00",
          "2017-11-06T00:00:00",
          "2017-11-07T00:00:00",
          "2017-11-08T00:00:00",
          "2017-11-09T00:00:00",
          "2017-11-10T00:00:00",
          "2017-11-13T00:00:00",
          "2017-11-14T00:00:00",
          "2017-11-15T00:00:00",
          "2017-11-16T00:00:00",
          "2017-11-17T00:00:00",
          "2017-11-20T00:00:00",
          "2017-11-21T00:00:00",
          "2017-11-22T00:00:00",
          "2017-11-24T00:00:00",
          "2017-11-27T00:00:00",
          "2017-11-28T00:00:00",
          "2017-11-29T00:00:00",
          "2017-11-30T00:00:00",
          "2017-12-01T00:00:00",
          "2017-12-04T00:00:00",
          "2017-12-05T00:00:00",
          "2017-12-06T00:00:00",
          "2017-12-07T00:00:00",
          "2017-12-08T00:00:00",
          "2017-12-11T00:00:00",
          "2017-12-12T00:00:00",
          "2017-12-13T00:00:00",
          "2017-12-14T00:00:00",
          "2017-12-15T00:00:00",
          "2017-12-18T00:00:00",
          "2017-12-19T00:00:00",
          "2017-12-20T00:00:00",
          "2017-12-21T00:00:00",
          "2017-12-22T00:00:00",
          "2017-12-26T00:00:00",
          "2017-12-27T00:00:00",
          "2017-12-28T00:00:00",
          "2017-12-29T00:00:00",
          "2018-01-02T00:00:00",
          "2018-01-03T00:00:00",
          "2018-01-04T00:00:00",
          "2018-01-05T00:00:00",
          "2018-01-08T00:00:00",
          "2018-01-09T00:00:00",
          "2018-01-10T00:00:00",
          "2018-01-11T00:00:00",
          "2018-01-12T00:00:00",
          "2018-01-16T00:00:00",
          "2018-01-17T00:00:00",
          "2018-01-18T00:00:00",
          "2018-01-19T00:00:00",
          "2018-01-22T00:00:00",
          "2018-01-23T00:00:00",
          "2018-01-24T00:00:00",
          "2018-01-25T00:00:00",
          "2018-01-26T00:00:00",
          "2018-01-29T00:00:00",
          "2018-01-30T00:00:00",
          "2018-01-31T00:00:00",
          "2018-02-01T00:00:00",
          "2018-02-02T00:00:00",
          "2018-02-05T00:00:00",
          "2018-02-06T00:00:00",
          "2018-02-07T00:00:00",
          "2018-02-08T00:00:00",
          "2018-02-09T00:00:00",
          "2018-02-12T00:00:00",
          "2018-02-13T00:00:00",
          "2018-02-14T00:00:00",
          "2018-02-15T00:00:00",
          "2018-02-16T00:00:00",
          "2018-02-20T00:00:00",
          "2018-02-21T00:00:00",
          "2018-02-22T00:00:00",
          "2018-02-23T00:00:00",
          "2018-02-26T00:00:00",
          "2018-02-27T00:00:00",
          "2018-02-28T00:00:00",
          "2018-03-01T00:00:00",
          "2018-03-02T00:00:00",
          "2018-03-05T00:00:00",
          "2018-03-06T00:00:00",
          "2018-03-07T00:00:00",
          "2018-03-08T00:00:00",
          "2018-03-09T00:00:00",
          "2018-03-12T00:00:00",
          "2018-03-13T00:00:00",
          "2018-03-14T00:00:00",
          "2018-03-15T00:00:00",
          "2018-03-16T00:00:00",
          "2018-03-19T00:00:00",
          "2018-03-20T00:00:00",
          "2018-03-21T00:00:00",
          "2018-03-22T00:00:00",
          "2018-03-23T00:00:00",
          "2018-03-26T00:00:00",
          "2018-03-27T00:00:00",
          "2018-03-28T00:00:00",
          "2018-03-29T00:00:00",
          "2018-04-02T00:00:00",
          "2018-04-03T00:00:00",
          "2018-04-04T00:00:00",
          "2018-04-05T00:00:00",
          "2018-04-06T00:00:00",
          "2018-04-09T00:00:00",
          "2018-04-10T00:00:00",
          "2018-04-11T00:00:00",
          "2018-04-12T00:00:00",
          "2018-04-13T00:00:00",
          "2018-04-16T00:00:00",
          "2018-04-17T00:00:00",
          "2018-04-18T00:00:00",
          "2018-04-19T00:00:00",
          "2018-04-20T00:00:00",
          "2018-04-23T00:00:00",
          "2018-04-24T00:00:00",
          "2018-04-25T00:00:00",
          "2018-04-26T00:00:00",
          "2018-04-27T00:00:00",
          "2018-04-30T00:00:00",
          "2018-05-01T00:00:00",
          "2018-05-02T00:00:00",
          "2018-05-03T00:00:00",
          "2018-05-04T00:00:00",
          "2018-05-07T00:00:00",
          "2018-05-08T00:00:00",
          "2018-05-09T00:00:00",
          "2018-05-10T00:00:00",
          "2018-05-11T00:00:00",
          "2018-05-14T00:00:00",
          "2018-05-15T00:00:00",
          "2018-05-16T00:00:00",
          "2018-05-17T00:00:00",
          "2018-05-18T00:00:00",
          "2018-05-21T00:00:00",
          "2018-05-22T00:00:00",
          "2018-05-23T00:00:00",
          "2018-05-24T00:00:00",
          "2018-05-25T00:00:00",
          "2018-05-29T00:00:00",
          "2018-05-30T00:00:00",
          "2018-05-31T00:00:00",
          "2018-06-01T00:00:00",
          "2018-06-04T00:00:00",
          "2018-06-05T00:00:00",
          "2018-06-06T00:00:00",
          "2018-06-07T00:00:00",
          "2018-06-08T00:00:00",
          "2018-06-11T00:00:00",
          "2018-06-12T00:00:00",
          "2018-06-13T00:00:00",
          "2018-06-14T00:00:00",
          "2018-06-15T00:00:00",
          "2018-06-18T00:00:00",
          "2018-06-19T00:00:00",
          "2018-06-20T00:00:00",
          "2018-06-21T00:00:00",
          "2018-06-22T00:00:00",
          "2018-06-25T00:00:00",
          "2018-06-26T00:00:00",
          "2018-06-27T00:00:00",
          "2018-06-28T00:00:00",
          "2018-06-29T00:00:00",
          "2018-07-02T00:00:00",
          "2018-07-03T00:00:00",
          "2018-07-05T00:00:00",
          "2018-07-06T00:00:00",
          "2018-07-09T00:00:00",
          "2018-07-10T00:00:00",
          "2018-07-11T00:00:00",
          "2018-07-12T00:00:00",
          "2018-07-13T00:00:00",
          "2018-07-16T00:00:00",
          "2018-07-17T00:00:00",
          "2018-07-18T00:00:00",
          "2018-07-19T00:00:00",
          "2018-07-20T00:00:00",
          "2018-07-23T00:00:00",
          "2018-07-24T00:00:00",
          "2018-07-25T00:00:00",
          "2018-07-26T00:00:00",
          "2018-07-27T00:00:00",
          "2018-07-30T00:00:00",
          "2018-07-31T00:00:00",
          "2018-08-01T00:00:00",
          "2018-08-02T00:00:00",
          "2018-08-03T00:00:00",
          "2018-08-06T00:00:00",
          "2018-08-07T00:00:00",
          "2018-08-08T00:00:00",
          "2018-08-09T00:00:00",
          "2018-08-10T00:00:00",
          "2018-08-13T00:00:00",
          "2018-08-14T00:00:00",
          "2018-08-15T00:00:00",
          "2018-08-16T00:00:00",
          "2018-08-17T00:00:00",
          "2018-08-20T00:00:00",
          "2018-08-21T00:00:00",
          "2018-08-22T00:00:00",
          "2018-08-23T00:00:00",
          "2018-08-24T00:00:00",
          "2018-08-27T00:00:00",
          "2018-08-28T00:00:00",
          "2018-08-29T00:00:00",
          "2018-08-30T00:00:00",
          "2018-08-31T00:00:00",
          "2018-09-04T00:00:00",
          "2018-09-05T00:00:00",
          "2018-09-06T00:00:00",
          "2018-09-07T00:00:00",
          "2018-09-10T00:00:00",
          "2018-09-11T00:00:00",
          "2018-09-12T00:00:00",
          "2018-09-13T00:00:00",
          "2018-09-14T00:00:00",
          "2018-09-17T00:00:00",
          "2018-09-18T00:00:00",
          "2018-09-19T00:00:00",
          "2018-09-20T00:00:00",
          "2018-09-21T00:00:00",
          "2018-09-24T00:00:00",
          "2018-09-25T00:00:00",
          "2018-09-26T00:00:00",
          "2018-09-27T00:00:00",
          "2018-09-28T00:00:00",
          "2018-10-01T00:00:00",
          "2018-10-02T00:00:00",
          "2018-10-03T00:00:00",
          "2018-10-04T00:00:00",
          "2018-10-05T00:00:00",
          "2018-10-08T00:00:00",
          "2018-10-09T00:00:00",
          "2018-10-10T00:00:00",
          "2018-10-11T00:00:00",
          "2018-10-12T00:00:00",
          "2018-10-15T00:00:00",
          "2018-10-16T00:00:00",
          "2018-10-17T00:00:00",
          "2018-10-18T00:00:00",
          "2018-10-19T00:00:00",
          "2018-10-22T00:00:00",
          "2018-10-23T00:00:00",
          "2018-10-24T00:00:00",
          "2018-10-25T00:00:00",
          "2018-10-26T00:00:00",
          "2018-10-29T00:00:00",
          "2018-10-30T00:00:00",
          "2018-10-31T00:00:00",
          "2018-11-01T00:00:00",
          "2018-11-02T00:00:00",
          "2018-11-05T00:00:00",
          "2018-11-06T00:00:00",
          "2018-11-07T00:00:00",
          "2018-11-08T00:00:00",
          "2018-11-09T00:00:00",
          "2018-11-12T00:00:00",
          "2018-11-13T00:00:00",
          "2018-11-14T00:00:00",
          "2018-11-15T00:00:00",
          "2018-11-16T00:00:00",
          "2018-11-19T00:00:00",
          "2018-11-20T00:00:00",
          "2018-11-21T00:00:00",
          "2018-11-23T00:00:00",
          "2018-11-26T00:00:00",
          "2018-11-27T00:00:00",
          "2018-11-28T00:00:00",
          "2018-11-29T00:00:00",
          "2018-11-30T00:00:00",
          "2018-12-03T00:00:00",
          "2018-12-04T00:00:00",
          "2018-12-06T00:00:00",
          "2018-12-07T00:00:00",
          "2018-12-10T00:00:00",
          "2018-12-11T00:00:00",
          "2018-12-12T00:00:00",
          "2018-12-13T00:00:00",
          "2018-12-14T00:00:00",
          "2018-12-17T00:00:00",
          "2018-12-18T00:00:00",
          "2018-12-19T00:00:00",
          "2018-12-20T00:00:00",
          "2018-12-21T00:00:00",
          "2018-12-24T00:00:00",
          "2018-12-26T00:00:00",
          "2018-12-27T00:00:00",
          "2018-12-28T00:00:00",
          "2018-12-31T00:00:00",
          "2019-01-02T00:00:00",
          "2019-01-03T00:00:00",
          "2019-01-04T00:00:00",
          "2019-01-07T00:00:00",
          "2019-01-08T00:00:00",
          "2019-01-09T00:00:00",
          "2019-01-10T00:00:00",
          "2019-01-11T00:00:00",
          "2019-01-14T00:00:00",
          "2019-01-15T00:00:00",
          "2019-01-16T00:00:00",
          "2019-01-17T00:00:00",
          "2019-01-18T00:00:00",
          "2019-01-22T00:00:00",
          "2019-01-23T00:00:00",
          "2019-01-24T00:00:00",
          "2019-01-25T00:00:00",
          "2019-01-28T00:00:00",
          "2019-01-29T00:00:00",
          "2019-01-30T00:00:00",
          "2019-01-31T00:00:00",
          "2019-02-01T00:00:00",
          "2019-02-04T00:00:00",
          "2019-02-05T00:00:00",
          "2019-02-06T00:00:00",
          "2019-02-07T00:00:00",
          "2019-02-08T00:00:00",
          "2019-02-11T00:00:00",
          "2019-02-12T00:00:00",
          "2019-02-13T00:00:00",
          "2019-02-14T00:00:00",
          "2019-02-15T00:00:00",
          "2019-02-19T00:00:00",
          "2019-02-20T00:00:00",
          "2019-02-21T00:00:00",
          "2019-02-22T00:00:00",
          "2019-02-25T00:00:00",
          "2019-02-26T00:00:00",
          "2019-02-27T00:00:00",
          "2019-02-28T00:00:00",
          "2019-03-01T00:00:00",
          "2019-03-04T00:00:00",
          "2019-03-05T00:00:00",
          "2019-03-06T00:00:00",
          "2019-03-07T00:00:00",
          "2019-03-08T00:00:00",
          "2019-03-11T00:00:00",
          "2019-03-12T00:00:00",
          "2019-03-13T00:00:00",
          "2019-03-14T00:00:00",
          "2019-03-15T00:00:00",
          "2019-03-18T00:00:00",
          "2019-03-19T00:00:00",
          "2019-03-20T00:00:00",
          "2019-03-21T00:00:00",
          "2019-03-22T00:00:00",
          "2019-03-25T00:00:00",
          "2019-03-26T00:00:00",
          "2019-03-27T00:00:00",
          "2019-03-28T00:00:00",
          "2019-03-29T00:00:00",
          "2019-04-01T00:00:00",
          "2019-04-02T00:00:00",
          "2019-04-03T00:00:00",
          "2019-04-04T00:00:00",
          "2019-04-05T00:00:00",
          "2019-04-08T00:00:00",
          "2019-04-09T00:00:00",
          "2019-04-10T00:00:00",
          "2019-04-11T00:00:00",
          "2019-04-12T00:00:00",
          "2019-04-15T00:00:00",
          "2019-04-16T00:00:00",
          "2019-04-17T00:00:00",
          "2019-04-18T00:00:00",
          "2019-04-22T00:00:00",
          "2019-04-23T00:00:00",
          "2019-04-24T00:00:00",
          "2019-04-25T00:00:00",
          "2019-04-26T00:00:00",
          "2019-04-29T00:00:00",
          "2019-04-30T00:00:00",
          "2019-05-01T00:00:00",
          "2019-05-02T00:00:00",
          "2019-05-03T00:00:00",
          "2019-05-06T00:00:00",
          "2019-05-07T00:00:00",
          "2019-05-08T00:00:00",
          "2019-05-09T00:00:00",
          "2019-05-10T00:00:00",
          "2019-05-13T00:00:00",
          "2019-05-14T00:00:00",
          "2019-05-15T00:00:00",
          "2019-05-16T00:00:00",
          "2019-05-17T00:00:00",
          "2019-05-20T00:00:00",
          "2019-05-21T00:00:00",
          "2019-05-22T00:00:00",
          "2019-05-23T00:00:00",
          "2019-05-24T00:00:00",
          "2019-05-28T00:00:00",
          "2019-05-29T00:00:00",
          "2019-05-30T00:00:00",
          "2019-05-31T00:00:00",
          "2019-06-03T00:00:00",
          "2019-06-04T00:00:00",
          "2019-06-05T00:00:00",
          "2019-06-06T00:00:00",
          "2019-06-07T00:00:00",
          "2019-06-10T00:00:00",
          "2019-06-11T00:00:00",
          "2019-06-12T00:00:00",
          "2019-06-13T00:00:00",
          "2019-06-14T00:00:00",
          "2019-06-17T00:00:00",
          "2019-06-18T00:00:00",
          "2019-06-19T00:00:00",
          "2019-06-20T00:00:00",
          "2019-06-21T00:00:00",
          "2019-06-24T00:00:00",
          "2019-06-25T00:00:00",
          "2019-06-26T00:00:00",
          "2019-06-27T00:00:00",
          "2019-06-28T00:00:00",
          "2019-07-01T00:00:00",
          "2019-07-02T00:00:00",
          "2019-07-03T00:00:00",
          "2019-07-05T00:00:00",
          "2019-07-08T00:00:00",
          "2019-07-09T00:00:00",
          "2019-07-10T00:00:00",
          "2019-07-11T00:00:00",
          "2019-07-12T00:00:00",
          "2019-07-15T00:00:00",
          "2019-07-16T00:00:00",
          "2019-07-17T00:00:00",
          "2019-07-18T00:00:00",
          "2019-07-19T00:00:00",
          "2019-07-22T00:00:00",
          "2019-07-23T00:00:00",
          "2019-07-24T00:00:00",
          "2019-07-25T00:00:00",
          "2019-07-26T00:00:00",
          "2019-07-29T00:00:00",
          "2019-07-30T00:00:00",
          "2019-07-31T00:00:00",
          "2019-08-01T00:00:00",
          "2019-08-02T00:00:00",
          "2019-08-05T00:00:00",
          "2019-08-06T00:00:00",
          "2019-08-07T00:00:00",
          "2019-08-08T00:00:00",
          "2019-08-09T00:00:00",
          "2019-08-12T00:00:00",
          "2019-08-13T00:00:00",
          "2019-08-14T00:00:00",
          "2019-08-15T00:00:00",
          "2019-08-16T00:00:00",
          "2019-08-19T00:00:00",
          "2019-08-20T00:00:00",
          "2019-08-21T00:00:00",
          "2019-08-22T00:00:00",
          "2019-08-23T00:00:00",
          "2019-08-26T00:00:00",
          "2019-08-27T00:00:00",
          "2019-08-28T00:00:00",
          "2019-08-29T00:00:00",
          "2019-08-30T00:00:00",
          "2019-09-03T00:00:00",
          "2019-09-04T00:00:00",
          "2019-09-05T00:00:00",
          "2019-09-06T00:00:00",
          "2019-09-09T00:00:00",
          "2019-09-10T00:00:00",
          "2019-09-11T00:00:00",
          "2019-09-12T00:00:00",
          "2019-09-13T00:00:00",
          "2019-09-16T00:00:00",
          "2019-09-17T00:00:00",
          "2019-09-18T00:00:00",
          "2019-09-19T00:00:00",
          "2019-09-20T00:00:00",
          "2019-09-23T00:00:00",
          "2019-09-24T00:00:00",
          "2019-09-25T00:00:00",
          "2019-09-26T00:00:00",
          "2019-09-27T00:00:00",
          "2019-09-30T00:00:00",
          "2019-10-01T00:00:00",
          "2019-10-02T00:00:00",
          "2019-10-03T00:00:00",
          "2019-10-04T00:00:00",
          "2019-10-07T00:00:00",
          "2019-10-08T00:00:00",
          "2019-10-09T00:00:00",
          "2019-10-10T00:00:00",
          "2019-10-11T00:00:00",
          "2019-10-14T00:00:00",
          "2019-10-15T00:00:00",
          "2019-10-16T00:00:00",
          "2019-10-17T00:00:00",
          "2019-10-18T00:00:00",
          "2019-10-21T00:00:00",
          "2019-10-22T00:00:00",
          "2019-10-23T00:00:00",
          "2019-10-24T00:00:00",
          "2019-10-25T00:00:00",
          "2019-10-28T00:00:00",
          "2019-10-29T00:00:00",
          "2019-10-30T00:00:00",
          "2019-10-31T00:00:00",
          "2019-11-01T00:00:00",
          "2019-11-04T00:00:00",
          "2019-11-05T00:00:00",
          "2019-11-06T00:00:00",
          "2019-11-07T00:00:00",
          "2019-11-08T00:00:00",
          "2019-11-11T00:00:00",
          "2019-11-12T00:00:00",
          "2019-11-13T00:00:00",
          "2019-11-14T00:00:00",
          "2019-11-15T00:00:00",
          "2019-11-18T00:00:00",
          "2019-11-19T00:00:00",
          "2019-11-20T00:00:00",
          "2019-11-21T00:00:00",
          "2019-11-22T00:00:00",
          "2019-11-25T00:00:00",
          "2019-11-26T00:00:00",
          "2019-11-27T00:00:00",
          "2019-11-29T00:00:00",
          "2019-12-02T00:00:00",
          "2019-12-03T00:00:00",
          "2019-12-04T00:00:00",
          "2019-12-05T00:00:00",
          "2019-12-06T00:00:00",
          "2019-12-09T00:00:00",
          "2019-12-10T00:00:00",
          "2019-12-11T00:00:00",
          "2019-12-12T00:00:00",
          "2019-12-13T00:00:00",
          "2019-12-16T00:00:00",
          "2019-12-17T00:00:00",
          "2019-12-18T00:00:00",
          "2019-12-19T00:00:00",
          "2019-12-20T00:00:00",
          "2019-12-23T00:00:00",
          "2019-12-24T00:00:00",
          "2019-12-26T00:00:00",
          "2019-12-27T00:00:00",
          "2019-12-30T00:00:00",
          "2019-12-31T00:00:00",
          "2020-01-02T00:00:00",
          "2020-01-03T00:00:00",
          "2020-01-06T00:00:00",
          "2020-01-07T00:00:00",
          "2020-01-08T00:00:00",
          "2020-01-09T00:00:00",
          "2020-01-10T00:00:00",
          "2020-01-13T00:00:00",
          "2020-01-14T00:00:00",
          "2020-01-15T00:00:00",
          "2020-01-16T00:00:00",
          "2020-01-17T00:00:00",
          "2020-01-21T00:00:00",
          "2020-01-22T00:00:00",
          "2020-01-23T00:00:00",
          "2020-01-24T00:00:00",
          "2020-01-27T00:00:00",
          "2020-01-28T00:00:00",
          "2020-01-29T00:00:00",
          "2020-01-30T00:00:00",
          "2020-01-31T00:00:00",
          "2020-02-03T00:00:00",
          "2020-02-04T00:00:00",
          "2020-02-05T00:00:00",
          "2020-02-06T00:00:00",
          "2020-02-07T00:00:00",
          "2020-02-10T00:00:00",
          "2020-02-11T00:00:00",
          "2020-02-12T00:00:00",
          "2020-02-13T00:00:00",
          "2020-02-14T00:00:00",
          "2020-02-18T00:00:00",
          "2020-02-19T00:00:00",
          "2020-02-20T00:00:00",
          "2020-02-21T00:00:00",
          "2020-02-24T00:00:00",
          "2020-02-25T00:00:00",
          "2020-02-26T00:00:00",
          "2020-02-27T00:00:00",
          "2020-02-28T00:00:00",
          "2020-03-02T00:00:00",
          "2020-03-03T00:00:00",
          "2020-03-04T00:00:00",
          "2020-03-05T00:00:00",
          "2020-03-06T00:00:00",
          "2020-03-09T00:00:00",
          "2020-03-10T00:00:00",
          "2020-03-11T00:00:00",
          "2020-03-12T00:00:00",
          "2020-03-13T00:00:00",
          "2020-03-16T00:00:00",
          "2020-03-17T00:00:00",
          "2020-03-18T00:00:00",
          "2020-03-19T00:00:00",
          "2020-03-20T00:00:00",
          "2020-03-23T00:00:00",
          "2020-03-24T00:00:00",
          "2020-03-25T00:00:00",
          "2020-03-26T00:00:00",
          "2020-03-27T00:00:00",
          "2020-03-30T00:00:00",
          "2020-03-31T00:00:00",
          "2020-04-01T00:00:00",
          "2020-04-02T00:00:00",
          "2020-04-03T00:00:00",
          "2020-04-06T00:00:00",
          "2020-04-07T00:00:00",
          "2020-04-08T00:00:00",
          "2020-04-09T00:00:00",
          "2020-04-13T00:00:00",
          "2020-04-14T00:00:00",
          "2020-04-15T00:00:00",
          "2020-04-16T00:00:00",
          "2020-04-17T00:00:00",
          "2020-04-20T00:00:00",
          "2020-04-21T00:00:00",
          "2020-04-22T00:00:00",
          "2020-04-23T00:00:00",
          "2020-04-24T00:00:00",
          "2020-04-27T00:00:00",
          "2020-04-28T00:00:00",
          "2020-04-29T00:00:00",
          "2020-04-30T00:00:00",
          "2020-05-01T00:00:00",
          "2020-05-04T00:00:00",
          "2020-05-05T00:00:00",
          "2020-05-06T00:00:00",
          "2020-05-07T00:00:00",
          "2020-05-08T00:00:00",
          "2020-05-11T00:00:00",
          "2020-05-12T00:00:00",
          "2020-05-13T00:00:00",
          "2020-05-14T00:00:00",
          "2020-05-15T00:00:00",
          "2020-05-18T00:00:00",
          "2020-05-19T00:00:00",
          "2020-05-20T00:00:00",
          "2020-05-21T00:00:00",
          "2020-05-22T00:00:00",
          "2020-05-26T00:00:00",
          "2020-05-27T00:00:00",
          "2020-05-28T00:00:00",
          "2020-05-29T00:00:00",
          "2020-06-01T00:00:00",
          "2020-06-02T00:00:00",
          "2020-06-03T00:00:00",
          "2020-06-04T00:00:00",
          "2020-06-05T00:00:00",
          "2020-06-08T00:00:00",
          "2020-06-09T00:00:00",
          "2020-06-10T00:00:00",
          "2020-06-11T00:00:00",
          "2020-06-12T00:00:00",
          "2020-06-15T00:00:00",
          "2020-06-16T00:00:00",
          "2020-06-17T00:00:00",
          "2020-06-18T00:00:00",
          "2020-06-19T00:00:00",
          "2020-06-22T00:00:00",
          "2020-06-23T00:00:00",
          "2020-06-24T00:00:00",
          "2020-06-25T00:00:00",
          "2020-06-26T00:00:00",
          "2020-06-29T00:00:00",
          "2020-06-30T00:00:00",
          "2020-07-01T00:00:00",
          "2020-07-02T00:00:00",
          "2020-07-06T00:00:00",
          "2020-07-07T00:00:00",
          "2020-07-08T00:00:00",
          "2020-07-09T00:00:00",
          "2020-07-10T00:00:00",
          "2020-07-13T00:00:00",
          "2020-07-14T00:00:00",
          "2020-07-15T00:00:00",
          "2020-07-16T00:00:00",
          "2020-07-17T00:00:00",
          "2020-07-20T00:00:00",
          "2020-07-21T00:00:00",
          "2020-07-22T00:00:00",
          "2020-07-23T00:00:00",
          "2020-07-24T00:00:00",
          "2020-07-27T00:00:00",
          "2020-07-28T00:00:00",
          "2020-07-29T00:00:00",
          "2020-07-30T00:00:00",
          "2020-07-31T00:00:00",
          "2020-08-03T00:00:00",
          "2020-08-04T00:00:00",
          "2020-08-05T00:00:00",
          "2020-08-06T00:00:00",
          "2020-08-07T00:00:00",
          "2020-08-10T00:00:00",
          "2020-08-11T00:00:00",
          "2020-08-12T00:00:00",
          "2020-08-13T00:00:00",
          "2020-08-14T00:00:00",
          "2020-08-17T00:00:00",
          "2020-08-18T00:00:00",
          "2020-08-19T00:00:00",
          "2020-08-20T00:00:00",
          "2020-08-21T00:00:00",
          "2020-08-24T00:00:00",
          "2020-08-25T00:00:00",
          "2020-08-26T00:00:00",
          "2020-08-27T00:00:00",
          "2020-08-28T00:00:00",
          "2020-08-31T00:00:00",
          "2020-09-01T00:00:00",
          "2020-09-02T00:00:00",
          "2020-09-03T00:00:00",
          "2020-09-04T00:00:00",
          "2020-09-08T00:00:00",
          "2020-09-09T00:00:00",
          "2020-09-10T00:00:00",
          "2020-09-11T00:00:00",
          "2020-09-14T00:00:00",
          "2020-09-15T00:00:00",
          "2020-09-16T00:00:00",
          "2020-09-17T00:00:00",
          "2020-09-18T00:00:00",
          "2020-09-21T00:00:00",
          "2020-09-22T00:00:00",
          "2020-09-23T00:00:00",
          "2020-09-24T00:00:00",
          "2020-09-25T00:00:00",
          "2020-09-28T00:00:00",
          "2020-09-29T00:00:00",
          "2020-09-30T00:00:00",
          "2020-10-01T00:00:00",
          "2020-10-02T00:00:00",
          "2020-10-05T00:00:00",
          "2020-10-06T00:00:00",
          "2020-10-07T00:00:00",
          "2020-10-08T00:00:00",
          "2020-10-09T00:00:00",
          "2020-10-12T00:00:00",
          "2020-10-13T00:00:00",
          "2020-10-14T00:00:00",
          "2020-10-15T00:00:00",
          "2020-10-16T00:00:00",
          "2020-10-19T00:00:00",
          "2020-10-20T00:00:00",
          "2020-10-21T00:00:00",
          "2020-10-22T00:00:00",
          "2020-10-23T00:00:00",
          "2020-10-26T00:00:00",
          "2020-10-27T00:00:00",
          "2020-10-28T00:00:00",
          "2020-10-29T00:00:00",
          "2020-10-30T00:00:00",
          "2020-11-02T00:00:00",
          "2020-11-03T00:00:00",
          "2020-11-04T00:00:00",
          "2020-11-05T00:00:00",
          "2020-11-06T00:00:00",
          "2020-11-09T00:00:00",
          "2020-11-10T00:00:00",
          "2020-11-11T00:00:00",
          "2020-11-12T00:00:00",
          "2020-11-13T00:00:00",
          "2020-11-16T00:00:00",
          "2020-11-17T00:00:00",
          "2020-11-18T00:00:00",
          "2020-11-19T00:00:00",
          "2020-11-20T00:00:00",
          "2020-11-23T00:00:00",
          "2020-11-24T00:00:00",
          "2020-11-25T00:00:00",
          "2020-11-27T00:00:00",
          "2020-11-30T00:00:00",
          "2020-12-01T00:00:00",
          "2020-12-02T00:00:00",
          "2020-12-03T00:00:00",
          "2020-12-04T00:00:00",
          "2020-12-07T00:00:00",
          "2020-12-08T00:00:00",
          "2020-12-09T00:00:00",
          "2020-12-10T00:00:00",
          "2020-12-11T00:00:00",
          "2020-12-14T00:00:00",
          "2020-12-15T00:00:00",
          "2020-12-16T00:00:00",
          "2020-12-17T00:00:00",
          "2020-12-18T00:00:00",
          "2020-12-21T00:00:00",
          "2020-12-22T00:00:00",
          "2020-12-23T00:00:00",
          "2020-12-24T00:00:00",
          "2020-12-28T00:00:00",
          "2020-12-29T00:00:00",
          "2020-12-30T00:00:00",
          "2020-12-31T00:00:00",
          "2021-01-04T00:00:00",
          "2021-01-05T00:00:00",
          "2021-01-06T00:00:00",
          "2021-01-07T00:00:00",
          "2021-01-08T00:00:00",
          "2021-01-11T00:00:00",
          "2021-01-12T00:00:00",
          "2021-01-13T00:00:00",
          "2021-01-14T00:00:00",
          "2021-01-15T00:00:00",
          "2021-01-19T00:00:00",
          "2021-01-20T00:00:00",
          "2021-01-21T00:00:00",
          "2021-01-22T00:00:00",
          "2021-01-25T00:00:00",
          "2021-01-26T00:00:00",
          "2021-01-27T00:00:00",
          "2021-01-28T00:00:00",
          "2021-01-29T00:00:00",
          "2021-02-01T00:00:00",
          "2021-02-02T00:00:00",
          "2021-02-03T00:00:00",
          "2021-02-04T00:00:00",
          "2021-02-05T00:00:00",
          "2021-02-08T00:00:00",
          "2021-02-09T00:00:00",
          "2021-02-10T00:00:00",
          "2021-02-11T00:00:00",
          "2021-02-12T00:00:00",
          "2021-02-16T00:00:00",
          "2021-02-17T00:00:00",
          "2021-02-18T00:00:00",
          "2021-02-19T00:00:00",
          "2021-02-22T00:00:00",
          "2021-02-23T00:00:00",
          "2021-02-24T00:00:00",
          "2021-02-25T00:00:00",
          "2021-02-26T00:00:00",
          "2021-03-01T00:00:00",
          "2021-03-02T00:00:00",
          "2021-03-03T00:00:00",
          "2021-03-04T00:00:00",
          "2021-03-05T00:00:00",
          "2021-03-08T00:00:00",
          "2021-03-09T00:00:00",
          "2021-03-10T00:00:00",
          "2021-03-11T00:00:00",
          "2021-03-12T00:00:00",
          "2021-03-15T00:00:00",
          "2021-03-16T00:00:00",
          "2021-03-17T00:00:00",
          "2021-03-18T00:00:00",
          "2021-03-19T00:00:00",
          "2021-03-22T00:00:00",
          "2021-03-23T00:00:00",
          "2021-03-24T00:00:00",
          "2021-03-25T00:00:00",
          "2021-03-26T00:00:00",
          "2021-03-29T00:00:00",
          "2021-03-30T00:00:00",
          "2021-03-31T00:00:00",
          "2021-04-01T00:00:00",
          "2021-04-05T00:00:00",
          "2021-04-06T00:00:00",
          "2021-04-07T00:00:00",
          "2021-04-08T00:00:00",
          "2021-04-09T00:00:00",
          "2021-04-12T00:00:00",
          "2021-04-13T00:00:00",
          "2021-04-14T00:00:00",
          "2021-04-15T00:00:00",
          "2021-04-16T00:00:00",
          "2021-04-19T00:00:00",
          "2021-04-20T00:00:00",
          "2021-04-21T00:00:00",
          "2021-04-22T00:00:00",
          "2021-04-23T00:00:00",
          "2021-04-26T00:00:00",
          "2021-04-27T00:00:00",
          "2021-04-28T00:00:00",
          "2021-04-29T00:00:00",
          "2021-04-30T00:00:00",
          "2021-05-03T00:00:00",
          "2021-05-04T00:00:00",
          "2021-05-05T00:00:00",
          "2021-05-06T00:00:00",
          "2021-05-07T00:00:00",
          "2021-05-10T00:00:00",
          "2021-05-11T00:00:00",
          "2021-05-12T00:00:00",
          "2021-05-13T00:00:00",
          "2021-05-14T00:00:00",
          "2021-05-17T00:00:00",
          "2021-05-18T00:00:00",
          "2021-05-19T00:00:00",
          "2021-05-20T00:00:00",
          "2021-05-21T00:00:00",
          "2021-05-24T00:00:00",
          "2021-05-25T00:00:00",
          "2021-05-26T00:00:00",
          "2021-05-27T00:00:00",
          "2021-05-28T00:00:00",
          "2021-06-01T00:00:00",
          "2021-06-02T00:00:00",
          "2021-06-03T00:00:00",
          "2021-06-04T00:00:00",
          "2021-06-07T00:00:00",
          "2021-06-08T00:00:00",
          "2021-06-09T00:00:00",
          "2021-06-10T00:00:00",
          "2021-06-11T00:00:00",
          "2021-06-14T00:00:00",
          "2021-06-15T00:00:00",
          "2021-06-16T00:00:00",
          "2021-06-17T00:00:00",
          "2021-06-18T00:00:00",
          "2021-06-21T00:00:00",
          "2021-06-22T00:00:00",
          "2021-06-23T00:00:00",
          "2021-06-24T00:00:00",
          "2021-06-25T00:00:00",
          "2021-06-28T00:00:00",
          "2021-06-29T00:00:00",
          "2021-06-30T00:00:00",
          "2021-07-01T00:00:00",
          "2021-07-02T00:00:00",
          "2021-07-06T00:00:00",
          "2021-07-07T00:00:00",
          "2021-07-08T00:00:00",
          "2021-07-09T00:00:00",
          "2021-07-12T00:00:00",
          "2021-07-13T00:00:00",
          "2021-07-14T00:00:00",
          "2021-07-15T00:00:00",
          "2021-07-16T00:00:00",
          "2021-07-19T00:00:00",
          "2021-07-20T00:00:00",
          "2021-07-21T00:00:00",
          "2021-07-22T00:00:00",
          "2021-07-23T00:00:00",
          "2021-07-26T00:00:00",
          "2021-07-27T00:00:00",
          "2021-07-28T00:00:00",
          "2021-07-29T00:00:00",
          "2021-07-30T00:00:00",
          "2021-08-02T00:00:00",
          "2021-08-03T00:00:00",
          "2021-08-04T00:00:00",
          "2021-08-05T00:00:00",
          "2021-08-06T00:00:00",
          "2021-08-09T00:00:00",
          "2021-08-10T00:00:00",
          "2021-08-11T00:00:00",
          "2021-08-12T00:00:00",
          "2021-08-13T00:00:00",
          "2021-08-16T00:00:00",
          "2021-08-17T00:00:00",
          "2021-08-18T00:00:00",
          "2021-08-19T00:00:00",
          "2021-08-20T00:00:00",
          "2021-08-23T00:00:00",
          "2021-08-24T00:00:00",
          "2021-08-25T00:00:00",
          "2021-08-26T00:00:00",
          "2021-08-27T00:00:00",
          "2021-08-30T00:00:00",
          "2021-08-31T00:00:00",
          "2021-09-01T00:00:00",
          "2021-09-02T00:00:00",
          "2021-09-03T00:00:00",
          "2021-09-07T00:00:00",
          "2021-09-08T00:00:00",
          "2021-09-09T00:00:00",
          "2021-09-10T00:00:00",
          "2021-09-13T00:00:00",
          "2021-09-14T00:00:00",
          "2021-09-15T00:00:00",
          "2021-09-16T00:00:00",
          "2021-09-17T00:00:00",
          "2021-09-20T00:00:00",
          "2021-09-21T00:00:00",
          "2021-09-22T00:00:00",
          "2021-09-23T00:00:00",
          "2021-09-24T00:00:00",
          "2021-09-27T00:00:00",
          "2021-09-28T00:00:00",
          "2021-09-29T00:00:00",
          "2021-09-30T00:00:00",
          "2021-10-01T00:00:00",
          "2021-10-04T00:00:00",
          "2021-10-05T00:00:00",
          "2021-10-06T00:00:00",
          "2021-10-07T00:00:00",
          "2021-10-08T00:00:00",
          "2021-10-11T00:00:00",
          "2021-10-12T00:00:00",
          "2021-10-13T00:00:00",
          "2021-10-14T00:00:00",
          "2021-10-15T00:00:00",
          "2021-10-18T00:00:00",
          "2021-10-19T00:00:00",
          "2021-10-20T00:00:00",
          "2021-10-21T00:00:00",
          "2021-10-22T00:00:00",
          "2021-10-25T00:00:00",
          "2021-10-26T00:00:00",
          "2021-10-27T00:00:00",
          "2021-10-28T00:00:00",
          "2021-10-29T00:00:00",
          "2021-11-01T00:00:00",
          "2021-11-02T00:00:00",
          "2021-11-03T00:00:00",
          "2021-11-04T00:00:00",
          "2021-11-05T00:00:00",
          "2021-11-08T00:00:00",
          "2021-11-09T00:00:00",
          "2021-11-10T00:00:00",
          "2021-11-11T00:00:00",
          "2021-11-12T00:00:00",
          "2021-11-15T00:00:00",
          "2021-11-16T00:00:00",
          "2021-11-17T00:00:00",
          "2021-11-18T00:00:00",
          "2021-11-19T00:00:00",
          "2021-11-22T00:00:00",
          "2021-11-23T00:00:00",
          "2021-11-24T00:00:00",
          "2021-11-26T00:00:00",
          "2021-11-29T00:00:00",
          "2021-11-30T00:00:00",
          "2021-12-01T00:00:00",
          "2021-12-02T00:00:00",
          "2021-12-03T00:00:00",
          "2021-12-06T00:00:00",
          "2021-12-07T00:00:00",
          "2021-12-08T00:00:00",
          "2021-12-09T00:00:00",
          "2021-12-10T00:00:00",
          "2021-12-13T00:00:00",
          "2021-12-14T00:00:00",
          "2021-12-15T00:00:00",
          "2021-12-16T00:00:00",
          "2021-12-17T00:00:00",
          "2021-12-20T00:00:00",
          "2021-12-21T00:00:00",
          "2021-12-22T00:00:00",
          "2021-12-23T00:00:00",
          "2021-12-27T00:00:00",
          "2021-12-28T00:00:00",
          "2021-12-29T00:00:00",
          "2021-12-30T00:00:00",
          "2021-12-31T00:00:00",
          "2022-01-03T00:00:00",
          "2022-01-04T00:00:00",
          "2022-01-05T00:00:00",
          "2022-01-06T00:00:00",
          "2022-01-07T00:00:00",
          "2022-01-10T00:00:00",
          "2022-01-11T00:00:00",
          "2022-01-12T00:00:00",
          "2022-01-13T00:00:00",
          "2022-01-14T00:00:00",
          "2022-01-18T00:00:00",
          "2022-01-19T00:00:00",
          "2022-01-20T00:00:00",
          "2022-01-21T00:00:00",
          "2022-01-24T00:00:00",
          "2022-01-25T00:00:00",
          "2022-01-26T00:00:00",
          "2022-01-27T00:00:00",
          "2022-01-28T00:00:00",
          "2022-01-31T00:00:00",
          "2022-02-01T00:00:00",
          "2022-02-02T00:00:00",
          "2022-02-03T00:00:00",
          "2022-02-04T00:00:00",
          "2022-02-07T00:00:00",
          "2022-02-08T00:00:00",
          "2022-02-09T00:00:00",
          "2022-02-10T00:00:00",
          "2022-02-11T00:00:00",
          "2022-02-14T00:00:00",
          "2022-02-15T00:00:00",
          "2022-02-16T00:00:00",
          "2022-02-17T00:00:00",
          "2022-02-18T00:00:00",
          "2022-02-22T00:00:00",
          "2022-02-23T00:00:00",
          "2022-02-24T00:00:00",
          "2022-02-25T00:00:00",
          "2022-02-28T00:00:00"
         ],
         "xaxis": "x",
         "y": [
          1,
          0,
          0,
          0,
          0,
          0,
          0,
          0,
          0,
          0,
          0,
          0,
          0,
          0,
          0,
          0,
          0,
          0,
          0,
          0,
          0,
          0,
          0,
          0,
          0,
          0,
          0,
          0,
          0,
          0,
          0,
          0,
          0,
          0,
          0,
          0,
          0,
          0,
          0,
          0,
          0,
          0,
          0,
          0,
          0,
          0,
          0,
          0,
          0,
          0,
          0,
          0,
          0,
          0,
          0,
          0,
          0,
          0,
          0,
          0,
          0,
          0,
          0,
          0,
          0,
          0,
          0,
          0,
          0,
          0,
          0,
          0,
          0,
          0,
          0,
          0,
          0,
          0,
          0,
          0,
          0,
          0,
          0,
          0,
          0,
          0,
          0,
          0,
          0,
          0,
          0,
          0,
          0,
          0,
          0,
          0,
          0,
          0,
          0,
          0,
          0,
          0,
          0,
          0,
          0,
          0,
          0,
          0,
          0,
          0,
          0,
          0,
          0,
          0,
          0,
          0,
          0,
          0,
          0,
          0,
          0,
          0,
          0,
          0,
          0,
          0,
          0,
          0,
          0,
          0,
          0,
          0,
          0,
          0,
          0,
          0,
          0,
          0,
          0,
          0,
          0,
          0,
          0,
          0,
          0,
          0,
          0,
          0,
          0,
          0,
          0,
          0,
          0,
          0,
          0,
          0,
          0,
          0,
          0,
          0,
          0,
          0,
          0,
          0,
          0,
          0,
          0,
          0,
          0,
          0,
          0,
          0,
          0,
          0,
          0,
          0,
          0,
          0,
          0,
          0,
          0,
          0,
          0,
          0,
          0,
          0,
          0,
          0,
          0,
          0,
          0,
          0,
          0,
          0,
          0,
          0,
          0,
          0,
          0,
          0,
          0,
          0,
          0,
          0,
          0,
          0,
          0,
          0,
          0,
          0,
          0,
          0,
          0,
          0,
          0,
          0,
          0,
          0,
          0,
          0,
          0,
          0,
          0,
          0,
          0,
          0,
          0,
          0,
          0,
          0,
          0,
          0,
          0,
          0,
          0,
          0,
          0,
          0,
          0,
          0,
          0,
          0,
          0,
          0,
          0,
          0,
          0,
          0,
          0,
          0,
          0,
          0,
          0,
          0,
          0,
          0,
          0,
          0,
          0,
          0,
          0,
          0,
          0,
          0,
          0,
          0,
          0,
          0,
          0,
          0,
          0,
          0,
          0,
          0,
          0,
          0,
          0,
          0,
          0,
          0,
          0,
          0,
          0,
          0,
          0,
          0,
          0,
          0,
          0,
          0,
          0,
          0,
          0,
          0,
          0,
          0,
          0,
          0,
          0,
          0,
          0,
          0,
          0,
          0,
          0,
          0,
          0,
          0,
          0,
          0,
          0,
          0,
          0,
          0,
          0,
          0,
          0,
          0,
          0,
          0,
          0,
          0,
          0,
          0,
          0,
          0,
          0,
          0,
          0,
          0,
          0,
          0,
          0,
          0,
          0,
          0,
          0,
          0,
          0,
          0,
          0,
          0,
          0,
          0,
          0,
          0,
          0,
          0,
          0,
          0,
          0,
          0,
          0,
          0,
          0,
          0,
          0,
          0,
          0,
          0,
          0,
          0,
          0,
          0,
          0,
          0,
          0,
          0,
          0,
          0,
          0,
          0,
          0,
          0,
          0,
          0,
          0,
          0,
          0,
          0,
          0,
          0,
          0,
          0,
          0,
          0,
          0,
          0,
          0,
          0,
          0,
          0,
          0,
          0,
          0,
          0,
          0,
          0,
          0,
          0,
          0,
          0,
          0,
          0,
          0,
          0,
          0,
          0,
          0,
          0,
          0,
          0,
          0,
          0,
          0,
          0,
          0,
          0,
          0,
          0,
          0,
          0,
          0,
          0,
          0,
          0,
          0,
          0,
          0,
          0,
          0,
          0,
          0,
          0,
          0,
          0,
          0,
          0,
          0,
          0,
          0,
          0,
          0,
          0,
          0,
          0,
          0,
          0,
          0,
          0,
          0,
          0,
          0,
          0,
          0,
          0,
          0,
          0,
          0,
          0,
          0,
          0,
          0,
          0,
          0,
          0,
          0,
          0,
          0,
          0,
          0,
          0,
          0,
          0,
          0,
          0,
          0,
          0,
          0,
          0,
          0,
          0,
          0,
          0,
          0,
          0,
          0,
          0,
          0,
          0,
          0,
          0,
          0,
          0,
          0,
          0,
          0,
          0,
          0,
          0,
          0,
          0,
          0,
          0,
          0,
          0,
          0,
          0,
          0,
          0,
          0,
          0,
          0,
          0,
          0,
          0,
          0,
          0,
          0,
          0,
          0,
          0,
          0,
          0,
          0,
          0,
          0,
          0,
          0,
          0,
          0,
          0,
          0,
          0,
          0,
          0,
          0,
          0,
          0,
          0,
          0,
          0,
          0,
          0,
          0,
          0,
          0,
          0,
          0,
          0,
          0,
          0,
          0,
          0,
          0,
          0,
          0,
          0,
          0,
          0,
          0,
          0,
          0,
          0,
          0,
          0,
          0,
          0,
          0,
          0,
          0,
          0,
          0,
          0,
          0,
          0,
          0,
          0,
          0,
          0,
          0,
          0,
          0,
          0,
          0,
          0,
          0,
          0,
          0,
          0,
          0,
          0,
          0,
          0,
          0,
          0,
          0,
          0,
          0,
          0,
          0,
          0,
          0,
          0,
          0,
          0,
          0,
          0,
          0,
          0,
          0,
          0,
          0,
          0,
          0,
          0,
          0,
          0,
          0,
          0,
          0,
          0,
          0,
          0,
          0,
          0,
          0,
          0,
          0,
          0,
          0,
          0,
          0,
          0,
          0,
          0,
          0,
          0,
          0,
          0,
          0,
          0,
          0,
          0,
          0,
          0,
          0,
          0,
          0,
          0,
          0,
          0,
          0,
          0,
          0,
          0,
          0,
          0,
          0,
          0,
          0,
          0,
          0,
          0,
          0,
          0,
          0,
          0,
          0,
          0,
          0,
          0,
          0,
          0,
          0,
          0,
          0,
          0,
          0,
          0,
          0,
          0,
          0,
          0,
          0,
          0,
          0,
          0,
          0,
          0,
          0,
          0,
          0,
          0,
          0,
          0,
          0,
          0,
          0,
          0,
          0,
          0,
          0,
          0,
          0,
          0,
          0,
          0,
          0,
          0,
          0,
          0,
          0,
          0,
          0,
          0,
          0,
          0,
          0,
          0,
          0,
          0,
          0,
          0,
          0,
          0,
          0,
          0,
          0,
          0,
          0,
          0,
          0,
          0,
          0,
          0,
          0,
          0,
          0,
          0,
          0,
          0,
          0,
          0,
          0,
          0,
          0,
          0,
          0,
          0,
          0,
          0,
          0,
          0,
          0,
          0,
          0,
          0,
          0,
          0,
          0,
          0,
          0,
          0,
          0,
          0,
          0,
          0,
          0,
          0,
          0,
          0,
          0,
          0,
          0,
          0,
          0,
          0,
          0,
          0,
          0,
          0,
          0,
          0,
          0,
          0,
          0,
          0,
          0,
          0,
          0,
          0,
          0,
          0,
          0,
          0,
          0,
          0,
          0,
          0,
          0,
          0,
          0,
          0,
          0,
          0,
          0,
          0,
          0,
          0,
          0,
          0,
          0,
          0,
          0,
          0,
          0,
          0,
          0,
          0,
          0,
          0,
          0,
          0,
          0,
          0,
          0,
          0,
          0,
          0,
          0,
          0,
          0,
          0,
          0,
          0,
          0,
          0,
          0,
          0,
          0,
          0,
          0,
          0,
          0,
          0,
          0,
          0,
          0,
          0,
          0,
          0,
          0,
          0,
          0,
          0,
          0,
          0,
          0,
          0,
          0,
          0,
          0,
          0,
          0,
          0,
          0,
          0,
          0,
          0,
          0,
          0,
          0,
          0,
          0,
          0,
          0,
          0,
          0,
          0,
          0,
          0,
          0,
          0,
          0,
          0,
          0,
          0,
          0,
          0,
          0,
          0,
          0,
          0,
          0,
          0,
          0,
          0,
          0,
          0,
          0,
          0,
          0,
          0,
          0,
          0,
          0,
          0,
          0,
          0,
          0,
          0,
          0,
          0,
          0,
          0,
          0,
          0,
          0,
          0,
          0,
          0,
          0,
          0,
          0,
          0,
          0,
          0,
          0,
          0,
          0,
          0,
          0,
          0,
          0,
          0,
          0,
          0,
          0,
          0,
          0,
          0,
          0,
          0,
          0,
          0,
          0,
          0,
          0,
          0,
          0,
          0,
          0,
          0,
          0,
          0,
          0,
          0,
          0,
          0,
          0,
          0,
          0,
          0,
          0,
          0,
          0,
          0,
          0,
          0,
          0,
          0,
          0,
          0,
          0,
          0,
          0,
          0,
          0,
          0,
          0,
          0,
          0,
          0,
          0,
          0,
          0,
          0,
          0,
          0,
          0,
          0,
          0,
          0,
          0,
          0,
          0,
          0,
          0,
          0,
          0,
          0,
          0,
          0,
          0,
          0,
          0,
          0,
          0,
          0,
          0,
          0,
          0,
          0,
          0,
          0,
          0,
          0,
          0,
          0,
          0,
          0,
          0,
          0,
          0,
          0,
          0,
          0,
          0,
          0,
          0,
          0,
          0,
          0,
          0,
          0,
          0,
          0,
          0,
          0,
          0,
          0,
          0,
          0,
          0,
          0,
          0,
          0,
          0,
          0,
          0,
          0,
          0,
          0,
          0,
          0,
          0,
          0,
          0,
          0,
          0,
          0,
          0,
          0,
          0,
          0,
          0,
          0,
          0,
          0,
          0,
          0,
          0,
          0,
          0,
          0,
          0,
          0,
          0,
          0,
          0,
          0,
          0,
          0,
          0,
          0,
          0,
          0,
          0,
          0,
          0,
          0,
          0,
          0,
          0,
          0,
          0,
          0,
          0,
          0,
          0,
          0,
          0,
          0,
          0,
          0,
          0,
          0,
          0,
          0,
          0,
          0,
          0,
          0,
          0,
          0,
          0,
          0,
          0,
          0,
          0,
          0,
          0,
          0,
          0,
          0,
          0,
          0,
          0,
          0,
          0,
          0,
          0,
          0,
          0,
          0,
          0,
          0,
          0,
          0,
          0,
          0,
          0,
          0,
          0,
          0,
          0,
          0,
          0,
          0,
          0,
          0,
          0,
          0,
          0,
          0,
          0,
          0,
          0,
          0,
          0,
          0,
          0,
          0,
          0,
          0,
          0,
          0,
          0,
          0,
          0,
          0,
          0,
          0,
          0,
          0,
          0,
          0,
          0,
          0,
          0,
          0,
          0,
          0,
          0,
          0,
          0,
          0,
          0,
          0,
          0,
          0,
          0,
          0,
          0,
          0,
          0,
          0,
          0,
          0,
          0,
          0,
          0,
          0,
          0,
          0,
          0,
          0,
          0,
          0,
          0,
          0,
          0,
          0,
          0,
          0,
          0,
          0,
          0,
          0,
          0,
          0,
          0,
          0,
          0,
          0,
          0,
          0,
          0,
          0,
          0,
          0,
          0,
          0,
          0,
          0,
          0,
          0,
          0,
          0,
          0,
          0,
          0,
          0,
          0,
          0,
          0,
          0,
          0,
          0,
          0,
          0,
          0,
          0,
          0,
          0,
          0,
          0,
          0,
          0,
          0,
          0,
          0,
          0,
          0,
          0,
          0,
          0,
          0,
          0,
          0,
          0,
          0,
          0,
          0,
          0,
          0,
          0,
          0,
          0,
          0,
          0,
          0,
          0,
          0,
          0,
          0,
          0,
          0,
          0,
          0,
          0,
          0,
          0,
          0,
          0,
          0,
          0,
          0,
          0,
          0,
          0,
          0,
          0,
          0,
          0,
          0,
          0,
          0,
          0,
          0,
          0,
          0,
          0,
          0,
          0,
          0,
          0,
          0,
          0,
          0,
          0,
          0,
          0,
          0,
          0,
          0,
          0,
          0,
          0,
          0,
          0,
          0,
          0,
          0,
          0,
          0,
          0,
          0,
          0,
          0,
          0,
          0,
          0,
          0,
          0,
          0,
          0,
          0,
          0,
          0,
          0,
          0,
          0,
          0,
          0,
          0,
          0,
          0,
          0,
          0,
          0,
          0,
          0,
          0,
          0,
          0,
          0,
          0,
          0,
          0,
          0,
          0,
          0,
          0,
          0,
          0,
          0,
          0,
          0,
          0,
          0,
          0,
          0,
          0,
          0,
          0,
          0,
          0,
          0,
          0,
          0,
          0,
          0,
          0,
          0,
          0,
          0,
          0,
          0,
          0,
          0,
          0,
          0,
          0,
          0,
          0,
          0,
          0,
          0,
          0,
          0,
          0,
          0,
          0,
          0,
          0,
          0,
          0,
          0,
          0,
          0,
          0,
          0,
          0,
          0,
          0,
          0,
          0,
          0,
          0,
          0,
          0,
          0,
          0,
          0,
          0,
          0,
          0,
          0,
          0,
          0,
          0,
          0,
          0,
          0,
          0,
          0,
          0,
          0,
          0,
          0,
          0,
          0,
          0,
          0,
          0,
          0,
          0,
          0,
          0,
          0,
          0,
          0,
          0,
          0,
          0,
          0,
          0,
          0,
          0,
          0,
          0,
          0,
          0,
          0,
          0,
          0,
          0,
          0,
          0,
          0,
          0,
          0,
          0,
          0,
          0,
          0,
          0,
          0,
          0,
          0,
          0,
          0,
          0,
          0,
          0,
          0,
          0,
          0,
          0,
          0,
          0,
          0,
          0,
          0,
          0,
          0,
          0,
          0,
          0,
          0,
          0,
          0,
          0,
          0,
          0,
          0,
          0,
          0,
          0,
          0,
          0,
          0,
          0,
          0,
          0,
          0,
          0,
          0,
          0,
          0,
          0,
          0,
          0,
          0,
          0,
          0,
          0,
          0,
          0,
          0,
          0,
          0,
          0,
          0,
          0,
          0,
          0,
          0,
          0,
          0,
          0,
          0,
          0,
          0,
          0,
          0,
          0,
          0,
          0,
          0,
          0,
          0,
          0,
          0,
          0,
          0,
          0,
          0,
          0,
          0,
          0,
          0,
          0,
          0,
          0,
          0,
          0,
          0,
          0,
          0,
          0,
          0,
          0,
          0,
          0,
          0,
          0,
          0,
          0,
          0,
          0,
          0,
          0,
          0,
          0,
          0,
          0,
          0,
          0,
          0,
          0,
          0,
          0,
          0,
          0,
          0,
          0,
          0,
          0,
          0,
          0,
          0,
          0,
          0,
          0,
          0,
          0,
          0,
          0,
          0,
          0,
          0,
          0,
          0,
          0,
          0,
          0,
          0,
          0,
          0,
          0,
          0,
          0,
          0,
          0,
          0,
          0,
          0,
          0,
          0,
          0,
          0,
          0,
          0,
          0,
          0,
          0,
          0,
          0,
          0,
          0,
          0,
          0,
          0,
          0,
          0,
          0,
          0,
          0,
          0,
          0,
          0,
          0,
          0,
          0,
          0,
          0,
          0,
          0,
          0,
          0,
          0,
          0,
          0,
          0,
          0,
          0,
          0,
          0,
          0,
          0,
          0,
          0,
          0,
          0,
          0,
          0,
          0,
          0,
          0,
          0,
          0,
          0,
          0,
          0,
          0,
          0,
          0,
          0,
          0,
          0,
          0,
          0,
          0,
          0,
          0,
          0,
          0,
          0,
          0,
          0,
          0,
          0,
          0,
          0,
          0,
          0,
          0,
          0,
          0,
          0,
          0,
          0,
          0,
          0,
          0,
          0,
          0,
          0,
          0,
          0,
          0,
          0,
          0,
          0,
          0,
          0,
          0,
          0,
          0,
          0,
          0,
          0,
          0,
          0,
          0,
          0,
          0,
          0,
          0,
          0,
          0,
          0,
          0,
          0,
          0,
          0,
          0,
          0,
          0,
          0,
          0,
          0,
          0,
          0,
          0,
          0,
          0,
          0,
          0,
          0,
          0,
          0,
          0,
          0,
          0,
          0,
          0,
          0,
          0,
          0,
          0,
          0,
          0,
          0,
          0,
          0,
          0,
          0,
          0,
          0,
          0,
          0,
          0,
          0,
          0,
          0,
          0,
          0,
          0,
          0,
          0,
          0,
          0,
          0,
          0,
          0,
          0,
          0,
          0,
          0,
          0,
          0,
          0,
          0,
          0,
          0,
          0,
          0,
          0,
          0,
          0,
          0,
          0,
          0,
          0,
          0,
          0,
          0,
          0,
          0,
          0,
          0,
          0,
          0,
          0,
          0,
          0,
          0,
          0,
          0,
          0,
          0,
          0,
          0,
          0,
          0,
          0,
          0,
          0,
          0,
          0,
          0,
          0,
          0,
          0,
          0,
          0,
          0,
          0,
          0,
          0,
          0,
          0,
          0,
          0,
          0,
          0,
          0,
          0,
          0,
          0,
          0,
          0,
          0,
          0,
          0,
          0,
          0,
          0,
          0,
          0,
          0,
          0,
          0,
          0,
          0,
          0,
          0,
          0,
          0,
          0,
          0,
          0,
          0,
          0,
          0,
          0,
          0,
          0,
          0,
          0,
          0,
          0,
          0,
          0,
          0,
          0,
          0,
          0,
          0,
          0,
          0,
          0,
          0,
          0,
          0,
          0,
          0,
          0,
          0,
          0,
          0,
          0,
          0,
          0,
          0,
          0,
          0,
          0,
          0,
          0,
          0,
          0,
          0,
          0,
          0,
          0,
          0,
          0,
          0,
          0,
          0,
          0,
          0,
          0,
          0,
          0,
          0,
          0,
          0,
          0,
          0,
          0,
          0,
          0,
          0,
          0,
          0,
          0,
          0,
          0,
          0,
          0,
          0,
          0,
          0,
          0,
          0,
          0,
          0,
          0,
          0,
          0,
          0,
          0,
          0,
          0,
          0,
          0,
          0,
          0,
          0,
          0,
          0,
          0,
          0,
          0,
          0,
          0,
          0,
          0,
          0,
          0,
          0,
          0,
          0,
          0,
          0,
          0,
          0,
          0,
          0,
          0,
          0,
          0,
          0,
          0,
          0,
          0,
          0,
          0,
          0,
          0,
          0,
          0,
          0,
          0,
          0,
          0,
          0,
          0,
          0,
          0,
          0,
          0,
          0,
          0,
          0,
          0,
          0,
          0,
          0,
          0,
          0,
          0,
          0,
          0,
          0,
          0,
          0,
          0,
          0,
          0,
          0,
          0,
          0,
          0,
          0,
          0,
          0,
          0,
          0,
          0,
          0,
          0,
          0,
          0,
          0,
          0,
          0,
          0,
          0,
          0,
          0,
          0,
          0,
          0,
          0,
          0,
          0,
          0,
          0,
          0,
          0,
          0,
          0,
          0,
          0,
          0,
          0,
          0,
          0,
          0,
          0,
          0,
          0,
          0,
          0,
          0,
          0,
          0,
          0,
          0,
          0,
          0,
          0,
          0,
          0,
          0,
          0,
          0,
          0,
          0,
          0,
          0,
          0,
          0,
          0,
          0,
          0,
          0,
          0,
          0,
          0,
          0,
          0,
          0,
          0,
          0,
          0,
          0,
          0,
          0,
          0,
          0,
          0,
          0,
          0,
          0,
          0,
          0,
          0,
          0,
          0,
          0,
          0,
          0,
          0,
          0,
          0,
          0,
          0,
          0,
          0,
          0,
          0,
          0,
          0,
          0,
          0,
          0,
          0,
          0,
          0,
          0,
          0,
          0,
          0,
          0,
          0,
          0,
          0,
          0,
          0,
          0,
          0,
          0,
          0,
          0,
          0,
          0,
          0,
          0,
          0,
          0,
          0,
          0,
          0,
          0,
          0,
          0,
          0,
          0,
          0,
          0,
          0,
          0,
          0,
          0,
          0,
          0,
          0,
          0,
          0,
          0,
          0,
          0,
          0,
          0,
          0,
          0,
          0,
          0,
          0,
          0,
          0,
          0,
          0,
          0,
          0,
          0,
          0,
          0,
          0,
          0,
          0,
          0,
          0,
          0,
          0,
          0,
          0,
          0,
          0,
          0,
          0,
          0,
          0,
          0,
          0,
          0,
          0,
          0,
          0,
          0,
          0,
          0,
          0,
          0,
          0,
          0,
          0,
          0,
          0,
          0,
          0,
          0,
          0,
          0,
          0,
          0,
          0,
          0,
          0,
          0,
          0,
          0,
          0,
          0,
          0,
          0,
          0,
          0,
          0,
          0,
          0,
          0,
          0,
          0,
          0,
          0,
          0,
          0,
          0,
          0,
          0,
          0,
          0,
          0,
          0,
          0,
          0,
          0,
          0,
          0,
          0,
          0,
          0,
          0,
          0,
          0,
          0,
          0,
          0,
          0,
          0,
          0,
          0,
          0,
          0,
          0,
          0,
          0,
          0,
          0,
          0,
          0,
          0,
          0,
          0,
          0,
          0,
          0,
          0,
          0,
          0,
          0,
          0,
          0,
          0,
          0,
          0,
          0,
          0,
          0,
          0,
          0,
          0,
          0,
          0,
          0,
          0,
          0,
          0,
          0,
          0,
          0,
          0,
          0,
          0,
          0,
          0,
          0,
          0,
          0,
          0,
          0,
          0,
          0,
          0,
          0,
          0,
          0,
          0,
          0,
          0,
          0,
          0,
          0,
          0,
          0,
          0,
          0,
          0,
          0,
          0,
          0,
          0,
          0,
          0,
          0,
          0,
          0,
          0,
          0,
          0,
          0,
          0,
          0,
          0,
          0,
          0,
          0,
          0,
          0,
          0,
          0,
          0,
          0,
          0,
          0,
          0,
          0,
          0,
          0,
          0,
          0,
          0,
          0,
          0,
          0,
          0,
          0,
          0,
          0,
          0,
          0,
          0,
          0,
          0,
          0,
          0,
          0,
          0,
          0,
          0,
          0,
          0,
          0,
          0,
          0,
          0,
          0,
          0,
          0,
          0,
          0,
          0,
          0,
          0,
          0,
          0,
          0,
          0,
          0,
          0,
          0,
          0,
          0,
          0,
          0,
          0,
          0,
          0,
          0,
          0,
          0,
          0,
          0,
          0,
          0,
          0,
          0,
          0,
          0,
          0,
          0,
          0,
          0,
          0,
          0,
          0,
          0,
          0,
          0,
          0,
          0,
          0,
          0,
          0,
          0,
          0,
          0,
          0,
          0,
          0,
          0,
          0,
          0,
          0,
          0,
          0,
          0,
          0,
          0,
          0,
          0,
          0,
          0,
          0,
          0,
          0,
          0,
          0,
          0,
          0,
          0,
          0,
          0,
          0,
          0,
          0,
          0,
          0,
          0,
          0,
          0,
          0,
          0,
          0,
          0,
          0,
          0
         ],
         "yaxis": "y"
        },
        {
         "customdata": [
          [
           "0.0% Portfolio"
          ],
          [
           "0.0% Portfolio"
          ],
          [
           "0.0% Portfolio"
          ],
          [
           "0.0% Portfolio"
          ],
          [
           "0.0% Portfolio"
          ],
          [
           "0.0% Portfolio"
          ],
          [
           "0.0% Portfolio"
          ],
          [
           "0.0% Portfolio"
          ],
          [
           "0.0% Portfolio"
          ],
          [
           "0.0% Portfolio"
          ],
          [
           "0.0% Portfolio"
          ],
          [
           "0.0% Portfolio"
          ],
          [
           "0.0% Portfolio"
          ],
          [
           "0.0% Portfolio"
          ],
          [
           "0.0% Portfolio"
          ],
          [
           "0.0% Portfolio"
          ],
          [
           "0.0% Portfolio"
          ],
          [
           "0.0% Portfolio"
          ],
          [
           "0.0% Portfolio"
          ],
          [
           "0.0% Portfolio"
          ],
          [
           "0.0% Portfolio"
          ],
          [
           "0.0% Portfolio"
          ],
          [
           "0.0% Portfolio"
          ],
          [
           "0.0% Portfolio"
          ],
          [
           "0.0% Portfolio"
          ],
          [
           "0.0% Portfolio"
          ],
          [
           "0.0% Portfolio"
          ],
          [
           "0.0% Portfolio"
          ],
          [
           "0.0% Portfolio"
          ],
          [
           "0.0% Portfolio"
          ],
          [
           "0.0% Portfolio"
          ],
          [
           "0.0% Portfolio"
          ],
          [
           "0.0% Portfolio"
          ],
          [
           "0.0% Portfolio"
          ],
          [
           "0.0% Portfolio"
          ],
          [
           "0.0% Portfolio"
          ],
          [
           "0.0% Portfolio"
          ],
          [
           "0.0% Portfolio"
          ],
          [
           "0.0% Portfolio"
          ],
          [
           "0.0% Portfolio"
          ],
          [
           "0.0% Portfolio"
          ],
          [
           "0.0% Portfolio"
          ],
          [
           "0.0% Portfolio"
          ],
          [
           "0.0% Portfolio"
          ],
          [
           "0.0% Portfolio"
          ],
          [
           "0.0% Portfolio"
          ],
          [
           "0.0% Portfolio"
          ],
          [
           "0.0% Portfolio"
          ],
          [
           "0.0% Portfolio"
          ],
          [
           "0.0% Portfolio"
          ],
          [
           "0.0% Portfolio"
          ],
          [
           "0.0% Portfolio"
          ],
          [
           "0.0% Portfolio"
          ],
          [
           "0.0% Portfolio"
          ],
          [
           "0.0% Portfolio"
          ],
          [
           "0.0% Portfolio"
          ],
          [
           "0.0% Portfolio"
          ],
          [
           "0.0% Portfolio"
          ],
          [
           "0.0% Portfolio"
          ],
          [
           "0.0% Portfolio"
          ],
          [
           "0.0% Portfolio"
          ],
          [
           "0.0% Portfolio"
          ],
          [
           "0.0% Portfolio"
          ],
          [
           "0.0% Portfolio"
          ],
          [
           "0.0% Portfolio"
          ],
          [
           "0.0% Portfolio"
          ],
          [
           "0.0% Portfolio"
          ],
          [
           "0.0% Portfolio"
          ],
          [
           "0.0% Portfolio"
          ],
          [
           "0.0% Portfolio"
          ],
          [
           "0.0% Portfolio"
          ],
          [
           "0.0% Portfolio"
          ],
          [
           "0.0% Portfolio"
          ],
          [
           "0.0% Portfolio"
          ],
          [
           "0.0% Portfolio"
          ],
          [
           "0.0% Portfolio"
          ],
          [
           "0.0% Portfolio"
          ],
          [
           "0.0% Portfolio"
          ],
          [
           "0.0% Portfolio"
          ],
          [
           "0.0% Portfolio"
          ],
          [
           "0.0% Portfolio"
          ],
          [
           "0.0% Portfolio"
          ],
          [
           "0.0% Portfolio"
          ],
          [
           "0.0% Portfolio"
          ],
          [
           "0.0% Portfolio"
          ],
          [
           "0.0% Portfolio"
          ],
          [
           "0.0% Portfolio"
          ],
          [
           "0.0% Portfolio"
          ],
          [
           "0.0% Portfolio"
          ],
          [
           "0.0% Portfolio"
          ],
          [
           "0.0% Portfolio"
          ],
          [
           "0.0% Portfolio"
          ],
          [
           "0.0% Portfolio"
          ],
          [
           "0.0% Portfolio"
          ],
          [
           "0.0% Portfolio"
          ],
          [
           "0.0% Portfolio"
          ],
          [
           "0.0% Portfolio"
          ],
          [
           "0.0% Portfolio"
          ],
          [
           "0.0% Portfolio"
          ],
          [
           "0.0% Portfolio"
          ],
          [
           "0.0% Portfolio"
          ],
          [
           "0.0% Portfolio"
          ],
          [
           "0.0% Portfolio"
          ],
          [
           "0.0% Portfolio"
          ],
          [
           "0.0% Portfolio"
          ],
          [
           "0.0% Portfolio"
          ],
          [
           "0.0% Portfolio"
          ],
          [
           "0.0% Portfolio"
          ],
          [
           "0.0% Portfolio"
          ],
          [
           "0.0% Portfolio"
          ],
          [
           "0.0% Portfolio"
          ],
          [
           "0.0% Portfolio"
          ],
          [
           "0.0% Portfolio"
          ],
          [
           "0.0% Portfolio"
          ],
          [
           "0.0% Portfolio"
          ],
          [
           "0.0% Portfolio"
          ],
          [
           "0.0% Portfolio"
          ],
          [
           "0.0% Portfolio"
          ],
          [
           "0.0% Portfolio"
          ],
          [
           "0.0% Portfolio"
          ],
          [
           "0.0% Portfolio"
          ],
          [
           "0.0% Portfolio"
          ],
          [
           "0.0% Portfolio"
          ],
          [
           "0.0% Portfolio"
          ],
          [
           "0.0% Portfolio"
          ],
          [
           "0.0% Portfolio"
          ],
          [
           "0.0% Portfolio"
          ],
          [
           "0.0% Portfolio"
          ],
          [
           "0.0% Portfolio"
          ],
          [
           "0.0% Portfolio"
          ],
          [
           "0.0% Portfolio"
          ],
          [
           "0.0% Portfolio"
          ],
          [
           "0.0% Portfolio"
          ],
          [
           "0.0% Portfolio"
          ],
          [
           "0.0% Portfolio"
          ],
          [
           "0.0% Portfolio"
          ],
          [
           "0.0% Portfolio"
          ],
          [
           "0.0% Portfolio"
          ],
          [
           "0.0% Portfolio"
          ],
          [
           "0.0% Portfolio"
          ],
          [
           "0.0% Portfolio"
          ],
          [
           "0.0% Portfolio"
          ],
          [
           "0.0% Portfolio"
          ],
          [
           "0.0% Portfolio"
          ],
          [
           "0.0% Portfolio"
          ],
          [
           "0.0% Portfolio"
          ],
          [
           "0.0% Portfolio"
          ],
          [
           "0.0% Portfolio"
          ],
          [
           "0.0% Portfolio"
          ],
          [
           "0.0% Portfolio"
          ],
          [
           "0.0% Portfolio"
          ],
          [
           "0.0% Portfolio"
          ],
          [
           "0.0% Portfolio"
          ],
          [
           "0.0% Portfolio"
          ],
          [
           "0.0% Portfolio"
          ],
          [
           "0.0% Portfolio"
          ],
          [
           "0.0% Portfolio"
          ],
          [
           "0.0% Portfolio"
          ],
          [
           "0.0% Portfolio"
          ],
          [
           "0.0% Portfolio"
          ],
          [
           "0.0% Portfolio"
          ],
          [
           "0.0% Portfolio"
          ],
          [
           "0.0% Portfolio"
          ],
          [
           "0.0% Portfolio"
          ],
          [
           "0.0% Portfolio"
          ],
          [
           "0.0% Portfolio"
          ],
          [
           "0.0% Portfolio"
          ],
          [
           "0.0% Portfolio"
          ],
          [
           "0.0% Portfolio"
          ],
          [
           "0.0% Portfolio"
          ],
          [
           "0.0% Portfolio"
          ],
          [
           "0.0% Portfolio"
          ],
          [
           "0.0% Portfolio"
          ],
          [
           "0.0% Portfolio"
          ],
          [
           "0.0% Portfolio"
          ],
          [
           "0.0% Portfolio"
          ],
          [
           "0.0% Portfolio"
          ],
          [
           "0.0% Portfolio"
          ],
          [
           "0.0% Portfolio"
          ],
          [
           "0.0% Portfolio"
          ],
          [
           "0.0% Portfolio"
          ],
          [
           "0.0% Portfolio"
          ],
          [
           "0.0% Portfolio"
          ],
          [
           "0.0% Portfolio"
          ],
          [
           "0.0% Portfolio"
          ],
          [
           "0.0% Portfolio"
          ],
          [
           "0.0% Portfolio"
          ],
          [
           "0.0% Portfolio"
          ],
          [
           "0.0% Portfolio"
          ],
          [
           "0.0% Portfolio"
          ],
          [
           "0.0% Portfolio"
          ],
          [
           "0.0% Portfolio"
          ],
          [
           "0.0% Portfolio"
          ],
          [
           "0.0% Portfolio"
          ],
          [
           "0.0% Portfolio"
          ],
          [
           "0.0% Portfolio"
          ],
          [
           "0.0% Portfolio"
          ],
          [
           "0.0% Portfolio"
          ],
          [
           "0.0% Portfolio"
          ],
          [
           "0.0% Portfolio"
          ],
          [
           "0.0% Portfolio"
          ],
          [
           "0.0% Portfolio"
          ],
          [
           "0.0% Portfolio"
          ],
          [
           "0.0% Portfolio"
          ],
          [
           "0.0% Portfolio"
          ],
          [
           "0.0% Portfolio"
          ],
          [
           "0.0% Portfolio"
          ],
          [
           "0.0% Portfolio"
          ],
          [
           "0.0% Portfolio"
          ],
          [
           "0.0% Portfolio"
          ],
          [
           "0.0% Portfolio"
          ],
          [
           "0.0% Portfolio"
          ],
          [
           "0.0% Portfolio"
          ],
          [
           "0.0% Portfolio"
          ],
          [
           "0.0% Portfolio"
          ],
          [
           "0.0% Portfolio"
          ],
          [
           "0.0% Portfolio"
          ],
          [
           "0.0% Portfolio"
          ],
          [
           "0.0% Portfolio"
          ],
          [
           "0.0% Portfolio"
          ],
          [
           "0.0% Portfolio"
          ],
          [
           "0.0% Portfolio"
          ],
          [
           "0.0% Portfolio"
          ],
          [
           "0.0% Portfolio"
          ],
          [
           "0.0% Portfolio"
          ],
          [
           "0.0% Portfolio"
          ],
          [
           "0.0% Portfolio"
          ],
          [
           "0.0% Portfolio"
          ],
          [
           "0.0% Portfolio"
          ],
          [
           "0.0% Portfolio"
          ],
          [
           "0.0% Portfolio"
          ],
          [
           "0.0% Portfolio"
          ],
          [
           "0.0% Portfolio"
          ],
          [
           "0.0% Portfolio"
          ],
          [
           "0.0% Portfolio"
          ],
          [
           "0.0% Portfolio"
          ],
          [
           "0.0% Portfolio"
          ],
          [
           "0.0% Portfolio"
          ],
          [
           "0.0% Portfolio"
          ],
          [
           "0.0% Portfolio"
          ],
          [
           "0.0% Portfolio"
          ],
          [
           "0.0% Portfolio"
          ],
          [
           "0.0% Portfolio"
          ],
          [
           "0.0% Portfolio"
          ],
          [
           "0.0% Portfolio"
          ],
          [
           "0.0% Portfolio"
          ],
          [
           "0.0% Portfolio"
          ],
          [
           "0.0% Portfolio"
          ],
          [
           "0.0% Portfolio"
          ],
          [
           "0.0% Portfolio"
          ],
          [
           "0.0% Portfolio"
          ],
          [
           "0.0% Portfolio"
          ],
          [
           "0.0% Portfolio"
          ],
          [
           "0.0% Portfolio"
          ],
          [
           "0.0% Portfolio"
          ],
          [
           "0.0% Portfolio"
          ],
          [
           "0.0% Portfolio"
          ],
          [
           "0.0% Portfolio"
          ],
          [
           "0.0% Portfolio"
          ],
          [
           "0.0% Portfolio"
          ],
          [
           "0.0% Portfolio"
          ],
          [
           "0.0% Portfolio"
          ],
          [
           "0.0% Portfolio"
          ],
          [
           "0.0% Portfolio"
          ],
          [
           "0.0% Portfolio"
          ],
          [
           "0.0% Portfolio"
          ],
          [
           "0.0% Portfolio"
          ],
          [
           "0.0% Portfolio"
          ],
          [
           "0.0% Portfolio"
          ],
          [
           "0.0% Portfolio"
          ],
          [
           "0.0% Portfolio"
          ],
          [
           "0.0% Portfolio"
          ],
          [
           "0.0% Portfolio"
          ],
          [
           "0.0% Portfolio"
          ],
          [
           "0.0% Portfolio"
          ],
          [
           "0.0% Portfolio"
          ],
          [
           "0.0% Portfolio"
          ],
          [
           "0.0% Portfolio"
          ],
          [
           "0.0% Portfolio"
          ],
          [
           "0.0% Portfolio"
          ],
          [
           "0.0% Portfolio"
          ],
          [
           "0.0% Portfolio"
          ],
          [
           "0.0% Portfolio"
          ],
          [
           "0.0% Portfolio"
          ],
          [
           "0.0% Portfolio"
          ],
          [
           "0.0% Portfolio"
          ],
          [
           "0.0% Portfolio"
          ],
          [
           "0.0% Portfolio"
          ],
          [
           "0.0% Portfolio"
          ],
          [
           "0.0% Portfolio"
          ],
          [
           "0.0% Portfolio"
          ],
          [
           "0.0% Portfolio"
          ],
          [
           "0.0% Portfolio"
          ],
          [
           "0.0% Portfolio"
          ],
          [
           "0.0% Portfolio"
          ],
          [
           "0.0% Portfolio"
          ],
          [
           "0.0% Portfolio"
          ],
          [
           "0.0% Portfolio"
          ],
          [
           "0.0% Portfolio"
          ],
          [
           "0.0% Portfolio"
          ],
          [
           "0.0% Portfolio"
          ],
          [
           "0.0% Portfolio"
          ],
          [
           "0.0% Portfolio"
          ],
          [
           "0.0% Portfolio"
          ],
          [
           "0.0% Portfolio"
          ],
          [
           "0.0% Portfolio"
          ],
          [
           "0.0% Portfolio"
          ],
          [
           "0.0% Portfolio"
          ],
          [
           "0.0% Portfolio"
          ],
          [
           "0.0% Portfolio"
          ],
          [
           "0.0% Portfolio"
          ],
          [
           "0.0% Portfolio"
          ],
          [
           "0.0% Portfolio"
          ],
          [
           "0.0% Portfolio"
          ],
          [
           "0.0% Portfolio"
          ],
          [
           "0.0% Portfolio"
          ],
          [
           "0.0% Portfolio"
          ],
          [
           "0.0% Portfolio"
          ],
          [
           "0.0% Portfolio"
          ],
          [
           "0.0% Portfolio"
          ],
          [
           "0.0% Portfolio"
          ],
          [
           "0.0% Portfolio"
          ],
          [
           "0.0% Portfolio"
          ],
          [
           "0.0% Portfolio"
          ],
          [
           "0.0% Portfolio"
          ],
          [
           "0.0% Portfolio"
          ],
          [
           "0.0% Portfolio"
          ],
          [
           "0.0% Portfolio"
          ],
          [
           "0.0% Portfolio"
          ],
          [
           "0.0% Portfolio"
          ],
          [
           "0.0% Portfolio"
          ],
          [
           "0.0% Portfolio"
          ],
          [
           "0.0% Portfolio"
          ],
          [
           "0.0% Portfolio"
          ],
          [
           "0.0% Portfolio"
          ],
          [
           "0.0% Portfolio"
          ],
          [
           "0.0% Portfolio"
          ],
          [
           "0.0% Portfolio"
          ],
          [
           "0.0% Portfolio"
          ],
          [
           "0.0% Portfolio"
          ],
          [
           "0.0% Portfolio"
          ],
          [
           "0.0% Portfolio"
          ],
          [
           "0.0% Portfolio"
          ],
          [
           "0.0% Portfolio"
          ],
          [
           "0.0% Portfolio"
          ],
          [
           "0.0% Portfolio"
          ],
          [
           "0.0% Portfolio"
          ],
          [
           "0.0% Portfolio"
          ],
          [
           "0.0% Portfolio"
          ],
          [
           "0.0% Portfolio"
          ],
          [
           "0.0% Portfolio"
          ],
          [
           "0.0% Portfolio"
          ],
          [
           "0.0% Portfolio"
          ],
          [
           "0.0% Portfolio"
          ],
          [
           "0.0% Portfolio"
          ],
          [
           "0.0% Portfolio"
          ],
          [
           "0.0% Portfolio"
          ],
          [
           "0.0% Portfolio"
          ],
          [
           "0.0% Portfolio"
          ],
          [
           "0.0% Portfolio"
          ],
          [
           "0.0% Portfolio"
          ],
          [
           "0.0% Portfolio"
          ],
          [
           "0.0% Portfolio"
          ],
          [
           "0.0% Portfolio"
          ],
          [
           "0.0% Portfolio"
          ],
          [
           "0.0% Portfolio"
          ],
          [
           "0.0% Portfolio"
          ],
          [
           "0.0% Portfolio"
          ],
          [
           "0.0% Portfolio"
          ],
          [
           "0.0% Portfolio"
          ],
          [
           "0.0% Portfolio"
          ],
          [
           "0.0% Portfolio"
          ],
          [
           "0.0% Portfolio"
          ],
          [
           "0.0% Portfolio"
          ],
          [
           "0.0% Portfolio"
          ],
          [
           "0.0% Portfolio"
          ],
          [
           "0.0% Portfolio"
          ],
          [
           "0.0% Portfolio"
          ],
          [
           "0.0% Portfolio"
          ],
          [
           "0.0% Portfolio"
          ],
          [
           "0.0% Portfolio"
          ],
          [
           "0.0% Portfolio"
          ],
          [
           "0.0% Portfolio"
          ],
          [
           "0.0% Portfolio"
          ],
          [
           "0.0% Portfolio"
          ],
          [
           "0.0% Portfolio"
          ],
          [
           "0.0% Portfolio"
          ],
          [
           "0.0% Portfolio"
          ],
          [
           "0.0% Portfolio"
          ],
          [
           "0.0% Portfolio"
          ],
          [
           "0.0% Portfolio"
          ],
          [
           "0.0% Portfolio"
          ],
          [
           "0.0% Portfolio"
          ],
          [
           "0.0% Portfolio"
          ],
          [
           "0.0% Portfolio"
          ],
          [
           "0.0% Portfolio"
          ],
          [
           "0.0% Portfolio"
          ],
          [
           "0.0% Portfolio"
          ],
          [
           "0.0% Portfolio"
          ],
          [
           "0.0% Portfolio"
          ],
          [
           "0.0% Portfolio"
          ],
          [
           "0.0% Portfolio"
          ],
          [
           "0.0% Portfolio"
          ],
          [
           "0.0% Portfolio"
          ],
          [
           "0.0% Portfolio"
          ],
          [
           "0.0% Portfolio"
          ],
          [
           "0.0% Portfolio"
          ],
          [
           "0.0% Portfolio"
          ],
          [
           "0.0% Portfolio"
          ],
          [
           "0.0% Portfolio"
          ],
          [
           "0.0% Portfolio"
          ],
          [
           "0.0% Portfolio"
          ],
          [
           "0.0% Portfolio"
          ],
          [
           "0.0% Portfolio"
          ],
          [
           "0.0% Portfolio"
          ],
          [
           "0.0% Portfolio"
          ],
          [
           "0.0% Portfolio"
          ],
          [
           "0.0% Portfolio"
          ],
          [
           "0.0% Portfolio"
          ],
          [
           "0.0% Portfolio"
          ],
          [
           "0.0% Portfolio"
          ],
          [
           "0.0% Portfolio"
          ],
          [
           "0.0% Portfolio"
          ],
          [
           "0.0% Portfolio"
          ],
          [
           "0.0% Portfolio"
          ],
          [
           "0.0% Portfolio"
          ],
          [
           "0.0% Portfolio"
          ],
          [
           "0.0% Portfolio"
          ],
          [
           "0.0% Portfolio"
          ],
          [
           "0.0% Portfolio"
          ],
          [
           "0.0% Portfolio"
          ],
          [
           "0.0% Portfolio"
          ],
          [
           "0.0% Portfolio"
          ],
          [
           "0.0% Portfolio"
          ],
          [
           "0.0% Portfolio"
          ],
          [
           "0.0% Portfolio"
          ],
          [
           "0.0% Portfolio"
          ],
          [
           "0.0% Portfolio"
          ],
          [
           "0.0% Portfolio"
          ],
          [
           "0.0% Portfolio"
          ],
          [
           "0.0% Portfolio"
          ],
          [
           "0.0% Portfolio"
          ],
          [
           "0.0% Portfolio"
          ],
          [
           "0.0% Portfolio"
          ],
          [
           "0.0% Portfolio"
          ],
          [
           "0.0% Portfolio"
          ],
          [
           "0.0% Portfolio"
          ],
          [
           "0.0% Portfolio"
          ],
          [
           "0.0% Portfolio"
          ],
          [
           "0.0% Portfolio"
          ],
          [
           "0.0% Portfolio"
          ],
          [
           "0.0% Portfolio"
          ],
          [
           "0.0% Portfolio"
          ],
          [
           "0.0% Portfolio"
          ],
          [
           "0.0% Portfolio"
          ],
          [
           "0.0% Portfolio"
          ],
          [
           "0.0% Portfolio"
          ],
          [
           "0.0% Portfolio"
          ],
          [
           "0.0% Portfolio"
          ],
          [
           "0.0% Portfolio"
          ],
          [
           "0.0% Portfolio"
          ],
          [
           "0.0% Portfolio"
          ],
          [
           "0.0% Portfolio"
          ],
          [
           "0.0% Portfolio"
          ],
          [
           "0.0% Portfolio"
          ],
          [
           "0.0% Portfolio"
          ],
          [
           "0.0% Portfolio"
          ],
          [
           "0.0% Portfolio"
          ],
          [
           "0.0% Portfolio"
          ],
          [
           "0.0% Portfolio"
          ],
          [
           "0.0% Portfolio"
          ],
          [
           "0.0% Portfolio"
          ],
          [
           "0.0% Portfolio"
          ],
          [
           "0.0% Portfolio"
          ],
          [
           "0.0% Portfolio"
          ],
          [
           "0.0% Portfolio"
          ],
          [
           "0.0% Portfolio"
          ],
          [
           "0.0% Portfolio"
          ],
          [
           "0.0% Portfolio"
          ],
          [
           "0.0% Portfolio"
          ],
          [
           "0.0% Portfolio"
          ],
          [
           "0.0% Portfolio"
          ],
          [
           "0.0% Portfolio"
          ],
          [
           "0.0% Portfolio"
          ],
          [
           "0.0% Portfolio"
          ],
          [
           "0.0% Portfolio"
          ],
          [
           "0.0% Portfolio"
          ],
          [
           "0.0% Portfolio"
          ],
          [
           "0.0% Portfolio"
          ],
          [
           "0.0% Portfolio"
          ],
          [
           "0.0% Portfolio"
          ],
          [
           "0.0% Portfolio"
          ],
          [
           "0.0% Portfolio"
          ],
          [
           "0.0% Portfolio"
          ],
          [
           "0.0% Portfolio"
          ],
          [
           "0.0% Portfolio"
          ],
          [
           "0.0% Portfolio"
          ],
          [
           "0.0% Portfolio"
          ],
          [
           "0.0% Portfolio"
          ],
          [
           "0.0% Portfolio"
          ],
          [
           "0.0% Portfolio"
          ],
          [
           "0.0% Portfolio"
          ],
          [
           "0.0% Portfolio"
          ],
          [
           "0.0% Portfolio"
          ],
          [
           "0.0% Portfolio"
          ],
          [
           "0.0% Portfolio"
          ],
          [
           "0.0% Portfolio"
          ],
          [
           "0.0% Portfolio"
          ],
          [
           "0.0% Portfolio"
          ],
          [
           "0.0% Portfolio"
          ],
          [
           "0.0% Portfolio"
          ],
          [
           "0.0% Portfolio"
          ],
          [
           "0.0% Portfolio"
          ],
          [
           "0.0% Portfolio"
          ],
          [
           "0.0% Portfolio"
          ],
          [
           "0.0% Portfolio"
          ],
          [
           "0.0% Portfolio"
          ],
          [
           "0.0% Portfolio"
          ],
          [
           "0.0% Portfolio"
          ],
          [
           "0.0% Portfolio"
          ],
          [
           "0.0% Portfolio"
          ],
          [
           "0.0% Portfolio"
          ],
          [
           "0.0% Portfolio"
          ],
          [
           "0.0% Portfolio"
          ],
          [
           "0.0% Portfolio"
          ],
          [
           "0.0% Portfolio"
          ],
          [
           "0.0% Portfolio"
          ],
          [
           "0.0% Portfolio"
          ],
          [
           "0.0% Portfolio"
          ],
          [
           "0.0% Portfolio"
          ],
          [
           "0.0% Portfolio"
          ],
          [
           "0.0% Portfolio"
          ],
          [
           "0.0% Portfolio"
          ],
          [
           "0.0% Portfolio"
          ],
          [
           "0.0% Portfolio"
          ],
          [
           "0.0% Portfolio"
          ],
          [
           "0.0% Portfolio"
          ],
          [
           "0.0% Portfolio"
          ],
          [
           "0.0% Portfolio"
          ],
          [
           "0.0% Portfolio"
          ],
          [
           "0.0% Portfolio"
          ],
          [
           "0.0% Portfolio"
          ],
          [
           "0.0% Portfolio"
          ],
          [
           "0.0% Portfolio"
          ],
          [
           "0.0% Portfolio"
          ],
          [
           "0.0% Portfolio"
          ],
          [
           "0.0% Portfolio"
          ],
          [
           "0.0% Portfolio"
          ],
          [
           "0.0% Portfolio"
          ],
          [
           "0.0% Portfolio"
          ],
          [
           "0.0% Portfolio"
          ],
          [
           "0.0% Portfolio"
          ],
          [
           "0.0% Portfolio"
          ],
          [
           "0.0% Portfolio"
          ],
          [
           "0.0% Portfolio"
          ],
          [
           "0.0% Portfolio"
          ],
          [
           "0.0% Portfolio"
          ],
          [
           "0.0% Portfolio"
          ],
          [
           "0.0% Portfolio"
          ],
          [
           "0.0% Portfolio"
          ],
          [
           "0.0% Portfolio"
          ],
          [
           "0.0% Portfolio"
          ],
          [
           "0.0% Portfolio"
          ],
          [
           "0.0% Portfolio"
          ],
          [
           "0.0% Portfolio"
          ],
          [
           "0.0% Portfolio"
          ],
          [
           "0.0% Portfolio"
          ],
          [
           "0.0% Portfolio"
          ],
          [
           "0.0% Portfolio"
          ],
          [
           "0.0% Portfolio"
          ],
          [
           "0.0% Portfolio"
          ],
          [
           "0.0% Portfolio"
          ],
          [
           "0.0% Portfolio"
          ],
          [
           "0.0% Portfolio"
          ],
          [
           "0.0% Portfolio"
          ],
          [
           "0.0% Portfolio"
          ],
          [
           "0.0% Portfolio"
          ],
          [
           "0.0% Portfolio"
          ],
          [
           "0.0% Portfolio"
          ],
          [
           "0.0% Portfolio"
          ],
          [
           "0.0% Portfolio"
          ],
          [
           "0.0% Portfolio"
          ],
          [
           "0.0% Portfolio"
          ],
          [
           "0.0% Portfolio"
          ],
          [
           "0.0% Portfolio"
          ],
          [
           "0.0% Portfolio"
          ],
          [
           "0.0% Portfolio"
          ],
          [
           "0.0% Portfolio"
          ],
          [
           "0.0% Portfolio"
          ],
          [
           "0.0% Portfolio"
          ],
          [
           "0.0% Portfolio"
          ],
          [
           "0.0% Portfolio"
          ],
          [
           "0.0% Portfolio"
          ],
          [
           "0.0% Portfolio"
          ],
          [
           "0.0% Portfolio"
          ],
          [
           "0.0% Portfolio"
          ],
          [
           "0.0% Portfolio"
          ],
          [
           "0.0% Portfolio"
          ],
          [
           "0.0% Portfolio"
          ],
          [
           "0.0% Portfolio"
          ],
          [
           "0.0% Portfolio"
          ],
          [
           "0.0% Portfolio"
          ],
          [
           "0.0% Portfolio"
          ],
          [
           "0.0% Portfolio"
          ],
          [
           "0.0% Portfolio"
          ],
          [
           "0.0% Portfolio"
          ],
          [
           "0.0% Portfolio"
          ],
          [
           "0.0% Portfolio"
          ],
          [
           "0.0% Portfolio"
          ],
          [
           "0.0% Portfolio"
          ],
          [
           "0.0% Portfolio"
          ],
          [
           "0.0% Portfolio"
          ],
          [
           "0.0% Portfolio"
          ],
          [
           "0.0% Portfolio"
          ],
          [
           "0.0% Portfolio"
          ],
          [
           "0.0% Portfolio"
          ],
          [
           "0.0% Portfolio"
          ],
          [
           "0.0% Portfolio"
          ],
          [
           "0.0% Portfolio"
          ],
          [
           "0.0% Portfolio"
          ],
          [
           "0.0% Portfolio"
          ],
          [
           "0.0% Portfolio"
          ],
          [
           "0.0% Portfolio"
          ],
          [
           "0.0% Portfolio"
          ],
          [
           "0.0% Portfolio"
          ],
          [
           "0.0% Portfolio"
          ],
          [
           "0.0% Portfolio"
          ],
          [
           "0.0% Portfolio"
          ],
          [
           "0.0% Portfolio"
          ],
          [
           "0.0% Portfolio"
          ],
          [
           "0.0% Portfolio"
          ],
          [
           "0.0% Portfolio"
          ],
          [
           "0.0% Portfolio"
          ],
          [
           "0.0% Portfolio"
          ],
          [
           "0.0% Portfolio"
          ],
          [
           "0.0% Portfolio"
          ],
          [
           "0.0% Portfolio"
          ],
          [
           "0.0% Portfolio"
          ],
          [
           "0.0% Portfolio"
          ],
          [
           "0.0% Portfolio"
          ],
          [
           "0.0% Portfolio"
          ],
          [
           "0.0% Portfolio"
          ],
          [
           "0.0% Portfolio"
          ],
          [
           "0.0% Portfolio"
          ],
          [
           "0.0% Portfolio"
          ],
          [
           "0.0% Portfolio"
          ],
          [
           "0.0% Portfolio"
          ],
          [
           "0.0% Portfolio"
          ],
          [
           "0.0% Portfolio"
          ],
          [
           "0.0% Portfolio"
          ],
          [
           "0.0% Portfolio"
          ],
          [
           "0.0% Portfolio"
          ],
          [
           "0.0% Portfolio"
          ],
          [
           "0.0% Portfolio"
          ],
          [
           "0.0% Portfolio"
          ],
          [
           "0.0% Portfolio"
          ],
          [
           "0.0% Portfolio"
          ],
          [
           "0.0% Portfolio"
          ],
          [
           "0.0% Portfolio"
          ],
          [
           "0.0% Portfolio"
          ],
          [
           "0.0% Portfolio"
          ],
          [
           "0.0% Portfolio"
          ],
          [
           "0.0% Portfolio"
          ],
          [
           "0.0% Portfolio"
          ],
          [
           "0.0% Portfolio"
          ],
          [
           "0.0% Portfolio"
          ],
          [
           "0.0% Portfolio"
          ],
          [
           "0.0% Portfolio"
          ],
          [
           "0.0% Portfolio"
          ],
          [
           "0.0% Portfolio"
          ],
          [
           "0.0% Portfolio"
          ],
          [
           "0.0% Portfolio"
          ],
          [
           "0.0% Portfolio"
          ],
          [
           "0.0% Portfolio"
          ],
          [
           "0.0% Portfolio"
          ],
          [
           "0.0% Portfolio"
          ],
          [
           "0.0% Portfolio"
          ],
          [
           "0.0% Portfolio"
          ],
          [
           "0.0% Portfolio"
          ],
          [
           "0.0% Portfolio"
          ],
          [
           "0.0% Portfolio"
          ],
          [
           "0.0% Portfolio"
          ],
          [
           "0.0% Portfolio"
          ],
          [
           "0.0% Portfolio"
          ],
          [
           "0.0% Portfolio"
          ],
          [
           "0.0% Portfolio"
          ],
          [
           "0.0% Portfolio"
          ],
          [
           "0.0% Portfolio"
          ],
          [
           "0.0% Portfolio"
          ],
          [
           "0.0% Portfolio"
          ],
          [
           "0.0% Portfolio"
          ],
          [
           "0.0% Portfolio"
          ],
          [
           "0.0% Portfolio"
          ],
          [
           "0.0% Portfolio"
          ],
          [
           "0.0% Portfolio"
          ],
          [
           "0.0% Portfolio"
          ],
          [
           "0.0% Portfolio"
          ],
          [
           "0.0% Portfolio"
          ],
          [
           "0.0% Portfolio"
          ],
          [
           "0.0% Portfolio"
          ],
          [
           "0.0% Portfolio"
          ],
          [
           "0.0% Portfolio"
          ],
          [
           "0.0% Portfolio"
          ],
          [
           "0.0% Portfolio"
          ],
          [
           "0.0% Portfolio"
          ],
          [
           "0.0% Portfolio"
          ],
          [
           "0.0% Portfolio"
          ],
          [
           "0.0% Portfolio"
          ],
          [
           "0.0% Portfolio"
          ],
          [
           "0.0% Portfolio"
          ],
          [
           "0.0% Portfolio"
          ],
          [
           "0.0% Portfolio"
          ],
          [
           "0.0% Portfolio"
          ],
          [
           "0.0% Portfolio"
          ],
          [
           "0.0% Portfolio"
          ],
          [
           "0.0% Portfolio"
          ],
          [
           "0.0% Portfolio"
          ],
          [
           "0.0% Portfolio"
          ],
          [
           "0.0% Portfolio"
          ],
          [
           "0.0% Portfolio"
          ],
          [
           "0.0% Portfolio"
          ],
          [
           "0.0% Portfolio"
          ],
          [
           "0.0% Portfolio"
          ],
          [
           "0.0% Portfolio"
          ],
          [
           "0.0% Portfolio"
          ],
          [
           "0.0% Portfolio"
          ],
          [
           "0.0% Portfolio"
          ],
          [
           "0.0% Portfolio"
          ],
          [
           "0.0% Portfolio"
          ],
          [
           "0.0% Portfolio"
          ],
          [
           "0.0% Portfolio"
          ],
          [
           "0.0% Portfolio"
          ],
          [
           "0.0% Portfolio"
          ],
          [
           "0.0% Portfolio"
          ],
          [
           "0.0% Portfolio"
          ],
          [
           "0.0% Portfolio"
          ],
          [
           "0.0% Portfolio"
          ],
          [
           "0.0% Portfolio"
          ],
          [
           "0.0% Portfolio"
          ],
          [
           "0.0% Portfolio"
          ],
          [
           "0.0% Portfolio"
          ],
          [
           "0.0% Portfolio"
          ],
          [
           "0.0% Portfolio"
          ],
          [
           "0.0% Portfolio"
          ],
          [
           "0.0% Portfolio"
          ],
          [
           "0.0% Portfolio"
          ],
          [
           "0.0% Portfolio"
          ],
          [
           "0.0% Portfolio"
          ],
          [
           "0.0% Portfolio"
          ],
          [
           "0.0% Portfolio"
          ],
          [
           "0.0% Portfolio"
          ],
          [
           "0.0% Portfolio"
          ],
          [
           "0.0% Portfolio"
          ],
          [
           "0.0% Portfolio"
          ],
          [
           "0.0% Portfolio"
          ],
          [
           "0.0% Portfolio"
          ],
          [
           "0.0% Portfolio"
          ],
          [
           "0.0% Portfolio"
          ],
          [
           "0.0% Portfolio"
          ],
          [
           "0.0% Portfolio"
          ],
          [
           "0.0% Portfolio"
          ],
          [
           "0.0% Portfolio"
          ],
          [
           "0.0% Portfolio"
          ],
          [
           "0.0% Portfolio"
          ],
          [
           "0.0% Portfolio"
          ],
          [
           "0.0% Portfolio"
          ],
          [
           "0.0% Portfolio"
          ],
          [
           "0.0% Portfolio"
          ],
          [
           "0.0% Portfolio"
          ],
          [
           "0.0% Portfolio"
          ],
          [
           "0.0% Portfolio"
          ],
          [
           "0.0% Portfolio"
          ],
          [
           "0.0% Portfolio"
          ],
          [
           "0.0% Portfolio"
          ],
          [
           "0.0% Portfolio"
          ],
          [
           "0.0% Portfolio"
          ],
          [
           "0.0% Portfolio"
          ],
          [
           "0.0% Portfolio"
          ],
          [
           "0.0% Portfolio"
          ],
          [
           "0.0% Portfolio"
          ],
          [
           "0.0% Portfolio"
          ],
          [
           "0.0% Portfolio"
          ],
          [
           "0.0% Portfolio"
          ],
          [
           "0.0% Portfolio"
          ],
          [
           "0.0% Portfolio"
          ],
          [
           "0.0% Portfolio"
          ],
          [
           "0.0% Portfolio"
          ],
          [
           "0.0% Portfolio"
          ],
          [
           "0.0% Portfolio"
          ],
          [
           "0.0% Portfolio"
          ],
          [
           "0.0% Portfolio"
          ],
          [
           "0.0% Portfolio"
          ],
          [
           "0.0% Portfolio"
          ],
          [
           "0.0% Portfolio"
          ],
          [
           "0.0% Portfolio"
          ],
          [
           "0.0% Portfolio"
          ],
          [
           "0.0% Portfolio"
          ],
          [
           "0.0% Portfolio"
          ],
          [
           "0.0% Portfolio"
          ],
          [
           "0.0% Portfolio"
          ],
          [
           "0.0% Portfolio"
          ],
          [
           "0.0% Portfolio"
          ],
          [
           "0.0% Portfolio"
          ],
          [
           "0.0% Portfolio"
          ],
          [
           "0.0% Portfolio"
          ],
          [
           "0.0% Portfolio"
          ],
          [
           "0.0% Portfolio"
          ],
          [
           "0.0% Portfolio"
          ],
          [
           "0.0% Portfolio"
          ],
          [
           "0.0% Portfolio"
          ],
          [
           "0.0% Portfolio"
          ],
          [
           "0.0% Portfolio"
          ],
          [
           "0.0% Portfolio"
          ],
          [
           "0.0% Portfolio"
          ],
          [
           "0.0% Portfolio"
          ],
          [
           "0.0% Portfolio"
          ],
          [
           "0.0% Portfolio"
          ],
          [
           "0.0% Portfolio"
          ],
          [
           "0.0% Portfolio"
          ],
          [
           "0.0% Portfolio"
          ],
          [
           "0.0% Portfolio"
          ],
          [
           "0.0% Portfolio"
          ],
          [
           "0.0% Portfolio"
          ],
          [
           "0.0% Portfolio"
          ],
          [
           "0.0% Portfolio"
          ],
          [
           "0.0% Portfolio"
          ],
          [
           "0.0% Portfolio"
          ],
          [
           "0.0% Portfolio"
          ],
          [
           "0.0% Portfolio"
          ],
          [
           "0.0% Portfolio"
          ],
          [
           "0.0% Portfolio"
          ],
          [
           "0.0% Portfolio"
          ],
          [
           "0.0% Portfolio"
          ],
          [
           "0.0% Portfolio"
          ],
          [
           "0.0% Portfolio"
          ],
          [
           "0.0% Portfolio"
          ],
          [
           "0.0% Portfolio"
          ],
          [
           "0.0% Portfolio"
          ],
          [
           "0.0% Portfolio"
          ],
          [
           "0.0% Portfolio"
          ],
          [
           "0.0% Portfolio"
          ],
          [
           "0.0% Portfolio"
          ],
          [
           "0.0% Portfolio"
          ],
          [
           "0.0% Portfolio"
          ],
          [
           "0.0% Portfolio"
          ],
          [
           "0.0% Portfolio"
          ],
          [
           "0.0% Portfolio"
          ],
          [
           "0.0% Portfolio"
          ],
          [
           "0.0% Portfolio"
          ],
          [
           "0.0% Portfolio"
          ],
          [
           "0.0% Portfolio"
          ],
          [
           "0.0% Portfolio"
          ],
          [
           "0.0% Portfolio"
          ],
          [
           "0.0% Portfolio"
          ],
          [
           "0.0% Portfolio"
          ],
          [
           "0.0% Portfolio"
          ],
          [
           "0.0% Portfolio"
          ],
          [
           "0.0% Portfolio"
          ],
          [
           "0.0% Portfolio"
          ],
          [
           "0.0% Portfolio"
          ],
          [
           "0.0% Portfolio"
          ],
          [
           "0.0% Portfolio"
          ],
          [
           "0.0% Portfolio"
          ],
          [
           "0.0% Portfolio"
          ],
          [
           "0.0% Portfolio"
          ],
          [
           "0.0% Portfolio"
          ],
          [
           "0.0% Portfolio"
          ],
          [
           "0.0% Portfolio"
          ],
          [
           "0.0% Portfolio"
          ],
          [
           "0.0% Portfolio"
          ],
          [
           "0.0% Portfolio"
          ],
          [
           "0.0% Portfolio"
          ],
          [
           "0.0% Portfolio"
          ],
          [
           "0.0% Portfolio"
          ],
          [
           "0.0% Portfolio"
          ],
          [
           "0.0% Portfolio"
          ],
          [
           "0.0% Portfolio"
          ],
          [
           "0.0% Portfolio"
          ],
          [
           "0.0% Portfolio"
          ],
          [
           "0.0% Portfolio"
          ],
          [
           "0.0% Portfolio"
          ],
          [
           "0.0% Portfolio"
          ],
          [
           "0.0% Portfolio"
          ],
          [
           "0.0% Portfolio"
          ],
          [
           "0.0% Portfolio"
          ],
          [
           "0.0% Portfolio"
          ],
          [
           "0.0% Portfolio"
          ],
          [
           "0.0% Portfolio"
          ],
          [
           "0.0% Portfolio"
          ],
          [
           "0.0% Portfolio"
          ],
          [
           "0.0% Portfolio"
          ],
          [
           "0.0% Portfolio"
          ],
          [
           "0.0% Portfolio"
          ],
          [
           "0.0% Portfolio"
          ],
          [
           "0.0% Portfolio"
          ],
          [
           "0.0% Portfolio"
          ],
          [
           "0.0% Portfolio"
          ],
          [
           "0.0% Portfolio"
          ],
          [
           "0.0% Portfolio"
          ],
          [
           "0.0% Portfolio"
          ],
          [
           "0.0% Portfolio"
          ],
          [
           "0.0% Portfolio"
          ],
          [
           "0.0% Portfolio"
          ],
          [
           "0.0% Portfolio"
          ],
          [
           "0.0% Portfolio"
          ],
          [
           "0.0% Portfolio"
          ],
          [
           "0.0% Portfolio"
          ],
          [
           "0.0% Portfolio"
          ],
          [
           "0.0% Portfolio"
          ],
          [
           "0.0% Portfolio"
          ],
          [
           "0.0% Portfolio"
          ],
          [
           "0.0% Portfolio"
          ],
          [
           "0.0% Portfolio"
          ],
          [
           "0.0% Portfolio"
          ],
          [
           "0.0% Portfolio"
          ],
          [
           "0.0% Portfolio"
          ],
          [
           "0.0% Portfolio"
          ],
          [
           "0.0% Portfolio"
          ],
          [
           "0.0% Portfolio"
          ],
          [
           "0.0% Portfolio"
          ],
          [
           "0.0% Portfolio"
          ],
          [
           "0.0% Portfolio"
          ],
          [
           "0.0% Portfolio"
          ],
          [
           "0.0% Portfolio"
          ],
          [
           "0.0% Portfolio"
          ],
          [
           "0.0% Portfolio"
          ],
          [
           "0.0% Portfolio"
          ],
          [
           "0.0% Portfolio"
          ],
          [
           "0.0% Portfolio"
          ],
          [
           "0.0% Portfolio"
          ],
          [
           "0.0% Portfolio"
          ],
          [
           "0.0% Portfolio"
          ],
          [
           "0.0% Portfolio"
          ],
          [
           "0.0% Portfolio"
          ],
          [
           "0.0% Portfolio"
          ],
          [
           "0.0% Portfolio"
          ],
          [
           "0.0% Portfolio"
          ],
          [
           "0.0% Portfolio"
          ],
          [
           "0.0% Portfolio"
          ],
          [
           "0.0% Portfolio"
          ],
          [
           "0.0% Portfolio"
          ],
          [
           "0.0% Portfolio"
          ],
          [
           "0.0% Portfolio"
          ],
          [
           "0.0% Portfolio"
          ],
          [
           "0.0% Portfolio"
          ],
          [
           "0.0% Portfolio"
          ],
          [
           "0.0% Portfolio"
          ],
          [
           "0.0% Portfolio"
          ],
          [
           "0.0% Portfolio"
          ],
          [
           "0.0% Portfolio"
          ],
          [
           "0.0% Portfolio"
          ],
          [
           "0.0% Portfolio"
          ],
          [
           "0.0% Portfolio"
          ],
          [
           "0.0% Portfolio"
          ],
          [
           "0.0% Portfolio"
          ],
          [
           "0.0% Portfolio"
          ],
          [
           "0.0% Portfolio"
          ],
          [
           "0.0% Portfolio"
          ],
          [
           "0.0% Portfolio"
          ],
          [
           "0.0% Portfolio"
          ],
          [
           "0.0% Portfolio"
          ],
          [
           "0.0% Portfolio"
          ],
          [
           "0.0% Portfolio"
          ],
          [
           "0.0% Portfolio"
          ],
          [
           "0.0% Portfolio"
          ],
          [
           "0.0% Portfolio"
          ],
          [
           "0.0% Portfolio"
          ],
          [
           "0.0% Portfolio"
          ],
          [
           "0.0% Portfolio"
          ],
          [
           "0.0% Portfolio"
          ],
          [
           "0.0% Portfolio"
          ],
          [
           "0.0% Portfolio"
          ],
          [
           "0.0% Portfolio"
          ],
          [
           "0.0% Portfolio"
          ],
          [
           "0.0% Portfolio"
          ],
          [
           "0.0% Portfolio"
          ],
          [
           "0.0% Portfolio"
          ],
          [
           "0.0% Portfolio"
          ],
          [
           "0.0% Portfolio"
          ],
          [
           "0.0% Portfolio"
          ],
          [
           "0.0% Portfolio"
          ],
          [
           "0.0% Portfolio"
          ],
          [
           "0.0% Portfolio"
          ],
          [
           "0.0% Portfolio"
          ],
          [
           "0.0% Portfolio"
          ],
          [
           "0.0% Portfolio"
          ],
          [
           "0.0% Portfolio"
          ],
          [
           "0.0% Portfolio"
          ],
          [
           "0.0% Portfolio"
          ],
          [
           "0.0% Portfolio"
          ],
          [
           "0.0% Portfolio"
          ],
          [
           "0.0% Portfolio"
          ],
          [
           "0.0% Portfolio"
          ],
          [
           "0.0% Portfolio"
          ],
          [
           "0.0% Portfolio"
          ],
          [
           "0.0% Portfolio"
          ],
          [
           "0.0% Portfolio"
          ],
          [
           "0.0% Portfolio"
          ],
          [
           "0.0% Portfolio"
          ],
          [
           "0.0% Portfolio"
          ],
          [
           "0.0% Portfolio"
          ],
          [
           "0.0% Portfolio"
          ],
          [
           "0.0% Portfolio"
          ],
          [
           "0.0% Portfolio"
          ],
          [
           "0.0% Portfolio"
          ],
          [
           "0.0% Portfolio"
          ],
          [
           "0.0% Portfolio"
          ],
          [
           "0.0% Portfolio"
          ],
          [
           "0.0% Portfolio"
          ],
          [
           "0.0% Portfolio"
          ],
          [
           "0.0% Portfolio"
          ],
          [
           "0.0% Portfolio"
          ],
          [
           "0.0% Portfolio"
          ],
          [
           "0.0% Portfolio"
          ],
          [
           "0.0% Portfolio"
          ],
          [
           "0.0% Portfolio"
          ],
          [
           "0.0% Portfolio"
          ],
          [
           "0.0% Portfolio"
          ],
          [
           "0.0% Portfolio"
          ],
          [
           "0.0% Portfolio"
          ],
          [
           "0.0% Portfolio"
          ],
          [
           "0.0% Portfolio"
          ],
          [
           "0.0% Portfolio"
          ],
          [
           "0.0% Portfolio"
          ],
          [
           "0.0% Portfolio"
          ],
          [
           "0.0% Portfolio"
          ],
          [
           "0.0% Portfolio"
          ],
          [
           "0.0% Portfolio"
          ],
          [
           "0.0% Portfolio"
          ],
          [
           "0.0% Portfolio"
          ],
          [
           "0.0% Portfolio"
          ],
          [
           "0.0% Portfolio"
          ],
          [
           "0.0% Portfolio"
          ],
          [
           "0.0% Portfolio"
          ],
          [
           "0.0% Portfolio"
          ],
          [
           "0.0% Portfolio"
          ],
          [
           "0.0% Portfolio"
          ],
          [
           "0.0% Portfolio"
          ],
          [
           "0.0% Portfolio"
          ],
          [
           "0.0% Portfolio"
          ],
          [
           "0.0% Portfolio"
          ],
          [
           "0.0% Portfolio"
          ],
          [
           "0.0% Portfolio"
          ],
          [
           "0.0% Portfolio"
          ],
          [
           "0.0% Portfolio"
          ],
          [
           "0.0% Portfolio"
          ],
          [
           "0.0% Portfolio"
          ],
          [
           "0.0% Portfolio"
          ],
          [
           "0.0% Portfolio"
          ],
          [
           "0.0% Portfolio"
          ],
          [
           "0.0% Portfolio"
          ],
          [
           "0.0% Portfolio"
          ],
          [
           "0.0% Portfolio"
          ],
          [
           "0.0% Portfolio"
          ],
          [
           "0.0% Portfolio"
          ],
          [
           "0.0% Portfolio"
          ],
          [
           "0.0% Portfolio"
          ],
          [
           "0.0% Portfolio"
          ],
          [
           "0.0% Portfolio"
          ],
          [
           "0.0% Portfolio"
          ],
          [
           "0.0% Portfolio"
          ],
          [
           "0.0% Portfolio"
          ],
          [
           "0.0% Portfolio"
          ],
          [
           "0.0% Portfolio"
          ],
          [
           "0.0% Portfolio"
          ],
          [
           "0.0% Portfolio"
          ],
          [
           "0.0% Portfolio"
          ],
          [
           "0.0% Portfolio"
          ],
          [
           "0.0% Portfolio"
          ],
          [
           "0.0% Portfolio"
          ],
          [
           "0.0% Portfolio"
          ],
          [
           "0.0% Portfolio"
          ],
          [
           "0.0% Portfolio"
          ],
          [
           "0.0% Portfolio"
          ],
          [
           "0.0% Portfolio"
          ],
          [
           "0.0% Portfolio"
          ],
          [
           "0.0% Portfolio"
          ],
          [
           "0.0% Portfolio"
          ],
          [
           "0.0% Portfolio"
          ],
          [
           "0.0% Portfolio"
          ],
          [
           "0.0% Portfolio"
          ],
          [
           "0.0% Portfolio"
          ],
          [
           "0.0% Portfolio"
          ],
          [
           "0.0% Portfolio"
          ],
          [
           "0.0% Portfolio"
          ],
          [
           "0.0% Portfolio"
          ],
          [
           "0.0% Portfolio"
          ],
          [
           "0.0% Portfolio"
          ],
          [
           "0.0% Portfolio"
          ],
          [
           "0.0% Portfolio"
          ],
          [
           "0.0% Portfolio"
          ],
          [
           "0.0% Portfolio"
          ],
          [
           "0.0% Portfolio"
          ],
          [
           "0.0% Portfolio"
          ],
          [
           "0.0% Portfolio"
          ],
          [
           "0.0% Portfolio"
          ],
          [
           "0.0% Portfolio"
          ],
          [
           "0.0% Portfolio"
          ],
          [
           "0.0% Portfolio"
          ],
          [
           "0.0% Portfolio"
          ],
          [
           "0.0% Portfolio"
          ],
          [
           "0.0% Portfolio"
          ],
          [
           "0.0% Portfolio"
          ],
          [
           "0.0% Portfolio"
          ],
          [
           "0.0% Portfolio"
          ],
          [
           "0.0% Portfolio"
          ],
          [
           "0.0% Portfolio"
          ],
          [
           "0.0% Portfolio"
          ],
          [
           "0.0% Portfolio"
          ],
          [
           "0.0% Portfolio"
          ],
          [
           "0.0% Portfolio"
          ],
          [
           "0.0% Portfolio"
          ],
          [
           "0.0% Portfolio"
          ],
          [
           "0.0% Portfolio"
          ],
          [
           "0.0% Portfolio"
          ],
          [
           "0.0% Portfolio"
          ],
          [
           "0.0% Portfolio"
          ],
          [
           "0.0% Portfolio"
          ],
          [
           "0.0% Portfolio"
          ],
          [
           "0.0% Portfolio"
          ],
          [
           "0.0% Portfolio"
          ],
          [
           "0.0% Portfolio"
          ],
          [
           "0.0% Portfolio"
          ],
          [
           "0.0% Portfolio"
          ],
          [
           "0.0% Portfolio"
          ],
          [
           "0.0% Portfolio"
          ],
          [
           "0.0% Portfolio"
          ],
          [
           "0.0% Portfolio"
          ],
          [
           "0.0% Portfolio"
          ],
          [
           "0.0% Portfolio"
          ],
          [
           "0.0% Portfolio"
          ],
          [
           "0.0% Portfolio"
          ],
          [
           "0.0% Portfolio"
          ],
          [
           "0.0% Portfolio"
          ],
          [
           "0.0% Portfolio"
          ],
          [
           "0.0% Portfolio"
          ],
          [
           "0.0% Portfolio"
          ],
          [
           "0.0% Portfolio"
          ],
          [
           "0.0% Portfolio"
          ],
          [
           "0.0% Portfolio"
          ],
          [
           "0.0% Portfolio"
          ],
          [
           "0.0% Portfolio"
          ],
          [
           "0.0% Portfolio"
          ],
          [
           "0.0% Portfolio"
          ],
          [
           "0.0% Portfolio"
          ],
          [
           "0.0% Portfolio"
          ],
          [
           "0.0% Portfolio"
          ],
          [
           "0.0% Portfolio"
          ],
          [
           "0.0% Portfolio"
          ],
          [
           "0.0% Portfolio"
          ],
          [
           "0.0% Portfolio"
          ],
          [
           "0.0% Portfolio"
          ],
          [
           "0.0% Portfolio"
          ],
          [
           "0.0% Portfolio"
          ],
          [
           "0.0% Portfolio"
          ],
          [
           "0.0% Portfolio"
          ],
          [
           "0.0% Portfolio"
          ],
          [
           "0.0% Portfolio"
          ],
          [
           "0.0% Portfolio"
          ],
          [
           "0.0% Portfolio"
          ],
          [
           "0.0% Portfolio"
          ],
          [
           "0.0% Portfolio"
          ],
          [
           "0.0% Portfolio"
          ],
          [
           "0.0% Portfolio"
          ],
          [
           "0.0% Portfolio"
          ],
          [
           "0.0% Portfolio"
          ],
          [
           "0.0% Portfolio"
          ],
          [
           "0.0% Portfolio"
          ],
          [
           "0.0% Portfolio"
          ],
          [
           "0.0% Portfolio"
          ],
          [
           "0.0% Portfolio"
          ],
          [
           "0.0% Portfolio"
          ],
          [
           "0.0% Portfolio"
          ],
          [
           "0.0% Portfolio"
          ],
          [
           "0.0% Portfolio"
          ],
          [
           "0.0% Portfolio"
          ],
          [
           "0.0% Portfolio"
          ],
          [
           "0.0% Portfolio"
          ],
          [
           "0.0% Portfolio"
          ],
          [
           "0.0% Portfolio"
          ],
          [
           "0.0% Portfolio"
          ],
          [
           "0.0% Portfolio"
          ],
          [
           "0.0% Portfolio"
          ],
          [
           "0.0% Portfolio"
          ],
          [
           "0.0% Portfolio"
          ],
          [
           "0.0% Portfolio"
          ],
          [
           "0.0% Portfolio"
          ],
          [
           "0.0% Portfolio"
          ],
          [
           "0.0% Portfolio"
          ],
          [
           "0.0% Portfolio"
          ],
          [
           "0.0% Portfolio"
          ],
          [
           "0.0% Portfolio"
          ],
          [
           "0.0% Portfolio"
          ],
          [
           "0.0% Portfolio"
          ],
          [
           "0.0% Portfolio"
          ],
          [
           "0.0% Portfolio"
          ],
          [
           "0.0% Portfolio"
          ],
          [
           "0.0% Portfolio"
          ],
          [
           "0.0% Portfolio"
          ],
          [
           "0.0% Portfolio"
          ],
          [
           "0.0% Portfolio"
          ],
          [
           "0.0% Portfolio"
          ],
          [
           "0.0% Portfolio"
          ],
          [
           "0.0% Portfolio"
          ],
          [
           "0.0% Portfolio"
          ],
          [
           "0.0% Portfolio"
          ],
          [
           "0.0% Portfolio"
          ],
          [
           "0.0% Portfolio"
          ],
          [
           "0.0% Portfolio"
          ],
          [
           "0.0% Portfolio"
          ],
          [
           "0.0% Portfolio"
          ],
          [
           "0.0% Portfolio"
          ],
          [
           "0.0% Portfolio"
          ],
          [
           "0.0% Portfolio"
          ],
          [
           "0.0% Portfolio"
          ],
          [
           "0.0% Portfolio"
          ],
          [
           "0.0% Portfolio"
          ],
          [
           "0.0% Portfolio"
          ],
          [
           "0.0% Portfolio"
          ],
          [
           "0.0% Portfolio"
          ],
          [
           "0.0% Portfolio"
          ],
          [
           "0.0% Portfolio"
          ],
          [
           "0.0% Portfolio"
          ],
          [
           "0.0% Portfolio"
          ],
          [
           "0.0% Portfolio"
          ],
          [
           "0.0% Portfolio"
          ],
          [
           "0.0% Portfolio"
          ],
          [
           "0.0% Portfolio"
          ],
          [
           "0.0% Portfolio"
          ],
          [
           "0.0% Portfolio"
          ],
          [
           "0.0% Portfolio"
          ],
          [
           "0.0% Portfolio"
          ],
          [
           "0.0% Portfolio"
          ],
          [
           "0.0% Portfolio"
          ],
          [
           "0.0% Portfolio"
          ],
          [
           "0.0% Portfolio"
          ],
          [
           "0.0% Portfolio"
          ],
          [
           "0.0% Portfolio"
          ],
          [
           "0.0% Portfolio"
          ],
          [
           "0.0% Portfolio"
          ],
          [
           "0.0% Portfolio"
          ],
          [
           "0.0% Portfolio"
          ],
          [
           "0.0% Portfolio"
          ],
          [
           "0.0% Portfolio"
          ],
          [
           "0.0% Portfolio"
          ],
          [
           "0.0% Portfolio"
          ],
          [
           "0.0% Portfolio"
          ],
          [
           "0.0% Portfolio"
          ],
          [
           "0.0% Portfolio"
          ],
          [
           "0.0% Portfolio"
          ],
          [
           "0.0% Portfolio"
          ],
          [
           "0.0% Portfolio"
          ],
          [
           "0.0% Portfolio"
          ],
          [
           "0.0% Portfolio"
          ],
          [
           "0.0% Portfolio"
          ],
          [
           "0.0% Portfolio"
          ],
          [
           "0.0% Portfolio"
          ],
          [
           "2.2% ann. growth in 5.1yrs<br>valuation = 5.5%<br>weight = 0.5; valuation = 2.47 yrs<br>34.1% Portfolio"
          ],
          [
           "0.0% Portfolio"
          ],
          [
           "0.0% Portfolio"
          ],
          [
           "0.0% Portfolio"
          ],
          [
           "0.0% Portfolio"
          ],
          [
           "0.0% Portfolio"
          ],
          [
           "0.0% Portfolio"
          ],
          [
           "0.0% Portfolio"
          ],
          [
           "0.0% Portfolio"
          ],
          [
           "0.0% Portfolio"
          ],
          [
           "0.0% Portfolio"
          ],
          [
           "0.0% Portfolio"
          ],
          [
           "0.0% Portfolio"
          ],
          [
           "0.0% Portfolio"
          ],
          [
           "0.0% Portfolio"
          ],
          [
           "0.0% Portfolio"
          ],
          [
           "0.0% Portfolio"
          ],
          [
           "0.0% Portfolio"
          ],
          [
           "0.0% Portfolio"
          ],
          [
           "0.0% Portfolio"
          ],
          [
           "0.0% Portfolio"
          ],
          [
           "0.0% Portfolio"
          ],
          [
           "0.0% Portfolio"
          ],
          [
           "0.0% Portfolio"
          ],
          [
           "0.0% Portfolio"
          ],
          [
           "0.0% Portfolio"
          ],
          [
           "0.0% Portfolio"
          ],
          [
           "0.0% Portfolio"
          ],
          [
           "0.0% Portfolio"
          ],
          [
           "0.0% Portfolio"
          ],
          [
           "0.0% Portfolio"
          ],
          [
           "0.0% Portfolio"
          ],
          [
           "0.0% Portfolio"
          ],
          [
           "0.0% Portfolio"
          ],
          [
           "0.0% Portfolio"
          ],
          [
           "0.0% Portfolio"
          ],
          [
           "0.0% Portfolio"
          ],
          [
           "0.0% Portfolio"
          ],
          [
           "0.0% Portfolio"
          ],
          [
           "0.0% Portfolio"
          ],
          [
           "0.0% Portfolio"
          ],
          [
           "0.0% Portfolio"
          ],
          [
           "0.0% Portfolio"
          ],
          [
           "0.0% Portfolio"
          ],
          [
           "0.0% Portfolio"
          ],
          [
           "0.0% Portfolio"
          ],
          [
           "0.0% Portfolio"
          ],
          [
           "0.0% Portfolio"
          ],
          [
           "0.0% Portfolio"
          ],
          [
           "0.0% Portfolio"
          ],
          [
           "0.0% Portfolio"
          ],
          [
           "0.0% Portfolio"
          ],
          [
           "0.0% Portfolio"
          ],
          [
           "0.0% Portfolio"
          ],
          [
           "0.0% Portfolio"
          ],
          [
           "0.0% Portfolio"
          ],
          [
           "0.0% Portfolio"
          ],
          [
           "0.0% Portfolio"
          ],
          [
           "0.0% Portfolio"
          ],
          [
           "0.0% Portfolio"
          ],
          [
           "0.0% Portfolio"
          ],
          [
           "0.0% Portfolio"
          ],
          [
           "0.0% Portfolio"
          ],
          [
           "0.0% Portfolio"
          ],
          [
           "2.8% ann. growth in 5.3yrs<br>valuation = 13.0%<br>weight = 0.5; valuation = 4.6 yrs<br>6.6% Portfolio"
          ],
          [
           "0.0% Portfolio"
          ],
          [
           "0.0% Portfolio"
          ],
          [
           "0.0% Portfolio"
          ],
          [
           "0.0% Portfolio"
          ],
          [
           "0.0% Portfolio"
          ],
          [
           "0.0% Portfolio"
          ],
          [
           "0.0% Portfolio"
          ],
          [
           "0.0% Portfolio"
          ],
          [
           "0.0% Portfolio"
          ],
          [
           "0.0% Portfolio"
          ],
          [
           "0.0% Portfolio"
          ],
          [
           "0.0% Portfolio"
          ],
          [
           "0.0% Portfolio"
          ],
          [
           "0.0% Portfolio"
          ],
          [
           "0.0% Portfolio"
          ],
          [
           "0.0% Portfolio"
          ],
          [
           "0.0% Portfolio"
          ],
          [
           "0.0% Portfolio"
          ],
          [
           "0.0% Portfolio"
          ],
          [
           "0.0% Portfolio"
          ],
          [
           "0.0% Portfolio"
          ],
          [
           "0.0% Portfolio"
          ],
          [
           "0.0% Portfolio"
          ],
          [
           "0.0% Portfolio"
          ],
          [
           "0.0% Portfolio"
          ],
          [
           "0.0% Portfolio"
          ],
          [
           "0.0% Portfolio"
          ],
          [
           "0.0% Portfolio"
          ],
          [
           "0.0% Portfolio"
          ],
          [
           "0.0% Portfolio"
          ],
          [
           "0.0% Portfolio"
          ],
          [
           "0.0% Portfolio"
          ],
          [
           "0.0% Portfolio"
          ],
          [
           "0.0% Portfolio"
          ],
          [
           "0.0% Portfolio"
          ],
          [
           "0.0% Portfolio"
          ],
          [
           "0.0% Portfolio"
          ],
          [
           "0.0% Portfolio"
          ],
          [
           "0.0% Portfolio"
          ],
          [
           "0.0% Portfolio"
          ],
          [
           "0.0% Portfolio"
          ],
          [
           "0.0% Portfolio"
          ],
          [
           "0.0% Portfolio"
          ],
          [
           "0.0% Portfolio"
          ],
          [
           "0.0% Portfolio"
          ],
          [
           "0.0% Portfolio"
          ],
          [
           "0.0% Portfolio"
          ],
          [
           "0.0% Portfolio"
          ],
          [
           "0.0% Portfolio"
          ],
          [
           "0.0% Portfolio"
          ],
          [
           "0.0% Portfolio"
          ],
          [
           "0.0% Portfolio"
          ],
          [
           "0.0% Portfolio"
          ],
          [
           "0.0% Portfolio"
          ],
          [
           "0.0% Portfolio"
          ],
          [
           "0.0% Portfolio"
          ],
          [
           "0.0% Portfolio"
          ],
          [
           "0.0% Portfolio"
          ],
          [
           "0.0% Portfolio"
          ],
          [
           "0.0% Portfolio"
          ],
          [
           "0.0% Portfolio"
          ],
          [
           "0.0% Portfolio"
          ],
          [
           "0.0% Portfolio"
          ],
          [
           "0.0% Portfolio"
          ],
          [
           "3.4% ann. growth in 5.6yrs<br>valuation = 19.1%<br>weight = 0.5; valuation = 5.54 yrs<br>2.4% Portfolio"
          ],
          [
           "0.0% Portfolio"
          ],
          [
           "0.0% Portfolio"
          ],
          [
           "0.0% Portfolio"
          ],
          [
           "0.0% Portfolio"
          ],
          [
           "0.0% Portfolio"
          ],
          [
           "0.0% Portfolio"
          ],
          [
           "0.0% Portfolio"
          ],
          [
           "0.0% Portfolio"
          ],
          [
           "0.0% Portfolio"
          ],
          [
           "0.0% Portfolio"
          ],
          [
           "0.0% Portfolio"
          ],
          [
           "0.0% Portfolio"
          ],
          [
           "0.0% Portfolio"
          ],
          [
           "0.0% Portfolio"
          ],
          [
           "0.0% Portfolio"
          ],
          [
           "0.0% Portfolio"
          ],
          [
           "0.0% Portfolio"
          ],
          [
           "0.0% Portfolio"
          ],
          [
           "0.0% Portfolio"
          ],
          [
           "0.0% Portfolio"
          ],
          [
           "0.0% Portfolio"
          ],
          [
           "0.0% Portfolio"
          ],
          [
           "0.0% Portfolio"
          ],
          [
           "0.0% Portfolio"
          ],
          [
           "0.0% Portfolio"
          ],
          [
           "0.0% Portfolio"
          ],
          [
           "0.0% Portfolio"
          ],
          [
           "0.0% Portfolio"
          ],
          [
           "0.0% Portfolio"
          ],
          [
           "0.0% Portfolio"
          ],
          [
           "0.0% Portfolio"
          ],
          [
           "0.0% Portfolio"
          ],
          [
           "0.0% Portfolio"
          ],
          [
           "0.0% Portfolio"
          ],
          [
           "0.0% Portfolio"
          ],
          [
           "0.0% Portfolio"
          ],
          [
           "0.0% Portfolio"
          ],
          [
           "0.0% Portfolio"
          ],
          [
           "0.0% Portfolio"
          ],
          [
           "0.0% Portfolio"
          ],
          [
           "0.0% Portfolio"
          ],
          [
           "0.0% Portfolio"
          ],
          [
           "0.0% Portfolio"
          ],
          [
           "0.0% Portfolio"
          ],
          [
           "0.0% Portfolio"
          ],
          [
           "0.0% Portfolio"
          ],
          [
           "0.0% Portfolio"
          ],
          [
           "0.0% Portfolio"
          ],
          [
           "0.0% Portfolio"
          ],
          [
           "0.0% Portfolio"
          ],
          [
           "0.0% Portfolio"
          ],
          [
           "0.0% Portfolio"
          ],
          [
           "0.0% Portfolio"
          ],
          [
           "0.0% Portfolio"
          ],
          [
           "0.0% Portfolio"
          ],
          [
           "0.0% Portfolio"
          ],
          [
           "0.0% Portfolio"
          ],
          [
           "0.0% Portfolio"
          ],
          [
           "0.0% Portfolio"
          ],
          [
           "0.0% Portfolio"
          ],
          [
           "0.0% Portfolio"
          ],
          [
           "0.0% Portfolio"
          ],
          [
           "4.0% ann. growth in 5.8yrs<br>valuation = 20.4%<br>weight = 0.5; valuation = 5.14 yrs<br>5.1% Portfolio"
          ],
          [
           "0.0% Portfolio"
          ],
          [
           "0.0% Portfolio"
          ],
          [
           "0.0% Portfolio"
          ],
          [
           "0.0% Portfolio"
          ],
          [
           "0.0% Portfolio"
          ],
          [
           "0.0% Portfolio"
          ],
          [
           "0.0% Portfolio"
          ],
          [
           "0.0% Portfolio"
          ],
          [
           "0.0% Portfolio"
          ],
          [
           "0.0% Portfolio"
          ],
          [
           "0.0% Portfolio"
          ],
          [
           "0.0% Portfolio"
          ],
          [
           "0.0% Portfolio"
          ],
          [
           "0.0% Portfolio"
          ],
          [
           "0.0% Portfolio"
          ],
          [
           "0.0% Portfolio"
          ],
          [
           "0.0% Portfolio"
          ],
          [
           "0.0% Portfolio"
          ],
          [
           "0.0% Portfolio"
          ],
          [
           "0.0% Portfolio"
          ],
          [
           "0.0% Portfolio"
          ],
          [
           "0.0% Portfolio"
          ],
          [
           "0.0% Portfolio"
          ],
          [
           "0.0% Portfolio"
          ],
          [
           "0.0% Portfolio"
          ],
          [
           "0.0% Portfolio"
          ],
          [
           "0.0% Portfolio"
          ],
          [
           "0.0% Portfolio"
          ],
          [
           "0.0% Portfolio"
          ],
          [
           "0.0% Portfolio"
          ],
          [
           "0.0% Portfolio"
          ],
          [
           "0.0% Portfolio"
          ],
          [
           "0.0% Portfolio"
          ],
          [
           "0.0% Portfolio"
          ],
          [
           "0.0% Portfolio"
          ],
          [
           "0.0% Portfolio"
          ],
          [
           "0.0% Portfolio"
          ],
          [
           "0.0% Portfolio"
          ],
          [
           "0.0% Portfolio"
          ],
          [
           "0.0% Portfolio"
          ],
          [
           "0.0% Portfolio"
          ],
          [
           "0.0% Portfolio"
          ],
          [
           "0.0% Portfolio"
          ],
          [
           "0.0% Portfolio"
          ],
          [
           "0.0% Portfolio"
          ],
          [
           "0.0% Portfolio"
          ],
          [
           "0.0% Portfolio"
          ],
          [
           "0.0% Portfolio"
          ],
          [
           "0.0% Portfolio"
          ],
          [
           "0.0% Portfolio"
          ],
          [
           "0.0% Portfolio"
          ],
          [
           "0.0% Portfolio"
          ],
          [
           "0.0% Portfolio"
          ],
          [
           "0.0% Portfolio"
          ],
          [
           "0.0% Portfolio"
          ],
          [
           "0.0% Portfolio"
          ],
          [
           "0.0% Portfolio"
          ],
          [
           "0.0% Portfolio"
          ],
          [
           "0.0% Portfolio"
          ],
          [
           "4.8% ann. growth in 6.1yrs<br>valuation = 19.4%<br>weight = 0.5; valuation = 4.06 yrs<br>9.1% Portfolio"
          ],
          [
           "0.0% Portfolio"
          ],
          [
           "0.0% Portfolio"
          ],
          [
           "0.0% Portfolio"
          ],
          [
           "0.0% Portfolio"
          ],
          [
           "0.0% Portfolio"
          ],
          [
           "0.0% Portfolio"
          ],
          [
           "0.0% Portfolio"
          ],
          [
           "0.0% Portfolio"
          ],
          [
           "0.0% Portfolio"
          ],
          [
           "0.0% Portfolio"
          ],
          [
           "0.0% Portfolio"
          ],
          [
           "0.0% Portfolio"
          ],
          [
           "0.0% Portfolio"
          ],
          [
           "0.0% Portfolio"
          ],
          [
           "0.0% Portfolio"
          ],
          [
           "0.0% Portfolio"
          ],
          [
           "0.0% Portfolio"
          ],
          [
           "0.0% Portfolio"
          ],
          [
           "0.0% Portfolio"
          ],
          [
           "0.0% Portfolio"
          ],
          [
           "0.0% Portfolio"
          ],
          [
           "0.0% Portfolio"
          ],
          [
           "0.0% Portfolio"
          ],
          [
           "0.0% Portfolio"
          ],
          [
           "0.0% Portfolio"
          ],
          [
           "0.0% Portfolio"
          ],
          [
           "0.0% Portfolio"
          ],
          [
           "0.0% Portfolio"
          ],
          [
           "0.0% Portfolio"
          ],
          [
           "0.0% Portfolio"
          ],
          [
           "0.0% Portfolio"
          ],
          [
           "0.0% Portfolio"
          ],
          [
           "0.0% Portfolio"
          ],
          [
           "0.0% Portfolio"
          ],
          [
           "0.0% Portfolio"
          ],
          [
           "0.0% Portfolio"
          ],
          [
           "0.0% Portfolio"
          ],
          [
           "0.0% Portfolio"
          ],
          [
           "0.0% Portfolio"
          ],
          [
           "0.0% Portfolio"
          ],
          [
           "0.0% Portfolio"
          ],
          [
           "0.0% Portfolio"
          ],
          [
           "0.0% Portfolio"
          ],
          [
           "0.0% Portfolio"
          ],
          [
           "0.0% Portfolio"
          ],
          [
           "0.0% Portfolio"
          ],
          [
           "0.0% Portfolio"
          ],
          [
           "0.0% Portfolio"
          ],
          [
           "0.0% Portfolio"
          ],
          [
           "0.0% Portfolio"
          ],
          [
           "0.0% Portfolio"
          ],
          [
           "0.0% Portfolio"
          ],
          [
           "0.0% Portfolio"
          ],
          [
           "0.0% Portfolio"
          ],
          [
           "0.0% Portfolio"
          ],
          [
           "0.0% Portfolio"
          ],
          [
           "0.0% Portfolio"
          ],
          [
           "0.0% Portfolio"
          ],
          [
           "0.0% Portfolio"
          ],
          [
           "0.0% Portfolio"
          ],
          [
           "0.0% Portfolio"
          ],
          [
           "0.0% Portfolio"
          ],
          [
           "0.0% Portfolio"
          ],
          [
           "5.9% ann. growth in 6.3yrs<br>valuation = 11.8%<br>weight = 0.5; valuation = 1.99 yrs<br>33.7% Portfolio"
          ],
          [
           "0.0% Portfolio"
          ],
          [
           "0.0% Portfolio"
          ],
          [
           "0.0% Portfolio"
          ],
          [
           "0.0% Portfolio"
          ],
          [
           "0.0% Portfolio"
          ],
          [
           "0.0% Portfolio"
          ],
          [
           "0.0% Portfolio"
          ],
          [
           "0.0% Portfolio"
          ],
          [
           "0.0% Portfolio"
          ],
          [
           "0.0% Portfolio"
          ],
          [
           "0.0% Portfolio"
          ],
          [
           "0.0% Portfolio"
          ],
          [
           "0.0% Portfolio"
          ],
          [
           "0.0% Portfolio"
          ],
          [
           "0.0% Portfolio"
          ],
          [
           "0.0% Portfolio"
          ],
          [
           "0.0% Portfolio"
          ],
          [
           "0.0% Portfolio"
          ],
          [
           "0.0% Portfolio"
          ],
          [
           "0.0% Portfolio"
          ],
          [
           "0.0% Portfolio"
          ],
          [
           "0.0% Portfolio"
          ],
          [
           "0.0% Portfolio"
          ],
          [
           "0.0% Portfolio"
          ],
          [
           "0.0% Portfolio"
          ],
          [
           "0.0% Portfolio"
          ],
          [
           "0.0% Portfolio"
          ],
          [
           "0.0% Portfolio"
          ],
          [
           "0.0% Portfolio"
          ],
          [
           "0.0% Portfolio"
          ],
          [
           "0.0% Portfolio"
          ],
          [
           "0.0% Portfolio"
          ],
          [
           "0.0% Portfolio"
          ],
          [
           "0.0% Portfolio"
          ],
          [
           "0.0% Portfolio"
          ],
          [
           "0.0% Portfolio"
          ],
          [
           "0.0% Portfolio"
          ],
          [
           "0.0% Portfolio"
          ],
          [
           "0.0% Portfolio"
          ],
          [
           "0.0% Portfolio"
          ],
          [
           "0.0% Portfolio"
          ],
          [
           "0.0% Portfolio"
          ],
          [
           "0.0% Portfolio"
          ],
          [
           "0.0% Portfolio"
          ],
          [
           "0.0% Portfolio"
          ],
          [
           "0.0% Portfolio"
          ],
          [
           "0.0% Portfolio"
          ],
          [
           "0.0% Portfolio"
          ],
          [
           "0.0% Portfolio"
          ],
          [
           "0.0% Portfolio"
          ],
          [
           "0.0% Portfolio"
          ],
          [
           "0.0% Portfolio"
          ],
          [
           "0.0% Portfolio"
          ],
          [
           "0.0% Portfolio"
          ],
          [
           "0.0% Portfolio"
          ],
          [
           "0.0% Portfolio"
          ],
          [
           "0.0% Portfolio"
          ],
          [
           "0.0% Portfolio"
          ],
          [
           "0.0% Portfolio"
          ],
          [
           "0.0% Portfolio"
          ],
          [
           "0.0% Portfolio"
          ],
          [
           "0.0% Portfolio"
          ],
          [
           "0.0% Portfolio"
          ],
          [
           "0.0% Portfolio"
          ],
          [
           "6.3% ann. growth in 6.6yrs<br>valuation = 0.1%<br>weight = 0.5; valuation = 0.02 yrs<br>49.7% Portfolio"
          ],
          [
           "0.0% Portfolio"
          ],
          [
           "0.0% Portfolio"
          ],
          [
           "0.0% Portfolio"
          ],
          [
           "0.0% Portfolio"
          ],
          [
           "0.0% Portfolio"
          ],
          [
           "0.0% Portfolio"
          ],
          [
           "0.0% Portfolio"
          ],
          [
           "0.0% Portfolio"
          ],
          [
           "0.0% Portfolio"
          ],
          [
           "0.0% Portfolio"
          ],
          [
           "0.0% Portfolio"
          ],
          [
           "0.0% Portfolio"
          ],
          [
           "0.0% Portfolio"
          ],
          [
           "0.0% Portfolio"
          ],
          [
           "0.0% Portfolio"
          ],
          [
           "0.0% Portfolio"
          ],
          [
           "0.0% Portfolio"
          ],
          [
           "0.0% Portfolio"
          ],
          [
           "0.0% Portfolio"
          ],
          [
           "0.0% Portfolio"
          ],
          [
           "0.0% Portfolio"
          ],
          [
           "0.0% Portfolio"
          ],
          [
           "0.0% Portfolio"
          ],
          [
           "0.0% Portfolio"
          ],
          [
           "0.0% Portfolio"
          ],
          [
           "0.0% Portfolio"
          ],
          [
           "0.0% Portfolio"
          ],
          [
           "0.0% Portfolio"
          ],
          [
           "0.0% Portfolio"
          ],
          [
           "0.0% Portfolio"
          ],
          [
           "0.0% Portfolio"
          ],
          [
           "0.0% Portfolio"
          ],
          [
           "0.0% Portfolio"
          ],
          [
           "0.0% Portfolio"
          ],
          [
           "0.0% Portfolio"
          ],
          [
           "0.0% Portfolio"
          ],
          [
           "0.0% Portfolio"
          ],
          [
           "0.0% Portfolio"
          ],
          [
           "0.0% Portfolio"
          ],
          [
           "0.0% Portfolio"
          ],
          [
           "0.0% Portfolio"
          ],
          [
           "0.0% Portfolio"
          ],
          [
           "0.0% Portfolio"
          ],
          [
           "0.0% Portfolio"
          ],
          [
           "0.0% Portfolio"
          ],
          [
           "0.0% Portfolio"
          ],
          [
           "0.0% Portfolio"
          ],
          [
           "0.0% Portfolio"
          ],
          [
           "0.0% Portfolio"
          ],
          [
           "0.0% Portfolio"
          ],
          [
           "0.0% Portfolio"
          ],
          [
           "0.0% Portfolio"
          ],
          [
           "0.0% Portfolio"
          ],
          [
           "0.0% Portfolio"
          ],
          [
           "0.0% Portfolio"
          ],
          [
           "0.0% Portfolio"
          ],
          [
           "0.0% Portfolio"
          ],
          [
           "0.0% Portfolio"
          ],
          [
           "0.0% Portfolio"
          ],
          [
           "0.0% Portfolio"
          ],
          [
           "0.0% Portfolio"
          ],
          [
           "0.0% Portfolio"
          ],
          [
           "5.9% ann. growth in 6.8yrs<br>valuation = -3.8%<br>weight = 0.5; valuation = -0.22 yrs<br>49.3% Portfolio"
          ],
          [
           "0.0% Portfolio"
          ],
          [
           "0.0% Portfolio"
          ],
          [
           "0.0% Portfolio"
          ],
          [
           "0.0% Portfolio"
          ],
          [
           "0.0% Portfolio"
          ],
          [
           "0.0% Portfolio"
          ],
          [
           "0.0% Portfolio"
          ],
          [
           "0.0% Portfolio"
          ],
          [
           "0.0% Portfolio"
          ],
          [
           "0.0% Portfolio"
          ],
          [
           "0.0% Portfolio"
          ],
          [
           "0.0% Portfolio"
          ],
          [
           "0.0% Portfolio"
          ],
          [
           "0.0% Portfolio"
          ],
          [
           "0.0% Portfolio"
          ],
          [
           "0.0% Portfolio"
          ],
          [
           "0.0% Portfolio"
          ],
          [
           "0.0% Portfolio"
          ],
          [
           "0.0% Portfolio"
          ],
          [
           "0.0% Portfolio"
          ],
          [
           "0.0% Portfolio"
          ],
          [
           "0.0% Portfolio"
          ],
          [
           "0.0% Portfolio"
          ],
          [
           "0.0% Portfolio"
          ],
          [
           "0.0% Portfolio"
          ],
          [
           "0.0% Portfolio"
          ],
          [
           "0.0% Portfolio"
          ],
          [
           "0.0% Portfolio"
          ],
          [
           "0.0% Portfolio"
          ],
          [
           "0.0% Portfolio"
          ],
          [
           "0.0% Portfolio"
          ],
          [
           "0.0% Portfolio"
          ],
          [
           "0.0% Portfolio"
          ],
          [
           "0.0% Portfolio"
          ],
          [
           "0.0% Portfolio"
          ],
          [
           "0.0% Portfolio"
          ],
          [
           "0.0% Portfolio"
          ],
          [
           "0.0% Portfolio"
          ],
          [
           "0.0% Portfolio"
          ],
          [
           "0.0% Portfolio"
          ],
          [
           "0.0% Portfolio"
          ],
          [
           "0.0% Portfolio"
          ],
          [
           "0.0% Portfolio"
          ],
          [
           "0.0% Portfolio"
          ],
          [
           "0.0% Portfolio"
          ],
          [
           "0.0% Portfolio"
          ],
          [
           "0.0% Portfolio"
          ],
          [
           "0.0% Portfolio"
          ],
          [
           "0.0% Portfolio"
          ],
          [
           "0.0% Portfolio"
          ],
          [
           "0.0% Portfolio"
          ],
          [
           "0.0% Portfolio"
          ],
          [
           "0.0% Portfolio"
          ],
          [
           "0.0% Portfolio"
          ],
          [
           "0.0% Portfolio"
          ],
          [
           "0.0% Portfolio"
          ],
          [
           "0.0% Portfolio"
          ],
          [
           "0.0% Portfolio"
          ],
          [
           "5.7% ann. growth in 7.1yrs<br>valuation = -0.9%<br>weight = 0.5; valuation = -0.05 yrs<br>47.4% Portfolio"
          ],
          [
           "0.0% Portfolio"
          ],
          [
           "0.0% Portfolio"
          ],
          [
           "0.0% Portfolio"
          ],
          [
           "0.0% Portfolio"
          ],
          [
           "0.0% Portfolio"
          ],
          [
           "0.0% Portfolio"
          ],
          [
           "0.0% Portfolio"
          ],
          [
           "0.0% Portfolio"
          ],
          [
           "0.0% Portfolio"
          ],
          [
           "0.0% Portfolio"
          ],
          [
           "0.0% Portfolio"
          ],
          [
           "0.0% Portfolio"
          ],
          [
           "0.0% Portfolio"
          ],
          [
           "0.0% Portfolio"
          ],
          [
           "0.0% Portfolio"
          ],
          [
           "0.0% Portfolio"
          ],
          [
           "0.0% Portfolio"
          ],
          [
           "0.0% Portfolio"
          ],
          [
           "0.0% Portfolio"
          ],
          [
           "0.0% Portfolio"
          ],
          [
           "0.0% Portfolio"
          ],
          [
           "0.0% Portfolio"
          ],
          [
           "0.0% Portfolio"
          ],
          [
           "0.0% Portfolio"
          ],
          [
           "0.0% Portfolio"
          ],
          [
           "0.0% Portfolio"
          ],
          [
           "0.0% Portfolio"
          ],
          [
           "0.0% Portfolio"
          ],
          [
           "0.0% Portfolio"
          ],
          [
           "0.0% Portfolio"
          ],
          [
           "0.0% Portfolio"
          ],
          [
           "0.0% Portfolio"
          ],
          [
           "0.0% Portfolio"
          ],
          [
           "0.0% Portfolio"
          ],
          [
           "0.0% Portfolio"
          ],
          [
           "0.0% Portfolio"
          ],
          [
           "0.0% Portfolio"
          ],
          [
           "0.0% Portfolio"
          ],
          [
           "0.0% Portfolio"
          ],
          [
           "0.0% Portfolio"
          ],
          [
           "0.0% Portfolio"
          ],
          [
           "0.0% Portfolio"
          ],
          [
           "0.0% Portfolio"
          ],
          [
           "0.0% Portfolio"
          ],
          [
           "0.0% Portfolio"
          ],
          [
           "0.0% Portfolio"
          ],
          [
           "0.0% Portfolio"
          ],
          [
           "0.0% Portfolio"
          ],
          [
           "0.0% Portfolio"
          ],
          [
           "0.0% Portfolio"
          ],
          [
           "0.0% Portfolio"
          ],
          [
           "0.0% Portfolio"
          ],
          [
           "0.0% Portfolio"
          ],
          [
           "0.0% Portfolio"
          ],
          [
           "0.0% Portfolio"
          ],
          [
           "0.0% Portfolio"
          ],
          [
           "0.0% Portfolio"
          ],
          [
           "0.0% Portfolio"
          ],
          [
           "0.0% Portfolio"
          ],
          [
           "0.0% Portfolio"
          ],
          [
           "0.0% Portfolio"
          ],
          [
           "0.0% Portfolio"
          ],
          [
           "0.0% Portfolio"
          ],
          [
           "5.6% ann. growth in 7.3yrs<br>valuation = -6.3%<br>weight = 0.5; valuation = -0.35 yrs<br>48.7% Portfolio"
          ],
          [
           "0.0% Portfolio"
          ],
          [
           "0.0% Portfolio"
          ],
          [
           "0.0% Portfolio"
          ],
          [
           "0.0% Portfolio"
          ],
          [
           "0.0% Portfolio"
          ],
          [
           "0.0% Portfolio"
          ],
          [
           "0.0% Portfolio"
          ],
          [
           "0.0% Portfolio"
          ],
          [
           "0.0% Portfolio"
          ],
          [
           "0.0% Portfolio"
          ],
          [
           "0.0% Portfolio"
          ],
          [
           "0.0% Portfolio"
          ],
          [
           "0.0% Portfolio"
          ],
          [
           "0.0% Portfolio"
          ],
          [
           "0.0% Portfolio"
          ],
          [
           "0.0% Portfolio"
          ],
          [
           "0.0% Portfolio"
          ],
          [
           "0.0% Portfolio"
          ],
          [
           "0.0% Portfolio"
          ],
          [
           "0.0% Portfolio"
          ],
          [
           "0.0% Portfolio"
          ],
          [
           "0.0% Portfolio"
          ],
          [
           "0.0% Portfolio"
          ],
          [
           "0.0% Portfolio"
          ],
          [
           "0.0% Portfolio"
          ],
          [
           "0.0% Portfolio"
          ],
          [
           "0.0% Portfolio"
          ],
          [
           "0.0% Portfolio"
          ],
          [
           "0.0% Portfolio"
          ],
          [
           "0.0% Portfolio"
          ],
          [
           "0.0% Portfolio"
          ],
          [
           "0.0% Portfolio"
          ],
          [
           "0.0% Portfolio"
          ],
          [
           "0.0% Portfolio"
          ],
          [
           "0.0% Portfolio"
          ],
          [
           "0.0% Portfolio"
          ],
          [
           "0.0% Portfolio"
          ],
          [
           "0.0% Portfolio"
          ],
          [
           "0.0% Portfolio"
          ],
          [
           "0.0% Portfolio"
          ],
          [
           "0.0% Portfolio"
          ],
          [
           "0.0% Portfolio"
          ],
          [
           "0.0% Portfolio"
          ],
          [
           "0.0% Portfolio"
          ],
          [
           "0.0% Portfolio"
          ],
          [
           "0.0% Portfolio"
          ],
          [
           "0.0% Portfolio"
          ],
          [
           "0.0% Portfolio"
          ],
          [
           "0.0% Portfolio"
          ],
          [
           "0.0% Portfolio"
          ],
          [
           "0.0% Portfolio"
          ],
          [
           "0.0% Portfolio"
          ],
          [
           "0.0% Portfolio"
          ],
          [
           "0.0% Portfolio"
          ],
          [
           "0.0% Portfolio"
          ],
          [
           "0.0% Portfolio"
          ],
          [
           "0.0% Portfolio"
          ],
          [
           "0.0% Portfolio"
          ],
          [
           "0.0% Portfolio"
          ],
          [
           "0.0% Portfolio"
          ],
          [
           "0.0% Portfolio"
          ],
          [
           "0.0% Portfolio"
          ],
          [
           "0.0% Portfolio"
          ],
          [
           "5.3% ann. growth in 7.6yrs<br>valuation = -8.1%<br>weight = 0.5; valuation = -0.43 yrs<br>50.0% Portfolio"
          ],
          [
           "0.0% Portfolio"
          ],
          [
           "0.0% Portfolio"
          ],
          [
           "0.0% Portfolio"
          ],
          [
           "0.0% Portfolio"
          ],
          [
           "0.0% Portfolio"
          ],
          [
           "0.0% Portfolio"
          ],
          [
           "0.0% Portfolio"
          ],
          [
           "0.0% Portfolio"
          ],
          [
           "0.0% Portfolio"
          ],
          [
           "0.0% Portfolio"
          ],
          [
           "0.0% Portfolio"
          ],
          [
           "0.0% Portfolio"
          ],
          [
           "0.0% Portfolio"
          ],
          [
           "0.0% Portfolio"
          ],
          [
           "0.0% Portfolio"
          ],
          [
           "0.0% Portfolio"
          ],
          [
           "0.0% Portfolio"
          ],
          [
           "0.0% Portfolio"
          ],
          [
           "0.0% Portfolio"
          ],
          [
           "0.0% Portfolio"
          ],
          [
           "0.0% Portfolio"
          ],
          [
           "0.0% Portfolio"
          ],
          [
           "0.0% Portfolio"
          ],
          [
           "0.0% Portfolio"
          ],
          [
           "0.0% Portfolio"
          ],
          [
           "0.0% Portfolio"
          ],
          [
           "0.0% Portfolio"
          ],
          [
           "0.0% Portfolio"
          ],
          [
           "0.0% Portfolio"
          ],
          [
           "0.0% Portfolio"
          ],
          [
           "0.0% Portfolio"
          ],
          [
           "0.0% Portfolio"
          ],
          [
           "0.0% Portfolio"
          ],
          [
           "0.0% Portfolio"
          ],
          [
           "0.0% Portfolio"
          ],
          [
           "0.0% Portfolio"
          ],
          [
           "0.0% Portfolio"
          ],
          [
           "0.0% Portfolio"
          ],
          [
           "0.0% Portfolio"
          ],
          [
           "0.0% Portfolio"
          ],
          [
           "0.0% Portfolio"
          ],
          [
           "0.0% Portfolio"
          ],
          [
           "0.0% Portfolio"
          ],
          [
           "0.0% Portfolio"
          ],
          [
           "0.0% Portfolio"
          ],
          [
           "0.0% Portfolio"
          ],
          [
           "0.0% Portfolio"
          ],
          [
           "0.0% Portfolio"
          ],
          [
           "0.0% Portfolio"
          ],
          [
           "0.0% Portfolio"
          ],
          [
           "0.0% Portfolio"
          ],
          [
           "0.0% Portfolio"
          ],
          [
           "0.0% Portfolio"
          ],
          [
           "0.0% Portfolio"
          ],
          [
           "0.0% Portfolio"
          ],
          [
           "0.0% Portfolio"
          ],
          [
           "0.0% Portfolio"
          ],
          [
           "0.0% Portfolio"
          ],
          [
           "0.0% Portfolio"
          ],
          [
           "0.0% Portfolio"
          ],
          [
           "0.0% Portfolio"
          ],
          [
           "0.0% Portfolio"
          ],
          [
           "5.2% ann. growth in 7.8yrs<br>valuation = -1.5%<br>weight = 0.5; valuation = -0.08 yrs<br>51.0% Portfolio"
          ],
          [
           "0.0% Portfolio"
          ],
          [
           "0.0% Portfolio"
          ],
          [
           "0.0% Portfolio"
          ],
          [
           "0.0% Portfolio"
          ],
          [
           "0.0% Portfolio"
          ],
          [
           "0.0% Portfolio"
          ],
          [
           "0.0% Portfolio"
          ],
          [
           "0.0% Portfolio"
          ],
          [
           "0.0% Portfolio"
          ],
          [
           "0.0% Portfolio"
          ],
          [
           "0.0% Portfolio"
          ],
          [
           "0.0% Portfolio"
          ],
          [
           "0.0% Portfolio"
          ],
          [
           "0.0% Portfolio"
          ],
          [
           "0.0% Portfolio"
          ],
          [
           "0.0% Portfolio"
          ],
          [
           "0.0% Portfolio"
          ],
          [
           "0.0% Portfolio"
          ],
          [
           "0.0% Portfolio"
          ],
          [
           "0.0% Portfolio"
          ],
          [
           "0.0% Portfolio"
          ],
          [
           "0.0% Portfolio"
          ],
          [
           "0.0% Portfolio"
          ],
          [
           "0.0% Portfolio"
          ],
          [
           "0.0% Portfolio"
          ],
          [
           "0.0% Portfolio"
          ],
          [
           "0.0% Portfolio"
          ],
          [
           "0.0% Portfolio"
          ],
          [
           "0.0% Portfolio"
          ],
          [
           "0.0% Portfolio"
          ],
          [
           "0.0% Portfolio"
          ],
          [
           "0.0% Portfolio"
          ],
          [
           "0.0% Portfolio"
          ],
          [
           "0.0% Portfolio"
          ],
          [
           "0.0% Portfolio"
          ],
          [
           "0.0% Portfolio"
          ],
          [
           "0.0% Portfolio"
          ],
          [
           "0.0% Portfolio"
          ],
          [
           "0.0% Portfolio"
          ],
          [
           "0.0% Portfolio"
          ],
          [
           "0.0% Portfolio"
          ],
          [
           "0.0% Portfolio"
          ],
          [
           "0.0% Portfolio"
          ],
          [
           "0.0% Portfolio"
          ],
          [
           "0.0% Portfolio"
          ],
          [
           "0.0% Portfolio"
          ],
          [
           "0.0% Portfolio"
          ],
          [
           "0.0% Portfolio"
          ],
          [
           "0.0% Portfolio"
          ],
          [
           "0.0% Portfolio"
          ],
          [
           "0.0% Portfolio"
          ],
          [
           "0.0% Portfolio"
          ],
          [
           "0.0% Portfolio"
          ],
          [
           "0.0% Portfolio"
          ],
          [
           "0.0% Portfolio"
          ],
          [
           "0.0% Portfolio"
          ],
          [
           "0.0% Portfolio"
          ],
          [
           "0.0% Portfolio"
          ],
          [
           "0.0% Portfolio"
          ],
          [
           "0.0% Portfolio"
          ],
          [
           "5.3% ann. growth in 8.1yrs<br>valuation = -2.2%<br>weight = 0.5; valuation = -0.12 yrs<br>45.7% Portfolio"
          ],
          [
           "0.0% Portfolio"
          ],
          [
           "0.0% Portfolio"
          ],
          [
           "0.0% Portfolio"
          ],
          [
           "0.0% Portfolio"
          ],
          [
           "0.0% Portfolio"
          ],
          [
           "0.0% Portfolio"
          ],
          [
           "0.0% Portfolio"
          ],
          [
           "0.0% Portfolio"
          ],
          [
           "0.0% Portfolio"
          ],
          [
           "0.0% Portfolio"
          ],
          [
           "0.0% Portfolio"
          ],
          [
           "0.0% Portfolio"
          ],
          [
           "0.0% Portfolio"
          ],
          [
           "0.0% Portfolio"
          ],
          [
           "0.0% Portfolio"
          ],
          [
           "0.0% Portfolio"
          ],
          [
           "0.0% Portfolio"
          ],
          [
           "0.0% Portfolio"
          ],
          [
           "0.0% Portfolio"
          ],
          [
           "0.0% Portfolio"
          ],
          [
           "0.0% Portfolio"
          ],
          [
           "0.0% Portfolio"
          ],
          [
           "0.0% Portfolio"
          ],
          [
           "0.0% Portfolio"
          ],
          [
           "0.0% Portfolio"
          ],
          [
           "0.0% Portfolio"
          ],
          [
           "0.0% Portfolio"
          ],
          [
           "0.0% Portfolio"
          ],
          [
           "0.0% Portfolio"
          ],
          [
           "0.0% Portfolio"
          ],
          [
           "0.0% Portfolio"
          ],
          [
           "0.0% Portfolio"
          ],
          [
           "0.0% Portfolio"
          ],
          [
           "0.0% Portfolio"
          ],
          [
           "0.0% Portfolio"
          ],
          [
           "0.0% Portfolio"
          ],
          [
           "0.0% Portfolio"
          ],
          [
           "0.0% Portfolio"
          ],
          [
           "0.0% Portfolio"
          ],
          [
           "0.0% Portfolio"
          ],
          [
           "0.0% Portfolio"
          ],
          [
           "0.0% Portfolio"
          ],
          [
           "0.0% Portfolio"
          ],
          [
           "0.0% Portfolio"
          ],
          [
           "0.0% Portfolio"
          ],
          [
           "0.0% Portfolio"
          ],
          [
           "0.0% Portfolio"
          ],
          [
           "0.0% Portfolio"
          ],
          [
           "0.0% Portfolio"
          ],
          [
           "0.0% Portfolio"
          ],
          [
           "0.0% Portfolio"
          ],
          [
           "0.0% Portfolio"
          ],
          [
           "0.0% Portfolio"
          ],
          [
           "0.0% Portfolio"
          ],
          [
           "0.0% Portfolio"
          ],
          [
           "0.0% Portfolio"
          ],
          [
           "0.0% Portfolio"
          ],
          [
           "0.0% Portfolio"
          ],
          [
           "0.0% Portfolio"
          ],
          [
           "0.0% Portfolio"
          ],
          [
           "0.0% Portfolio"
          ],
          [
           "0.0% Portfolio"
          ],
          [
           "5.0% ann. growth in 8.3yrs<br>valuation = -5.5%<br>weight = 0.5; valuation = -0.27 yrs<br>47.9% Portfolio"
          ],
          [
           "0.0% Portfolio"
          ],
          [
           "0.0% Portfolio"
          ],
          [
           "0.0% Portfolio"
          ],
          [
           "0.0% Portfolio"
          ],
          [
           "0.0% Portfolio"
          ],
          [
           "0.0% Portfolio"
          ],
          [
           "0.0% Portfolio"
          ],
          [
           "0.0% Portfolio"
          ],
          [
           "0.0% Portfolio"
          ],
          [
           "0.0% Portfolio"
          ],
          [
           "0.0% Portfolio"
          ],
          [
           "0.0% Portfolio"
          ],
          [
           "0.0% Portfolio"
          ],
          [
           "0.0% Portfolio"
          ],
          [
           "0.0% Portfolio"
          ],
          [
           "0.0% Portfolio"
          ],
          [
           "0.0% Portfolio"
          ],
          [
           "0.0% Portfolio"
          ],
          [
           "0.0% Portfolio"
          ],
          [
           "0.0% Portfolio"
          ],
          [
           "0.0% Portfolio"
          ],
          [
           "0.0% Portfolio"
          ],
          [
           "0.0% Portfolio"
          ],
          [
           "0.0% Portfolio"
          ],
          [
           "0.0% Portfolio"
          ],
          [
           "0.0% Portfolio"
          ],
          [
           "0.0% Portfolio"
          ],
          [
           "0.0% Portfolio"
          ],
          [
           "0.0% Portfolio"
          ],
          [
           "0.0% Portfolio"
          ],
          [
           "0.0% Portfolio"
          ],
          [
           "0.0% Portfolio"
          ],
          [
           "0.0% Portfolio"
          ],
          [
           "0.0% Portfolio"
          ],
          [
           "0.0% Portfolio"
          ],
          [
           "0.0% Portfolio"
          ],
          [
           "0.0% Portfolio"
          ],
          [
           "0.0% Portfolio"
          ],
          [
           "0.0% Portfolio"
          ],
          [
           "0.0% Portfolio"
          ],
          [
           "0.0% Portfolio"
          ],
          [
           "0.0% Portfolio"
          ],
          [
           "0.0% Portfolio"
          ],
          [
           "0.0% Portfolio"
          ],
          [
           "0.0% Portfolio"
          ],
          [
           "0.0% Portfolio"
          ],
          [
           "0.0% Portfolio"
          ],
          [
           "0.0% Portfolio"
          ],
          [
           "0.0% Portfolio"
          ],
          [
           "0.0% Portfolio"
          ],
          [
           "0.0% Portfolio"
          ],
          [
           "0.0% Portfolio"
          ],
          [
           "0.0% Portfolio"
          ],
          [
           "0.0% Portfolio"
          ],
          [
           "0.0% Portfolio"
          ],
          [
           "0.0% Portfolio"
          ],
          [
           "0.0% Portfolio"
          ],
          [
           "0.0% Portfolio"
          ],
          [
           "0.0% Portfolio"
          ],
          [
           "0.0% Portfolio"
          ],
          [
           "0.0% Portfolio"
          ],
          [
           "0.0% Portfolio"
          ],
          [
           "0.0% Portfolio"
          ],
          [
           "0.0% Portfolio"
          ],
          [
           "5.2% ann. growth in 8.6yrs<br>valuation = 11.7%<br>weight = 0.5; valuation = 2.26 yrs<br>15.5% Portfolio"
          ],
          [
           "0.0% Portfolio"
          ],
          [
           "0.0% Portfolio"
          ],
          [
           "0.0% Portfolio"
          ],
          [
           "0.0% Portfolio"
          ],
          [
           "0.0% Portfolio"
          ],
          [
           "0.0% Portfolio"
          ],
          [
           "0.0% Portfolio"
          ],
          [
           "0.0% Portfolio"
          ],
          [
           "0.0% Portfolio"
          ],
          [
           "0.0% Portfolio"
          ],
          [
           "0.0% Portfolio"
          ],
          [
           "0.0% Portfolio"
          ],
          [
           "0.0% Portfolio"
          ],
          [
           "0.0% Portfolio"
          ],
          [
           "0.0% Portfolio"
          ],
          [
           "0.0% Portfolio"
          ],
          [
           "0.0% Portfolio"
          ],
          [
           "0.0% Portfolio"
          ],
          [
           "0.0% Portfolio"
          ],
          [
           "0.0% Portfolio"
          ],
          [
           "0.0% Portfolio"
          ],
          [
           "0.0% Portfolio"
          ],
          [
           "0.0% Portfolio"
          ],
          [
           "0.0% Portfolio"
          ],
          [
           "0.0% Portfolio"
          ],
          [
           "0.0% Portfolio"
          ],
          [
           "0.0% Portfolio"
          ],
          [
           "0.0% Portfolio"
          ],
          [
           "0.0% Portfolio"
          ],
          [
           "0.0% Portfolio"
          ],
          [
           "0.0% Portfolio"
          ],
          [
           "0.0% Portfolio"
          ],
          [
           "0.0% Portfolio"
          ],
          [
           "0.0% Portfolio"
          ],
          [
           "0.0% Portfolio"
          ],
          [
           "0.0% Portfolio"
          ],
          [
           "0.0% Portfolio"
          ],
          [
           "0.0% Portfolio"
          ],
          [
           "0.0% Portfolio"
          ],
          [
           "0.0% Portfolio"
          ],
          [
           "0.0% Portfolio"
          ],
          [
           "0.0% Portfolio"
          ],
          [
           "0.0% Portfolio"
          ],
          [
           "0.0% Portfolio"
          ],
          [
           "0.0% Portfolio"
          ],
          [
           "0.0% Portfolio"
          ],
          [
           "0.0% Portfolio"
          ],
          [
           "0.0% Portfolio"
          ],
          [
           "0.0% Portfolio"
          ],
          [
           "0.0% Portfolio"
          ],
          [
           "0.0% Portfolio"
          ],
          [
           "0.0% Portfolio"
          ],
          [
           "0.0% Portfolio"
          ],
          [
           "0.0% Portfolio"
          ],
          [
           "0.0% Portfolio"
          ],
          [
           "0.0% Portfolio"
          ],
          [
           "0.0% Portfolio"
          ],
          [
           "0.0% Portfolio"
          ],
          [
           "0.0% Portfolio"
          ],
          [
           "0.0% Portfolio"
          ],
          [
           "0.0% Portfolio"
          ],
          [
           "0.0% Portfolio"
          ],
          [
           "5.4% ann. growth in 8.8yrs<br>valuation = 19.3%<br>weight = 0.5; valuation = 3.56 yrs<br>16.0% Portfolio"
          ],
          [
           "0.0% Portfolio"
          ],
          [
           "0.0% Portfolio"
          ],
          [
           "0.0% Portfolio"
          ],
          [
           "0.0% Portfolio"
          ],
          [
           "0.0% Portfolio"
          ],
          [
           "0.0% Portfolio"
          ],
          [
           "0.0% Portfolio"
          ],
          [
           "0.0% Portfolio"
          ],
          [
           "0.0% Portfolio"
          ],
          [
           "0.0% Portfolio"
          ],
          [
           "0.0% Portfolio"
          ],
          [
           "0.0% Portfolio"
          ],
          [
           "0.0% Portfolio"
          ],
          [
           "0.0% Portfolio"
          ],
          [
           "0.0% Portfolio"
          ],
          [
           "0.0% Portfolio"
          ],
          [
           "0.0% Portfolio"
          ],
          [
           "0.0% Portfolio"
          ],
          [
           "0.0% Portfolio"
          ],
          [
           "0.0% Portfolio"
          ],
          [
           "0.0% Portfolio"
          ],
          [
           "0.0% Portfolio"
          ],
          [
           "0.0% Portfolio"
          ],
          [
           "0.0% Portfolio"
          ],
          [
           "0.0% Portfolio"
          ],
          [
           "0.0% Portfolio"
          ],
          [
           "0.0% Portfolio"
          ],
          [
           "0.0% Portfolio"
          ],
          [
           "0.0% Portfolio"
          ],
          [
           "0.0% Portfolio"
          ],
          [
           "0.0% Portfolio"
          ],
          [
           "0.0% Portfolio"
          ],
          [
           "0.0% Portfolio"
          ],
          [
           "0.0% Portfolio"
          ],
          [
           "0.0% Portfolio"
          ],
          [
           "0.0% Portfolio"
          ],
          [
           "0.0% Portfolio"
          ],
          [
           "0.0% Portfolio"
          ],
          [
           "0.0% Portfolio"
          ],
          [
           "0.0% Portfolio"
          ],
          [
           "0.0% Portfolio"
          ],
          [
           "0.0% Portfolio"
          ],
          [
           "0.0% Portfolio"
          ],
          [
           "0.0% Portfolio"
          ],
          [
           "0.0% Portfolio"
          ],
          [
           "0.0% Portfolio"
          ],
          [
           "0.0% Portfolio"
          ],
          [
           "0.0% Portfolio"
          ],
          [
           "0.0% Portfolio"
          ],
          [
           "0.0% Portfolio"
          ],
          [
           "0.0% Portfolio"
          ],
          [
           "0.0% Portfolio"
          ],
          [
           "0.0% Portfolio"
          ],
          [
           "0.0% Portfolio"
          ],
          [
           "0.0% Portfolio"
          ],
          [
           "0.0% Portfolio"
          ],
          [
           "0.0% Portfolio"
          ],
          [
           "0.0% Portfolio"
          ],
          [
           "0.0% Portfolio"
          ],
          [
           "5.6% ann. growth in 9.1yrs<br>valuation = 31.6%<br>weight = 0.5; valuation = 5.6 yrs<br>5.1% Portfolio"
          ],
          [
           "0.0% Portfolio"
          ],
          [
           "0.0% Portfolio"
          ],
          [
           "0.0% Portfolio"
          ],
          [
           "0.0% Portfolio"
          ],
          [
           "0.0% Portfolio"
          ],
          [
           "0.0% Portfolio"
          ],
          [
           "0.0% Portfolio"
          ],
          [
           "0.0% Portfolio"
          ],
          [
           "0.0% Portfolio"
          ],
          [
           "0.0% Portfolio"
          ],
          [
           "0.0% Portfolio"
          ],
          [
           "0.0% Portfolio"
          ],
          [
           "0.0% Portfolio"
          ],
          [
           "0.0% Portfolio"
          ],
          [
           "0.0% Portfolio"
          ],
          [
           "0.0% Portfolio"
          ],
          [
           "0.0% Portfolio"
          ],
          [
           "0.0% Portfolio"
          ],
          [
           "0.0% Portfolio"
          ],
          [
           "0.0% Portfolio"
          ],
          [
           "0.0% Portfolio"
          ],
          [
           "0.0% Portfolio"
          ],
          [
           "0.0% Portfolio"
          ],
          [
           "0.0% Portfolio"
          ],
          [
           "0.0% Portfolio"
          ],
          [
           "0.0% Portfolio"
          ],
          [
           "0.0% Portfolio"
          ],
          [
           "0.0% Portfolio"
          ],
          [
           "0.0% Portfolio"
          ],
          [
           "0.0% Portfolio"
          ],
          [
           "0.0% Portfolio"
          ],
          [
           "0.0% Portfolio"
          ],
          [
           "0.0% Portfolio"
          ],
          [
           "0.0% Portfolio"
          ],
          [
           "0.0% Portfolio"
          ],
          [
           "0.0% Portfolio"
          ],
          [
           "0.0% Portfolio"
          ],
          [
           "0.0% Portfolio"
          ],
          [
           "0.0% Portfolio"
          ],
          [
           "0.0% Portfolio"
          ],
          [
           "0.0% Portfolio"
          ],
          [
           "0.0% Portfolio"
          ],
          [
           "0.0% Portfolio"
          ],
          [
           "0.0% Portfolio"
          ],
          [
           "0.0% Portfolio"
          ],
          [
           "0.0% Portfolio"
          ],
          [
           "0.0% Portfolio"
          ],
          [
           "0.0% Portfolio"
          ],
          [
           "0.0% Portfolio"
          ],
          [
           "0.0% Portfolio"
          ],
          [
           "0.0% Portfolio"
          ],
          [
           "0.0% Portfolio"
          ],
          [
           "0.0% Portfolio"
          ],
          [
           "0.0% Portfolio"
          ],
          [
           "0.0% Portfolio"
          ],
          [
           "0.0% Portfolio"
          ],
          [
           "0.0% Portfolio"
          ],
          [
           "0.0% Portfolio"
          ],
          [
           "0.0% Portfolio"
          ],
          [
           "0.0% Portfolio"
          ],
          [
           "0.0% Portfolio"
          ],
          [
           "0.0% Portfolio"
          ],
          [
           "0.0% Portfolio"
          ],
          [
           "5.9% ann. growth in 9.3yrs<br>valuation = 26.5%<br>weight = 0.5; valuation = 4.53 yrs<br>8.6% Portfolio"
          ],
          [
           "0.0% Portfolio"
          ],
          [
           "0.0% Portfolio"
          ],
          [
           "0.0% Portfolio"
          ],
          [
           "0.0% Portfolio"
          ],
          [
           "0.0% Portfolio"
          ],
          [
           "0.0% Portfolio"
          ],
          [
           "0.0% Portfolio"
          ],
          [
           "0.0% Portfolio"
          ],
          [
           "0.0% Portfolio"
          ],
          [
           "0.0% Portfolio"
          ],
          [
           "0.0% Portfolio"
          ],
          [
           "0.0% Portfolio"
          ],
          [
           "0.0% Portfolio"
          ],
          [
           "0.0% Portfolio"
          ],
          [
           "0.0% Portfolio"
          ],
          [
           "0.0% Portfolio"
          ],
          [
           "0.0% Portfolio"
          ],
          [
           "0.0% Portfolio"
          ],
          [
           "0.0% Portfolio"
          ],
          [
           "0.0% Portfolio"
          ],
          [
           "0.0% Portfolio"
          ],
          [
           "0.0% Portfolio"
          ],
          [
           "0.0% Portfolio"
          ],
          [
           "0.0% Portfolio"
          ],
          [
           "0.0% Portfolio"
          ],
          [
           "0.0% Portfolio"
          ],
          [
           "0.0% Portfolio"
          ],
          [
           "0.0% Portfolio"
          ],
          [
           "0.0% Portfolio"
          ],
          [
           "0.0% Portfolio"
          ],
          [
           "0.0% Portfolio"
          ],
          [
           "0.0% Portfolio"
          ],
          [
           "0.0% Portfolio"
          ],
          [
           "0.0% Portfolio"
          ],
          [
           "0.0% Portfolio"
          ],
          [
           "0.0% Portfolio"
          ],
          [
           "0.0% Portfolio"
          ],
          [
           "0.0% Portfolio"
          ],
          [
           "0.0% Portfolio"
          ],
          [
           "0.0% Portfolio"
          ],
          [
           "0.0% Portfolio"
          ],
          [
           "0.0% Portfolio"
          ],
          [
           "0.0% Portfolio"
          ],
          [
           "0.0% Portfolio"
          ],
          [
           "0.0% Portfolio"
          ],
          [
           "0.0% Portfolio"
          ],
          [
           "0.0% Portfolio"
          ],
          [
           "0.0% Portfolio"
          ],
          [
           "0.0% Portfolio"
          ],
          [
           "0.0% Portfolio"
          ],
          [
           "0.0% Portfolio"
          ],
          [
           "0.0% Portfolio"
          ],
          [
           "0.0% Portfolio"
          ],
          [
           "0.0% Portfolio"
          ],
          [
           "0.0% Portfolio"
          ],
          [
           "0.0% Portfolio"
          ],
          [
           "0.0% Portfolio"
          ],
          [
           "0.0% Portfolio"
          ],
          [
           "0.0% Portfolio"
          ],
          [
           "0.0% Portfolio"
          ],
          [
           "0.0% Portfolio"
          ],
          [
           "0.0% Portfolio"
          ],
          [
           "0.0% Portfolio"
          ],
          [
           "0.0% Portfolio"
          ],
          [
           "6.2% ann. growth in 9.6yrs<br>valuation = 15.5%<br>weight = 0.5; valuation = 2.51 yrs<br>26.6% Portfolio"
          ],
          [
           "0.0% Portfolio"
          ],
          [
           "0.0% Portfolio"
          ],
          [
           "0.0% Portfolio"
          ],
          [
           "0.0% Portfolio"
          ],
          [
           "0.0% Portfolio"
          ],
          [
           "0.0% Portfolio"
          ],
          [
           "0.0% Portfolio"
          ],
          [
           "0.0% Portfolio"
          ],
          [
           "0.0% Portfolio"
          ],
          [
           "0.0% Portfolio"
          ],
          [
           "0.0% Portfolio"
          ],
          [
           "0.0% Portfolio"
          ],
          [
           "0.0% Portfolio"
          ],
          [
           "0.0% Portfolio"
          ],
          [
           "0.0% Portfolio"
          ],
          [
           "0.0% Portfolio"
          ],
          [
           "0.0% Portfolio"
          ],
          [
           "0.0% Portfolio"
          ],
          [
           "0.0% Portfolio"
          ],
          [
           "0.0% Portfolio"
          ],
          [
           "0.0% Portfolio"
          ],
          [
           "0.0% Portfolio"
          ],
          [
           "0.0% Portfolio"
          ],
          [
           "0.0% Portfolio"
          ],
          [
           "0.0% Portfolio"
          ],
          [
           "0.0% Portfolio"
          ],
          [
           "0.0% Portfolio"
          ],
          [
           "0.0% Portfolio"
          ],
          [
           "0.0% Portfolio"
          ],
          [
           "0.0% Portfolio"
          ],
          [
           "0.0% Portfolio"
          ],
          [
           "0.0% Portfolio"
          ],
          [
           "0.0% Portfolio"
          ],
          [
           "0.0% Portfolio"
          ],
          [
           "0.0% Portfolio"
          ],
          [
           "0.0% Portfolio"
          ],
          [
           "0.0% Portfolio"
          ],
          [
           "0.0% Portfolio"
          ],
          [
           "0.0% Portfolio"
          ],
          [
           "0.0% Portfolio"
          ],
          [
           "0.0% Portfolio"
          ],
          [
           "0.0% Portfolio"
          ],
          [
           "0.0% Portfolio"
          ],
          [
           "0.0% Portfolio"
          ],
          [
           "0.0% Portfolio"
          ],
          [
           "0.0% Portfolio"
          ],
          [
           "0.0% Portfolio"
          ],
          [
           "0.0% Portfolio"
          ],
          [
           "0.0% Portfolio"
          ],
          [
           "0.0% Portfolio"
          ],
          [
           "0.0% Portfolio"
          ],
          [
           "0.0% Portfolio"
          ],
          [
           "0.0% Portfolio"
          ],
          [
           "0.0% Portfolio"
          ],
          [
           "0.0% Portfolio"
          ],
          [
           "0.0% Portfolio"
          ],
          [
           "0.0% Portfolio"
          ],
          [
           "0.0% Portfolio"
          ],
          [
           "0.0% Portfolio"
          ],
          [
           "0.0% Portfolio"
          ],
          [
           "0.0% Portfolio"
          ],
          [
           "0.0% Portfolio"
          ],
          [
           "6.5% ann. growth in 9.8yrs<br>valuation = 4.7%<br>weight = 0.5; valuation = 0.72 yrs<br>38.7% Portfolio"
          ],
          [
           "0.0% Portfolio"
          ],
          [
           "0.0% Portfolio"
          ],
          [
           "0.0% Portfolio"
          ],
          [
           "0.0% Portfolio"
          ],
          [
           "0.0% Portfolio"
          ],
          [
           "0.0% Portfolio"
          ],
          [
           "0.0% Portfolio"
          ],
          [
           "0.0% Portfolio"
          ],
          [
           "0.0% Portfolio"
          ],
          [
           "0.0% Portfolio"
          ],
          [
           "0.0% Portfolio"
          ],
          [
           "0.0% Portfolio"
          ],
          [
           "0.0% Portfolio"
          ],
          [
           "0.0% Portfolio"
          ],
          [
           "0.0% Portfolio"
          ],
          [
           "0.0% Portfolio"
          ],
          [
           "0.0% Portfolio"
          ],
          [
           "0.0% Portfolio"
          ],
          [
           "0.0% Portfolio"
          ],
          [
           "0.0% Portfolio"
          ],
          [
           "0.0% Portfolio"
          ],
          [
           "0.0% Portfolio"
          ],
          [
           "0.0% Portfolio"
          ],
          [
           "0.0% Portfolio"
          ],
          [
           "0.0% Portfolio"
          ],
          [
           "0.0% Portfolio"
          ],
          [
           "0.0% Portfolio"
          ],
          [
           "0.0% Portfolio"
          ],
          [
           "0.0% Portfolio"
          ],
          [
           "0.0% Portfolio"
          ],
          [
           "0.0% Portfolio"
          ],
          [
           "0.0% Portfolio"
          ],
          [
           "0.0% Portfolio"
          ],
          [
           "0.0% Portfolio"
          ],
          [
           "0.0% Portfolio"
          ],
          [
           "0.0% Portfolio"
          ],
          [
           "0.0% Portfolio"
          ],
          [
           "0.0% Portfolio"
          ],
          [
           "0.0% Portfolio"
          ],
          [
           "0.0% Portfolio"
          ],
          [
           "0.0% Portfolio"
          ],
          [
           "0.0% Portfolio"
          ],
          [
           "0.0% Portfolio"
          ],
          [
           "0.0% Portfolio"
          ],
          [
           "0.0% Portfolio"
          ],
          [
           "0.0% Portfolio"
          ],
          [
           "0.0% Portfolio"
          ],
          [
           "0.0% Portfolio"
          ],
          [
           "0.0% Portfolio"
          ],
          [
           "0.0% Portfolio"
          ],
          [
           "0.0% Portfolio"
          ],
          [
           "0.0% Portfolio"
          ],
          [
           "0.0% Portfolio"
          ],
          [
           "0.0% Portfolio"
          ],
          [
           "0.0% Portfolio"
          ],
          [
           "0.0% Portfolio"
          ],
          [
           "0.0% Portfolio"
          ],
          [
           "0.0% Portfolio"
          ],
          [
           "0.0% Portfolio"
          ],
          [
           "0.0% Portfolio"
          ]
         ],
         "hovertemplate": "%{y:.2f}<br>%{customdata}",
         "legendgroup": "EEMA",
         "line": {
          "color": "#EF553B",
          "dash": "solid",
          "width": 0.75
         },
         "mode": "lines",
         "name": "EEMA",
         "showlegend": true,
         "type": "scattergl",
         "x": [
          "2012-03-01T00:00:00",
          "2012-03-02T00:00:00",
          "2012-03-05T00:00:00",
          "2012-03-06T00:00:00",
          "2012-03-07T00:00:00",
          "2012-03-08T00:00:00",
          "2012-03-09T00:00:00",
          "2012-03-12T00:00:00",
          "2012-03-13T00:00:00",
          "2012-03-14T00:00:00",
          "2012-03-15T00:00:00",
          "2012-03-16T00:00:00",
          "2012-03-19T00:00:00",
          "2012-03-20T00:00:00",
          "2012-03-21T00:00:00",
          "2012-03-22T00:00:00",
          "2012-03-23T00:00:00",
          "2012-03-26T00:00:00",
          "2012-03-27T00:00:00",
          "2012-03-28T00:00:00",
          "2012-03-29T00:00:00",
          "2012-03-30T00:00:00",
          "2012-04-02T00:00:00",
          "2012-04-03T00:00:00",
          "2012-04-04T00:00:00",
          "2012-04-05T00:00:00",
          "2012-04-09T00:00:00",
          "2012-04-10T00:00:00",
          "2012-04-11T00:00:00",
          "2012-04-12T00:00:00",
          "2012-04-13T00:00:00",
          "2012-04-16T00:00:00",
          "2012-04-17T00:00:00",
          "2012-04-18T00:00:00",
          "2012-04-19T00:00:00",
          "2012-04-20T00:00:00",
          "2012-04-23T00:00:00",
          "2012-04-24T00:00:00",
          "2012-04-25T00:00:00",
          "2012-04-26T00:00:00",
          "2012-04-27T00:00:00",
          "2012-04-30T00:00:00",
          "2012-05-01T00:00:00",
          "2012-05-02T00:00:00",
          "2012-05-03T00:00:00",
          "2012-05-04T00:00:00",
          "2012-05-07T00:00:00",
          "2012-05-08T00:00:00",
          "2012-05-09T00:00:00",
          "2012-05-10T00:00:00",
          "2012-05-11T00:00:00",
          "2012-05-14T00:00:00",
          "2012-05-15T00:00:00",
          "2012-05-16T00:00:00",
          "2012-05-17T00:00:00",
          "2012-05-18T00:00:00",
          "2012-05-21T00:00:00",
          "2012-05-22T00:00:00",
          "2012-05-23T00:00:00",
          "2012-05-24T00:00:00",
          "2012-05-25T00:00:00",
          "2012-05-29T00:00:00",
          "2012-05-30T00:00:00",
          "2012-05-31T00:00:00",
          "2012-06-01T00:00:00",
          "2012-06-04T00:00:00",
          "2012-06-05T00:00:00",
          "2012-06-06T00:00:00",
          "2012-06-07T00:00:00",
          "2012-06-08T00:00:00",
          "2012-06-11T00:00:00",
          "2012-06-12T00:00:00",
          "2012-06-13T00:00:00",
          "2012-06-14T00:00:00",
          "2012-06-15T00:00:00",
          "2012-06-18T00:00:00",
          "2012-06-19T00:00:00",
          "2012-06-20T00:00:00",
          "2012-06-21T00:00:00",
          "2012-06-22T00:00:00",
          "2012-06-25T00:00:00",
          "2012-06-26T00:00:00",
          "2012-06-27T00:00:00",
          "2012-06-28T00:00:00",
          "2012-06-29T00:00:00",
          "2012-07-02T00:00:00",
          "2012-07-03T00:00:00",
          "2012-07-05T00:00:00",
          "2012-07-06T00:00:00",
          "2012-07-09T00:00:00",
          "2012-07-10T00:00:00",
          "2012-07-11T00:00:00",
          "2012-07-12T00:00:00",
          "2012-07-13T00:00:00",
          "2012-07-16T00:00:00",
          "2012-07-17T00:00:00",
          "2012-07-18T00:00:00",
          "2012-07-19T00:00:00",
          "2012-07-20T00:00:00",
          "2012-07-23T00:00:00",
          "2012-07-24T00:00:00",
          "2012-07-25T00:00:00",
          "2012-07-26T00:00:00",
          "2012-07-27T00:00:00",
          "2012-07-30T00:00:00",
          "2012-07-31T00:00:00",
          "2012-08-01T00:00:00",
          "2012-08-02T00:00:00",
          "2012-08-03T00:00:00",
          "2012-08-06T00:00:00",
          "2012-08-07T00:00:00",
          "2012-08-08T00:00:00",
          "2012-08-09T00:00:00",
          "2012-08-10T00:00:00",
          "2012-08-13T00:00:00",
          "2012-08-14T00:00:00",
          "2012-08-15T00:00:00",
          "2012-08-16T00:00:00",
          "2012-08-17T00:00:00",
          "2012-08-20T00:00:00",
          "2012-08-21T00:00:00",
          "2012-08-22T00:00:00",
          "2012-08-23T00:00:00",
          "2012-08-24T00:00:00",
          "2012-08-27T00:00:00",
          "2012-08-28T00:00:00",
          "2012-08-29T00:00:00",
          "2012-08-30T00:00:00",
          "2012-08-31T00:00:00",
          "2012-09-04T00:00:00",
          "2012-09-05T00:00:00",
          "2012-09-06T00:00:00",
          "2012-09-07T00:00:00",
          "2012-09-10T00:00:00",
          "2012-09-11T00:00:00",
          "2012-09-12T00:00:00",
          "2012-09-13T00:00:00",
          "2012-09-14T00:00:00",
          "2012-09-17T00:00:00",
          "2012-09-18T00:00:00",
          "2012-09-19T00:00:00",
          "2012-09-20T00:00:00",
          "2012-09-21T00:00:00",
          "2012-09-24T00:00:00",
          "2012-09-25T00:00:00",
          "2012-09-26T00:00:00",
          "2012-09-27T00:00:00",
          "2012-09-28T00:00:00",
          "2012-10-01T00:00:00",
          "2012-10-02T00:00:00",
          "2012-10-03T00:00:00",
          "2012-10-04T00:00:00",
          "2012-10-05T00:00:00",
          "2012-10-08T00:00:00",
          "2012-10-09T00:00:00",
          "2012-10-10T00:00:00",
          "2012-10-11T00:00:00",
          "2012-10-12T00:00:00",
          "2012-10-15T00:00:00",
          "2012-10-16T00:00:00",
          "2012-10-17T00:00:00",
          "2012-10-18T00:00:00",
          "2012-10-19T00:00:00",
          "2012-10-22T00:00:00",
          "2012-10-23T00:00:00",
          "2012-10-24T00:00:00",
          "2012-10-25T00:00:00",
          "2012-10-26T00:00:00",
          "2012-10-31T00:00:00",
          "2012-11-01T00:00:00",
          "2012-11-02T00:00:00",
          "2012-11-05T00:00:00",
          "2012-11-06T00:00:00",
          "2012-11-07T00:00:00",
          "2012-11-08T00:00:00",
          "2012-11-09T00:00:00",
          "2012-11-12T00:00:00",
          "2012-11-13T00:00:00",
          "2012-11-14T00:00:00",
          "2012-11-15T00:00:00",
          "2012-11-16T00:00:00",
          "2012-11-19T00:00:00",
          "2012-11-20T00:00:00",
          "2012-11-21T00:00:00",
          "2012-11-23T00:00:00",
          "2012-11-26T00:00:00",
          "2012-11-27T00:00:00",
          "2012-11-28T00:00:00",
          "2012-11-29T00:00:00",
          "2012-11-30T00:00:00",
          "2012-12-03T00:00:00",
          "2012-12-04T00:00:00",
          "2012-12-05T00:00:00",
          "2012-12-06T00:00:00",
          "2012-12-07T00:00:00",
          "2012-12-10T00:00:00",
          "2012-12-11T00:00:00",
          "2012-12-12T00:00:00",
          "2012-12-13T00:00:00",
          "2012-12-14T00:00:00",
          "2012-12-17T00:00:00",
          "2012-12-18T00:00:00",
          "2012-12-19T00:00:00",
          "2012-12-20T00:00:00",
          "2012-12-21T00:00:00",
          "2012-12-24T00:00:00",
          "2012-12-26T00:00:00",
          "2012-12-27T00:00:00",
          "2012-12-28T00:00:00",
          "2012-12-31T00:00:00",
          "2013-01-02T00:00:00",
          "2013-01-03T00:00:00",
          "2013-01-04T00:00:00",
          "2013-01-07T00:00:00",
          "2013-01-08T00:00:00",
          "2013-01-09T00:00:00",
          "2013-01-10T00:00:00",
          "2013-01-11T00:00:00",
          "2013-01-14T00:00:00",
          "2013-01-15T00:00:00",
          "2013-01-16T00:00:00",
          "2013-01-17T00:00:00",
          "2013-01-18T00:00:00",
          "2013-01-22T00:00:00",
          "2013-01-23T00:00:00",
          "2013-01-24T00:00:00",
          "2013-01-25T00:00:00",
          "2013-01-28T00:00:00",
          "2013-01-29T00:00:00",
          "2013-01-30T00:00:00",
          "2013-01-31T00:00:00",
          "2013-02-01T00:00:00",
          "2013-02-04T00:00:00",
          "2013-02-05T00:00:00",
          "2013-02-06T00:00:00",
          "2013-02-07T00:00:00",
          "2013-02-08T00:00:00",
          "2013-02-11T00:00:00",
          "2013-02-12T00:00:00",
          "2013-02-13T00:00:00",
          "2013-02-14T00:00:00",
          "2013-02-15T00:00:00",
          "2013-02-19T00:00:00",
          "2013-02-20T00:00:00",
          "2013-02-21T00:00:00",
          "2013-02-22T00:00:00",
          "2013-02-25T00:00:00",
          "2013-02-26T00:00:00",
          "2013-02-27T00:00:00",
          "2013-02-28T00:00:00",
          "2013-03-01T00:00:00",
          "2013-03-04T00:00:00",
          "2013-03-05T00:00:00",
          "2013-03-06T00:00:00",
          "2013-03-07T00:00:00",
          "2013-03-08T00:00:00",
          "2013-03-11T00:00:00",
          "2013-03-12T00:00:00",
          "2013-03-13T00:00:00",
          "2013-03-14T00:00:00",
          "2013-03-15T00:00:00",
          "2013-03-18T00:00:00",
          "2013-03-19T00:00:00",
          "2013-03-20T00:00:00",
          "2013-03-21T00:00:00",
          "2013-03-22T00:00:00",
          "2013-03-25T00:00:00",
          "2013-03-26T00:00:00",
          "2013-03-27T00:00:00",
          "2013-03-28T00:00:00",
          "2013-04-01T00:00:00",
          "2013-04-02T00:00:00",
          "2013-04-03T00:00:00",
          "2013-04-04T00:00:00",
          "2013-04-05T00:00:00",
          "2013-04-08T00:00:00",
          "2013-04-09T00:00:00",
          "2013-04-10T00:00:00",
          "2013-04-11T00:00:00",
          "2013-04-12T00:00:00",
          "2013-04-15T00:00:00",
          "2013-04-16T00:00:00",
          "2013-04-17T00:00:00",
          "2013-04-18T00:00:00",
          "2013-04-19T00:00:00",
          "2013-04-22T00:00:00",
          "2013-04-23T00:00:00",
          "2013-04-24T00:00:00",
          "2013-04-25T00:00:00",
          "2013-04-26T00:00:00",
          "2013-04-29T00:00:00",
          "2013-04-30T00:00:00",
          "2013-05-01T00:00:00",
          "2013-05-02T00:00:00",
          "2013-05-03T00:00:00",
          "2013-05-06T00:00:00",
          "2013-05-07T00:00:00",
          "2013-05-08T00:00:00",
          "2013-05-09T00:00:00",
          "2013-05-10T00:00:00",
          "2013-05-13T00:00:00",
          "2013-05-14T00:00:00",
          "2013-05-15T00:00:00",
          "2013-05-16T00:00:00",
          "2013-05-17T00:00:00",
          "2013-05-20T00:00:00",
          "2013-05-21T00:00:00",
          "2013-05-22T00:00:00",
          "2013-05-23T00:00:00",
          "2013-05-24T00:00:00",
          "2013-05-28T00:00:00",
          "2013-05-29T00:00:00",
          "2013-05-30T00:00:00",
          "2013-05-31T00:00:00",
          "2013-06-03T00:00:00",
          "2013-06-04T00:00:00",
          "2013-06-05T00:00:00",
          "2013-06-06T00:00:00",
          "2013-06-07T00:00:00",
          "2013-06-10T00:00:00",
          "2013-06-11T00:00:00",
          "2013-06-12T00:00:00",
          "2013-06-13T00:00:00",
          "2013-06-14T00:00:00",
          "2013-06-17T00:00:00",
          "2013-06-18T00:00:00",
          "2013-06-19T00:00:00",
          "2013-06-20T00:00:00",
          "2013-06-21T00:00:00",
          "2013-06-24T00:00:00",
          "2013-06-25T00:00:00",
          "2013-06-26T00:00:00",
          "2013-06-27T00:00:00",
          "2013-06-28T00:00:00",
          "2013-07-01T00:00:00",
          "2013-07-02T00:00:00",
          "2013-07-03T00:00:00",
          "2013-07-05T00:00:00",
          "2013-07-08T00:00:00",
          "2013-07-09T00:00:00",
          "2013-07-10T00:00:00",
          "2013-07-11T00:00:00",
          "2013-07-12T00:00:00",
          "2013-07-15T00:00:00",
          "2013-07-16T00:00:00",
          "2013-07-17T00:00:00",
          "2013-07-18T00:00:00",
          "2013-07-19T00:00:00",
          "2013-07-22T00:00:00",
          "2013-07-23T00:00:00",
          "2013-07-24T00:00:00",
          "2013-07-25T00:00:00",
          "2013-07-26T00:00:00",
          "2013-07-29T00:00:00",
          "2013-07-30T00:00:00",
          "2013-07-31T00:00:00",
          "2013-08-01T00:00:00",
          "2013-08-02T00:00:00",
          "2013-08-05T00:00:00",
          "2013-08-06T00:00:00",
          "2013-08-07T00:00:00",
          "2013-08-08T00:00:00",
          "2013-08-09T00:00:00",
          "2013-08-12T00:00:00",
          "2013-08-13T00:00:00",
          "2013-08-14T00:00:00",
          "2013-08-15T00:00:00",
          "2013-08-16T00:00:00",
          "2013-08-19T00:00:00",
          "2013-08-20T00:00:00",
          "2013-08-21T00:00:00",
          "2013-08-22T00:00:00",
          "2013-08-23T00:00:00",
          "2013-08-26T00:00:00",
          "2013-08-27T00:00:00",
          "2013-08-28T00:00:00",
          "2013-08-29T00:00:00",
          "2013-08-30T00:00:00",
          "2013-09-03T00:00:00",
          "2013-09-04T00:00:00",
          "2013-09-05T00:00:00",
          "2013-09-06T00:00:00",
          "2013-09-09T00:00:00",
          "2013-09-10T00:00:00",
          "2013-09-11T00:00:00",
          "2013-09-12T00:00:00",
          "2013-09-13T00:00:00",
          "2013-09-16T00:00:00",
          "2013-09-17T00:00:00",
          "2013-09-18T00:00:00",
          "2013-09-19T00:00:00",
          "2013-09-20T00:00:00",
          "2013-09-23T00:00:00",
          "2013-09-24T00:00:00",
          "2013-09-25T00:00:00",
          "2013-09-26T00:00:00",
          "2013-09-27T00:00:00",
          "2013-09-30T00:00:00",
          "2013-10-01T00:00:00",
          "2013-10-02T00:00:00",
          "2013-10-03T00:00:00",
          "2013-10-04T00:00:00",
          "2013-10-07T00:00:00",
          "2013-10-08T00:00:00",
          "2013-10-09T00:00:00",
          "2013-10-10T00:00:00",
          "2013-10-11T00:00:00",
          "2013-10-14T00:00:00",
          "2013-10-15T00:00:00",
          "2013-10-16T00:00:00",
          "2013-10-17T00:00:00",
          "2013-10-18T00:00:00",
          "2013-10-21T00:00:00",
          "2013-10-22T00:00:00",
          "2013-10-23T00:00:00",
          "2013-10-24T00:00:00",
          "2013-10-25T00:00:00",
          "2013-10-28T00:00:00",
          "2013-10-29T00:00:00",
          "2013-10-30T00:00:00",
          "2013-10-31T00:00:00",
          "2013-11-01T00:00:00",
          "2013-11-04T00:00:00",
          "2013-11-05T00:00:00",
          "2013-11-06T00:00:00",
          "2013-11-07T00:00:00",
          "2013-11-08T00:00:00",
          "2013-11-11T00:00:00",
          "2013-11-12T00:00:00",
          "2013-11-13T00:00:00",
          "2013-11-14T00:00:00",
          "2013-11-15T00:00:00",
          "2013-11-18T00:00:00",
          "2013-11-19T00:00:00",
          "2013-11-20T00:00:00",
          "2013-11-21T00:00:00",
          "2013-11-22T00:00:00",
          "2013-11-25T00:00:00",
          "2013-11-26T00:00:00",
          "2013-11-27T00:00:00",
          "2013-11-29T00:00:00",
          "2013-12-02T00:00:00",
          "2013-12-03T00:00:00",
          "2013-12-04T00:00:00",
          "2013-12-05T00:00:00",
          "2013-12-06T00:00:00",
          "2013-12-09T00:00:00",
          "2013-12-10T00:00:00",
          "2013-12-11T00:00:00",
          "2013-12-12T00:00:00",
          "2013-12-13T00:00:00",
          "2013-12-16T00:00:00",
          "2013-12-17T00:00:00",
          "2013-12-18T00:00:00",
          "2013-12-19T00:00:00",
          "2013-12-20T00:00:00",
          "2013-12-23T00:00:00",
          "2013-12-24T00:00:00",
          "2013-12-26T00:00:00",
          "2013-12-27T00:00:00",
          "2013-12-30T00:00:00",
          "2013-12-31T00:00:00",
          "2014-01-02T00:00:00",
          "2014-01-03T00:00:00",
          "2014-01-06T00:00:00",
          "2014-01-07T00:00:00",
          "2014-01-08T00:00:00",
          "2014-01-09T00:00:00",
          "2014-01-10T00:00:00",
          "2014-01-13T00:00:00",
          "2014-01-14T00:00:00",
          "2014-01-15T00:00:00",
          "2014-01-16T00:00:00",
          "2014-01-17T00:00:00",
          "2014-01-21T00:00:00",
          "2014-01-22T00:00:00",
          "2014-01-23T00:00:00",
          "2014-01-24T00:00:00",
          "2014-01-27T00:00:00",
          "2014-01-28T00:00:00",
          "2014-01-29T00:00:00",
          "2014-01-30T00:00:00",
          "2014-01-31T00:00:00",
          "2014-02-03T00:00:00",
          "2014-02-04T00:00:00",
          "2014-02-05T00:00:00",
          "2014-02-06T00:00:00",
          "2014-02-07T00:00:00",
          "2014-02-10T00:00:00",
          "2014-02-11T00:00:00",
          "2014-02-12T00:00:00",
          "2014-02-13T00:00:00",
          "2014-02-14T00:00:00",
          "2014-02-18T00:00:00",
          "2014-02-19T00:00:00",
          "2014-02-20T00:00:00",
          "2014-02-21T00:00:00",
          "2014-02-24T00:00:00",
          "2014-02-25T00:00:00",
          "2014-02-26T00:00:00",
          "2014-02-27T00:00:00",
          "2014-02-28T00:00:00",
          "2014-03-03T00:00:00",
          "2014-03-04T00:00:00",
          "2014-03-05T00:00:00",
          "2014-03-06T00:00:00",
          "2014-03-07T00:00:00",
          "2014-03-10T00:00:00",
          "2014-03-11T00:00:00",
          "2014-03-12T00:00:00",
          "2014-03-13T00:00:00",
          "2014-03-14T00:00:00",
          "2014-03-17T00:00:00",
          "2014-03-18T00:00:00",
          "2014-03-19T00:00:00",
          "2014-03-20T00:00:00",
          "2014-03-21T00:00:00",
          "2014-03-24T00:00:00",
          "2014-03-25T00:00:00",
          "2014-03-26T00:00:00",
          "2014-03-27T00:00:00",
          "2014-03-28T00:00:00",
          "2014-03-31T00:00:00",
          "2014-04-01T00:00:00",
          "2014-04-02T00:00:00",
          "2014-04-03T00:00:00",
          "2014-04-04T00:00:00",
          "2014-04-07T00:00:00",
          "2014-04-08T00:00:00",
          "2014-04-09T00:00:00",
          "2014-04-10T00:00:00",
          "2014-04-11T00:00:00",
          "2014-04-14T00:00:00",
          "2014-04-15T00:00:00",
          "2014-04-16T00:00:00",
          "2014-04-17T00:00:00",
          "2014-04-21T00:00:00",
          "2014-04-22T00:00:00",
          "2014-04-23T00:00:00",
          "2014-04-24T00:00:00",
          "2014-04-25T00:00:00",
          "2014-04-28T00:00:00",
          "2014-04-29T00:00:00",
          "2014-04-30T00:00:00",
          "2014-05-01T00:00:00",
          "2014-05-02T00:00:00",
          "2014-05-05T00:00:00",
          "2014-05-06T00:00:00",
          "2014-05-07T00:00:00",
          "2014-05-08T00:00:00",
          "2014-05-09T00:00:00",
          "2014-05-12T00:00:00",
          "2014-05-13T00:00:00",
          "2014-05-14T00:00:00",
          "2014-05-15T00:00:00",
          "2014-05-16T00:00:00",
          "2014-05-19T00:00:00",
          "2014-05-20T00:00:00",
          "2014-05-21T00:00:00",
          "2014-05-22T00:00:00",
          "2014-05-23T00:00:00",
          "2014-05-27T00:00:00",
          "2014-05-28T00:00:00",
          "2014-05-29T00:00:00",
          "2014-05-30T00:00:00",
          "2014-06-02T00:00:00",
          "2014-06-03T00:00:00",
          "2014-06-04T00:00:00",
          "2014-06-05T00:00:00",
          "2014-06-06T00:00:00",
          "2014-06-09T00:00:00",
          "2014-06-10T00:00:00",
          "2014-06-11T00:00:00",
          "2014-06-12T00:00:00",
          "2014-06-13T00:00:00",
          "2014-06-16T00:00:00",
          "2014-06-17T00:00:00",
          "2014-06-18T00:00:00",
          "2014-06-19T00:00:00",
          "2014-06-20T00:00:00",
          "2014-06-23T00:00:00",
          "2014-06-24T00:00:00",
          "2014-06-25T00:00:00",
          "2014-06-26T00:00:00",
          "2014-06-27T00:00:00",
          "2014-06-30T00:00:00",
          "2014-07-01T00:00:00",
          "2014-07-02T00:00:00",
          "2014-07-03T00:00:00",
          "2014-07-07T00:00:00",
          "2014-07-08T00:00:00",
          "2014-07-09T00:00:00",
          "2014-07-10T00:00:00",
          "2014-07-11T00:00:00",
          "2014-07-14T00:00:00",
          "2014-07-15T00:00:00",
          "2014-07-16T00:00:00",
          "2014-07-17T00:00:00",
          "2014-07-18T00:00:00",
          "2014-07-21T00:00:00",
          "2014-07-22T00:00:00",
          "2014-07-23T00:00:00",
          "2014-07-24T00:00:00",
          "2014-07-25T00:00:00",
          "2014-07-28T00:00:00",
          "2014-07-29T00:00:00",
          "2014-07-30T00:00:00",
          "2014-07-31T00:00:00",
          "2014-08-01T00:00:00",
          "2014-08-04T00:00:00",
          "2014-08-05T00:00:00",
          "2014-08-06T00:00:00",
          "2014-08-07T00:00:00",
          "2014-08-08T00:00:00",
          "2014-08-11T00:00:00",
          "2014-08-12T00:00:00",
          "2014-08-13T00:00:00",
          "2014-08-14T00:00:00",
          "2014-08-15T00:00:00",
          "2014-08-18T00:00:00",
          "2014-08-19T00:00:00",
          "2014-08-20T00:00:00",
          "2014-08-21T00:00:00",
          "2014-08-22T00:00:00",
          "2014-08-25T00:00:00",
          "2014-08-26T00:00:00",
          "2014-08-27T00:00:00",
          "2014-08-28T00:00:00",
          "2014-08-29T00:00:00",
          "2014-09-02T00:00:00",
          "2014-09-03T00:00:00",
          "2014-09-04T00:00:00",
          "2014-09-05T00:00:00",
          "2014-09-08T00:00:00",
          "2014-09-09T00:00:00",
          "2014-09-10T00:00:00",
          "2014-09-11T00:00:00",
          "2014-09-12T00:00:00",
          "2014-09-15T00:00:00",
          "2014-09-16T00:00:00",
          "2014-09-17T00:00:00",
          "2014-09-18T00:00:00",
          "2014-09-19T00:00:00",
          "2014-09-22T00:00:00",
          "2014-09-23T00:00:00",
          "2014-09-24T00:00:00",
          "2014-09-25T00:00:00",
          "2014-09-26T00:00:00",
          "2014-09-29T00:00:00",
          "2014-09-30T00:00:00",
          "2014-10-01T00:00:00",
          "2014-10-02T00:00:00",
          "2014-10-03T00:00:00",
          "2014-10-06T00:00:00",
          "2014-10-07T00:00:00",
          "2014-10-08T00:00:00",
          "2014-10-09T00:00:00",
          "2014-10-10T00:00:00",
          "2014-10-13T00:00:00",
          "2014-10-14T00:00:00",
          "2014-10-15T00:00:00",
          "2014-10-16T00:00:00",
          "2014-10-17T00:00:00",
          "2014-10-20T00:00:00",
          "2014-10-21T00:00:00",
          "2014-10-22T00:00:00",
          "2014-10-23T00:00:00",
          "2014-10-24T00:00:00",
          "2014-10-27T00:00:00",
          "2014-10-28T00:00:00",
          "2014-10-29T00:00:00",
          "2014-10-30T00:00:00",
          "2014-10-31T00:00:00",
          "2014-11-03T00:00:00",
          "2014-11-04T00:00:00",
          "2014-11-05T00:00:00",
          "2014-11-06T00:00:00",
          "2014-11-07T00:00:00",
          "2014-11-10T00:00:00",
          "2014-11-11T00:00:00",
          "2014-11-12T00:00:00",
          "2014-11-13T00:00:00",
          "2014-11-14T00:00:00",
          "2014-11-17T00:00:00",
          "2014-11-18T00:00:00",
          "2014-11-19T00:00:00",
          "2014-11-20T00:00:00",
          "2014-11-21T00:00:00",
          "2014-11-24T00:00:00",
          "2014-11-25T00:00:00",
          "2014-11-26T00:00:00",
          "2014-11-28T00:00:00",
          "2014-12-01T00:00:00",
          "2014-12-02T00:00:00",
          "2014-12-03T00:00:00",
          "2014-12-04T00:00:00",
          "2014-12-05T00:00:00",
          "2014-12-08T00:00:00",
          "2014-12-09T00:00:00",
          "2014-12-10T00:00:00",
          "2014-12-11T00:00:00",
          "2014-12-12T00:00:00",
          "2014-12-15T00:00:00",
          "2014-12-16T00:00:00",
          "2014-12-17T00:00:00",
          "2014-12-18T00:00:00",
          "2014-12-19T00:00:00",
          "2014-12-22T00:00:00",
          "2014-12-23T00:00:00",
          "2014-12-24T00:00:00",
          "2014-12-26T00:00:00",
          "2014-12-29T00:00:00",
          "2014-12-30T00:00:00",
          "2014-12-31T00:00:00",
          "2015-01-02T00:00:00",
          "2015-01-05T00:00:00",
          "2015-01-06T00:00:00",
          "2015-01-07T00:00:00",
          "2015-01-08T00:00:00",
          "2015-01-09T00:00:00",
          "2015-01-12T00:00:00",
          "2015-01-13T00:00:00",
          "2015-01-14T00:00:00",
          "2015-01-15T00:00:00",
          "2015-01-16T00:00:00",
          "2015-01-20T00:00:00",
          "2015-01-21T00:00:00",
          "2015-01-22T00:00:00",
          "2015-01-23T00:00:00",
          "2015-01-26T00:00:00",
          "2015-01-27T00:00:00",
          "2015-01-28T00:00:00",
          "2015-01-29T00:00:00",
          "2015-01-30T00:00:00",
          "2015-02-02T00:00:00",
          "2015-02-03T00:00:00",
          "2015-02-04T00:00:00",
          "2015-02-05T00:00:00",
          "2015-02-06T00:00:00",
          "2015-02-09T00:00:00",
          "2015-02-10T00:00:00",
          "2015-02-11T00:00:00",
          "2015-02-12T00:00:00",
          "2015-02-13T00:00:00",
          "2015-02-17T00:00:00",
          "2015-02-18T00:00:00",
          "2015-02-19T00:00:00",
          "2015-02-20T00:00:00",
          "2015-02-23T00:00:00",
          "2015-02-24T00:00:00",
          "2015-02-25T00:00:00",
          "2015-02-26T00:00:00",
          "2015-02-27T00:00:00",
          "2015-03-02T00:00:00",
          "2015-03-03T00:00:00",
          "2015-03-04T00:00:00",
          "2015-03-05T00:00:00",
          "2015-03-06T00:00:00",
          "2015-03-09T00:00:00",
          "2015-03-10T00:00:00",
          "2015-03-11T00:00:00",
          "2015-03-12T00:00:00",
          "2015-03-13T00:00:00",
          "2015-03-16T00:00:00",
          "2015-03-17T00:00:00",
          "2015-03-18T00:00:00",
          "2015-03-19T00:00:00",
          "2015-03-20T00:00:00",
          "2015-03-23T00:00:00",
          "2015-03-24T00:00:00",
          "2015-03-25T00:00:00",
          "2015-03-26T00:00:00",
          "2015-03-27T00:00:00",
          "2015-03-30T00:00:00",
          "2015-03-31T00:00:00",
          "2015-04-01T00:00:00",
          "2015-04-02T00:00:00",
          "2015-04-06T00:00:00",
          "2015-04-07T00:00:00",
          "2015-04-08T00:00:00",
          "2015-04-09T00:00:00",
          "2015-04-10T00:00:00",
          "2015-04-13T00:00:00",
          "2015-04-14T00:00:00",
          "2015-04-15T00:00:00",
          "2015-04-16T00:00:00",
          "2015-04-17T00:00:00",
          "2015-04-20T00:00:00",
          "2015-04-21T00:00:00",
          "2015-04-22T00:00:00",
          "2015-04-23T00:00:00",
          "2015-04-24T00:00:00",
          "2015-04-27T00:00:00",
          "2015-04-28T00:00:00",
          "2015-04-29T00:00:00",
          "2015-04-30T00:00:00",
          "2015-05-01T00:00:00",
          "2015-05-04T00:00:00",
          "2015-05-05T00:00:00",
          "2015-05-06T00:00:00",
          "2015-05-07T00:00:00",
          "2015-05-08T00:00:00",
          "2015-05-11T00:00:00",
          "2015-05-12T00:00:00",
          "2015-05-13T00:00:00",
          "2015-05-14T00:00:00",
          "2015-05-15T00:00:00",
          "2015-05-18T00:00:00",
          "2015-05-19T00:00:00",
          "2015-05-20T00:00:00",
          "2015-05-21T00:00:00",
          "2015-05-22T00:00:00",
          "2015-05-26T00:00:00",
          "2015-05-27T00:00:00",
          "2015-05-28T00:00:00",
          "2015-05-29T00:00:00",
          "2015-06-01T00:00:00",
          "2015-06-02T00:00:00",
          "2015-06-03T00:00:00",
          "2015-06-04T00:00:00",
          "2015-06-05T00:00:00",
          "2015-06-08T00:00:00",
          "2015-06-09T00:00:00",
          "2015-06-10T00:00:00",
          "2015-06-11T00:00:00",
          "2015-06-12T00:00:00",
          "2015-06-15T00:00:00",
          "2015-06-16T00:00:00",
          "2015-06-17T00:00:00",
          "2015-06-18T00:00:00",
          "2015-06-19T00:00:00",
          "2015-06-22T00:00:00",
          "2015-06-23T00:00:00",
          "2015-06-24T00:00:00",
          "2015-06-25T00:00:00",
          "2015-06-26T00:00:00",
          "2015-06-29T00:00:00",
          "2015-06-30T00:00:00",
          "2015-07-01T00:00:00",
          "2015-07-02T00:00:00",
          "2015-07-06T00:00:00",
          "2015-07-07T00:00:00",
          "2015-07-08T00:00:00",
          "2015-07-09T00:00:00",
          "2015-07-10T00:00:00",
          "2015-07-13T00:00:00",
          "2015-07-14T00:00:00",
          "2015-07-15T00:00:00",
          "2015-07-16T00:00:00",
          "2015-07-17T00:00:00",
          "2015-07-20T00:00:00",
          "2015-07-21T00:00:00",
          "2015-07-22T00:00:00",
          "2015-07-23T00:00:00",
          "2015-07-24T00:00:00",
          "2015-07-27T00:00:00",
          "2015-07-28T00:00:00",
          "2015-07-29T00:00:00",
          "2015-07-30T00:00:00",
          "2015-07-31T00:00:00",
          "2015-08-03T00:00:00",
          "2015-08-04T00:00:00",
          "2015-08-05T00:00:00",
          "2015-08-06T00:00:00",
          "2015-08-07T00:00:00",
          "2015-08-10T00:00:00",
          "2015-08-11T00:00:00",
          "2015-08-12T00:00:00",
          "2015-08-13T00:00:00",
          "2015-08-14T00:00:00",
          "2015-08-17T00:00:00",
          "2015-08-18T00:00:00",
          "2015-08-19T00:00:00",
          "2015-08-20T00:00:00",
          "2015-08-21T00:00:00",
          "2015-08-24T00:00:00",
          "2015-08-25T00:00:00",
          "2015-08-26T00:00:00",
          "2015-08-27T00:00:00",
          "2015-08-28T00:00:00",
          "2015-08-31T00:00:00",
          "2015-09-01T00:00:00",
          "2015-09-02T00:00:00",
          "2015-09-03T00:00:00",
          "2015-09-04T00:00:00",
          "2015-09-08T00:00:00",
          "2015-09-09T00:00:00",
          "2015-09-10T00:00:00",
          "2015-09-11T00:00:00",
          "2015-09-14T00:00:00",
          "2015-09-15T00:00:00",
          "2015-09-16T00:00:00",
          "2015-09-17T00:00:00",
          "2015-09-18T00:00:00",
          "2015-09-21T00:00:00",
          "2015-09-22T00:00:00",
          "2015-09-23T00:00:00",
          "2015-09-24T00:00:00",
          "2015-09-25T00:00:00",
          "2015-09-28T00:00:00",
          "2015-09-29T00:00:00",
          "2015-09-30T00:00:00",
          "2015-10-01T00:00:00",
          "2015-10-02T00:00:00",
          "2015-10-05T00:00:00",
          "2015-10-06T00:00:00",
          "2015-10-07T00:00:00",
          "2015-10-08T00:00:00",
          "2015-10-09T00:00:00",
          "2015-10-12T00:00:00",
          "2015-10-13T00:00:00",
          "2015-10-14T00:00:00",
          "2015-10-15T00:00:00",
          "2015-10-16T00:00:00",
          "2015-10-19T00:00:00",
          "2015-10-20T00:00:00",
          "2015-10-21T00:00:00",
          "2015-10-22T00:00:00",
          "2015-10-23T00:00:00",
          "2015-10-26T00:00:00",
          "2015-10-27T00:00:00",
          "2015-10-28T00:00:00",
          "2015-10-29T00:00:00",
          "2015-10-30T00:00:00",
          "2015-11-02T00:00:00",
          "2015-11-03T00:00:00",
          "2015-11-04T00:00:00",
          "2015-11-05T00:00:00",
          "2015-11-06T00:00:00",
          "2015-11-09T00:00:00",
          "2015-11-10T00:00:00",
          "2015-11-11T00:00:00",
          "2015-11-12T00:00:00",
          "2015-11-13T00:00:00",
          "2015-11-16T00:00:00",
          "2015-11-17T00:00:00",
          "2015-11-18T00:00:00",
          "2015-11-19T00:00:00",
          "2015-11-20T00:00:00",
          "2015-11-23T00:00:00",
          "2015-11-24T00:00:00",
          "2015-11-25T00:00:00",
          "2015-11-27T00:00:00",
          "2015-11-30T00:00:00",
          "2015-12-01T00:00:00",
          "2015-12-02T00:00:00",
          "2015-12-03T00:00:00",
          "2015-12-04T00:00:00",
          "2015-12-07T00:00:00",
          "2015-12-08T00:00:00",
          "2015-12-09T00:00:00",
          "2015-12-10T00:00:00",
          "2015-12-11T00:00:00",
          "2015-12-14T00:00:00",
          "2015-12-15T00:00:00",
          "2015-12-16T00:00:00",
          "2015-12-17T00:00:00",
          "2015-12-18T00:00:00",
          "2015-12-21T00:00:00",
          "2015-12-22T00:00:00",
          "2015-12-23T00:00:00",
          "2015-12-24T00:00:00",
          "2015-12-28T00:00:00",
          "2015-12-29T00:00:00",
          "2015-12-30T00:00:00",
          "2015-12-31T00:00:00",
          "2016-01-04T00:00:00",
          "2016-01-05T00:00:00",
          "2016-01-06T00:00:00",
          "2016-01-07T00:00:00",
          "2016-01-08T00:00:00",
          "2016-01-11T00:00:00",
          "2016-01-12T00:00:00",
          "2016-01-13T00:00:00",
          "2016-01-14T00:00:00",
          "2016-01-15T00:00:00",
          "2016-01-19T00:00:00",
          "2016-01-20T00:00:00",
          "2016-01-21T00:00:00",
          "2016-01-22T00:00:00",
          "2016-01-25T00:00:00",
          "2016-01-26T00:00:00",
          "2016-01-27T00:00:00",
          "2016-01-28T00:00:00",
          "2016-01-29T00:00:00",
          "2016-02-01T00:00:00",
          "2016-02-02T00:00:00",
          "2016-02-03T00:00:00",
          "2016-02-04T00:00:00",
          "2016-02-05T00:00:00",
          "2016-02-08T00:00:00",
          "2016-02-09T00:00:00",
          "2016-02-10T00:00:00",
          "2016-02-11T00:00:00",
          "2016-02-12T00:00:00",
          "2016-02-16T00:00:00",
          "2016-02-17T00:00:00",
          "2016-02-18T00:00:00",
          "2016-02-19T00:00:00",
          "2016-02-22T00:00:00",
          "2016-02-23T00:00:00",
          "2016-02-24T00:00:00",
          "2016-02-25T00:00:00",
          "2016-02-26T00:00:00",
          "2016-02-29T00:00:00",
          "2016-03-01T00:00:00",
          "2016-03-02T00:00:00",
          "2016-03-03T00:00:00",
          "2016-03-04T00:00:00",
          "2016-03-07T00:00:00",
          "2016-03-08T00:00:00",
          "2016-03-09T00:00:00",
          "2016-03-10T00:00:00",
          "2016-03-11T00:00:00",
          "2016-03-14T00:00:00",
          "2016-03-15T00:00:00",
          "2016-03-16T00:00:00",
          "2016-03-17T00:00:00",
          "2016-03-18T00:00:00",
          "2016-03-21T00:00:00",
          "2016-03-22T00:00:00",
          "2016-03-23T00:00:00",
          "2016-03-24T00:00:00",
          "2016-03-28T00:00:00",
          "2016-03-29T00:00:00",
          "2016-03-30T00:00:00",
          "2016-03-31T00:00:00",
          "2016-04-01T00:00:00",
          "2016-04-04T00:00:00",
          "2016-04-05T00:00:00",
          "2016-04-06T00:00:00",
          "2016-04-07T00:00:00",
          "2016-04-08T00:00:00",
          "2016-04-11T00:00:00",
          "2016-04-12T00:00:00",
          "2016-04-13T00:00:00",
          "2016-04-14T00:00:00",
          "2016-04-15T00:00:00",
          "2016-04-18T00:00:00",
          "2016-04-19T00:00:00",
          "2016-04-20T00:00:00",
          "2016-04-21T00:00:00",
          "2016-04-22T00:00:00",
          "2016-04-25T00:00:00",
          "2016-04-26T00:00:00",
          "2016-04-27T00:00:00",
          "2016-04-28T00:00:00",
          "2016-04-29T00:00:00",
          "2016-05-02T00:00:00",
          "2016-05-03T00:00:00",
          "2016-05-04T00:00:00",
          "2016-05-05T00:00:00",
          "2016-05-06T00:00:00",
          "2016-05-09T00:00:00",
          "2016-05-10T00:00:00",
          "2016-05-11T00:00:00",
          "2016-05-12T00:00:00",
          "2016-05-13T00:00:00",
          "2016-05-16T00:00:00",
          "2016-05-17T00:00:00",
          "2016-05-18T00:00:00",
          "2016-05-19T00:00:00",
          "2016-05-20T00:00:00",
          "2016-05-23T00:00:00",
          "2016-05-24T00:00:00",
          "2016-05-25T00:00:00",
          "2016-05-26T00:00:00",
          "2016-05-27T00:00:00",
          "2016-05-31T00:00:00",
          "2016-06-01T00:00:00",
          "2016-06-02T00:00:00",
          "2016-06-03T00:00:00",
          "2016-06-06T00:00:00",
          "2016-06-07T00:00:00",
          "2016-06-08T00:00:00",
          "2016-06-09T00:00:00",
          "2016-06-10T00:00:00",
          "2016-06-13T00:00:00",
          "2016-06-14T00:00:00",
          "2016-06-15T00:00:00",
          "2016-06-16T00:00:00",
          "2016-06-17T00:00:00",
          "2016-06-20T00:00:00",
          "2016-06-21T00:00:00",
          "2016-06-22T00:00:00",
          "2016-06-23T00:00:00",
          "2016-06-24T00:00:00",
          "2016-06-27T00:00:00",
          "2016-06-28T00:00:00",
          "2016-06-29T00:00:00",
          "2016-06-30T00:00:00",
          "2016-07-01T00:00:00",
          "2016-07-05T00:00:00",
          "2016-07-06T00:00:00",
          "2016-07-07T00:00:00",
          "2016-07-08T00:00:00",
          "2016-07-11T00:00:00",
          "2016-07-12T00:00:00",
          "2016-07-13T00:00:00",
          "2016-07-14T00:00:00",
          "2016-07-15T00:00:00",
          "2016-07-18T00:00:00",
          "2016-07-19T00:00:00",
          "2016-07-20T00:00:00",
          "2016-07-21T00:00:00",
          "2016-07-22T00:00:00",
          "2016-07-25T00:00:00",
          "2016-07-26T00:00:00",
          "2016-07-27T00:00:00",
          "2016-07-28T00:00:00",
          "2016-07-29T00:00:00",
          "2016-08-01T00:00:00",
          "2016-08-02T00:00:00",
          "2016-08-03T00:00:00",
          "2016-08-04T00:00:00",
          "2016-08-05T00:00:00",
          "2016-08-08T00:00:00",
          "2016-08-09T00:00:00",
          "2016-08-10T00:00:00",
          "2016-08-11T00:00:00",
          "2016-08-12T00:00:00",
          "2016-08-15T00:00:00",
          "2016-08-16T00:00:00",
          "2016-08-17T00:00:00",
          "2016-08-18T00:00:00",
          "2016-08-19T00:00:00",
          "2016-08-22T00:00:00",
          "2016-08-23T00:00:00",
          "2016-08-24T00:00:00",
          "2016-08-25T00:00:00",
          "2016-08-26T00:00:00",
          "2016-08-29T00:00:00",
          "2016-08-30T00:00:00",
          "2016-08-31T00:00:00",
          "2016-09-01T00:00:00",
          "2016-09-02T00:00:00",
          "2016-09-06T00:00:00",
          "2016-09-07T00:00:00",
          "2016-09-08T00:00:00",
          "2016-09-09T00:00:00",
          "2016-09-12T00:00:00",
          "2016-09-13T00:00:00",
          "2016-09-14T00:00:00",
          "2016-09-15T00:00:00",
          "2016-09-16T00:00:00",
          "2016-09-19T00:00:00",
          "2016-09-20T00:00:00",
          "2016-09-21T00:00:00",
          "2016-09-22T00:00:00",
          "2016-09-23T00:00:00",
          "2016-09-26T00:00:00",
          "2016-09-27T00:00:00",
          "2016-09-28T00:00:00",
          "2016-09-29T00:00:00",
          "2016-09-30T00:00:00",
          "2016-10-03T00:00:00",
          "2016-10-04T00:00:00",
          "2016-10-05T00:00:00",
          "2016-10-06T00:00:00",
          "2016-10-07T00:00:00",
          "2016-10-10T00:00:00",
          "2016-10-11T00:00:00",
          "2016-10-12T00:00:00",
          "2016-10-13T00:00:00",
          "2016-10-14T00:00:00",
          "2016-10-17T00:00:00",
          "2016-10-18T00:00:00",
          "2016-10-19T00:00:00",
          "2016-10-20T00:00:00",
          "2016-10-21T00:00:00",
          "2016-10-24T00:00:00",
          "2016-10-25T00:00:00",
          "2016-10-26T00:00:00",
          "2016-10-27T00:00:00",
          "2016-10-28T00:00:00",
          "2016-10-31T00:00:00",
          "2016-11-01T00:00:00",
          "2016-11-02T00:00:00",
          "2016-11-03T00:00:00",
          "2016-11-04T00:00:00",
          "2016-11-07T00:00:00",
          "2016-11-08T00:00:00",
          "2016-11-09T00:00:00",
          "2016-11-10T00:00:00",
          "2016-11-11T00:00:00",
          "2016-11-14T00:00:00",
          "2016-11-15T00:00:00",
          "2016-11-16T00:00:00",
          "2016-11-17T00:00:00",
          "2016-11-18T00:00:00",
          "2016-11-21T00:00:00",
          "2016-11-22T00:00:00",
          "2016-11-23T00:00:00",
          "2016-11-25T00:00:00",
          "2016-11-28T00:00:00",
          "2016-11-29T00:00:00",
          "2016-11-30T00:00:00",
          "2016-12-01T00:00:00",
          "2016-12-02T00:00:00",
          "2016-12-05T00:00:00",
          "2016-12-06T00:00:00",
          "2016-12-07T00:00:00",
          "2016-12-08T00:00:00",
          "2016-12-09T00:00:00",
          "2016-12-12T00:00:00",
          "2016-12-13T00:00:00",
          "2016-12-14T00:00:00",
          "2016-12-15T00:00:00",
          "2016-12-16T00:00:00",
          "2016-12-19T00:00:00",
          "2016-12-20T00:00:00",
          "2016-12-21T00:00:00",
          "2016-12-22T00:00:00",
          "2016-12-23T00:00:00",
          "2016-12-27T00:00:00",
          "2016-12-28T00:00:00",
          "2016-12-29T00:00:00",
          "2016-12-30T00:00:00",
          "2017-01-03T00:00:00",
          "2017-01-04T00:00:00",
          "2017-01-05T00:00:00",
          "2017-01-06T00:00:00",
          "2017-01-09T00:00:00",
          "2017-01-10T00:00:00",
          "2017-01-11T00:00:00",
          "2017-01-12T00:00:00",
          "2017-01-13T00:00:00",
          "2017-01-17T00:00:00",
          "2017-01-18T00:00:00",
          "2017-01-19T00:00:00",
          "2017-01-20T00:00:00",
          "2017-01-23T00:00:00",
          "2017-01-24T00:00:00",
          "2017-01-25T00:00:00",
          "2017-01-26T00:00:00",
          "2017-01-27T00:00:00",
          "2017-01-30T00:00:00",
          "2017-01-31T00:00:00",
          "2017-02-01T00:00:00",
          "2017-02-02T00:00:00",
          "2017-02-03T00:00:00",
          "2017-02-06T00:00:00",
          "2017-02-07T00:00:00",
          "2017-02-08T00:00:00",
          "2017-02-09T00:00:00",
          "2017-02-10T00:00:00",
          "2017-02-13T00:00:00",
          "2017-02-14T00:00:00",
          "2017-02-15T00:00:00",
          "2017-02-16T00:00:00",
          "2017-02-17T00:00:00",
          "2017-02-21T00:00:00",
          "2017-02-22T00:00:00",
          "2017-02-23T00:00:00",
          "2017-02-24T00:00:00",
          "2017-02-27T00:00:00",
          "2017-02-28T00:00:00",
          "2017-03-01T00:00:00",
          "2017-03-02T00:00:00",
          "2017-03-03T00:00:00",
          "2017-03-06T00:00:00",
          "2017-03-07T00:00:00",
          "2017-03-08T00:00:00",
          "2017-03-09T00:00:00",
          "2017-03-10T00:00:00",
          "2017-03-13T00:00:00",
          "2017-03-14T00:00:00",
          "2017-03-15T00:00:00",
          "2017-03-16T00:00:00",
          "2017-03-17T00:00:00",
          "2017-03-20T00:00:00",
          "2017-03-21T00:00:00",
          "2017-03-22T00:00:00",
          "2017-03-23T00:00:00",
          "2017-03-24T00:00:00",
          "2017-03-27T00:00:00",
          "2017-03-28T00:00:00",
          "2017-03-29T00:00:00",
          "2017-03-30T00:00:00",
          "2017-03-31T00:00:00",
          "2017-04-03T00:00:00",
          "2017-04-04T00:00:00",
          "2017-04-05T00:00:00",
          "2017-04-06T00:00:00",
          "2017-04-07T00:00:00",
          "2017-04-10T00:00:00",
          "2017-04-11T00:00:00",
          "2017-04-12T00:00:00",
          "2017-04-13T00:00:00",
          "2017-04-17T00:00:00",
          "2017-04-18T00:00:00",
          "2017-04-19T00:00:00",
          "2017-04-20T00:00:00",
          "2017-04-21T00:00:00",
          "2017-04-24T00:00:00",
          "2017-04-25T00:00:00",
          "2017-04-26T00:00:00",
          "2017-04-27T00:00:00",
          "2017-04-28T00:00:00",
          "2017-05-01T00:00:00",
          "2017-05-02T00:00:00",
          "2017-05-03T00:00:00",
          "2017-05-04T00:00:00",
          "2017-05-05T00:00:00",
          "2017-05-08T00:00:00",
          "2017-05-09T00:00:00",
          "2017-05-10T00:00:00",
          "2017-05-11T00:00:00",
          "2017-05-12T00:00:00",
          "2017-05-15T00:00:00",
          "2017-05-16T00:00:00",
          "2017-05-17T00:00:00",
          "2017-05-18T00:00:00",
          "2017-05-19T00:00:00",
          "2017-05-22T00:00:00",
          "2017-05-23T00:00:00",
          "2017-05-24T00:00:00",
          "2017-05-25T00:00:00",
          "2017-05-26T00:00:00",
          "2017-05-30T00:00:00",
          "2017-05-31T00:00:00",
          "2017-06-01T00:00:00",
          "2017-06-02T00:00:00",
          "2017-06-05T00:00:00",
          "2017-06-06T00:00:00",
          "2017-06-07T00:00:00",
          "2017-06-08T00:00:00",
          "2017-06-09T00:00:00",
          "2017-06-12T00:00:00",
          "2017-06-13T00:00:00",
          "2017-06-14T00:00:00",
          "2017-06-15T00:00:00",
          "2017-06-16T00:00:00",
          "2017-06-19T00:00:00",
          "2017-06-20T00:00:00",
          "2017-06-21T00:00:00",
          "2017-06-22T00:00:00",
          "2017-06-23T00:00:00",
          "2017-06-26T00:00:00",
          "2017-06-27T00:00:00",
          "2017-06-28T00:00:00",
          "2017-06-29T00:00:00",
          "2017-06-30T00:00:00",
          "2017-07-03T00:00:00",
          "2017-07-05T00:00:00",
          "2017-07-06T00:00:00",
          "2017-07-07T00:00:00",
          "2017-07-10T00:00:00",
          "2017-07-11T00:00:00",
          "2017-07-12T00:00:00",
          "2017-07-13T00:00:00",
          "2017-07-14T00:00:00",
          "2017-07-17T00:00:00",
          "2017-07-18T00:00:00",
          "2017-07-19T00:00:00",
          "2017-07-20T00:00:00",
          "2017-07-21T00:00:00",
          "2017-07-24T00:00:00",
          "2017-07-25T00:00:00",
          "2017-07-26T00:00:00",
          "2017-07-27T00:00:00",
          "2017-07-28T00:00:00",
          "2017-07-31T00:00:00",
          "2017-08-01T00:00:00",
          "2017-08-02T00:00:00",
          "2017-08-03T00:00:00",
          "2017-08-04T00:00:00",
          "2017-08-07T00:00:00",
          "2017-08-08T00:00:00",
          "2017-08-09T00:00:00",
          "2017-08-10T00:00:00",
          "2017-08-11T00:00:00",
          "2017-08-14T00:00:00",
          "2017-08-15T00:00:00",
          "2017-08-16T00:00:00",
          "2017-08-17T00:00:00",
          "2017-08-18T00:00:00",
          "2017-08-21T00:00:00",
          "2017-08-22T00:00:00",
          "2017-08-23T00:00:00",
          "2017-08-24T00:00:00",
          "2017-08-25T00:00:00",
          "2017-08-28T00:00:00",
          "2017-08-29T00:00:00",
          "2017-08-30T00:00:00",
          "2017-08-31T00:00:00",
          "2017-09-01T00:00:00",
          "2017-09-05T00:00:00",
          "2017-09-06T00:00:00",
          "2017-09-07T00:00:00",
          "2017-09-08T00:00:00",
          "2017-09-11T00:00:00",
          "2017-09-12T00:00:00",
          "2017-09-13T00:00:00",
          "2017-09-14T00:00:00",
          "2017-09-15T00:00:00",
          "2017-09-18T00:00:00",
          "2017-09-19T00:00:00",
          "2017-09-20T00:00:00",
          "2017-09-21T00:00:00",
          "2017-09-22T00:00:00",
          "2017-09-25T00:00:00",
          "2017-09-26T00:00:00",
          "2017-09-27T00:00:00",
          "2017-09-28T00:00:00",
          "2017-09-29T00:00:00",
          "2017-10-02T00:00:00",
          "2017-10-03T00:00:00",
          "2017-10-04T00:00:00",
          "2017-10-05T00:00:00",
          "2017-10-06T00:00:00",
          "2017-10-09T00:00:00",
          "2017-10-10T00:00:00",
          "2017-10-11T00:00:00",
          "2017-10-12T00:00:00",
          "2017-10-13T00:00:00",
          "2017-10-16T00:00:00",
          "2017-10-17T00:00:00",
          "2017-10-18T00:00:00",
          "2017-10-19T00:00:00",
          "2017-10-20T00:00:00",
          "2017-10-23T00:00:00",
          "2017-10-24T00:00:00",
          "2017-10-25T00:00:00",
          "2017-10-26T00:00:00",
          "2017-10-27T00:00:00",
          "2017-10-30T00:00:00",
          "2017-10-31T00:00:00",
          "2017-11-01T00:00:00",
          "2017-11-02T00:00:00",
          "2017-11-03T00:00:00",
          "2017-11-06T00:00:00",
          "2017-11-07T00:00:00",
          "2017-11-08T00:00:00",
          "2017-11-09T00:00:00",
          "2017-11-10T00:00:00",
          "2017-11-13T00:00:00",
          "2017-11-14T00:00:00",
          "2017-11-15T00:00:00",
          "2017-11-16T00:00:00",
          "2017-11-17T00:00:00",
          "2017-11-20T00:00:00",
          "2017-11-21T00:00:00",
          "2017-11-22T00:00:00",
          "2017-11-24T00:00:00",
          "2017-11-27T00:00:00",
          "2017-11-28T00:00:00",
          "2017-11-29T00:00:00",
          "2017-11-30T00:00:00",
          "2017-12-01T00:00:00",
          "2017-12-04T00:00:00",
          "2017-12-05T00:00:00",
          "2017-12-06T00:00:00",
          "2017-12-07T00:00:00",
          "2017-12-08T00:00:00",
          "2017-12-11T00:00:00",
          "2017-12-12T00:00:00",
          "2017-12-13T00:00:00",
          "2017-12-14T00:00:00",
          "2017-12-15T00:00:00",
          "2017-12-18T00:00:00",
          "2017-12-19T00:00:00",
          "2017-12-20T00:00:00",
          "2017-12-21T00:00:00",
          "2017-12-22T00:00:00",
          "2017-12-26T00:00:00",
          "2017-12-27T00:00:00",
          "2017-12-28T00:00:00",
          "2017-12-29T00:00:00",
          "2018-01-02T00:00:00",
          "2018-01-03T00:00:00",
          "2018-01-04T00:00:00",
          "2018-01-05T00:00:00",
          "2018-01-08T00:00:00",
          "2018-01-09T00:00:00",
          "2018-01-10T00:00:00",
          "2018-01-11T00:00:00",
          "2018-01-12T00:00:00",
          "2018-01-16T00:00:00",
          "2018-01-17T00:00:00",
          "2018-01-18T00:00:00",
          "2018-01-19T00:00:00",
          "2018-01-22T00:00:00",
          "2018-01-23T00:00:00",
          "2018-01-24T00:00:00",
          "2018-01-25T00:00:00",
          "2018-01-26T00:00:00",
          "2018-01-29T00:00:00",
          "2018-01-30T00:00:00",
          "2018-01-31T00:00:00",
          "2018-02-01T00:00:00",
          "2018-02-02T00:00:00",
          "2018-02-05T00:00:00",
          "2018-02-06T00:00:00",
          "2018-02-07T00:00:00",
          "2018-02-08T00:00:00",
          "2018-02-09T00:00:00",
          "2018-02-12T00:00:00",
          "2018-02-13T00:00:00",
          "2018-02-14T00:00:00",
          "2018-02-15T00:00:00",
          "2018-02-16T00:00:00",
          "2018-02-20T00:00:00",
          "2018-02-21T00:00:00",
          "2018-02-22T00:00:00",
          "2018-02-23T00:00:00",
          "2018-02-26T00:00:00",
          "2018-02-27T00:00:00",
          "2018-02-28T00:00:00",
          "2018-03-01T00:00:00",
          "2018-03-02T00:00:00",
          "2018-03-05T00:00:00",
          "2018-03-06T00:00:00",
          "2018-03-07T00:00:00",
          "2018-03-08T00:00:00",
          "2018-03-09T00:00:00",
          "2018-03-12T00:00:00",
          "2018-03-13T00:00:00",
          "2018-03-14T00:00:00",
          "2018-03-15T00:00:00",
          "2018-03-16T00:00:00",
          "2018-03-19T00:00:00",
          "2018-03-20T00:00:00",
          "2018-03-21T00:00:00",
          "2018-03-22T00:00:00",
          "2018-03-23T00:00:00",
          "2018-03-26T00:00:00",
          "2018-03-27T00:00:00",
          "2018-03-28T00:00:00",
          "2018-03-29T00:00:00",
          "2018-04-02T00:00:00",
          "2018-04-03T00:00:00",
          "2018-04-04T00:00:00",
          "2018-04-05T00:00:00",
          "2018-04-06T00:00:00",
          "2018-04-09T00:00:00",
          "2018-04-10T00:00:00",
          "2018-04-11T00:00:00",
          "2018-04-12T00:00:00",
          "2018-04-13T00:00:00",
          "2018-04-16T00:00:00",
          "2018-04-17T00:00:00",
          "2018-04-18T00:00:00",
          "2018-04-19T00:00:00",
          "2018-04-20T00:00:00",
          "2018-04-23T00:00:00",
          "2018-04-24T00:00:00",
          "2018-04-25T00:00:00",
          "2018-04-26T00:00:00",
          "2018-04-27T00:00:00",
          "2018-04-30T00:00:00",
          "2018-05-01T00:00:00",
          "2018-05-02T00:00:00",
          "2018-05-03T00:00:00",
          "2018-05-04T00:00:00",
          "2018-05-07T00:00:00",
          "2018-05-08T00:00:00",
          "2018-05-09T00:00:00",
          "2018-05-10T00:00:00",
          "2018-05-11T00:00:00",
          "2018-05-14T00:00:00",
          "2018-05-15T00:00:00",
          "2018-05-16T00:00:00",
          "2018-05-17T00:00:00",
          "2018-05-18T00:00:00",
          "2018-05-21T00:00:00",
          "2018-05-22T00:00:00",
          "2018-05-23T00:00:00",
          "2018-05-24T00:00:00",
          "2018-05-25T00:00:00",
          "2018-05-29T00:00:00",
          "2018-05-30T00:00:00",
          "2018-05-31T00:00:00",
          "2018-06-01T00:00:00",
          "2018-06-04T00:00:00",
          "2018-06-05T00:00:00",
          "2018-06-06T00:00:00",
          "2018-06-07T00:00:00",
          "2018-06-08T00:00:00",
          "2018-06-11T00:00:00",
          "2018-06-12T00:00:00",
          "2018-06-13T00:00:00",
          "2018-06-14T00:00:00",
          "2018-06-15T00:00:00",
          "2018-06-18T00:00:00",
          "2018-06-19T00:00:00",
          "2018-06-20T00:00:00",
          "2018-06-21T00:00:00",
          "2018-06-22T00:00:00",
          "2018-06-25T00:00:00",
          "2018-06-26T00:00:00",
          "2018-06-27T00:00:00",
          "2018-06-28T00:00:00",
          "2018-06-29T00:00:00",
          "2018-07-02T00:00:00",
          "2018-07-03T00:00:00",
          "2018-07-05T00:00:00",
          "2018-07-06T00:00:00",
          "2018-07-09T00:00:00",
          "2018-07-10T00:00:00",
          "2018-07-11T00:00:00",
          "2018-07-12T00:00:00",
          "2018-07-13T00:00:00",
          "2018-07-16T00:00:00",
          "2018-07-17T00:00:00",
          "2018-07-18T00:00:00",
          "2018-07-19T00:00:00",
          "2018-07-20T00:00:00",
          "2018-07-23T00:00:00",
          "2018-07-24T00:00:00",
          "2018-07-25T00:00:00",
          "2018-07-26T00:00:00",
          "2018-07-27T00:00:00",
          "2018-07-30T00:00:00",
          "2018-07-31T00:00:00",
          "2018-08-01T00:00:00",
          "2018-08-02T00:00:00",
          "2018-08-03T00:00:00",
          "2018-08-06T00:00:00",
          "2018-08-07T00:00:00",
          "2018-08-08T00:00:00",
          "2018-08-09T00:00:00",
          "2018-08-10T00:00:00",
          "2018-08-13T00:00:00",
          "2018-08-14T00:00:00",
          "2018-08-15T00:00:00",
          "2018-08-16T00:00:00",
          "2018-08-17T00:00:00",
          "2018-08-20T00:00:00",
          "2018-08-21T00:00:00",
          "2018-08-22T00:00:00",
          "2018-08-23T00:00:00",
          "2018-08-24T00:00:00",
          "2018-08-27T00:00:00",
          "2018-08-28T00:00:00",
          "2018-08-29T00:00:00",
          "2018-08-30T00:00:00",
          "2018-08-31T00:00:00",
          "2018-09-04T00:00:00",
          "2018-09-05T00:00:00",
          "2018-09-06T00:00:00",
          "2018-09-07T00:00:00",
          "2018-09-10T00:00:00",
          "2018-09-11T00:00:00",
          "2018-09-12T00:00:00",
          "2018-09-13T00:00:00",
          "2018-09-14T00:00:00",
          "2018-09-17T00:00:00",
          "2018-09-18T00:00:00",
          "2018-09-19T00:00:00",
          "2018-09-20T00:00:00",
          "2018-09-21T00:00:00",
          "2018-09-24T00:00:00",
          "2018-09-25T00:00:00",
          "2018-09-26T00:00:00",
          "2018-09-27T00:00:00",
          "2018-09-28T00:00:00",
          "2018-10-01T00:00:00",
          "2018-10-02T00:00:00",
          "2018-10-03T00:00:00",
          "2018-10-04T00:00:00",
          "2018-10-05T00:00:00",
          "2018-10-08T00:00:00",
          "2018-10-09T00:00:00",
          "2018-10-10T00:00:00",
          "2018-10-11T00:00:00",
          "2018-10-12T00:00:00",
          "2018-10-15T00:00:00",
          "2018-10-16T00:00:00",
          "2018-10-17T00:00:00",
          "2018-10-18T00:00:00",
          "2018-10-19T00:00:00",
          "2018-10-22T00:00:00",
          "2018-10-23T00:00:00",
          "2018-10-24T00:00:00",
          "2018-10-25T00:00:00",
          "2018-10-26T00:00:00",
          "2018-10-29T00:00:00",
          "2018-10-30T00:00:00",
          "2018-10-31T00:00:00",
          "2018-11-01T00:00:00",
          "2018-11-02T00:00:00",
          "2018-11-05T00:00:00",
          "2018-11-06T00:00:00",
          "2018-11-07T00:00:00",
          "2018-11-08T00:00:00",
          "2018-11-09T00:00:00",
          "2018-11-12T00:00:00",
          "2018-11-13T00:00:00",
          "2018-11-14T00:00:00",
          "2018-11-15T00:00:00",
          "2018-11-16T00:00:00",
          "2018-11-19T00:00:00",
          "2018-11-20T00:00:00",
          "2018-11-21T00:00:00",
          "2018-11-23T00:00:00",
          "2018-11-26T00:00:00",
          "2018-11-27T00:00:00",
          "2018-11-28T00:00:00",
          "2018-11-29T00:00:00",
          "2018-11-30T00:00:00",
          "2018-12-03T00:00:00",
          "2018-12-04T00:00:00",
          "2018-12-06T00:00:00",
          "2018-12-07T00:00:00",
          "2018-12-10T00:00:00",
          "2018-12-11T00:00:00",
          "2018-12-12T00:00:00",
          "2018-12-13T00:00:00",
          "2018-12-14T00:00:00",
          "2018-12-17T00:00:00",
          "2018-12-18T00:00:00",
          "2018-12-19T00:00:00",
          "2018-12-20T00:00:00",
          "2018-12-21T00:00:00",
          "2018-12-24T00:00:00",
          "2018-12-26T00:00:00",
          "2018-12-27T00:00:00",
          "2018-12-28T00:00:00",
          "2018-12-31T00:00:00",
          "2019-01-02T00:00:00",
          "2019-01-03T00:00:00",
          "2019-01-04T00:00:00",
          "2019-01-07T00:00:00",
          "2019-01-08T00:00:00",
          "2019-01-09T00:00:00",
          "2019-01-10T00:00:00",
          "2019-01-11T00:00:00",
          "2019-01-14T00:00:00",
          "2019-01-15T00:00:00",
          "2019-01-16T00:00:00",
          "2019-01-17T00:00:00",
          "2019-01-18T00:00:00",
          "2019-01-22T00:00:00",
          "2019-01-23T00:00:00",
          "2019-01-24T00:00:00",
          "2019-01-25T00:00:00",
          "2019-01-28T00:00:00",
          "2019-01-29T00:00:00",
          "2019-01-30T00:00:00",
          "2019-01-31T00:00:00",
          "2019-02-01T00:00:00",
          "2019-02-04T00:00:00",
          "2019-02-05T00:00:00",
          "2019-02-06T00:00:00",
          "2019-02-07T00:00:00",
          "2019-02-08T00:00:00",
          "2019-02-11T00:00:00",
          "2019-02-12T00:00:00",
          "2019-02-13T00:00:00",
          "2019-02-14T00:00:00",
          "2019-02-15T00:00:00",
          "2019-02-19T00:00:00",
          "2019-02-20T00:00:00",
          "2019-02-21T00:00:00",
          "2019-02-22T00:00:00",
          "2019-02-25T00:00:00",
          "2019-02-26T00:00:00",
          "2019-02-27T00:00:00",
          "2019-02-28T00:00:00",
          "2019-03-01T00:00:00",
          "2019-03-04T00:00:00",
          "2019-03-05T00:00:00",
          "2019-03-06T00:00:00",
          "2019-03-07T00:00:00",
          "2019-03-08T00:00:00",
          "2019-03-11T00:00:00",
          "2019-03-12T00:00:00",
          "2019-03-13T00:00:00",
          "2019-03-14T00:00:00",
          "2019-03-15T00:00:00",
          "2019-03-18T00:00:00",
          "2019-03-19T00:00:00",
          "2019-03-20T00:00:00",
          "2019-03-21T00:00:00",
          "2019-03-22T00:00:00",
          "2019-03-25T00:00:00",
          "2019-03-26T00:00:00",
          "2019-03-27T00:00:00",
          "2019-03-28T00:00:00",
          "2019-03-29T00:00:00",
          "2019-04-01T00:00:00",
          "2019-04-02T00:00:00",
          "2019-04-03T00:00:00",
          "2019-04-04T00:00:00",
          "2019-04-05T00:00:00",
          "2019-04-08T00:00:00",
          "2019-04-09T00:00:00",
          "2019-04-10T00:00:00",
          "2019-04-11T00:00:00",
          "2019-04-12T00:00:00",
          "2019-04-15T00:00:00",
          "2019-04-16T00:00:00",
          "2019-04-17T00:00:00",
          "2019-04-18T00:00:00",
          "2019-04-22T00:00:00",
          "2019-04-23T00:00:00",
          "2019-04-24T00:00:00",
          "2019-04-25T00:00:00",
          "2019-04-26T00:00:00",
          "2019-04-29T00:00:00",
          "2019-04-30T00:00:00",
          "2019-05-01T00:00:00",
          "2019-05-02T00:00:00",
          "2019-05-03T00:00:00",
          "2019-05-06T00:00:00",
          "2019-05-07T00:00:00",
          "2019-05-08T00:00:00",
          "2019-05-09T00:00:00",
          "2019-05-10T00:00:00",
          "2019-05-13T00:00:00",
          "2019-05-14T00:00:00",
          "2019-05-15T00:00:00",
          "2019-05-16T00:00:00",
          "2019-05-17T00:00:00",
          "2019-05-20T00:00:00",
          "2019-05-21T00:00:00",
          "2019-05-22T00:00:00",
          "2019-05-23T00:00:00",
          "2019-05-24T00:00:00",
          "2019-05-28T00:00:00",
          "2019-05-29T00:00:00",
          "2019-05-30T00:00:00",
          "2019-05-31T00:00:00",
          "2019-06-03T00:00:00",
          "2019-06-04T00:00:00",
          "2019-06-05T00:00:00",
          "2019-06-06T00:00:00",
          "2019-06-07T00:00:00",
          "2019-06-10T00:00:00",
          "2019-06-11T00:00:00",
          "2019-06-12T00:00:00",
          "2019-06-13T00:00:00",
          "2019-06-14T00:00:00",
          "2019-06-17T00:00:00",
          "2019-06-18T00:00:00",
          "2019-06-19T00:00:00",
          "2019-06-20T00:00:00",
          "2019-06-21T00:00:00",
          "2019-06-24T00:00:00",
          "2019-06-25T00:00:00",
          "2019-06-26T00:00:00",
          "2019-06-27T00:00:00",
          "2019-06-28T00:00:00",
          "2019-07-01T00:00:00",
          "2019-07-02T00:00:00",
          "2019-07-03T00:00:00",
          "2019-07-05T00:00:00",
          "2019-07-08T00:00:00",
          "2019-07-09T00:00:00",
          "2019-07-10T00:00:00",
          "2019-07-11T00:00:00",
          "2019-07-12T00:00:00",
          "2019-07-15T00:00:00",
          "2019-07-16T00:00:00",
          "2019-07-17T00:00:00",
          "2019-07-18T00:00:00",
          "2019-07-19T00:00:00",
          "2019-07-22T00:00:00",
          "2019-07-23T00:00:00",
          "2019-07-24T00:00:00",
          "2019-07-25T00:00:00",
          "2019-07-26T00:00:00",
          "2019-07-29T00:00:00",
          "2019-07-30T00:00:00",
          "2019-07-31T00:00:00",
          "2019-08-01T00:00:00",
          "2019-08-02T00:00:00",
          "2019-08-05T00:00:00",
          "2019-08-06T00:00:00",
          "2019-08-07T00:00:00",
          "2019-08-08T00:00:00",
          "2019-08-09T00:00:00",
          "2019-08-12T00:00:00",
          "2019-08-13T00:00:00",
          "2019-08-14T00:00:00",
          "2019-08-15T00:00:00",
          "2019-08-16T00:00:00",
          "2019-08-19T00:00:00",
          "2019-08-20T00:00:00",
          "2019-08-21T00:00:00",
          "2019-08-22T00:00:00",
          "2019-08-23T00:00:00",
          "2019-08-26T00:00:00",
          "2019-08-27T00:00:00",
          "2019-08-28T00:00:00",
          "2019-08-29T00:00:00",
          "2019-08-30T00:00:00",
          "2019-09-03T00:00:00",
          "2019-09-04T00:00:00",
          "2019-09-05T00:00:00",
          "2019-09-06T00:00:00",
          "2019-09-09T00:00:00",
          "2019-09-10T00:00:00",
          "2019-09-11T00:00:00",
          "2019-09-12T00:00:00",
          "2019-09-13T00:00:00",
          "2019-09-16T00:00:00",
          "2019-09-17T00:00:00",
          "2019-09-18T00:00:00",
          "2019-09-19T00:00:00",
          "2019-09-20T00:00:00",
          "2019-09-23T00:00:00",
          "2019-09-24T00:00:00",
          "2019-09-25T00:00:00",
          "2019-09-26T00:00:00",
          "2019-09-27T00:00:00",
          "2019-09-30T00:00:00",
          "2019-10-01T00:00:00",
          "2019-10-02T00:00:00",
          "2019-10-03T00:00:00",
          "2019-10-04T00:00:00",
          "2019-10-07T00:00:00",
          "2019-10-08T00:00:00",
          "2019-10-09T00:00:00",
          "2019-10-10T00:00:00",
          "2019-10-11T00:00:00",
          "2019-10-14T00:00:00",
          "2019-10-15T00:00:00",
          "2019-10-16T00:00:00",
          "2019-10-17T00:00:00",
          "2019-10-18T00:00:00",
          "2019-10-21T00:00:00",
          "2019-10-22T00:00:00",
          "2019-10-23T00:00:00",
          "2019-10-24T00:00:00",
          "2019-10-25T00:00:00",
          "2019-10-28T00:00:00",
          "2019-10-29T00:00:00",
          "2019-10-30T00:00:00",
          "2019-10-31T00:00:00",
          "2019-11-01T00:00:00",
          "2019-11-04T00:00:00",
          "2019-11-05T00:00:00",
          "2019-11-06T00:00:00",
          "2019-11-07T00:00:00",
          "2019-11-08T00:00:00",
          "2019-11-11T00:00:00",
          "2019-11-12T00:00:00",
          "2019-11-13T00:00:00",
          "2019-11-14T00:00:00",
          "2019-11-15T00:00:00",
          "2019-11-18T00:00:00",
          "2019-11-19T00:00:00",
          "2019-11-20T00:00:00",
          "2019-11-21T00:00:00",
          "2019-11-22T00:00:00",
          "2019-11-25T00:00:00",
          "2019-11-26T00:00:00",
          "2019-11-27T00:00:00",
          "2019-11-29T00:00:00",
          "2019-12-02T00:00:00",
          "2019-12-03T00:00:00",
          "2019-12-04T00:00:00",
          "2019-12-05T00:00:00",
          "2019-12-06T00:00:00",
          "2019-12-09T00:00:00",
          "2019-12-10T00:00:00",
          "2019-12-11T00:00:00",
          "2019-12-12T00:00:00",
          "2019-12-13T00:00:00",
          "2019-12-16T00:00:00",
          "2019-12-17T00:00:00",
          "2019-12-18T00:00:00",
          "2019-12-19T00:00:00",
          "2019-12-20T00:00:00",
          "2019-12-23T00:00:00",
          "2019-12-24T00:00:00",
          "2019-12-26T00:00:00",
          "2019-12-27T00:00:00",
          "2019-12-30T00:00:00",
          "2019-12-31T00:00:00",
          "2020-01-02T00:00:00",
          "2020-01-03T00:00:00",
          "2020-01-06T00:00:00",
          "2020-01-07T00:00:00",
          "2020-01-08T00:00:00",
          "2020-01-09T00:00:00",
          "2020-01-10T00:00:00",
          "2020-01-13T00:00:00",
          "2020-01-14T00:00:00",
          "2020-01-15T00:00:00",
          "2020-01-16T00:00:00",
          "2020-01-17T00:00:00",
          "2020-01-21T00:00:00",
          "2020-01-22T00:00:00",
          "2020-01-23T00:00:00",
          "2020-01-24T00:00:00",
          "2020-01-27T00:00:00",
          "2020-01-28T00:00:00",
          "2020-01-29T00:00:00",
          "2020-01-30T00:00:00",
          "2020-01-31T00:00:00",
          "2020-02-03T00:00:00",
          "2020-02-04T00:00:00",
          "2020-02-05T00:00:00",
          "2020-02-06T00:00:00",
          "2020-02-07T00:00:00",
          "2020-02-10T00:00:00",
          "2020-02-11T00:00:00",
          "2020-02-12T00:00:00",
          "2020-02-13T00:00:00",
          "2020-02-14T00:00:00",
          "2020-02-18T00:00:00",
          "2020-02-19T00:00:00",
          "2020-02-20T00:00:00",
          "2020-02-21T00:00:00",
          "2020-02-24T00:00:00",
          "2020-02-25T00:00:00",
          "2020-02-26T00:00:00",
          "2020-02-27T00:00:00",
          "2020-02-28T00:00:00",
          "2020-03-02T00:00:00",
          "2020-03-03T00:00:00",
          "2020-03-04T00:00:00",
          "2020-03-05T00:00:00",
          "2020-03-06T00:00:00",
          "2020-03-09T00:00:00",
          "2020-03-10T00:00:00",
          "2020-03-11T00:00:00",
          "2020-03-12T00:00:00",
          "2020-03-13T00:00:00",
          "2020-03-16T00:00:00",
          "2020-03-17T00:00:00",
          "2020-03-18T00:00:00",
          "2020-03-19T00:00:00",
          "2020-03-20T00:00:00",
          "2020-03-23T00:00:00",
          "2020-03-24T00:00:00",
          "2020-03-25T00:00:00",
          "2020-03-26T00:00:00",
          "2020-03-27T00:00:00",
          "2020-03-30T00:00:00",
          "2020-03-31T00:00:00",
          "2020-04-01T00:00:00",
          "2020-04-02T00:00:00",
          "2020-04-03T00:00:00",
          "2020-04-06T00:00:00",
          "2020-04-07T00:00:00",
          "2020-04-08T00:00:00",
          "2020-04-09T00:00:00",
          "2020-04-13T00:00:00",
          "2020-04-14T00:00:00",
          "2020-04-15T00:00:00",
          "2020-04-16T00:00:00",
          "2020-04-17T00:00:00",
          "2020-04-20T00:00:00",
          "2020-04-21T00:00:00",
          "2020-04-22T00:00:00",
          "2020-04-23T00:00:00",
          "2020-04-24T00:00:00",
          "2020-04-27T00:00:00",
          "2020-04-28T00:00:00",
          "2020-04-29T00:00:00",
          "2020-04-30T00:00:00",
          "2020-05-01T00:00:00",
          "2020-05-04T00:00:00",
          "2020-05-05T00:00:00",
          "2020-05-06T00:00:00",
          "2020-05-07T00:00:00",
          "2020-05-08T00:00:00",
          "2020-05-11T00:00:00",
          "2020-05-12T00:00:00",
          "2020-05-13T00:00:00",
          "2020-05-14T00:00:00",
          "2020-05-15T00:00:00",
          "2020-05-18T00:00:00",
          "2020-05-19T00:00:00",
          "2020-05-20T00:00:00",
          "2020-05-21T00:00:00",
          "2020-05-22T00:00:00",
          "2020-05-26T00:00:00",
          "2020-05-27T00:00:00",
          "2020-05-28T00:00:00",
          "2020-05-29T00:00:00",
          "2020-06-01T00:00:00",
          "2020-06-02T00:00:00",
          "2020-06-03T00:00:00",
          "2020-06-04T00:00:00",
          "2020-06-05T00:00:00",
          "2020-06-08T00:00:00",
          "2020-06-09T00:00:00",
          "2020-06-10T00:00:00",
          "2020-06-11T00:00:00",
          "2020-06-12T00:00:00",
          "2020-06-15T00:00:00",
          "2020-06-16T00:00:00",
          "2020-06-17T00:00:00",
          "2020-06-18T00:00:00",
          "2020-06-19T00:00:00",
          "2020-06-22T00:00:00",
          "2020-06-23T00:00:00",
          "2020-06-24T00:00:00",
          "2020-06-25T00:00:00",
          "2020-06-26T00:00:00",
          "2020-06-29T00:00:00",
          "2020-06-30T00:00:00",
          "2020-07-01T00:00:00",
          "2020-07-02T00:00:00",
          "2020-07-06T00:00:00",
          "2020-07-07T00:00:00",
          "2020-07-08T00:00:00",
          "2020-07-09T00:00:00",
          "2020-07-10T00:00:00",
          "2020-07-13T00:00:00",
          "2020-07-14T00:00:00",
          "2020-07-15T00:00:00",
          "2020-07-16T00:00:00",
          "2020-07-17T00:00:00",
          "2020-07-20T00:00:00",
          "2020-07-21T00:00:00",
          "2020-07-22T00:00:00",
          "2020-07-23T00:00:00",
          "2020-07-24T00:00:00",
          "2020-07-27T00:00:00",
          "2020-07-28T00:00:00",
          "2020-07-29T00:00:00",
          "2020-07-30T00:00:00",
          "2020-07-31T00:00:00",
          "2020-08-03T00:00:00",
          "2020-08-04T00:00:00",
          "2020-08-05T00:00:00",
          "2020-08-06T00:00:00",
          "2020-08-07T00:00:00",
          "2020-08-10T00:00:00",
          "2020-08-11T00:00:00",
          "2020-08-12T00:00:00",
          "2020-08-13T00:00:00",
          "2020-08-14T00:00:00",
          "2020-08-17T00:00:00",
          "2020-08-18T00:00:00",
          "2020-08-19T00:00:00",
          "2020-08-20T00:00:00",
          "2020-08-21T00:00:00",
          "2020-08-24T00:00:00",
          "2020-08-25T00:00:00",
          "2020-08-26T00:00:00",
          "2020-08-27T00:00:00",
          "2020-08-28T00:00:00",
          "2020-08-31T00:00:00",
          "2020-09-01T00:00:00",
          "2020-09-02T00:00:00",
          "2020-09-03T00:00:00",
          "2020-09-04T00:00:00",
          "2020-09-08T00:00:00",
          "2020-09-09T00:00:00",
          "2020-09-10T00:00:00",
          "2020-09-11T00:00:00",
          "2020-09-14T00:00:00",
          "2020-09-15T00:00:00",
          "2020-09-16T00:00:00",
          "2020-09-17T00:00:00",
          "2020-09-18T00:00:00",
          "2020-09-21T00:00:00",
          "2020-09-22T00:00:00",
          "2020-09-23T00:00:00",
          "2020-09-24T00:00:00",
          "2020-09-25T00:00:00",
          "2020-09-28T00:00:00",
          "2020-09-29T00:00:00",
          "2020-09-30T00:00:00",
          "2020-10-01T00:00:00",
          "2020-10-02T00:00:00",
          "2020-10-05T00:00:00",
          "2020-10-06T00:00:00",
          "2020-10-07T00:00:00",
          "2020-10-08T00:00:00",
          "2020-10-09T00:00:00",
          "2020-10-12T00:00:00",
          "2020-10-13T00:00:00",
          "2020-10-14T00:00:00",
          "2020-10-15T00:00:00",
          "2020-10-16T00:00:00",
          "2020-10-19T00:00:00",
          "2020-10-20T00:00:00",
          "2020-10-21T00:00:00",
          "2020-10-22T00:00:00",
          "2020-10-23T00:00:00",
          "2020-10-26T00:00:00",
          "2020-10-27T00:00:00",
          "2020-10-28T00:00:00",
          "2020-10-29T00:00:00",
          "2020-10-30T00:00:00",
          "2020-11-02T00:00:00",
          "2020-11-03T00:00:00",
          "2020-11-04T00:00:00",
          "2020-11-05T00:00:00",
          "2020-11-06T00:00:00",
          "2020-11-09T00:00:00",
          "2020-11-10T00:00:00",
          "2020-11-11T00:00:00",
          "2020-11-12T00:00:00",
          "2020-11-13T00:00:00",
          "2020-11-16T00:00:00",
          "2020-11-17T00:00:00",
          "2020-11-18T00:00:00",
          "2020-11-19T00:00:00",
          "2020-11-20T00:00:00",
          "2020-11-23T00:00:00",
          "2020-11-24T00:00:00",
          "2020-11-25T00:00:00",
          "2020-11-27T00:00:00",
          "2020-11-30T00:00:00",
          "2020-12-01T00:00:00",
          "2020-12-02T00:00:00",
          "2020-12-03T00:00:00",
          "2020-12-04T00:00:00",
          "2020-12-07T00:00:00",
          "2020-12-08T00:00:00",
          "2020-12-09T00:00:00",
          "2020-12-10T00:00:00",
          "2020-12-11T00:00:00",
          "2020-12-14T00:00:00",
          "2020-12-15T00:00:00",
          "2020-12-16T00:00:00",
          "2020-12-17T00:00:00",
          "2020-12-18T00:00:00",
          "2020-12-21T00:00:00",
          "2020-12-22T00:00:00",
          "2020-12-23T00:00:00",
          "2020-12-24T00:00:00",
          "2020-12-28T00:00:00",
          "2020-12-29T00:00:00",
          "2020-12-30T00:00:00",
          "2020-12-31T00:00:00",
          "2021-01-04T00:00:00",
          "2021-01-05T00:00:00",
          "2021-01-06T00:00:00",
          "2021-01-07T00:00:00",
          "2021-01-08T00:00:00",
          "2021-01-11T00:00:00",
          "2021-01-12T00:00:00",
          "2021-01-13T00:00:00",
          "2021-01-14T00:00:00",
          "2021-01-15T00:00:00",
          "2021-01-19T00:00:00",
          "2021-01-20T00:00:00",
          "2021-01-21T00:00:00",
          "2021-01-22T00:00:00",
          "2021-01-25T00:00:00",
          "2021-01-26T00:00:00",
          "2021-01-27T00:00:00",
          "2021-01-28T00:00:00",
          "2021-01-29T00:00:00",
          "2021-02-01T00:00:00",
          "2021-02-02T00:00:00",
          "2021-02-03T00:00:00",
          "2021-02-04T00:00:00",
          "2021-02-05T00:00:00",
          "2021-02-08T00:00:00",
          "2021-02-09T00:00:00",
          "2021-02-10T00:00:00",
          "2021-02-11T00:00:00",
          "2021-02-12T00:00:00",
          "2021-02-16T00:00:00",
          "2021-02-17T00:00:00",
          "2021-02-18T00:00:00",
          "2021-02-19T00:00:00",
          "2021-02-22T00:00:00",
          "2021-02-23T00:00:00",
          "2021-02-24T00:00:00",
          "2021-02-25T00:00:00",
          "2021-02-26T00:00:00",
          "2021-03-01T00:00:00",
          "2021-03-02T00:00:00",
          "2021-03-03T00:00:00",
          "2021-03-04T00:00:00",
          "2021-03-05T00:00:00",
          "2021-03-08T00:00:00",
          "2021-03-09T00:00:00",
          "2021-03-10T00:00:00",
          "2021-03-11T00:00:00",
          "2021-03-12T00:00:00",
          "2021-03-15T00:00:00",
          "2021-03-16T00:00:00",
          "2021-03-17T00:00:00",
          "2021-03-18T00:00:00",
          "2021-03-19T00:00:00",
          "2021-03-22T00:00:00",
          "2021-03-23T00:00:00",
          "2021-03-24T00:00:00",
          "2021-03-25T00:00:00",
          "2021-03-26T00:00:00",
          "2021-03-29T00:00:00",
          "2021-03-30T00:00:00",
          "2021-03-31T00:00:00",
          "2021-04-01T00:00:00",
          "2021-04-05T00:00:00",
          "2021-04-06T00:00:00",
          "2021-04-07T00:00:00",
          "2021-04-08T00:00:00",
          "2021-04-09T00:00:00",
          "2021-04-12T00:00:00",
          "2021-04-13T00:00:00",
          "2021-04-14T00:00:00",
          "2021-04-15T00:00:00",
          "2021-04-16T00:00:00",
          "2021-04-19T00:00:00",
          "2021-04-20T00:00:00",
          "2021-04-21T00:00:00",
          "2021-04-22T00:00:00",
          "2021-04-23T00:00:00",
          "2021-04-26T00:00:00",
          "2021-04-27T00:00:00",
          "2021-04-28T00:00:00",
          "2021-04-29T00:00:00",
          "2021-04-30T00:00:00",
          "2021-05-03T00:00:00",
          "2021-05-04T00:00:00",
          "2021-05-05T00:00:00",
          "2021-05-06T00:00:00",
          "2021-05-07T00:00:00",
          "2021-05-10T00:00:00",
          "2021-05-11T00:00:00",
          "2021-05-12T00:00:00",
          "2021-05-13T00:00:00",
          "2021-05-14T00:00:00",
          "2021-05-17T00:00:00",
          "2021-05-18T00:00:00",
          "2021-05-19T00:00:00",
          "2021-05-20T00:00:00",
          "2021-05-21T00:00:00",
          "2021-05-24T00:00:00",
          "2021-05-25T00:00:00",
          "2021-05-26T00:00:00",
          "2021-05-27T00:00:00",
          "2021-05-28T00:00:00",
          "2021-06-01T00:00:00",
          "2021-06-02T00:00:00",
          "2021-06-03T00:00:00",
          "2021-06-04T00:00:00",
          "2021-06-07T00:00:00",
          "2021-06-08T00:00:00",
          "2021-06-09T00:00:00",
          "2021-06-10T00:00:00",
          "2021-06-11T00:00:00",
          "2021-06-14T00:00:00",
          "2021-06-15T00:00:00",
          "2021-06-16T00:00:00",
          "2021-06-17T00:00:00",
          "2021-06-18T00:00:00",
          "2021-06-21T00:00:00",
          "2021-06-22T00:00:00",
          "2021-06-23T00:00:00",
          "2021-06-24T00:00:00",
          "2021-06-25T00:00:00",
          "2021-06-28T00:00:00",
          "2021-06-29T00:00:00",
          "2021-06-30T00:00:00",
          "2021-07-01T00:00:00",
          "2021-07-02T00:00:00",
          "2021-07-06T00:00:00",
          "2021-07-07T00:00:00",
          "2021-07-08T00:00:00",
          "2021-07-09T00:00:00",
          "2021-07-12T00:00:00",
          "2021-07-13T00:00:00",
          "2021-07-14T00:00:00",
          "2021-07-15T00:00:00",
          "2021-07-16T00:00:00",
          "2021-07-19T00:00:00",
          "2021-07-20T00:00:00",
          "2021-07-21T00:00:00",
          "2021-07-22T00:00:00",
          "2021-07-23T00:00:00",
          "2021-07-26T00:00:00",
          "2021-07-27T00:00:00",
          "2021-07-28T00:00:00",
          "2021-07-29T00:00:00",
          "2021-07-30T00:00:00",
          "2021-08-02T00:00:00",
          "2021-08-03T00:00:00",
          "2021-08-04T00:00:00",
          "2021-08-05T00:00:00",
          "2021-08-06T00:00:00",
          "2021-08-09T00:00:00",
          "2021-08-10T00:00:00",
          "2021-08-11T00:00:00",
          "2021-08-12T00:00:00",
          "2021-08-13T00:00:00",
          "2021-08-16T00:00:00",
          "2021-08-17T00:00:00",
          "2021-08-18T00:00:00",
          "2021-08-19T00:00:00",
          "2021-08-20T00:00:00",
          "2021-08-23T00:00:00",
          "2021-08-24T00:00:00",
          "2021-08-25T00:00:00",
          "2021-08-26T00:00:00",
          "2021-08-27T00:00:00",
          "2021-08-30T00:00:00",
          "2021-08-31T00:00:00",
          "2021-09-01T00:00:00",
          "2021-09-02T00:00:00",
          "2021-09-03T00:00:00",
          "2021-09-07T00:00:00",
          "2021-09-08T00:00:00",
          "2021-09-09T00:00:00",
          "2021-09-10T00:00:00",
          "2021-09-13T00:00:00",
          "2021-09-14T00:00:00",
          "2021-09-15T00:00:00",
          "2021-09-16T00:00:00",
          "2021-09-17T00:00:00",
          "2021-09-20T00:00:00",
          "2021-09-21T00:00:00",
          "2021-09-22T00:00:00",
          "2021-09-23T00:00:00",
          "2021-09-24T00:00:00",
          "2021-09-27T00:00:00",
          "2021-09-28T00:00:00",
          "2021-09-29T00:00:00",
          "2021-09-30T00:00:00",
          "2021-10-01T00:00:00",
          "2021-10-04T00:00:00",
          "2021-10-05T00:00:00",
          "2021-10-06T00:00:00",
          "2021-10-07T00:00:00",
          "2021-10-08T00:00:00",
          "2021-10-11T00:00:00",
          "2021-10-12T00:00:00",
          "2021-10-13T00:00:00",
          "2021-10-14T00:00:00",
          "2021-10-15T00:00:00",
          "2021-10-18T00:00:00",
          "2021-10-19T00:00:00",
          "2021-10-20T00:00:00",
          "2021-10-21T00:00:00",
          "2021-10-22T00:00:00",
          "2021-10-25T00:00:00",
          "2021-10-26T00:00:00",
          "2021-10-27T00:00:00",
          "2021-10-28T00:00:00",
          "2021-10-29T00:00:00",
          "2021-11-01T00:00:00",
          "2021-11-02T00:00:00",
          "2021-11-03T00:00:00",
          "2021-11-04T00:00:00",
          "2021-11-05T00:00:00",
          "2021-11-08T00:00:00",
          "2021-11-09T00:00:00",
          "2021-11-10T00:00:00",
          "2021-11-11T00:00:00",
          "2021-11-12T00:00:00",
          "2021-11-15T00:00:00",
          "2021-11-16T00:00:00",
          "2021-11-17T00:00:00",
          "2021-11-18T00:00:00",
          "2021-11-19T00:00:00",
          "2021-11-22T00:00:00",
          "2021-11-23T00:00:00",
          "2021-11-24T00:00:00",
          "2021-11-26T00:00:00",
          "2021-11-29T00:00:00",
          "2021-11-30T00:00:00",
          "2021-12-01T00:00:00",
          "2021-12-02T00:00:00",
          "2021-12-03T00:00:00",
          "2021-12-06T00:00:00",
          "2021-12-07T00:00:00",
          "2021-12-08T00:00:00",
          "2021-12-09T00:00:00",
          "2021-12-10T00:00:00",
          "2021-12-13T00:00:00",
          "2021-12-14T00:00:00",
          "2021-12-15T00:00:00",
          "2021-12-16T00:00:00",
          "2021-12-17T00:00:00",
          "2021-12-20T00:00:00",
          "2021-12-21T00:00:00",
          "2021-12-22T00:00:00",
          "2021-12-23T00:00:00",
          "2021-12-27T00:00:00",
          "2021-12-28T00:00:00",
          "2021-12-29T00:00:00",
          "2021-12-30T00:00:00",
          "2021-12-31T00:00:00",
          "2022-01-03T00:00:00",
          "2022-01-04T00:00:00",
          "2022-01-05T00:00:00",
          "2022-01-06T00:00:00",
          "2022-01-07T00:00:00",
          "2022-01-10T00:00:00",
          "2022-01-11T00:00:00",
          "2022-01-12T00:00:00",
          "2022-01-13T00:00:00",
          "2022-01-14T00:00:00",
          "2022-01-18T00:00:00",
          "2022-01-19T00:00:00",
          "2022-01-20T00:00:00",
          "2022-01-21T00:00:00",
          "2022-01-24T00:00:00",
          "2022-01-25T00:00:00",
          "2022-01-26T00:00:00",
          "2022-01-27T00:00:00",
          "2022-01-28T00:00:00",
          "2022-01-31T00:00:00",
          "2022-02-01T00:00:00",
          "2022-02-02T00:00:00",
          "2022-02-03T00:00:00",
          "2022-02-04T00:00:00",
          "2022-02-07T00:00:00",
          "2022-02-08T00:00:00",
          "2022-02-09T00:00:00",
          "2022-02-10T00:00:00",
          "2022-02-11T00:00:00",
          "2022-02-14T00:00:00",
          "2022-02-15T00:00:00",
          "2022-02-16T00:00:00",
          "2022-02-17T00:00:00",
          "2022-02-18T00:00:00",
          "2022-02-22T00:00:00",
          "2022-02-23T00:00:00",
          "2022-02-24T00:00:00",
          "2022-02-25T00:00:00",
          "2022-02-28T00:00:00"
         ],
         "xaxis": "x",
         "y": [
          1,
          1.0141971967873964,
          1.001274153595066,
          1.001274153595066,
          0.9708773146594558,
          0.9708773146594558,
          1.002912376181777,
          0.9887148278916128,
          0.9887148278916128,
          0.9887148278916128,
          0.9887148278916128,
          1.004186375994382,
          0.9961777369351089,
          0.9821624867678431,
          0.9910811445237683,
          0.9792502643685269,
          0.9796142235155572,
          0.9908990441211766,
          0.9908990441211766,
          0.9790680760902436,
          0.9790680760902436,
          0.9790680760902436,
          0.9790680760902436,
          0.9790680760902436,
          0.9790680760902436,
          0.9790680760902436,
          0.9790680760902436,
          0.958136152180487,
          0.958136152180487,
          0.9907170096253541,
          0.9799781826625874,
          0.973789537058772,
          0.973789537058772,
          0.9797961701356878,
          0.9787040949742905,
          0.9803422296853095,
          0.9635967037388581,
          0.967054897812104,
          0.975063712622761,
          0.9817983518694291,
          0.9823444992947427,
          0.9799781826625874,
          0.9932654486290239,
          0.9879868217218606,
          0.9872589034278001,
          0.9732434775091504,
          0.9777940762776385,
          0.9599562994184058,
          0.9373865044247058,
          0.943756920897268,
          0.9331996011761722,
          0.9195487275654732,
          0.9133599940859659,
          0.8893338352499937,
          0.8893338352499937,
          0.8709500867168312,
          0.8909719699610129,
          0.8947943868083648,
          0.8751366384625971,
          0.8744083686657691,
          0.8674918706746624,
          0.8916999761307652,
          0.8862396881994699,
          0.891336016983735,
          0.8662176292039044,
          0.8640335008500326,
          0.870221992671387,
          0.896432345768,
          0.9044410727029653,
          0.8967964806664142,
          0.8949763334284955,
          0.9049871542215098,
          0.9029851262702294,
          0.901528850303649,
          0.9115399347237391,
          0.9233709906303642,
          0.9335638239502781,
          0.9331996011761722,
          0.899936235201047,
          0.8944320094237893,
          0.8757176505686821,
          0.8850748739340816,
          0.8916799624419293,
          0.8889278934911464,
          0.9210356062417665,
          0.9192008496700652,
          0.9391993579801948,
          0.9305763579897514,
          0.9171824988090098,
          0.9100271766561739,
          0.9102107929144512,
          0.9070915793228057,
          0.893881665934186,
          0.9072748440783153,
          0.9028717446587232,
          0.9008533937976678,
          0.8986519319635636,
          0.9138800863686238,
          0.8973675408503884,
          0.8821394523520972,
          0.8718648946386931,
          0.8718648946386931,
          0.8718648946386931,
          0.9058073419920915,
          0.91516441157503,
          0.9239711156994428,
          0.9239711156994428,
          0.9061741570991092,
          0.9309433268792299,
          0.935896945539809,
          0.9408505642003878,
          0.9403002207107848,
          0.9491070127108894,
          0.9474557186150044,
          0.9397497893454898,
          0.9467218467428161,
          0.9393828863627801,
          0.9425019461719647,
          0.9388323890907162,
          0.9408505642003878,
          0.9448874416738826,
          0.9448874416738826,
          0.9448874416738826,
          0.9287415355112811,
          0.9265396342987173,
          0.9201184476451456,
          0.9232372438272544,
          0.9142472529784093,
          0.9142472529784093,
          0.91791645855689,
          0.9103940576699607,
          0.9103940576699607,
          0.9103940576699607,
          0.9103940576699607,
          0.9103940576699607,
          0.9524094251512752,
          0.9524094251512752,
          0.991122292316512,
          0.9907552355513414,
          0.9813984295954785,
          0.985985057397656,
          0.9689221683898175,
          0.983783353905399,
          0.978829801151589,
          0.9823155881920993,
          0.9619501768992601,
          0.9854347139080527,
          0.9824991165746847,
          0.993323842026308,
          0.993323842026308,
          0.9863519603803655,
          0.9955257432388718,
          1.0010298591715145,
          1.0010298591715145,
          0.9810312849546161,
          0.972041294105771,
          0.972041294105771,
          0.9786461848933118,
          0.9797469817171327,
          0.9797469817171327,
          1.0012135633054837,
          0.9979108213312531,
          0.9979108213312531,
          0.9913056669166365,
          0.9760775784183452,
          0.9813984295954785,
          0.9883702233657291,
          0.9815817163199111,
          0.9815817163199111,
          0.9969934210764794,
          0.9964432313693373,
          0.9964432313693373,
          0.9964432313693373,
          0.9964432313693373,
          0.9964432313693373,
          0.9810312849546161,
          0.9810312849546161,
          0.9810312849546161,
          0.9810312849546161,
          0.9667202671772538,
          0.961399833409657,
          0.9795635192413165,
          0.9769949127663499,
          0.9769949127663499,
          1.0008463307889293,
          1.0039654565048828,
          1.0032316725083865,
          1.0008463307889293,
          1.0078183881862557,
          1.0118548482502139,
          1.0140567274938543,
          1.0147902698321982,
          1.027083112499889,
          1.0280005127546625,
          1.0320369728186205,
          1.0393759331986565,
          1.0467146299516168,
          1.0467146299516168,
          1.0467146299516168,
          1.0448799612556074,
          1.047999021064792,
          1.0489797796934435,
          1.0478696241084324,
          1.052865642790365,
          1.0367672554081722,
          1.0443537616123608,
          1.0443537616123608,
          1.038617653853036,
          1.0571214186124451,
          1.0656331460079886,
          1.0976447227516428,
          1.0887627530970965,
          1.0869125963103854,
          1.075255270646696,
          1.0678535450537026,
          1.076550382594286,
          1.0841369766741666,
          1.078030626655839,
          1.075255270646696,
          1.074700313683267,
          1.0676686765668153,
          1.077845582417568,
          1.0819164018770688,
          1.074700313683267,
          1.0669283458312706,
          1.060267038849514,
          1.0515703550913913,
          1.0484244931961697,
          1.0672986759659653,
          1.0658181682773367,
          1.0606371053571328,
          1.0637828134698937,
          1.0513852229774283,
          1.0517553114539704,
          1.0545309310901891,
          1.041207987592831,
          1.0560111751517423,
          1.0521253120548204,
          1.0549010195667312,
          1.059896950372972,
          1.0656331460079886,
          1.0613772823102168,
          1.0600820824869348,
          1.056751330135903,
          1.0487948233308644,
          1.055826218789163,
          1.0356570778542382,
          1.0397276556555861,
          1.0517553114539704,
          1.0495348245325644,
          1.0515703550913913,
          1.039912787769549,
          1.0504598699725356,
          1.0515703550913913,
          1.0513852229774283,
          1.0576765513272581,
          1.0523104441687834,
          1.0384325437079962,
          1.0321410615757056,
          1.0371371681333303,
          1.0252948641381388,
          1.0151178704116943,
          1.007531188456122,
          1.0132673840911384,
          1.0029052582507312,
          1.0062360765085319,
          1.0086414319168249,
          1.0241846206774359,
          1.0273304166658888,
          1.025109841868791,
          1.0154880467639282,
          1.0188187771460369,
          1.0073460783110821,
          1.0017950806967972,
          0.9940233764718768,
          0.9899526448880678,
          0.9997594622622785,
          1.0095667190149487,
          1.0097515215950668,
          0.9934682437570638,
          0.9758897660957786,
          1.00198021281076,
          0.9910629542555396,
          0.9901376671574159,
          1.0101218517297617,
          1.0156728273751234,
          1.0154880467639282,
          1.0256649526146808,
          1.0378774109931832,
          1.0304759490272655,
          1.041578229851834,
          1.0510152443455014,
          1.0441688052497817,
          1.0499049130091065,
          1.056566373773324,
          1.055826218789163,
          1.0628576142474617,
          1.072294518896514,
          1.0626724821334987,
          1.0571214186124451,
          1.0484244931961697,
          1.0539756445929154,
          1.055826218789163,
          1.0584167941871108,
          1.0621174372943778,
          1.0678535450537026,
          1.0663733009921497,
          1.0512002666148492,
          1.038987654453886,
          1.0319563468712794,
          1.0443537616123608,
          1.0449089602339428,
          1.0449089602339428,
          1.0267753718267676,
          1.036582299045593,
          1.0245549727810537,
          1.007901364808356,
          1.0147478698108443,
          1.0077161448187009,
          0.9958738627924325,
          0.9805159599282451,
          0.9766298551731707,
          0.9836613165382382,
          0.9690432610932901,
          0.9795903432962766,
          0.9773700101573316,
          0.9583111346520325,
          0.9126066797169392,
          0.9309256418962301,
          0.9066856155950355,
          0.9227837613190756,
          0.9353665498322727,
          0.9525932171609363,
          0.9591252150620253,
          0.9626714166407342,
          0.9540861153221264,
          0.9451275400331445,
          0.9343025729233684,
          0.938408740379946,
          0.9441943001849015,
          0.948300489610402,
          0.9945864619368089,
          0.984134746828484,
          0.992533400177443,
          0.9921600603002998,
          0.993093146366082,
          0.984134746828484,
          0.9874941466550832,
          0.9927199602713997,
          1.0029849395343842,
          0.9947729121861507,
          1.0033582135047583,
          1.0033582135047583,
          0.9895470106941422,
          0.9865607969622252,
          0.9908537002641434,
          0.9977592137937594,
          0.9932796844911157,
          0.9910402603581,
          0.980215271279401,
          0.9594985549391687,
          0.9753626437577668,
          0.972749769902993,
          0.9856277987721349,
          1.0009318997439414,
          0.9949596260625683,
          0.9906669863877259,
          0.9839481867345272,
          0.9654709824030027,
          0.9621116045453263,
          0.9408350761096861,
          0.9544593892925007,
          0.9626714166407342,
          0.9602452566623779,
          0.9343025729233684,
          0.9449410019081108,
          0.9538996431038617,
          0.9637913703653948,
          0.9721897820562011,
          0.9839481867345272,
          0.9953327242815586,
          1.0093305750618233,
          1.0285543053651736,
          1.0421785306722964,
          1.040312358540732,
          1.0270610557012156,
          1.034339843201206,
          1.042365244548714,
          1.0384458568753228,
          1.0718537124568956,
          1.066628074591963,
          1.0515105996208824,
          1.051323885744465,
          1.045351282529247,
          1.0362062569909234,
          1.039192382847148,
          1.0330333293825886,
          1.0216488577423262,
          1.035273083049449,
          1.039379030816797,
          1.0436716704916393,
          1.0567364132371988,
          1.0494575598304396,
          1.045724732251005,
          1.0474044321643048,
          1.0714805263622134,
          1.070547440296431,
          1.070547440296431,
          1.073533588121579,
          1.0752132001591868,
          1.07801287576607,
          1.0873446151808113,
          1.0809990016222952,
          1.090517542789146,
          1.0664413607155454,
          1.0640149590790364,
          1.0656949006504888,
          1.070547440296431,
          1.076519801853496,
          1.0806257276519209,
          1.074093400216987,
          1.0750264862827694,
          1.0772662399496298,
          1.0643882989561795,
          1.0643882989561795,
          1.0479642442597128,
          1.0440450323377055,
          1.0470308945668547,
          1.0386324828760485,
          1.0358329171137801,
          1.0460978963767644,
          1.0729737760261713,
          1.090517542789146,
          1.0856648273918197,
          1.0699872986671783,
          1.0699872986671783,
          1.0709205385154215,
          1.0634550591079366,
          1.060095813063798,
          1.0768930758238704,
          1.0897709289416284,
          1.0768930758238704,
          1.0752132001591868,
          1.0752132001591868,
          1.0739066863405695,
          1.0867848030854035,
          1.0916373427313457,
          1.0851051910477958,
          1.060655713034898,
          1.0531901457517212,
          1.0509506117740905,
          1.0656949006504888,
          1.0500172840501556,
          1.0636859305195463,
          1.0505869162541361,
          1.0578009174002547,
          1.0598891514053135,
          1.0676726968797208,
          1.0623570303684111,
          1.0737475434624935,
          1.0790631880048802,
          1.0839991216824592,
          1.0479292917032494,
          1.0456510484833261,
          1.033880758617667,
          1.0365384710442456,
          1.0336906834960333,
          1.0310332346965305,
          1.0405251495287282,
          1.0378672613507658,
          1.0445118939199798,
          1.0464103383994037,
          1.0384369814304384,
          1.0316026032734353,
          1.032172235477416,
          1.049257928227309,
          1.0283753684874914,
          1.0054043989912311,
          0.9966716861994193,
          1.001987264835037,
          1.0092012440122327,
          1.0139474540709459,
          1.0073029093774237,
          0.9812946044654692,
          0.994013732114688,
          0.9949631630591682,
          1.0035058886050383,
          1.015086454851831,
          0.9991396530382087,
          1.0266666695958564,
          1.029324535804896,
          1.023629422055854,
          1.0384369814304384,
          1.032362134847666,
          1.0310332346965305,
          1.0312230681600116,
          1.040715048898978,
          1.040715048898978,
          1.029134724310338,
          1.0346400265648217,
          1.0515360835715406,
          1.0496377269678088,
          1.0399557589829003,
          1.0399557589829003,
          1.0414745585042855,
          1.0596994277864475,
          1.0596994277864475,
          1.0441323588065559,
          1.047359417841116,
          1.0314127917788776,
          1.0310332346965305,
          1.0276160126646448,
          1.0376775377318999,
          1.0378672613507658,
          1.0185035011323333,
          1.0164154209097354,
          1.020591669230623,
          1.03084318154382,
          1.0391963372532849,
          1.0441323588065559,
          1.0536244933279832,
          1.0648250850828926,
          1.0619774073792954,
          1.079442920838611,
          1.0817209004314587,
          1.0724187311870501,
          1.071279642530473,
          1.0703303873373764,
          1.0830500422407467,
          1.096338626342562,
          1.0866569000158066,
          1.0813412554734199,
          1.086277189150999,
          1.0788734643860143,
          1.0849482889998636,
          1.094440357614522,
          1.089694323307193,
          1.0868466456035957,
          1.081151531854554,
          1.0821006991719584,
          1.0661538973583358,
          1.0737475434624935,
          1.074127342202993,
          1.0722289196924921,
          1.0750765095203976,
          1.069191320649722,
          1.0720390862290112,
          1.0750765095203976,
          1.0680524077445286,
          1.0716591996128197,
          1.0716591996128197,
          1.0819108876774004,
          1.0908334119637701,
          1.0999460113717736,
          1.0951997134373688,
          1.1075396355070082,
          1.1100075144701058,
          1.1012748016782938,
          1.108298837547394,
          1.1151331937354738,
          1.1191199600956483,
          1.1122855819386455,
          1.1181707049025518,
          1.1172215156162244,
          1.1100075144701058,
          1.1166520591636278,
          1.1255744296675365,
          1.1183605163971098,
          1.1238659065272856,
          1.1251949604608815,
          1.1267134963551908,
          1.1343073182107324,
          1.1221574492938033,
          1.1259543162837282,
          1.1257643290377866,
          1.1170315283702827,
          1.1202590267833026,
          1.1267134963551908,
          1.1267134963551908,
          1.11627234829882,
          1.1157027380637623,
          1.1187402272619176,
          1.1201142955187022,
          1.1201142955187022,
          1.1279393183196982,
          1.1321380188798726,
          1.1430167219752612,
          1.1470247762218044,
          1.1571398395543648,
          1.1561856413535976,
          1.149887370824106,
          1.1550402036782788,
          1.1506510105869339,
          1.150841656900565,
          1.1556129994071687,
          1.1525594069884681,
          1.156948929613658,
          1.1451162040688863,
          1.1582850355715308,
          1.1617202721202613,
          1.1697360291105805,
          1.1777517201941305,
          1.1785151842055746,
          1.173362175600018,
          1.1874853810548136,
          1.1884395792555809,
          1.1880581108769346,
          1.1642013104682247,
          1.1704994931220245,
          1.1798513560702166,
          1.1640104005275178,
          1.1607659860438024,
          1.1521775871070543,
          1.165155508668992,
          1.174125727487154,
          1.174125727487154,
          1.189584863148439,
          1.1861494508483246,
          1.1842407249129454,
          1.189584863148439,
          1.1926383676914474,
          1.1953104038558096,
          1.1853859868368803,
          1.1874853810548136,
          1.1930200118214775,
          1.1928292776321543,
          1.1974097980737428,
          1.1914931936432043,
          1.18939386533204,
          1.1861494508483246,
          1.2006542125574582,
          1.1989365503452472,
          1.2031353387811137,
          1.1955012259208246,
          1.19092088123062,
          1.181187198401014,
          1.1762250338293954,
          1.1685909209691063,
          1.1632470243917656,
          1.1716445133878068,
          1.173553085540725,
          1.1649647744796687,
          1.1571398395543648,
          1.1401540394972676,
          1.1395812217994548,
          1.1506510105869339,
          1.1321380188798726,
          1.133473949086362,
          1.119160185193627,
          1.1161064170235426,
          1.103701203314803,
          1.10331931752662,
          1.1128620025398273,
          1.1174425229814158,
          1.1126712683505042,
          1.118014989176461,
          1.1077089280275016,
          1.0888144679417942,
          1.0928225880951066,
          1.094731006465564,
          1.0830888393587315,
          1.0817529970279343,
          1.0848067432290955,
          1.1019834751958228,
          1.1098084760278957,
          1.1046552477331093,
          1.1073272838974715,
          1.104846245549508,
          1.1006475230204105,
          1.118396721182183,
          1.1231679758130946,
          1.127366852124653,
          1.1378638232143192,
          1.1245038181438918,
          1.1256491020367498,
          1.1208778474058383,
          1.1174425229814158,
          1.1153429530120986,
          1.1193510072586421,
          1.1241223497652457,
          1.119923561329379,
          1.1214504014765754,
          1.1246948159602908,
          1.1143889305627153,
          1.1134345566105643,
          1.110762608321894,
          1.1130528246048423,
          1.1288936043961573,
          1.1283210503254202,
          1.1235497078188166,
          1.140917152005944,
          1.1317561989984588,
          1.1174425229814158,
          1.1216413114172823,
          1.1246948159602908,
          1.1365277172564463,
          1.1357640774936184,
          1.1256491020367498,
          1.1094267659910968,
          1.097402954754234,
          1.1002658129836114,
          1.0836615691808524,
          1.0800351590643391,
          1.0739279742269383,
          1.0938067958446662,
          1.0947687930130916,
          1.10169642924815,
          1.1163218003444508,
          1.1018890967026955,
          1.1074696644873128,
          1.117476289216038,
          1.1197853548349042,
          1.1113184879800884,
          1.1197853548349042,
          1.108624329110284,
          1.1045830139143469,
          1.0907277194753073,
          1.10900933448553,
          1.1274829139447629,
          1.12671334257273,
          1.1213251127088133,
          1.1299846470181745,
          1.124596351247489,
          1.1313318253132303,
          1.1369123052221557,
          1.133255973432542,
          1.1573105600548521,
          1.1748221423456593,
          1.170781156683567,
          1.1748221423456593,
          1.1652005229921805,
          1.1559636453868722,
          1.1526922310968128,
          1.1261356697429383,
          1.1442248589567683,
          1.1603895485485187,
          1.1667400172390139,
          1.162698614167385,
          1.1488434076040375,
          1.143840029332906,
          1.1463418502820095,
          1.1405687029185385,
          1.1555788157630098,
          1.1661626739430668,
          1.1630835316669392,
          1.1657778443192046,
          1.1621215344985136,
          1.1692416624367337,
          1.1582727110057385,
          1.1728978184749634,
          1.1752071477209056,
          1.1765542161713463,
          1.1769390457952087,
          1.1794407129618514,
          1.170781156683567,
          1.1636609408696552,
          1.16250653987376,
          1.149613242603146,
          1.1528846568932054,
          1.130177160690259,
          1.1295998173943123,
          1.1428777685374047,
          1.1311393116411455,
          1.1494207508999843,
          1.1621215344985136,
          1.180210460085268,
          1.167317250690346,
          1.1775163012154637,
          1.178478474135273,
          1.1744373127217969,
          1.162698614167385,
          1.1544241511400388,
          1.1575031396337057,
          1.1809801193329927,
          1.179055795462297,
          1.1871381841960182,
          1.2015709537445425,
          1.2129246688926312,
          1.2075363511530224,
          1.2373640631698806,
          1.251411673560698,
          1.2581470817196703,
          1.257569826299415,
          1.2548756674296109,
          1.256415337427828,
          1.275851243589331,
          1.2498720255314035,
          1.2504497642679642,
          1.25833948554714,
          1.2725797633925027,
          1.2798921413757314,
          1.2814318113739485,
          1.2833562231203364,
          1.2839334785405911,
          1.268153860230856,
          1.254105832430502,
          1.2577623180025768,
          1.2696932006952284,
          1.2479478554431687,
          1.2254328729123072,
          1.2244706999924977,
          1.2446766169044932,
          1.233707665473498,
          1.2285118614059736,
          1.2308212565586847,
          1.241212798786964,
          1.2433296363297444,
          1.2346699043000762,
          1.2527587639800615,
          1.2452538723247482,
          1.240635565335632,
          1.2600714714971348,
          1.2437145538292986,
          1.2437145538292986,
          1.2204295605479445,
          1.212539751393077,
          1.213501990219655,
          1.2086911915273775,
          1.2067667797809896,
          1.191949070763988,
          1.1915642411401255,
          1.183096956875773,
          1.1721282471029306,
          1.1867531788207721,
          1.184443937450522,
          1.1780937982938715,
          1.165585352616043,
          1.16019729850351,
          1.1659700943642133,
          1.1855986020734928,
          1.1740525709736265,
          1.1890625080667139,
          1.198299385672022,
          1.198299385672022,
          1.1873207898838383,
          1.1735733628566367,
          1.1545978813829745,
          1.1662155531406826,
          1.1695071568709619,
          1.1757033597842828,
          1.1356223779403893,
          1.1129680904689037,
          1.0694020904968042,
          1.0934118385473093,
          1.1125809101702822,
          1.124004859965142,
          1.1259410690231706,
          1.1118063079148868,
          1.1292326727534496,
          1.129619940927763,
          1.117808744927513,
          1.1203260759362415,
          1.115097911645166,
          1.1061911390765737,
          1.100382292213258,
          1.0676593617434713,
          1.0771471683870715,
          1.0949607135242558,
          1.0781151850403938,
          1.0786960433640176,
          1.0639805118078018,
          1.06727218144485,
          1.0752107616087359,
          1.0612697664011466,
          1.0608825861025253,
          1.0792769016876416,
          1.0523629059568624,
          1.0343555070432917,
          1.039777019825525,
          1.0413260705538552,
          1.0293212844042945,
          1.0163481300986439,
          1.0045369340983938,
          0.9799462618174957,
          0.9441253177667404,
          0.8790665712190192,
          0.9205028598594714,
          0.9520640736820102,
          0.9878849957638425,
          0.9733629664812454,
          0.9725884521015417,
          0.9435443935363473,
          0.9520640736820102,
          0.9588410250743401,
          0.9280545013828888,
          0.9644563696640369,
          0.9660051567652913,
          0.9774292603426119,
          0.9799462618174957,
          0.9774292603426119,
          0.9843997359774836,
          1.009571178706314,
          1.0041497537997723,
          0.9950490615480247,
          0.9964045880338134,
          0.977041750510146,
          0.9638751818065683,
          0.9567110501156169,
          0.9603900758026702,
          0.9375419565237211,
          0.941027304185772,
          0.9733629664812454,
          0.9760738876392843,
          0.995436395629107,
          1.0196399754870757,
          1.009958600663088,
          1.0513946256764644,
          1.0492647166245102,
          1.0575908066208624,
          1.0527500862554837,
          1.0403579440559179,
          1.043649723537581,
          1.0684339859677898,
          1.0748236691858064,
          1.064561194380042,
          1.068821320048872,
          1.0537181029088063,
          1.072887196500702,
          1.0823752448024548,
          1.0736617987560977,
          1.0635931557577964,
          1.0539118688095008,
          1.0438433136868916,
          1.0432623674875758,
          1.0587525891748792,
          1.06727218144485,
          1.065142118610435,
          1.067852951892782,
          1.0515884574839278,
          1.0306764813562383,
          1.023512261789595,
          1.024674044343612,
          1.0120884218393504,
          1.0027942932207528,
          1.0136374505987575,
          1.009571178706314,
          1.0184781050573668,
          1.0238996837463694,
          1.033000222215656,
          1.026804107178027,
          1.0293212844042945,
          1.0289340162299812,
          1.0128630240947458,
          1.0132501165176753,
          1.0250613125179253,
          1.011701241540729,
          1.0058923068017214,
          1.0136374505987575,
          0.9983408190607648,
          0.9863358791287433,
          0.9789781353195584,
          0.9764611558135976,
          0.9536128607832646,
          0.9646497840619639,
          0.9793654913695635,
          1.0043433439490832,
          0.9849805723321846,
          0.9896276366414833,
          0.9957117760786769,
          1.0016186702452579,
          1.0193395284963844,
          1.0157954359342818,
          1.0108729032997212,
          1.0073288107376186,
          0.9941365823319991,
          0.992364612942178,
          0.9620422925933205,
          0.9665709224388273,
          0.9482594077244272,
          0.9250255361268503,
          0.9171497431448448,
          0.9171497431448448,
          0.9161649422343647,
          0.9100613603003328,
          0.9181341925525571,
          0.879935881501387,
          0.899822677838157,
          0.879739105858244,
          0.8836768375823244,
          0.9080921978578322,
          0.895490889542562,
          0.9063201405923196,
          0.8962784095246705,
          0.9047450347213336,
          0.9301448444045537,
          0.9222689635468563,
          0.9019885280481085,
          0.9161649422343647,
          0.9189216246589738,
          0.9100613603003328,
          0.8990350699803564,
          0.8870243522215908,
          0.8939156079201921,
          0.8805266258403525,
          0.8909622596970552,
          0.9100613603003328,
          0.9252224875213773,
          0.9206936819244864,
          0.918331056071392,
          0.9354609942321692,
          0.9155744615224749,
          0.9151805807023443,
          0.9171497431448448,
          0.9132115720423047,
          0.9244348137568078,
          0.9453059716255982,
          0.9606640282722463,
          0.9640111914087451,
          0.9815351202342678,
          0.981338256715433,
          0.9620422925933205,
          0.9673587060480116,
          0.966964737352189,
          0.9900017454309309,
          0.9858669085298628,
          0.9766128292578601,
          0.9903953845929088,
          1.0079195331076614,
          1.0118572868006646,
          1.0161891410030286,
          1.0126451363166178,
          0.9990591149665594,
          0.9955148466530731,
          0.9992559784853944,
          1.008510123664166,
          1.0218991936196975,
          1.0183549912129801,
          1.014023290793077,
          1.008313172269639,
          0.9842917806899539,
          0.9972870577010468,
          0.9886234152030879,
          0.9903953845929088,
          1.0033906396350787,
          1.0118572868006646,
          1.031350268224073,
          1.0309564752796343,
          1.0266246869840392,
          1.0309564752796343,
          1.0415890385619406,
          1.0331225671477386,
          1.02288364302741,
          1.0218991936196975,
          1.0108729032997212,
          1.02288364302741,
          1.0266246869840392,
          1.0126451363166178,
          1.0035876789052973,
          1.0055566655964139,
          0.9831104677634066,
          0.9714932793220039,
          0.9699180855753261,
          0.9683429797043401,
          0.9628298784821979,
          0.9748406182098864,
          0.9691307413446013,
          0.9683429797043401,
          0.9498346893467968,
          0.9649957286921494,
          0.9618453411987936,
          0.9561353984267396,
          0.9494408085266663,
          0.9573167772600558,
          0.9602702353278076,
          0.9679492746355933,
          0.9803537194320286,
          0.9842917806899539,
          0.9872451508820139,
          0.996893176880916,
          0.9939398066888561,
          0.9976808506454854,
          1.0148109865265695,
          1.0195364798909112,
          1.0266246869840392,
          1.032728532545147,
          1.0264279113408963,
          0.9990591149665594,
          0.9846855956033155,
          0.9844887320844806,
          0.9947273266709645,
          0.9901986968254577,
          0.9890172081475266,
          1.0045722161887016,
          1.0118572868006646,
          1.0178329876340229,
          1.0283199848326556,
          0.9839975509044662,
          0.9701468919081756,
          1.0128863990287977,
          1.0215925513927255,
          1.0334647550920943,
          1.0384112558216272,
          1.020999038969464,
          1.0146672438635032,
          1.019811772464789,
          1.0326731269213882,
          1.0443473906246963,
          1.0570108050852345,
          1.0532513072333007,
          1.0663105357791922,
          1.0645298447269478,
          1.0704658257475559,
          1.0625512136786424,
          1.0692786471185725,
          1.0684872825749423,
          1.071455306038631,
          1.0643319926065788,
          1.0716532460346917,
          1.0754125681352416,
          1.0795678581036052,
          1.0797656443172052,
          1.0851082007902442,
          1.0756103543488418,
          1.077589139179608,
          1.0805571846122195,
          1.095199383903524,
          1.0991566460001347,
          1.107467313812554,
          1.1062801351835707,
          1.1187456755548169,
          1.1165691923861425,
          1.1278475541284056,
          1.1238902041561027,
          1.1145906492135291,
          1.1258689230801,
          1.1181520093490949,
          1.1090501307755063,
          1.1284413082098195,
          1.1054886827642485,
          1.1116224499984566,
          1.1106332113655344,
          1.1169647428444198,
          1.1100394572841206,
          1.1084566403211682,
          1.107862952146523,
          1.124483716579364,
          1.149415302607085,
          1.1476344577723798,
          1.14822803610241,
          1.114194835128176,
          1.1116224499984566,
          1.094803657693863,
          1.0979697090293044,
          1.1151840517921754,
          1.1066758613932317,
          1.1179542231354949,
          1.124088144152164,
          1.1470408574734268,
          1.15396631878511,
          1.1407089964606967,
          1.118349861469464,
          1.1401153961617436,
          1.148821702308132,
          1.1331901984771362,
          1.1367517343640858,
          1.1452600126387213,
          1.1292326727534496,
          1.1446664123397683,
          1.1480302498888098,
          1.142687627509002,
          1.1466450433880737,
          1.1064778335214789,
          1.1175584969258336,
          1.1062801351835707,
          1.1104351834937816,
          1.107665187901846,
          1.1256711368665,
          1.1339816508964584,
          1.1278475541284056,
          1.1215157590224445,
          1.1286393360815723,
          1.1357623199797797,
          1.1161733783007894,
          1.1116224499984566,
          1.112809694534209,
          1.107862952146523,
          1.1023225435531152,
          1.0912420339312212,
          1.0870868318385496,
          1.0785783778125302,
          1.1086544045658453,
          1.1153818380057754,
          1.0815464891519107,
          1.0593853161256617,
          1.0487003789309681,
          1.0354432982647077,
          1.049294133012382,
          1.0419730333667299,
          1.049689771346351,
          1.0429623598753441,
          1.0479088386359539,
          1.060770456719629,
          1.054240721617607,
          1.0589895899160007,
          1.0657171991073149,
          1.0651235109326698,
          1.067300103945959,
          1.0625512136786424,
          1.0631447261019036,
          1.0684872825749423,
          1.0696743733282337,
          1.0870868318385496,
          1.0916376722651904,
          1.0864931656328274,
          1.0756103543488418,
          1.0860974394231664,
          1.0653214728976539,
          1.0589895899160007,
          1.0510747361889345,
          1.0508770378510264,
          1.0510747361889345,
          1.045284409127692,
          1.032862037690104,
          1.033062416236616,
          1.037269904365983,
          1.0402752310608936,
          1.0532989138894011,
          1.049091337884342,
          1.0613133307754183,
          1.0679252076804673,
          1.0881617932089447,
          1.0779433001869885,
          1.0861581834952097,
          1.0949740266915824,
          1.102186951360475,
          1.1039901605587752,
          1.1033892006706234,
          1.1045912961983109,
          1.0995823817585881,
          1.0989810703676686,
          1.093771931163895,
          1.1057933917259983,
          1.1182160267906622,
          1.1304379537749694,
          1.1282340533904145,
          1.1284344319369264,
          1.1264306684407304,
          1.1298369938868176,
          1.133844037562904,
          1.1340444161094159,
          1.1428603471814807,
          1.1466672539692078,
          1.1408567374677456,
          1.1456654491123404,
          1.152477704563901,
          1.1560840570537323,
          1.1584885117361832,
          1.158688978158387,
          1.1618947493065783,
          1.1644992310327733,
          1.158688978158387,
          1.1661021715291766,
          1.1741167641665777,
          1.1767214216441564,
          1.1675048213547599,
          1.1622953526171413,
          1.1602917429034063,
          1.1715119529065379,
          1.152477704563901,
          1.1520769474708772,
          1.1566853684446519,
          1.1602917429034063,
          1.1576870854258274,
          1.1508748519431897,
          1.1582881331896713,
          1.1759199074581088,
          1.1741167641665777,
          1.1963567177506371,
          1.2037701747485026,
          1.205372939493522,
          1.2161927219374744,
          1.2045716010588583,
          1.2125861717273363,
          1.2081781293000735,
          1.215190829204915,
          1.2123856393983634,
          1.2159921676395786,
          1.2141889364723557,
          1.2117845037588277,
          1.2023675249229193,
          1.2103820296846284,
          1.2103820296846284,
          1.2105823203554484,
          1.2087791770639171,
          1.2071762365675138,
          1.2005642937556962,
          1.1969579192969417,
          1.2039704654193226,
          1.2011654293952319,
          1.2031691928914277,
          1.1895443963923074,
          1.1855373527162212,
          1.2017665650347675,
          1.2023675249229193,
          1.2125861717273363,
          1.2284144731703979,
          1.2298171229959811,
          1.2298171229959811,
          1.22801397970445,
          1.2350265038579076,
          1.2398352155025023,
          1.2364289779321072,
          1.2314198877410005,
          1.232622137051149,
          1.242640339402285,
          1.249252194338411,
          1.2556636926969478,
          1.2608730735588745,
          1.2632773524899414,
          1.27429724985333,
          1.2765014138649609,
          1.2526582781263453,
          1.2564651190073035,
          1.27429724985333,
          1.2821114639442193,
          1.2734959114186664,
          1.27429724985333,
          1.2887230772221923,
          1.2951350808659579,
          1.2863189740425094,
          1.2855175477321537,
          1.2895248330663927,
          1.3035499912179231,
          1.2997432382126568,
          1.3005447523987044,
          1.2995427058836841,
          1.3131672607246516,
          1.2995427058836841,
          1.2879218266632204,
          1.2995427058836841,
          1.2985409889025084,
          1.2839145413289814,
          1.2873207788993768,
          1.3045518839504826,
          1.295881936371628,
          1.2997038479337515,
          1.3071469849465644,
          1.3107676831431025,
          1.3210270603307268,
          1.3055374977111127,
          1.3170036717759426,
          1.2966864603001242,
          1.3043305470514466,
          1.3083538477305388,
          1.3071469849465644,
          1.2902492583016991,
          1.2952782962748726,
          1.3055374977111127,
          1.3182107981869928,
          1.3415454192653615,
          1.3449650578787753,
          1.3600522816429108,
          1.3499941837276408,
          1.3520055924090342,
          1.3664895715170278,
          1.3658859314202723,
          1.363069823058999,
          1.372725230616023,
          1.3707136681521688,
          1.3793636679489563,
          1.3739323570270732,
          1.3687021056883144,
          1.3725246104113582,
          1.3817779207710565,
          1.3787605111685062,
          1.3697080187337793,
          1.3769498325363925,
          1.3855999202088718,
          1.3858007161649202,
          1.37212183217742,
          1.3379242816903636,
          1.3415454192653615,
          1.3566323574334982,
          1.3550233095765063,
          1.3707136681521688,
          1.3540172427485804,
          1.3936461700642888,
          1.362868609693414,
          1.382984695679339,
          1.3860020174061973,
          1.3916346076004344,
          1.3972672197635947,
          1.3916346076004344,
          1.3884160066012219,
          1.3946523467368297,
          1.3972672197635947,
          1.4022961698610763,
          1.3773522592675627,
          1.3882148811113286,
          1.3998823344485125,
          1.3922380939147292,
          1.4129576442460259,
          1.4133602467285802,
          1.4067217434888781,
          1.4119521705790206,
          1.42019939214187,
          1.4358898166243015,
          1.4358898166243015,
          1.4226132934612028,
          1.4282461472825156,
          1.4155728687755589,
          1.390025054458214,
          1.3886170442154233,
          1.3872090559415557,
          1.3845940950390987,
          1.3998823344485125,
          1.4031007816652643,
          1.4244241478447006,
          1.424625119552133,
          1.437700517225338,
          1.4318668674479766,
          1.4328728464002107,
          1.4443386909311957,
          1.4501725164599408,
          1.4489657195827355,
          1.4604317178961812,
          1.4624433682357274,
          1.4582191178181259,
          1.4626444937256207,
          1.448362167361672,
          1.4539945158977563,
          1.4435343207851605,
          1.4451435443935365,
          1.4445399921724729,
          1.444137894975147,
          1.4598283194575785,
          1.4539945158977563,
          1.466466515132359,
          1.4791399693906997,
          1.4815540464614163,
          1.4805480675091822,
          1.485577017606664,
          1.4847721641443232,
          1.4920143953564726,
          1.4857779893140963,
          1.4823582408560674,
          1.4787376964419903,
          1.4708922425426216,
          1.4620411172559409,
          1.4908074446968063,
          1.4948303938731309,
          1.5026757159589617,
          1.5264127417995779,
          1.527619692459244,
          1.5213836159507124,
          1.495031695114408,
          1.5089119462499545,
          1.4869852695076071,
          1.4710933680325147,
          1.4626444937256207,
          1.459426068477792,
          1.4552014665574227,
          1.4346831954984798,
          1.4425284956153877,
          1.4608341446273514,
          1.4718980677123947,
          1.4574142423868621,
          1.4769271935612602,
          1.4714956409812245,
          1.4686794447442593,
          1.4789384923980387,
          1.4720028155371692,
          1.4717988340872887,
          1.481590580780334,
          1.4893422054096497,
          1.4819987194314796,
          1.488118140958981,
          1.4958697436193733,
          1.504437623582057,
          1.5401361128561148,
          1.5531915627472532,
          1.557883289876973,
          1.5727745508481157,
          1.5778744166289809,
          1.572570569398235,
          1.5597191229259002,
          1.5688987495179194,
          1.5878699909894463,
          1.5752226577805302,
          1.5943978807019377,
          1.5946020159342795,
          1.6050053774431228,
          1.6172450772861218,
          1.6268325129954417,
          1.633972347057576,
          1.6317282215750422,
          1.6578392751397801,
          1.6376439911865075,
          1.6117370728541114,
          1.6278527497786905,
          1.601537539012688,
          1.5546192571450352,
          1.5174928977218116,
          1.550335822448922,
          1.5017856889822228,
          1.4493602814394786,
          1.4687391343079994,
          1.493830280623333,
          1.5040296606822954,
          1.5411560201055188,
          1.5768548389134216,
          1.565227105388988,
          1.5405440757558764,
          1.545439960086861,
          1.5399321314062342,
          1.564207198139584,
          1.578690496210965,
          1.5323843344443384,
          1.5144331759735996,
          1.5152491017731229,
          1.5221848006029153,
          1.5217768377031535,
          1.5383004555585713,
          1.5380959688234621,
          1.538912399908214,
          1.5739987690812456,
          1.5778744166289809,
          1.5623711893392727,
          1.571550684117754,
          1.5778744166289809,
          1.5750188520820332,
          1.5554353367270193,
          1.5754269907331788,
          1.5754269907331788,
          1.5199411584366869,
          1.4856702097779502,
          1.5407478814543736,
          1.5083134249122534,
          1.502805442449166,
          1.5287128440978677,
          1.497297789519923,
          1.516881129123553,
          1.5125973648935953,
          1.5238168059844226,
          1.4864862893599344,
          1.5042333125983316,
          1.533812380344888,
          1.5305485013954112,
          1.5368720801241773,
          1.5156572404242683,
          1.5187169402035574,
          1.5152491017731229,
          1.5205529490038687,
          1.5144331759735996,
          1.496074076572022,
          1.4915859793894155,
          1.481590580780334,
          1.4748588853693452,
          1.492198099490442,
          1.5030097534328914,
          1.4999498779022185,
          1.4991337763513113,
          1.4848544597298108,
          1.4838345524804066,
          1.4928101976225452,
          1.482406506579857,
          1.496278058021903,
          1.4942380677717109,
          1.5176968791716925,
          1.520144810352723,
          1.5252445003822044,
          1.4936261234220682,
          1.5174928977218116,
          1.5003576650505963,
          1.4928101976225452,
          1.5015818832837258,
          1.5030097534328914,
          1.5048454107304348,
          1.4958697436193733,
          1.5079054620124919,
          1.4838345524804066,
          1.488730261060007,
          1.4893422054096497,
          1.5123932076923305,
          1.5250406946837074,
          1.5227967229836348,
          1.5491117799671763,
          1.534832441376753,
          1.5256527928158108,
          1.5278965887644997,
          1.527284820166241,
          1.5146373331748642,
          1.5064775918633262,
          1.490158284991634,
          1.4736346671362157,
          1.4535518420996842,
          1.458470354421339,
          1.4338790230727516,
          1.4433058879240015,
          1.4211733623733203,
          1.4183042210319703,
          1.3914589660611996,
          1.3941230275065195,
          1.4174844506709254,
          1.3992460045943609,
          1.393917793828029,
          1.3892046909362485,
          1.403549562823925,
          1.4289608402849414,
          1.4236323658915333,
          1.4019103296667568,
          1.4197387917026454,
          1.4215831706626125,
          1.4125664436344991,
          1.4195339754336915,
          1.4191240133619383,
          1.4012955513260499,
          1.4199437837229834,
          1.411541681253116,
          1.4303954109556165,
          1.455396396811035,
          1.4390021759119767,
          1.4416663252329887,
          1.4365428428599187,
          1.443715190928065,
          1.4289608402849414,
          1.410517094623117,
          1.4156405769961868,
          1.408672869445611,
          1.4260915451611305,
          1.4271163075425133,
          1.4277310858832204,
          1.411131872963824,
          1.3861306454502527,
          1.3892046909362485,
          1.3506781202378926,
          1.362973796896648,
          1.3777287187317693,
          1.3853109629648994,
          1.405394007690661,
          1.410312278354163,
          1.3926882151776918,
          1.4146156388634203,
          1.4353134179920428,
          1.4316248358234924,
          1.442075957770897,
          1.4127714356548369,
          1.4197387917026454,
          1.397811433923686,
          1.373425248377897,
          1.3660479961651049,
          1.3613344758637878,
          1.3498586794106924,
          1.3480142125750336,
          1.3529323953628436,
          1.3732202783264822,
          1.372195757603252,
          1.3555966984663166,
          1.367687229322273,
          1.3867454457598825,
          1.4012955513260499,
          1.404574149453924,
          1.3883849864819726,
          1.3965819431490407,
          1.3976066176547317,
          1.4031398424103247,
          1.3902292775662475,
          1.3937130434658436,
          1.368916895848302,
          1.3572359316234848,
          1.3219884643382318,
          1.3103075001134146,
          1.3068237342138185,
          1.2984216537128743,
          1.2607150291269473,
          1.244730770299642,
          1.278748636965635,
          1.2678874431018625,
          1.2920688123786972,
          1.2769042580056678,
          1.245550364909303,
          1.2607150291269473,
          1.2748550627767468,
          1.2578461294437502,
          1.2217786501392995,
          1.2418617168339838,
          1.2191148303521322,
          1.2010811126688299,
          1.2285412777938456,
          1.245755356929641,
          1.2906344174594062,
          1.2994464160942572,
          1.2941182712346941,
          1.291044225748698,
          1.3244474678564448,
          1.2947330495754013,
          1.2670678484922016,
          1.247599648013916,
          1.2750599669213927,
          1.2785435570696049,
          1.3047743852024365,
          1.3045693931820985,
          1.2861259770541191,
          1.2631740985519295,
          1.2865358512501799,
          1.2705515265161056,
          1.2982168154749973,
          1.2963724584839533,
          1.325677046506782,
          1.3131764876723035,
          1.3146109704672868,
          1.3422760177680255,
          1.3111272924433826,
          1.2996512323632112,
          1.2734204921060717,
          1.2637888109858675,
          1.2707564306607515,
          1.296782332680014,
          1.2930935088533113,
          1.2750599669213927,
          1.2609199113026703,
          1.2717084539381436,
          1.2544218553875874,
          1.263793995651691,
          1.2502563498700372,
          1.232969839195173,
          1.2646271011489858,
          1.2675430143273627,
          1.2779566792610841,
          1.2673345951550397,
          1.2604617494138968,
          1.231720246856,
          1.275040853958399,
          1.2742076825543354,
          1.2760820490941718,
          1.3037822906095267,
          1.3085725922966631,
          1.297117468600093,
          1.2827468051968367,
          1.295867942167689,
          1.3073229779885671,
          1.3129463632040752,
          1.3214854858465763,
          1.3071145368473212,
          1.3144041330574183,
          1.3312742008282503,
          1.3489771324382243,
          1.3381472003518544,
          1.338563555380195,
          1.3602238149935482,
          1.3777188986231967,
          1.3704293902887914,
          1.3710540766137629,
          1.3968798637135895,
          1.3833421300562438,
          1.365430867149639,
          1.358349448453712,
          1.3570999220213078,
          1.3689715325597562,
          1.3614737588354888,
          1.3637646561550496,
          1.35585021983752,
          1.3700127276955292,
          1.3787600058832776,
          1.376885815094825,
          1.3941723038007665,
          1.411667233647954,
          1.4068767781783567,
          1.3956300956230328,
          1.3800097080670655,
          1.382300847044779,
          1.3860499535961424,
          1.395005409298061,
          1.3916729873088827,
          1.368346604576632,
          1.354809112577439,
          1.383758880525198,
          1.3929228652440544,
          1.3902152833623085,
          1.3829256212454424,
          1.4041692841723028,
          1.4131250913769893,
          1.418748388716805,
          1.417082177722216,
          1.4235386684350186,
          1.3912564784980814,
          1.3952134989365395,
          1.3979213883832071,
          1.3845918981468006,
          1.4012534808385406,
          1.408959651766208,
          1.426246404099225,
          1.4229138283275862,
          1.4437411581950288,
          1.4443658445200003,
          1.458945014971272,
          1.4526967017726395,
          1.4470734044328235,
          1.4516553528544056,
          1.4389507027254318,
          1.453321563848995,
          1.4495726330490153,
          1.4599862101070447,
          1.4614440898050027,
          1.4568621413834206,
          1.4466567198706384,
          1.4470734044328235,
          1.4356184564876373,
          1.4304118437100064,
          1.4335357586511697,
          1.4347852850835738,
          1.439159055990986,
          1.4249963723815926,
          1.4318695476565806,
          1.4466567198706384,
          1.4156244957445647,
          1.3883407410710882,
          1.3831342161691493,
          1.3631397281719253,
          1.3645974980252684,
          1.320860623770221,
          1.3410631135302313,
          1.3446034494065042,
          1.338980217973457,
          1.3129463632040752,
          1.3081559956101698,
          1.3158621006310685,
          1.3131545187493225,
          1.2942017311730998,
          1.2921190992434013,
          1.3016995048973672,
          1.2996168729676687,
          1.3037822906095267,
          1.303157626253478,
          1.3212770447053304,
          1.3175281358742736,
          1.3085725922966631,
          1.3114884835061171,
          1.323776361197214,
          1.3331486772127017,
          1.3471029196808486,
          1.3287749063052896,
          1.3287749063052896,
          1.3214854858465763,
          1.317655423814027,
          1.3505131995330726,
          1.3639073662787358,
          1.3839984955681544,
          1.3745808356956335,
          1.3768830470105293,
          1.362651644610051,
          1.3785573865066216,
          1.388184366277308,
          1.384626521169419,
          1.4051364000997828,
          1.4038806784310982,
          1.3944629306828853,
          1.383161435664723,
          1.3680931710811204,
          1.362442390618655,
          1.3747902654384134,
          1.3716509283133174,
          1.374999365647349,
          1.3833707116250424,
          1.3821152316145104,
          1.3777201728207296,
          1.3842080790933953,
          1.3791851484808104,
          1.3796036784325263,
          1.3852543929882228,
          1.3875566702098878,
          1.378766640498018,
          1.3812781058043102,
          1.3739528979700606,
          1.3630701745617668,
          1.3469552665494917,
          1.3174462576983226,
          1.3071913182331405,
          1.254451535402535,
          1.2711944690160746,
          1.276635753828991,
          1.2931692576997504,
          1.2814492546987957,
          1.268473749718386,
          1.2850070998066845,
          1.2575908505587083,
          1.2649158167348051,
          1.288355690923177,
          1.299447822105328,
          1.2990292262468435,
          1.3061448505558522,
          1.292750661841266,
          1.273705692664214,
          1.282495634500392,
          1.2891928167333773,
          1.286262821475369,
          1.3011220078189594,
          1.3086562279864526,
          1.2954712932632626,
          1.320585419072035,
          1.3385840084474903,
          1.3408860220420795,
          1.3436066754329994,
          1.3473739502836681,
          1.3584660155590504,
          1.3664187437093362,
          1.37646434130743,
          1.359721583445274,
          1.360977217238267,
          1.359721583445274,
          1.3572103597971346,
          1.3601403550551427,
          1.3593031413692505,
          1.34193257759506,
          1.3423511075467753,
          1.3438160173000875,
          1.3226783544266119,
          1.333979761569082,
          1.3268639834776124,
          1.3172369158312343,
          1.3335611657105975,
          1.3367003929910788,
          1.327282579336097,
          1.319957723004615,
          1.331049612528613,
          1.343397575224064,
          1.3649537680492552,
          1.3580474197005659,
          1.371441762197613,
          1.3741624814953015,
          1.3791851484808104,
          1.367674399471252,
          1.3804408042427263,
          1.3783478688881496,
          1.3775109847361022,
          1.3785573865066216,
          1.3886028962290233,
          1.3969744838648697,
          1.3925795129467806,
          1.3952999905863166,
          1.3854633833525434,
          1.4078569656150108,
          1.4262740629732586,
          1.4365290903141326,
          1.4340176250078402,
          1.4442726523487142,
          1.4338086126745966,
          1.4181123224897294,
          1.4137172636959483,
          1.400113733114274,
          1.4005322410970666,
          1.4130892161257607,
          1.4122520244087917,
          1.4193677146245693,
          1.4084849912162756,
          1.4049270582326947,
          1.4013694547829587,
          1.4222976879136544,
          1.4264835805917306,
          1.4266927467074353,
          1.397811433923686,
          1.396346612046066,
          1.391323857184865,
          1.397183737856266,
          1.404299186413891,
          1.4124615200583406,
          1.4057642719185868,
          1.4156006814320532,
          1.4315063354529318,
          1.4601781306182087,
          1.456829803128792,
          1.4680209262778965,
          1.484796791306985,
          1.492866525941069,
          1.483523121028225,
          1.4973261074616457,
          1.4952026572730484,
          1.4892565485789457,
          1.4990248324622473,
          1.5083687426603203,
          1.503484413982824,
          1.5030597107637507,
          1.5342759685576381,
          1.509218017284929,
          1.5005115353871568,
          1.5058203915323423,
          1.5179248287165459,
          1.5279053104269231,
          1.5393726488446708,
          1.5627318970857016,
          1.5563612169860639,
          1.5444693291317035,
          1.5523265144359442,
          1.5595464691601908,
          1.514951422866727,
          1.5296043649613693,
          1.5124035989929008,
          1.498600107274251,
          1.4469974798350005,
          1.4586771918312076,
          1.4675960253385163,
          1.4461482052103913,
          1.4094105199725522,
          1.4268236595194805,
          1.467171475901904,
          1.4794880889442603,
          1.4879825487663405,
          1.4648356741037696,
          1.479063539507648,
          1.493503602738602,
          1.515376499557491,
          1.4998742828382396,
          1.4971137558521093,
          1.4867083732023518,
          1.4998742828382396,
          1.4746041117695319,
          1.4639862237277772,
          1.4094105199725522,
          1.4072870917528773,
          1.4149317496961973,
          1.3934838416923805,
          1.3854141070582964,
          1.4102599703485446,
          1.4066498392039606,
          1.4312832410400573,
          1.4136575961011313,
          1.3871129199345897,
          1.3163983620410404,
          1.368850351980592,
          1.3200083394031636,
          1.184524805056016,
          1.2779617980201388,
          1.1295244859574096,
          1.1802777508963596,
          1.0940609762835591,
          1.087690384059613,
          1.1097753029541941,
          1.0832307146633444,
          1.161802743457133,
          1.1962044291765312,
          1.252054286526822,
          1.1777295096129967,
          1.2017257467758684,
          1.2093706683462642,
          1.1645633583189556,
          1.1991775713992743,
          1.1794283883960588,
          1.2299691259740884,
          1.2441970133468896,
          1.2535406599178867,
          1.2484441553822379,
          1.247594792881937,
          1.277749336565987,
          1.2533283742151191,
          1.2664944376334681,
          1.2851818186511543,
          1.2794481494422805,
          1.2456835405204152,
          1.2775370728321425,
          1.2747763700946277,
          1.276687534580458,
          1.2998344971187208,
          1.2968613548959778,
          1.3282902498954006,
          1.2987726951331917,
          1.256513714264938,
          1.2768999960346095,
          1.2805100393035016,
          1.276687534580458,
          1.2904908505477237,
          1.3142747361010587,
          1.311726406942004,
          1.305992825608822,
          1.3049311774057537,
          1.305355814718058,
          1.2881548070914366,
          1.3319004030089077,
          1.3187341638391747,
          1.3382710611396225,
          1.3170354388385732,
          1.2858189174176102,
          1.3087535063774136,
          1.3057804520303624,
          1.3025951119805435,
          1.3306261395692267,
          1.3578078046576094,
          1.3858389201219847,
          1.4166306504481825,
          1.3996421482135586,
          1.4321326914160497,
          1.4355302951997135,
          1.4272483847074766,
          1.4433876782242607,
          1.3758581967534547,
          1.3996421482135586,
          1.3871518049282665,
          1.3999405081565668,
          1.413581825285769,
          1.4182710479582687,
          1.41336879263962,
          1.432764913081604,
          1.4472587782049393,
          1.430846630664728,
          1.4329781214791368,
          1.4184842343868787,
          1.4235998518855215,
          1.4231732813079947,
          1.4400118456432713,
          1.4773121769675834,
          1.5463715302969572,
          1.5218599681077145,
          1.5621444261162603,
          1.5704570271939018,
          1.5551105262007416,
          1.549782051807334,
          1.5570289843690015,
          1.551913191118975,
          1.5254831707614724,
          1.5365666901258148,
          1.552552794342651,
          1.5757856553697704,
          1.5574550496612998,
          1.547863593639074,
          1.534648737242784,
          1.5580944771335918,
          1.549142448583658,
          1.5721624527160125,
          1.5591602994320264,
          1.551487125826677,
          1.5655546180927922,
          1.5894269065922038,
          1.6132993708429992,
          1.6171361114281348,
          1.5806880864398034,
          1.5821799740305362,
          1.5791958473463026,
          1.6098888493326227,
          1.599018538365813,
          1.5979528698498393,
          1.6286458718361594,
          1.6186280209877908,
          1.599018538365813,
          1.5909189699343205,
          1.596887047551404,
          1.619480481106232,
          1.6393031501568196,
          1.651452338037136,
          1.6375980761374767,
          1.6529444013792531,
          1.615217653259875,
          1.6414344871887676,
          1.6420740904124436,
          1.6034948821746244,
          1.6090363892141815,
          1.581753732986854,
          1.600936820782689,
          1.5710964546661936,
          1.5911320025804696,
          1.6083969617418896,
          1.6254487125057764,
          1.6177753851179661,
          1.6122333727931806,
          1.6083969617418896,
          1.5932636471773396,
          1.5890006655485218,
          1.5619312177187274,
          1.5450926533834504,
          1.5442401932650092,
          1.5728017044369207,
          1.5728017044369207,
          1.5917716058041458,
          1.6164965301733822,
          1.5956081706378973,
          1.6107416389849083,
          1.6167095628195312,
          1.6401554564928,
          1.654010069895227,
          1.659125511642486,
          1.6704223931868218,
          1.6633884932713034,
          1.6471895321597023,
          1.6365322318701188,
          1.6461238636437283,
          1.6495340556202602,
          1.6642411071722054,
          1.6636016796999133,
          1.6691433624908543,
          1.6710618206591137,
          1.6582730515240447,
          1.6710618206591137,
          1.6418607062635266,
          1.666585630632763,
          1.6450580413452933,
          1.6561415607096357,
          1.6604043665870696,
          1.7196588797453012,
          1.7477941498735303,
          1.7490730267870376,
          1.7507782765577642,
          1.7271190207045015,
          1.7443836283631537,
          1.7371368715528699,
          1.7588776692378727,
          1.7776345379589487,
          1.7703876053972811,
          1.7648457468549565,
          1.7680429061853393,
          1.7850946569492263,
          1.790636515491551,
          1.8113116446605797,
          1.7942600696480766,
          1.818345390793637,
          1.7693219368813071,
          1.8002277957623924,
          1.8004413336937701,
          1.82154255012402,
          1.837315445943323,
          1.8353969877750633,
          1.8321996526932967,
          1.8194110593096113,
          1.8368890511171803,
          1.823674040938429,
          1.8222977977582693,
          1.8324059848179364,
          1.8399335044639205,
          1.8491815203131803,
          1.8457403301863218,
          1.8207923114042108,
          1.8098234478489075,
          1.8238032621434048,
          1.8154153955356291,
          1.819501725054755,
          1.8485362271384524,
          1.8788613375405288,
          1.8814421807055957,
          1.8977874768131748,
          1.945533240133839,
          1.9326289803706576,
          1.9474691196580232,
          1.9947846435910226,
          1.9765036437106436,
          1.991343453464164,
          2.0020969556674824,
          2.012635557866198,
          1.9909133678589603,
          2.0246794926365115,
          2.0642526188878474,
          2.073285602918967,
          2.054574341682,
          2.0760814998710972,
          2.0597360280121344,
          1.9945694360214985,
          2.0074736957846797,
          1.9620938975934032,
          2.0171519729905274,
          2.04016459556476,
          2.0543592878949366,
          2.0556498742443927,
          2.0614567219357167,
          2.0691990976484576,
          2.0911366929455264,
          2.1068366739094544,
          2.1324301616176773,
          2.136731522954943,
          2.1369467305244676,
          2.140387766868865,
          2.105761470880907,
          2.1236122094046985,
          2.06081158254345,
          2.067048515839978,
          2.051563390942806,
          2.014356076038397,
          1.9887625883301743,
          2.044465956902026,
          2.0171519729905274,
          2.014356076038397,
          1.9668253445358732,
          1.9846762807799714,
          1.9289729122081196,
          1.9741378323637166,
          1.9496197234354256,
          2.013065643471402,
          1.9780091080957787,
          1.9790844868757105,
          1.9939242966292314,
          1.9954297829832899,
          1.9571470673300257,
          1.978654225519123,
          1.9801597118731815,
          1.9457484477033635,
          1.8990780631626307,
          1.9070356684138186,
          1.9539210847726913,
          1.9375756348826516,
          1.9459636552728876,
          1.9513402416076244,
          1.9601581718516805,
          1.9638142400142184,
          1.9752130353922643,
          1.9448881007415721,
          1.9640294475837425,
          1.9509101560024207,
          1.9332742735453854,
          1.9448881007415721,
          1.9573624506509337,
          1.9666103127177328,
          1.9749981573565851,
          1.9668253445358732,
          1.9560718643014778,
          1.9683308308899317,
          1.9577923605047536,
          1.9855366057728399,
          1.9844610732104473,
          1.9874723315145628,
          1.9990860049282886,
          1.9947846435910226,
          1.9635993619785388,
          1.9586525536840842,
          1.9384358060930589,
          1.9442428075668439,
          1.9608033112439474,
          1.9760733823540557,
          1.940371707586166,
          1.9285428266029159,
          1.8736996292414712,
          1.8764955261936018,
          1.9102616509711527,
          1.8980025086313153,
          1.9315537553731865,
          1.9270373622177803,
          1.9388662212321075,
          1.9141331024545987,
          1.9326289803706576,
          1.9547814317344827,
          1.9702665566316544,
          1.9700513270932072,
          1.9784391937009826,
          2.0203781312992453,
          2.0180123199523186,
          1.994999851160547,
          2.013710958615053,
          1.9982258337178809,
          1.9885475565120339,
          1.9803749194427056,
          1.9963543011691092,
          1.9926932021232087,
          2.0019536304139525,
          1.9806333618526568,
          1.9569440964506017,
          1.9795564672170394,
          1.9556519942454602,
          1.9621126810225522,
          1.9522062785204677,
          1.9640507354701113,
          1.980848745173565,
          1.999800016894102,
          2.00669147031301,
          2.002814987946201,
          1.9920472498807913,
          1.9799874096102394,
          1.9763261348129548,
          1.948114434801674,
          1.9433765949026167,
          1.8998747222166996,
          1.9326088568372066,
          1.9347623165745969,
          1.9414385404550576,
          1.9425150835879075,
          1.9524216618413757,
          1.9332548310485471,
          1.905258668140635,
          1.9143035593280102,
          1.9214103740989035,
          1.9283018055488887,
          1.8977210867279255,
          1.8524961694436668,
          1.8133013480460676,
          1.861541236382426,
          1.8658482876707438,
          1.8499119650333835,
          1.8647713930351264,
          1.8746779712885948,
          1.8906142719570322,
          1.8860918373478062,
          1.8658482876707438,
          1.8779083036926794,
          1.8776929203717712,
          1.8804925081029626,
          1.86175644395195,
          1.857664929767001,
          1.8393596102888816,
          1.8025334342292736,
          1.8117938625200178,
          1.7809977823470697,
          1.7784135779367862,
          1.8089942747888264,
          1.8477585272649164,
          1.8496966036813984,
          1.833760281044038,
          1.8529269360854828,
          1.857880137336525,
          1.8880300675467492,
          1.9117191791663433,
          1.9080582558718264,
          1.9285171888697965,
          1.9367005467735399,
          1.9104270769612017,
          1.905043131037266,
          1.9065505945943928,
          1.9097811027498612,
          1.8897529363937071,
          1.8893223455032744,
          1.8636948499022767,
          1.8591723933241278,
          1.8051178143909408,
          1.820838907489854,
          1.846897015950207,
          1.8563726518104755,
          1.836129277884797,
          1.844743556212817,
          1.822561600585428,
          1.8083481467950253,
          1.8180391659762019,
          1.812009245840926,
          1.7829361882973964,
          1.7960729232035657,
          1.7870278782337294,
          1.8322527955179881,
          1.8305299266710304,
          1.8275149775878539,
          1.8126552200522663,
          1.8408670958149314,
          1.8475429681926245,
          1.8656329043498356,
          1.8682172845115028,
          1.8972903420550324,
          1.8929832687977912,
          1.8860918373478062,
          1.8819999936290124,
          1.888245450867657,
          1.881138636096764,
          1.8649869521074185,
          1.8682172845115028,
          1.8395748178584057,
          1.857233987373801,
          1.835698335491597,
          1.844528019109448,
          1.8384980989741724,
          1.833760281044038,
          1.8524961694436668,
          1.8451741471032492,
          1.840220792069746,
          1.8675711565177016,
          1.8783390703344955,
          1.8697247700375528,
          1.8764008181666296,
          1.866709798985453,
          1.848835070397766,
          1.8507734763480927,
          1.8410823033844554,
          1.8365598468063065,
          1.8326833864084207,
          1.7790597059305877,
          1.7820746769826872,
          1.7784135779367862,
          1.790258210637814,
          1.8074868112316997,
          1.7682918140827166,
          1.7917656961638637,
          1.822561600585428,
          1.8328987697293284,
          1.827299418515562,
          1.8300991819981374,
          1.7981563020766453,
          1.7983760572132268,
          1.7867325500020925,
          1.7882703746107793,
          1.7753086221761558,
          1.7507035163128593,
          1.7832174344494025,
          1.7900279104182015,
          1.8012319512940191,
          1.8038682879585368,
          1.7953004079958532,
          1.792005047579744,
          1.8113376338964664,
          1.8021107301821917,
          1.8054060905983007,
          1.8012319512940191,
          1.7695968120456484,
          1.7744298432879835,
          1.7904672229710574,
          1.7917853144120857,
          1.830889953380847,
          1.8598891074674677,
          1.831988465436678,
          1.831988465436678,
          1.803428799654297,
          1.8018909970145334,
          1.81880715558578,
          1.784755259058089,
          1.762786336076849,
          1.759490953691817,
          1.7357646486856158,
          1.7047883794063756,
          1.7135759925367176,
          1.7704754151824371,
          1.7775056462878178,
          1.777066157983578,
          1.753998722946507,
          1.762786336076849,
          1.7572941053315392,
          1.7726724392940991,
          1.8021107301821917,
          1.7882703746107793,
          1.761687977803479,
          1.7443325286482994,
          1.7797024946480957,
          1.7878308863065397,
          1.7713541940706097,
          1.7546579444184052,
          1.7293936390521332,
          1.7124774804808864,
          1.692925160996506,
          1.7168713749217495,
          1.7036900431019286
         ],
         "yaxis": "y"
        },
        {
         "customdata": [
          [
           "-0.1% ann. growth in 7.0yrs<br>valuation = 4.2%<br>0.0% Portfolio"
          ],
          [
           "0.0% Portfolio"
          ],
          [
           "0.0% Portfolio"
          ],
          [
           "0.0% Portfolio"
          ],
          [
           "0.0% Portfolio"
          ],
          [
           "0.0% Portfolio"
          ],
          [
           "0.0% Portfolio"
          ],
          [
           "0.0% Portfolio"
          ],
          [
           "0.0% Portfolio"
          ],
          [
           "0.0% Portfolio"
          ],
          [
           "0.0% Portfolio"
          ],
          [
           "0.0% Portfolio"
          ],
          [
           "0.0% Portfolio"
          ],
          [
           "0.0% Portfolio"
          ],
          [
           "0.0% Portfolio"
          ],
          [
           "0.0% Portfolio"
          ],
          [
           "0.0% Portfolio"
          ],
          [
           "0.0% Portfolio"
          ],
          [
           "0.0% Portfolio"
          ],
          [
           "0.0% Portfolio"
          ],
          [
           "0.0% Portfolio"
          ],
          [
           "0.0% Portfolio"
          ],
          [
           "0.0% Portfolio"
          ],
          [
           "0.0% Portfolio"
          ],
          [
           "0.0% Portfolio"
          ],
          [
           "0.0% Portfolio"
          ],
          [
           "0.0% Portfolio"
          ],
          [
           "0.0% Portfolio"
          ],
          [
           "0.0% Portfolio"
          ],
          [
           "0.0% Portfolio"
          ],
          [
           "0.0% Portfolio"
          ],
          [
           "0.0% Portfolio"
          ],
          [
           "0.0% Portfolio"
          ],
          [
           "0.0% Portfolio"
          ],
          [
           "0.0% Portfolio"
          ],
          [
           "0.0% Portfolio"
          ],
          [
           "0.0% Portfolio"
          ],
          [
           "0.0% Portfolio"
          ],
          [
           "0.0% Portfolio"
          ],
          [
           "0.0% Portfolio"
          ],
          [
           "0.0% Portfolio"
          ],
          [
           "0.0% Portfolio"
          ],
          [
           "0.0% Portfolio"
          ],
          [
           "0.0% Portfolio"
          ],
          [
           "0.0% Portfolio"
          ],
          [
           "0.0% Portfolio"
          ],
          [
           "0.0% Portfolio"
          ],
          [
           "0.0% Portfolio"
          ],
          [
           "0.0% Portfolio"
          ],
          [
           "0.0% Portfolio"
          ],
          [
           "0.0% Portfolio"
          ],
          [
           "0.0% Portfolio"
          ],
          [
           "0.0% Portfolio"
          ],
          [
           "0.0% Portfolio"
          ],
          [
           "0.0% Portfolio"
          ],
          [
           "0.0% Portfolio"
          ],
          [
           "0.0% Portfolio"
          ],
          [
           "0.0% Portfolio"
          ],
          [
           "0.0% Portfolio"
          ],
          [
           "0.0% Portfolio"
          ],
          [
           "0.0% Portfolio"
          ],
          [
           "0.0% Portfolio"
          ],
          [
           "0.0% Portfolio"
          ],
          [
           "0.0% Portfolio"
          ],
          [
           "-0.2% ann. growth in 7.2yrs<br>valuation = -10.1%<br>0.0% Portfolio"
          ],
          [
           "0.0% Portfolio"
          ],
          [
           "0.0% Portfolio"
          ],
          [
           "0.0% Portfolio"
          ],
          [
           "0.0% Portfolio"
          ],
          [
           "0.0% Portfolio"
          ],
          [
           "0.0% Portfolio"
          ],
          [
           "0.0% Portfolio"
          ],
          [
           "0.0% Portfolio"
          ],
          [
           "0.0% Portfolio"
          ],
          [
           "0.0% Portfolio"
          ],
          [
           "0.0% Portfolio"
          ],
          [
           "0.0% Portfolio"
          ],
          [
           "0.0% Portfolio"
          ],
          [
           "0.0% Portfolio"
          ],
          [
           "0.0% Portfolio"
          ],
          [
           "0.0% Portfolio"
          ],
          [
           "0.0% Portfolio"
          ],
          [
           "0.0% Portfolio"
          ],
          [
           "0.0% Portfolio"
          ],
          [
           "0.0% Portfolio"
          ],
          [
           "0.0% Portfolio"
          ],
          [
           "0.0% Portfolio"
          ],
          [
           "0.0% Portfolio"
          ],
          [
           "0.0% Portfolio"
          ],
          [
           "0.0% Portfolio"
          ],
          [
           "0.0% Portfolio"
          ],
          [
           "0.0% Portfolio"
          ],
          [
           "0.0% Portfolio"
          ],
          [
           "0.0% Portfolio"
          ],
          [
           "0.0% Portfolio"
          ],
          [
           "0.0% Portfolio"
          ],
          [
           "0.0% Portfolio"
          ],
          [
           "0.0% Portfolio"
          ],
          [
           "0.0% Portfolio"
          ],
          [
           "0.0% Portfolio"
          ],
          [
           "0.0% Portfolio"
          ],
          [
           "0.0% Portfolio"
          ],
          [
           "0.0% Portfolio"
          ],
          [
           "0.0% Portfolio"
          ],
          [
           "0.0% Portfolio"
          ],
          [
           "0.0% Portfolio"
          ],
          [
           "0.0% Portfolio"
          ],
          [
           "0.0% Portfolio"
          ],
          [
           "0.0% Portfolio"
          ],
          [
           "0.0% Portfolio"
          ],
          [
           "0.0% Portfolio"
          ],
          [
           "0.0% Portfolio"
          ],
          [
           "0.0% Portfolio"
          ],
          [
           "0.0% Portfolio"
          ],
          [
           "0.0% Portfolio"
          ],
          [
           "0.0% Portfolio"
          ],
          [
           "0.0% Portfolio"
          ],
          [
           "0.0% Portfolio"
          ],
          [
           "0.0% Portfolio"
          ],
          [
           "0.0% Portfolio"
          ],
          [
           "0.0% Portfolio"
          ],
          [
           "0.0% Portfolio"
          ],
          [
           "0.0% Portfolio"
          ],
          [
           "0.0% Portfolio"
          ],
          [
           "0.0% Portfolio"
          ],
          [
           "0.0% Portfolio"
          ],
          [
           "0.0% Portfolio"
          ],
          [
           "0.0% Portfolio"
          ],
          [
           "0.0% Portfolio"
          ],
          [
           "-0.3% ann. growth in 7.5yrs<br>valuation = -2.4%<br>0.0% Portfolio"
          ],
          [
           "0.0% Portfolio"
          ],
          [
           "0.0% Portfolio"
          ],
          [
           "0.0% Portfolio"
          ],
          [
           "0.0% Portfolio"
          ],
          [
           "0.0% Portfolio"
          ],
          [
           "0.0% Portfolio"
          ],
          [
           "0.0% Portfolio"
          ],
          [
           "0.0% Portfolio"
          ],
          [
           "0.0% Portfolio"
          ],
          [
           "0.0% Portfolio"
          ],
          [
           "0.0% Portfolio"
          ],
          [
           "0.0% Portfolio"
          ],
          [
           "0.0% Portfolio"
          ],
          [
           "0.0% Portfolio"
          ],
          [
           "0.0% Portfolio"
          ],
          [
           "0.0% Portfolio"
          ],
          [
           "0.0% Portfolio"
          ],
          [
           "0.0% Portfolio"
          ],
          [
           "0.0% Portfolio"
          ],
          [
           "0.0% Portfolio"
          ],
          [
           "0.0% Portfolio"
          ],
          [
           "0.0% Portfolio"
          ],
          [
           "0.0% Portfolio"
          ],
          [
           "0.0% Portfolio"
          ],
          [
           "0.0% Portfolio"
          ],
          [
           "0.0% Portfolio"
          ],
          [
           "0.0% Portfolio"
          ],
          [
           "0.0% Portfolio"
          ],
          [
           "0.0% Portfolio"
          ],
          [
           "0.0% Portfolio"
          ],
          [
           "0.0% Portfolio"
          ],
          [
           "0.0% Portfolio"
          ],
          [
           "0.0% Portfolio"
          ],
          [
           "0.0% Portfolio"
          ],
          [
           "0.0% Portfolio"
          ],
          [
           "0.0% Portfolio"
          ],
          [
           "0.0% Portfolio"
          ],
          [
           "0.0% Portfolio"
          ],
          [
           "0.0% Portfolio"
          ],
          [
           "0.0% Portfolio"
          ],
          [
           "0.0% Portfolio"
          ],
          [
           "0.0% Portfolio"
          ],
          [
           "0.0% Portfolio"
          ],
          [
           "0.0% Portfolio"
          ],
          [
           "0.0% Portfolio"
          ],
          [
           "0.0% Portfolio"
          ],
          [
           "0.0% Portfolio"
          ],
          [
           "0.0% Portfolio"
          ],
          [
           "0.0% Portfolio"
          ],
          [
           "0.0% Portfolio"
          ],
          [
           "0.0% Portfolio"
          ],
          [
           "0.0% Portfolio"
          ],
          [
           "0.0% Portfolio"
          ],
          [
           "0.0% Portfolio"
          ],
          [
           "0.0% Portfolio"
          ],
          [
           "0.0% Portfolio"
          ],
          [
           "0.0% Portfolio"
          ],
          [
           "0.0% Portfolio"
          ],
          [
           "0.0% Portfolio"
          ],
          [
           "0.0% Portfolio"
          ],
          [
           "-0.2% ann. growth in 7.7yrs<br>valuation = 3.4%<br>0.0% Portfolio"
          ],
          [
           "0.0% Portfolio"
          ],
          [
           "0.0% Portfolio"
          ],
          [
           "0.0% Portfolio"
          ],
          [
           "0.0% Portfolio"
          ],
          [
           "0.0% Portfolio"
          ],
          [
           "0.0% Portfolio"
          ],
          [
           "0.0% Portfolio"
          ],
          [
           "0.0% Portfolio"
          ],
          [
           "0.0% Portfolio"
          ],
          [
           "0.0% Portfolio"
          ],
          [
           "0.0% Portfolio"
          ],
          [
           "0.0% Portfolio"
          ],
          [
           "0.0% Portfolio"
          ],
          [
           "0.0% Portfolio"
          ],
          [
           "0.0% Portfolio"
          ],
          [
           "0.0% Portfolio"
          ],
          [
           "0.0% Portfolio"
          ],
          [
           "0.0% Portfolio"
          ],
          [
           "0.0% Portfolio"
          ],
          [
           "0.0% Portfolio"
          ],
          [
           "0.0% Portfolio"
          ],
          [
           "0.0% Portfolio"
          ],
          [
           "0.0% Portfolio"
          ],
          [
           "0.0% Portfolio"
          ],
          [
           "0.0% Portfolio"
          ],
          [
           "0.0% Portfolio"
          ],
          [
           "0.0% Portfolio"
          ],
          [
           "0.0% Portfolio"
          ],
          [
           "0.0% Portfolio"
          ],
          [
           "0.0% Portfolio"
          ],
          [
           "0.0% Portfolio"
          ],
          [
           "0.0% Portfolio"
          ],
          [
           "0.0% Portfolio"
          ],
          [
           "0.0% Portfolio"
          ],
          [
           "0.0% Portfolio"
          ],
          [
           "0.0% Portfolio"
          ],
          [
           "0.0% Portfolio"
          ],
          [
           "0.0% Portfolio"
          ],
          [
           "0.0% Portfolio"
          ],
          [
           "0.0% Portfolio"
          ],
          [
           "0.0% Portfolio"
          ],
          [
           "0.0% Portfolio"
          ],
          [
           "0.0% Portfolio"
          ],
          [
           "0.0% Portfolio"
          ],
          [
           "0.0% Portfolio"
          ],
          [
           "0.0% Portfolio"
          ],
          [
           "0.0% Portfolio"
          ],
          [
           "0.0% Portfolio"
          ],
          [
           "0.0% Portfolio"
          ],
          [
           "0.0% Portfolio"
          ],
          [
           "0.0% Portfolio"
          ],
          [
           "0.0% Portfolio"
          ],
          [
           "0.0% Portfolio"
          ],
          [
           "0.0% Portfolio"
          ],
          [
           "0.0% Portfolio"
          ],
          [
           "0.0% Portfolio"
          ],
          [
           "0.0% Portfolio"
          ],
          [
           "0.0% Portfolio"
          ],
          [
           "0.0% Portfolio"
          ],
          [
           "0.1% ann. growth in 8.0yrs<br>valuation = 13.6%<br>0.0% Portfolio"
          ],
          [
           "0.0% Portfolio"
          ],
          [
           "0.0% Portfolio"
          ],
          [
           "0.0% Portfolio"
          ],
          [
           "0.0% Portfolio"
          ],
          [
           "0.0% Portfolio"
          ],
          [
           "0.0% Portfolio"
          ],
          [
           "0.0% Portfolio"
          ],
          [
           "0.0% Portfolio"
          ],
          [
           "0.0% Portfolio"
          ],
          [
           "0.0% Portfolio"
          ],
          [
           "0.0% Portfolio"
          ],
          [
           "0.0% Portfolio"
          ],
          [
           "0.0% Portfolio"
          ],
          [
           "0.0% Portfolio"
          ],
          [
           "0.0% Portfolio"
          ],
          [
           "0.0% Portfolio"
          ],
          [
           "0.0% Portfolio"
          ],
          [
           "0.0% Portfolio"
          ],
          [
           "0.0% Portfolio"
          ],
          [
           "0.0% Portfolio"
          ],
          [
           "0.0% Portfolio"
          ],
          [
           "0.0% Portfolio"
          ],
          [
           "0.0% Portfolio"
          ],
          [
           "0.0% Portfolio"
          ],
          [
           "0.0% Portfolio"
          ],
          [
           "0.0% Portfolio"
          ],
          [
           "0.0% Portfolio"
          ],
          [
           "0.0% Portfolio"
          ],
          [
           "0.0% Portfolio"
          ],
          [
           "0.0% Portfolio"
          ],
          [
           "0.0% Portfolio"
          ],
          [
           "0.0% Portfolio"
          ],
          [
           "0.0% Portfolio"
          ],
          [
           "0.0% Portfolio"
          ],
          [
           "0.0% Portfolio"
          ],
          [
           "0.0% Portfolio"
          ],
          [
           "0.0% Portfolio"
          ],
          [
           "0.0% Portfolio"
          ],
          [
           "0.0% Portfolio"
          ],
          [
           "0.0% Portfolio"
          ],
          [
           "0.0% Portfolio"
          ],
          [
           "0.0% Portfolio"
          ],
          [
           "0.0% Portfolio"
          ],
          [
           "0.0% Portfolio"
          ],
          [
           "0.0% Portfolio"
          ],
          [
           "0.0% Portfolio"
          ],
          [
           "0.0% Portfolio"
          ],
          [
           "0.0% Portfolio"
          ],
          [
           "0.0% Portfolio"
          ],
          [
           "0.0% Portfolio"
          ],
          [
           "0.0% Portfolio"
          ],
          [
           "0.0% Portfolio"
          ],
          [
           "0.0% Portfolio"
          ],
          [
           "0.0% Portfolio"
          ],
          [
           "0.0% Portfolio"
          ],
          [
           "0.0% Portfolio"
          ],
          [
           "0.0% Portfolio"
          ],
          [
           "0.0% Portfolio"
          ],
          [
           "0.0% Portfolio"
          ],
          [
           "0.0% Portfolio"
          ],
          [
           "0.0% Portfolio"
          ],
          [
           "0.0% Portfolio"
          ],
          [
           "0.0% Portfolio"
          ],
          [
           "0.6% ann. growth in 8.2yrs<br>valuation = 11.5%<br>0.0% Portfolio"
          ],
          [
           "0.0% Portfolio"
          ],
          [
           "0.0% Portfolio"
          ],
          [
           "0.0% Portfolio"
          ],
          [
           "0.0% Portfolio"
          ],
          [
           "0.0% Portfolio"
          ],
          [
           "0.0% Portfolio"
          ],
          [
           "0.0% Portfolio"
          ],
          [
           "0.0% Portfolio"
          ],
          [
           "0.0% Portfolio"
          ],
          [
           "0.0% Portfolio"
          ],
          [
           "0.0% Portfolio"
          ],
          [
           "0.0% Portfolio"
          ],
          [
           "0.0% Portfolio"
          ],
          [
           "0.0% Portfolio"
          ],
          [
           "0.0% Portfolio"
          ],
          [
           "0.0% Portfolio"
          ],
          [
           "0.0% Portfolio"
          ],
          [
           "0.0% Portfolio"
          ],
          [
           "0.0% Portfolio"
          ],
          [
           "0.0% Portfolio"
          ],
          [
           "0.0% Portfolio"
          ],
          [
           "0.0% Portfolio"
          ],
          [
           "0.0% Portfolio"
          ],
          [
           "0.0% Portfolio"
          ],
          [
           "0.0% Portfolio"
          ],
          [
           "0.0% Portfolio"
          ],
          [
           "0.0% Portfolio"
          ],
          [
           "0.0% Portfolio"
          ],
          [
           "0.0% Portfolio"
          ],
          [
           "0.0% Portfolio"
          ],
          [
           "0.0% Portfolio"
          ],
          [
           "0.0% Portfolio"
          ],
          [
           "0.0% Portfolio"
          ],
          [
           "0.0% Portfolio"
          ],
          [
           "0.0% Portfolio"
          ],
          [
           "0.0% Portfolio"
          ],
          [
           "0.0% Portfolio"
          ],
          [
           "0.0% Portfolio"
          ],
          [
           "0.0% Portfolio"
          ],
          [
           "0.0% Portfolio"
          ],
          [
           "0.0% Portfolio"
          ],
          [
           "0.0% Portfolio"
          ],
          [
           "0.0% Portfolio"
          ],
          [
           "0.0% Portfolio"
          ],
          [
           "0.0% Portfolio"
          ],
          [
           "0.0% Portfolio"
          ],
          [
           "0.0% Portfolio"
          ],
          [
           "0.0% Portfolio"
          ],
          [
           "0.0% Portfolio"
          ],
          [
           "0.0% Portfolio"
          ],
          [
           "0.0% Portfolio"
          ],
          [
           "0.0% Portfolio"
          ],
          [
           "0.0% Portfolio"
          ],
          [
           "0.0% Portfolio"
          ],
          [
           "0.0% Portfolio"
          ],
          [
           "0.0% Portfolio"
          ],
          [
           "0.0% Portfolio"
          ],
          [
           "0.0% Portfolio"
          ],
          [
           "0.0% Portfolio"
          ],
          [
           "0.0% Portfolio"
          ],
          [
           "0.0% Portfolio"
          ],
          [
           "0.0% Portfolio"
          ],
          [
           "0.0% Portfolio"
          ],
          [
           "0.9% ann. growth in 8.5yrs<br>valuation = 11.4%<br>0.0% Portfolio"
          ],
          [
           "0.0% Portfolio"
          ],
          [
           "0.0% Portfolio"
          ],
          [
           "0.0% Portfolio"
          ],
          [
           "0.0% Portfolio"
          ],
          [
           "0.0% Portfolio"
          ],
          [
           "0.0% Portfolio"
          ],
          [
           "0.0% Portfolio"
          ],
          [
           "0.0% Portfolio"
          ],
          [
           "0.0% Portfolio"
          ],
          [
           "0.0% Portfolio"
          ],
          [
           "0.0% Portfolio"
          ],
          [
           "0.0% Portfolio"
          ],
          [
           "0.0% Portfolio"
          ],
          [
           "0.0% Portfolio"
          ],
          [
           "0.0% Portfolio"
          ],
          [
           "0.0% Portfolio"
          ],
          [
           "0.0% Portfolio"
          ],
          [
           "0.0% Portfolio"
          ],
          [
           "0.0% Portfolio"
          ],
          [
           "0.0% Portfolio"
          ],
          [
           "0.0% Portfolio"
          ],
          [
           "0.0% Portfolio"
          ],
          [
           "0.0% Portfolio"
          ],
          [
           "0.0% Portfolio"
          ],
          [
           "0.0% Portfolio"
          ],
          [
           "0.0% Portfolio"
          ],
          [
           "0.0% Portfolio"
          ],
          [
           "0.0% Portfolio"
          ],
          [
           "0.0% Portfolio"
          ],
          [
           "0.0% Portfolio"
          ],
          [
           "0.0% Portfolio"
          ],
          [
           "0.0% Portfolio"
          ],
          [
           "0.0% Portfolio"
          ],
          [
           "0.0% Portfolio"
          ],
          [
           "0.0% Portfolio"
          ],
          [
           "0.0% Portfolio"
          ],
          [
           "0.0% Portfolio"
          ],
          [
           "0.0% Portfolio"
          ],
          [
           "0.0% Portfolio"
          ],
          [
           "0.0% Portfolio"
          ],
          [
           "0.0% Portfolio"
          ],
          [
           "0.0% Portfolio"
          ],
          [
           "0.0% Portfolio"
          ],
          [
           "0.0% Portfolio"
          ],
          [
           "0.0% Portfolio"
          ],
          [
           "0.0% Portfolio"
          ],
          [
           "0.0% Portfolio"
          ],
          [
           "0.0% Portfolio"
          ],
          [
           "0.0% Portfolio"
          ],
          [
           "0.0% Portfolio"
          ],
          [
           "0.0% Portfolio"
          ],
          [
           "0.0% Portfolio"
          ],
          [
           "0.0% Portfolio"
          ],
          [
           "0.0% Portfolio"
          ],
          [
           "0.0% Portfolio"
          ],
          [
           "0.0% Portfolio"
          ],
          [
           "0.0% Portfolio"
          ],
          [
           "0.0% Portfolio"
          ],
          [
           "0.0% Portfolio"
          ],
          [
           "0.0% Portfolio"
          ],
          [
           "0.0% Portfolio"
          ],
          [
           "0.0% Portfolio"
          ],
          [
           "1.2% ann. growth in 8.7yrs<br>valuation = 16.9%<br>weight = 1.0; valuation = 13.82 yrs<br>100.0% Portfolio"
          ],
          [
           "0.0% Portfolio"
          ],
          [
           "0.0% Portfolio"
          ],
          [
           "0.0% Portfolio"
          ],
          [
           "0.0% Portfolio"
          ],
          [
           "0.0% Portfolio"
          ],
          [
           "0.0% Portfolio"
          ],
          [
           "0.0% Portfolio"
          ],
          [
           "0.0% Portfolio"
          ],
          [
           "0.0% Portfolio"
          ],
          [
           "0.0% Portfolio"
          ],
          [
           "0.0% Portfolio"
          ],
          [
           "0.0% Portfolio"
          ],
          [
           "0.0% Portfolio"
          ],
          [
           "0.0% Portfolio"
          ],
          [
           "0.0% Portfolio"
          ],
          [
           "0.0% Portfolio"
          ],
          [
           "0.0% Portfolio"
          ],
          [
           "0.0% Portfolio"
          ],
          [
           "0.0% Portfolio"
          ],
          [
           "0.0% Portfolio"
          ],
          [
           "0.0% Portfolio"
          ],
          [
           "0.0% Portfolio"
          ],
          [
           "0.0% Portfolio"
          ],
          [
           "0.0% Portfolio"
          ],
          [
           "0.0% Portfolio"
          ],
          [
           "0.0% Portfolio"
          ],
          [
           "0.0% Portfolio"
          ],
          [
           "0.0% Portfolio"
          ],
          [
           "0.0% Portfolio"
          ],
          [
           "0.0% Portfolio"
          ],
          [
           "0.0% Portfolio"
          ],
          [
           "0.0% Portfolio"
          ],
          [
           "0.0% Portfolio"
          ],
          [
           "0.0% Portfolio"
          ],
          [
           "0.0% Portfolio"
          ],
          [
           "0.0% Portfolio"
          ],
          [
           "0.0% Portfolio"
          ],
          [
           "0.0% Portfolio"
          ],
          [
           "0.0% Portfolio"
          ],
          [
           "0.0% Portfolio"
          ],
          [
           "0.0% Portfolio"
          ],
          [
           "0.0% Portfolio"
          ],
          [
           "0.0% Portfolio"
          ],
          [
           "0.0% Portfolio"
          ],
          [
           "0.0% Portfolio"
          ],
          [
           "0.0% Portfolio"
          ],
          [
           "0.0% Portfolio"
          ],
          [
           "0.0% Portfolio"
          ],
          [
           "0.0% Portfolio"
          ],
          [
           "0.0% Portfolio"
          ],
          [
           "0.0% Portfolio"
          ],
          [
           "0.0% Portfolio"
          ],
          [
           "0.0% Portfolio"
          ],
          [
           "0.0% Portfolio"
          ],
          [
           "0.0% Portfolio"
          ],
          [
           "0.0% Portfolio"
          ],
          [
           "0.0% Portfolio"
          ],
          [
           "0.0% Portfolio"
          ],
          [
           "0.0% Portfolio"
          ],
          [
           "0.0% Portfolio"
          ],
          [
           "1.5% ann. growth in 9.0yrs<br>valuation = 11.2%<br>weight = 1.0; valuation = 7.65 yrs<br>100.0% Portfolio"
          ],
          [
           "0.0% Portfolio"
          ],
          [
           "0.0% Portfolio"
          ],
          [
           "0.0% Portfolio"
          ],
          [
           "0.0% Portfolio"
          ],
          [
           "0.0% Portfolio"
          ],
          [
           "0.0% Portfolio"
          ],
          [
           "0.0% Portfolio"
          ],
          [
           "0.0% Portfolio"
          ],
          [
           "0.0% Portfolio"
          ],
          [
           "0.0% Portfolio"
          ],
          [
           "0.0% Portfolio"
          ],
          [
           "0.0% Portfolio"
          ],
          [
           "0.0% Portfolio"
          ],
          [
           "0.0% Portfolio"
          ],
          [
           "0.0% Portfolio"
          ],
          [
           "0.0% Portfolio"
          ],
          [
           "0.0% Portfolio"
          ],
          [
           "0.0% Portfolio"
          ],
          [
           "0.0% Portfolio"
          ],
          [
           "0.0% Portfolio"
          ],
          [
           "0.0% Portfolio"
          ],
          [
           "0.0% Portfolio"
          ],
          [
           "0.0% Portfolio"
          ],
          [
           "0.0% Portfolio"
          ],
          [
           "0.0% Portfolio"
          ],
          [
           "0.0% Portfolio"
          ],
          [
           "0.0% Portfolio"
          ],
          [
           "0.0% Portfolio"
          ],
          [
           "0.0% Portfolio"
          ],
          [
           "0.0% Portfolio"
          ],
          [
           "0.0% Portfolio"
          ],
          [
           "0.0% Portfolio"
          ],
          [
           "0.0% Portfolio"
          ],
          [
           "0.0% Portfolio"
          ],
          [
           "0.0% Portfolio"
          ],
          [
           "0.0% Portfolio"
          ],
          [
           "0.0% Portfolio"
          ],
          [
           "0.0% Portfolio"
          ],
          [
           "0.0% Portfolio"
          ],
          [
           "0.0% Portfolio"
          ],
          [
           "0.0% Portfolio"
          ],
          [
           "0.0% Portfolio"
          ],
          [
           "0.0% Portfolio"
          ],
          [
           "0.0% Portfolio"
          ],
          [
           "0.0% Portfolio"
          ],
          [
           "0.0% Portfolio"
          ],
          [
           "0.0% Portfolio"
          ],
          [
           "0.0% Portfolio"
          ],
          [
           "0.0% Portfolio"
          ],
          [
           "0.0% Portfolio"
          ],
          [
           "0.0% Portfolio"
          ],
          [
           "0.0% Portfolio"
          ],
          [
           "0.0% Portfolio"
          ],
          [
           "0.0% Portfolio"
          ],
          [
           "0.0% Portfolio"
          ],
          [
           "0.0% Portfolio"
          ],
          [
           "0.0% Portfolio"
          ],
          [
           "0.0% Portfolio"
          ],
          [
           "0.0% Portfolio"
          ],
          [
           "0.0% Portfolio"
          ],
          [
           "0.0% Portfolio"
          ],
          [
           "0.0% Portfolio"
          ],
          [
           "1.7% ann. growth in 9.2yrs<br>valuation = 15.1%<br>weight = 1.0; valuation = 9.05 yrs<br>100.0% Portfolio"
          ],
          [
           "0.0% Portfolio"
          ],
          [
           "0.0% Portfolio"
          ],
          [
           "0.0% Portfolio"
          ],
          [
           "0.0% Portfolio"
          ],
          [
           "0.0% Portfolio"
          ],
          [
           "0.0% Portfolio"
          ],
          [
           "0.0% Portfolio"
          ],
          [
           "0.0% Portfolio"
          ],
          [
           "0.0% Portfolio"
          ],
          [
           "0.0% Portfolio"
          ],
          [
           "0.0% Portfolio"
          ],
          [
           "0.0% Portfolio"
          ],
          [
           "0.0% Portfolio"
          ],
          [
           "0.0% Portfolio"
          ],
          [
           "0.0% Portfolio"
          ],
          [
           "0.0% Portfolio"
          ],
          [
           "0.0% Portfolio"
          ],
          [
           "0.0% Portfolio"
          ],
          [
           "0.0% Portfolio"
          ],
          [
           "0.0% Portfolio"
          ],
          [
           "0.0% Portfolio"
          ],
          [
           "0.0% Portfolio"
          ],
          [
           "0.0% Portfolio"
          ],
          [
           "0.0% Portfolio"
          ],
          [
           "0.0% Portfolio"
          ],
          [
           "0.0% Portfolio"
          ],
          [
           "0.0% Portfolio"
          ],
          [
           "0.0% Portfolio"
          ],
          [
           "0.0% Portfolio"
          ],
          [
           "0.0% Portfolio"
          ],
          [
           "0.0% Portfolio"
          ],
          [
           "0.0% Portfolio"
          ],
          [
           "0.0% Portfolio"
          ],
          [
           "0.0% Portfolio"
          ],
          [
           "0.0% Portfolio"
          ],
          [
           "0.0% Portfolio"
          ],
          [
           "0.0% Portfolio"
          ],
          [
           "0.0% Portfolio"
          ],
          [
           "0.0% Portfolio"
          ],
          [
           "0.0% Portfolio"
          ],
          [
           "0.0% Portfolio"
          ],
          [
           "0.0% Portfolio"
          ],
          [
           "0.0% Portfolio"
          ],
          [
           "0.0% Portfolio"
          ],
          [
           "0.0% Portfolio"
          ],
          [
           "0.0% Portfolio"
          ],
          [
           "0.0% Portfolio"
          ],
          [
           "0.0% Portfolio"
          ],
          [
           "0.0% Portfolio"
          ],
          [
           "0.0% Portfolio"
          ],
          [
           "0.0% Portfolio"
          ],
          [
           "0.0% Portfolio"
          ],
          [
           "0.0% Portfolio"
          ],
          [
           "0.0% Portfolio"
          ],
          [
           "0.0% Portfolio"
          ],
          [
           "0.0% Portfolio"
          ],
          [
           "0.0% Portfolio"
          ],
          [
           "0.0% Portfolio"
          ],
          [
           "0.0% Portfolio"
          ],
          [
           "0.0% Portfolio"
          ],
          [
           "0.0% Portfolio"
          ],
          [
           "0.0% Portfolio"
          ],
          [
           "0.0% Portfolio"
          ],
          [
           "2.0% ann. growth in 9.5yrs<br>valuation = 15.9%<br>weight = 1.0; valuation = 8.14 yrs<br>100.0% Portfolio"
          ],
          [
           "0.0% Portfolio"
          ],
          [
           "0.0% Portfolio"
          ],
          [
           "0.0% Portfolio"
          ],
          [
           "0.0% Portfolio"
          ],
          [
           "0.0% Portfolio"
          ],
          [
           "0.0% Portfolio"
          ],
          [
           "0.0% Portfolio"
          ],
          [
           "0.0% Portfolio"
          ],
          [
           "0.0% Portfolio"
          ],
          [
           "0.0% Portfolio"
          ],
          [
           "0.0% Portfolio"
          ],
          [
           "0.0% Portfolio"
          ],
          [
           "0.0% Portfolio"
          ],
          [
           "0.0% Portfolio"
          ],
          [
           "0.0% Portfolio"
          ],
          [
           "0.0% Portfolio"
          ],
          [
           "0.0% Portfolio"
          ],
          [
           "0.0% Portfolio"
          ],
          [
           "0.0% Portfolio"
          ],
          [
           "0.0% Portfolio"
          ],
          [
           "0.0% Portfolio"
          ],
          [
           "0.0% Portfolio"
          ],
          [
           "0.0% Portfolio"
          ],
          [
           "0.0% Portfolio"
          ],
          [
           "0.0% Portfolio"
          ],
          [
           "0.0% Portfolio"
          ],
          [
           "0.0% Portfolio"
          ],
          [
           "0.0% Portfolio"
          ],
          [
           "0.0% Portfolio"
          ],
          [
           "0.0% Portfolio"
          ],
          [
           "0.0% Portfolio"
          ],
          [
           "0.0% Portfolio"
          ],
          [
           "0.0% Portfolio"
          ],
          [
           "0.0% Portfolio"
          ],
          [
           "0.0% Portfolio"
          ],
          [
           "0.0% Portfolio"
          ],
          [
           "0.0% Portfolio"
          ],
          [
           "0.0% Portfolio"
          ],
          [
           "0.0% Portfolio"
          ],
          [
           "0.0% Portfolio"
          ],
          [
           "0.0% Portfolio"
          ],
          [
           "0.0% Portfolio"
          ],
          [
           "0.0% Portfolio"
          ],
          [
           "0.0% Portfolio"
          ],
          [
           "0.0% Portfolio"
          ],
          [
           "0.0% Portfolio"
          ],
          [
           "0.0% Portfolio"
          ],
          [
           "0.0% Portfolio"
          ],
          [
           "0.0% Portfolio"
          ],
          [
           "0.0% Portfolio"
          ],
          [
           "0.0% Portfolio"
          ],
          [
           "0.0% Portfolio"
          ],
          [
           "0.0% Portfolio"
          ],
          [
           "0.0% Portfolio"
          ],
          [
           "0.0% Portfolio"
          ],
          [
           "0.0% Portfolio"
          ],
          [
           "0.0% Portfolio"
          ],
          [
           "0.0% Portfolio"
          ],
          [
           "0.0% Portfolio"
          ],
          [
           "0.0% Portfolio"
          ],
          [
           "0.0% Portfolio"
          ],
          [
           "0.0% Portfolio"
          ],
          [
           "2.1% ann. growth in 9.7yrs<br>valuation = 7.0%<br>weight = 1.0; valuation = 3.26 yrs<br>100.0% Portfolio"
          ],
          [
           "0.0% Portfolio"
          ],
          [
           "0.0% Portfolio"
          ],
          [
           "0.0% Portfolio"
          ],
          [
           "0.0% Portfolio"
          ],
          [
           "0.0% Portfolio"
          ],
          [
           "0.0% Portfolio"
          ],
          [
           "0.0% Portfolio"
          ],
          [
           "0.0% Portfolio"
          ],
          [
           "0.0% Portfolio"
          ],
          [
           "0.0% Portfolio"
          ],
          [
           "0.0% Portfolio"
          ],
          [
           "0.0% Portfolio"
          ],
          [
           "0.0% Portfolio"
          ],
          [
           "0.0% Portfolio"
          ],
          [
           "0.0% Portfolio"
          ],
          [
           "0.0% Portfolio"
          ],
          [
           "0.0% Portfolio"
          ],
          [
           "0.0% Portfolio"
          ],
          [
           "0.0% Portfolio"
          ],
          [
           "0.0% Portfolio"
          ],
          [
           "0.0% Portfolio"
          ],
          [
           "0.0% Portfolio"
          ],
          [
           "0.0% Portfolio"
          ],
          [
           "0.0% Portfolio"
          ],
          [
           "0.0% Portfolio"
          ],
          [
           "0.0% Portfolio"
          ],
          [
           "0.0% Portfolio"
          ],
          [
           "0.0% Portfolio"
          ],
          [
           "0.0% Portfolio"
          ],
          [
           "0.0% Portfolio"
          ],
          [
           "0.0% Portfolio"
          ],
          [
           "0.0% Portfolio"
          ],
          [
           "0.0% Portfolio"
          ],
          [
           "0.0% Portfolio"
          ],
          [
           "0.0% Portfolio"
          ],
          [
           "0.0% Portfolio"
          ],
          [
           "0.0% Portfolio"
          ],
          [
           "0.0% Portfolio"
          ],
          [
           "0.0% Portfolio"
          ],
          [
           "0.0% Portfolio"
          ],
          [
           "0.0% Portfolio"
          ],
          [
           "0.0% Portfolio"
          ],
          [
           "0.0% Portfolio"
          ],
          [
           "0.0% Portfolio"
          ],
          [
           "0.0% Portfolio"
          ],
          [
           "0.0% Portfolio"
          ],
          [
           "0.0% Portfolio"
          ],
          [
           "0.0% Portfolio"
          ],
          [
           "0.0% Portfolio"
          ],
          [
           "0.0% Portfolio"
          ],
          [
           "0.0% Portfolio"
          ],
          [
           "0.0% Portfolio"
          ],
          [
           "0.0% Portfolio"
          ],
          [
           "0.0% Portfolio"
          ],
          [
           "0.0% Portfolio"
          ],
          [
           "0.0% Portfolio"
          ],
          [
           "0.0% Portfolio"
          ],
          [
           "0.0% Portfolio"
          ],
          [
           "0.0% Portfolio"
          ],
          [
           "0.0% Portfolio"
          ],
          [
           "2.2% ann. growth in 10.0yrs<br>valuation = 11.9%<br>weight = 1.0; valuation = 5.31 yrs<br>100.0% Portfolio"
          ],
          [
           "0.0% Portfolio"
          ],
          [
           "0.0% Portfolio"
          ],
          [
           "0.0% Portfolio"
          ],
          [
           "0.0% Portfolio"
          ],
          [
           "0.0% Portfolio"
          ],
          [
           "0.0% Portfolio"
          ],
          [
           "0.0% Portfolio"
          ],
          [
           "0.0% Portfolio"
          ],
          [
           "0.0% Portfolio"
          ],
          [
           "0.0% Portfolio"
          ],
          [
           "0.0% Portfolio"
          ],
          [
           "0.0% Portfolio"
          ],
          [
           "0.0% Portfolio"
          ],
          [
           "0.0% Portfolio"
          ],
          [
           "0.0% Portfolio"
          ],
          [
           "0.0% Portfolio"
          ],
          [
           "0.0% Portfolio"
          ],
          [
           "0.0% Portfolio"
          ],
          [
           "0.0% Portfolio"
          ],
          [
           "0.0% Portfolio"
          ],
          [
           "0.0% Portfolio"
          ],
          [
           "0.0% Portfolio"
          ],
          [
           "0.0% Portfolio"
          ],
          [
           "0.0% Portfolio"
          ],
          [
           "0.0% Portfolio"
          ],
          [
           "0.0% Portfolio"
          ],
          [
           "0.0% Portfolio"
          ],
          [
           "0.0% Portfolio"
          ],
          [
           "0.0% Portfolio"
          ],
          [
           "0.0% Portfolio"
          ],
          [
           "0.0% Portfolio"
          ],
          [
           "0.0% Portfolio"
          ],
          [
           "0.0% Portfolio"
          ],
          [
           "0.0% Portfolio"
          ],
          [
           "0.0% Portfolio"
          ],
          [
           "0.0% Portfolio"
          ],
          [
           "0.0% Portfolio"
          ],
          [
           "0.0% Portfolio"
          ],
          [
           "0.0% Portfolio"
          ],
          [
           "0.0% Portfolio"
          ],
          [
           "0.0% Portfolio"
          ],
          [
           "0.0% Portfolio"
          ],
          [
           "0.0% Portfolio"
          ],
          [
           "0.0% Portfolio"
          ],
          [
           "0.0% Portfolio"
          ],
          [
           "0.0% Portfolio"
          ],
          [
           "0.0% Portfolio"
          ],
          [
           "0.0% Portfolio"
          ],
          [
           "0.0% Portfolio"
          ],
          [
           "0.0% Portfolio"
          ],
          [
           "0.0% Portfolio"
          ],
          [
           "0.0% Portfolio"
          ],
          [
           "0.0% Portfolio"
          ],
          [
           "0.0% Portfolio"
          ],
          [
           "0.0% Portfolio"
          ],
          [
           "0.0% Portfolio"
          ],
          [
           "0.0% Portfolio"
          ],
          [
           "0.0% Portfolio"
          ],
          [
           "0.0% Portfolio"
          ],
          [
           "0.0% Portfolio"
          ],
          [
           "0.0% Portfolio"
          ],
          [
           "0.0% Portfolio"
          ],
          [
           "2.1% ann. growth in 10.0yrs<br>valuation = 14.4%<br>weight = 1.0; valuation = 6.78 yrs<br>100.0% Portfolio"
          ],
          [
           "0.0% Portfolio"
          ],
          [
           "0.0% Portfolio"
          ],
          [
           "0.0% Portfolio"
          ],
          [
           "0.0% Portfolio"
          ],
          [
           "0.0% Portfolio"
          ],
          [
           "0.0% Portfolio"
          ],
          [
           "0.0% Portfolio"
          ],
          [
           "0.0% Portfolio"
          ],
          [
           "0.0% Portfolio"
          ],
          [
           "0.0% Portfolio"
          ],
          [
           "0.0% Portfolio"
          ],
          [
           "0.0% Portfolio"
          ],
          [
           "0.0% Portfolio"
          ],
          [
           "0.0% Portfolio"
          ],
          [
           "0.0% Portfolio"
          ],
          [
           "0.0% Portfolio"
          ],
          [
           "0.0% Portfolio"
          ],
          [
           "0.0% Portfolio"
          ],
          [
           "0.0% Portfolio"
          ],
          [
           "0.0% Portfolio"
          ],
          [
           "0.0% Portfolio"
          ],
          [
           "0.0% Portfolio"
          ],
          [
           "0.0% Portfolio"
          ],
          [
           "0.0% Portfolio"
          ],
          [
           "0.0% Portfolio"
          ],
          [
           "0.0% Portfolio"
          ],
          [
           "0.0% Portfolio"
          ],
          [
           "0.0% Portfolio"
          ],
          [
           "0.0% Portfolio"
          ],
          [
           "0.0% Portfolio"
          ],
          [
           "0.0% Portfolio"
          ],
          [
           "0.0% Portfolio"
          ],
          [
           "0.0% Portfolio"
          ],
          [
           "0.0% Portfolio"
          ],
          [
           "0.0% Portfolio"
          ],
          [
           "0.0% Portfolio"
          ],
          [
           "0.0% Portfolio"
          ],
          [
           "0.0% Portfolio"
          ],
          [
           "0.0% Portfolio"
          ],
          [
           "0.0% Portfolio"
          ],
          [
           "0.0% Portfolio"
          ],
          [
           "0.0% Portfolio"
          ],
          [
           "0.0% Portfolio"
          ],
          [
           "0.0% Portfolio"
          ],
          [
           "0.0% Portfolio"
          ],
          [
           "0.0% Portfolio"
          ],
          [
           "0.0% Portfolio"
          ],
          [
           "0.0% Portfolio"
          ],
          [
           "0.0% Portfolio"
          ],
          [
           "0.0% Portfolio"
          ],
          [
           "0.0% Portfolio"
          ],
          [
           "0.0% Portfolio"
          ],
          [
           "0.0% Portfolio"
          ],
          [
           "0.0% Portfolio"
          ],
          [
           "0.0% Portfolio"
          ],
          [
           "0.0% Portfolio"
          ],
          [
           "0.0% Portfolio"
          ],
          [
           "0.0% Portfolio"
          ],
          [
           "0.0% Portfolio"
          ],
          [
           "0.0% Portfolio"
          ],
          [
           "0.0% Portfolio"
          ],
          [
           "0.0% Portfolio"
          ],
          [
           "0.0% Portfolio"
          ],
          [
           "0.0% Portfolio"
          ],
          [
           "1.9% ann. growth in 10.0yrs<br>valuation = -2.3%<br>weight = 1.0; valuation = -0.04 yrs<br>100.0% Portfolio"
          ],
          [
           "0.0% Portfolio"
          ],
          [
           "0.0% Portfolio"
          ],
          [
           "0.0% Portfolio"
          ],
          [
           "0.0% Portfolio"
          ],
          [
           "0.0% Portfolio"
          ],
          [
           "0.0% Portfolio"
          ],
          [
           "0.0% Portfolio"
          ],
          [
           "0.0% Portfolio"
          ],
          [
           "0.0% Portfolio"
          ],
          [
           "0.0% Portfolio"
          ],
          [
           "0.0% Portfolio"
          ],
          [
           "0.0% Portfolio"
          ],
          [
           "0.0% Portfolio"
          ],
          [
           "0.0% Portfolio"
          ],
          [
           "0.0% Portfolio"
          ],
          [
           "0.0% Portfolio"
          ],
          [
           "0.0% Portfolio"
          ],
          [
           "0.0% Portfolio"
          ],
          [
           "0.0% Portfolio"
          ],
          [
           "0.0% Portfolio"
          ],
          [
           "0.0% Portfolio"
          ],
          [
           "0.0% Portfolio"
          ],
          [
           "0.0% Portfolio"
          ],
          [
           "0.0% Portfolio"
          ],
          [
           "0.0% Portfolio"
          ],
          [
           "0.0% Portfolio"
          ],
          [
           "0.0% Portfolio"
          ],
          [
           "0.0% Portfolio"
          ],
          [
           "0.0% Portfolio"
          ],
          [
           "0.0% Portfolio"
          ],
          [
           "0.0% Portfolio"
          ],
          [
           "0.0% Portfolio"
          ],
          [
           "0.0% Portfolio"
          ],
          [
           "0.0% Portfolio"
          ],
          [
           "0.0% Portfolio"
          ],
          [
           "0.0% Portfolio"
          ],
          [
           "0.0% Portfolio"
          ],
          [
           "0.0% Portfolio"
          ],
          [
           "0.0% Portfolio"
          ],
          [
           "0.0% Portfolio"
          ],
          [
           "0.0% Portfolio"
          ],
          [
           "0.0% Portfolio"
          ],
          [
           "0.0% Portfolio"
          ],
          [
           "0.0% Portfolio"
          ],
          [
           "0.0% Portfolio"
          ],
          [
           "0.0% Portfolio"
          ],
          [
           "0.0% Portfolio"
          ],
          [
           "0.0% Portfolio"
          ],
          [
           "0.0% Portfolio"
          ],
          [
           "0.0% Portfolio"
          ],
          [
           "0.0% Portfolio"
          ],
          [
           "0.0% Portfolio"
          ],
          [
           "0.0% Portfolio"
          ],
          [
           "0.0% Portfolio"
          ],
          [
           "0.0% Portfolio"
          ],
          [
           "0.0% Portfolio"
          ],
          [
           "0.0% Portfolio"
          ],
          [
           "0.0% Portfolio"
          ],
          [
           "0.0% Portfolio"
          ],
          [
           "0.0% Portfolio"
          ],
          [
           "0.0% Portfolio"
          ],
          [
           "0.0% Portfolio"
          ],
          [
           "1.8% ann. growth in 10.0yrs<br>valuation = 6.7%<br>weight = 1.0; valuation = 3.75 yrs<br>100.0% Portfolio"
          ],
          [
           "0.0% Portfolio"
          ],
          [
           "0.0% Portfolio"
          ],
          [
           "0.0% Portfolio"
          ],
          [
           "0.0% Portfolio"
          ],
          [
           "0.0% Portfolio"
          ],
          [
           "0.0% Portfolio"
          ],
          [
           "0.0% Portfolio"
          ],
          [
           "0.0% Portfolio"
          ],
          [
           "0.0% Portfolio"
          ],
          [
           "0.0% Portfolio"
          ],
          [
           "0.0% Portfolio"
          ],
          [
           "0.0% Portfolio"
          ],
          [
           "0.0% Portfolio"
          ],
          [
           "0.0% Portfolio"
          ],
          [
           "0.0% Portfolio"
          ],
          [
           "0.0% Portfolio"
          ],
          [
           "0.0% Portfolio"
          ],
          [
           "0.0% Portfolio"
          ],
          [
           "0.0% Portfolio"
          ],
          [
           "0.0% Portfolio"
          ],
          [
           "0.0% Portfolio"
          ],
          [
           "0.0% Portfolio"
          ],
          [
           "0.0% Portfolio"
          ],
          [
           "0.0% Portfolio"
          ],
          [
           "0.0% Portfolio"
          ],
          [
           "0.0% Portfolio"
          ],
          [
           "0.0% Portfolio"
          ],
          [
           "0.0% Portfolio"
          ],
          [
           "0.0% Portfolio"
          ],
          [
           "0.0% Portfolio"
          ],
          [
           "0.0% Portfolio"
          ],
          [
           "0.0% Portfolio"
          ],
          [
           "0.0% Portfolio"
          ],
          [
           "0.0% Portfolio"
          ],
          [
           "0.0% Portfolio"
          ],
          [
           "0.0% Portfolio"
          ],
          [
           "0.0% Portfolio"
          ],
          [
           "0.0% Portfolio"
          ],
          [
           "0.0% Portfolio"
          ],
          [
           "0.0% Portfolio"
          ],
          [
           "0.0% Portfolio"
          ],
          [
           "0.0% Portfolio"
          ],
          [
           "0.0% Portfolio"
          ],
          [
           "0.0% Portfolio"
          ],
          [
           "0.0% Portfolio"
          ],
          [
           "0.0% Portfolio"
          ],
          [
           "0.0% Portfolio"
          ],
          [
           "0.0% Portfolio"
          ],
          [
           "0.0% Portfolio"
          ],
          [
           "0.0% Portfolio"
          ],
          [
           "0.0% Portfolio"
          ],
          [
           "0.0% Portfolio"
          ],
          [
           "0.0% Portfolio"
          ],
          [
           "0.0% Portfolio"
          ],
          [
           "0.0% Portfolio"
          ],
          [
           "0.0% Portfolio"
          ],
          [
           "0.0% Portfolio"
          ],
          [
           "0.0% Portfolio"
          ],
          [
           "0.0% Portfolio"
          ],
          [
           "0.0% Portfolio"
          ],
          [
           "1.8% ann. growth in 10.0yrs<br>valuation = -3.5%<br>weight = 1.0; valuation = -0.07 yrs<br>100.0% Portfolio"
          ],
          [
           "0.0% Portfolio"
          ],
          [
           "0.0% Portfolio"
          ],
          [
           "0.0% Portfolio"
          ],
          [
           "0.0% Portfolio"
          ],
          [
           "0.0% Portfolio"
          ],
          [
           "0.0% Portfolio"
          ],
          [
           "0.0% Portfolio"
          ],
          [
           "0.0% Portfolio"
          ],
          [
           "0.0% Portfolio"
          ],
          [
           "0.0% Portfolio"
          ],
          [
           "0.0% Portfolio"
          ],
          [
           "0.0% Portfolio"
          ],
          [
           "0.0% Portfolio"
          ],
          [
           "0.0% Portfolio"
          ],
          [
           "0.0% Portfolio"
          ],
          [
           "0.0% Portfolio"
          ],
          [
           "0.0% Portfolio"
          ],
          [
           "0.0% Portfolio"
          ],
          [
           "0.0% Portfolio"
          ],
          [
           "0.0% Portfolio"
          ],
          [
           "0.0% Portfolio"
          ],
          [
           "0.0% Portfolio"
          ],
          [
           "0.0% Portfolio"
          ],
          [
           "0.0% Portfolio"
          ],
          [
           "0.0% Portfolio"
          ],
          [
           "0.0% Portfolio"
          ],
          [
           "0.0% Portfolio"
          ],
          [
           "0.0% Portfolio"
          ],
          [
           "0.0% Portfolio"
          ],
          [
           "0.0% Portfolio"
          ],
          [
           "0.0% Portfolio"
          ],
          [
           "0.0% Portfolio"
          ],
          [
           "0.0% Portfolio"
          ],
          [
           "0.0% Portfolio"
          ],
          [
           "0.0% Portfolio"
          ],
          [
           "0.0% Portfolio"
          ],
          [
           "0.0% Portfolio"
          ],
          [
           "0.0% Portfolio"
          ],
          [
           "0.0% Portfolio"
          ],
          [
           "0.0% Portfolio"
          ],
          [
           "0.0% Portfolio"
          ],
          [
           "0.0% Portfolio"
          ],
          [
           "0.0% Portfolio"
          ],
          [
           "0.0% Portfolio"
          ],
          [
           "0.0% Portfolio"
          ],
          [
           "0.0% Portfolio"
          ],
          [
           "0.0% Portfolio"
          ],
          [
           "0.0% Portfolio"
          ],
          [
           "0.0% Portfolio"
          ],
          [
           "0.0% Portfolio"
          ],
          [
           "0.0% Portfolio"
          ],
          [
           "0.0% Portfolio"
          ],
          [
           "0.0% Portfolio"
          ],
          [
           "0.0% Portfolio"
          ],
          [
           "0.0% Portfolio"
          ],
          [
           "0.0% Portfolio"
          ],
          [
           "0.0% Portfolio"
          ],
          [
           "0.0% Portfolio"
          ],
          [
           "0.0% Portfolio"
          ],
          [
           "0.0% Portfolio"
          ],
          [
           "0.0% Portfolio"
          ],
          [
           "0.0% Portfolio"
          ],
          [
           "0.0% Portfolio"
          ],
          [
           "2.2% ann. growth in 10.0yrs<br>valuation = 1.2%<br>weight = 1.0; valuation = 0.56 yrs<br>100.0% Portfolio"
          ],
          [
           "0.0% Portfolio"
          ],
          [
           "0.0% Portfolio"
          ],
          [
           "0.0% Portfolio"
          ],
          [
           "0.0% Portfolio"
          ],
          [
           "0.0% Portfolio"
          ],
          [
           "0.0% Portfolio"
          ],
          [
           "0.0% Portfolio"
          ],
          [
           "0.0% Portfolio"
          ],
          [
           "0.0% Portfolio"
          ],
          [
           "0.0% Portfolio"
          ],
          [
           "0.0% Portfolio"
          ],
          [
           "0.0% Portfolio"
          ],
          [
           "0.0% Portfolio"
          ],
          [
           "0.0% Portfolio"
          ],
          [
           "0.0% Portfolio"
          ],
          [
           "0.0% Portfolio"
          ],
          [
           "0.0% Portfolio"
          ],
          [
           "0.0% Portfolio"
          ],
          [
           "0.0% Portfolio"
          ],
          [
           "0.0% Portfolio"
          ],
          [
           "0.0% Portfolio"
          ],
          [
           "0.0% Portfolio"
          ],
          [
           "0.0% Portfolio"
          ],
          [
           "0.0% Portfolio"
          ],
          [
           "0.0% Portfolio"
          ],
          [
           "0.0% Portfolio"
          ],
          [
           "0.0% Portfolio"
          ],
          [
           "0.0% Portfolio"
          ],
          [
           "0.0% Portfolio"
          ],
          [
           "0.0% Portfolio"
          ],
          [
           "0.0% Portfolio"
          ],
          [
           "0.0% Portfolio"
          ],
          [
           "0.0% Portfolio"
          ],
          [
           "0.0% Portfolio"
          ],
          [
           "0.0% Portfolio"
          ],
          [
           "0.0% Portfolio"
          ],
          [
           "0.0% Portfolio"
          ],
          [
           "0.0% Portfolio"
          ],
          [
           "0.0% Portfolio"
          ],
          [
           "0.0% Portfolio"
          ],
          [
           "0.0% Portfolio"
          ],
          [
           "0.0% Portfolio"
          ],
          [
           "0.0% Portfolio"
          ],
          [
           "0.0% Portfolio"
          ],
          [
           "0.0% Portfolio"
          ],
          [
           "0.0% Portfolio"
          ],
          [
           "0.0% Portfolio"
          ],
          [
           "0.0% Portfolio"
          ],
          [
           "0.0% Portfolio"
          ],
          [
           "0.0% Portfolio"
          ],
          [
           "0.0% Portfolio"
          ],
          [
           "0.0% Portfolio"
          ],
          [
           "0.0% Portfolio"
          ],
          [
           "0.0% Portfolio"
          ],
          [
           "0.0% Portfolio"
          ],
          [
           "0.0% Portfolio"
          ],
          [
           "0.0% Portfolio"
          ],
          [
           "0.0% Portfolio"
          ],
          [
           "0.0% Portfolio"
          ],
          [
           "0.0% Portfolio"
          ],
          [
           "0.0% Portfolio"
          ],
          [
           "0.0% Portfolio"
          ],
          [
           "0.0% Portfolio"
          ],
          [
           "0.0% Portfolio"
          ],
          [
           "2.6% ann. growth in 10.0yrs<br>valuation = 6.4%<br>weight = 1.0; valuation = 2.47 yrs<br>100.0% Portfolio"
          ],
          [
           "0.0% Portfolio"
          ],
          [
           "0.0% Portfolio"
          ],
          [
           "0.0% Portfolio"
          ],
          [
           "0.0% Portfolio"
          ],
          [
           "0.0% Portfolio"
          ],
          [
           "0.0% Portfolio"
          ],
          [
           "0.0% Portfolio"
          ],
          [
           "0.0% Portfolio"
          ],
          [
           "0.0% Portfolio"
          ],
          [
           "0.0% Portfolio"
          ],
          [
           "0.0% Portfolio"
          ],
          [
           "0.0% Portfolio"
          ],
          [
           "0.0% Portfolio"
          ],
          [
           "0.0% Portfolio"
          ],
          [
           "0.0% Portfolio"
          ],
          [
           "0.0% Portfolio"
          ],
          [
           "0.0% Portfolio"
          ],
          [
           "0.0% Portfolio"
          ],
          [
           "0.0% Portfolio"
          ],
          [
           "0.0% Portfolio"
          ],
          [
           "0.0% Portfolio"
          ],
          [
           "0.0% Portfolio"
          ],
          [
           "0.0% Portfolio"
          ],
          [
           "0.0% Portfolio"
          ],
          [
           "0.0% Portfolio"
          ],
          [
           "0.0% Portfolio"
          ],
          [
           "0.0% Portfolio"
          ],
          [
           "0.0% Portfolio"
          ],
          [
           "0.0% Portfolio"
          ],
          [
           "0.0% Portfolio"
          ],
          [
           "0.0% Portfolio"
          ],
          [
           "0.0% Portfolio"
          ],
          [
           "0.0% Portfolio"
          ],
          [
           "0.0% Portfolio"
          ],
          [
           "0.0% Portfolio"
          ],
          [
           "0.0% Portfolio"
          ],
          [
           "0.0% Portfolio"
          ],
          [
           "0.0% Portfolio"
          ],
          [
           "0.0% Portfolio"
          ],
          [
           "0.0% Portfolio"
          ],
          [
           "0.0% Portfolio"
          ],
          [
           "0.0% Portfolio"
          ],
          [
           "0.0% Portfolio"
          ],
          [
           "0.0% Portfolio"
          ],
          [
           "0.0% Portfolio"
          ],
          [
           "0.0% Portfolio"
          ],
          [
           "0.0% Portfolio"
          ],
          [
           "0.0% Portfolio"
          ],
          [
           "0.0% Portfolio"
          ],
          [
           "0.0% Portfolio"
          ],
          [
           "0.0% Portfolio"
          ],
          [
           "0.0% Portfolio"
          ],
          [
           "0.0% Portfolio"
          ],
          [
           "0.0% Portfolio"
          ],
          [
           "0.0% Portfolio"
          ],
          [
           "0.0% Portfolio"
          ],
          [
           "0.0% Portfolio"
          ],
          [
           "0.0% Portfolio"
          ],
          [
           "0.0% Portfolio"
          ],
          [
           "0.0% Portfolio"
          ],
          [
           "0.0% Portfolio"
          ],
          [
           "0.0% Portfolio"
          ],
          [
           "3.2% ann. growth in 10.0yrs<br>valuation = 3.0%<br>weight = 1.0; valuation = 0.93 yrs<br>100.0% Portfolio"
          ],
          [
           "0.0% Portfolio"
          ],
          [
           "0.0% Portfolio"
          ],
          [
           "0.0% Portfolio"
          ],
          [
           "0.0% Portfolio"
          ],
          [
           "0.0% Portfolio"
          ],
          [
           "0.0% Portfolio"
          ],
          [
           "0.0% Portfolio"
          ],
          [
           "0.0% Portfolio"
          ],
          [
           "0.0% Portfolio"
          ],
          [
           "0.0% Portfolio"
          ],
          [
           "0.0% Portfolio"
          ],
          [
           "0.0% Portfolio"
          ],
          [
           "0.0% Portfolio"
          ],
          [
           "0.0% Portfolio"
          ],
          [
           "0.0% Portfolio"
          ],
          [
           "0.0% Portfolio"
          ],
          [
           "0.0% Portfolio"
          ],
          [
           "0.0% Portfolio"
          ],
          [
           "0.0% Portfolio"
          ],
          [
           "0.0% Portfolio"
          ],
          [
           "0.0% Portfolio"
          ],
          [
           "0.0% Portfolio"
          ],
          [
           "0.0% Portfolio"
          ],
          [
           "0.0% Portfolio"
          ],
          [
           "0.0% Portfolio"
          ],
          [
           "0.0% Portfolio"
          ],
          [
           "0.0% Portfolio"
          ],
          [
           "0.0% Portfolio"
          ],
          [
           "0.0% Portfolio"
          ],
          [
           "0.0% Portfolio"
          ],
          [
           "0.0% Portfolio"
          ],
          [
           "0.0% Portfolio"
          ],
          [
           "0.0% Portfolio"
          ],
          [
           "0.0% Portfolio"
          ],
          [
           "0.0% Portfolio"
          ],
          [
           "0.0% Portfolio"
          ],
          [
           "0.0% Portfolio"
          ],
          [
           "0.0% Portfolio"
          ],
          [
           "0.0% Portfolio"
          ],
          [
           "0.0% Portfolio"
          ],
          [
           "0.0% Portfolio"
          ],
          [
           "0.0% Portfolio"
          ],
          [
           "0.0% Portfolio"
          ],
          [
           "0.0% Portfolio"
          ],
          [
           "0.0% Portfolio"
          ],
          [
           "0.0% Portfolio"
          ],
          [
           "0.0% Portfolio"
          ],
          [
           "0.0% Portfolio"
          ],
          [
           "0.0% Portfolio"
          ],
          [
           "0.0% Portfolio"
          ],
          [
           "0.0% Portfolio"
          ],
          [
           "0.0% Portfolio"
          ],
          [
           "0.0% Portfolio"
          ],
          [
           "0.0% Portfolio"
          ],
          [
           "0.0% Portfolio"
          ],
          [
           "0.0% Portfolio"
          ],
          [
           "0.0% Portfolio"
          ],
          [
           "0.0% Portfolio"
          ],
          [
           "0.0% Portfolio"
          ],
          [
           "4.1% ann. growth in 10.0yrs<br>valuation = 7.1%<br>weight = 0.5; valuation = 1.73 yrs<br>65.9% Portfolio"
          ],
          [
           "0.0% Portfolio"
          ],
          [
           "0.0% Portfolio"
          ],
          [
           "0.0% Portfolio"
          ],
          [
           "0.0% Portfolio"
          ],
          [
           "0.0% Portfolio"
          ],
          [
           "0.0% Portfolio"
          ],
          [
           "0.0% Portfolio"
          ],
          [
           "0.0% Portfolio"
          ],
          [
           "0.0% Portfolio"
          ],
          [
           "0.0% Portfolio"
          ],
          [
           "0.0% Portfolio"
          ],
          [
           "0.0% Portfolio"
          ],
          [
           "0.0% Portfolio"
          ],
          [
           "0.0% Portfolio"
          ],
          [
           "0.0% Portfolio"
          ],
          [
           "0.0% Portfolio"
          ],
          [
           "0.0% Portfolio"
          ],
          [
           "0.0% Portfolio"
          ],
          [
           "0.0% Portfolio"
          ],
          [
           "0.0% Portfolio"
          ],
          [
           "0.0% Portfolio"
          ],
          [
           "0.0% Portfolio"
          ],
          [
           "0.0% Portfolio"
          ],
          [
           "0.0% Portfolio"
          ],
          [
           "0.0% Portfolio"
          ],
          [
           "0.0% Portfolio"
          ],
          [
           "0.0% Portfolio"
          ],
          [
           "0.0% Portfolio"
          ],
          [
           "0.0% Portfolio"
          ],
          [
           "0.0% Portfolio"
          ],
          [
           "0.0% Portfolio"
          ],
          [
           "0.0% Portfolio"
          ],
          [
           "0.0% Portfolio"
          ],
          [
           "0.0% Portfolio"
          ],
          [
           "0.0% Portfolio"
          ],
          [
           "0.0% Portfolio"
          ],
          [
           "0.0% Portfolio"
          ],
          [
           "0.0% Portfolio"
          ],
          [
           "0.0% Portfolio"
          ],
          [
           "0.0% Portfolio"
          ],
          [
           "0.0% Portfolio"
          ],
          [
           "0.0% Portfolio"
          ],
          [
           "0.0% Portfolio"
          ],
          [
           "0.0% Portfolio"
          ],
          [
           "0.0% Portfolio"
          ],
          [
           "0.0% Portfolio"
          ],
          [
           "0.0% Portfolio"
          ],
          [
           "0.0% Portfolio"
          ],
          [
           "0.0% Portfolio"
          ],
          [
           "0.0% Portfolio"
          ],
          [
           "0.0% Portfolio"
          ],
          [
           "0.0% Portfolio"
          ],
          [
           "0.0% Portfolio"
          ],
          [
           "0.0% Portfolio"
          ],
          [
           "0.0% Portfolio"
          ],
          [
           "0.0% Portfolio"
          ],
          [
           "0.0% Portfolio"
          ],
          [
           "0.0% Portfolio"
          ],
          [
           "0.0% Portfolio"
          ],
          [
           "0.0% Portfolio"
          ],
          [
           "0.0% Portfolio"
          ],
          [
           "0.0% Portfolio"
          ],
          [
           "0.0% Portfolio"
          ],
          [
           "4.7% ann. growth in 10.0yrs<br>valuation = 8.5%<br>weight = 0.5; valuation = 1.82 yrs<br>93.4% Portfolio"
          ],
          [
           "0.0% Portfolio"
          ],
          [
           "0.0% Portfolio"
          ],
          [
           "0.0% Portfolio"
          ],
          [
           "0.0% Portfolio"
          ],
          [
           "0.0% Portfolio"
          ],
          [
           "0.0% Portfolio"
          ],
          [
           "0.0% Portfolio"
          ],
          [
           "0.0% Portfolio"
          ],
          [
           "0.0% Portfolio"
          ],
          [
           "0.0% Portfolio"
          ],
          [
           "0.0% Portfolio"
          ],
          [
           "0.0% Portfolio"
          ],
          [
           "0.0% Portfolio"
          ],
          [
           "0.0% Portfolio"
          ],
          [
           "0.0% Portfolio"
          ],
          [
           "0.0% Portfolio"
          ],
          [
           "0.0% Portfolio"
          ],
          [
           "0.0% Portfolio"
          ],
          [
           "0.0% Portfolio"
          ],
          [
           "0.0% Portfolio"
          ],
          [
           "0.0% Portfolio"
          ],
          [
           "0.0% Portfolio"
          ],
          [
           "0.0% Portfolio"
          ],
          [
           "0.0% Portfolio"
          ],
          [
           "0.0% Portfolio"
          ],
          [
           "0.0% Portfolio"
          ],
          [
           "0.0% Portfolio"
          ],
          [
           "0.0% Portfolio"
          ],
          [
           "0.0% Portfolio"
          ],
          [
           "0.0% Portfolio"
          ],
          [
           "0.0% Portfolio"
          ],
          [
           "0.0% Portfolio"
          ],
          [
           "0.0% Portfolio"
          ],
          [
           "0.0% Portfolio"
          ],
          [
           "0.0% Portfolio"
          ],
          [
           "0.0% Portfolio"
          ],
          [
           "0.0% Portfolio"
          ],
          [
           "0.0% Portfolio"
          ],
          [
           "0.0% Portfolio"
          ],
          [
           "0.0% Portfolio"
          ],
          [
           "0.0% Portfolio"
          ],
          [
           "0.0% Portfolio"
          ],
          [
           "0.0% Portfolio"
          ],
          [
           "0.0% Portfolio"
          ],
          [
           "0.0% Portfolio"
          ],
          [
           "0.0% Portfolio"
          ],
          [
           "0.0% Portfolio"
          ],
          [
           "0.0% Portfolio"
          ],
          [
           "0.0% Portfolio"
          ],
          [
           "0.0% Portfolio"
          ],
          [
           "0.0% Portfolio"
          ],
          [
           "0.0% Portfolio"
          ],
          [
           "0.0% Portfolio"
          ],
          [
           "0.0% Portfolio"
          ],
          [
           "0.0% Portfolio"
          ],
          [
           "0.0% Portfolio"
          ],
          [
           "0.0% Portfolio"
          ],
          [
           "0.0% Portfolio"
          ],
          [
           "0.0% Portfolio"
          ],
          [
           "0.0% Portfolio"
          ],
          [
           "0.0% Portfolio"
          ],
          [
           "0.0% Portfolio"
          ],
          [
           "0.0% Portfolio"
          ],
          [
           "0.0% Portfolio"
          ],
          [
           "5.3% ann. growth in 10.0yrs<br>valuation = 9.0%<br>weight = 0.5; valuation = 1.68 yrs<br>97.6% Portfolio"
          ],
          [
           "0.0% Portfolio"
          ],
          [
           "0.0% Portfolio"
          ],
          [
           "0.0% Portfolio"
          ],
          [
           "0.0% Portfolio"
          ],
          [
           "0.0% Portfolio"
          ],
          [
           "0.0% Portfolio"
          ],
          [
           "0.0% Portfolio"
          ],
          [
           "0.0% Portfolio"
          ],
          [
           "0.0% Portfolio"
          ],
          [
           "0.0% Portfolio"
          ],
          [
           "0.0% Portfolio"
          ],
          [
           "0.0% Portfolio"
          ],
          [
           "0.0% Portfolio"
          ],
          [
           "0.0% Portfolio"
          ],
          [
           "0.0% Portfolio"
          ],
          [
           "0.0% Portfolio"
          ],
          [
           "0.0% Portfolio"
          ],
          [
           "0.0% Portfolio"
          ],
          [
           "0.0% Portfolio"
          ],
          [
           "0.0% Portfolio"
          ],
          [
           "0.0% Portfolio"
          ],
          [
           "0.0% Portfolio"
          ],
          [
           "0.0% Portfolio"
          ],
          [
           "0.0% Portfolio"
          ],
          [
           "0.0% Portfolio"
          ],
          [
           "0.0% Portfolio"
          ],
          [
           "0.0% Portfolio"
          ],
          [
           "0.0% Portfolio"
          ],
          [
           "0.0% Portfolio"
          ],
          [
           "0.0% Portfolio"
          ],
          [
           "0.0% Portfolio"
          ],
          [
           "0.0% Portfolio"
          ],
          [
           "0.0% Portfolio"
          ],
          [
           "0.0% Portfolio"
          ],
          [
           "0.0% Portfolio"
          ],
          [
           "0.0% Portfolio"
          ],
          [
           "0.0% Portfolio"
          ],
          [
           "0.0% Portfolio"
          ],
          [
           "0.0% Portfolio"
          ],
          [
           "0.0% Portfolio"
          ],
          [
           "0.0% Portfolio"
          ],
          [
           "0.0% Portfolio"
          ],
          [
           "0.0% Portfolio"
          ],
          [
           "0.0% Portfolio"
          ],
          [
           "0.0% Portfolio"
          ],
          [
           "0.0% Portfolio"
          ],
          [
           "0.0% Portfolio"
          ],
          [
           "0.0% Portfolio"
          ],
          [
           "0.0% Portfolio"
          ],
          [
           "0.0% Portfolio"
          ],
          [
           "0.0% Portfolio"
          ],
          [
           "0.0% Portfolio"
          ],
          [
           "0.0% Portfolio"
          ],
          [
           "0.0% Portfolio"
          ],
          [
           "0.0% Portfolio"
          ],
          [
           "0.0% Portfolio"
          ],
          [
           "0.0% Portfolio"
          ],
          [
           "0.0% Portfolio"
          ],
          [
           "0.0% Portfolio"
          ],
          [
           "0.0% Portfolio"
          ],
          [
           "0.0% Portfolio"
          ],
          [
           "0.0% Portfolio"
          ],
          [
           "5.9% ann. growth in 10.0yrs<br>valuation = 12.6%<br>weight = 0.5; valuation = 2.12 yrs<br>94.9% Portfolio"
          ],
          [
           "0.0% Portfolio"
          ],
          [
           "0.0% Portfolio"
          ],
          [
           "0.0% Portfolio"
          ],
          [
           "0.0% Portfolio"
          ],
          [
           "0.0% Portfolio"
          ],
          [
           "0.0% Portfolio"
          ],
          [
           "0.0% Portfolio"
          ],
          [
           "0.0% Portfolio"
          ],
          [
           "0.0% Portfolio"
          ],
          [
           "0.0% Portfolio"
          ],
          [
           "0.0% Portfolio"
          ],
          [
           "0.0% Portfolio"
          ],
          [
           "0.0% Portfolio"
          ],
          [
           "0.0% Portfolio"
          ],
          [
           "0.0% Portfolio"
          ],
          [
           "0.0% Portfolio"
          ],
          [
           "0.0% Portfolio"
          ],
          [
           "0.0% Portfolio"
          ],
          [
           "0.0% Portfolio"
          ],
          [
           "0.0% Portfolio"
          ],
          [
           "0.0% Portfolio"
          ],
          [
           "0.0% Portfolio"
          ],
          [
           "0.0% Portfolio"
          ],
          [
           "0.0% Portfolio"
          ],
          [
           "0.0% Portfolio"
          ],
          [
           "0.0% Portfolio"
          ],
          [
           "0.0% Portfolio"
          ],
          [
           "0.0% Portfolio"
          ],
          [
           "0.0% Portfolio"
          ],
          [
           "0.0% Portfolio"
          ],
          [
           "0.0% Portfolio"
          ],
          [
           "0.0% Portfolio"
          ],
          [
           "0.0% Portfolio"
          ],
          [
           "0.0% Portfolio"
          ],
          [
           "0.0% Portfolio"
          ],
          [
           "0.0% Portfolio"
          ],
          [
           "0.0% Portfolio"
          ],
          [
           "0.0% Portfolio"
          ],
          [
           "0.0% Portfolio"
          ],
          [
           "0.0% Portfolio"
          ],
          [
           "0.0% Portfolio"
          ],
          [
           "0.0% Portfolio"
          ],
          [
           "0.0% Portfolio"
          ],
          [
           "0.0% Portfolio"
          ],
          [
           "0.0% Portfolio"
          ],
          [
           "0.0% Portfolio"
          ],
          [
           "0.0% Portfolio"
          ],
          [
           "0.0% Portfolio"
          ],
          [
           "0.0% Portfolio"
          ],
          [
           "0.0% Portfolio"
          ],
          [
           "0.0% Portfolio"
          ],
          [
           "0.0% Portfolio"
          ],
          [
           "0.0% Portfolio"
          ],
          [
           "0.0% Portfolio"
          ],
          [
           "0.0% Portfolio"
          ],
          [
           "0.0% Portfolio"
          ],
          [
           "0.0% Portfolio"
          ],
          [
           "0.0% Portfolio"
          ],
          [
           "0.0% Portfolio"
          ],
          [
           "6.3% ann. growth in 10.0yrs<br>valuation = 10.0%<br>weight = 0.5; valuation = 1.6 yrs<br>90.9% Portfolio"
          ],
          [
           "0.0% Portfolio"
          ],
          [
           "0.0% Portfolio"
          ],
          [
           "0.0% Portfolio"
          ],
          [
           "0.0% Portfolio"
          ],
          [
           "0.0% Portfolio"
          ],
          [
           "0.0% Portfolio"
          ],
          [
           "0.0% Portfolio"
          ],
          [
           "0.0% Portfolio"
          ],
          [
           "0.0% Portfolio"
          ],
          [
           "0.0% Portfolio"
          ],
          [
           "0.0% Portfolio"
          ],
          [
           "0.0% Portfolio"
          ],
          [
           "0.0% Portfolio"
          ],
          [
           "0.0% Portfolio"
          ],
          [
           "0.0% Portfolio"
          ],
          [
           "0.0% Portfolio"
          ],
          [
           "0.0% Portfolio"
          ],
          [
           "0.0% Portfolio"
          ],
          [
           "0.0% Portfolio"
          ],
          [
           "0.0% Portfolio"
          ],
          [
           "0.0% Portfolio"
          ],
          [
           "0.0% Portfolio"
          ],
          [
           "0.0% Portfolio"
          ],
          [
           "0.0% Portfolio"
          ],
          [
           "0.0% Portfolio"
          ],
          [
           "0.0% Portfolio"
          ],
          [
           "0.0% Portfolio"
          ],
          [
           "0.0% Portfolio"
          ],
          [
           "0.0% Portfolio"
          ],
          [
           "0.0% Portfolio"
          ],
          [
           "0.0% Portfolio"
          ],
          [
           "0.0% Portfolio"
          ],
          [
           "0.0% Portfolio"
          ],
          [
           "0.0% Portfolio"
          ],
          [
           "0.0% Portfolio"
          ],
          [
           "0.0% Portfolio"
          ],
          [
           "0.0% Portfolio"
          ],
          [
           "0.0% Portfolio"
          ],
          [
           "0.0% Portfolio"
          ],
          [
           "0.0% Portfolio"
          ],
          [
           "0.0% Portfolio"
          ],
          [
           "0.0% Portfolio"
          ],
          [
           "0.0% Portfolio"
          ],
          [
           "0.0% Portfolio"
          ],
          [
           "0.0% Portfolio"
          ],
          [
           "0.0% Portfolio"
          ],
          [
           "0.0% Portfolio"
          ],
          [
           "0.0% Portfolio"
          ],
          [
           "0.0% Portfolio"
          ],
          [
           "0.0% Portfolio"
          ],
          [
           "0.0% Portfolio"
          ],
          [
           "0.0% Portfolio"
          ],
          [
           "0.0% Portfolio"
          ],
          [
           "0.0% Portfolio"
          ],
          [
           "0.0% Portfolio"
          ],
          [
           "0.0% Portfolio"
          ],
          [
           "0.0% Portfolio"
          ],
          [
           "0.0% Portfolio"
          ],
          [
           "0.0% Portfolio"
          ],
          [
           "0.0% Portfolio"
          ],
          [
           "0.0% Portfolio"
          ],
          [
           "0.0% Portfolio"
          ],
          [
           "0.0% Portfolio"
          ],
          [
           "6.7% ann. growth in 10.0yrs<br>valuation = 7.8%<br>weight = 0.5; valuation = 1.18 yrs<br>66.3% Portfolio"
          ],
          [
           "0.0% Portfolio"
          ],
          [
           "0.0% Portfolio"
          ],
          [
           "0.0% Portfolio"
          ],
          [
           "0.0% Portfolio"
          ],
          [
           "0.0% Portfolio"
          ],
          [
           "0.0% Portfolio"
          ],
          [
           "0.0% Portfolio"
          ],
          [
           "0.0% Portfolio"
          ],
          [
           "0.0% Portfolio"
          ],
          [
           "0.0% Portfolio"
          ],
          [
           "0.0% Portfolio"
          ],
          [
           "0.0% Portfolio"
          ],
          [
           "0.0% Portfolio"
          ],
          [
           "0.0% Portfolio"
          ],
          [
           "0.0% Portfolio"
          ],
          [
           "0.0% Portfolio"
          ],
          [
           "0.0% Portfolio"
          ],
          [
           "0.0% Portfolio"
          ],
          [
           "0.0% Portfolio"
          ],
          [
           "0.0% Portfolio"
          ],
          [
           "0.0% Portfolio"
          ],
          [
           "0.0% Portfolio"
          ],
          [
           "0.0% Portfolio"
          ],
          [
           "0.0% Portfolio"
          ],
          [
           "0.0% Portfolio"
          ],
          [
           "0.0% Portfolio"
          ],
          [
           "0.0% Portfolio"
          ],
          [
           "0.0% Portfolio"
          ],
          [
           "0.0% Portfolio"
          ],
          [
           "0.0% Portfolio"
          ],
          [
           "0.0% Portfolio"
          ],
          [
           "0.0% Portfolio"
          ],
          [
           "0.0% Portfolio"
          ],
          [
           "0.0% Portfolio"
          ],
          [
           "0.0% Portfolio"
          ],
          [
           "0.0% Portfolio"
          ],
          [
           "0.0% Portfolio"
          ],
          [
           "0.0% Portfolio"
          ],
          [
           "0.0% Portfolio"
          ],
          [
           "0.0% Portfolio"
          ],
          [
           "0.0% Portfolio"
          ],
          [
           "0.0% Portfolio"
          ],
          [
           "0.0% Portfolio"
          ],
          [
           "0.0% Portfolio"
          ],
          [
           "0.0% Portfolio"
          ],
          [
           "0.0% Portfolio"
          ],
          [
           "0.0% Portfolio"
          ],
          [
           "0.0% Portfolio"
          ],
          [
           "0.0% Portfolio"
          ],
          [
           "0.0% Portfolio"
          ],
          [
           "0.0% Portfolio"
          ],
          [
           "0.0% Portfolio"
          ],
          [
           "0.0% Portfolio"
          ],
          [
           "0.0% Portfolio"
          ],
          [
           "0.0% Portfolio"
          ],
          [
           "0.0% Portfolio"
          ],
          [
           "0.0% Portfolio"
          ],
          [
           "0.0% Portfolio"
          ],
          [
           "0.0% Portfolio"
          ],
          [
           "0.0% Portfolio"
          ],
          [
           "0.0% Portfolio"
          ],
          [
           "0.0% Portfolio"
          ],
          [
           "0.0% Portfolio"
          ],
          [
           "0.0% Portfolio"
          ],
          [
           "7.0% ann. growth in 10.0yrs<br>valuation = -0.1%<br>weight = 0.5; valuation = -0.01 yrs<br>50.3% Portfolio"
          ],
          [
           "0.0% Portfolio"
          ],
          [
           "0.0% Portfolio"
          ],
          [
           "0.0% Portfolio"
          ],
          [
           "0.0% Portfolio"
          ],
          [
           "0.0% Portfolio"
          ],
          [
           "0.0% Portfolio"
          ],
          [
           "0.0% Portfolio"
          ],
          [
           "0.0% Portfolio"
          ],
          [
           "0.0% Portfolio"
          ],
          [
           "0.0% Portfolio"
          ],
          [
           "0.0% Portfolio"
          ],
          [
           "0.0% Portfolio"
          ],
          [
           "0.0% Portfolio"
          ],
          [
           "0.0% Portfolio"
          ],
          [
           "0.0% Portfolio"
          ],
          [
           "0.0% Portfolio"
          ],
          [
           "0.0% Portfolio"
          ],
          [
           "0.0% Portfolio"
          ],
          [
           "0.0% Portfolio"
          ],
          [
           "0.0% Portfolio"
          ],
          [
           "0.0% Portfolio"
          ],
          [
           "0.0% Portfolio"
          ],
          [
           "0.0% Portfolio"
          ],
          [
           "0.0% Portfolio"
          ],
          [
           "0.0% Portfolio"
          ],
          [
           "0.0% Portfolio"
          ],
          [
           "0.0% Portfolio"
          ],
          [
           "0.0% Portfolio"
          ],
          [
           "0.0% Portfolio"
          ],
          [
           "0.0% Portfolio"
          ],
          [
           "0.0% Portfolio"
          ],
          [
           "0.0% Portfolio"
          ],
          [
           "0.0% Portfolio"
          ],
          [
           "0.0% Portfolio"
          ],
          [
           "0.0% Portfolio"
          ],
          [
           "0.0% Portfolio"
          ],
          [
           "0.0% Portfolio"
          ],
          [
           "0.0% Portfolio"
          ],
          [
           "0.0% Portfolio"
          ],
          [
           "0.0% Portfolio"
          ],
          [
           "0.0% Portfolio"
          ],
          [
           "0.0% Portfolio"
          ],
          [
           "0.0% Portfolio"
          ],
          [
           "0.0% Portfolio"
          ],
          [
           "0.0% Portfolio"
          ],
          [
           "0.0% Portfolio"
          ],
          [
           "0.0% Portfolio"
          ],
          [
           "0.0% Portfolio"
          ],
          [
           "0.0% Portfolio"
          ],
          [
           "0.0% Portfolio"
          ],
          [
           "0.0% Portfolio"
          ],
          [
           "0.0% Portfolio"
          ],
          [
           "0.0% Portfolio"
          ],
          [
           "0.0% Portfolio"
          ],
          [
           "0.0% Portfolio"
          ],
          [
           "0.0% Portfolio"
          ],
          [
           "0.0% Portfolio"
          ],
          [
           "0.0% Portfolio"
          ],
          [
           "0.0% Portfolio"
          ],
          [
           "0.0% Portfolio"
          ],
          [
           "0.0% Portfolio"
          ],
          [
           "0.0% Portfolio"
          ],
          [
           "6.8% ann. growth in 10.0yrs<br>valuation = -4.3%<br>weight = 0.5; valuation = -0.29 yrs<br>50.7% Portfolio"
          ],
          [
           "0.0% Portfolio"
          ],
          [
           "0.0% Portfolio"
          ],
          [
           "0.0% Portfolio"
          ],
          [
           "0.0% Portfolio"
          ],
          [
           "0.0% Portfolio"
          ],
          [
           "0.0% Portfolio"
          ],
          [
           "0.0% Portfolio"
          ],
          [
           "0.0% Portfolio"
          ],
          [
           "0.0% Portfolio"
          ],
          [
           "0.0% Portfolio"
          ],
          [
           "0.0% Portfolio"
          ],
          [
           "0.0% Portfolio"
          ],
          [
           "0.0% Portfolio"
          ],
          [
           "0.0% Portfolio"
          ],
          [
           "0.0% Portfolio"
          ],
          [
           "0.0% Portfolio"
          ],
          [
           "0.0% Portfolio"
          ],
          [
           "0.0% Portfolio"
          ],
          [
           "0.0% Portfolio"
          ],
          [
           "0.0% Portfolio"
          ],
          [
           "0.0% Portfolio"
          ],
          [
           "0.0% Portfolio"
          ],
          [
           "0.0% Portfolio"
          ],
          [
           "0.0% Portfolio"
          ],
          [
           "0.0% Portfolio"
          ],
          [
           "0.0% Portfolio"
          ],
          [
           "0.0% Portfolio"
          ],
          [
           "0.0% Portfolio"
          ],
          [
           "0.0% Portfolio"
          ],
          [
           "0.0% Portfolio"
          ],
          [
           "0.0% Portfolio"
          ],
          [
           "0.0% Portfolio"
          ],
          [
           "0.0% Portfolio"
          ],
          [
           "0.0% Portfolio"
          ],
          [
           "0.0% Portfolio"
          ],
          [
           "0.0% Portfolio"
          ],
          [
           "0.0% Portfolio"
          ],
          [
           "0.0% Portfolio"
          ],
          [
           "0.0% Portfolio"
          ],
          [
           "0.0% Portfolio"
          ],
          [
           "0.0% Portfolio"
          ],
          [
           "0.0% Portfolio"
          ],
          [
           "0.0% Portfolio"
          ],
          [
           "0.0% Portfolio"
          ],
          [
           "0.0% Portfolio"
          ],
          [
           "0.0% Portfolio"
          ],
          [
           "0.0% Portfolio"
          ],
          [
           "0.0% Portfolio"
          ],
          [
           "0.0% Portfolio"
          ],
          [
           "0.0% Portfolio"
          ],
          [
           "0.0% Portfolio"
          ],
          [
           "0.0% Portfolio"
          ],
          [
           "0.0% Portfolio"
          ],
          [
           "0.0% Portfolio"
          ],
          [
           "0.0% Portfolio"
          ],
          [
           "0.0% Portfolio"
          ],
          [
           "0.0% Portfolio"
          ],
          [
           "0.0% Portfolio"
          ],
          [
           "6.6% ann. growth in 10.0yrs<br>valuation = -4.2%<br>weight = 0.5; valuation = -0.28 yrs<br>52.6% Portfolio"
          ],
          [
           "0.0% Portfolio"
          ],
          [
           "0.0% Portfolio"
          ],
          [
           "0.0% Portfolio"
          ],
          [
           "0.0% Portfolio"
          ],
          [
           "0.0% Portfolio"
          ],
          [
           "0.0% Portfolio"
          ],
          [
           "0.0% Portfolio"
          ],
          [
           "0.0% Portfolio"
          ],
          [
           "0.0% Portfolio"
          ],
          [
           "0.0% Portfolio"
          ],
          [
           "0.0% Portfolio"
          ],
          [
           "0.0% Portfolio"
          ],
          [
           "0.0% Portfolio"
          ],
          [
           "0.0% Portfolio"
          ],
          [
           "0.0% Portfolio"
          ],
          [
           "0.0% Portfolio"
          ],
          [
           "0.0% Portfolio"
          ],
          [
           "0.0% Portfolio"
          ],
          [
           "0.0% Portfolio"
          ],
          [
           "0.0% Portfolio"
          ],
          [
           "0.0% Portfolio"
          ],
          [
           "0.0% Portfolio"
          ],
          [
           "0.0% Portfolio"
          ],
          [
           "0.0% Portfolio"
          ],
          [
           "0.0% Portfolio"
          ],
          [
           "0.0% Portfolio"
          ],
          [
           "0.0% Portfolio"
          ],
          [
           "0.0% Portfolio"
          ],
          [
           "0.0% Portfolio"
          ],
          [
           "0.0% Portfolio"
          ],
          [
           "0.0% Portfolio"
          ],
          [
           "0.0% Portfolio"
          ],
          [
           "0.0% Portfolio"
          ],
          [
           "0.0% Portfolio"
          ],
          [
           "0.0% Portfolio"
          ],
          [
           "0.0% Portfolio"
          ],
          [
           "0.0% Portfolio"
          ],
          [
           "0.0% Portfolio"
          ],
          [
           "0.0% Portfolio"
          ],
          [
           "0.0% Portfolio"
          ],
          [
           "0.0% Portfolio"
          ],
          [
           "0.0% Portfolio"
          ],
          [
           "0.0% Portfolio"
          ],
          [
           "0.0% Portfolio"
          ],
          [
           "0.0% Portfolio"
          ],
          [
           "0.0% Portfolio"
          ],
          [
           "0.0% Portfolio"
          ],
          [
           "0.0% Portfolio"
          ],
          [
           "0.0% Portfolio"
          ],
          [
           "0.0% Portfolio"
          ],
          [
           "0.0% Portfolio"
          ],
          [
           "0.0% Portfolio"
          ],
          [
           "0.0% Portfolio"
          ],
          [
           "0.0% Portfolio"
          ],
          [
           "0.0% Portfolio"
          ],
          [
           "0.0% Portfolio"
          ],
          [
           "0.0% Portfolio"
          ],
          [
           "0.0% Portfolio"
          ],
          [
           "0.0% Portfolio"
          ],
          [
           "0.0% Portfolio"
          ],
          [
           "0.0% Portfolio"
          ],
          [
           "0.0% Portfolio"
          ],
          [
           "0.0% Portfolio"
          ],
          [
           "6.3% ann. growth in 10.0yrs<br>valuation = -7.8%<br>weight = 0.5; valuation = -0.49 yrs<br>51.3% Portfolio"
          ],
          [
           "0.0% Portfolio"
          ],
          [
           "0.0% Portfolio"
          ],
          [
           "0.0% Portfolio"
          ],
          [
           "0.0% Portfolio"
          ],
          [
           "0.0% Portfolio"
          ],
          [
           "0.0% Portfolio"
          ],
          [
           "0.0% Portfolio"
          ],
          [
           "0.0% Portfolio"
          ],
          [
           "0.0% Portfolio"
          ],
          [
           "0.0% Portfolio"
          ],
          [
           "0.0% Portfolio"
          ],
          [
           "0.0% Portfolio"
          ],
          [
           "0.0% Portfolio"
          ],
          [
           "0.0% Portfolio"
          ],
          [
           "0.0% Portfolio"
          ],
          [
           "0.0% Portfolio"
          ],
          [
           "0.0% Portfolio"
          ],
          [
           "0.0% Portfolio"
          ],
          [
           "0.0% Portfolio"
          ],
          [
           "0.0% Portfolio"
          ],
          [
           "0.0% Portfolio"
          ],
          [
           "0.0% Portfolio"
          ],
          [
           "0.0% Portfolio"
          ],
          [
           "0.0% Portfolio"
          ],
          [
           "0.0% Portfolio"
          ],
          [
           "0.0% Portfolio"
          ],
          [
           "0.0% Portfolio"
          ],
          [
           "0.0% Portfolio"
          ],
          [
           "0.0% Portfolio"
          ],
          [
           "0.0% Portfolio"
          ],
          [
           "0.0% Portfolio"
          ],
          [
           "0.0% Portfolio"
          ],
          [
           "0.0% Portfolio"
          ],
          [
           "0.0% Portfolio"
          ],
          [
           "0.0% Portfolio"
          ],
          [
           "0.0% Portfolio"
          ],
          [
           "0.0% Portfolio"
          ],
          [
           "0.0% Portfolio"
          ],
          [
           "0.0% Portfolio"
          ],
          [
           "0.0% Portfolio"
          ],
          [
           "0.0% Portfolio"
          ],
          [
           "0.0% Portfolio"
          ],
          [
           "0.0% Portfolio"
          ],
          [
           "0.0% Portfolio"
          ],
          [
           "0.0% Portfolio"
          ],
          [
           "0.0% Portfolio"
          ],
          [
           "0.0% Portfolio"
          ],
          [
           "0.0% Portfolio"
          ],
          [
           "0.0% Portfolio"
          ],
          [
           "0.0% Portfolio"
          ],
          [
           "0.0% Portfolio"
          ],
          [
           "0.0% Portfolio"
          ],
          [
           "0.0% Portfolio"
          ],
          [
           "0.0% Portfolio"
          ],
          [
           "0.0% Portfolio"
          ],
          [
           "0.0% Portfolio"
          ],
          [
           "0.0% Portfolio"
          ],
          [
           "0.0% Portfolio"
          ],
          [
           "0.0% Portfolio"
          ],
          [
           "0.0% Portfolio"
          ],
          [
           "0.0% Portfolio"
          ],
          [
           "0.0% Portfolio"
          ],
          [
           "0.0% Portfolio"
          ],
          [
           "5.9% ann. growth in 10.0yrs<br>valuation = -7.2%<br>weight = 0.5; valuation = -0.43 yrs<br>50.0% Portfolio"
          ],
          [
           "0.0% Portfolio"
          ],
          [
           "0.0% Portfolio"
          ],
          [
           "0.0% Portfolio"
          ],
          [
           "0.0% Portfolio"
          ],
          [
           "0.0% Portfolio"
          ],
          [
           "0.0% Portfolio"
          ],
          [
           "0.0% Portfolio"
          ],
          [
           "0.0% Portfolio"
          ],
          [
           "0.0% Portfolio"
          ],
          [
           "0.0% Portfolio"
          ],
          [
           "0.0% Portfolio"
          ],
          [
           "0.0% Portfolio"
          ],
          [
           "0.0% Portfolio"
          ],
          [
           "0.0% Portfolio"
          ],
          [
           "0.0% Portfolio"
          ],
          [
           "0.0% Portfolio"
          ],
          [
           "0.0% Portfolio"
          ],
          [
           "0.0% Portfolio"
          ],
          [
           "0.0% Portfolio"
          ],
          [
           "0.0% Portfolio"
          ],
          [
           "0.0% Portfolio"
          ],
          [
           "0.0% Portfolio"
          ],
          [
           "0.0% Portfolio"
          ],
          [
           "0.0% Portfolio"
          ],
          [
           "0.0% Portfolio"
          ],
          [
           "0.0% Portfolio"
          ],
          [
           "0.0% Portfolio"
          ],
          [
           "0.0% Portfolio"
          ],
          [
           "0.0% Portfolio"
          ],
          [
           "0.0% Portfolio"
          ],
          [
           "0.0% Portfolio"
          ],
          [
           "0.0% Portfolio"
          ],
          [
           "0.0% Portfolio"
          ],
          [
           "0.0% Portfolio"
          ],
          [
           "0.0% Portfolio"
          ],
          [
           "0.0% Portfolio"
          ],
          [
           "0.0% Portfolio"
          ],
          [
           "0.0% Portfolio"
          ],
          [
           "0.0% Portfolio"
          ],
          [
           "0.0% Portfolio"
          ],
          [
           "0.0% Portfolio"
          ],
          [
           "0.0% Portfolio"
          ],
          [
           "0.0% Portfolio"
          ],
          [
           "0.0% Portfolio"
          ],
          [
           "0.0% Portfolio"
          ],
          [
           "0.0% Portfolio"
          ],
          [
           "0.0% Portfolio"
          ],
          [
           "0.0% Portfolio"
          ],
          [
           "0.0% Portfolio"
          ],
          [
           "0.0% Portfolio"
          ],
          [
           "0.0% Portfolio"
          ],
          [
           "0.0% Portfolio"
          ],
          [
           "0.0% Portfolio"
          ],
          [
           "0.0% Portfolio"
          ],
          [
           "0.0% Portfolio"
          ],
          [
           "0.0% Portfolio"
          ],
          [
           "0.0% Portfolio"
          ],
          [
           "0.0% Portfolio"
          ],
          [
           "0.0% Portfolio"
          ],
          [
           "0.0% Portfolio"
          ],
          [
           "0.0% Portfolio"
          ],
          [
           "0.0% Portfolio"
          ],
          [
           "5.9% ann. growth in 10.0yrs<br>valuation = 0.0%<br>weight = 0.5; valuation = 0.0 yrs<br>49.0% Portfolio"
          ],
          [
           "0.0% Portfolio"
          ],
          [
           "0.0% Portfolio"
          ],
          [
           "0.0% Portfolio"
          ],
          [
           "0.0% Portfolio"
          ],
          [
           "0.0% Portfolio"
          ],
          [
           "0.0% Portfolio"
          ],
          [
           "0.0% Portfolio"
          ],
          [
           "0.0% Portfolio"
          ],
          [
           "0.0% Portfolio"
          ],
          [
           "0.0% Portfolio"
          ],
          [
           "0.0% Portfolio"
          ],
          [
           "0.0% Portfolio"
          ],
          [
           "0.0% Portfolio"
          ],
          [
           "0.0% Portfolio"
          ],
          [
           "0.0% Portfolio"
          ],
          [
           "0.0% Portfolio"
          ],
          [
           "0.0% Portfolio"
          ],
          [
           "0.0% Portfolio"
          ],
          [
           "0.0% Portfolio"
          ],
          [
           "0.0% Portfolio"
          ],
          [
           "0.0% Portfolio"
          ],
          [
           "0.0% Portfolio"
          ],
          [
           "0.0% Portfolio"
          ],
          [
           "0.0% Portfolio"
          ],
          [
           "0.0% Portfolio"
          ],
          [
           "0.0% Portfolio"
          ],
          [
           "0.0% Portfolio"
          ],
          [
           "0.0% Portfolio"
          ],
          [
           "0.0% Portfolio"
          ],
          [
           "0.0% Portfolio"
          ],
          [
           "0.0% Portfolio"
          ],
          [
           "0.0% Portfolio"
          ],
          [
           "0.0% Portfolio"
          ],
          [
           "0.0% Portfolio"
          ],
          [
           "0.0% Portfolio"
          ],
          [
           "0.0% Portfolio"
          ],
          [
           "0.0% Portfolio"
          ],
          [
           "0.0% Portfolio"
          ],
          [
           "0.0% Portfolio"
          ],
          [
           "0.0% Portfolio"
          ],
          [
           "0.0% Portfolio"
          ],
          [
           "0.0% Portfolio"
          ],
          [
           "0.0% Portfolio"
          ],
          [
           "0.0% Portfolio"
          ],
          [
           "0.0% Portfolio"
          ],
          [
           "0.0% Portfolio"
          ],
          [
           "0.0% Portfolio"
          ],
          [
           "0.0% Portfolio"
          ],
          [
           "0.0% Portfolio"
          ],
          [
           "0.0% Portfolio"
          ],
          [
           "0.0% Portfolio"
          ],
          [
           "0.0% Portfolio"
          ],
          [
           "0.0% Portfolio"
          ],
          [
           "0.0% Portfolio"
          ],
          [
           "0.0% Portfolio"
          ],
          [
           "0.0% Portfolio"
          ],
          [
           "0.0% Portfolio"
          ],
          [
           "0.0% Portfolio"
          ],
          [
           "0.0% Portfolio"
          ],
          [
           "0.0% Portfolio"
          ],
          [
           "5.9% ann. growth in 10.0yrs<br>valuation = -8.8%<br>weight = 0.5; valuation = -0.52 yrs<br>54.3% Portfolio"
          ],
          [
           "0.0% Portfolio"
          ],
          [
           "0.0% Portfolio"
          ],
          [
           "0.0% Portfolio"
          ],
          [
           "0.0% Portfolio"
          ],
          [
           "0.0% Portfolio"
          ],
          [
           "0.0% Portfolio"
          ],
          [
           "0.0% Portfolio"
          ],
          [
           "0.0% Portfolio"
          ],
          [
           "0.0% Portfolio"
          ],
          [
           "0.0% Portfolio"
          ],
          [
           "0.0% Portfolio"
          ],
          [
           "0.0% Portfolio"
          ],
          [
           "0.0% Portfolio"
          ],
          [
           "0.0% Portfolio"
          ],
          [
           "0.0% Portfolio"
          ],
          [
           "0.0% Portfolio"
          ],
          [
           "0.0% Portfolio"
          ],
          [
           "0.0% Portfolio"
          ],
          [
           "0.0% Portfolio"
          ],
          [
           "0.0% Portfolio"
          ],
          [
           "0.0% Portfolio"
          ],
          [
           "0.0% Portfolio"
          ],
          [
           "0.0% Portfolio"
          ],
          [
           "0.0% Portfolio"
          ],
          [
           "0.0% Portfolio"
          ],
          [
           "0.0% Portfolio"
          ],
          [
           "0.0% Portfolio"
          ],
          [
           "0.0% Portfolio"
          ],
          [
           "0.0% Portfolio"
          ],
          [
           "0.0% Portfolio"
          ],
          [
           "0.0% Portfolio"
          ],
          [
           "0.0% Portfolio"
          ],
          [
           "0.0% Portfolio"
          ],
          [
           "0.0% Portfolio"
          ],
          [
           "0.0% Portfolio"
          ],
          [
           "0.0% Portfolio"
          ],
          [
           "0.0% Portfolio"
          ],
          [
           "0.0% Portfolio"
          ],
          [
           "0.0% Portfolio"
          ],
          [
           "0.0% Portfolio"
          ],
          [
           "0.0% Portfolio"
          ],
          [
           "0.0% Portfolio"
          ],
          [
           "0.0% Portfolio"
          ],
          [
           "0.0% Portfolio"
          ],
          [
           "0.0% Portfolio"
          ],
          [
           "0.0% Portfolio"
          ],
          [
           "0.0% Portfolio"
          ],
          [
           "0.0% Portfolio"
          ],
          [
           "0.0% Portfolio"
          ],
          [
           "0.0% Portfolio"
          ],
          [
           "0.0% Portfolio"
          ],
          [
           "0.0% Portfolio"
          ],
          [
           "0.0% Portfolio"
          ],
          [
           "0.0% Portfolio"
          ],
          [
           "0.0% Portfolio"
          ],
          [
           "0.0% Portfolio"
          ],
          [
           "0.0% Portfolio"
          ],
          [
           "0.0% Portfolio"
          ],
          [
           "0.0% Portfolio"
          ],
          [
           "0.0% Portfolio"
          ],
          [
           "0.0% Portfolio"
          ],
          [
           "0.0% Portfolio"
          ],
          [
           "5.9% ann. growth in 10.0yrs<br>valuation = -8.2%<br>weight = 0.5; valuation = -0.48 yrs<br>52.1% Portfolio"
          ],
          [
           "0.0% Portfolio"
          ],
          [
           "0.0% Portfolio"
          ],
          [
           "0.0% Portfolio"
          ],
          [
           "0.0% Portfolio"
          ],
          [
           "0.0% Portfolio"
          ],
          [
           "0.0% Portfolio"
          ],
          [
           "0.0% Portfolio"
          ],
          [
           "0.0% Portfolio"
          ],
          [
           "0.0% Portfolio"
          ],
          [
           "0.0% Portfolio"
          ],
          [
           "0.0% Portfolio"
          ],
          [
           "0.0% Portfolio"
          ],
          [
           "0.0% Portfolio"
          ],
          [
           "0.0% Portfolio"
          ],
          [
           "0.0% Portfolio"
          ],
          [
           "0.0% Portfolio"
          ],
          [
           "0.0% Portfolio"
          ],
          [
           "0.0% Portfolio"
          ],
          [
           "0.0% Portfolio"
          ],
          [
           "0.0% Portfolio"
          ],
          [
           "0.0% Portfolio"
          ],
          [
           "0.0% Portfolio"
          ],
          [
           "0.0% Portfolio"
          ],
          [
           "0.0% Portfolio"
          ],
          [
           "0.0% Portfolio"
          ],
          [
           "0.0% Portfolio"
          ],
          [
           "0.0% Portfolio"
          ],
          [
           "0.0% Portfolio"
          ],
          [
           "0.0% Portfolio"
          ],
          [
           "0.0% Portfolio"
          ],
          [
           "0.0% Portfolio"
          ],
          [
           "0.0% Portfolio"
          ],
          [
           "0.0% Portfolio"
          ],
          [
           "0.0% Portfolio"
          ],
          [
           "0.0% Portfolio"
          ],
          [
           "0.0% Portfolio"
          ],
          [
           "0.0% Portfolio"
          ],
          [
           "0.0% Portfolio"
          ],
          [
           "0.0% Portfolio"
          ],
          [
           "0.0% Portfolio"
          ],
          [
           "0.0% Portfolio"
          ],
          [
           "0.0% Portfolio"
          ],
          [
           "0.0% Portfolio"
          ],
          [
           "0.0% Portfolio"
          ],
          [
           "0.0% Portfolio"
          ],
          [
           "0.0% Portfolio"
          ],
          [
           "0.0% Portfolio"
          ],
          [
           "0.0% Portfolio"
          ],
          [
           "0.0% Portfolio"
          ],
          [
           "0.0% Portfolio"
          ],
          [
           "0.0% Portfolio"
          ],
          [
           "0.0% Portfolio"
          ],
          [
           "0.0% Portfolio"
          ],
          [
           "0.0% Portfolio"
          ],
          [
           "0.0% Portfolio"
          ],
          [
           "0.0% Portfolio"
          ],
          [
           "0.0% Portfolio"
          ],
          [
           "0.0% Portfolio"
          ],
          [
           "0.0% Portfolio"
          ],
          [
           "0.0% Portfolio"
          ],
          [
           "0.0% Portfolio"
          ],
          [
           "0.0% Portfolio"
          ],
          [
           "0.0% Portfolio"
          ],
          [
           "0.0% Portfolio"
          ],
          [
           "5.6% ann. growth in 10.0yrs<br>valuation = -1.2%<br>weight = 0.5; valuation = -0.07 yrs<br>84.5% Portfolio"
          ],
          [
           "0.0% Portfolio"
          ],
          [
           "0.0% Portfolio"
          ],
          [
           "0.0% Portfolio"
          ],
          [
           "0.0% Portfolio"
          ],
          [
           "0.0% Portfolio"
          ],
          [
           "0.0% Portfolio"
          ],
          [
           "0.0% Portfolio"
          ],
          [
           "0.0% Portfolio"
          ],
          [
           "0.0% Portfolio"
          ],
          [
           "0.0% Portfolio"
          ],
          [
           "0.0% Portfolio"
          ],
          [
           "0.0% Portfolio"
          ],
          [
           "0.0% Portfolio"
          ],
          [
           "0.0% Portfolio"
          ],
          [
           "0.0% Portfolio"
          ],
          [
           "0.0% Portfolio"
          ],
          [
           "0.0% Portfolio"
          ],
          [
           "0.0% Portfolio"
          ],
          [
           "0.0% Portfolio"
          ],
          [
           "0.0% Portfolio"
          ],
          [
           "0.0% Portfolio"
          ],
          [
           "0.0% Portfolio"
          ],
          [
           "0.0% Portfolio"
          ],
          [
           "0.0% Portfolio"
          ],
          [
           "0.0% Portfolio"
          ],
          [
           "0.0% Portfolio"
          ],
          [
           "0.0% Portfolio"
          ],
          [
           "0.0% Portfolio"
          ],
          [
           "0.0% Portfolio"
          ],
          [
           "0.0% Portfolio"
          ],
          [
           "0.0% Portfolio"
          ],
          [
           "0.0% Portfolio"
          ],
          [
           "0.0% Portfolio"
          ],
          [
           "0.0% Portfolio"
          ],
          [
           "0.0% Portfolio"
          ],
          [
           "0.0% Portfolio"
          ],
          [
           "0.0% Portfolio"
          ],
          [
           "0.0% Portfolio"
          ],
          [
           "0.0% Portfolio"
          ],
          [
           "0.0% Portfolio"
          ],
          [
           "0.0% Portfolio"
          ],
          [
           "0.0% Portfolio"
          ],
          [
           "0.0% Portfolio"
          ],
          [
           "0.0% Portfolio"
          ],
          [
           "0.0% Portfolio"
          ],
          [
           "0.0% Portfolio"
          ],
          [
           "0.0% Portfolio"
          ],
          [
           "0.0% Portfolio"
          ],
          [
           "0.0% Portfolio"
          ],
          [
           "0.0% Portfolio"
          ],
          [
           "0.0% Portfolio"
          ],
          [
           "0.0% Portfolio"
          ],
          [
           "0.0% Portfolio"
          ],
          [
           "0.0% Portfolio"
          ],
          [
           "0.0% Portfolio"
          ],
          [
           "0.0% Portfolio"
          ],
          [
           "0.0% Portfolio"
          ],
          [
           "0.0% Portfolio"
          ],
          [
           "0.0% Portfolio"
          ],
          [
           "0.0% Portfolio"
          ],
          [
           "0.0% Portfolio"
          ],
          [
           "0.0% Portfolio"
          ],
          [
           "5.6% ann. growth in 10.0yrs<br>valuation = 10.0%<br>weight = 0.5; valuation = 1.78 yrs<br>84.0% Portfolio"
          ],
          [
           "0.0% Portfolio"
          ],
          [
           "0.0% Portfolio"
          ],
          [
           "0.0% Portfolio"
          ],
          [
           "0.0% Portfolio"
          ],
          [
           "0.0% Portfolio"
          ],
          [
           "0.0% Portfolio"
          ],
          [
           "0.0% Portfolio"
          ],
          [
           "0.0% Portfolio"
          ],
          [
           "0.0% Portfolio"
          ],
          [
           "0.0% Portfolio"
          ],
          [
           "0.0% Portfolio"
          ],
          [
           "0.0% Portfolio"
          ],
          [
           "0.0% Portfolio"
          ],
          [
           "0.0% Portfolio"
          ],
          [
           "0.0% Portfolio"
          ],
          [
           "0.0% Portfolio"
          ],
          [
           "0.0% Portfolio"
          ],
          [
           "0.0% Portfolio"
          ],
          [
           "0.0% Portfolio"
          ],
          [
           "0.0% Portfolio"
          ],
          [
           "0.0% Portfolio"
          ],
          [
           "0.0% Portfolio"
          ],
          [
           "0.0% Portfolio"
          ],
          [
           "0.0% Portfolio"
          ],
          [
           "0.0% Portfolio"
          ],
          [
           "0.0% Portfolio"
          ],
          [
           "0.0% Portfolio"
          ],
          [
           "0.0% Portfolio"
          ],
          [
           "0.0% Portfolio"
          ],
          [
           "0.0% Portfolio"
          ],
          [
           "0.0% Portfolio"
          ],
          [
           "0.0% Portfolio"
          ],
          [
           "0.0% Portfolio"
          ],
          [
           "0.0% Portfolio"
          ],
          [
           "0.0% Portfolio"
          ],
          [
           "0.0% Portfolio"
          ],
          [
           "0.0% Portfolio"
          ],
          [
           "0.0% Portfolio"
          ],
          [
           "0.0% Portfolio"
          ],
          [
           "0.0% Portfolio"
          ],
          [
           "0.0% Portfolio"
          ],
          [
           "0.0% Portfolio"
          ],
          [
           "0.0% Portfolio"
          ],
          [
           "0.0% Portfolio"
          ],
          [
           "0.0% Portfolio"
          ],
          [
           "0.0% Portfolio"
          ],
          [
           "0.0% Portfolio"
          ],
          [
           "0.0% Portfolio"
          ],
          [
           "0.0% Portfolio"
          ],
          [
           "0.0% Portfolio"
          ],
          [
           "0.0% Portfolio"
          ],
          [
           "0.0% Portfolio"
          ],
          [
           "0.0% Portfolio"
          ],
          [
           "0.0% Portfolio"
          ],
          [
           "0.0% Portfolio"
          ],
          [
           "0.0% Portfolio"
          ],
          [
           "0.0% Portfolio"
          ],
          [
           "0.0% Portfolio"
          ],
          [
           "0.0% Portfolio"
          ],
          [
           "6.0% ann. growth in 10.0yrs<br>valuation = 15.7%<br>weight = 0.5; valuation = 2.61 yrs<br>94.9% Portfolio"
          ],
          [
           "0.0% Portfolio"
          ],
          [
           "0.0% Portfolio"
          ],
          [
           "0.0% Portfolio"
          ],
          [
           "0.0% Portfolio"
          ],
          [
           "0.0% Portfolio"
          ],
          [
           "0.0% Portfolio"
          ],
          [
           "0.0% Portfolio"
          ],
          [
           "0.0% Portfolio"
          ],
          [
           "0.0% Portfolio"
          ],
          [
           "0.0% Portfolio"
          ],
          [
           "0.0% Portfolio"
          ],
          [
           "0.0% Portfolio"
          ],
          [
           "0.0% Portfolio"
          ],
          [
           "0.0% Portfolio"
          ],
          [
           "0.0% Portfolio"
          ],
          [
           "0.0% Portfolio"
          ],
          [
           "0.0% Portfolio"
          ],
          [
           "0.0% Portfolio"
          ],
          [
           "0.0% Portfolio"
          ],
          [
           "0.0% Portfolio"
          ],
          [
           "0.0% Portfolio"
          ],
          [
           "0.0% Portfolio"
          ],
          [
           "0.0% Portfolio"
          ],
          [
           "0.0% Portfolio"
          ],
          [
           "0.0% Portfolio"
          ],
          [
           "0.0% Portfolio"
          ],
          [
           "0.0% Portfolio"
          ],
          [
           "0.0% Portfolio"
          ],
          [
           "0.0% Portfolio"
          ],
          [
           "0.0% Portfolio"
          ],
          [
           "0.0% Portfolio"
          ],
          [
           "0.0% Portfolio"
          ],
          [
           "0.0% Portfolio"
          ],
          [
           "0.0% Portfolio"
          ],
          [
           "0.0% Portfolio"
          ],
          [
           "0.0% Portfolio"
          ],
          [
           "0.0% Portfolio"
          ],
          [
           "0.0% Portfolio"
          ],
          [
           "0.0% Portfolio"
          ],
          [
           "0.0% Portfolio"
          ],
          [
           "0.0% Portfolio"
          ],
          [
           "0.0% Portfolio"
          ],
          [
           "0.0% Portfolio"
          ],
          [
           "0.0% Portfolio"
          ],
          [
           "0.0% Portfolio"
          ],
          [
           "0.0% Portfolio"
          ],
          [
           "0.0% Portfolio"
          ],
          [
           "0.0% Portfolio"
          ],
          [
           "0.0% Portfolio"
          ],
          [
           "0.0% Portfolio"
          ],
          [
           "0.0% Portfolio"
          ],
          [
           "0.0% Portfolio"
          ],
          [
           "0.0% Portfolio"
          ],
          [
           "0.0% Portfolio"
          ],
          [
           "0.0% Portfolio"
          ],
          [
           "0.0% Portfolio"
          ],
          [
           "0.0% Portfolio"
          ],
          [
           "0.0% Portfolio"
          ],
          [
           "0.0% Portfolio"
          ],
          [
           "0.0% Portfolio"
          ],
          [
           "0.0% Portfolio"
          ],
          [
           "0.0% Portfolio"
          ],
          [
           "0.0% Portfolio"
          ],
          [
           "6.4% ann. growth in 10.0yrs<br>valuation = 13.1%<br>weight = 0.5; valuation = 2.06 yrs<br>91.4% Portfolio"
          ],
          [
           "0.0% Portfolio"
          ],
          [
           "0.0% Portfolio"
          ],
          [
           "0.0% Portfolio"
          ],
          [
           "0.0% Portfolio"
          ],
          [
           "0.0% Portfolio"
          ],
          [
           "0.0% Portfolio"
          ],
          [
           "0.0% Portfolio"
          ],
          [
           "0.0% Portfolio"
          ],
          [
           "0.0% Portfolio"
          ],
          [
           "0.0% Portfolio"
          ],
          [
           "0.0% Portfolio"
          ],
          [
           "0.0% Portfolio"
          ],
          [
           "0.0% Portfolio"
          ],
          [
           "0.0% Portfolio"
          ],
          [
           "0.0% Portfolio"
          ],
          [
           "0.0% Portfolio"
          ],
          [
           "0.0% Portfolio"
          ],
          [
           "0.0% Portfolio"
          ],
          [
           "0.0% Portfolio"
          ],
          [
           "0.0% Portfolio"
          ],
          [
           "0.0% Portfolio"
          ],
          [
           "0.0% Portfolio"
          ],
          [
           "0.0% Portfolio"
          ],
          [
           "0.0% Portfolio"
          ],
          [
           "0.0% Portfolio"
          ],
          [
           "0.0% Portfolio"
          ],
          [
           "0.0% Portfolio"
          ],
          [
           "0.0% Portfolio"
          ],
          [
           "0.0% Portfolio"
          ],
          [
           "0.0% Portfolio"
          ],
          [
           "0.0% Portfolio"
          ],
          [
           "0.0% Portfolio"
          ],
          [
           "0.0% Portfolio"
          ],
          [
           "0.0% Portfolio"
          ],
          [
           "0.0% Portfolio"
          ],
          [
           "0.0% Portfolio"
          ],
          [
           "0.0% Portfolio"
          ],
          [
           "0.0% Portfolio"
          ],
          [
           "0.0% Portfolio"
          ],
          [
           "0.0% Portfolio"
          ],
          [
           "0.0% Portfolio"
          ],
          [
           "0.0% Portfolio"
          ],
          [
           "0.0% Portfolio"
          ],
          [
           "0.0% Portfolio"
          ],
          [
           "0.0% Portfolio"
          ],
          [
           "0.0% Portfolio"
          ],
          [
           "0.0% Portfolio"
          ],
          [
           "0.0% Portfolio"
          ],
          [
           "0.0% Portfolio"
          ],
          [
           "0.0% Portfolio"
          ],
          [
           "0.0% Portfolio"
          ],
          [
           "0.0% Portfolio"
          ],
          [
           "0.0% Portfolio"
          ],
          [
           "0.0% Portfolio"
          ],
          [
           "0.0% Portfolio"
          ],
          [
           "0.0% Portfolio"
          ],
          [
           "0.0% Portfolio"
          ],
          [
           "0.0% Portfolio"
          ],
          [
           "0.0% Portfolio"
          ],
          [
           "0.0% Portfolio"
          ],
          [
           "0.0% Portfolio"
          ],
          [
           "0.0% Portfolio"
          ],
          [
           "0.0% Portfolio"
          ],
          [
           "0.0% Portfolio"
          ],
          [
           "6.8% ann. growth in 10.0yrs<br>valuation = 9.1%<br>weight = 0.5; valuation = 1.34 yrs<br>73.4% Portfolio"
          ],
          [
           "0.0% Portfolio"
          ],
          [
           "0.0% Portfolio"
          ],
          [
           "0.0% Portfolio"
          ],
          [
           "0.0% Portfolio"
          ],
          [
           "0.0% Portfolio"
          ],
          [
           "0.0% Portfolio"
          ],
          [
           "0.0% Portfolio"
          ],
          [
           "0.0% Portfolio"
          ],
          [
           "0.0% Portfolio"
          ],
          [
           "0.0% Portfolio"
          ],
          [
           "0.0% Portfolio"
          ],
          [
           "0.0% Portfolio"
          ],
          [
           "0.0% Portfolio"
          ],
          [
           "0.0% Portfolio"
          ],
          [
           "0.0% Portfolio"
          ],
          [
           "0.0% Portfolio"
          ],
          [
           "0.0% Portfolio"
          ],
          [
           "0.0% Portfolio"
          ],
          [
           "0.0% Portfolio"
          ],
          [
           "0.0% Portfolio"
          ],
          [
           "0.0% Portfolio"
          ],
          [
           "0.0% Portfolio"
          ],
          [
           "0.0% Portfolio"
          ],
          [
           "0.0% Portfolio"
          ],
          [
           "0.0% Portfolio"
          ],
          [
           "0.0% Portfolio"
          ],
          [
           "0.0% Portfolio"
          ],
          [
           "0.0% Portfolio"
          ],
          [
           "0.0% Portfolio"
          ],
          [
           "0.0% Portfolio"
          ],
          [
           "0.0% Portfolio"
          ],
          [
           "0.0% Portfolio"
          ],
          [
           "0.0% Portfolio"
          ],
          [
           "0.0% Portfolio"
          ],
          [
           "0.0% Portfolio"
          ],
          [
           "0.0% Portfolio"
          ],
          [
           "0.0% Portfolio"
          ],
          [
           "0.0% Portfolio"
          ],
          [
           "0.0% Portfolio"
          ],
          [
           "0.0% Portfolio"
          ],
          [
           "0.0% Portfolio"
          ],
          [
           "0.0% Portfolio"
          ],
          [
           "0.0% Portfolio"
          ],
          [
           "0.0% Portfolio"
          ],
          [
           "0.0% Portfolio"
          ],
          [
           "0.0% Portfolio"
          ],
          [
           "0.0% Portfolio"
          ],
          [
           "0.0% Portfolio"
          ],
          [
           "0.0% Portfolio"
          ],
          [
           "0.0% Portfolio"
          ],
          [
           "0.0% Portfolio"
          ],
          [
           "0.0% Portfolio"
          ],
          [
           "0.0% Portfolio"
          ],
          [
           "0.0% Portfolio"
          ],
          [
           "0.0% Portfolio"
          ],
          [
           "0.0% Portfolio"
          ],
          [
           "0.0% Portfolio"
          ],
          [
           "0.0% Portfolio"
          ],
          [
           "0.0% Portfolio"
          ],
          [
           "0.0% Portfolio"
          ],
          [
           "0.0% Portfolio"
          ],
          [
           "0.0% Portfolio"
          ],
          [
           "6.8% ann. growth in 10.0yrs<br>valuation = -1.0%<br>weight = 0.5; valuation = -0.07 yrs<br>61.3% Portfolio"
          ],
          [
           "0.0% Portfolio"
          ],
          [
           "0.0% Portfolio"
          ],
          [
           "0.0% Portfolio"
          ],
          [
           "0.0% Portfolio"
          ],
          [
           "0.0% Portfolio"
          ],
          [
           "0.0% Portfolio"
          ],
          [
           "0.0% Portfolio"
          ],
          [
           "0.0% Portfolio"
          ],
          [
           "0.0% Portfolio"
          ],
          [
           "0.0% Portfolio"
          ],
          [
           "0.0% Portfolio"
          ],
          [
           "0.0% Portfolio"
          ],
          [
           "0.0% Portfolio"
          ],
          [
           "0.0% Portfolio"
          ],
          [
           "0.0% Portfolio"
          ],
          [
           "0.0% Portfolio"
          ],
          [
           "0.0% Portfolio"
          ],
          [
           "0.0% Portfolio"
          ],
          [
           "0.0% Portfolio"
          ],
          [
           "0.0% Portfolio"
          ],
          [
           "0.0% Portfolio"
          ],
          [
           "0.0% Portfolio"
          ],
          [
           "0.0% Portfolio"
          ],
          [
           "0.0% Portfolio"
          ],
          [
           "0.0% Portfolio"
          ],
          [
           "0.0% Portfolio"
          ],
          [
           "0.0% Portfolio"
          ],
          [
           "0.0% Portfolio"
          ],
          [
           "0.0% Portfolio"
          ],
          [
           "0.0% Portfolio"
          ],
          [
           "0.0% Portfolio"
          ],
          [
           "0.0% Portfolio"
          ],
          [
           "0.0% Portfolio"
          ],
          [
           "0.0% Portfolio"
          ],
          [
           "0.0% Portfolio"
          ],
          [
           "0.0% Portfolio"
          ],
          [
           "0.0% Portfolio"
          ],
          [
           "0.0% Portfolio"
          ],
          [
           "0.0% Portfolio"
          ],
          [
           "0.0% Portfolio"
          ],
          [
           "0.0% Portfolio"
          ],
          [
           "0.0% Portfolio"
          ],
          [
           "0.0% Portfolio"
          ],
          [
           "0.0% Portfolio"
          ],
          [
           "0.0% Portfolio"
          ],
          [
           "0.0% Portfolio"
          ],
          [
           "0.0% Portfolio"
          ],
          [
           "0.0% Portfolio"
          ],
          [
           "0.0% Portfolio"
          ],
          [
           "0.0% Portfolio"
          ],
          [
           "0.0% Portfolio"
          ],
          [
           "0.0% Portfolio"
          ],
          [
           "0.0% Portfolio"
          ],
          [
           "0.0% Portfolio"
          ],
          [
           "0.0% Portfolio"
          ],
          [
           "0.0% Portfolio"
          ],
          [
           "0.0% Portfolio"
          ],
          [
           "0.0% Portfolio"
          ],
          [
           "0.0% Portfolio"
          ],
          [
           "0.0% Portfolio"
          ]
         ],
         "hovertemplate": "%{y:.2f}<br>%{customdata}",
         "legendgroup": "VPL",
         "line": {
          "color": "#00cc96",
          "dash": "solid",
          "width": 0.75
         },
         "mode": "lines",
         "name": "VPL",
         "showlegend": true,
         "type": "scattergl",
         "x": [
          "2012-03-01T00:00:00",
          "2012-03-02T00:00:00",
          "2012-03-05T00:00:00",
          "2012-03-06T00:00:00",
          "2012-03-07T00:00:00",
          "2012-03-08T00:00:00",
          "2012-03-09T00:00:00",
          "2012-03-12T00:00:00",
          "2012-03-13T00:00:00",
          "2012-03-14T00:00:00",
          "2012-03-15T00:00:00",
          "2012-03-16T00:00:00",
          "2012-03-19T00:00:00",
          "2012-03-20T00:00:00",
          "2012-03-21T00:00:00",
          "2012-03-22T00:00:00",
          "2012-03-23T00:00:00",
          "2012-03-26T00:00:00",
          "2012-03-27T00:00:00",
          "2012-03-28T00:00:00",
          "2012-03-29T00:00:00",
          "2012-03-30T00:00:00",
          "2012-04-02T00:00:00",
          "2012-04-03T00:00:00",
          "2012-04-04T00:00:00",
          "2012-04-05T00:00:00",
          "2012-04-09T00:00:00",
          "2012-04-10T00:00:00",
          "2012-04-11T00:00:00",
          "2012-04-12T00:00:00",
          "2012-04-13T00:00:00",
          "2012-04-16T00:00:00",
          "2012-04-17T00:00:00",
          "2012-04-18T00:00:00",
          "2012-04-19T00:00:00",
          "2012-04-20T00:00:00",
          "2012-04-23T00:00:00",
          "2012-04-24T00:00:00",
          "2012-04-25T00:00:00",
          "2012-04-26T00:00:00",
          "2012-04-27T00:00:00",
          "2012-04-30T00:00:00",
          "2012-05-01T00:00:00",
          "2012-05-02T00:00:00",
          "2012-05-03T00:00:00",
          "2012-05-04T00:00:00",
          "2012-05-07T00:00:00",
          "2012-05-08T00:00:00",
          "2012-05-09T00:00:00",
          "2012-05-10T00:00:00",
          "2012-05-11T00:00:00",
          "2012-05-14T00:00:00",
          "2012-05-15T00:00:00",
          "2012-05-16T00:00:00",
          "2012-05-17T00:00:00",
          "2012-05-18T00:00:00",
          "2012-05-21T00:00:00",
          "2012-05-22T00:00:00",
          "2012-05-23T00:00:00",
          "2012-05-24T00:00:00",
          "2012-05-25T00:00:00",
          "2012-05-29T00:00:00",
          "2012-05-30T00:00:00",
          "2012-05-31T00:00:00",
          "2012-06-01T00:00:00",
          "2012-06-04T00:00:00",
          "2012-06-05T00:00:00",
          "2012-06-06T00:00:00",
          "2012-06-07T00:00:00",
          "2012-06-08T00:00:00",
          "2012-06-11T00:00:00",
          "2012-06-12T00:00:00",
          "2012-06-13T00:00:00",
          "2012-06-14T00:00:00",
          "2012-06-15T00:00:00",
          "2012-06-18T00:00:00",
          "2012-06-19T00:00:00",
          "2012-06-20T00:00:00",
          "2012-06-21T00:00:00",
          "2012-06-22T00:00:00",
          "2012-06-25T00:00:00",
          "2012-06-26T00:00:00",
          "2012-06-27T00:00:00",
          "2012-06-28T00:00:00",
          "2012-06-29T00:00:00",
          "2012-07-02T00:00:00",
          "2012-07-03T00:00:00",
          "2012-07-05T00:00:00",
          "2012-07-06T00:00:00",
          "2012-07-09T00:00:00",
          "2012-07-10T00:00:00",
          "2012-07-11T00:00:00",
          "2012-07-12T00:00:00",
          "2012-07-13T00:00:00",
          "2012-07-16T00:00:00",
          "2012-07-17T00:00:00",
          "2012-07-18T00:00:00",
          "2012-07-19T00:00:00",
          "2012-07-20T00:00:00",
          "2012-07-23T00:00:00",
          "2012-07-24T00:00:00",
          "2012-07-25T00:00:00",
          "2012-07-26T00:00:00",
          "2012-07-27T00:00:00",
          "2012-07-30T00:00:00",
          "2012-07-31T00:00:00",
          "2012-08-01T00:00:00",
          "2012-08-02T00:00:00",
          "2012-08-03T00:00:00",
          "2012-08-06T00:00:00",
          "2012-08-07T00:00:00",
          "2012-08-08T00:00:00",
          "2012-08-09T00:00:00",
          "2012-08-10T00:00:00",
          "2012-08-13T00:00:00",
          "2012-08-14T00:00:00",
          "2012-08-15T00:00:00",
          "2012-08-16T00:00:00",
          "2012-08-17T00:00:00",
          "2012-08-20T00:00:00",
          "2012-08-21T00:00:00",
          "2012-08-22T00:00:00",
          "2012-08-23T00:00:00",
          "2012-08-24T00:00:00",
          "2012-08-27T00:00:00",
          "2012-08-28T00:00:00",
          "2012-08-29T00:00:00",
          "2012-08-30T00:00:00",
          "2012-08-31T00:00:00",
          "2012-09-04T00:00:00",
          "2012-09-05T00:00:00",
          "2012-09-06T00:00:00",
          "2012-09-07T00:00:00",
          "2012-09-10T00:00:00",
          "2012-09-11T00:00:00",
          "2012-09-12T00:00:00",
          "2012-09-13T00:00:00",
          "2012-09-14T00:00:00",
          "2012-09-17T00:00:00",
          "2012-09-18T00:00:00",
          "2012-09-19T00:00:00",
          "2012-09-20T00:00:00",
          "2012-09-21T00:00:00",
          "2012-09-24T00:00:00",
          "2012-09-25T00:00:00",
          "2012-09-26T00:00:00",
          "2012-09-27T00:00:00",
          "2012-09-28T00:00:00",
          "2012-10-01T00:00:00",
          "2012-10-02T00:00:00",
          "2012-10-03T00:00:00",
          "2012-10-04T00:00:00",
          "2012-10-05T00:00:00",
          "2012-10-08T00:00:00",
          "2012-10-09T00:00:00",
          "2012-10-10T00:00:00",
          "2012-10-11T00:00:00",
          "2012-10-12T00:00:00",
          "2012-10-15T00:00:00",
          "2012-10-16T00:00:00",
          "2012-10-17T00:00:00",
          "2012-10-18T00:00:00",
          "2012-10-19T00:00:00",
          "2012-10-22T00:00:00",
          "2012-10-23T00:00:00",
          "2012-10-24T00:00:00",
          "2012-10-25T00:00:00",
          "2012-10-26T00:00:00",
          "2012-10-31T00:00:00",
          "2012-11-01T00:00:00",
          "2012-11-02T00:00:00",
          "2012-11-05T00:00:00",
          "2012-11-06T00:00:00",
          "2012-11-07T00:00:00",
          "2012-11-08T00:00:00",
          "2012-11-09T00:00:00",
          "2012-11-12T00:00:00",
          "2012-11-13T00:00:00",
          "2012-11-14T00:00:00",
          "2012-11-15T00:00:00",
          "2012-11-16T00:00:00",
          "2012-11-19T00:00:00",
          "2012-11-20T00:00:00",
          "2012-11-21T00:00:00",
          "2012-11-23T00:00:00",
          "2012-11-26T00:00:00",
          "2012-11-27T00:00:00",
          "2012-11-28T00:00:00",
          "2012-11-29T00:00:00",
          "2012-11-30T00:00:00",
          "2012-12-03T00:00:00",
          "2012-12-04T00:00:00",
          "2012-12-05T00:00:00",
          "2012-12-06T00:00:00",
          "2012-12-07T00:00:00",
          "2012-12-10T00:00:00",
          "2012-12-11T00:00:00",
          "2012-12-12T00:00:00",
          "2012-12-13T00:00:00",
          "2012-12-14T00:00:00",
          "2012-12-17T00:00:00",
          "2012-12-18T00:00:00",
          "2012-12-19T00:00:00",
          "2012-12-20T00:00:00",
          "2012-12-21T00:00:00",
          "2012-12-24T00:00:00",
          "2012-12-26T00:00:00",
          "2012-12-27T00:00:00",
          "2012-12-28T00:00:00",
          "2012-12-31T00:00:00",
          "2013-01-02T00:00:00",
          "2013-01-03T00:00:00",
          "2013-01-04T00:00:00",
          "2013-01-07T00:00:00",
          "2013-01-08T00:00:00",
          "2013-01-09T00:00:00",
          "2013-01-10T00:00:00",
          "2013-01-11T00:00:00",
          "2013-01-14T00:00:00",
          "2013-01-15T00:00:00",
          "2013-01-16T00:00:00",
          "2013-01-17T00:00:00",
          "2013-01-18T00:00:00",
          "2013-01-22T00:00:00",
          "2013-01-23T00:00:00",
          "2013-01-24T00:00:00",
          "2013-01-25T00:00:00",
          "2013-01-28T00:00:00",
          "2013-01-29T00:00:00",
          "2013-01-30T00:00:00",
          "2013-01-31T00:00:00",
          "2013-02-01T00:00:00",
          "2013-02-04T00:00:00",
          "2013-02-05T00:00:00",
          "2013-02-06T00:00:00",
          "2013-02-07T00:00:00",
          "2013-02-08T00:00:00",
          "2013-02-11T00:00:00",
          "2013-02-12T00:00:00",
          "2013-02-13T00:00:00",
          "2013-02-14T00:00:00",
          "2013-02-15T00:00:00",
          "2013-02-19T00:00:00",
          "2013-02-20T00:00:00",
          "2013-02-21T00:00:00",
          "2013-02-22T00:00:00",
          "2013-02-25T00:00:00",
          "2013-02-26T00:00:00",
          "2013-02-27T00:00:00",
          "2013-02-28T00:00:00",
          "2013-03-01T00:00:00",
          "2013-03-04T00:00:00",
          "2013-03-05T00:00:00",
          "2013-03-06T00:00:00",
          "2013-03-07T00:00:00",
          "2013-03-08T00:00:00",
          "2013-03-11T00:00:00",
          "2013-03-12T00:00:00",
          "2013-03-13T00:00:00",
          "2013-03-14T00:00:00",
          "2013-03-15T00:00:00",
          "2013-03-18T00:00:00",
          "2013-03-19T00:00:00",
          "2013-03-20T00:00:00",
          "2013-03-21T00:00:00",
          "2013-03-22T00:00:00",
          "2013-03-25T00:00:00",
          "2013-03-26T00:00:00",
          "2013-03-27T00:00:00",
          "2013-03-28T00:00:00",
          "2013-04-01T00:00:00",
          "2013-04-02T00:00:00",
          "2013-04-03T00:00:00",
          "2013-04-04T00:00:00",
          "2013-04-05T00:00:00",
          "2013-04-08T00:00:00",
          "2013-04-09T00:00:00",
          "2013-04-10T00:00:00",
          "2013-04-11T00:00:00",
          "2013-04-12T00:00:00",
          "2013-04-15T00:00:00",
          "2013-04-16T00:00:00",
          "2013-04-17T00:00:00",
          "2013-04-18T00:00:00",
          "2013-04-19T00:00:00",
          "2013-04-22T00:00:00",
          "2013-04-23T00:00:00",
          "2013-04-24T00:00:00",
          "2013-04-25T00:00:00",
          "2013-04-26T00:00:00",
          "2013-04-29T00:00:00",
          "2013-04-30T00:00:00",
          "2013-05-01T00:00:00",
          "2013-05-02T00:00:00",
          "2013-05-03T00:00:00",
          "2013-05-06T00:00:00",
          "2013-05-07T00:00:00",
          "2013-05-08T00:00:00",
          "2013-05-09T00:00:00",
          "2013-05-10T00:00:00",
          "2013-05-13T00:00:00",
          "2013-05-14T00:00:00",
          "2013-05-15T00:00:00",
          "2013-05-16T00:00:00",
          "2013-05-17T00:00:00",
          "2013-05-20T00:00:00",
          "2013-05-21T00:00:00",
          "2013-05-22T00:00:00",
          "2013-05-23T00:00:00",
          "2013-05-24T00:00:00",
          "2013-05-28T00:00:00",
          "2013-05-29T00:00:00",
          "2013-05-30T00:00:00",
          "2013-05-31T00:00:00",
          "2013-06-03T00:00:00",
          "2013-06-04T00:00:00",
          "2013-06-05T00:00:00",
          "2013-06-06T00:00:00",
          "2013-06-07T00:00:00",
          "2013-06-10T00:00:00",
          "2013-06-11T00:00:00",
          "2013-06-12T00:00:00",
          "2013-06-13T00:00:00",
          "2013-06-14T00:00:00",
          "2013-06-17T00:00:00",
          "2013-06-18T00:00:00",
          "2013-06-19T00:00:00",
          "2013-06-20T00:00:00",
          "2013-06-21T00:00:00",
          "2013-06-24T00:00:00",
          "2013-06-25T00:00:00",
          "2013-06-26T00:00:00",
          "2013-06-27T00:00:00",
          "2013-06-28T00:00:00",
          "2013-07-01T00:00:00",
          "2013-07-02T00:00:00",
          "2013-07-03T00:00:00",
          "2013-07-05T00:00:00",
          "2013-07-08T00:00:00",
          "2013-07-09T00:00:00",
          "2013-07-10T00:00:00",
          "2013-07-11T00:00:00",
          "2013-07-12T00:00:00",
          "2013-07-15T00:00:00",
          "2013-07-16T00:00:00",
          "2013-07-17T00:00:00",
          "2013-07-18T00:00:00",
          "2013-07-19T00:00:00",
          "2013-07-22T00:00:00",
          "2013-07-23T00:00:00",
          "2013-07-24T00:00:00",
          "2013-07-25T00:00:00",
          "2013-07-26T00:00:00",
          "2013-07-29T00:00:00",
          "2013-07-30T00:00:00",
          "2013-07-31T00:00:00",
          "2013-08-01T00:00:00",
          "2013-08-02T00:00:00",
          "2013-08-05T00:00:00",
          "2013-08-06T00:00:00",
          "2013-08-07T00:00:00",
          "2013-08-08T00:00:00",
          "2013-08-09T00:00:00",
          "2013-08-12T00:00:00",
          "2013-08-13T00:00:00",
          "2013-08-14T00:00:00",
          "2013-08-15T00:00:00",
          "2013-08-16T00:00:00",
          "2013-08-19T00:00:00",
          "2013-08-20T00:00:00",
          "2013-08-21T00:00:00",
          "2013-08-22T00:00:00",
          "2013-08-23T00:00:00",
          "2013-08-26T00:00:00",
          "2013-08-27T00:00:00",
          "2013-08-28T00:00:00",
          "2013-08-29T00:00:00",
          "2013-08-30T00:00:00",
          "2013-09-03T00:00:00",
          "2013-09-04T00:00:00",
          "2013-09-05T00:00:00",
          "2013-09-06T00:00:00",
          "2013-09-09T00:00:00",
          "2013-09-10T00:00:00",
          "2013-09-11T00:00:00",
          "2013-09-12T00:00:00",
          "2013-09-13T00:00:00",
          "2013-09-16T00:00:00",
          "2013-09-17T00:00:00",
          "2013-09-18T00:00:00",
          "2013-09-19T00:00:00",
          "2013-09-20T00:00:00",
          "2013-09-23T00:00:00",
          "2013-09-24T00:00:00",
          "2013-09-25T00:00:00",
          "2013-09-26T00:00:00",
          "2013-09-27T00:00:00",
          "2013-09-30T00:00:00",
          "2013-10-01T00:00:00",
          "2013-10-02T00:00:00",
          "2013-10-03T00:00:00",
          "2013-10-04T00:00:00",
          "2013-10-07T00:00:00",
          "2013-10-08T00:00:00",
          "2013-10-09T00:00:00",
          "2013-10-10T00:00:00",
          "2013-10-11T00:00:00",
          "2013-10-14T00:00:00",
          "2013-10-15T00:00:00",
          "2013-10-16T00:00:00",
          "2013-10-17T00:00:00",
          "2013-10-18T00:00:00",
          "2013-10-21T00:00:00",
          "2013-10-22T00:00:00",
          "2013-10-23T00:00:00",
          "2013-10-24T00:00:00",
          "2013-10-25T00:00:00",
          "2013-10-28T00:00:00",
          "2013-10-29T00:00:00",
          "2013-10-30T00:00:00",
          "2013-10-31T00:00:00",
          "2013-11-01T00:00:00",
          "2013-11-04T00:00:00",
          "2013-11-05T00:00:00",
          "2013-11-06T00:00:00",
          "2013-11-07T00:00:00",
          "2013-11-08T00:00:00",
          "2013-11-11T00:00:00",
          "2013-11-12T00:00:00",
          "2013-11-13T00:00:00",
          "2013-11-14T00:00:00",
          "2013-11-15T00:00:00",
          "2013-11-18T00:00:00",
          "2013-11-19T00:00:00",
          "2013-11-20T00:00:00",
          "2013-11-21T00:00:00",
          "2013-11-22T00:00:00",
          "2013-11-25T00:00:00",
          "2013-11-26T00:00:00",
          "2013-11-27T00:00:00",
          "2013-11-29T00:00:00",
          "2013-12-02T00:00:00",
          "2013-12-03T00:00:00",
          "2013-12-04T00:00:00",
          "2013-12-05T00:00:00",
          "2013-12-06T00:00:00",
          "2013-12-09T00:00:00",
          "2013-12-10T00:00:00",
          "2013-12-11T00:00:00",
          "2013-12-12T00:00:00",
          "2013-12-13T00:00:00",
          "2013-12-16T00:00:00",
          "2013-12-17T00:00:00",
          "2013-12-18T00:00:00",
          "2013-12-19T00:00:00",
          "2013-12-20T00:00:00",
          "2013-12-23T00:00:00",
          "2013-12-24T00:00:00",
          "2013-12-26T00:00:00",
          "2013-12-27T00:00:00",
          "2013-12-30T00:00:00",
          "2013-12-31T00:00:00",
          "2014-01-02T00:00:00",
          "2014-01-03T00:00:00",
          "2014-01-06T00:00:00",
          "2014-01-07T00:00:00",
          "2014-01-08T00:00:00",
          "2014-01-09T00:00:00",
          "2014-01-10T00:00:00",
          "2014-01-13T00:00:00",
          "2014-01-14T00:00:00",
          "2014-01-15T00:00:00",
          "2014-01-16T00:00:00",
          "2014-01-17T00:00:00",
          "2014-01-21T00:00:00",
          "2014-01-22T00:00:00",
          "2014-01-23T00:00:00",
          "2014-01-24T00:00:00",
          "2014-01-27T00:00:00",
          "2014-01-28T00:00:00",
          "2014-01-29T00:00:00",
          "2014-01-30T00:00:00",
          "2014-01-31T00:00:00",
          "2014-02-03T00:00:00",
          "2014-02-04T00:00:00",
          "2014-02-05T00:00:00",
          "2014-02-06T00:00:00",
          "2014-02-07T00:00:00",
          "2014-02-10T00:00:00",
          "2014-02-11T00:00:00",
          "2014-02-12T00:00:00",
          "2014-02-13T00:00:00",
          "2014-02-14T00:00:00",
          "2014-02-18T00:00:00",
          "2014-02-19T00:00:00",
          "2014-02-20T00:00:00",
          "2014-02-21T00:00:00",
          "2014-02-24T00:00:00",
          "2014-02-25T00:00:00",
          "2014-02-26T00:00:00",
          "2014-02-27T00:00:00",
          "2014-02-28T00:00:00",
          "2014-03-03T00:00:00",
          "2014-03-04T00:00:00",
          "2014-03-05T00:00:00",
          "2014-03-06T00:00:00",
          "2014-03-07T00:00:00",
          "2014-03-10T00:00:00",
          "2014-03-11T00:00:00",
          "2014-03-12T00:00:00",
          "2014-03-13T00:00:00",
          "2014-03-14T00:00:00",
          "2014-03-17T00:00:00",
          "2014-03-18T00:00:00",
          "2014-03-19T00:00:00",
          "2014-03-20T00:00:00",
          "2014-03-21T00:00:00",
          "2014-03-24T00:00:00",
          "2014-03-25T00:00:00",
          "2014-03-26T00:00:00",
          "2014-03-27T00:00:00",
          "2014-03-28T00:00:00",
          "2014-03-31T00:00:00",
          "2014-04-01T00:00:00",
          "2014-04-02T00:00:00",
          "2014-04-03T00:00:00",
          "2014-04-04T00:00:00",
          "2014-04-07T00:00:00",
          "2014-04-08T00:00:00",
          "2014-04-09T00:00:00",
          "2014-04-10T00:00:00",
          "2014-04-11T00:00:00",
          "2014-04-14T00:00:00",
          "2014-04-15T00:00:00",
          "2014-04-16T00:00:00",
          "2014-04-17T00:00:00",
          "2014-04-21T00:00:00",
          "2014-04-22T00:00:00",
          "2014-04-23T00:00:00",
          "2014-04-24T00:00:00",
          "2014-04-25T00:00:00",
          "2014-04-28T00:00:00",
          "2014-04-29T00:00:00",
          "2014-04-30T00:00:00",
          "2014-05-01T00:00:00",
          "2014-05-02T00:00:00",
          "2014-05-05T00:00:00",
          "2014-05-06T00:00:00",
          "2014-05-07T00:00:00",
          "2014-05-08T00:00:00",
          "2014-05-09T00:00:00",
          "2014-05-12T00:00:00",
          "2014-05-13T00:00:00",
          "2014-05-14T00:00:00",
          "2014-05-15T00:00:00",
          "2014-05-16T00:00:00",
          "2014-05-19T00:00:00",
          "2014-05-20T00:00:00",
          "2014-05-21T00:00:00",
          "2014-05-22T00:00:00",
          "2014-05-23T00:00:00",
          "2014-05-27T00:00:00",
          "2014-05-28T00:00:00",
          "2014-05-29T00:00:00",
          "2014-05-30T00:00:00",
          "2014-06-02T00:00:00",
          "2014-06-03T00:00:00",
          "2014-06-04T00:00:00",
          "2014-06-05T00:00:00",
          "2014-06-06T00:00:00",
          "2014-06-09T00:00:00",
          "2014-06-10T00:00:00",
          "2014-06-11T00:00:00",
          "2014-06-12T00:00:00",
          "2014-06-13T00:00:00",
          "2014-06-16T00:00:00",
          "2014-06-17T00:00:00",
          "2014-06-18T00:00:00",
          "2014-06-19T00:00:00",
          "2014-06-20T00:00:00",
          "2014-06-23T00:00:00",
          "2014-06-24T00:00:00",
          "2014-06-25T00:00:00",
          "2014-06-26T00:00:00",
          "2014-06-27T00:00:00",
          "2014-06-30T00:00:00",
          "2014-07-01T00:00:00",
          "2014-07-02T00:00:00",
          "2014-07-03T00:00:00",
          "2014-07-07T00:00:00",
          "2014-07-08T00:00:00",
          "2014-07-09T00:00:00",
          "2014-07-10T00:00:00",
          "2014-07-11T00:00:00",
          "2014-07-14T00:00:00",
          "2014-07-15T00:00:00",
          "2014-07-16T00:00:00",
          "2014-07-17T00:00:00",
          "2014-07-18T00:00:00",
          "2014-07-21T00:00:00",
          "2014-07-22T00:00:00",
          "2014-07-23T00:00:00",
          "2014-07-24T00:00:00",
          "2014-07-25T00:00:00",
          "2014-07-28T00:00:00",
          "2014-07-29T00:00:00",
          "2014-07-30T00:00:00",
          "2014-07-31T00:00:00",
          "2014-08-01T00:00:00",
          "2014-08-04T00:00:00",
          "2014-08-05T00:00:00",
          "2014-08-06T00:00:00",
          "2014-08-07T00:00:00",
          "2014-08-08T00:00:00",
          "2014-08-11T00:00:00",
          "2014-08-12T00:00:00",
          "2014-08-13T00:00:00",
          "2014-08-14T00:00:00",
          "2014-08-15T00:00:00",
          "2014-08-18T00:00:00",
          "2014-08-19T00:00:00",
          "2014-08-20T00:00:00",
          "2014-08-21T00:00:00",
          "2014-08-22T00:00:00",
          "2014-08-25T00:00:00",
          "2014-08-26T00:00:00",
          "2014-08-27T00:00:00",
          "2014-08-28T00:00:00",
          "2014-08-29T00:00:00",
          "2014-09-02T00:00:00",
          "2014-09-03T00:00:00",
          "2014-09-04T00:00:00",
          "2014-09-05T00:00:00",
          "2014-09-08T00:00:00",
          "2014-09-09T00:00:00",
          "2014-09-10T00:00:00",
          "2014-09-11T00:00:00",
          "2014-09-12T00:00:00",
          "2014-09-15T00:00:00",
          "2014-09-16T00:00:00",
          "2014-09-17T00:00:00",
          "2014-09-18T00:00:00",
          "2014-09-19T00:00:00",
          "2014-09-22T00:00:00",
          "2014-09-23T00:00:00",
          "2014-09-24T00:00:00",
          "2014-09-25T00:00:00",
          "2014-09-26T00:00:00",
          "2014-09-29T00:00:00",
          "2014-09-30T00:00:00",
          "2014-10-01T00:00:00",
          "2014-10-02T00:00:00",
          "2014-10-03T00:00:00",
          "2014-10-06T00:00:00",
          "2014-10-07T00:00:00",
          "2014-10-08T00:00:00",
          "2014-10-09T00:00:00",
          "2014-10-10T00:00:00",
          "2014-10-13T00:00:00",
          "2014-10-14T00:00:00",
          "2014-10-15T00:00:00",
          "2014-10-16T00:00:00",
          "2014-10-17T00:00:00",
          "2014-10-20T00:00:00",
          "2014-10-21T00:00:00",
          "2014-10-22T00:00:00",
          "2014-10-23T00:00:00",
          "2014-10-24T00:00:00",
          "2014-10-27T00:00:00",
          "2014-10-28T00:00:00",
          "2014-10-29T00:00:00",
          "2014-10-30T00:00:00",
          "2014-10-31T00:00:00",
          "2014-11-03T00:00:00",
          "2014-11-04T00:00:00",
          "2014-11-05T00:00:00",
          "2014-11-06T00:00:00",
          "2014-11-07T00:00:00",
          "2014-11-10T00:00:00",
          "2014-11-11T00:00:00",
          "2014-11-12T00:00:00",
          "2014-11-13T00:00:00",
          "2014-11-14T00:00:00",
          "2014-11-17T00:00:00",
          "2014-11-18T00:00:00",
          "2014-11-19T00:00:00",
          "2014-11-20T00:00:00",
          "2014-11-21T00:00:00",
          "2014-11-24T00:00:00",
          "2014-11-25T00:00:00",
          "2014-11-26T00:00:00",
          "2014-11-28T00:00:00",
          "2014-12-01T00:00:00",
          "2014-12-02T00:00:00",
          "2014-12-03T00:00:00",
          "2014-12-04T00:00:00",
          "2014-12-05T00:00:00",
          "2014-12-08T00:00:00",
          "2014-12-09T00:00:00",
          "2014-12-10T00:00:00",
          "2014-12-11T00:00:00",
          "2014-12-12T00:00:00",
          "2014-12-15T00:00:00",
          "2014-12-16T00:00:00",
          "2014-12-17T00:00:00",
          "2014-12-18T00:00:00",
          "2014-12-19T00:00:00",
          "2014-12-22T00:00:00",
          "2014-12-23T00:00:00",
          "2014-12-24T00:00:00",
          "2014-12-26T00:00:00",
          "2014-12-29T00:00:00",
          "2014-12-30T00:00:00",
          "2014-12-31T00:00:00",
          "2015-01-02T00:00:00",
          "2015-01-05T00:00:00",
          "2015-01-06T00:00:00",
          "2015-01-07T00:00:00",
          "2015-01-08T00:00:00",
          "2015-01-09T00:00:00",
          "2015-01-12T00:00:00",
          "2015-01-13T00:00:00",
          "2015-01-14T00:00:00",
          "2015-01-15T00:00:00",
          "2015-01-16T00:00:00",
          "2015-01-20T00:00:00",
          "2015-01-21T00:00:00",
          "2015-01-22T00:00:00",
          "2015-01-23T00:00:00",
          "2015-01-26T00:00:00",
          "2015-01-27T00:00:00",
          "2015-01-28T00:00:00",
          "2015-01-29T00:00:00",
          "2015-01-30T00:00:00",
          "2015-02-02T00:00:00",
          "2015-02-03T00:00:00",
          "2015-02-04T00:00:00",
          "2015-02-05T00:00:00",
          "2015-02-06T00:00:00",
          "2015-02-09T00:00:00",
          "2015-02-10T00:00:00",
          "2015-02-11T00:00:00",
          "2015-02-12T00:00:00",
          "2015-02-13T00:00:00",
          "2015-02-17T00:00:00",
          "2015-02-18T00:00:00",
          "2015-02-19T00:00:00",
          "2015-02-20T00:00:00",
          "2015-02-23T00:00:00",
          "2015-02-24T00:00:00",
          "2015-02-25T00:00:00",
          "2015-02-26T00:00:00",
          "2015-02-27T00:00:00",
          "2015-03-02T00:00:00",
          "2015-03-03T00:00:00",
          "2015-03-04T00:00:00",
          "2015-03-05T00:00:00",
          "2015-03-06T00:00:00",
          "2015-03-09T00:00:00",
          "2015-03-10T00:00:00",
          "2015-03-11T00:00:00",
          "2015-03-12T00:00:00",
          "2015-03-13T00:00:00",
          "2015-03-16T00:00:00",
          "2015-03-17T00:00:00",
          "2015-03-18T00:00:00",
          "2015-03-19T00:00:00",
          "2015-03-20T00:00:00",
          "2015-03-23T00:00:00",
          "2015-03-24T00:00:00",
          "2015-03-25T00:00:00",
          "2015-03-26T00:00:00",
          "2015-03-27T00:00:00",
          "2015-03-30T00:00:00",
          "2015-03-31T00:00:00",
          "2015-04-01T00:00:00",
          "2015-04-02T00:00:00",
          "2015-04-06T00:00:00",
          "2015-04-07T00:00:00",
          "2015-04-08T00:00:00",
          "2015-04-09T00:00:00",
          "2015-04-10T00:00:00",
          "2015-04-13T00:00:00",
          "2015-04-14T00:00:00",
          "2015-04-15T00:00:00",
          "2015-04-16T00:00:00",
          "2015-04-17T00:00:00",
          "2015-04-20T00:00:00",
          "2015-04-21T00:00:00",
          "2015-04-22T00:00:00",
          "2015-04-23T00:00:00",
          "2015-04-24T00:00:00",
          "2015-04-27T00:00:00",
          "2015-04-28T00:00:00",
          "2015-04-29T00:00:00",
          "2015-04-30T00:00:00",
          "2015-05-01T00:00:00",
          "2015-05-04T00:00:00",
          "2015-05-05T00:00:00",
          "2015-05-06T00:00:00",
          "2015-05-07T00:00:00",
          "2015-05-08T00:00:00",
          "2015-05-11T00:00:00",
          "2015-05-12T00:00:00",
          "2015-05-13T00:00:00",
          "2015-05-14T00:00:00",
          "2015-05-15T00:00:00",
          "2015-05-18T00:00:00",
          "2015-05-19T00:00:00",
          "2015-05-20T00:00:00",
          "2015-05-21T00:00:00",
          "2015-05-22T00:00:00",
          "2015-05-26T00:00:00",
          "2015-05-27T00:00:00",
          "2015-05-28T00:00:00",
          "2015-05-29T00:00:00",
          "2015-06-01T00:00:00",
          "2015-06-02T00:00:00",
          "2015-06-03T00:00:00",
          "2015-06-04T00:00:00",
          "2015-06-05T00:00:00",
          "2015-06-08T00:00:00",
          "2015-06-09T00:00:00",
          "2015-06-10T00:00:00",
          "2015-06-11T00:00:00",
          "2015-06-12T00:00:00",
          "2015-06-15T00:00:00",
          "2015-06-16T00:00:00",
          "2015-06-17T00:00:00",
          "2015-06-18T00:00:00",
          "2015-06-19T00:00:00",
          "2015-06-22T00:00:00",
          "2015-06-23T00:00:00",
          "2015-06-24T00:00:00",
          "2015-06-25T00:00:00",
          "2015-06-26T00:00:00",
          "2015-06-29T00:00:00",
          "2015-06-30T00:00:00",
          "2015-07-01T00:00:00",
          "2015-07-02T00:00:00",
          "2015-07-06T00:00:00",
          "2015-07-07T00:00:00",
          "2015-07-08T00:00:00",
          "2015-07-09T00:00:00",
          "2015-07-10T00:00:00",
          "2015-07-13T00:00:00",
          "2015-07-14T00:00:00",
          "2015-07-15T00:00:00",
          "2015-07-16T00:00:00",
          "2015-07-17T00:00:00",
          "2015-07-20T00:00:00",
          "2015-07-21T00:00:00",
          "2015-07-22T00:00:00",
          "2015-07-23T00:00:00",
          "2015-07-24T00:00:00",
          "2015-07-27T00:00:00",
          "2015-07-28T00:00:00",
          "2015-07-29T00:00:00",
          "2015-07-30T00:00:00",
          "2015-07-31T00:00:00",
          "2015-08-03T00:00:00",
          "2015-08-04T00:00:00",
          "2015-08-05T00:00:00",
          "2015-08-06T00:00:00",
          "2015-08-07T00:00:00",
          "2015-08-10T00:00:00",
          "2015-08-11T00:00:00",
          "2015-08-12T00:00:00",
          "2015-08-13T00:00:00",
          "2015-08-14T00:00:00",
          "2015-08-17T00:00:00",
          "2015-08-18T00:00:00",
          "2015-08-19T00:00:00",
          "2015-08-20T00:00:00",
          "2015-08-21T00:00:00",
          "2015-08-24T00:00:00",
          "2015-08-25T00:00:00",
          "2015-08-26T00:00:00",
          "2015-08-27T00:00:00",
          "2015-08-28T00:00:00",
          "2015-08-31T00:00:00",
          "2015-09-01T00:00:00",
          "2015-09-02T00:00:00",
          "2015-09-03T00:00:00",
          "2015-09-04T00:00:00",
          "2015-09-08T00:00:00",
          "2015-09-09T00:00:00",
          "2015-09-10T00:00:00",
          "2015-09-11T00:00:00",
          "2015-09-14T00:00:00",
          "2015-09-15T00:00:00",
          "2015-09-16T00:00:00",
          "2015-09-17T00:00:00",
          "2015-09-18T00:00:00",
          "2015-09-21T00:00:00",
          "2015-09-22T00:00:00",
          "2015-09-23T00:00:00",
          "2015-09-24T00:00:00",
          "2015-09-25T00:00:00",
          "2015-09-28T00:00:00",
          "2015-09-29T00:00:00",
          "2015-09-30T00:00:00",
          "2015-10-01T00:00:00",
          "2015-10-02T00:00:00",
          "2015-10-05T00:00:00",
          "2015-10-06T00:00:00",
          "2015-10-07T00:00:00",
          "2015-10-08T00:00:00",
          "2015-10-09T00:00:00",
          "2015-10-12T00:00:00",
          "2015-10-13T00:00:00",
          "2015-10-14T00:00:00",
          "2015-10-15T00:00:00",
          "2015-10-16T00:00:00",
          "2015-10-19T00:00:00",
          "2015-10-20T00:00:00",
          "2015-10-21T00:00:00",
          "2015-10-22T00:00:00",
          "2015-10-23T00:00:00",
          "2015-10-26T00:00:00",
          "2015-10-27T00:00:00",
          "2015-10-28T00:00:00",
          "2015-10-29T00:00:00",
          "2015-10-30T00:00:00",
          "2015-11-02T00:00:00",
          "2015-11-03T00:00:00",
          "2015-11-04T00:00:00",
          "2015-11-05T00:00:00",
          "2015-11-06T00:00:00",
          "2015-11-09T00:00:00",
          "2015-11-10T00:00:00",
          "2015-11-11T00:00:00",
          "2015-11-12T00:00:00",
          "2015-11-13T00:00:00",
          "2015-11-16T00:00:00",
          "2015-11-17T00:00:00",
          "2015-11-18T00:00:00",
          "2015-11-19T00:00:00",
          "2015-11-20T00:00:00",
          "2015-11-23T00:00:00",
          "2015-11-24T00:00:00",
          "2015-11-25T00:00:00",
          "2015-11-27T00:00:00",
          "2015-11-30T00:00:00",
          "2015-12-01T00:00:00",
          "2015-12-02T00:00:00",
          "2015-12-03T00:00:00",
          "2015-12-04T00:00:00",
          "2015-12-07T00:00:00",
          "2015-12-08T00:00:00",
          "2015-12-09T00:00:00",
          "2015-12-10T00:00:00",
          "2015-12-11T00:00:00",
          "2015-12-14T00:00:00",
          "2015-12-15T00:00:00",
          "2015-12-16T00:00:00",
          "2015-12-17T00:00:00",
          "2015-12-18T00:00:00",
          "2015-12-21T00:00:00",
          "2015-12-22T00:00:00",
          "2015-12-23T00:00:00",
          "2015-12-24T00:00:00",
          "2015-12-28T00:00:00",
          "2015-12-29T00:00:00",
          "2015-12-30T00:00:00",
          "2015-12-31T00:00:00",
          "2016-01-04T00:00:00",
          "2016-01-05T00:00:00",
          "2016-01-06T00:00:00",
          "2016-01-07T00:00:00",
          "2016-01-08T00:00:00",
          "2016-01-11T00:00:00",
          "2016-01-12T00:00:00",
          "2016-01-13T00:00:00",
          "2016-01-14T00:00:00",
          "2016-01-15T00:00:00",
          "2016-01-19T00:00:00",
          "2016-01-20T00:00:00",
          "2016-01-21T00:00:00",
          "2016-01-22T00:00:00",
          "2016-01-25T00:00:00",
          "2016-01-26T00:00:00",
          "2016-01-27T00:00:00",
          "2016-01-28T00:00:00",
          "2016-01-29T00:00:00",
          "2016-02-01T00:00:00",
          "2016-02-02T00:00:00",
          "2016-02-03T00:00:00",
          "2016-02-04T00:00:00",
          "2016-02-05T00:00:00",
          "2016-02-08T00:00:00",
          "2016-02-09T00:00:00",
          "2016-02-10T00:00:00",
          "2016-02-11T00:00:00",
          "2016-02-12T00:00:00",
          "2016-02-16T00:00:00",
          "2016-02-17T00:00:00",
          "2016-02-18T00:00:00",
          "2016-02-19T00:00:00",
          "2016-02-22T00:00:00",
          "2016-02-23T00:00:00",
          "2016-02-24T00:00:00",
          "2016-02-25T00:00:00",
          "2016-02-26T00:00:00",
          "2016-02-29T00:00:00",
          "2016-03-01T00:00:00",
          "2016-03-02T00:00:00",
          "2016-03-03T00:00:00",
          "2016-03-04T00:00:00",
          "2016-03-07T00:00:00",
          "2016-03-08T00:00:00",
          "2016-03-09T00:00:00",
          "2016-03-10T00:00:00",
          "2016-03-11T00:00:00",
          "2016-03-14T00:00:00",
          "2016-03-15T00:00:00",
          "2016-03-16T00:00:00",
          "2016-03-17T00:00:00",
          "2016-03-18T00:00:00",
          "2016-03-21T00:00:00",
          "2016-03-22T00:00:00",
          "2016-03-23T00:00:00",
          "2016-03-24T00:00:00",
          "2016-03-28T00:00:00",
          "2016-03-29T00:00:00",
          "2016-03-30T00:00:00",
          "2016-03-31T00:00:00",
          "2016-04-01T00:00:00",
          "2016-04-04T00:00:00",
          "2016-04-05T00:00:00",
          "2016-04-06T00:00:00",
          "2016-04-07T00:00:00",
          "2016-04-08T00:00:00",
          "2016-04-11T00:00:00",
          "2016-04-12T00:00:00",
          "2016-04-13T00:00:00",
          "2016-04-14T00:00:00",
          "2016-04-15T00:00:00",
          "2016-04-18T00:00:00",
          "2016-04-19T00:00:00",
          "2016-04-20T00:00:00",
          "2016-04-21T00:00:00",
          "2016-04-22T00:00:00",
          "2016-04-25T00:00:00",
          "2016-04-26T00:00:00",
          "2016-04-27T00:00:00",
          "2016-04-28T00:00:00",
          "2016-04-29T00:00:00",
          "2016-05-02T00:00:00",
          "2016-05-03T00:00:00",
          "2016-05-04T00:00:00",
          "2016-05-05T00:00:00",
          "2016-05-06T00:00:00",
          "2016-05-09T00:00:00",
          "2016-05-10T00:00:00",
          "2016-05-11T00:00:00",
          "2016-05-12T00:00:00",
          "2016-05-13T00:00:00",
          "2016-05-16T00:00:00",
          "2016-05-17T00:00:00",
          "2016-05-18T00:00:00",
          "2016-05-19T00:00:00",
          "2016-05-20T00:00:00",
          "2016-05-23T00:00:00",
          "2016-05-24T00:00:00",
          "2016-05-25T00:00:00",
          "2016-05-26T00:00:00",
          "2016-05-27T00:00:00",
          "2016-05-31T00:00:00",
          "2016-06-01T00:00:00",
          "2016-06-02T00:00:00",
          "2016-06-03T00:00:00",
          "2016-06-06T00:00:00",
          "2016-06-07T00:00:00",
          "2016-06-08T00:00:00",
          "2016-06-09T00:00:00",
          "2016-06-10T00:00:00",
          "2016-06-13T00:00:00",
          "2016-06-14T00:00:00",
          "2016-06-15T00:00:00",
          "2016-06-16T00:00:00",
          "2016-06-17T00:00:00",
          "2016-06-20T00:00:00",
          "2016-06-21T00:00:00",
          "2016-06-22T00:00:00",
          "2016-06-23T00:00:00",
          "2016-06-24T00:00:00",
          "2016-06-27T00:00:00",
          "2016-06-28T00:00:00",
          "2016-06-29T00:00:00",
          "2016-06-30T00:00:00",
          "2016-07-01T00:00:00",
          "2016-07-05T00:00:00",
          "2016-07-06T00:00:00",
          "2016-07-07T00:00:00",
          "2016-07-08T00:00:00",
          "2016-07-11T00:00:00",
          "2016-07-12T00:00:00",
          "2016-07-13T00:00:00",
          "2016-07-14T00:00:00",
          "2016-07-15T00:00:00",
          "2016-07-18T00:00:00",
          "2016-07-19T00:00:00",
          "2016-07-20T00:00:00",
          "2016-07-21T00:00:00",
          "2016-07-22T00:00:00",
          "2016-07-25T00:00:00",
          "2016-07-26T00:00:00",
          "2016-07-27T00:00:00",
          "2016-07-28T00:00:00",
          "2016-07-29T00:00:00",
          "2016-08-01T00:00:00",
          "2016-08-02T00:00:00",
          "2016-08-03T00:00:00",
          "2016-08-04T00:00:00",
          "2016-08-05T00:00:00",
          "2016-08-08T00:00:00",
          "2016-08-09T00:00:00",
          "2016-08-10T00:00:00",
          "2016-08-11T00:00:00",
          "2016-08-12T00:00:00",
          "2016-08-15T00:00:00",
          "2016-08-16T00:00:00",
          "2016-08-17T00:00:00",
          "2016-08-18T00:00:00",
          "2016-08-19T00:00:00",
          "2016-08-22T00:00:00",
          "2016-08-23T00:00:00",
          "2016-08-24T00:00:00",
          "2016-08-25T00:00:00",
          "2016-08-26T00:00:00",
          "2016-08-29T00:00:00",
          "2016-08-30T00:00:00",
          "2016-08-31T00:00:00",
          "2016-09-01T00:00:00",
          "2016-09-02T00:00:00",
          "2016-09-06T00:00:00",
          "2016-09-07T00:00:00",
          "2016-09-08T00:00:00",
          "2016-09-09T00:00:00",
          "2016-09-12T00:00:00",
          "2016-09-13T00:00:00",
          "2016-09-14T00:00:00",
          "2016-09-15T00:00:00",
          "2016-09-16T00:00:00",
          "2016-09-19T00:00:00",
          "2016-09-20T00:00:00",
          "2016-09-21T00:00:00",
          "2016-09-22T00:00:00",
          "2016-09-23T00:00:00",
          "2016-09-26T00:00:00",
          "2016-09-27T00:00:00",
          "2016-09-28T00:00:00",
          "2016-09-29T00:00:00",
          "2016-09-30T00:00:00",
          "2016-10-03T00:00:00",
          "2016-10-04T00:00:00",
          "2016-10-05T00:00:00",
          "2016-10-06T00:00:00",
          "2016-10-07T00:00:00",
          "2016-10-10T00:00:00",
          "2016-10-11T00:00:00",
          "2016-10-12T00:00:00",
          "2016-10-13T00:00:00",
          "2016-10-14T00:00:00",
          "2016-10-17T00:00:00",
          "2016-10-18T00:00:00",
          "2016-10-19T00:00:00",
          "2016-10-20T00:00:00",
          "2016-10-21T00:00:00",
          "2016-10-24T00:00:00",
          "2016-10-25T00:00:00",
          "2016-10-26T00:00:00",
          "2016-10-27T00:00:00",
          "2016-10-28T00:00:00",
          "2016-10-31T00:00:00",
          "2016-11-01T00:00:00",
          "2016-11-02T00:00:00",
          "2016-11-03T00:00:00",
          "2016-11-04T00:00:00",
          "2016-11-07T00:00:00",
          "2016-11-08T00:00:00",
          "2016-11-09T00:00:00",
          "2016-11-10T00:00:00",
          "2016-11-11T00:00:00",
          "2016-11-14T00:00:00",
          "2016-11-15T00:00:00",
          "2016-11-16T00:00:00",
          "2016-11-17T00:00:00",
          "2016-11-18T00:00:00",
          "2016-11-21T00:00:00",
          "2016-11-22T00:00:00",
          "2016-11-23T00:00:00",
          "2016-11-25T00:00:00",
          "2016-11-28T00:00:00",
          "2016-11-29T00:00:00",
          "2016-11-30T00:00:00",
          "2016-12-01T00:00:00",
          "2016-12-02T00:00:00",
          "2016-12-05T00:00:00",
          "2016-12-06T00:00:00",
          "2016-12-07T00:00:00",
          "2016-12-08T00:00:00",
          "2016-12-09T00:00:00",
          "2016-12-12T00:00:00",
          "2016-12-13T00:00:00",
          "2016-12-14T00:00:00",
          "2016-12-15T00:00:00",
          "2016-12-16T00:00:00",
          "2016-12-19T00:00:00",
          "2016-12-20T00:00:00",
          "2016-12-21T00:00:00",
          "2016-12-22T00:00:00",
          "2016-12-23T00:00:00",
          "2016-12-27T00:00:00",
          "2016-12-28T00:00:00",
          "2016-12-29T00:00:00",
          "2016-12-30T00:00:00",
          "2017-01-03T00:00:00",
          "2017-01-04T00:00:00",
          "2017-01-05T00:00:00",
          "2017-01-06T00:00:00",
          "2017-01-09T00:00:00",
          "2017-01-10T00:00:00",
          "2017-01-11T00:00:00",
          "2017-01-12T00:00:00",
          "2017-01-13T00:00:00",
          "2017-01-17T00:00:00",
          "2017-01-18T00:00:00",
          "2017-01-19T00:00:00",
          "2017-01-20T00:00:00",
          "2017-01-23T00:00:00",
          "2017-01-24T00:00:00",
          "2017-01-25T00:00:00",
          "2017-01-26T00:00:00",
          "2017-01-27T00:00:00",
          "2017-01-30T00:00:00",
          "2017-01-31T00:00:00",
          "2017-02-01T00:00:00",
          "2017-02-02T00:00:00",
          "2017-02-03T00:00:00",
          "2017-02-06T00:00:00",
          "2017-02-07T00:00:00",
          "2017-02-08T00:00:00",
          "2017-02-09T00:00:00",
          "2017-02-10T00:00:00",
          "2017-02-13T00:00:00",
          "2017-02-14T00:00:00",
          "2017-02-15T00:00:00",
          "2017-02-16T00:00:00",
          "2017-02-17T00:00:00",
          "2017-02-21T00:00:00",
          "2017-02-22T00:00:00",
          "2017-02-23T00:00:00",
          "2017-02-24T00:00:00",
          "2017-02-27T00:00:00",
          "2017-02-28T00:00:00",
          "2017-03-01T00:00:00",
          "2017-03-02T00:00:00",
          "2017-03-03T00:00:00",
          "2017-03-06T00:00:00",
          "2017-03-07T00:00:00",
          "2017-03-08T00:00:00",
          "2017-03-09T00:00:00",
          "2017-03-10T00:00:00",
          "2017-03-13T00:00:00",
          "2017-03-14T00:00:00",
          "2017-03-15T00:00:00",
          "2017-03-16T00:00:00",
          "2017-03-17T00:00:00",
          "2017-03-20T00:00:00",
          "2017-03-21T00:00:00",
          "2017-03-22T00:00:00",
          "2017-03-23T00:00:00",
          "2017-03-24T00:00:00",
          "2017-03-27T00:00:00",
          "2017-03-28T00:00:00",
          "2017-03-29T00:00:00",
          "2017-03-30T00:00:00",
          "2017-03-31T00:00:00",
          "2017-04-03T00:00:00",
          "2017-04-04T00:00:00",
          "2017-04-05T00:00:00",
          "2017-04-06T00:00:00",
          "2017-04-07T00:00:00",
          "2017-04-10T00:00:00",
          "2017-04-11T00:00:00",
          "2017-04-12T00:00:00",
          "2017-04-13T00:00:00",
          "2017-04-17T00:00:00",
          "2017-04-18T00:00:00",
          "2017-04-19T00:00:00",
          "2017-04-20T00:00:00",
          "2017-04-21T00:00:00",
          "2017-04-24T00:00:00",
          "2017-04-25T00:00:00",
          "2017-04-26T00:00:00",
          "2017-04-27T00:00:00",
          "2017-04-28T00:00:00",
          "2017-05-01T00:00:00",
          "2017-05-02T00:00:00",
          "2017-05-03T00:00:00",
          "2017-05-04T00:00:00",
          "2017-05-05T00:00:00",
          "2017-05-08T00:00:00",
          "2017-05-09T00:00:00",
          "2017-05-10T00:00:00",
          "2017-05-11T00:00:00",
          "2017-05-12T00:00:00",
          "2017-05-15T00:00:00",
          "2017-05-16T00:00:00",
          "2017-05-17T00:00:00",
          "2017-05-18T00:00:00",
          "2017-05-19T00:00:00",
          "2017-05-22T00:00:00",
          "2017-05-23T00:00:00",
          "2017-05-24T00:00:00",
          "2017-05-25T00:00:00",
          "2017-05-26T00:00:00",
          "2017-05-30T00:00:00",
          "2017-05-31T00:00:00",
          "2017-06-01T00:00:00",
          "2017-06-02T00:00:00",
          "2017-06-05T00:00:00",
          "2017-06-06T00:00:00",
          "2017-06-07T00:00:00",
          "2017-06-08T00:00:00",
          "2017-06-09T00:00:00",
          "2017-06-12T00:00:00",
          "2017-06-13T00:00:00",
          "2017-06-14T00:00:00",
          "2017-06-15T00:00:00",
          "2017-06-16T00:00:00",
          "2017-06-19T00:00:00",
          "2017-06-20T00:00:00",
          "2017-06-21T00:00:00",
          "2017-06-22T00:00:00",
          "2017-06-23T00:00:00",
          "2017-06-26T00:00:00",
          "2017-06-27T00:00:00",
          "2017-06-28T00:00:00",
          "2017-06-29T00:00:00",
          "2017-06-30T00:00:00",
          "2017-07-03T00:00:00",
          "2017-07-05T00:00:00",
          "2017-07-06T00:00:00",
          "2017-07-07T00:00:00",
          "2017-07-10T00:00:00",
          "2017-07-11T00:00:00",
          "2017-07-12T00:00:00",
          "2017-07-13T00:00:00",
          "2017-07-14T00:00:00",
          "2017-07-17T00:00:00",
          "2017-07-18T00:00:00",
          "2017-07-19T00:00:00",
          "2017-07-20T00:00:00",
          "2017-07-21T00:00:00",
          "2017-07-24T00:00:00",
          "2017-07-25T00:00:00",
          "2017-07-26T00:00:00",
          "2017-07-27T00:00:00",
          "2017-07-28T00:00:00",
          "2017-07-31T00:00:00",
          "2017-08-01T00:00:00",
          "2017-08-02T00:00:00",
          "2017-08-03T00:00:00",
          "2017-08-04T00:00:00",
          "2017-08-07T00:00:00",
          "2017-08-08T00:00:00",
          "2017-08-09T00:00:00",
          "2017-08-10T00:00:00",
          "2017-08-11T00:00:00",
          "2017-08-14T00:00:00",
          "2017-08-15T00:00:00",
          "2017-08-16T00:00:00",
          "2017-08-17T00:00:00",
          "2017-08-18T00:00:00",
          "2017-08-21T00:00:00",
          "2017-08-22T00:00:00",
          "2017-08-23T00:00:00",
          "2017-08-24T00:00:00",
          "2017-08-25T00:00:00",
          "2017-08-28T00:00:00",
          "2017-08-29T00:00:00",
          "2017-08-30T00:00:00",
          "2017-08-31T00:00:00",
          "2017-09-01T00:00:00",
          "2017-09-05T00:00:00",
          "2017-09-06T00:00:00",
          "2017-09-07T00:00:00",
          "2017-09-08T00:00:00",
          "2017-09-11T00:00:00",
          "2017-09-12T00:00:00",
          "2017-09-13T00:00:00",
          "2017-09-14T00:00:00",
          "2017-09-15T00:00:00",
          "2017-09-18T00:00:00",
          "2017-09-19T00:00:00",
          "2017-09-20T00:00:00",
          "2017-09-21T00:00:00",
          "2017-09-22T00:00:00",
          "2017-09-25T00:00:00",
          "2017-09-26T00:00:00",
          "2017-09-27T00:00:00",
          "2017-09-28T00:00:00",
          "2017-09-29T00:00:00",
          "2017-10-02T00:00:00",
          "2017-10-03T00:00:00",
          "2017-10-04T00:00:00",
          "2017-10-05T00:00:00",
          "2017-10-06T00:00:00",
          "2017-10-09T00:00:00",
          "2017-10-10T00:00:00",
          "2017-10-11T00:00:00",
          "2017-10-12T00:00:00",
          "2017-10-13T00:00:00",
          "2017-10-16T00:00:00",
          "2017-10-17T00:00:00",
          "2017-10-18T00:00:00",
          "2017-10-19T00:00:00",
          "2017-10-20T00:00:00",
          "2017-10-23T00:00:00",
          "2017-10-24T00:00:00",
          "2017-10-25T00:00:00",
          "2017-10-26T00:00:00",
          "2017-10-27T00:00:00",
          "2017-10-30T00:00:00",
          "2017-10-31T00:00:00",
          "2017-11-01T00:00:00",
          "2017-11-02T00:00:00",
          "2017-11-03T00:00:00",
          "2017-11-06T00:00:00",
          "2017-11-07T00:00:00",
          "2017-11-08T00:00:00",
          "2017-11-09T00:00:00",
          "2017-11-10T00:00:00",
          "2017-11-13T00:00:00",
          "2017-11-14T00:00:00",
          "2017-11-15T00:00:00",
          "2017-11-16T00:00:00",
          "2017-11-17T00:00:00",
          "2017-11-20T00:00:00",
          "2017-11-21T00:00:00",
          "2017-11-22T00:00:00",
          "2017-11-24T00:00:00",
          "2017-11-27T00:00:00",
          "2017-11-28T00:00:00",
          "2017-11-29T00:00:00",
          "2017-11-30T00:00:00",
          "2017-12-01T00:00:00",
          "2017-12-04T00:00:00",
          "2017-12-05T00:00:00",
          "2017-12-06T00:00:00",
          "2017-12-07T00:00:00",
          "2017-12-08T00:00:00",
          "2017-12-11T00:00:00",
          "2017-12-12T00:00:00",
          "2017-12-13T00:00:00",
          "2017-12-14T00:00:00",
          "2017-12-15T00:00:00",
          "2017-12-18T00:00:00",
          "2017-12-19T00:00:00",
          "2017-12-20T00:00:00",
          "2017-12-21T00:00:00",
          "2017-12-22T00:00:00",
          "2017-12-26T00:00:00",
          "2017-12-27T00:00:00",
          "2017-12-28T00:00:00",
          "2017-12-29T00:00:00",
          "2018-01-02T00:00:00",
          "2018-01-03T00:00:00",
          "2018-01-04T00:00:00",
          "2018-01-05T00:00:00",
          "2018-01-08T00:00:00",
          "2018-01-09T00:00:00",
          "2018-01-10T00:00:00",
          "2018-01-11T00:00:00",
          "2018-01-12T00:00:00",
          "2018-01-16T00:00:00",
          "2018-01-17T00:00:00",
          "2018-01-18T00:00:00",
          "2018-01-19T00:00:00",
          "2018-01-22T00:00:00",
          "2018-01-23T00:00:00",
          "2018-01-24T00:00:00",
          "2018-01-25T00:00:00",
          "2018-01-26T00:00:00",
          "2018-01-29T00:00:00",
          "2018-01-30T00:00:00",
          "2018-01-31T00:00:00",
          "2018-02-01T00:00:00",
          "2018-02-02T00:00:00",
          "2018-02-05T00:00:00",
          "2018-02-06T00:00:00",
          "2018-02-07T00:00:00",
          "2018-02-08T00:00:00",
          "2018-02-09T00:00:00",
          "2018-02-12T00:00:00",
          "2018-02-13T00:00:00",
          "2018-02-14T00:00:00",
          "2018-02-15T00:00:00",
          "2018-02-16T00:00:00",
          "2018-02-20T00:00:00",
          "2018-02-21T00:00:00",
          "2018-02-22T00:00:00",
          "2018-02-23T00:00:00",
          "2018-02-26T00:00:00",
          "2018-02-27T00:00:00",
          "2018-02-28T00:00:00",
          "2018-03-01T00:00:00",
          "2018-03-02T00:00:00",
          "2018-03-05T00:00:00",
          "2018-03-06T00:00:00",
          "2018-03-07T00:00:00",
          "2018-03-08T00:00:00",
          "2018-03-09T00:00:00",
          "2018-03-12T00:00:00",
          "2018-03-13T00:00:00",
          "2018-03-14T00:00:00",
          "2018-03-15T00:00:00",
          "2018-03-16T00:00:00",
          "2018-03-19T00:00:00",
          "2018-03-20T00:00:00",
          "2018-03-21T00:00:00",
          "2018-03-22T00:00:00",
          "2018-03-23T00:00:00",
          "2018-03-26T00:00:00",
          "2018-03-27T00:00:00",
          "2018-03-28T00:00:00",
          "2018-03-29T00:00:00",
          "2018-04-02T00:00:00",
          "2018-04-03T00:00:00",
          "2018-04-04T00:00:00",
          "2018-04-05T00:00:00",
          "2018-04-06T00:00:00",
          "2018-04-09T00:00:00",
          "2018-04-10T00:00:00",
          "2018-04-11T00:00:00",
          "2018-04-12T00:00:00",
          "2018-04-13T00:00:00",
          "2018-04-16T00:00:00",
          "2018-04-17T00:00:00",
          "2018-04-18T00:00:00",
          "2018-04-19T00:00:00",
          "2018-04-20T00:00:00",
          "2018-04-23T00:00:00",
          "2018-04-24T00:00:00",
          "2018-04-25T00:00:00",
          "2018-04-26T00:00:00",
          "2018-04-27T00:00:00",
          "2018-04-30T00:00:00",
          "2018-05-01T00:00:00",
          "2018-05-02T00:00:00",
          "2018-05-03T00:00:00",
          "2018-05-04T00:00:00",
          "2018-05-07T00:00:00",
          "2018-05-08T00:00:00",
          "2018-05-09T00:00:00",
          "2018-05-10T00:00:00",
          "2018-05-11T00:00:00",
          "2018-05-14T00:00:00",
          "2018-05-15T00:00:00",
          "2018-05-16T00:00:00",
          "2018-05-17T00:00:00",
          "2018-05-18T00:00:00",
          "2018-05-21T00:00:00",
          "2018-05-22T00:00:00",
          "2018-05-23T00:00:00",
          "2018-05-24T00:00:00",
          "2018-05-25T00:00:00",
          "2018-05-29T00:00:00",
          "2018-05-30T00:00:00",
          "2018-05-31T00:00:00",
          "2018-06-01T00:00:00",
          "2018-06-04T00:00:00",
          "2018-06-05T00:00:00",
          "2018-06-06T00:00:00",
          "2018-06-07T00:00:00",
          "2018-06-08T00:00:00",
          "2018-06-11T00:00:00",
          "2018-06-12T00:00:00",
          "2018-06-13T00:00:00",
          "2018-06-14T00:00:00",
          "2018-06-15T00:00:00",
          "2018-06-18T00:00:00",
          "2018-06-19T00:00:00",
          "2018-06-20T00:00:00",
          "2018-06-21T00:00:00",
          "2018-06-22T00:00:00",
          "2018-06-25T00:00:00",
          "2018-06-26T00:00:00",
          "2018-06-27T00:00:00",
          "2018-06-28T00:00:00",
          "2018-06-29T00:00:00",
          "2018-07-02T00:00:00",
          "2018-07-03T00:00:00",
          "2018-07-05T00:00:00",
          "2018-07-06T00:00:00",
          "2018-07-09T00:00:00",
          "2018-07-10T00:00:00",
          "2018-07-11T00:00:00",
          "2018-07-12T00:00:00",
          "2018-07-13T00:00:00",
          "2018-07-16T00:00:00",
          "2018-07-17T00:00:00",
          "2018-07-18T00:00:00",
          "2018-07-19T00:00:00",
          "2018-07-20T00:00:00",
          "2018-07-23T00:00:00",
          "2018-07-24T00:00:00",
          "2018-07-25T00:00:00",
          "2018-07-26T00:00:00",
          "2018-07-27T00:00:00",
          "2018-07-30T00:00:00",
          "2018-07-31T00:00:00",
          "2018-08-01T00:00:00",
          "2018-08-02T00:00:00",
          "2018-08-03T00:00:00",
          "2018-08-06T00:00:00",
          "2018-08-07T00:00:00",
          "2018-08-08T00:00:00",
          "2018-08-09T00:00:00",
          "2018-08-10T00:00:00",
          "2018-08-13T00:00:00",
          "2018-08-14T00:00:00",
          "2018-08-15T00:00:00",
          "2018-08-16T00:00:00",
          "2018-08-17T00:00:00",
          "2018-08-20T00:00:00",
          "2018-08-21T00:00:00",
          "2018-08-22T00:00:00",
          "2018-08-23T00:00:00",
          "2018-08-24T00:00:00",
          "2018-08-27T00:00:00",
          "2018-08-28T00:00:00",
          "2018-08-29T00:00:00",
          "2018-08-30T00:00:00",
          "2018-08-31T00:00:00",
          "2018-09-04T00:00:00",
          "2018-09-05T00:00:00",
          "2018-09-06T00:00:00",
          "2018-09-07T00:00:00",
          "2018-09-10T00:00:00",
          "2018-09-11T00:00:00",
          "2018-09-12T00:00:00",
          "2018-09-13T00:00:00",
          "2018-09-14T00:00:00",
          "2018-09-17T00:00:00",
          "2018-09-18T00:00:00",
          "2018-09-19T00:00:00",
          "2018-09-20T00:00:00",
          "2018-09-21T00:00:00",
          "2018-09-24T00:00:00",
          "2018-09-25T00:00:00",
          "2018-09-26T00:00:00",
          "2018-09-27T00:00:00",
          "2018-09-28T00:00:00",
          "2018-10-01T00:00:00",
          "2018-10-02T00:00:00",
          "2018-10-03T00:00:00",
          "2018-10-04T00:00:00",
          "2018-10-05T00:00:00",
          "2018-10-08T00:00:00",
          "2018-10-09T00:00:00",
          "2018-10-10T00:00:00",
          "2018-10-11T00:00:00",
          "2018-10-12T00:00:00",
          "2018-10-15T00:00:00",
          "2018-10-16T00:00:00",
          "2018-10-17T00:00:00",
          "2018-10-18T00:00:00",
          "2018-10-19T00:00:00",
          "2018-10-22T00:00:00",
          "2018-10-23T00:00:00",
          "2018-10-24T00:00:00",
          "2018-10-25T00:00:00",
          "2018-10-26T00:00:00",
          "2018-10-29T00:00:00",
          "2018-10-30T00:00:00",
          "2018-10-31T00:00:00",
          "2018-11-01T00:00:00",
          "2018-11-02T00:00:00",
          "2018-11-05T00:00:00",
          "2018-11-06T00:00:00",
          "2018-11-07T00:00:00",
          "2018-11-08T00:00:00",
          "2018-11-09T00:00:00",
          "2018-11-12T00:00:00",
          "2018-11-13T00:00:00",
          "2018-11-14T00:00:00",
          "2018-11-15T00:00:00",
          "2018-11-16T00:00:00",
          "2018-11-19T00:00:00",
          "2018-11-20T00:00:00",
          "2018-11-21T00:00:00",
          "2018-11-23T00:00:00",
          "2018-11-26T00:00:00",
          "2018-11-27T00:00:00",
          "2018-11-28T00:00:00",
          "2018-11-29T00:00:00",
          "2018-11-30T00:00:00",
          "2018-12-03T00:00:00",
          "2018-12-04T00:00:00",
          "2018-12-06T00:00:00",
          "2018-12-07T00:00:00",
          "2018-12-10T00:00:00",
          "2018-12-11T00:00:00",
          "2018-12-12T00:00:00",
          "2018-12-13T00:00:00",
          "2018-12-14T00:00:00",
          "2018-12-17T00:00:00",
          "2018-12-18T00:00:00",
          "2018-12-19T00:00:00",
          "2018-12-20T00:00:00",
          "2018-12-21T00:00:00",
          "2018-12-24T00:00:00",
          "2018-12-26T00:00:00",
          "2018-12-27T00:00:00",
          "2018-12-28T00:00:00",
          "2018-12-31T00:00:00",
          "2019-01-02T00:00:00",
          "2019-01-03T00:00:00",
          "2019-01-04T00:00:00",
          "2019-01-07T00:00:00",
          "2019-01-08T00:00:00",
          "2019-01-09T00:00:00",
          "2019-01-10T00:00:00",
          "2019-01-11T00:00:00",
          "2019-01-14T00:00:00",
          "2019-01-15T00:00:00",
          "2019-01-16T00:00:00",
          "2019-01-17T00:00:00",
          "2019-01-18T00:00:00",
          "2019-01-22T00:00:00",
          "2019-01-23T00:00:00",
          "2019-01-24T00:00:00",
          "2019-01-25T00:00:00",
          "2019-01-28T00:00:00",
          "2019-01-29T00:00:00",
          "2019-01-30T00:00:00",
          "2019-01-31T00:00:00",
          "2019-02-01T00:00:00",
          "2019-02-04T00:00:00",
          "2019-02-05T00:00:00",
          "2019-02-06T00:00:00",
          "2019-02-07T00:00:00",
          "2019-02-08T00:00:00",
          "2019-02-11T00:00:00",
          "2019-02-12T00:00:00",
          "2019-02-13T00:00:00",
          "2019-02-14T00:00:00",
          "2019-02-15T00:00:00",
          "2019-02-19T00:00:00",
          "2019-02-20T00:00:00",
          "2019-02-21T00:00:00",
          "2019-02-22T00:00:00",
          "2019-02-25T00:00:00",
          "2019-02-26T00:00:00",
          "2019-02-27T00:00:00",
          "2019-02-28T00:00:00",
          "2019-03-01T00:00:00",
          "2019-03-04T00:00:00",
          "2019-03-05T00:00:00",
          "2019-03-06T00:00:00",
          "2019-03-07T00:00:00",
          "2019-03-08T00:00:00",
          "2019-03-11T00:00:00",
          "2019-03-12T00:00:00",
          "2019-03-13T00:00:00",
          "2019-03-14T00:00:00",
          "2019-03-15T00:00:00",
          "2019-03-18T00:00:00",
          "2019-03-19T00:00:00",
          "2019-03-20T00:00:00",
          "2019-03-21T00:00:00",
          "2019-03-22T00:00:00",
          "2019-03-25T00:00:00",
          "2019-03-26T00:00:00",
          "2019-03-27T00:00:00",
          "2019-03-28T00:00:00",
          "2019-03-29T00:00:00",
          "2019-04-01T00:00:00",
          "2019-04-02T00:00:00",
          "2019-04-03T00:00:00",
          "2019-04-04T00:00:00",
          "2019-04-05T00:00:00",
          "2019-04-08T00:00:00",
          "2019-04-09T00:00:00",
          "2019-04-10T00:00:00",
          "2019-04-11T00:00:00",
          "2019-04-12T00:00:00",
          "2019-04-15T00:00:00",
          "2019-04-16T00:00:00",
          "2019-04-17T00:00:00",
          "2019-04-18T00:00:00",
          "2019-04-22T00:00:00",
          "2019-04-23T00:00:00",
          "2019-04-24T00:00:00",
          "2019-04-25T00:00:00",
          "2019-04-26T00:00:00",
          "2019-04-29T00:00:00",
          "2019-04-30T00:00:00",
          "2019-05-01T00:00:00",
          "2019-05-02T00:00:00",
          "2019-05-03T00:00:00",
          "2019-05-06T00:00:00",
          "2019-05-07T00:00:00",
          "2019-05-08T00:00:00",
          "2019-05-09T00:00:00",
          "2019-05-10T00:00:00",
          "2019-05-13T00:00:00",
          "2019-05-14T00:00:00",
          "2019-05-15T00:00:00",
          "2019-05-16T00:00:00",
          "2019-05-17T00:00:00",
          "2019-05-20T00:00:00",
          "2019-05-21T00:00:00",
          "2019-05-22T00:00:00",
          "2019-05-23T00:00:00",
          "2019-05-24T00:00:00",
          "2019-05-28T00:00:00",
          "2019-05-29T00:00:00",
          "2019-05-30T00:00:00",
          "2019-05-31T00:00:00",
          "2019-06-03T00:00:00",
          "2019-06-04T00:00:00",
          "2019-06-05T00:00:00",
          "2019-06-06T00:00:00",
          "2019-06-07T00:00:00",
          "2019-06-10T00:00:00",
          "2019-06-11T00:00:00",
          "2019-06-12T00:00:00",
          "2019-06-13T00:00:00",
          "2019-06-14T00:00:00",
          "2019-06-17T00:00:00",
          "2019-06-18T00:00:00",
          "2019-06-19T00:00:00",
          "2019-06-20T00:00:00",
          "2019-06-21T00:00:00",
          "2019-06-24T00:00:00",
          "2019-06-25T00:00:00",
          "2019-06-26T00:00:00",
          "2019-06-27T00:00:00",
          "2019-06-28T00:00:00",
          "2019-07-01T00:00:00",
          "2019-07-02T00:00:00",
          "2019-07-03T00:00:00",
          "2019-07-05T00:00:00",
          "2019-07-08T00:00:00",
          "2019-07-09T00:00:00",
          "2019-07-10T00:00:00",
          "2019-07-11T00:00:00",
          "2019-07-12T00:00:00",
          "2019-07-15T00:00:00",
          "2019-07-16T00:00:00",
          "2019-07-17T00:00:00",
          "2019-07-18T00:00:00",
          "2019-07-19T00:00:00",
          "2019-07-22T00:00:00",
          "2019-07-23T00:00:00",
          "2019-07-24T00:00:00",
          "2019-07-25T00:00:00",
          "2019-07-26T00:00:00",
          "2019-07-29T00:00:00",
          "2019-07-30T00:00:00",
          "2019-07-31T00:00:00",
          "2019-08-01T00:00:00",
          "2019-08-02T00:00:00",
          "2019-08-05T00:00:00",
          "2019-08-06T00:00:00",
          "2019-08-07T00:00:00",
          "2019-08-08T00:00:00",
          "2019-08-09T00:00:00",
          "2019-08-12T00:00:00",
          "2019-08-13T00:00:00",
          "2019-08-14T00:00:00",
          "2019-08-15T00:00:00",
          "2019-08-16T00:00:00",
          "2019-08-19T00:00:00",
          "2019-08-20T00:00:00",
          "2019-08-21T00:00:00",
          "2019-08-22T00:00:00",
          "2019-08-23T00:00:00",
          "2019-08-26T00:00:00",
          "2019-08-27T00:00:00",
          "2019-08-28T00:00:00",
          "2019-08-29T00:00:00",
          "2019-08-30T00:00:00",
          "2019-09-03T00:00:00",
          "2019-09-04T00:00:00",
          "2019-09-05T00:00:00",
          "2019-09-06T00:00:00",
          "2019-09-09T00:00:00",
          "2019-09-10T00:00:00",
          "2019-09-11T00:00:00",
          "2019-09-12T00:00:00",
          "2019-09-13T00:00:00",
          "2019-09-16T00:00:00",
          "2019-09-17T00:00:00",
          "2019-09-18T00:00:00",
          "2019-09-19T00:00:00",
          "2019-09-20T00:00:00",
          "2019-09-23T00:00:00",
          "2019-09-24T00:00:00",
          "2019-09-25T00:00:00",
          "2019-09-26T00:00:00",
          "2019-09-27T00:00:00",
          "2019-09-30T00:00:00",
          "2019-10-01T00:00:00",
          "2019-10-02T00:00:00",
          "2019-10-03T00:00:00",
          "2019-10-04T00:00:00",
          "2019-10-07T00:00:00",
          "2019-10-08T00:00:00",
          "2019-10-09T00:00:00",
          "2019-10-10T00:00:00",
          "2019-10-11T00:00:00",
          "2019-10-14T00:00:00",
          "2019-10-15T00:00:00",
          "2019-10-16T00:00:00",
          "2019-10-17T00:00:00",
          "2019-10-18T00:00:00",
          "2019-10-21T00:00:00",
          "2019-10-22T00:00:00",
          "2019-10-23T00:00:00",
          "2019-10-24T00:00:00",
          "2019-10-25T00:00:00",
          "2019-10-28T00:00:00",
          "2019-10-29T00:00:00",
          "2019-10-30T00:00:00",
          "2019-10-31T00:00:00",
          "2019-11-01T00:00:00",
          "2019-11-04T00:00:00",
          "2019-11-05T00:00:00",
          "2019-11-06T00:00:00",
          "2019-11-07T00:00:00",
          "2019-11-08T00:00:00",
          "2019-11-11T00:00:00",
          "2019-11-12T00:00:00",
          "2019-11-13T00:00:00",
          "2019-11-14T00:00:00",
          "2019-11-15T00:00:00",
          "2019-11-18T00:00:00",
          "2019-11-19T00:00:00",
          "2019-11-20T00:00:00",
          "2019-11-21T00:00:00",
          "2019-11-22T00:00:00",
          "2019-11-25T00:00:00",
          "2019-11-26T00:00:00",
          "2019-11-27T00:00:00",
          "2019-11-29T00:00:00",
          "2019-12-02T00:00:00",
          "2019-12-03T00:00:00",
          "2019-12-04T00:00:00",
          "2019-12-05T00:00:00",
          "2019-12-06T00:00:00",
          "2019-12-09T00:00:00",
          "2019-12-10T00:00:00",
          "2019-12-11T00:00:00",
          "2019-12-12T00:00:00",
          "2019-12-13T00:00:00",
          "2019-12-16T00:00:00",
          "2019-12-17T00:00:00",
          "2019-12-18T00:00:00",
          "2019-12-19T00:00:00",
          "2019-12-20T00:00:00",
          "2019-12-23T00:00:00",
          "2019-12-24T00:00:00",
          "2019-12-26T00:00:00",
          "2019-12-27T00:00:00",
          "2019-12-30T00:00:00",
          "2019-12-31T00:00:00",
          "2020-01-02T00:00:00",
          "2020-01-03T00:00:00",
          "2020-01-06T00:00:00",
          "2020-01-07T00:00:00",
          "2020-01-08T00:00:00",
          "2020-01-09T00:00:00",
          "2020-01-10T00:00:00",
          "2020-01-13T00:00:00",
          "2020-01-14T00:00:00",
          "2020-01-15T00:00:00",
          "2020-01-16T00:00:00",
          "2020-01-17T00:00:00",
          "2020-01-21T00:00:00",
          "2020-01-22T00:00:00",
          "2020-01-23T00:00:00",
          "2020-01-24T00:00:00",
          "2020-01-27T00:00:00",
          "2020-01-28T00:00:00",
          "2020-01-29T00:00:00",
          "2020-01-30T00:00:00",
          "2020-01-31T00:00:00",
          "2020-02-03T00:00:00",
          "2020-02-04T00:00:00",
          "2020-02-05T00:00:00",
          "2020-02-06T00:00:00",
          "2020-02-07T00:00:00",
          "2020-02-10T00:00:00",
          "2020-02-11T00:00:00",
          "2020-02-12T00:00:00",
          "2020-02-13T00:00:00",
          "2020-02-14T00:00:00",
          "2020-02-18T00:00:00",
          "2020-02-19T00:00:00",
          "2020-02-20T00:00:00",
          "2020-02-21T00:00:00",
          "2020-02-24T00:00:00",
          "2020-02-25T00:00:00",
          "2020-02-26T00:00:00",
          "2020-02-27T00:00:00",
          "2020-02-28T00:00:00",
          "2020-03-02T00:00:00",
          "2020-03-03T00:00:00",
          "2020-03-04T00:00:00",
          "2020-03-05T00:00:00",
          "2020-03-06T00:00:00",
          "2020-03-09T00:00:00",
          "2020-03-10T00:00:00",
          "2020-03-11T00:00:00",
          "2020-03-12T00:00:00",
          "2020-03-13T00:00:00",
          "2020-03-16T00:00:00",
          "2020-03-17T00:00:00",
          "2020-03-18T00:00:00",
          "2020-03-19T00:00:00",
          "2020-03-20T00:00:00",
          "2020-03-23T00:00:00",
          "2020-03-24T00:00:00",
          "2020-03-25T00:00:00",
          "2020-03-26T00:00:00",
          "2020-03-27T00:00:00",
          "2020-03-30T00:00:00",
          "2020-03-31T00:00:00",
          "2020-04-01T00:00:00",
          "2020-04-02T00:00:00",
          "2020-04-03T00:00:00",
          "2020-04-06T00:00:00",
          "2020-04-07T00:00:00",
          "2020-04-08T00:00:00",
          "2020-04-09T00:00:00",
          "2020-04-13T00:00:00",
          "2020-04-14T00:00:00",
          "2020-04-15T00:00:00",
          "2020-04-16T00:00:00",
          "2020-04-17T00:00:00",
          "2020-04-20T00:00:00",
          "2020-04-21T00:00:00",
          "2020-04-22T00:00:00",
          "2020-04-23T00:00:00",
          "2020-04-24T00:00:00",
          "2020-04-27T00:00:00",
          "2020-04-28T00:00:00",
          "2020-04-29T00:00:00",
          "2020-04-30T00:00:00",
          "2020-05-01T00:00:00",
          "2020-05-04T00:00:00",
          "2020-05-05T00:00:00",
          "2020-05-06T00:00:00",
          "2020-05-07T00:00:00",
          "2020-05-08T00:00:00",
          "2020-05-11T00:00:00",
          "2020-05-12T00:00:00",
          "2020-05-13T00:00:00",
          "2020-05-14T00:00:00",
          "2020-05-15T00:00:00",
          "2020-05-18T00:00:00",
          "2020-05-19T00:00:00",
          "2020-05-20T00:00:00",
          "2020-05-21T00:00:00",
          "2020-05-22T00:00:00",
          "2020-05-26T00:00:00",
          "2020-05-27T00:00:00",
          "2020-05-28T00:00:00",
          "2020-05-29T00:00:00",
          "2020-06-01T00:00:00",
          "2020-06-02T00:00:00",
          "2020-06-03T00:00:00",
          "2020-06-04T00:00:00",
          "2020-06-05T00:00:00",
          "2020-06-08T00:00:00",
          "2020-06-09T00:00:00",
          "2020-06-10T00:00:00",
          "2020-06-11T00:00:00",
          "2020-06-12T00:00:00",
          "2020-06-15T00:00:00",
          "2020-06-16T00:00:00",
          "2020-06-17T00:00:00",
          "2020-06-18T00:00:00",
          "2020-06-19T00:00:00",
          "2020-06-22T00:00:00",
          "2020-06-23T00:00:00",
          "2020-06-24T00:00:00",
          "2020-06-25T00:00:00",
          "2020-06-26T00:00:00",
          "2020-06-29T00:00:00",
          "2020-06-30T00:00:00",
          "2020-07-01T00:00:00",
          "2020-07-02T00:00:00",
          "2020-07-06T00:00:00",
          "2020-07-07T00:00:00",
          "2020-07-08T00:00:00",
          "2020-07-09T00:00:00",
          "2020-07-10T00:00:00",
          "2020-07-13T00:00:00",
          "2020-07-14T00:00:00",
          "2020-07-15T00:00:00",
          "2020-07-16T00:00:00",
          "2020-07-17T00:00:00",
          "2020-07-20T00:00:00",
          "2020-07-21T00:00:00",
          "2020-07-22T00:00:00",
          "2020-07-23T00:00:00",
          "2020-07-24T00:00:00",
          "2020-07-27T00:00:00",
          "2020-07-28T00:00:00",
          "2020-07-29T00:00:00",
          "2020-07-30T00:00:00",
          "2020-07-31T00:00:00",
          "2020-08-03T00:00:00",
          "2020-08-04T00:00:00",
          "2020-08-05T00:00:00",
          "2020-08-06T00:00:00",
          "2020-08-07T00:00:00",
          "2020-08-10T00:00:00",
          "2020-08-11T00:00:00",
          "2020-08-12T00:00:00",
          "2020-08-13T00:00:00",
          "2020-08-14T00:00:00",
          "2020-08-17T00:00:00",
          "2020-08-18T00:00:00",
          "2020-08-19T00:00:00",
          "2020-08-20T00:00:00",
          "2020-08-21T00:00:00",
          "2020-08-24T00:00:00",
          "2020-08-25T00:00:00",
          "2020-08-26T00:00:00",
          "2020-08-27T00:00:00",
          "2020-08-28T00:00:00",
          "2020-08-31T00:00:00",
          "2020-09-01T00:00:00",
          "2020-09-02T00:00:00",
          "2020-09-03T00:00:00",
          "2020-09-04T00:00:00",
          "2020-09-08T00:00:00",
          "2020-09-09T00:00:00",
          "2020-09-10T00:00:00",
          "2020-09-11T00:00:00",
          "2020-09-14T00:00:00",
          "2020-09-15T00:00:00",
          "2020-09-16T00:00:00",
          "2020-09-17T00:00:00",
          "2020-09-18T00:00:00",
          "2020-09-21T00:00:00",
          "2020-09-22T00:00:00",
          "2020-09-23T00:00:00",
          "2020-09-24T00:00:00",
          "2020-09-25T00:00:00",
          "2020-09-28T00:00:00",
          "2020-09-29T00:00:00",
          "2020-09-30T00:00:00",
          "2020-10-01T00:00:00",
          "2020-10-02T00:00:00",
          "2020-10-05T00:00:00",
          "2020-10-06T00:00:00",
          "2020-10-07T00:00:00",
          "2020-10-08T00:00:00",
          "2020-10-09T00:00:00",
          "2020-10-12T00:00:00",
          "2020-10-13T00:00:00",
          "2020-10-14T00:00:00",
          "2020-10-15T00:00:00",
          "2020-10-16T00:00:00",
          "2020-10-19T00:00:00",
          "2020-10-20T00:00:00",
          "2020-10-21T00:00:00",
          "2020-10-22T00:00:00",
          "2020-10-23T00:00:00",
          "2020-10-26T00:00:00",
          "2020-10-27T00:00:00",
          "2020-10-28T00:00:00",
          "2020-10-29T00:00:00",
          "2020-10-30T00:00:00",
          "2020-11-02T00:00:00",
          "2020-11-03T00:00:00",
          "2020-11-04T00:00:00",
          "2020-11-05T00:00:00",
          "2020-11-06T00:00:00",
          "2020-11-09T00:00:00",
          "2020-11-10T00:00:00",
          "2020-11-11T00:00:00",
          "2020-11-12T00:00:00",
          "2020-11-13T00:00:00",
          "2020-11-16T00:00:00",
          "2020-11-17T00:00:00",
          "2020-11-18T00:00:00",
          "2020-11-19T00:00:00",
          "2020-11-20T00:00:00",
          "2020-11-23T00:00:00",
          "2020-11-24T00:00:00",
          "2020-11-25T00:00:00",
          "2020-11-27T00:00:00",
          "2020-11-30T00:00:00",
          "2020-12-01T00:00:00",
          "2020-12-02T00:00:00",
          "2020-12-03T00:00:00",
          "2020-12-04T00:00:00",
          "2020-12-07T00:00:00",
          "2020-12-08T00:00:00",
          "2020-12-09T00:00:00",
          "2020-12-10T00:00:00",
          "2020-12-11T00:00:00",
          "2020-12-14T00:00:00",
          "2020-12-15T00:00:00",
          "2020-12-16T00:00:00",
          "2020-12-17T00:00:00",
          "2020-12-18T00:00:00",
          "2020-12-21T00:00:00",
          "2020-12-22T00:00:00",
          "2020-12-23T00:00:00",
          "2020-12-24T00:00:00",
          "2020-12-28T00:00:00",
          "2020-12-29T00:00:00",
          "2020-12-30T00:00:00",
          "2020-12-31T00:00:00",
          "2021-01-04T00:00:00",
          "2021-01-05T00:00:00",
          "2021-01-06T00:00:00",
          "2021-01-07T00:00:00",
          "2021-01-08T00:00:00",
          "2021-01-11T00:00:00",
          "2021-01-12T00:00:00",
          "2021-01-13T00:00:00",
          "2021-01-14T00:00:00",
          "2021-01-15T00:00:00",
          "2021-01-19T00:00:00",
          "2021-01-20T00:00:00",
          "2021-01-21T00:00:00",
          "2021-01-22T00:00:00",
          "2021-01-25T00:00:00",
          "2021-01-26T00:00:00",
          "2021-01-27T00:00:00",
          "2021-01-28T00:00:00",
          "2021-01-29T00:00:00",
          "2021-02-01T00:00:00",
          "2021-02-02T00:00:00",
          "2021-02-03T00:00:00",
          "2021-02-04T00:00:00",
          "2021-02-05T00:00:00",
          "2021-02-08T00:00:00",
          "2021-02-09T00:00:00",
          "2021-02-10T00:00:00",
          "2021-02-11T00:00:00",
          "2021-02-12T00:00:00",
          "2021-02-16T00:00:00",
          "2021-02-17T00:00:00",
          "2021-02-18T00:00:00",
          "2021-02-19T00:00:00",
          "2021-02-22T00:00:00",
          "2021-02-23T00:00:00",
          "2021-02-24T00:00:00",
          "2021-02-25T00:00:00",
          "2021-02-26T00:00:00",
          "2021-03-01T00:00:00",
          "2021-03-02T00:00:00",
          "2021-03-03T00:00:00",
          "2021-03-04T00:00:00",
          "2021-03-05T00:00:00",
          "2021-03-08T00:00:00",
          "2021-03-09T00:00:00",
          "2021-03-10T00:00:00",
          "2021-03-11T00:00:00",
          "2021-03-12T00:00:00",
          "2021-03-15T00:00:00",
          "2021-03-16T00:00:00",
          "2021-03-17T00:00:00",
          "2021-03-18T00:00:00",
          "2021-03-19T00:00:00",
          "2021-03-22T00:00:00",
          "2021-03-23T00:00:00",
          "2021-03-24T00:00:00",
          "2021-03-25T00:00:00",
          "2021-03-26T00:00:00",
          "2021-03-29T00:00:00",
          "2021-03-30T00:00:00",
          "2021-03-31T00:00:00",
          "2021-04-01T00:00:00",
          "2021-04-05T00:00:00",
          "2021-04-06T00:00:00",
          "2021-04-07T00:00:00",
          "2021-04-08T00:00:00",
          "2021-04-09T00:00:00",
          "2021-04-12T00:00:00",
          "2021-04-13T00:00:00",
          "2021-04-14T00:00:00",
          "2021-04-15T00:00:00",
          "2021-04-16T00:00:00",
          "2021-04-19T00:00:00",
          "2021-04-20T00:00:00",
          "2021-04-21T00:00:00",
          "2021-04-22T00:00:00",
          "2021-04-23T00:00:00",
          "2021-04-26T00:00:00",
          "2021-04-27T00:00:00",
          "2021-04-28T00:00:00",
          "2021-04-29T00:00:00",
          "2021-04-30T00:00:00",
          "2021-05-03T00:00:00",
          "2021-05-04T00:00:00",
          "2021-05-05T00:00:00",
          "2021-05-06T00:00:00",
          "2021-05-07T00:00:00",
          "2021-05-10T00:00:00",
          "2021-05-11T00:00:00",
          "2021-05-12T00:00:00",
          "2021-05-13T00:00:00",
          "2021-05-14T00:00:00",
          "2021-05-17T00:00:00",
          "2021-05-18T00:00:00",
          "2021-05-19T00:00:00",
          "2021-05-20T00:00:00",
          "2021-05-21T00:00:00",
          "2021-05-24T00:00:00",
          "2021-05-25T00:00:00",
          "2021-05-26T00:00:00",
          "2021-05-27T00:00:00",
          "2021-05-28T00:00:00",
          "2021-06-01T00:00:00",
          "2021-06-02T00:00:00",
          "2021-06-03T00:00:00",
          "2021-06-04T00:00:00",
          "2021-06-07T00:00:00",
          "2021-06-08T00:00:00",
          "2021-06-09T00:00:00",
          "2021-06-10T00:00:00",
          "2021-06-11T00:00:00",
          "2021-06-14T00:00:00",
          "2021-06-15T00:00:00",
          "2021-06-16T00:00:00",
          "2021-06-17T00:00:00",
          "2021-06-18T00:00:00",
          "2021-06-21T00:00:00",
          "2021-06-22T00:00:00",
          "2021-06-23T00:00:00",
          "2021-06-24T00:00:00",
          "2021-06-25T00:00:00",
          "2021-06-28T00:00:00",
          "2021-06-29T00:00:00",
          "2021-06-30T00:00:00",
          "2021-07-01T00:00:00",
          "2021-07-02T00:00:00",
          "2021-07-06T00:00:00",
          "2021-07-07T00:00:00",
          "2021-07-08T00:00:00",
          "2021-07-09T00:00:00",
          "2021-07-12T00:00:00",
          "2021-07-13T00:00:00",
          "2021-07-14T00:00:00",
          "2021-07-15T00:00:00",
          "2021-07-16T00:00:00",
          "2021-07-19T00:00:00",
          "2021-07-20T00:00:00",
          "2021-07-21T00:00:00",
          "2021-07-22T00:00:00",
          "2021-07-23T00:00:00",
          "2021-07-26T00:00:00",
          "2021-07-27T00:00:00",
          "2021-07-28T00:00:00",
          "2021-07-29T00:00:00",
          "2021-07-30T00:00:00",
          "2021-08-02T00:00:00",
          "2021-08-03T00:00:00",
          "2021-08-04T00:00:00",
          "2021-08-05T00:00:00",
          "2021-08-06T00:00:00",
          "2021-08-09T00:00:00",
          "2021-08-10T00:00:00",
          "2021-08-11T00:00:00",
          "2021-08-12T00:00:00",
          "2021-08-13T00:00:00",
          "2021-08-16T00:00:00",
          "2021-08-17T00:00:00",
          "2021-08-18T00:00:00",
          "2021-08-19T00:00:00",
          "2021-08-20T00:00:00",
          "2021-08-23T00:00:00",
          "2021-08-24T00:00:00",
          "2021-08-25T00:00:00",
          "2021-08-26T00:00:00",
          "2021-08-27T00:00:00",
          "2021-08-30T00:00:00",
          "2021-08-31T00:00:00",
          "2021-09-01T00:00:00",
          "2021-09-02T00:00:00",
          "2021-09-03T00:00:00",
          "2021-09-07T00:00:00",
          "2021-09-08T00:00:00",
          "2021-09-09T00:00:00",
          "2021-09-10T00:00:00",
          "2021-09-13T00:00:00",
          "2021-09-14T00:00:00",
          "2021-09-15T00:00:00",
          "2021-09-16T00:00:00",
          "2021-09-17T00:00:00",
          "2021-09-20T00:00:00",
          "2021-09-21T00:00:00",
          "2021-09-22T00:00:00",
          "2021-09-23T00:00:00",
          "2021-09-24T00:00:00",
          "2021-09-27T00:00:00",
          "2021-09-28T00:00:00",
          "2021-09-29T00:00:00",
          "2021-09-30T00:00:00",
          "2021-10-01T00:00:00",
          "2021-10-04T00:00:00",
          "2021-10-05T00:00:00",
          "2021-10-06T00:00:00",
          "2021-10-07T00:00:00",
          "2021-10-08T00:00:00",
          "2021-10-11T00:00:00",
          "2021-10-12T00:00:00",
          "2021-10-13T00:00:00",
          "2021-10-14T00:00:00",
          "2021-10-15T00:00:00",
          "2021-10-18T00:00:00",
          "2021-10-19T00:00:00",
          "2021-10-20T00:00:00",
          "2021-10-21T00:00:00",
          "2021-10-22T00:00:00",
          "2021-10-25T00:00:00",
          "2021-10-26T00:00:00",
          "2021-10-27T00:00:00",
          "2021-10-28T00:00:00",
          "2021-10-29T00:00:00",
          "2021-11-01T00:00:00",
          "2021-11-02T00:00:00",
          "2021-11-03T00:00:00",
          "2021-11-04T00:00:00",
          "2021-11-05T00:00:00",
          "2021-11-08T00:00:00",
          "2021-11-09T00:00:00",
          "2021-11-10T00:00:00",
          "2021-11-11T00:00:00",
          "2021-11-12T00:00:00",
          "2021-11-15T00:00:00",
          "2021-11-16T00:00:00",
          "2021-11-17T00:00:00",
          "2021-11-18T00:00:00",
          "2021-11-19T00:00:00",
          "2021-11-22T00:00:00",
          "2021-11-23T00:00:00",
          "2021-11-24T00:00:00",
          "2021-11-26T00:00:00",
          "2021-11-29T00:00:00",
          "2021-11-30T00:00:00",
          "2021-12-01T00:00:00",
          "2021-12-02T00:00:00",
          "2021-12-03T00:00:00",
          "2021-12-06T00:00:00",
          "2021-12-07T00:00:00",
          "2021-12-08T00:00:00",
          "2021-12-09T00:00:00",
          "2021-12-10T00:00:00",
          "2021-12-13T00:00:00",
          "2021-12-14T00:00:00",
          "2021-12-15T00:00:00",
          "2021-12-16T00:00:00",
          "2021-12-17T00:00:00",
          "2021-12-20T00:00:00",
          "2021-12-21T00:00:00",
          "2021-12-22T00:00:00",
          "2021-12-23T00:00:00",
          "2021-12-27T00:00:00",
          "2021-12-28T00:00:00",
          "2021-12-29T00:00:00",
          "2021-12-30T00:00:00",
          "2021-12-31T00:00:00",
          "2022-01-03T00:00:00",
          "2022-01-04T00:00:00",
          "2022-01-05T00:00:00",
          "2022-01-06T00:00:00",
          "2022-01-07T00:00:00",
          "2022-01-10T00:00:00",
          "2022-01-11T00:00:00",
          "2022-01-12T00:00:00",
          "2022-01-13T00:00:00",
          "2022-01-14T00:00:00",
          "2022-01-18T00:00:00",
          "2022-01-19T00:00:00",
          "2022-01-20T00:00:00",
          "2022-01-21T00:00:00",
          "2022-01-24T00:00:00",
          "2022-01-25T00:00:00",
          "2022-01-26T00:00:00",
          "2022-01-27T00:00:00",
          "2022-01-28T00:00:00",
          "2022-01-31T00:00:00",
          "2022-02-01T00:00:00",
          "2022-02-02T00:00:00",
          "2022-02-03T00:00:00",
          "2022-02-04T00:00:00",
          "2022-02-07T00:00:00",
          "2022-02-08T00:00:00",
          "2022-02-09T00:00:00",
          "2022-02-10T00:00:00",
          "2022-02-11T00:00:00",
          "2022-02-14T00:00:00",
          "2022-02-15T00:00:00",
          "2022-02-16T00:00:00",
          "2022-02-17T00:00:00",
          "2022-02-18T00:00:00",
          "2022-02-22T00:00:00",
          "2022-02-23T00:00:00",
          "2022-02-24T00:00:00",
          "2022-02-25T00:00:00",
          "2022-02-28T00:00:00"
         ],
         "xaxis": "x",
         "y": [
          1,
          0.991724630830945,
          0.9853301080718676,
          0.9667105274414939,
          0.9742334692878463,
          0.9894675707596161,
          0.9907840103843748,
          0.9836369863370017,
          0.9952978593198583,
          0.9866463751102427,
          0.9930411690764944,
          0.9981191289348247,
          0.9992476712980881,
          0.9872109791370429,
          0.9817566083757799,
          0.9819447028788567,
          0.9860823381529888,
          0.9958623647258679,
          0.9979312316733293,
          0.9984952439753854,
          0.9956742455675934,
          0.9994355932147811,
          1.0018806491683963,
          0.9909722035082424,
          0.9716005900383288,
          0.9753617157887374,
          0.9680270656870434,
          0.9556141598646469,
          0.9665226055248008,
          0.9796875441867371,
          0.9672747369851313,
          0.9712242777561868,
          0.9811921029697704,
          0.9776187758600663,
          0.9725405447945616,
          0.9757379294500887,
          0.9631372989525807,
          0.9702840271375817,
          0.9776187758600663,
          0.9810042796738679,
          0.9811921029697704,
          0.9770547635580104,
          0.9742334692878463,
          0.9710361832531099,
          0.9631372989525807,
          0.9527929888704713,
          0.9544857161221743,
          0.9426366746706478,
          0.9353016300857909,
          0.9401914954410445,
          0.9307879783918889,
          0.918563191727767,
          0.9095352966152186,
          0.8961822634502055,
          0.8956176594234051,
          0.8835807700207787,
          0.8976864277500759,
          0.8933607965936577,
          0.885837657505724,
          0.8805714798683284,
          0.8751174049694376,
          0.8899755639870305,
          0.8758697336713495,
          0.8837688891790532,
          0.8606356321995797,
          0.867594635709469,
          0.8777505800813272,
          0.8967461031658778,
          0.8943012197986464,
          0.8880948161978436,
          0.8805714798683284,
          0.8933607965936577,
          0.8867783519178871,
          0.8920444309344918,
          0.9053975873754935,
          0.9095352966152186,
          0.9189393067683276,
          0.9227005311395271,
          0.9020125520104477,
          0.9099116088973607,
          0.8954294662995377,
          0.9040810244747463,
          0.9127327059259432,
          0.9187509164028786,
          0.9426366746706478,
          0.9435770978756366,
          0.9526045985050223,
          0.9469625030686476,
          0.9398156762628559,
          0.9364304436562289,
          0.92608623219491,
          0.9311642906740308,
          0.918563191727767,
          0.9289071319819113,
          0.9279668813633063,
          0.9296595346494163,
          0.9343615027431742,
          0.9433889787173622,
          0.9240171680058672,
          0.9112280485221195,
          0.9053975873754935,
          0.9074664296677571,
          0.9215722846386359,
          0.9377468093153944,
          0.9354896506232748,
          0.9341733835848998,
          0.9332330590007016,
          0.9289071319819113,
          0.9424488513747454,
          0.9475268112330757,
          0.9567422337791543,
          0.9559901762844167,
          0.9578712199359759,
          0.9576825583633525,
          0.9544857161221743,
          0.9527929888704713,
          0.9494074850566696,
          0.960692218343768,
          0.9644536646117463,
          0.964077450950395,
          0.9665226055248008,
          0.9665226055248008,
          0.9627607154632642,
          0.9637016071170089,
          0.9580588706454946,
          0.954861831162735,
          0.9556141598646469,
          0.9388753270234601,
          0.9445175210806256,
          0.9302238674690422,
          0.9240171680058672,
          0.9379349038184713,
          0.9499716946003072,
          0.945834059326175,
          0.9544857161221743,
          0.9635131427859669,
          0.9783711045619784,
          0.986834666854901,
          0.9787474168441204,
          0.9785592976858459,
          0.9828849534974619,
          0.9755500075333957,
          0.9774307799777803,
          0.9741669742197117,
          0.9688226642608783,
          0.9627152759339457,
          0.9766482733139119,
          0.9611881576450381,
          0.9636693581184474,
          0.9625244447039268,
          0.9581346607231531,
          0.9671050845699168,
          0.965578138867393,
          0.9621427822438888,
          0.9522180296606467,
          0.9470644523110414,
          0.9506907141301576,
          0.9495457267500439,
          0.9579434596651691,
          0.9690135694564902,
          0.9779845603728005,
          0.97989287267299,
          0.9684410757664332,
          0.9770301083603335,
          0.959852067827731,
          0.9663416610290503,
          0.9732127194488263,
          0.9678684094899926,
          0.9642422216364696,
          0.9714949671714811,
          0.9623330710595588,
          0.9653873076373741,
          0.9714949671714811,
          0.959470479333286,
          0.9524085896834912,
          0.9554623578125505,
          0.9524085896834912,
          0.9487821306227936,
          0.9367580372677613,
          0.9445833504584227,
          0.9548900613640751,
          0.9697775600669034,
          0.965959801327431,
          0.9665322950174878,
          0.9816107235711259,
          0.9800839751101835,
          0.9764573434631021,
          0.9800839751101835,
          0.9900088263142163,
          0.9890542017153656,
          0.9865728286555725,
          0.9854278412754588,
          0.9888637403133119,
          0.9924897309252536,
          0.998215629378532,
          0.9959255559975138,
          0.9997429449090209,
          1.004323288912639,
          1.0005059986219225,
          1.0024145821292865,
          1.0092859364114346,
          1.0194016188454864,
          1.0264637057368626,
          1.0370557759004269,
          1.0306423672599292,
          1.0279210498163447,
          1.0283099609044997,
          1.0316142011867584,
          1.025977949032233,
          1.0376389946014732,
          1.0603777930733145,
          1.0516323479053524,
          1.0516323479053524,
          1.0456073572490558,
          1.034140446706323,
          1.0446355233222266,
          1.0543529996585996,
          1.0524095043913249,
          1.056102088692192,
          1.0566852087724476,
          1.0508548215914146,
          1.056102088692192,
          1.0578511530705867,
          1.0531871293260533,
          1.04891132632414,
          1.056296494925874,
          1.0615438359922444,
          1.051048759376341,
          1.0636820087003755,
          1.0677632328822229,
          1.0699011343831797,
          1.0695124945021992,
          1.0660140452278397,
          1.065041816817848,
          1.073399485036748,
          1.0712612137078263,
          1.0755374851584956,
          1.0796186846851454,
          1.077480684563398,
          1.077286574192088,
          1.0755374851584956,
          1.073399485036748,
          1.087586973367135,
          1.0827282228713497,
          1.0708726724476365,
          1.0838940932038958,
          1.0724274538683378,
          1.084088499437578,
          1.089724776247301,
          1.0914739392464863,
          1.0978876437493563,
          1.0984705912432282,
          1.1058561050177298,
          1.1147961536609554,
          1.1118805286044795,
          1.1149904612738468,
          1.1208210210412635,
          1.1118805286044795,
          1.1118805286044795,
          1.115573384112521,
          1.1235419686568826,
          1.115573384112521,
          1.1147961536609554,
          1.1206266148075814,
          1.1188770573252331,
          1.1263381392806142,
          1.1195204840190063,
          1.1284810950970947,
          1.1339355644791482,
          1.130429028299951,
          1.1060788400735426,
          1.1127023603086426,
          1.105884236598279,
          1.127701793608924,
          1.1241957998440755,
          1.1315978079458229,
          1.1329615608949237,
          1.1506884014726155,
          1.1608180140933548,
          1.1545847116718866,
          1.136273049805299,
          1.1551688672704445,
          1.142896200212434,
          1.135883473026807,
          1.1456236074898447,
          1.1477662920991507,
          1.157506155355014,
          1.1674411645004898,
          1.1754280678567255,
          1.171921531677528,
          1.1834149712129611,
          1.1917911554853167,
          1.1793240821936242,
          1.1830252218480852,
          1.195687367063797,
          1.1929604035799446,
          1.1917911554853167,
          1.2003626089232733,
          1.1923757795326306,
          1.1894536701591658,
          1.1945185874179252,
          1.201726361872374,
          1.2034794943583853,
          1.1917911554853167,
          1.2025054907741606,
          1.2108818476329002,
          1.2128298548013496,
          1.1972456988329634,
          1.1639348995284668,
          1.142311748751504,
          1.140753589568721,
          1.1284810950970947,
          1.1249744602971063,
          1.1000403137137214,
          1.1047152597108256,
          1.1150396483932121,
          1.0778330073382005,
          1.0811442990069946,
          1.0996505643488454,
          1.102377601798291,
          1.0844557879173704,
          1.08348205554032,
          1.1060788400735426,
          1.0850406831718586,
          1.106858141561713,
          1.1185461845724096,
          1.0986768319717952,
          1.0507556830415559,
          1.0774433565941153,
          1.0560513729505705,
          1.0715555967680883,
          1.07253684898043,
          1.0951065127962079,
          1.0956952049511386,
          1.1051156354659002,
          1.1088441423897826,
          1.1031526872476587,
          1.1135540987675878,
          1.1110029268431714,
          1.123170735345462,
          1.1182644249733582,
          1.153394383383245,
          1.1471141374654,
          1.1555529705950525,
          1.1528055186419306,
          1.16026290231766,
          1.16026290231766,
          1.1555529705950525,
          1.160851964300556,
          1.1649735983513958,
          1.1569267828648053,
          1.1478992082698267,
          1.136123885859354,
          1.1180681202894551,
          1.121011950892073,
          1.1161056405199692,
          1.1378899869793435,
          1.1506466602229486,
          1.1508428416308636,
          1.150057968068018,
          1.1302361260333271,
          1.1367126519798778,
          1.1371049408301144,
          1.1396562853409145,
          1.1506466602229486,
          1.1484879743903504,
          1.1339649041643838,
          1.1347500489344036,
          1.129058667757873,
          1.120226904742844,
          1.1045264008966207,
          1.112377133596087,
          1.126703701896569,
          1.1176757328184277,
          1.1051156354659002,
          1.1086481582234489,
          1.1108069180216402,
          1.099620090524517,
          1.1235633200580708,
          1.141422682323276,
          1.1406377101396399,
          1.1437777468053705,
          1.1685061950745375,
          1.1789075326288736,
          1.1745899637220958,
          1.1653657146152487,
          1.1698798347579067,
          1.1842065016791792,
          1.1845990863917881,
          1.2179621054049643,
          1.213252149027159,
          1.201084439145659,
          1.203427274649706,
          1.201261364844188,
          1.1987017361869687,
          1.2132719964612888,
          1.2057899575878823,
          1.1959454330178807,
          1.1967330433076684,
          1.1949608030434573,
          1.1880693301200052,
          1.1935825774933204,
          1.1731053509939828,
          1.169364615092053,
          1.1866913757770425,
          1.2055933077312118,
          1.2120908892165785,
          1.2140597793374601,
          1.204215057525877,
          1.2176038653827193,
          1.2278423800115972,
          1.2347338529350498,
          1.2323713425832568,
          1.2410345873221642,
          1.2176038653827193,
          1.226070608196142,
          1.2187851452138136,
          1.219572829469194,
          1.2237080238787563,
          1.2225261769781155,
          1.215044606553465,
          1.210712762287232,
          1.2128783022647847,
          1.2038210921221983,
          1.215044606553465,
          1.1933858043606613,
          1.2018522020013167,
          1.1967330433076684,
          1.201064591711529,
          1.2053961647705875,
          1.213665986520165,
          1.232174027036249,
          1.2302054327777392,
          1.2270548683426006,
          1.2197696765674464,
          1.2227231966627512,
          1.2209510796745289,
          1.2148471923856663,
          1.2138626610320336,
          1.2160287680791326,
          1.2154380295427947,
          1.2063808933658016,
          1.202443039158445,
          1.1965359989678348,
          1.1862974843389569,
          1.1998831146388536,
          1.1965359989678348,
          1.1963389546280014,
          1.1823595068556119,
          1.1782245096876311,
          1.1758619253702454,
          1.1762559154291217,
          1.171727125443846,
          1.190629229984399,
          1.183147018524609,
          1.1920652226626929,
          1.20124245430757,
          1.1948584839730982,
          1.2040358142387662,
          1.21281424806122,
          1.2185998614032718,
          1.2229890043489056,
          1.20124245430757,
          1.2056316712187969,
          1.2006440973151502,
          1.2042352994431698,
          1.2060308388691854,
          1.2006440973151502,
          1.2090238565911688,
          1.200843483898763,
          1.198649072684731,
          1.2022401515367622,
          1.201442136753555,
          1.2024398339827471,
          1.205033314226377,
          1.205033314226377,
          1.181291739554622,
          1.1583480070796908,
          1.1509664381368176,
          1.159145947897305,
          1.151964036745219,
          1.1597448719592716,
          1.1395944007947454,
          1.1176482669282155,
          1.1256286859674622,
          1.1252300114210272,
          1.141389940220761,
          1.1549564873976559,
          1.148971216264817,
          1.1701191134513607,
          1.1719149487397482,
          1.1659293570893396,
          1.1685231331953414,
          1.1826883332270284,
          1.173311517756957,
          1.173311517756957,
          1.1771020078477987,
          1.1878756635422534,
          1.183885145832659,
          1.1824888480226248,
          1.1874764219262717,
          1.1854812000542712,
          1.1673262219689202,
          1.1900701980322737,
          1.1820898776138176,
          1.2016416219579584,
          1.1938606881231155,
          1.186279239492676,
          1.174907103529813,
          1.1691219586365174,
          1.151764354299234,
          1.142387662105151,
          1.1549564873976559,
          1.1587471747300793,
          1.1467767803955873,
          1.133409718423096,
          1.1358036394967292,
          1.142387662105151,
          1.1500839299911716,
          1.1548820040454741,
          1.1672765664007991,
          1.1776715922245298,
          1.1810699660515187,
          1.188866901109654,
          1.1956635747980389,
          1.1916652167355832,
          1.1882668429085943,
          1.1804704749200057,
          1.1754725458333344,
          1.192465031348221,
          1.169075508244094,
          1.1658766935871019,
          1.1752728880425471,
          1.1708747212945636,
          1.1876670559147091,
          1.1880669878762258,
          1.1894664662067602,
          1.188466697940963,
          1.1868677097508273,
          1.1842686820877202,
          1.1770722736794004,
          1.183868972022983,
          1.1846683921524577,
          1.1802704226460556,
          1.1858681387266117,
          1.1864678024445088,
          1.1844687343616704,
          1.1840685311929795,
          1.1800705676136867,
          1.1786711632487454,
          1.1836690183698235,
          1.188666848835704,
          1.1992619022781872,
          1.1976627415016678,
          1.191065824224861,
          1.1962632385159355,
          1.1916652167355832,
          1.1798705153397366,
          1.189066287693267,
          1.1982623312539715,
          1.2060590444153276,
          1.2102570602685707,
          1.2102570602685707,
          1.2210519933986201,
          1.2182534805311094,
          1.2288488298359648,
          1.2260499224852914,
          1.2292485399007023,
          1.2332468979631577,
          1.2348461573604679,
          1.2354453526296088,
          1.2302483081664992,
          1.2290485862475429,
          1.2282486730141144,
          1.2322470064213722,
          1.231847296356635,
          1.228448996495239,
          1.2418425874604306,
          1.254837208016815,
          1.2524382079724603,
          1.249039562938297,
          1.2464613935724245,
          1.2512955874913236,
          1.2547201204830476,
          1.2529068786250999,
          1.2537127091059708,
          1.2676117316235382,
          1.2706333493748267,
          1.2696259626529476,
          1.26237444987782,
          1.258144258991609,
          1.261971436016594,
          1.2488785398422693,
          1.2525044318334204,
          1.261770077017167,
          1.261367334363115,
          1.2674100027961461,
          1.2561299539966064,
          1.2672088163831028,
          1.264187124666221,
          1.2726473831626548,
          1.2752658884319268,
          1.2712375496490962,
          1.2726473831626548,
          1.2807049236602348,
          1.2807049236602348,
          1.282316214794011,
          1.2651944127673096,
          1.2637843820121695,
          1.2668058025218767,
          1.248072610740608,
          1.2464613935724245,
          1.2394112397967239,
          1.2430371564430727,
          1.247871695534739,
          1.249079627634522,
          1.260158588641809,
          1.2643888534936132,
          1.263985839632387,
          1.2690216884130852,
          1.2746617867784482,
          1.2716404648895316,
          1.2710359934080877,
          1.265597328007745,
          1.268417389518025,
          1.2666047147296242,
          1.2660003418689711,
          1.2629791186008452,
          1.2595541171603652,
          1.263985839632387,
          1.268417389518025,
          1.2664028872814412,
          1.2607628628816714,
          1.2549214794824746,
          1.2442453350948321,
          1.25351117752016,
          1.2442453350948321,
          1.238403754454054,
          1.232361110676221,
          1.240821196586271,
          1.2236994685251623,
          1.2301453234058028,
          1.2271237056545143,
          1.220879407014882,
          1.2192678200187335,
          1.2280354548646049,
          1.2124446173376484,
          1.2201385676350875,
          1.206167675216292,
          1.2007004344418417,
          1.184097328463866,
          1.1741757564011241,
          1.1830851339784398,
          1.1853123859157775,
          1.1755933069915558,
          1.1891593857196947,
          1.1622298200227277,
          1.1425891936909618,
          1.1395518952339507,
          1.145424220906232,
          1.1470435989448462,
          1.1407668540650715,
          1.1500809220570551,
          1.1658742527225319,
          1.1685066881784911,
          1.1681014060390786,
          1.1766056000977727,
          1.1824776545628795,
          1.181262597110968,
          1.1923988321424586,
          1.194018974492201,
          1.2049527163851712,
          1.2375520159951088,
          1.235932070886948,
          1.2164940363144927,
          1.207989669669415,
          1.1984734783668762,
          1.1992834509209567,
          1.2069774751839888,
          1.211432151645048,
          1.2083949271536296,
          1.2134569104438655,
          1.2152791761041628,
          1.198878267402335,
          1.2081926312566909,
          1.1946263552869707,
          1.1865270735397238,
          1.1984734783668762,
          1.1984734783668762,
          1.1964485223264774,
          1.2009031248219433,
          1.1907792568622628,
          1.1842998955679793,
          1.1928040156610802,
          1.1913866376570323,
          1.1917913527268982,
          1.1913866376570323,
          1.17863035889659,
          1.178833024621494,
          1.1606097762937762,
          1.1636470007851942,
          1.150890722024752,
          1.1355023776363158,
          1.1363122515696054,
          1.147651275601988,
          1.1636470007851942,
          1.1723534907408268,
          1.176631660641717,
          1.172742697691354,
          1.1733567600446941,
          1.1819541507506064,
          1.1780647193514875,
          1.166601753640383,
          1.1641449125022785,
          1.1612794361178775,
          1.1467452710529562,
          1.134872412680474,
          1.14961114192052,
          1.1637356855312377,
          1.1594367559539036,
          1.1561613129425317,
          1.1643498465053685,
          1.1580039684513077,
          1.1647590734764093,
          1.1741752879523684,
          1.172742697691354,
          1.1782695793889846,
          1.1854341825923012,
          1.1825682131039466,
          1.1913705624681472,
          1.1928033499707429,
          1.189528276787336,
          1.1983304042547573,
          1.1778602537971532,
          1.1948502984474696,
          1.1987401982953445,
          1.199558726203019,
          1.2089750392997687,
          1.1985351656714638,
          1.1917800606463622,
          1.2005820155273996,
          1.1944410714764289,
          1.2040619487483037,
          1.21941474034169,
          1.2226899121458876,
          1.236609916236678,
          1.2388614288885298,
          1.2474588195944423,
          1.2425461974917331,
          1.2493013025168347,
          1.2501202002524743,
          1.2529860711200382,
          1.2493013025168347,
          1.2540095576860002,
          1.2507341886402212,
          1.2458217391238957,
          1.2482779145716631,
          1.241522710925771,
          1.2374287153515269,
          1.2163441327126174,
          1.2230996075656841,
          1.24541214232489,
          1.2388614288885298,
          1.2460259334710557,
          1.2495061378991341,
          1.272432661046087,
          1.2599458389410554,
          1.2798022229076915,
          1.2869666288694268,
          1.2861480023409617,
          1.2800165505410965,
          1.2720191194154529,
          1.2744798067643952,
          1.2742745768989328,
          1.2566389605526453,
          1.259099919108762,
          1.2683277678744698,
          1.2812467709395794,
          1.285347891865952,
          1.2962167412786367,
          1.300522845518495,
          1.302163476337507,
          1.2927304223615346,
          1.3031888366984925,
          1.308520547851313,
          1.3140572176624215,
          1.3015484770866552,
          1.30462426230724,
          1.3152877832336718,
          1.3236953042622748,
          1.3271816231793772,
          1.334973849094756,
          1.3364092747035035,
          1.3421508538625042,
          1.3282066876779905,
          1.3001126816499426,
          1.3120066941820316,
          1.3165180036321544,
          1.2980621581695528,
          1.2912949967527874,
          1.2859633842207574,
          1.3099559734600605,
          1.2900648010095022,
          1.294576110459625,
          1.3050343275550014,
          1.311391226482424,
          1.317133101503797,
          1.3169281675007067,
          1.317338503955643,
          1.3142622502863024,
          1.3191837236049775,
          1.3185688969405094,
          1.3064699257501327,
          1.3072902534872373,
          1.2992924525336285,
          1.2925254883584443,
          1.294576110459625,
          1.2898596697648306,
          1.2933455202331772,
          1.2800165505410965,
          1.2718139881707813,
          1.2660718172870362,
          1.2572541570450786,
          1.274889773391366,
          1.2804266157888582,
          1.2736596762688717,
          1.273864610271962,
          1.2714037256814383,
          1.2673022102719027,
          1.2716090541676912,
          1.2728391512901855,
          1.288629202814371,
          1.2990874199097477,
          1.288424342776874,
          1.288424342776874,
          1.2830539722740961,
          1.2531048598624452,
          1.2605407195506029,
          1.2706614809553762,
          1.2735531165045124,
          1.2553769842595548,
          1.2549639850432694,
          1.209111135990945,
          1.2227427728897067,
          1.2419515141237671,
          1.253724765497635,
          1.2605407195506029,
          1.256409864455832,
          1.2650844752408683,
          1.2665305272398144,
          1.2671499397710504,
          1.2648779386499291,
          1.2553769842595548,
          1.2524853487104186,
          1.2390599525402237,
          1.2316242900936476,
          1.2436041766792452,
          1.2500068849639514,
          1.2467018803705647,
          1.253724765497635,
          1.244016978653949,
          1.2487674681767351,
          1.2539309322606087,
          1.2436041766792452,
          1.2467018803705647,
          1.262812720671724,
          1.2357555396715814,
          1.2274935336196673,
          1.2322440971080466,
          1.233689877899818,
          1.2322440971080466,
          1.2210907513693683,
          1.2134484537110621,
          1.178955782850727,
          1.1444625449208456,
          1.0932394979521272,
          1.1130679475797953,
          1.1541701345229498,
          1.176270314064565,
          1.1779229766200432,
          1.1574748432539643,
          1.111415432955503,
          1.1304177362194148,
          1.1318634923559887,
          1.1004685251869732,
          1.1322762943306928,
          1.1355812989240792,
          1.1368204198489233,
          1.1378533986659911,
          1.1341352469251333,
          1.143636102694717,
          1.1613989645162148,
          1.155822723112835,
          1.131450246587727,
          1.1335157111179088,
          1.1165792915225397,
          1.1103827500008074,
          1.1066648694671242,
          1.1208229194914847,
          1.0982284032364484,
          1.0882784283859828,
          1.1129458550408993,
          1.1208229194914847,
          1.1342971082978819,
          1.1612446229787576,
          1.155855169352978,
          1.1753405912153678,
          1.1828032511034001,
          1.185497743691912,
          1.1859122468752556,
          1.1730602073270366,
          1.1682926070970627,
          1.1998010128305896,
          1.1998010128305896,
          1.1931676058612208,
          1.1877782262010341,
          1.1925457278102174,
          1.2107875168465885,
          1.2223958989135908,
          1.217835229757719,
          1.208921611486403,
          1.2138969810671998,
          1.1985570841421984,
          1.197105953172531,
          1.2045686130605635,
          1.20829983205619,
          1.2027030775283432,
          1.2051902938699857,
          1.1987643603890679,
          1.1875706540917927,
          1.1908873205936803,
          1.1981426795796457,
          1.1888144101938,
          1.1796936142964052,
          1.192338352942557,
          1.1935822816309483,
          1.202495406798311,
          1.2091291096300516,
          1.215969521639115,
          1.211616399937287,
          1.2182498069066556,
          1.2126528551372273,
          1.2033249555793468,
          1.1975206289422584,
          1.2174204553672012,
          1.2066415234604437,
          1.1954479157839593,
          1.203117851918861,
          1.1933749067632882,
          1.178242384705947,
          1.1707800206802867,
          1.1753405912153678,
          1.1548186155322469,
          1.1633173607922545,
          1.1616591261621012,
          1.1865345933750153,
          1.1730602073270366,
          1.1682926070970627,
          1.1756919770926586,
          1.1842859900364895,
          1.196442974907,
          1.1880588763161901,
          1.1861721126587699,
          1.203779227596543,
          1.1960236886153073,
          1.1878489619631691,
          1.1685650716865899,
          1.1746435887770428,
          1.1524252615281603,
          1.1295778569105523,
          1.1105039796077847,
          1.116582373422249,
          1.1138575056301994,
          1.101909498215198,
          1.1163727549316005,
          1.0780144449379045,
          1.0903813441614358,
          1.0572632498819818,
          1.058730357419744,
          1.0970887660342306,
          1.0790624634255552,
          1.0918484763543956,
          1.0872372886984838,
          1.0943638982421806,
          1.117001585748349,
          1.1115516282674702,
          1.093525325658795,
          1.0918484763543956,
          1.0943638982421806,
          1.076547214124154,
          1.0729837737487185,
          1.056005489627694,
          1.0451061663906804,
          1.0304333651492221,
          1.0402848671401665,
          1.0648090470965805,
          1.0775952326118048,
          1.0778044073088953,
          1.0729837737487185,
          1.0956213626340963,
          1.078224088083751,
          1.0815777866925493,
          1.090590716100108,
          1.0843029503469714,
          1.0778044073088953,
          1.1048441077738849,
          1.1205649275029939,
          1.1318837342732815,
          1.1471852430555,
          1.141945051996456,
          1.1274819925216348,
          1.1323029959097766,
          1.1295778569105523,
          1.1582945053007319,
          1.1564079142296957,
          1.143531416725381,
          1.1542442480471666,
          1.1649567835065802,
          1.1636966563533153,
          1.1647469431191522,
          1.1693679188885417,
          1.1531940599021204,
          1.1477323418919496,
          1.1580251226109144,
          1.169157979880323,
          1.1746195006489124,
          1.1609658713138231,
          1.141221027461477,
          1.1355495923398669,
          1.1134938907748608,
          1.132608868292156,
          1.1208457748597311,
          1.1441617515091878,
          1.1418509924173186,
          1.1655872169111776,
          1.1916339046345337,
          1.1952048648452607,
          1.1916339046345337,
          1.2025566503093401,
          1.2178905313661084,
          1.22230166674807,
          1.2162101070580458,
          1.2202013890787682,
          1.2138997177941417,
          1.2134793959841468,
          1.2075979232335272,
          1.1758799976301424,
          1.1664273674272145,
          1.1838621918436218,
          1.167687667166863,
          1.1540343090389482,
          1.1592855209713537,
          1.16159620609763,
          1.159495632565956,
          1.1832314872318497,
          1.1689482627688839,
          1.1718887895750132,
          1.1569749344658682,
          1.1706287856977367,
          1.1653771792821683,
          1.1603357091164,
          1.1525637990839066,
          1.1605461165733744,
          1.1586553834291282,
          1.1647469431191522,
          1.1737794240984685,
          1.1739893384514895,
          1.17293907634085,
          1.178820425815481,
          1.1771401001282096,
          1.173569115262285,
          1.1840717363686775,
          1.197725291738174,
          1.2061274379336835,
          1.2128493324075142,
          1.20066638561385,
          1.179660970814681,
          1.159495632565956,
          1.1532897960346997,
          1.161550199498765,
          1.1543486381541306,
          1.1545605249229653,
          1.1795539426015658,
          1.1869669469214768,
          1.1833660553007703,
          1.2081476601761283,
          1.1509598551990379,
          1.1399455894304549,
          1.1634565393831404,
          1.1791299471671166,
          1.180401169159336,
          1.1816719966683924,
          1.1763765779665523,
          1.1770120903418713,
          1.1776475040963994,
          1.1905680111285672,
          1.2119604385656702,
          1.2242448661529723,
          1.2206444676362191,
          1.2274221321671952,
          1.2238214624432675,
          1.228481270148998,
          1.2176790144252383,
          1.2272105166055345,
          1.2208561818186705,
          1.2248806743906635,
          1.2219150239381014,
          1.2272105166055345,
          1.2299637132197152,
          1.2293283980859777,
          1.2483910572738024,
          1.2486027714562535,
          1.235258934679974,
          1.23165843754243,
          1.2411895945499587,
          1.2469083429959107,
          1.2530506923931493,
          1.2615230072812469,
          1.2657592880012842,
          1.274866819402329,
          1.2674537411168247,
          1.2763498295425928,
          1.2668184013278896,
          1.26957159794207,
          1.2697835833316957,
          1.2636410613480737,
          1.2647000760538885,
          1.2689362828083326,
          1.2668184013278896,
          1.264276549068195,
          1.253262677782775,
          1.256439771210614,
          1.254109904340545,
          1.2507209241438713,
          1.2604641651618163,
          1.2674537411168247,
          1.2833391342904268,
          1.2890579813571696,
          1.2801620655177854,
          1.2545335052918314,
          1.2630055489727547,
          1.2343728761858626,
          1.2326725058228798,
          1.2450012388004073,
          1.2375617054877959,
          1.2422379828655745,
          1.2547795641646464,
          1.2894278832879156,
          1.3009067516015216,
          1.285814023033231,
          1.2777367337223118,
          1.2926162441410929,
          1.2981431258387237,
          1.2862392265723661,
          1.287727414304142,
          1.28645197627312,
          1.2779490149743098,
          1.2879396955561397,
          1.2834759706375334,
          1.2798625048660115,
          1.2873022107650067,
          1.2649825999640676,
          1.2679585069788633,
          1.2637073591746268,
          1.2641325627137623,
          1.2647699488841047,
          1.2764613943120804,
          1.2817752304465853,
          1.2841134554286666,
          1.282200631227302,
          1.2828382146392256,
          1.2853891893220608,
          1.2800748600836023,
          1.2743355245475902,
          1.2743355245475902,
          1.2758233424514007,
          1.2709345126144498,
          1.2622190728220604,
          1.2654077295376098,
          1.2528663454801192,
          1.2685961890115778,
          1.2719973981862995,
          1.256267554654841,
          1.254354064763139,
          1.2520163082298137,
          1.248827454272683,
          1.2530788979392915,
          1.2424506339455375,
          1.2541418821319321,
          1.2411753931560967,
          1.248827454272683,
          1.2581804774769962,
          1.2590308105896737,
          1.2545669870502767,
          1.2603062486206957,
          1.2634945108530824,
          1.2583930299361685,
          1.2541418821319321,
          1.2545669870502767,
          1.2564801071140133,
          1.2613688383301735,
          1.279649755165258,
          1.2875145906377952,
          1.2883650963368565,
          1.2800748600836023,
          1.2930416449218096,
          1.2692339450098853,
          1.2679585069788633,
          1.2590308105896737,
          1.264557495045723,
          1.2667750574903736,
          1.2613927292167224,
          1.2573023086461415,
          1.2585938465212465,
          1.2555797486052493,
          1.2555797486052493,
          1.252781137116948,
          1.251274038848554,
          1.2635454978018783,
          1.2857206291444307,
          1.294332319864996,
          1.2902418992944151,
          1.2949781874233393,
          1.2951936491958376,
          1.307895661866193,
          1.3070346283977234,
          1.3113401409128376,
          1.3044509116123737,
          1.3001453990972598,
          1.2994990877453583,
          1.3044509116123737,
          1.3046662007984882,
          1.3106945692168663,
          1.3223201606118473,
          1.3223201606118473,
          1.3139239316637803,
          1.3106945692168663,
          1.3128474117676152,
          1.3190910693721078,
          1.3218897794812,
          1.3287791074024544,
          1.3229661021357837,
          1.3199521274957748,
          1.3249036801556158,
          1.3253343571486353,
          1.3356686079100926,
          1.3399741204252065,
          1.3367446593575019,
          1.3421269629759554,
          1.339758831239092,
          1.339328277522061,
          1.350092810793375,
          1.3524609425302383,
          1.3535374624264034,
          1.3457870024158889,
          1.341696507879715,
          1.3410504430797903,
          1.3537527516125178,
          1.339328277522061,
          1.338682311342927,
          1.336098693178368,
          1.338682311342927,
          1.3315778175115465,
          1.3317930820424633,
          1.344495217988807,
          1.3505234877863945,
          1.343418599471851,
          1.3640868297875914,
          1.3608572700990957,
          1.365808822758937,
          1.3690382838266415,
          1.3571972306591624,
          1.358211298939612,
          1.3577797836698715,
          1.3666246385948668,
          1.3648987747574859,
          1.376548084452632,
          1.3799996888514054,
          1.3748221219944605,
          1.3651144337715655,
          1.3685660628255365,
          1.3648987747574859,
          1.358426859332901,
          1.351955239770688,
          1.3508769200450925,
          1.3487193683515872,
          1.351955239770688,
          1.3497979592843572,
          1.342894824452404,
          1.3567012913578922,
          1.3465619152788728,
          1.3409532029801525,
          1.3530340032898416,
          1.3573483670209217,
          1.3672717142578963,
          1.3754692962782806,
          1.3748221219944605,
          1.3780582646207356,
          1.3754692962782806,
          1.3819412117028658,
          1.3862555754339456,
          1.3825881887451044,
          1.3834512192845856,
          1.3884131271274507,
          1.3935903241564305,
          1.389923405916345,
          1.3877659528436306,
          1.3866871646692793,
          1.3884131271274507,
          1.3942373011986693,
          1.3959634362432245,
          1.3843142498240668,
          1.3886286875207396,
          1.3996305270696934,
          1.4022194954121485,
          1.4039453592495292,
          1.4039453592495292,
          1.407396791061919,
          1.4069653744129689,
          1.405670927224538,
          1.4058865862386176,
          1.415810032096383,
          1.4386770129409463,
          1.4334997419463735,
          1.4322051961371518,
          1.430695188555432,
          1.4334997419463735,
          1.4259490383474371,
          1.423792324930653,
          1.4380300358987075,
          1.439971558750168,
          1.4261649932238887,
          1.4296164250362784,
          1.4358727554123767,
          1.428969349373249,
          1.4244486216376135,
          1.4298821094464442,
          1.4307517229237052,
          1.4314035077294909,
          1.4261874541089725,
          1.437923944583104,
          1.4272741319465805,
          1.4300996669107449,
          1.4244486216376135,
          1.4235794026435156,
          1.4111910533980052,
          1.4120602723921032,
          1.4133643104524305,
          1.4211886867455803,
          1.4307517229237052,
          1.43531596708324,
          1.4459655824781823,
          1.4424881887426388,
          1.4503122938286142,
          1.459223175372988,
          1.4637871483253488,
          1.464004878376033,
          1.4631352648987723,
          1.4611796392742407,
          1.4685690485699752,
          1.4670473790797542,
          1.4659605040005648,
          1.4694382675640731,
          1.4790014763285817,
          1.4757411716085833,
          1.4744367637202909,
          1.4753060813351795,
          1.4766103166370883,
          1.4731330954879287,
          1.464004878376033,
          1.4450958950353283,
          1.4450958950353283,
          1.4559629446185827,
          1.454224112147224,
          1.464004878376033,
          1.4505295554305428,
          1.4572672785412821,
          1.4566151978731243,
          1.464004878376033,
          1.4624833075066028,
          1.4594405355957074,
          1.4661781354304584,
          1.4657436122266014,
          1.4607447462424186,
          1.4609617366371725,
          1.4718291807035897,
          1.4731330954879287,
          1.4579190386918701,
          1.4646569343889932,
          1.4748718539936945,
          1.4742198719463275,
          1.4842172340867281,
          1.4846519545321666,
          1.4811742895894489,
          1.4822612386342313,
          1.4846519545321666,
          1.4874775634619242,
          1.4950843083251801,
          1.4922470374869212,
          1.4850444406239847,
          1.4856989375015148,
          1.4837350277305636,
          1.481551809976277,
          1.4804611873070408,
          1.4830800624042777,
          1.4885364055813548,
          1.4891912722868503,
          1.4961756953055445,
          1.4948660112049492,
          1.4963935239770194,
          1.4942113170858375,
          1.4955210751520258,
          1.5077436181931592,
          1.5127633671297742,
          1.5164737278281664,
          1.5334981911344396,
          1.5382997415716146,
          1.5372086504536224,
          1.5365540549553014,
          1.530442549210357,
          1.534152983874342,
          1.5345893069076295,
          1.5431016618367546,
          1.5313154418289088,
          1.5348079738558256,
          1.5483398065143914,
          1.5446294458159995,
          1.552923528280091,
          1.5658008640611267,
          1.5690750989678126,
          1.5688563333988257,
          1.5710391073595544,
          1.5758406577967292,
          1.588281399337303,
          1.5773684417759741,
          1.5703841173780706,
          1.565364097234281,
          1.5588163670768396,
          1.5509589774740005,
          1.570820982825707,
          1.5625266291544408,
          1.5688563333988257,
          1.5852256341372317,
          1.587845174924806,
          1.5950476978221497,
          1.5847896069663163,
          1.593301518101883,
          1.587845174924806,
          1.5876266065974005,
          1.5812974694225623,
          1.5699476217583994,
          1.5727849912174487,
          1.5592529613173016,
          1.5647091072527974,
          1.572130395719128,
          1.578241704222491,
          1.5817340390078267,
          1.592428724104122,
          1.586099192446121,
          1.5869721836854633,
          1.6024685918053176,
          1.5909908576308047,
          1.5920957803146936,
          1.5934230435712324,
          1.6000576586452873,
          1.5998366247981142,
          1.6049229674236545,
          1.6082405708230538,
          1.6122212264535776,
          1.625048808045701,
          1.643404208232967,
          1.6524715763169961,
          1.6588850096126917,
          1.663529284543886,
          1.664414134933311,
          1.665298788081155,
          1.6772409522143068,
          1.6860873111063606,
          1.6816642426087232,
          1.6947120937368918,
          1.6847600478498213,
          1.6940486470226048,
          1.696924577210821,
          1.7059910083973382,
          1.712183383190663,
          1.7068758341315657,
          1.7216931887970037,
          1.7090875779495647,
          1.6907314134511708,
          1.6887412705498916,
          1.6907314134511708,
          1.6557891797163957,
          1.5912116695811989,
          1.6221732723406477,
          1.5938652591967646,
          1.5485285667078057,
          1.5655577391568352,
          1.5918751162954856,
          1.5854613378270224,
          1.6126642063902379,
          1.6237215447891622,
          1.6367697657452962,
          1.6230577282469103,
          1.6139909272324278,
          1.6197403220890922,
          1.6425195550851235,
          1.6615391416426069,
          1.634337012735322,
          1.6210679551735963,
          1.5927595968569455,
          1.6035962712366623,
          1.6060290242466364,
          1.6230577282469103,
          1.6137696961436732,
          1.6190772452027706,
          1.6361061464446256,
          1.6376546161347212,
          1.6314618468582336,
          1.6389813123217136,
          1.6356639061638956,
          1.6292501276954325,
          1.6080195369758805,
          1.615981070133707,
          1.6197403220890922,
          1.5943080665470413,
          1.5598076786098336,
          1.590243706520405,
          1.582490608403739,
          1.5944523487638464,
          1.615938934400877,
          1.5855916898571403,
          1.6057491384426086,
          1.6057491384426086,
          1.612394848355618,
          1.5895791256670249,
          1.6041987703022917,
          1.6163822841655027,
          1.6130594292089981,
          1.6132808328841362,
          1.6128383953618248,
          1.617046667777301,
          1.6210339063456043,
          1.6334388238839535,
          1.6247993960660019,
          1.617711248630681,
          1.6132808328841362,
          1.607743226175516,
          1.6097367468388772,
          1.6234706041872071,
          1.6261291001871108,
          1.6214769109374625,
          1.6197049665356236,
          1.617046667777301,
          1.6197049665356236,
          1.627457867410708,
          1.6234706041872071,
          1.6254643220921494,
          1.6188188094207214,
          1.6343246111708902,
          1.6427424627273202,
          1.646064750614278,
          1.6279010445889495,
          1.6363183290758327,
          1.6323310658523318,
          1.6272362664939881,
          1.6352107682857924,
          1.6307805251256313,
          1.627457867410708,
          1.619483735446869,
          1.615938934400877,
          1.6008759153457872,
          1.6121736419220611,
          1.6035347565184581,
          1.6172680714524394,
          1.6272362664939881,
          1.624356785957307,
          1.6349891673690726,
          1.6307805251256313,
          1.63255246952747,
          1.6383120469807753,
          1.6265717102958057,
          1.6216986844405659,
          1.6157177033121226,
          1.6035347565184581,
          1.5942311423302895,
          1.574294900178378,
          1.5778384931196836,
          1.5678707665268905,
          1.582019768093704,
          1.5610420164263283,
          1.5684064993172113,
          1.5527846208963796,
          1.5603723812574244,
          1.5617118488368136,
          1.5344849907662585,
          1.531807041815388,
          1.534262083124062,
          1.545643514096449,
          1.5659517292157115,
          1.559702721433323,
          1.5331460656012188,
          1.5425189362396616,
          1.5525616146333923,
          1.549883493096138,
          1.5576943336857632,
          1.5581406913845048,
          1.55166877595992,
          1.5617118488368136,
          1.5608187389561665,
          1.5697454984478445,
          1.5831350459606168,
          1.5804569983889554,
          1.5860367408304055,
          1.5793413753492747,
          1.5742086562969042,
          1.5762172412860458,
          1.5632735090576664,
          1.5648358103136588,
          1.5547930086439397,
          1.5695221470120897,
          1.5697454984478445,
          1.5659517292157115,
          1.5416265660149453,
          1.528013741032011,
          1.5351547492111508,
          1.518417223095441,
          1.527566988850106,
          1.536493748341784,
          1.5398410859095817,
          1.5440812374956543,
          1.5480982841979487,
          1.5371633095450947,
          1.5478751053485778,
          1.5677367408723193,
          1.56461260680909,
          1.5744321310086473,
          1.5599261961450661,
          1.5592565363209647,
          1.5434119474995178,
          1.5257818785727078,
          1.5233268372640334,
          1.5090443771121955,
          1.5119454062916464,
          1.514623453863308,
          1.5204255122222101,
          1.5315838629660168,
          1.5436348551417145,
          1.5402875422291145,
          1.5697454984478445,
          1.5775560678302951,
          1.5853671056615015,
          1.5880449559915817,
          1.5804569983889554,
          1.5909460837918235,
          1.5968801953894831,
          1.5950888966574677,
          1.5921772164326204,
          1.5966567453329377,
          1.5856836783996724,
          1.5729193866999853,
          1.549853956169321,
          1.5482868718049791,
          1.547838615656016,
          1.540896525611733,
          1.501707927181071,
          1.4752835218293052,
          1.4858086038207814,
          1.4817779967597646,
          1.5059626499889704,
          1.5019318703415698,
          1.4779710616520725,
          1.4849127572131926,
          1.4813300364731736,
          1.4618475978897025,
          1.4177322745832601,
          1.4331838102433423,
          1.4119100729278558,
          1.399817512088875,
          1.421986898770369,
          1.4345274445511385,
          1.4470679656767105,
          1.456025125027124,
          1.4558013791082063,
          1.4672220365000972,
          1.487600198415169,
          1.4730443121210943,
          1.4566972996813883,
          1.4399018585063352,
          1.4410218455160049,
          1.439678013966627,
          1.4555774359477072,
          1.4569210702555035,
          1.4443808203371062,
          1.4181801609042581,
          1.4392298564384547,
          1.4322881608773346,
          1.4553532215800338,
          1.4564729866929242,
          1.479986204923796,
          1.4710291688493708,
          1.4692374756341928,
          1.4945419186314868,
          1.4448283121749412,
          1.4392298564384547,
          1.4253461694538423,
          1.4143732997621588,
          1.4141491593600783,
          1.4302725245016574,
          1.4291529319751508,
          1.4098946337937601,
          1.4013851635227632,
          1.4054157705837802,
          1.3868292772286888,
          1.3792155795996879,
          1.346297143111021,
          1.3363726863901508,
          1.3630046638511581,
          1.3780277907964071,
          1.384856269689795,
          1.3800764404817734,
          1.3800764404817734,
          1.3677847642663543,
          1.4137643163795401,
          1.4183170958721554,
          1.4230969004249792,
          1.4376648431107177,
          1.444266075047118,
          1.4328849152819054,
          1.4258283758100065,
          1.4408514041344647,
          1.4499566919125209,
          1.451322146070261,
          1.46634527301551,
          1.4388029516906797,
          1.4417621178262527,
          1.4490460768415232,
          1.469076920986921,
          1.45837868554216,
          1.4601996198217828,
          1.4809131910460507,
          1.4818238061170483,
          1.4738568488157333,
          1.4827341253256736,
          1.4957085286199632,
          1.4795473670603452,
          1.4633861068799368,
          1.4547365211205423,
          1.4545091015771707,
          1.4768159902961087,
          1.4788645413606842,
          1.47863704785172,
          1.494798209411338,
          1.4984400779705833,
          1.50322027700657,
          1.5000336173620326,
          1.508000377421766,
          1.5148290535567355,
          1.5168778758284855,
          1.5098210404942145,
          1.4945706912471757,
          1.5025372787205253,
          1.4977575481332945,
          1.4979845978487007,
          1.4932046700198887,
          1.4747675378523237,
          1.4702149556012898,
          1.4868315233171971,
          1.4891077651323186,
          1.4916115251116022,
          1.4795473670603452,
          1.4945706912471757,
          1.5000336173620326,
          1.499123002291035,
          1.5002612094917878,
          1.5095939168132153,
          1.4872866336111146,
          1.4906162687469802,
          1.502931638607367,
          1.495633675439816,
          1.499510680619306,
          1.502019618190102,
          1.5243695055737883,
          1.5179837354098862,
          1.5280182529331858,
          1.526422100090783,
          1.5291589996192991,
          1.5257378690448546,
          1.5147909612763246,
          1.5207205609728094,
          1.51273836675933,
          1.5241416175816611,
          1.5243695055737883,
          1.5291589996192991,
          1.5305272891247723,
          1.5257378690448546,
          1.521860839210167,
          1.5287026812206956,
          1.510913931441637,
          1.5118262477212743,
          1.5202647849885547,
          1.5280182529331858,
          1.520492672980682,
          1.5147909612763246,
          1.5175279594256315,
          1.5325796864001855,
          1.5122822949127033,
          1.4894760644752156,
          1.482405989299792,
          1.4694064870142678,
          1.4808096392158079,
          1.4438635296346478,
          1.4595999561038862,
          1.4659855290262067,
          1.4689506124092224,
          1.4586875412034583,
          1.4564070586943363,
          1.4684942693554213,
          1.4611963061878703,
          1.4520736118402544,
          1.465073409988151,
          1.4564070586943363,
          1.4509334322236875,
          1.4545823521694687,
          1.4445477606805763,
          1.4504773603770609,
          1.4655293585587894,
          1.464160995087723,
          1.4682661841217124,
          1.4835466620203124,
          1.4915284864058267,
          1.4999670236731073,
          1.4835466620203124,
          1.4814937716409455,
          1.4739677232396862,
          1.477025732062746,
          1.4940400374275764,
          1.5069158692415536,
          1.523930174606384,
          1.5112842278555458,
          1.5122039653496837,
          1.5055362136899513,
          1.5080653685228422,
          1.5177220944521392,
          1.5193315117908923,
          1.5338169335300063,
          1.5370355956211283,
          1.5423240615572238,
          1.5354262769031661,
          1.5227803054971303,
          1.5103647615685825,
          1.5191017253485437,
          1.5234702812041174,
          1.5262292964449498,
          1.5262292964449498,
          1.5177220944521392,
          1.5163426114869207,
          1.5177220944521392,
          1.5225506176755725,
          1.5236998457496869,
          1.5324373765991948,
          1.5326673356279268,
          1.5177220944521392,
          1.519791331227566,
          1.5142732021251104,
          1.5059958605402413,
          1.4974889297546052,
          1.4908210301636866,
          1.4784053876143481,
          1.4312709860419777,
          1.4446067359134194,
          1.4510446025100125,
          1.4657596134498936,
          1.4510446025100125,
          1.43517969780568,
          1.4519641427625691,
          1.4163260900389574,
          1.4280520527436809,
          1.4441469904423387,
          1.4475957101829837,
          1.4496649469584104,
          1.455182977440075,
          1.4480554309988667,
          1.4285119708011453,
          1.4439167602064322,
          1.4402381060922524,
          1.4427672609251434,
          1.4531138392854392,
          1.4590916892037775,
          1.4563327725837358,
          1.4735770369772985,
          1.4887518673538531,
          1.4951897339504463,
          1.5027771984491192,
          1.5064558772184964,
          1.5193315117908923,
          1.5292186405424795,
          1.5418640448789687,
          1.5315175651394637,
          1.536116129334165,
          1.5301380082086522,
          1.537725472707325,
          1.5338169335300063,
          1.5338169335300063,
          1.532939800217454,
          1.5340938360551153,
          1.535248217065544,
          1.5172432658580568,
          1.5246298398060583,
          1.5144733283646534,
          1.4955452619009468,
          1.5057017486871538,
          1.5181665783558578,
          1.5103183111761593,
          1.5001616271483709,
          1.5123958320980053,
          1.5174741617843006,
          1.5343247319813589,
          1.528784585787378,
          1.5481746660003517,
          1.5484052660642236,
          1.5479434742117357,
          1.5417114785157442,
          1.5557919386330157,
          1.5580999856531406,
          1.5634092112656799,
          1.5643322525563066,
          1.5664101433061175,
          1.5733350979880152,
          1.5731038322338062,
          1.577720567309195,
          1.5740272433523979,
          1.5943404141663933,
          1.6035735144892065,
          1.6051893421793553,
          1.604266103647147,
          1.6153458289655622,
          1.609805584150791,
          1.6056509367902614,
          1.604957953149158,
          1.5980336641575976,
          1.5931858359143833,
          1.6044969256077983,
          1.6056509367902614,
          1.6040351337553103,
          1.592493419342826,
          1.5881079500216462,
          1.5906473614167707,
          1.6054203120711923,
          1.6035735144892065,
          1.6081899783574212,
          1.5915702054658156,
          1.5869539388391827,
          1.5825680996900375,
          1.5968794557335528,
          1.5943404141663933,
          1.6102675732448601,
          1.6019580812822203,
          1.6014958949465694,
          1.6111909843634518,
          1.6252717156878977,
          1.6275797627080222,
          1.6377364467358109,
          1.6365820410701843,
          1.6331194157980498,
          1.632427196468074,
          1.6328889883205615,
          1.6314594059936638,
          1.6281781197004424,
          1.634271750427071,
          1.6359124059012808,
          1.6244278668922092,
          1.6307564616526984,
          1.6459906370900614,
          1.6246624364429068,
          1.6284124920095586,
          1.6305216948604195,
          1.6345057529082225,
          1.644818381061317,
          1.6427091535552587,
          1.656068325864493,
          1.6572402120652725,
          1.6516149561289113,
          1.6595838118804473,
          1.660755895322808,
          1.6452873229211311,
          1.653958925772051,
          1.6525526672621556,
          1.6431777255871074,
          1.6047408887888108,
          1.6166939751745335,
          1.6115376610979864,
          1.6028658610054847,
          1.5721634090288172,
          1.5843505718612843,
          1.612006405716219,
          1.6270058390165003,
          1.6363807806915482,
          1.6173971167570802,
          1.61763092199665,
          1.6286466917322915,
          1.634271750427071,
          1.6171627197927663,
          1.6136472584320096,
          1.5913815438931924,
          1.5925534300939717,
          1.5738038672614454,
          1.5620854243920135,
          1.5027894274271667,
          1.4952894395698517,
          1.5009143996438408,
          1.459899220893288,
          1.4554463196064615,
          1.4692741379131382,
          1.4542744334056823,
          1.487320781059897,
          1.4591962765523225,
          1.4420869747108434,
          1.3513854581523757,
          1.4052908673523492,
          1.343885568915851,
          1.1992783719502353,
          1.261620987036815,
          1.1432635626578196,
          1.2147469196967144,
          1.1606072368084153,
          1.1664662979843463,
          1.1643570951334856,
          1.1381479789678344,
          1.2298092730614671,
          1.2593472847070541,
          1.3137346044008198,
          1.283259004897977,
          1.3144378446041571,
          1.293104934814246,
          1.2330912250450259,
          1.2591127151563561,
          1.2305126858511883,
          1.3045919146878877,
          1.3102182061425516,
          1.3132657611617964,
          1.3336609598184628,
          1.330379007834904,
          1.359682449929793,
          1.3308479743499158,
          1.330613404799218,
          1.3538216875452223,
          1.3301446355257878,
          1.307170626468109,
          1.3331921165794394,
          1.336005299289568,
          1.3465544694091744,
          1.364371153527201,
          1.3770300935672148,
          1.407036948451825,
          1.3746858527169004,
          1.3411627475052084,
          1.344913271520616,
          1.3568693658404554,
          1.346085626170151,
          1.3662463538969105,
          1.3864071802444609,
          1.39367459562209,
          1.3765612503281914,
          1.379374334417529,
          1.368590594747225,
          1.365543138348771,
          1.4091466197514415,
          1.3960187378516138,
          1.4203993999023505,
          1.4014106569971612,
          1.3927367119024618,
          1.4414978387623545,
          1.4536881081497288,
          1.4663471468105334,
          1.457907845232125,
          1.490258965622247,
          1.50690317181475,
          1.5305806183173474,
          1.5153425720139493,
          1.5488661210191994,
          1.5673858234437843,
          1.554492141266689,
          1.558008465559364,
          1.4808815830826292,
          1.5047934018943427,
          1.4909621072047936,
          1.5153425720139493,
          1.5240165171086486,
          1.52120333439852,
          1.5125294632694137,
          1.528080803169692,
          1.5327864202327062,
          1.5036126644775976,
          1.514905706566313,
          1.5017306839285267,
          1.5059654853367033,
          1.497495808554757,
          1.5003189766199445,
          1.5146704713252777,
          1.538432928949465,
          1.5189053466990474,
          1.523610791175678,
          1.5094946056769727,
          1.523139950865643,
          1.5146704713252777,
          1.5294925104782742,
          1.545961245628911,
          1.5271399115159474,
          1.5327864202327062,
          1.5372564322267201,
          1.5452555645610035,
          1.5414914062212806,
          1.5320805419232173,
          1.5290217934442274,
          1.5546665028246598,
          1.5469023098690393,
          1.5572544356488123,
          1.5379622858810111,
          1.505495039509831,
          1.5287865582031923,
          1.5469023098690393,
          1.553725611170915,
          1.5574894736482658,
          1.552784349689205,
          1.5629006731583968,
          1.5732527989381697,
          1.6043086338631398,
          1.596074167667031,
          1.5946622631168674,
          1.6043086338631398,
          1.6017206763837897,
          1.595132906185321,
          1.5838398887518033,
          1.581016622065825,
          1.5986619279047996,
          1.6021911468658596,
          1.6078374583410369,
          1.5944269539102391,
          1.6076025189623742,
          1.5986619279047996,
          1.6047790796900123,
          1.621718433253905,
          1.58972170667519,
          1.5958388584604026,
          1.5826634659946515,
          1.5972503931826014,
          1.5852515960603855,
          1.6031320385196042,
          1.6207773443585791,
          1.629717368346607,
          1.633717230376121,
          1.6320703617920964,
          1.6245418725262668,
          1.599583835056333,
          1.6000563519198103,
          1.5958021715262596,
          1.588475337122229,
          1.5960382450440156,
          1.6180184030833398,
          1.6130550898942067,
          1.6083285898787603,
          1.614946118900825,
          1.6050194678673617,
          1.6260544195933477,
          1.6175458862198624,
          1.6338535982744715,
          1.6392896255686629,
          1.6433073379612946,
          1.6485070944961489,
          1.638580640704267,
          1.6402352263651638,
          1.6262906656974871,
          1.6236907011368684,
          1.6220365099591343,
          1.6255815329019052,
          1.6371625230442888,
          1.6350354451751123,
          1.6397621424321402,
          1.6215637958540758,
          1.619436520743318,
          1.5946204972120026,
          1.6036013502073834,
          1.5906024149914058,
          1.6062013394232002,
          1.6421256636470376,
          1.6503979262611856,
          1.6896311999100382,
          1.6903401601192365,
          1.738081769899993,
          1.7373728096907946,
          1.748244667037596,
          1.722719486055501,
          1.748244667037596,
          1.7754244090253903,
          1.7716429427368983,
          1.762425276567831,
          1.7704610958362572,
          1.7860598230264704,
          1.789605018555625,
          1.8191484789998984,
          1.8085124979292717,
          1.8283656027546167,
          1.7810965098373377,
          1.8160756277478372,
          1.8200939072100157,
          1.829783720414595,
          1.8465642945054488,
          1.8290745629638152,
          1.8276566178902207,
          1.8361651512637058,
          1.8446732901540281,
          1.8456186937089478,
          1.8498730466888824,
          1.8678353197491908,
          1.8664172020892125,
          1.875161784325256,
          1.8631086224921625,
          1.8480980943529266,
          1.839254200980641,
          1.8531174734615767,
          1.857419978042574,
          1.8748681655761221,
          1.8908824068127836,
          1.9006822561645946,
          1.902355259258156,
          1.8939897013759994,
          1.9193258509575057,
          1.9396424241887806,
          1.9405985527546896,
          1.9769293672226256,
          1.954939421069824,
          1.9647394676632168,
          1.9647394676632168,
          1.9812318718036233,
          1.949920436444337,
          1.9582861669128777,
          1.979319614671805,
          1.9783632888643148,
          1.9685636367540849,
          1.9831439563490572,
          1.9783632888643148,
          1.9298427474233533,
          1.941554484079017,
          1.894467667038163,
          1.9233892740866303,
          1.9398815056406533,
          1.949920436444337,
          1.949920436444337,
          1.9673685993226873,
          1.9852951223463644,
          1.99342179601823,
          1.9931827145663574,
          2.005611695577639,
          2.013977623287761,
          2.0192358866067024,
          2.015889535246812,
          1.9962900091295732,
          2.008718990140855,
          1.9982022662613912,
          2.005611695577639,
          1.9919876771349596,
          1.9604369630822194,
          1.9291255030677352,
          1.9707146055098104,
          1.952310486651935,
          1.9434665686244512,
          1.9262571173700085,
          1.9449010573356869,
          1.9214768197132308,
          1.942271555848251,
          1.9420324743963784,
          1.9463349789773758,
          1.956373712539478,
          1.9707146055098104,
          1.9769293672226256,
          1.9874464609300548,
          1.9795586961236777,
          1.9938997616803937,
          1.9883200192389439,
          1.9528785670616078,
          1.9373129271466771,
          1.956710058746186,
          1.9890383977336548,
          1.9741915061414004,
          1.9634152123407942,
          1.9555129502781834,
          1.9732335037804678,
          1.9964622996509394,
          1.977783373959757,
          1.980657035869787,
          1.9876016653994304,
          1.9957437485698446,
          1.98305159797856,
          1.9990963376947473,
          2.005322391488099,
          2.0163379639821586,
          2.0189723718539323,
          2.0072382236235797,
          1.9727544039792109,
          1.9892780462550739,
          1.9816148656443358,
          2.00436456171355,
          2.0038856591538745,
          1.9868832869047197,
          1.9868832869047197,
          1.9892780462550739,
          1.9631759583025379,
          1.9782624737610142,
          1.959344269376378,
          1.9808966843912061,
          1.9957437485698446,
          2.010112082775191,
          2.008914629134421,
          1.9787413763206898,
          1.9176765415089114,
          1.9315657759130012,
          1.956949510026024,
          1.943539375423191,
          1.959104620854959,
          1.9480890483608992,
          1.9684439850797593,
          1.9665285227722435,
          1.9785019250408518,
          1.9792203035355629,
          1.9861649084100088,
          1.9844885275543653,
          1.994546467515458,
          1.993588440499328,
          2.0062805910906127,
          2.001012169830229,
          2.0237614960714776,
          2.026635355223089,
          2.020648555467994,
          2.007717150838453,
          2.017056712304835,
          2.0201696529083186,
          2.018733093160478,
          2.0196905531070617,
          2.0125066448839637,
          2.003646183218839,
          1.967246704025373,
          1.9902548605318338,
          1.9902548605318338,
          1.9794132797677795,
          1.9979643189486116,
          2.0078420540698843,
          1.99700047330583,
          1.9972414285527258,
          1.9830271400224646,
          1.9791723245208837,
          1.9904956431923462,
          1.9808588633179698,
          1.9820632943796825,
          1.950743772115558,
          1.9890500596421559,
          1.994109503447031,
          1.987122935426139,
          1.9977233637017158,
          1.9818225363743678,
          1.966403619540812,
          1.9336383164849162,
          1.9541164798817656,
          1.9690538313942967,
          1.9731494295563896,
          1.978931566515569,
          1.973631167463798,
          1.9611032204890413,
          1.971944604011514,
          1.9808588633179698,
          1.963271497193536,
          1.9748357711118945,
          1.9933868102927266,
          1.9830271400224646,
          1.9909775536861383,
          1.986159262369741,
          1.9847135062331667,
          1.9832679226829768,
          1.9967596906453178,
          1.9868819801792428,
          1.9904956431923462,
          1.9786904140270913,
          1.9509845301208728,
          1.9437568096115034,
          1.9266513786360593,
          1.9254467503327652,
          1.947611649768282,
          1.9661626642939163,
          1.964235170249934,
          1.952189158424167,
          1.9704992177029053,
          1.9688126789058191,
          1.9784496313665791,
          2.002300872357601,
          2.0066376230081713,
          2.0434985242261603,
          2.050003354339644,
          2.038680232909763,
          2.0410892922747697,
          2.0374754320200847,
          2.0598812620473,
          2.049521419190654,
          2.0637361022040785,
          2.0531354766869203,
          2.034825417408182,
          1.9964260071999587,
          2.0133632897272467,
          2.012637391397244,
          2.031268362728945,
          2.013605379113236,
          2.0179607444380525,
          1.9724716828274504,
          1.9710200834090268,
          1.9608577533409703,
          1.956986196960167,
          1.9248054932963876,
          1.9339998603036501,
          1.9158528705023468,
          1.931580273169235,
          1.9245634039103983,
          1.9284347877048178,
          1.9168206609767564,
          1.9257731111844136,
          1.9441621903717066,
          1.9608577533409703,
          1.951663213747324,
          1.9702941850790245,
          1.9700520956930352,
          1.9458560517625028,
          1.9567442801605617,
          1.9649710292797977,
          1.9635192326197932,
          1.9497274355569225,
          1.9649710292797977,
          1.9560183818305592,
          1.9712619755534349,
          1.966422628698221,
          1.9729556643578472,
          1.9799727062030679,
          1.983360083811893,
          1.982634210137088,
          1.9731977537438365,
          1.9436783814276934,
          1.9540828008817388,
          1.974649550403841,
          1.974407461017852,
          1.968600496274612,
          1.9548086992117413,
          1.9565023880161538,
          1.9557764896861516,
          1.9548086992117413,
          1.9589219751505687,
          1.9405327233768923,
          1.881978132861387,
          1.888994977465026,
          1.8674604374685138,
          1.8618951676281001,
          1.890446774125031,
          1.8928665338458295,
          1.9020608761978943,
          1.9422265847676885,
          1.942952483097691,
          1.932064254699632,
          1.9323061714992376,
          1.9114975051775298,
          1.9073842292387024,
          1.932789955788053,
          1.9301284765092304,
          1.9117393973219377,
          1.8969709585686911,
          1.9095449861079055,
          1.9213795549583959,
          1.9287761882270493,
          1.932227915901811,
          1.9329675471769194,
          1.9317346886722853,
          1.9265571218153406,
          1.9233520200829406,
          1.925570889253068,
          1.9460347526352648,
          1.9285295869398853,
          1.9112708499452866,
          1.915955386814287,
          1.9070794909954163,
          1.9287761882270493,
          1.9529381833295902,
          1.9339537550839945,
          1.9295158195021578,
          1.8962313519487801,
          1.8868622535555817,
          1.8787259890118193,
          1.863439889728149,
          1.8516052962224614,
          1.8427294250587885,
          1.8188138586570282,
          1.788981094123214,
          1.7958845001623422,
          1.8294155936580816,
          1.8380450607761718,
          1.8580157215840403,
          1.8284295583373906,
          1.841743192496516,
          1.8474139619277892,
          1.8624536571658767,
          1.888095087405018,
          1.8636862937737317,
          1.8461811280783527,
          1.843715657621061,
          1.866891592747713,
          1.874288053429983,
          1.8538243626341704,
          1.8481535932028972,
          1.8375518582018437,
          1.8183208286690837,
          1.805746628543485,
          1.842482996358008,
          1.8289225636701374
         ],
         "yaxis": "y"
        },
        {
         "hoverinfo": "skip",
         "marker": {
          "color": "yellow",
          "size": 8,
          "symbol": "diamond-tall"
         },
         "mode": "markers",
         "showlegend": false,
         "type": "scatter",
         "x": [
          "2012-03-01T00:00:00",
          "2012-06-01T00:00:00",
          "2012-09-04T00:00:00",
          "2012-12-03T00:00:00",
          "2013-03-01T00:00:00",
          "2013-06-03T00:00:00",
          "2013-09-03T00:00:00",
          "2013-12-02T00:00:00",
          "2014-03-03T00:00:00",
          "2014-06-02T00:00:00",
          "2014-09-02T00:00:00",
          "2014-12-01T00:00:00",
          "2015-03-02T00:00:00",
          "2015-06-01T00:00:00",
          "2015-09-01T00:00:00",
          "2015-12-01T00:00:00",
          "2016-03-01T00:00:00",
          "2016-06-01T00:00:00",
          "2016-09-01T00:00:00",
          "2016-12-01T00:00:00",
          "2017-03-01T00:00:00",
          "2017-06-01T00:00:00",
          "2017-09-01T00:00:00",
          "2017-12-01T00:00:00",
          "2018-03-01T00:00:00",
          "2018-06-01T00:00:00",
          "2018-09-04T00:00:00",
          "2018-12-03T00:00:00",
          "2019-03-01T00:00:00",
          "2019-06-03T00:00:00",
          "2019-09-03T00:00:00",
          "2019-12-02T00:00:00",
          "2020-03-02T00:00:00",
          "2020-06-01T00:00:00",
          "2020-09-01T00:00:00",
          "2020-12-01T00:00:00",
          "2021-03-01T00:00:00",
          "2021-06-01T00:00:00",
          "2021-09-01T00:00:00",
          "2021-12-01T00:00:00"
         ],
         "y": [
          1,
          0,
          0,
          0,
          0,
          0,
          0,
          0,
          0,
          0,
          0,
          0,
          0,
          0,
          0,
          0,
          0,
          0,
          0,
          0,
          0,
          0,
          0,
          0,
          0,
          0,
          0,
          0,
          0,
          0,
          0,
          0,
          0,
          0,
          0,
          0,
          0,
          0,
          0,
          0
         ]
        }
       ],
       "layout": {
        "hovermode": "x unified",
        "legend": {
         "title": {
          "text": "ticker"
         },
         "tracegroupgap": 0
        },
        "margin": {
         "t": 60
        },
        "template": {
         "data": {
          "bar": [
           {
            "error_x": {
             "color": "#f2f5fa"
            },
            "error_y": {
             "color": "#f2f5fa"
            },
            "marker": {
             "line": {
              "color": "rgb(17,17,17)",
              "width": 0.5
             },
             "pattern": {
              "fillmode": "overlay",
              "size": 10,
              "solidity": 0.2
             }
            },
            "type": "bar"
           }
          ],
          "barpolar": [
           {
            "marker": {
             "line": {
              "color": "rgb(17,17,17)",
              "width": 0.5
             },
             "pattern": {
              "fillmode": "overlay",
              "size": 10,
              "solidity": 0.2
             }
            },
            "type": "barpolar"
           }
          ],
          "carpet": [
           {
            "aaxis": {
             "endlinecolor": "#A2B1C6",
             "gridcolor": "#506784",
             "linecolor": "#506784",
             "minorgridcolor": "#506784",
             "startlinecolor": "#A2B1C6"
            },
            "baxis": {
             "endlinecolor": "#A2B1C6",
             "gridcolor": "#506784",
             "linecolor": "#506784",
             "minorgridcolor": "#506784",
             "startlinecolor": "#A2B1C6"
            },
            "type": "carpet"
           }
          ],
          "choropleth": [
           {
            "colorbar": {
             "outlinewidth": 0,
             "ticks": ""
            },
            "type": "choropleth"
           }
          ],
          "contour": [
           {
            "colorbar": {
             "outlinewidth": 0,
             "ticks": ""
            },
            "colorscale": [
             [
              0,
              "#0d0887"
             ],
             [
              0.1111111111111111,
              "#46039f"
             ],
             [
              0.2222222222222222,
              "#7201a8"
             ],
             [
              0.3333333333333333,
              "#9c179e"
             ],
             [
              0.4444444444444444,
              "#bd3786"
             ],
             [
              0.5555555555555556,
              "#d8576b"
             ],
             [
              0.6666666666666666,
              "#ed7953"
             ],
             [
              0.7777777777777778,
              "#fb9f3a"
             ],
             [
              0.8888888888888888,
              "#fdca26"
             ],
             [
              1,
              "#f0f921"
             ]
            ],
            "type": "contour"
           }
          ],
          "contourcarpet": [
           {
            "colorbar": {
             "outlinewidth": 0,
             "ticks": ""
            },
            "type": "contourcarpet"
           }
          ],
          "heatmap": [
           {
            "colorbar": {
             "outlinewidth": 0,
             "ticks": ""
            },
            "colorscale": [
             [
              0,
              "#0d0887"
             ],
             [
              0.1111111111111111,
              "#46039f"
             ],
             [
              0.2222222222222222,
              "#7201a8"
             ],
             [
              0.3333333333333333,
              "#9c179e"
             ],
             [
              0.4444444444444444,
              "#bd3786"
             ],
             [
              0.5555555555555556,
              "#d8576b"
             ],
             [
              0.6666666666666666,
              "#ed7953"
             ],
             [
              0.7777777777777778,
              "#fb9f3a"
             ],
             [
              0.8888888888888888,
              "#fdca26"
             ],
             [
              1,
              "#f0f921"
             ]
            ],
            "type": "heatmap"
           }
          ],
          "heatmapgl": [
           {
            "colorbar": {
             "outlinewidth": 0,
             "ticks": ""
            },
            "colorscale": [
             [
              0,
              "#0d0887"
             ],
             [
              0.1111111111111111,
              "#46039f"
             ],
             [
              0.2222222222222222,
              "#7201a8"
             ],
             [
              0.3333333333333333,
              "#9c179e"
             ],
             [
              0.4444444444444444,
              "#bd3786"
             ],
             [
              0.5555555555555556,
              "#d8576b"
             ],
             [
              0.6666666666666666,
              "#ed7953"
             ],
             [
              0.7777777777777778,
              "#fb9f3a"
             ],
             [
              0.8888888888888888,
              "#fdca26"
             ],
             [
              1,
              "#f0f921"
             ]
            ],
            "type": "heatmapgl"
           }
          ],
          "histogram": [
           {
            "marker": {
             "pattern": {
              "fillmode": "overlay",
              "size": 10,
              "solidity": 0.2
             }
            },
            "type": "histogram"
           }
          ],
          "histogram2d": [
           {
            "colorbar": {
             "outlinewidth": 0,
             "ticks": ""
            },
            "colorscale": [
             [
              0,
              "#0d0887"
             ],
             [
              0.1111111111111111,
              "#46039f"
             ],
             [
              0.2222222222222222,
              "#7201a8"
             ],
             [
              0.3333333333333333,
              "#9c179e"
             ],
             [
              0.4444444444444444,
              "#bd3786"
             ],
             [
              0.5555555555555556,
              "#d8576b"
             ],
             [
              0.6666666666666666,
              "#ed7953"
             ],
             [
              0.7777777777777778,
              "#fb9f3a"
             ],
             [
              0.8888888888888888,
              "#fdca26"
             ],
             [
              1,
              "#f0f921"
             ]
            ],
            "type": "histogram2d"
           }
          ],
          "histogram2dcontour": [
           {
            "colorbar": {
             "outlinewidth": 0,
             "ticks": ""
            },
            "colorscale": [
             [
              0,
              "#0d0887"
             ],
             [
              0.1111111111111111,
              "#46039f"
             ],
             [
              0.2222222222222222,
              "#7201a8"
             ],
             [
              0.3333333333333333,
              "#9c179e"
             ],
             [
              0.4444444444444444,
              "#bd3786"
             ],
             [
              0.5555555555555556,
              "#d8576b"
             ],
             [
              0.6666666666666666,
              "#ed7953"
             ],
             [
              0.7777777777777778,
              "#fb9f3a"
             ],
             [
              0.8888888888888888,
              "#fdca26"
             ],
             [
              1,
              "#f0f921"
             ]
            ],
            "type": "histogram2dcontour"
           }
          ],
          "mesh3d": [
           {
            "colorbar": {
             "outlinewidth": 0,
             "ticks": ""
            },
            "type": "mesh3d"
           }
          ],
          "parcoords": [
           {
            "line": {
             "colorbar": {
              "outlinewidth": 0,
              "ticks": ""
             }
            },
            "type": "parcoords"
           }
          ],
          "pie": [
           {
            "automargin": true,
            "type": "pie"
           }
          ],
          "scatter": [
           {
            "marker": {
             "line": {
              "color": "#283442"
             }
            },
            "type": "scatter"
           }
          ],
          "scatter3d": [
           {
            "line": {
             "colorbar": {
              "outlinewidth": 0,
              "ticks": ""
             }
            },
            "marker": {
             "colorbar": {
              "outlinewidth": 0,
              "ticks": ""
             }
            },
            "type": "scatter3d"
           }
          ],
          "scattercarpet": [
           {
            "marker": {
             "colorbar": {
              "outlinewidth": 0,
              "ticks": ""
             }
            },
            "type": "scattercarpet"
           }
          ],
          "scattergeo": [
           {
            "marker": {
             "colorbar": {
              "outlinewidth": 0,
              "ticks": ""
             }
            },
            "type": "scattergeo"
           }
          ],
          "scattergl": [
           {
            "marker": {
             "line": {
              "color": "#283442"
             }
            },
            "type": "scattergl"
           }
          ],
          "scattermapbox": [
           {
            "marker": {
             "colorbar": {
              "outlinewidth": 0,
              "ticks": ""
             }
            },
            "type": "scattermapbox"
           }
          ],
          "scatterpolar": [
           {
            "marker": {
             "colorbar": {
              "outlinewidth": 0,
              "ticks": ""
             }
            },
            "type": "scatterpolar"
           }
          ],
          "scatterpolargl": [
           {
            "marker": {
             "colorbar": {
              "outlinewidth": 0,
              "ticks": ""
             }
            },
            "type": "scatterpolargl"
           }
          ],
          "scatterternary": [
           {
            "marker": {
             "colorbar": {
              "outlinewidth": 0,
              "ticks": ""
             }
            },
            "type": "scatterternary"
           }
          ],
          "surface": [
           {
            "colorbar": {
             "outlinewidth": 0,
             "ticks": ""
            },
            "colorscale": [
             [
              0,
              "#0d0887"
             ],
             [
              0.1111111111111111,
              "#46039f"
             ],
             [
              0.2222222222222222,
              "#7201a8"
             ],
             [
              0.3333333333333333,
              "#9c179e"
             ],
             [
              0.4444444444444444,
              "#bd3786"
             ],
             [
              0.5555555555555556,
              "#d8576b"
             ],
             [
              0.6666666666666666,
              "#ed7953"
             ],
             [
              0.7777777777777778,
              "#fb9f3a"
             ],
             [
              0.8888888888888888,
              "#fdca26"
             ],
             [
              1,
              "#f0f921"
             ]
            ],
            "type": "surface"
           }
          ],
          "table": [
           {
            "cells": {
             "fill": {
              "color": "#506784"
             },
             "line": {
              "color": "rgb(17,17,17)"
             }
            },
            "header": {
             "fill": {
              "color": "#2a3f5f"
             },
             "line": {
              "color": "rgb(17,17,17)"
             }
            },
            "type": "table"
           }
          ]
         },
         "layout": {
          "annotationdefaults": {
           "arrowcolor": "#f2f5fa",
           "arrowhead": 0,
           "arrowwidth": 1
          },
          "autotypenumbers": "strict",
          "coloraxis": {
           "colorbar": {
            "outlinewidth": 0,
            "ticks": ""
           }
          },
          "colorscale": {
           "diverging": [
            [
             0,
             "#8e0152"
            ],
            [
             0.1,
             "#c51b7d"
            ],
            [
             0.2,
             "#de77ae"
            ],
            [
             0.3,
             "#f1b6da"
            ],
            [
             0.4,
             "#fde0ef"
            ],
            [
             0.5,
             "#f7f7f7"
            ],
            [
             0.6,
             "#e6f5d0"
            ],
            [
             0.7,
             "#b8e186"
            ],
            [
             0.8,
             "#7fbc41"
            ],
            [
             0.9,
             "#4d9221"
            ],
            [
             1,
             "#276419"
            ]
           ],
           "sequential": [
            [
             0,
             "#0d0887"
            ],
            [
             0.1111111111111111,
             "#46039f"
            ],
            [
             0.2222222222222222,
             "#7201a8"
            ],
            [
             0.3333333333333333,
             "#9c179e"
            ],
            [
             0.4444444444444444,
             "#bd3786"
            ],
            [
             0.5555555555555556,
             "#d8576b"
            ],
            [
             0.6666666666666666,
             "#ed7953"
            ],
            [
             0.7777777777777778,
             "#fb9f3a"
            ],
            [
             0.8888888888888888,
             "#fdca26"
            ],
            [
             1,
             "#f0f921"
            ]
           ],
           "sequentialminus": [
            [
             0,
             "#0d0887"
            ],
            [
             0.1111111111111111,
             "#46039f"
            ],
            [
             0.2222222222222222,
             "#7201a8"
            ],
            [
             0.3333333333333333,
             "#9c179e"
            ],
            [
             0.4444444444444444,
             "#bd3786"
            ],
            [
             0.5555555555555556,
             "#d8576b"
            ],
            [
             0.6666666666666666,
             "#ed7953"
            ],
            [
             0.7777777777777778,
             "#fb9f3a"
            ],
            [
             0.8888888888888888,
             "#fdca26"
            ],
            [
             1,
             "#f0f921"
            ]
           ]
          },
          "colorway": [
           "#636efa",
           "#EF553B",
           "#00cc96",
           "#ab63fa",
           "#FFA15A",
           "#19d3f3",
           "#FF6692",
           "#B6E880",
           "#FF97FF",
           "#FECB52"
          ],
          "font": {
           "color": "#f2f5fa"
          },
          "geo": {
           "bgcolor": "rgb(17,17,17)",
           "lakecolor": "rgb(17,17,17)",
           "landcolor": "rgb(17,17,17)",
           "showlakes": true,
           "showland": true,
           "subunitcolor": "#506784"
          },
          "hoverlabel": {
           "align": "left"
          },
          "hovermode": "closest",
          "mapbox": {
           "style": "dark"
          },
          "paper_bgcolor": "rgb(17,17,17)",
          "plot_bgcolor": "rgb(17,17,17)",
          "polar": {
           "angularaxis": {
            "gridcolor": "#506784",
            "linecolor": "#506784",
            "ticks": ""
           },
           "bgcolor": "rgb(17,17,17)",
           "radialaxis": {
            "gridcolor": "#506784",
            "linecolor": "#506784",
            "ticks": ""
           }
          },
          "scene": {
           "xaxis": {
            "backgroundcolor": "rgb(17,17,17)",
            "gridcolor": "#506784",
            "gridwidth": 2,
            "linecolor": "#506784",
            "showbackground": true,
            "ticks": "",
            "zerolinecolor": "#C8D4E3"
           },
           "yaxis": {
            "backgroundcolor": "rgb(17,17,17)",
            "gridcolor": "#506784",
            "gridwidth": 2,
            "linecolor": "#506784",
            "showbackground": true,
            "ticks": "",
            "zerolinecolor": "#C8D4E3"
           },
           "zaxis": {
            "backgroundcolor": "rgb(17,17,17)",
            "gridcolor": "#506784",
            "gridwidth": 2,
            "linecolor": "#506784",
            "showbackground": true,
            "ticks": "",
            "zerolinecolor": "#C8D4E3"
           }
          },
          "shapedefaults": {
           "line": {
            "color": "#f2f5fa"
           }
          },
          "sliderdefaults": {
           "bgcolor": "#C8D4E3",
           "bordercolor": "rgb(17,17,17)",
           "borderwidth": 1,
           "tickwidth": 0
          },
          "ternary": {
           "aaxis": {
            "gridcolor": "#506784",
            "linecolor": "#506784",
            "ticks": ""
           },
           "baxis": {
            "gridcolor": "#506784",
            "linecolor": "#506784",
            "ticks": ""
           },
           "bgcolor": "rgb(17,17,17)",
           "caxis": {
            "gridcolor": "#506784",
            "linecolor": "#506784",
            "ticks": ""
           }
          },
          "title": {
           "x": 0.05
          },
          "updatemenudefaults": {
           "bgcolor": "#506784",
           "borderwidth": 0
          },
          "xaxis": {
           "automargin": true,
           "gridcolor": "#283442",
           "linecolor": "#506784",
           "ticks": "",
           "title": {
            "standoff": 15
           },
           "zerolinecolor": "#283442",
           "zerolinewidth": 2
          },
          "yaxis": {
           "automargin": true,
           "gridcolor": "#283442",
           "linecolor": "#506784",
           "ticks": "",
           "title": {
            "standoff": 15
           },
           "zerolinecolor": "#283442",
           "zerolinewidth": 2
          }
         }
        },
        "title": {
         "text": "Back-test"
        },
        "xaxis": {
         "anchor": "y",
         "domain": [
          0,
          1
         ],
         "hoverformat": "%Y-%m-%d",
         "title": {
          "text": "date"
         }
        },
        "yaxis": {
         "anchor": "x",
         "domain": [
          0,
          1
         ],
         "title": {
          "text": "growth"
         }
        }
       }
      }
     },
     "metadata": {},
     "output_type": "display_data"
    }
   ],
   "source": [
    "# plot the chart\n",
    "fig = px.line(df_instrument_growth, x='date', y='growth',\n",
    "              color='ticker', color_discrete_map={'Grandma':'white'},\n",
    "              custom_data = ['hover_text'],\n",
    "              )\n",
    "\n",
    "fig.update_traces(hovertemplate='%{y:.2f}<br>%{customdata}')\n",
    "fig.update_traces(line=dict(width=0.75))\n",
    "fig['data'][0]['line']['width'] = 1.5\n",
    "\n",
    "fig.update_layout(template='plotly_dark', title='Back-test',\n",
    "                  xaxis_title='date', yaxis_title='growth',\n",
    "                  hovermode='x unified',\n",
    "                  xaxis_hoverformat='%Y-%m-%d')\n",
    "\n",
    "index_adj_scatter = df_grandma_growth['date'].isin(set(backtester.df_adjustments['date']))\n",
    "df_adj_scatter = df_grandma_growth[index_adj_scatter][['date','growth']]\n",
    "\n",
    "fig.add_trace(go.Scatter(x=df_adj_scatter['date'], y=df_adj_scatter['growth'], mode='markers', showlegend=False,\n",
    "                         marker={'color':'yellow', 'size':8, 'symbol':'diamond-tall'},\n",
    "                         hoverinfo='skip'))\n",
    "\n",
    "fig.show()"
   ]
  },
  {
   "cell_type": "code",
   "execution_count": null,
   "metadata": {},
   "outputs": [],
   "source": []
  },
  {
   "cell_type": "code",
   "execution_count": null,
   "metadata": {},
   "outputs": [],
   "source": []
  },
  {
   "cell_type": "code",
   "execution_count": null,
   "metadata": {},
   "outputs": [],
   "source": []
  },
  {
   "cell_type": "code",
   "execution_count": null,
   "metadata": {},
   "outputs": [],
   "source": []
  },
  {
   "cell_type": "code",
   "execution_count": null,
   "metadata": {},
   "outputs": [],
   "source": []
  }
 ],
 "metadata": {
  "interpreter": {
   "hash": "1c1a885b6a591ec15507fc84277222a3df93b2df7bfbab7d41ee02a4dac7a176"
  },
  "kernelspec": {
   "display_name": "Python 3 (ipykernel)",
   "language": "python",
   "name": "python3"
  },
  "language_info": {
   "codemirror_mode": {
    "name": "ipython",
    "version": 3
   },
   "file_extension": ".py",
   "mimetype": "text/x-python",
   "name": "python",
   "nbconvert_exporter": "python",
   "pygments_lexer": "ipython3",
   "version": "3.8.8"
  }
 },
 "nbformat": 4,
 "nbformat_minor": 2
}
