{
 "cells": [
  {
   "cell_type": "code",
   "execution_count": 1,
   "metadata": {},
   "outputs": [],
   "source": [
    "from logger import StandardLogger\n",
    "from yahoo_data import YahooDataLoader\n"
   ]
  },
  {
   "cell_type": "code",
   "execution_count": 2,
   "metadata": {},
   "outputs": [],
   "source": [
    "logger = StandardLogger('../../_log/')\n",
    "logPrint = logger.logPrint\n"
   ]
  },
  {
   "cell_type": "code",
   "execution_count": 3,
   "metadata": {},
   "outputs": [
    {
     "name": "stdout",
     "output_type": "stream",
     "text": [
      "IVV: Queried EOD data contains 253 rows over 253 dates from 2020-01-02 to 2020-12-31.\n",
      "IVV: Save EOD data at data/IVV_EOD.csv.gz.\n"
     ]
    },
    {
     "data": {
      "text/plain": [
       "(253, 7)"
      ]
     },
     "execution_count": 3,
     "metadata": {},
     "output_type": "execute_result"
    }
   ],
   "source": [
    "yahoo = YahooDataLoader('IVV', '2020-01-01', '2021-01-01', printfunc=logPrint)\n",
    "df = yahoo.queryEOD(save=True)\n",
    "\n",
    "df.shape"
   ]
  },
  {
   "cell_type": "code",
   "execution_count": 4,
   "metadata": {},
   "outputs": [
    {
     "name": "stdout",
     "output_type": "stream",
     "text": [
      "IVV: Queried EOD data contains 252 rows over 252 dates from 2020-07-01 to 2021-06-30.\n",
      "IVV: Existing EOD data file found at data/IVV_EOD.csv.gz.\n",
      "IVV: Existing EOD data file contains 253 rows over 253 dates from 2020-01-02 to 2020-12-31.\n",
      "IVV: Amended EOD data file contains 377 rows over 377 dates from 2020-01-02 to 2021-06-30.\n"
     ]
    },
    {
     "data": {
      "text/plain": [
       "(252, 7)"
      ]
     },
     "execution_count": 4,
     "metadata": {},
     "output_type": "execute_result"
    }
   ],
   "source": [
    "yahoo = YahooDataLoader('IVV', '2020-07-01', '2021-07-01', printfunc=logPrint)\n",
    "df = yahoo.queryEOD(save=True)\n",
    "\n",
    "df.shape"
   ]
  },
  {
   "cell_type": "code",
   "execution_count": 5,
   "metadata": {},
   "outputs": [
    {
     "name": "stdout",
     "output_type": "stream",
     "text": [
      "IVV: Queried dividend data contains 4 rows over 4 dates from 2020-03-25 to 2020-12-14.\n",
      "IVV: Save dividend data at data/IVV_dividend.csv.gz.\n"
     ]
    },
    {
     "data": {
      "text/plain": [
       "(4, 2)"
      ]
     },
     "execution_count": 5,
     "metadata": {},
     "output_type": "execute_result"
    }
   ],
   "source": [
    "yahoo = YahooDataLoader('IVV', '2020-01-01', '2021-01-01', printfunc=logPrint)\n",
    "df = yahoo.queryDividend(save=True)\n",
    "\n",
    "df.shape"
   ]
  },
  {
   "cell_type": "code",
   "execution_count": 6,
   "metadata": {},
   "outputs": [
    {
     "name": "stdout",
     "output_type": "stream",
     "text": [
      "IVV: Queried dividend data contains 4 rows over 4 dates from 2020-09-23 to 2021-06-10.\n",
      "IVV: Existing dividend data file found at data/IVV_dividend.csv.gz.\n",
      "IVV: Existing dividend data file contains 4 rows over 4 dates from 2020-03-25 to 2020-12-14.\n",
      "IVV: Amended dividend data file contains 6 rows over 6 dates from 2020-03-25 to 2021-06-10.\n"
     ]
    },
    {
     "data": {
      "text/plain": [
       "(4, 2)"
      ]
     },
     "execution_count": 6,
     "metadata": {},
     "output_type": "execute_result"
    }
   ],
   "source": [
    "yahoo = YahooDataLoader('IVV', '2020-07-01', '2021-07-01', printfunc=logPrint)\n",
    "df = yahoo.queryDividend(save=True)\n",
    "\n",
    "df.shape"
   ]
  },
  {
   "cell_type": "code",
   "execution_count": null,
   "metadata": {},
   "outputs": [],
   "source": []
  }
 ],
 "metadata": {
  "interpreter": {
   "hash": "1c1a885b6a591ec15507fc84277222a3df93b2df7bfbab7d41ee02a4dac7a176"
  },
  "kernelspec": {
   "display_name": "Python 3.9.7 64-bit ('base': conda)",
   "language": "python",
   "name": "python3"
  },
  "language_info": {
   "codemirror_mode": {
    "name": "ipython",
    "version": 3
   },
   "file_extension": ".py",
   "mimetype": "text/x-python",
   "name": "python",
   "nbconvert_exporter": "python",
   "pygments_lexer": "ipython3",
   "version": "3.9.7"
  },
  "orig_nbformat": 4
 },
 "nbformat": 4,
 "nbformat_minor": 2
}
