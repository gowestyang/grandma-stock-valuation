{
 "cells": [
  {
   "cell_type": "code",
   "execution_count": 1,
   "metadata": {},
   "outputs": [],
   "source": [
    "from logger import FileLogger\n",
    "from yahoo_data import YahooDataLoader\n",
    "\n",
    "logger = FileLogger()\n",
    "logPrint = logger.log_pandas\n"
   ]
  },
  {
   "cell_type": "code",
   "execution_count": 2,
   "metadata": {},
   "outputs": [
    {
     "name": "stderr",
     "output_type": "stream",
     "text": [
      "2022-02-13 15:43:00,932 INFO IVV: Queried EOD data contains 253 rows over 253 dates from 2020-01-02 to 2020-12-31.\n",
      "2022-02-13 15:43:00,933 INFO IVV: Save queried data to __data__\\IVV_EOD.csv.gz.\n"
     ]
    },
    {
     "data": {
      "text/plain": [
       "(253, 7)"
      ]
     },
     "execution_count": 2,
     "metadata": {},
     "output_type": "execute_result"
    }
   ],
   "source": [
    "yahoo = YahooDataLoader('IVV', '2020-01-01', '2021-01-01', printfunc=logPrint)\n",
    "df = yahoo.queryEOD(save=True)\n",
    "\n",
    "df.shape"
   ]
  },
  {
   "cell_type": "code",
   "execution_count": 3,
   "metadata": {},
   "outputs": [
    {
     "name": "stderr",
     "output_type": "stream",
     "text": [
      "2022-02-13 15:43:16,906 INFO IVV: Existing EOD data file found at __data__\\IVV_EOD.csv.gz.\n",
      "2022-02-13 15:43:17,003 INFO IVV: Existing EOD data file contains 253 rows over 253 dates from 2020-01-02 to 2020-12-31.\n",
      "2022-02-13 15:43:17,091 INFO IVV: Queried EOD data contains 252 rows over 252 dates from 2020-07-01 to 2021-06-30.\n",
      "2022-02-13 15:43:17,091 INFO IVV: Amended data file contains 377 rows over 377 dates from 2020-01-02 to 2021-06-30.\n"
     ]
    },
    {
     "data": {
      "text/plain": [
       "(377, 7)"
      ]
     },
     "execution_count": 3,
     "metadata": {},
     "output_type": "execute_result"
    }
   ],
   "source": [
    "yahoo = YahooDataLoader('IVV', '2020-07-01', '2021-07-01', printfunc=logPrint)\n",
    "df = yahoo.queryEOD(save=True)\n",
    "\n",
    "df.shape"
   ]
  },
  {
   "cell_type": "code",
   "execution_count": 4,
   "metadata": {},
   "outputs": [
    {
     "name": "stderr",
     "output_type": "stream",
     "text": [
      "2022-02-13 15:43:40,282 INFO IVV: Existing EOD data file found at __data__\\IVV_EOD.csv.gz.\n",
      "2022-02-13 15:43:40,289 INFO IVV: Existing EOD data file contains 377 rows over 377 dates from 2020-01-02 to 2021-06-30.\n",
      "2022-02-13 15:43:40,392 INFO IVV: Queried EOD data contains 157 rows over 157 dates from 2021-07-01 to 2022-02-11.\n",
      "2022-02-13 15:43:40,396 INFO IVV: Amended data file contains 534 rows over 534 dates from 2020-01-02 to 2022-02-11.\n"
     ]
    },
    {
     "data": {
      "text/plain": [
       "(534, 7)"
      ]
     },
     "execution_count": 4,
     "metadata": {},
     "output_type": "execute_result"
    }
   ],
   "source": [
    "yahoo = YahooDataLoader('IVV', printfunc=logPrint)\n",
    "df = yahoo.queryEOD(save=True)\n",
    "\n",
    "df.shape"
   ]
  },
  {
   "cell_type": "code",
   "execution_count": null,
   "metadata": {},
   "outputs": [],
   "source": []
  }
 ],
 "metadata": {
  "interpreter": {
   "hash": "1c1a885b6a591ec15507fc84277222a3df93b2df7bfbab7d41ee02a4dac7a176"
  },
  "kernelspec": {
   "display_name": "Python 3.9.7 64-bit ('base': conda)",
   "language": "python",
   "name": "python3"
  },
  "language_info": {
   "codemirror_mode": {
    "name": "ipython",
    "version": 3
   },
   "file_extension": ".py",
   "mimetype": "text/x-python",
   "name": "python",
   "nbconvert_exporter": "python",
   "pygments_lexer": "ipython3",
   "version": "3.8.8"
  },
  "orig_nbformat": 4
 },
 "nbformat": 4,
 "nbformat_minor": 2
}
