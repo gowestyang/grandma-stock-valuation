{
 "cells": [
  {
   "cell_type": "code",
   "execution_count": 1,
   "metadata": {},
   "outputs": [],
   "source": [
    "from utilities.logger import StandardLogger\n",
    "from utilities.yahoo_data import YahooDataLoader\n",
    "\n",
    "logger = StandardLogger('../_log/')\n",
    "logPrint = logger.logPrint\n"
   ]
  },
  {
   "cell_type": "code",
   "execution_count": 16,
   "metadata": {},
   "outputs": [
    {
     "name": "stdout",
     "output_type": "stream",
     "text": [
      "KXI: Queried EOD data contains 3870 rows over 3870 dates from 2006-09-22 to 2022-02-04.\n",
      "KXI: Save queried data to data/KXI_EOD.csv.gz.\n"
     ]
    },
    {
     "data": {
      "text/html": [
       "<div>\n",
       "<style scoped>\n",
       "    .dataframe tbody tr th:only-of-type {\n",
       "        vertical-align: middle;\n",
       "    }\n",
       "\n",
       "    .dataframe tbody tr th {\n",
       "        vertical-align: top;\n",
       "    }\n",
       "\n",
       "    .dataframe thead th {\n",
       "        text-align: right;\n",
       "    }\n",
       "</style>\n",
       "<table border=\"1\" class=\"dataframe\">\n",
       "  <thead>\n",
       "    <tr style=\"text-align: right;\">\n",
       "      <th></th>\n",
       "      <th>date</th>\n",
       "      <th>open</th>\n",
       "      <th>high</th>\n",
       "      <th>low</th>\n",
       "      <th>close</th>\n",
       "      <th>close_adj</th>\n",
       "      <th>volume</th>\n",
       "    </tr>\n",
       "  </thead>\n",
       "  <tbody>\n",
       "    <tr>\n",
       "      <th>3865</th>\n",
       "      <td>2022-01-31</td>\n",
       "      <td>62.270000</td>\n",
       "      <td>63.020000</td>\n",
       "      <td>62.130001</td>\n",
       "      <td>62.990002</td>\n",
       "      <td>62.990002</td>\n",
       "      <td>79800</td>\n",
       "    </tr>\n",
       "    <tr>\n",
       "      <th>3866</th>\n",
       "      <td>2022-02-01</td>\n",
       "      <td>63.000000</td>\n",
       "      <td>63.119999</td>\n",
       "      <td>62.520000</td>\n",
       "      <td>63.090000</td>\n",
       "      <td>63.090000</td>\n",
       "      <td>401300</td>\n",
       "    </tr>\n",
       "    <tr>\n",
       "      <th>3867</th>\n",
       "      <td>2022-02-02</td>\n",
       "      <td>63.209999</td>\n",
       "      <td>63.779999</td>\n",
       "      <td>63.209999</td>\n",
       "      <td>63.709999</td>\n",
       "      <td>63.709999</td>\n",
       "      <td>61200</td>\n",
       "    </tr>\n",
       "    <tr>\n",
       "      <th>3868</th>\n",
       "      <td>2022-02-03</td>\n",
       "      <td>63.340000</td>\n",
       "      <td>63.669998</td>\n",
       "      <td>63.209999</td>\n",
       "      <td>63.400002</td>\n",
       "      <td>63.400002</td>\n",
       "      <td>28400</td>\n",
       "    </tr>\n",
       "    <tr>\n",
       "      <th>3869</th>\n",
       "      <td>2022-02-04</td>\n",
       "      <td>63.029999</td>\n",
       "      <td>63.189999</td>\n",
       "      <td>62.619999</td>\n",
       "      <td>62.869999</td>\n",
       "      <td>62.869999</td>\n",
       "      <td>32800</td>\n",
       "    </tr>\n",
       "  </tbody>\n",
       "</table>\n",
       "</div>"
      ],
      "text/plain": [
       "           date       open       high        low      close  close_adj  volume\n",
       "3865 2022-01-31  62.270000  63.020000  62.130001  62.990002  62.990002   79800\n",
       "3866 2022-02-01  63.000000  63.119999  62.520000  63.090000  63.090000  401300\n",
       "3867 2022-02-02  63.209999  63.779999  63.209999  63.709999  63.709999   61200\n",
       "3868 2022-02-03  63.340000  63.669998  63.209999  63.400002  63.400002   28400\n",
       "3869 2022-02-04  63.029999  63.189999  62.619999  62.869999  62.869999   32800"
      ]
     },
     "execution_count": 16,
     "metadata": {},
     "output_type": "execute_result"
    }
   ],
   "source": [
    "ticker = 'KXI'\n",
    "\n",
    "yahoo = YahooDataLoader(ticker, date_start='2000-01-01', printfunc=logPrint)\n",
    "df = yahoo.queryEOD(save=True)\n",
    "\n",
    "df.tail(5)"
   ]
  },
  {
   "cell_type": "code",
   "execution_count": null,
   "metadata": {},
   "outputs": [],
   "source": []
  }
 ],
 "metadata": {
  "interpreter": {
   "hash": "1f2b3eeb8c8c57cc9fbb2de5c20e128904099953a55cc5a227bd47864e28a4ba"
  },
  "kernelspec": {
   "display_name": "Python 3.8.5 64-bit ('base': conda)",
   "name": "python3"
  },
  "language_info": {
   "codemirror_mode": {
    "name": "ipython",
    "version": 3
   },
   "file_extension": ".py",
   "mimetype": "text/x-python",
   "name": "python",
   "nbconvert_exporter": "python",
   "pygments_lexer": "ipython3",
   "version": "3.8.8"
  }
 },
 "nbformat": 4,
 "nbformat_minor": 2
}
