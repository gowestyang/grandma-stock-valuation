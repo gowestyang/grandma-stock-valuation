{
 "cells": [
  {
   "cell_type": "markdown",
   "metadata": {},
   "source": [
    "# WIP: Back-test\n",
    "\n",
    "This example is still WIP.\n",
    "* Load Data\n",
    "* Back Test - the Basic Idea"
   ]
  },
  {
   "cell_type": "code",
   "execution_count": 1,
   "metadata": {},
   "outputs": [],
   "source": [
    "from grandma_stock_valuation import FileLogger, loadPacakgeData\n",
    "from grandma_stock_valuation import batchValuation, addCashPortfolio, getCorrelationWeight, allocatePortfolio\n",
    "\n",
    "# Refer to example_0_FileLogger.ipynb for details of the FileLogger.\n",
    "logger = FileLogger()\n",
    "logPrint = logger.logPandas"
   ]
  },
  {
   "cell_type": "markdown",
   "metadata": {},
   "source": [
    "### Load Data\n",
    "\n",
    "For this example, I will use the stored package data.\n",
    "\n",
    "To query data from Yahoo, please refer to *example_1_yahoo_data_loader.ipynb*."
   ]
  },
  {
   "cell_type": "code",
   "execution_count": 2,
   "metadata": {},
   "outputs": [
    {
     "name": "stdout",
     "output_type": "stream",
     "text": [
      "EEMA data contains 2530 rows, 2530 dates from 2012-02-09 to 2022-02-28.\n",
      "IEV data contains 5431 rows, 5431 dates from 2000-07-28 to 2022-02-28.\n",
      "IVV data contains 5479 rows, 5479 dates from 2000-05-19 to 2022-02-28.\n",
      "VPL data contains 4273 rows, 4273 dates from 2005-03-10 to 2022-02-28.\n"
     ]
    },
    {
     "data": {
      "text/plain": [
       "{'IVV': 'SP500',\n",
       " 'VPL': 'Developed Asia-Pacific',\n",
       " 'IEV': 'Europe',\n",
       " 'EEMA': 'Emerging Asia'}"
      ]
     },
     "execution_count": 2,
     "metadata": {},
     "output_type": "execute_result"
    }
   ],
   "source": [
    "d_instrument_data, d_instrument = loadPacakgeData(verbose=2)\n",
    "\n",
    "d_instrument"
   ]
  },
  {
   "cell_type": "code",
   "execution_count": 3,
   "metadata": {},
   "outputs": [
    {
     "name": "stderr",
     "output_type": "stream",
     "text": [
      "2022-03-04 21:21:45,164 INFO Keys of d_instrument_data: dict_keys(['EEMA', 'IEV', 'IVV', 'VPL'])\n",
      "2022-03-04 21:21:45,169 INFO IVV (SP500 ETF): \n",
      "        date       open       high        low      close  close_adj   volume\n",
      "0 2000-05-19  142.65625  142.65625  140.25000  140.68750  94.121216   775500\n",
      "1 2000-05-22  140.59375  140.59375  136.81250  139.81250  93.535789  1850600\n",
      "2 2000-05-23  140.21875  140.21875  137.68750  137.68750  92.114151   373900\n",
      "3 2000-05-24  137.75000  140.06250  136.65625  139.75000  93.494003   400300\n",
      "4 2000-05-25  140.03125  140.93750  137.87500  138.46875  92.636810    69600\n",
      "\n"
     ]
    }
   ],
   "source": [
    "logPrint(\"Keys of d_instrument_data:\", str(d_instrument_data.keys()))\n",
    "\n",
    "logPrint(\"IVV (SP500 ETF):\", d_instrument_data['IVV'].head())"
   ]
  },
  {
   "cell_type": "markdown",
   "metadata": {},
   "source": [
    "### Back Test - the Basic Idea\n",
    "\n",
    "WIP\n",
    "* back test is to understand how your strategy behaves under various scenanios, not to prove your strategy can beat xxx.\n",
    "* most investment products are not built to beat xxx.\n",
    "* historical performance cannot represent future performance.\n"
   ]
  },
  {
   "cell_type": "markdown",
   "metadata": {},
   "source": [
    "### Back Test - WIP"
   ]
  },
  {
   "cell_type": "code",
   "execution_count": 21,
   "metadata": {},
   "outputs": [],
   "source": [
    "price_col = 'close_adj'\n",
    "end_date = None # '2022-01-31'\n",
    "backtest_years = 10\n",
    "minimum_training_years = 5\n",
    "maximum_training_years = 10\n",
    "verbose = 2\n",
    "printfunc = print\n",
    "\n",
    "import pandas as pd\n"
   ]
  },
  {
   "cell_type": "code",
   "execution_count": 22,
   "metadata": {},
   "outputs": [
    {
     "name": "stdout",
     "output_type": "stream",
     "text": [
      "To backtest 10 years, from 2012-02-28 to 2022-02-28\n"
     ]
    }
   ],
   "source": [
    "if end_date is None:\n",
    "    backtest_end_date = None\n",
    "    for ticker, df_price in d_instrument_data.items():\n",
    "        if backtest_end_date is None:\n",
    "            backtest_end_date = df_price['date'].max()\n",
    "        else:\n",
    "            backtest_end_date = max(backtest_end_date, df_price['date'].max())\n",
    "else:\n",
    "    backtest_end_date = pd.to_datetime(end_date)\n",
    "\n",
    "backtest_start_date = backtest_end_date - pd.DateOffset(years=backtest_years)\n",
    "if verbose > 0: printfunc(f\"To backtest {backtest_years} years, from {backtest_start_date.date()} to {backtest_end_date.date()}\")"
   ]
  },
  {
   "cell_type": "code",
   "execution_count": 29,
   "metadata": {},
   "outputs": [
    {
     "data": {
      "text/plain": [
       "(Timestamp('2002-02-28 00:00:00'), Timestamp('2007-02-28 00:00:00'))"
      ]
     },
     "execution_count": 29,
     "metadata": {},
     "output_type": "execute_result"
    }
   ],
   "source": [
    "max_start_date = backtest_start_date - pd.DateOffset(years=minimum_training_years)\n",
    "min_start_date = backtest_start_date - pd.DateOffset(years=maximum_training_years)\n",
    "\n",
    "min_start_date, max_start_date"
   ]
  },
  {
   "cell_type": "code",
   "execution_count": 28,
   "metadata": {},
   "outputs": [
    {
     "name": "stdout",
     "output_type": "stream",
     "text": [
      "EEMA start date 2012-02-09 is beyond 2007-02-28 for full backtest.\n"
     ]
    },
    {
     "data": {
      "text/html": [
       "<div>\n",
       "<style scoped>\n",
       "    .dataframe tbody tr th:only-of-type {\n",
       "        vertical-align: middle;\n",
       "    }\n",
       "\n",
       "    .dataframe tbody tr th {\n",
       "        vertical-align: top;\n",
       "    }\n",
       "\n",
       "    .dataframe thead th {\n",
       "        text-align: right;\n",
       "    }\n",
       "</style>\n",
       "<table border=\"1\" class=\"dataframe\">\n",
       "  <thead>\n",
       "    <tr style=\"text-align: right;\">\n",
       "      <th></th>\n",
       "      <th>date</th>\n",
       "      <th>price_EEMA</th>\n",
       "      <th>price_IEV</th>\n",
       "      <th>price_IVV</th>\n",
       "      <th>price_VPL</th>\n",
       "    </tr>\n",
       "    <tr>\n",
       "      <th>date</th>\n",
       "      <th></th>\n",
       "      <th></th>\n",
       "      <th></th>\n",
       "      <th></th>\n",
       "      <th></th>\n",
       "    </tr>\n",
       "  </thead>\n",
       "  <tbody>\n",
       "    <tr>\n",
       "      <th>2007-02-28</th>\n",
       "      <td>2007-02-28</td>\n",
       "      <td>NaN</td>\n",
       "      <td>33.662262</td>\n",
       "      <td>105.162704</td>\n",
       "      <td>45.376842</td>\n",
       "    </tr>\n",
       "    <tr>\n",
       "      <th>2007-03-01</th>\n",
       "      <td>2007-03-01</td>\n",
       "      <td>NaN</td>\n",
       "      <td>33.219002</td>\n",
       "      <td>104.790573</td>\n",
       "      <td>45.079662</td>\n",
       "    </tr>\n",
       "    <tr>\n",
       "      <th>2007-03-02</th>\n",
       "      <td>2007-03-02</td>\n",
       "      <td>NaN</td>\n",
       "      <td>32.785374</td>\n",
       "      <td>103.503021</td>\n",
       "      <td>44.313572</td>\n",
       "    </tr>\n",
       "    <tr>\n",
       "      <th>2007-03-05</th>\n",
       "      <td>2007-03-05</td>\n",
       "      <td>NaN</td>\n",
       "      <td>32.120483</td>\n",
       "      <td>102.416382</td>\n",
       "      <td>43.580528</td>\n",
       "    </tr>\n",
       "    <tr>\n",
       "      <th>2007-03-06</th>\n",
       "      <td>2007-03-06</td>\n",
       "      <td>NaN</td>\n",
       "      <td>33.007000</td>\n",
       "      <td>104.217491</td>\n",
       "      <td>44.874924</td>\n",
       "    </tr>\n",
       "  </tbody>\n",
       "</table>\n",
       "</div>"
      ],
      "text/plain": [
       "                 date  price_EEMA  price_IEV   price_IVV  price_VPL\n",
       "date                                                               \n",
       "2007-02-28 2007-02-28         NaN  33.662262  105.162704  45.376842\n",
       "2007-03-01 2007-03-01         NaN  33.219002  104.790573  45.079662\n",
       "2007-03-02 2007-03-02         NaN  32.785374  103.503021  44.313572\n",
       "2007-03-05 2007-03-05         NaN  32.120483  102.416382  43.580528\n",
       "2007-03-06 2007-03-06         NaN  33.007000  104.217491  44.874924"
      ]
     },
     "execution_count": 28,
     "metadata": {},
     "output_type": "execute_result"
    }
   ],
   "source": [
    "df_instrument_prices = pd.DataFrame()\n",
    "for ticker, df_price in d_instrument_data.items():\n",
    "    if df_price['date'].min() > max_start_date:\n",
    "        printfunc(f\"{ticker} start date {df_price['date'].min().date()} is beyond {max_start_date.date()} for full backtest.\")\n",
    "    \n",
    "    df = df_price[df_price['date']>=max_start_date][['date',price_col]].reset_index(drop=True)\n",
    "    df.rename(columns={price_col:'price_'+ticker}, inplace=True)\n",
    "\n",
    "    if len(df_instrument_prices)==0:\n",
    "        df_instrument_prices = df.copy()\n",
    "        continue\n",
    "    else:\n",
    "        df_instrument_prices = df_instrument_prices.merge(df, 'outer', 'date')\n",
    "\n",
    "df_instrument_prices = df_instrument_prices.sort_values('date').reset_index(drop=True)\n",
    "df_instrument_prices.fillna(method='pad', inplace=True)\n",
    "df_instrument_prices.index = df_instrument_prices['date']\n",
    "\n",
    "df_instrument_prices.head()"
   ]
  },
  {
   "cell_type": "code",
   "execution_count": 26,
   "metadata": {},
   "outputs": [],
   "source": [
    "df_instrument_prices.rolling()"
   ]
  },
  {
   "cell_type": "code",
   "execution_count": null,
   "metadata": {},
   "outputs": [],
   "source": []
  },
  {
   "cell_type": "code",
   "execution_count": null,
   "metadata": {},
   "outputs": [],
   "source": []
  }
 ],
 "metadata": {
  "interpreter": {
   "hash": "1c1a885b6a591ec15507fc84277222a3df93b2df7bfbab7d41ee02a4dac7a176"
  },
  "kernelspec": {
   "display_name": "Python 3 (ipykernel)",
   "language": "python",
   "name": "python3"
  },
  "language_info": {
   "codemirror_mode": {
    "name": "ipython",
    "version": 3
   },
   "file_extension": ".py",
   "mimetype": "text/x-python",
   "name": "python",
   "nbconvert_exporter": "python",
   "pygments_lexer": "ipython3",
   "version": "3.8.8"
  }
 },
 "nbformat": 4,
 "nbformat_minor": 2
}
